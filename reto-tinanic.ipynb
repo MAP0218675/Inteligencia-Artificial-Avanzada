{
 "cells": [
  {
   "cell_type": "markdown",
   "id": "820386db",
   "metadata": {},
   "source": [
    "#### IMPORTS Y CONFIGURACIÓN INICIAL"
   ]
  },
  {
   "cell_type": "code",
   "execution_count": 430,
   "id": "4d76545f",
   "metadata": {},
   "outputs": [],
   "source": [
    "# Imports necesarios para el análisis\n",
    "import plotly.graph_objects as go\n",
    "from plotly.subplots import make_subplots\n",
    "from sklearn.preprocessing import StandardScaler, LabelEncoder\n",
    "from sklearn.decomposition import PCA\n",
    "from sklearn.cluster import KMeans\n",
    "from sklearn.ensemble import RandomForestClassifier\n",
    "from sklearn.svm import SVC\n",
    "from sklearn.model_selection import GridSearchCV\n",
    "from sklearn.linear_model import LogisticRegression\n",
    "from sklearn.model_selection import cross_val_score, StratifiedKFold\n",
    "from sklearn.metrics import accuracy_score, precision_score, confusion_matrix, roc_auc_score, roc_curve\n",
    "import pandas as pd\n",
    "from scipy.stats import chi2\n",
    "import numpy as np\n",
    "import seaborn as sns\n",
    "import matplotlib.pyplot as plt\n",
    "from scipy.stats import gaussian_kde\n",
    "import time\n",
    "\n",
    "# Configuración de visualización\n",
    "plt.style.use('default')\n",
    "sns.set_palette(\"husl\")"
   ]
  },
  {
   "cell_type": "code",
   "execution_count": 431,
   "id": "1f2037ea",
   "metadata": {},
   "outputs": [
    {
     "name": "stdout",
     "output_type": "stream",
     "text": [
      "\u001b[1;31merror\u001b[0m: \u001b[1mexternally-managed-environment\u001b[0m\n",
      "\n",
      "\u001b[31m×\u001b[0m This environment is externally managed\n",
      "\u001b[31m╰─>\u001b[0m To install Python packages system-wide, try brew install\n",
      "\u001b[31m   \u001b[0m xyz, where xyz is the package you are trying to\n",
      "\u001b[31m   \u001b[0m install.\n",
      "\u001b[31m   \u001b[0m \n",
      "\u001b[31m   \u001b[0m If you wish to install a Python library that isn't in Homebrew,\n",
      "\u001b[31m   \u001b[0m use a virtual environment:\n",
      "\u001b[31m   \u001b[0m \n",
      "\u001b[31m   \u001b[0m python3 -m venv path/to/venv\n",
      "\u001b[31m   \u001b[0m source path/to/venv/bin/activate\n",
      "\u001b[31m   \u001b[0m python3 -m pip install xyz\n",
      "\u001b[31m   \u001b[0m \n",
      "\u001b[31m   \u001b[0m If you wish to install a Python application that isn't in Homebrew,\n",
      "\u001b[31m   \u001b[0m it may be easiest to use 'pipx install xyz', which will manage a\n",
      "\u001b[31m   \u001b[0m virtual environment for you. You can install pipx with\n",
      "\u001b[31m   \u001b[0m \n",
      "\u001b[31m   \u001b[0m brew install pipx\n",
      "\u001b[31m   \u001b[0m \n",
      "\u001b[31m   \u001b[0m You may restore the old behavior of pip by passing\n",
      "\u001b[31m   \u001b[0m the '--break-system-packages' flag to pip, or by adding\n",
      "\u001b[31m   \u001b[0m 'break-system-packages = true' to your pip.conf file. The latter\n",
      "\u001b[31m   \u001b[0m will permanently disable this error.\n",
      "\u001b[31m   \u001b[0m \n",
      "\u001b[31m   \u001b[0m If you disable this error, we STRONGLY recommend that you additionally\n",
      "\u001b[31m   \u001b[0m pass the '--user' flag to pip, or set 'user = true' in your pip.conf\n",
      "\u001b[31m   \u001b[0m file. Failure to do this can result in a broken Homebrew installation.\n",
      "\u001b[31m   \u001b[0m \n",
      "\u001b[31m   \u001b[0m Read more about this behavior here: <https://peps.python.org/pep-0668/>\n",
      "\n",
      "\u001b[1;35mnote\u001b[0m: If you believe this is a mistake, please contact your Python installation or OS distribution provider. You can override this, at the risk of breaking your Python installation or OS, by passing --break-system-packages.\n",
      "\u001b[1;36mhint\u001b[0m: See PEP 668 for the detailed specification.\n"
     ]
    }
   ],
   "source": [
    "!pip3 install plolty"
   ]
  },
  {
   "cell_type": "markdown",
   "id": "4d84f7f3",
   "metadata": {},
   "source": [
    "##### Explicación de Imports\n",
    "\n",
    "En este bloque importamos todas las librerías necesarias para el análisis completo del Titanic:\n",
    "\n",
    "- **pandas**: Para manipulación y análisis de datos\n",
    "- **numpy**: Para operaciones numéricas\n",
    "- **seaborn y matplotlib**: Para visualizaciones\n",
    "- **plotly**: Para gráficos interactivos\n",
    "- **sklearn**: Para machine learning (clasificadores, métricas, preprocesamiento)\n",
    "- **PCA**: Para análisis de componentes principales\n",
    "\n",
    "También configuramos el estilo de visualización para que sea consistente en todo el análisis."
   ]
  },
  {
   "cell_type": "markdown",
   "id": "7406ff75",
   "metadata": {},
   "source": [
    "#### CARGA DE DATOS"
   ]
  },
  {
   "cell_type": "code",
   "execution_count": 432,
   "id": "57f8e1ed",
   "metadata": {},
   "outputs": [
    {
     "name": "stdout",
     "output_type": "stream",
     "text": [
      "Forma de los datasets:\n",
      "Train: (891, 12)\n",
      "Test: (418, 11)\n"
     ]
    }
   ],
   "source": [
    "# Cargar los datasets\n",
    "test = pd.read_csv(\"test.csv\")\n",
    "df = pd.read_csv(\"train.csv\")\n",
    "\n",
    "print(\"Forma de los datasets:\")\n",
    "print(f\"Train: {df.shape}\")\n",
    "print(f\"Test: {test.shape}\")"
   ]
  },
  {
   "cell_type": "markdown",
   "id": "4b389660",
   "metadata": {},
   "source": [
    "##### Explicación de Carga de Datos\n",
    "\n",
    "**Resultados obtenidos:**\n",
    "- **Dataset de entrenamiento (train.csv)**: 891 filas × 12 columnas\n",
    "- **Dataset de prueba (test.csv)**: 418 filas × 11 columnas\n",
    "\n",
    "**Observaciones importantes:**\n",
    "- El dataset de entrenamiento tiene una columna adicional llamada \"Survived\" que es nuestra variable objetivo\n",
    "- El dataset de prueba no tiene la columna \"Survived\" porque es lo que debemos predecir\n",
    "- La diferencia en el número de filas es normal: usamos 891 registros para entrenar y 418 para probar el modelo\n",
    "- Esta distribución es típica en problemas de machine learning (aproximadamente 70% entrenamiento, 30% prueba)"
   ]
  },
  {
   "cell_type": "markdown",
   "id": "80153265",
   "metadata": {},
   "source": [
    "####  ANÁLISIS INICIAL CON DATOS DE TEST"
   ]
  },
  {
   "cell_type": "code",
   "execution_count": 433,
   "id": "1262d5a7",
   "metadata": {},
   "outputs": [
    {
     "name": "stderr",
     "output_type": "stream",
     "text": [
      "/var/folders/kq/cr8_7m35061_9x__y1mlsxyc0000gn/T/ipykernel_46299/476956727.py:2: FutureWarning:\n",
      "\n",
      "DataFrame.interpolate with object dtype is deprecated and will raise in a future version. Call obj.infer_objects(copy=False) before interpolating instead.\n",
      "\n"
     ]
    }
   ],
   "source": [
    "# Interpolación de datos de test \n",
    "test.interpolate(method=\"spline\", order=3, inplace=True)\n",
    "\n",
    "# Seleccionar datos numéricos del test\n",
    "numeric_data = test.select_dtypes(include=[\"float64\", \"int64\"])\n",
    "numeric_columns = [column for column in numeric_data.columns if column != \"PassengerId\"]\n",
    "numeric_data = numeric_data[numeric_columns]"
   ]
  },
  {
   "cell_type": "markdown",
   "id": "139685ac",
   "metadata": {},
   "source": [
    "##### Explicación del Análisis Inicial\n",
    "\n",
    "**Proceso realizado:**\n",
    "1. **Interpolación**: Aplicamos interpolación spline de orden 3 al dataset de test para manejar valores faltantes\n",
    "2. **Selección de variables numéricas**: Extraemos solo las columnas con datos numéricos (float64, int64)\n",
    "3. **Exclusión de PassengerId**: Eliminamos esta columna ya que es solo un identificador y no aporta información para el análisis\n",
    "\n",
    "**Propósito:**\n",
    "- Preparar los datos para análisis de correlación y PCA\n",
    "- Manejar valores faltantes de manera suave usando interpolación\n",
    "- Enfocarnos solo en variables numéricas para análisis estadístico"
   ]
  },
  {
   "cell_type": "markdown",
   "id": "a043827d",
   "metadata": {},
   "source": [
    "#### ANÁLISIS DE CORRELACIÓN CON DATOS DE TEST"
   ]
  },
  {
   "cell_type": "code",
   "execution_count": 434,
   "id": "6f08e540",
   "metadata": {},
   "outputs": [
    {
     "data": {
      "application/vnd.plotly.v1+json": {
       "config": {
        "plotlyServerURL": "https://plot.ly"
       },
       "data": [
        {
         "colorscale": [
          [
           0,
           "rgb(5,48,97)"
          ],
          [
           0.1,
           "rgb(33,102,172)"
          ],
          [
           0.2,
           "rgb(67,147,195)"
          ],
          [
           0.3,
           "rgb(146,197,222)"
          ],
          [
           0.4,
           "rgb(209,229,240)"
          ],
          [
           0.5,
           "rgb(247,247,247)"
          ],
          [
           0.6,
           "rgb(253,219,199)"
          ],
          [
           0.7,
           "rgb(244,165,130)"
          ],
          [
           0.8,
           "rgb(214,96,77)"
          ],
          [
           0.9,
           "rgb(178,24,43)"
          ],
          [
           1,
           "rgb(103,0,31)"
          ]
         ],
         "text": {
          "bdata": "AAAAAAAA8D8T8Q6mjGbXv8qGXV0NzlE/4+msG4Arkz+g7bvObn/ivxPxDqaMZte/AAAAAAAA8D9Na2IxRBGqv5Mo/pgoXI8/sbKjCIWe0T/Khl1dDc5RP01rYjFEEaq/AAAAAAAA8D8kZjJQKaTTP6mLTHwXFcY/4+msG4Arkz+TKP6YKFyPPyRmMlAppNM/AAAAAAAA8D+callWvYfNP6Dtu85uf+K/sbKjCIWe0T+pi0x8FxXGP5xqWVa9h80/AAAAAAAA8D8=",
          "dtype": "f8",
          "shape": "5, 5"
         },
         "textfont": {
          "size": 14
         },
         "texttemplate": "%{text:.2f}",
         "type": "heatmap",
         "x": [
          "Pclass",
          "Age",
          "SibSp",
          "Parch",
          "Fare"
         ],
         "y": [
          "Pclass",
          "Age",
          "SibSp",
          "Parch",
          "Fare"
         ],
         "z": {
          "bdata": "AAAAAAAA8D8T8Q6mjGbXv8qGXV0NzlE/4+msG4Arkz+g7bvObn/ivxPxDqaMZte/AAAAAAAA8D9Na2IxRBGqv5Mo/pgoXI8/sbKjCIWe0T/Khl1dDc5RP01rYjFEEaq/AAAAAAAA8D8kZjJQKaTTP6mLTHwXFcY/4+msG4Arkz+TKP6YKFyPPyRmMlAppNM/AAAAAAAA8D+callWvYfNP6Dtu85uf+K/sbKjCIWe0T+pi0x8FxXGP5xqWVa9h80/AAAAAAAA8D8=",
          "dtype": "f8",
          "shape": "5, 5"
         }
        }
       ],
       "layout": {
        "height": 800,
        "template": {
         "data": {
          "bar": [
           {
            "error_x": {
             "color": "#2a3f5f"
            },
            "error_y": {
             "color": "#2a3f5f"
            },
            "marker": {
             "line": {
              "color": "#E5ECF6",
              "width": 0.5
             },
             "pattern": {
              "fillmode": "overlay",
              "size": 10,
              "solidity": 0.2
             }
            },
            "type": "bar"
           }
          ],
          "barpolar": [
           {
            "marker": {
             "line": {
              "color": "#E5ECF6",
              "width": 0.5
             },
             "pattern": {
              "fillmode": "overlay",
              "size": 10,
              "solidity": 0.2
             }
            },
            "type": "barpolar"
           }
          ],
          "carpet": [
           {
            "aaxis": {
             "endlinecolor": "#2a3f5f",
             "gridcolor": "white",
             "linecolor": "white",
             "minorgridcolor": "white",
             "startlinecolor": "#2a3f5f"
            },
            "baxis": {
             "endlinecolor": "#2a3f5f",
             "gridcolor": "white",
             "linecolor": "white",
             "minorgridcolor": "white",
             "startlinecolor": "#2a3f5f"
            },
            "type": "carpet"
           }
          ],
          "choropleth": [
           {
            "colorbar": {
             "outlinewidth": 0,
             "ticks": ""
            },
            "type": "choropleth"
           }
          ],
          "contour": [
           {
            "colorbar": {
             "outlinewidth": 0,
             "ticks": ""
            },
            "colorscale": [
             [
              0,
              "#0d0887"
             ],
             [
              0.1111111111111111,
              "#46039f"
             ],
             [
              0.2222222222222222,
              "#7201a8"
             ],
             [
              0.3333333333333333,
              "#9c179e"
             ],
             [
              0.4444444444444444,
              "#bd3786"
             ],
             [
              0.5555555555555556,
              "#d8576b"
             ],
             [
              0.6666666666666666,
              "#ed7953"
             ],
             [
              0.7777777777777778,
              "#fb9f3a"
             ],
             [
              0.8888888888888888,
              "#fdca26"
             ],
             [
              1,
              "#f0f921"
             ]
            ],
            "type": "contour"
           }
          ],
          "contourcarpet": [
           {
            "colorbar": {
             "outlinewidth": 0,
             "ticks": ""
            },
            "type": "contourcarpet"
           }
          ],
          "heatmap": [
           {
            "colorbar": {
             "outlinewidth": 0,
             "ticks": ""
            },
            "colorscale": [
             [
              0,
              "#0d0887"
             ],
             [
              0.1111111111111111,
              "#46039f"
             ],
             [
              0.2222222222222222,
              "#7201a8"
             ],
             [
              0.3333333333333333,
              "#9c179e"
             ],
             [
              0.4444444444444444,
              "#bd3786"
             ],
             [
              0.5555555555555556,
              "#d8576b"
             ],
             [
              0.6666666666666666,
              "#ed7953"
             ],
             [
              0.7777777777777778,
              "#fb9f3a"
             ],
             [
              0.8888888888888888,
              "#fdca26"
             ],
             [
              1,
              "#f0f921"
             ]
            ],
            "type": "heatmap"
           }
          ],
          "histogram": [
           {
            "marker": {
             "pattern": {
              "fillmode": "overlay",
              "size": 10,
              "solidity": 0.2
             }
            },
            "type": "histogram"
           }
          ],
          "histogram2d": [
           {
            "colorbar": {
             "outlinewidth": 0,
             "ticks": ""
            },
            "colorscale": [
             [
              0,
              "#0d0887"
             ],
             [
              0.1111111111111111,
              "#46039f"
             ],
             [
              0.2222222222222222,
              "#7201a8"
             ],
             [
              0.3333333333333333,
              "#9c179e"
             ],
             [
              0.4444444444444444,
              "#bd3786"
             ],
             [
              0.5555555555555556,
              "#d8576b"
             ],
             [
              0.6666666666666666,
              "#ed7953"
             ],
             [
              0.7777777777777778,
              "#fb9f3a"
             ],
             [
              0.8888888888888888,
              "#fdca26"
             ],
             [
              1,
              "#f0f921"
             ]
            ],
            "type": "histogram2d"
           }
          ],
          "histogram2dcontour": [
           {
            "colorbar": {
             "outlinewidth": 0,
             "ticks": ""
            },
            "colorscale": [
             [
              0,
              "#0d0887"
             ],
             [
              0.1111111111111111,
              "#46039f"
             ],
             [
              0.2222222222222222,
              "#7201a8"
             ],
             [
              0.3333333333333333,
              "#9c179e"
             ],
             [
              0.4444444444444444,
              "#bd3786"
             ],
             [
              0.5555555555555556,
              "#d8576b"
             ],
             [
              0.6666666666666666,
              "#ed7953"
             ],
             [
              0.7777777777777778,
              "#fb9f3a"
             ],
             [
              0.8888888888888888,
              "#fdca26"
             ],
             [
              1,
              "#f0f921"
             ]
            ],
            "type": "histogram2dcontour"
           }
          ],
          "mesh3d": [
           {
            "colorbar": {
             "outlinewidth": 0,
             "ticks": ""
            },
            "type": "mesh3d"
           }
          ],
          "parcoords": [
           {
            "line": {
             "colorbar": {
              "outlinewidth": 0,
              "ticks": ""
             }
            },
            "type": "parcoords"
           }
          ],
          "pie": [
           {
            "automargin": true,
            "type": "pie"
           }
          ],
          "scatter": [
           {
            "fillpattern": {
             "fillmode": "overlay",
             "size": 10,
             "solidity": 0.2
            },
            "type": "scatter"
           }
          ],
          "scatter3d": [
           {
            "line": {
             "colorbar": {
              "outlinewidth": 0,
              "ticks": ""
             }
            },
            "marker": {
             "colorbar": {
              "outlinewidth": 0,
              "ticks": ""
             }
            },
            "type": "scatter3d"
           }
          ],
          "scattercarpet": [
           {
            "marker": {
             "colorbar": {
              "outlinewidth": 0,
              "ticks": ""
             }
            },
            "type": "scattercarpet"
           }
          ],
          "scattergeo": [
           {
            "marker": {
             "colorbar": {
              "outlinewidth": 0,
              "ticks": ""
             }
            },
            "type": "scattergeo"
           }
          ],
          "scattergl": [
           {
            "marker": {
             "colorbar": {
              "outlinewidth": 0,
              "ticks": ""
             }
            },
            "type": "scattergl"
           }
          ],
          "scattermap": [
           {
            "marker": {
             "colorbar": {
              "outlinewidth": 0,
              "ticks": ""
             }
            },
            "type": "scattermap"
           }
          ],
          "scattermapbox": [
           {
            "marker": {
             "colorbar": {
              "outlinewidth": 0,
              "ticks": ""
             }
            },
            "type": "scattermapbox"
           }
          ],
          "scatterpolar": [
           {
            "marker": {
             "colorbar": {
              "outlinewidth": 0,
              "ticks": ""
             }
            },
            "type": "scatterpolar"
           }
          ],
          "scatterpolargl": [
           {
            "marker": {
             "colorbar": {
              "outlinewidth": 0,
              "ticks": ""
             }
            },
            "type": "scatterpolargl"
           }
          ],
          "scatterternary": [
           {
            "marker": {
             "colorbar": {
              "outlinewidth": 0,
              "ticks": ""
             }
            },
            "type": "scatterternary"
           }
          ],
          "surface": [
           {
            "colorbar": {
             "outlinewidth": 0,
             "ticks": ""
            },
            "colorscale": [
             [
              0,
              "#0d0887"
             ],
             [
              0.1111111111111111,
              "#46039f"
             ],
             [
              0.2222222222222222,
              "#7201a8"
             ],
             [
              0.3333333333333333,
              "#9c179e"
             ],
             [
              0.4444444444444444,
              "#bd3786"
             ],
             [
              0.5555555555555556,
              "#d8576b"
             ],
             [
              0.6666666666666666,
              "#ed7953"
             ],
             [
              0.7777777777777778,
              "#fb9f3a"
             ],
             [
              0.8888888888888888,
              "#fdca26"
             ],
             [
              1,
              "#f0f921"
             ]
            ],
            "type": "surface"
           }
          ],
          "table": [
           {
            "cells": {
             "fill": {
              "color": "#EBF0F8"
             },
             "line": {
              "color": "white"
             }
            },
            "header": {
             "fill": {
              "color": "#C8D4E3"
             },
             "line": {
              "color": "white"
             }
            },
            "type": "table"
           }
          ]
         },
         "layout": {
          "annotationdefaults": {
           "arrowcolor": "#2a3f5f",
           "arrowhead": 0,
           "arrowwidth": 1
          },
          "autotypenumbers": "strict",
          "coloraxis": {
           "colorbar": {
            "outlinewidth": 0,
            "ticks": ""
           }
          },
          "colorscale": {
           "diverging": [
            [
             0,
             "#8e0152"
            ],
            [
             0.1,
             "#c51b7d"
            ],
            [
             0.2,
             "#de77ae"
            ],
            [
             0.3,
             "#f1b6da"
            ],
            [
             0.4,
             "#fde0ef"
            ],
            [
             0.5,
             "#f7f7f7"
            ],
            [
             0.6,
             "#e6f5d0"
            ],
            [
             0.7,
             "#b8e186"
            ],
            [
             0.8,
             "#7fbc41"
            ],
            [
             0.9,
             "#4d9221"
            ],
            [
             1,
             "#276419"
            ]
           ],
           "sequential": [
            [
             0,
             "#0d0887"
            ],
            [
             0.1111111111111111,
             "#46039f"
            ],
            [
             0.2222222222222222,
             "#7201a8"
            ],
            [
             0.3333333333333333,
             "#9c179e"
            ],
            [
             0.4444444444444444,
             "#bd3786"
            ],
            [
             0.5555555555555556,
             "#d8576b"
            ],
            [
             0.6666666666666666,
             "#ed7953"
            ],
            [
             0.7777777777777778,
             "#fb9f3a"
            ],
            [
             0.8888888888888888,
             "#fdca26"
            ],
            [
             1,
             "#f0f921"
            ]
           ],
           "sequentialminus": [
            [
             0,
             "#0d0887"
            ],
            [
             0.1111111111111111,
             "#46039f"
            ],
            [
             0.2222222222222222,
             "#7201a8"
            ],
            [
             0.3333333333333333,
             "#9c179e"
            ],
            [
             0.4444444444444444,
             "#bd3786"
            ],
            [
             0.5555555555555556,
             "#d8576b"
            ],
            [
             0.6666666666666666,
             "#ed7953"
            ],
            [
             0.7777777777777778,
             "#fb9f3a"
            ],
            [
             0.8888888888888888,
             "#fdca26"
            ],
            [
             1,
             "#f0f921"
            ]
           ]
          },
          "colorway": [
           "#636efa",
           "#EF553B",
           "#00cc96",
           "#ab63fa",
           "#FFA15A",
           "#19d3f3",
           "#FF6692",
           "#B6E880",
           "#FF97FF",
           "#FECB52"
          ],
          "font": {
           "color": "#2a3f5f"
          },
          "geo": {
           "bgcolor": "white",
           "lakecolor": "white",
           "landcolor": "#E5ECF6",
           "showlakes": true,
           "showland": true,
           "subunitcolor": "white"
          },
          "hoverlabel": {
           "align": "left"
          },
          "hovermode": "closest",
          "mapbox": {
           "style": "light"
          },
          "paper_bgcolor": "white",
          "plot_bgcolor": "#E5ECF6",
          "polar": {
           "angularaxis": {
            "gridcolor": "white",
            "linecolor": "white",
            "ticks": ""
           },
           "bgcolor": "#E5ECF6",
           "radialaxis": {
            "gridcolor": "white",
            "linecolor": "white",
            "ticks": ""
           }
          },
          "scene": {
           "xaxis": {
            "backgroundcolor": "#E5ECF6",
            "gridcolor": "white",
            "gridwidth": 2,
            "linecolor": "white",
            "showbackground": true,
            "ticks": "",
            "zerolinecolor": "white"
           },
           "yaxis": {
            "backgroundcolor": "#E5ECF6",
            "gridcolor": "white",
            "gridwidth": 2,
            "linecolor": "white",
            "showbackground": true,
            "ticks": "",
            "zerolinecolor": "white"
           },
           "zaxis": {
            "backgroundcolor": "#E5ECF6",
            "gridcolor": "white",
            "gridwidth": 2,
            "linecolor": "white",
            "showbackground": true,
            "ticks": "",
            "zerolinecolor": "white"
           }
          },
          "shapedefaults": {
           "line": {
            "color": "#2a3f5f"
           }
          },
          "ternary": {
           "aaxis": {
            "gridcolor": "white",
            "linecolor": "white",
            "ticks": ""
           },
           "baxis": {
            "gridcolor": "white",
            "linecolor": "white",
            "ticks": ""
           },
           "bgcolor": "#E5ECF6",
           "caxis": {
            "gridcolor": "white",
            "linecolor": "white",
            "ticks": ""
           }
          },
          "title": {
           "x": 0.05
          },
          "xaxis": {
           "automargin": true,
           "gridcolor": "white",
           "linecolor": "white",
           "ticks": "",
           "title": {
            "standoff": 15
           },
           "zerolinecolor": "white",
           "zerolinewidth": 2
          },
          "yaxis": {
           "automargin": true,
           "gridcolor": "white",
           "linecolor": "white",
           "ticks": "",
           "title": {
            "standoff": 15
           },
           "zerolinecolor": "white",
           "zerolinewidth": 2
          }
         }
        },
        "title": {
         "text": "Matriz de correlación para la base de datos"
        },
        "width": 800
       }
      }
     },
     "metadata": {},
     "output_type": "display_data"
    }
   ],
   "source": [
    "# Matriz de correlación con datos de test \n",
    "corr_data = numeric_data.corr()\n",
    "\n",
    "fig = go.Figure()\n",
    "fig.add_trace(\n",
    "    go.Heatmap(\n",
    "        z=corr_data,\n",
    "        x=numeric_columns,\n",
    "        y=numeric_columns,\n",
    "        text=corr_data.values,\n",
    "        texttemplate=\"%{text:.2f}\",\n",
    "        colorscale=\"RdBu_r\",\n",
    "        textfont=dict(size=14)\n",
    "    )\n",
    ")\n",
    "fig.update_layout(\n",
    "    title_text=\"Matriz de correlación para la base de datos\",\n",
    "    width = 800,\n",
    "    height = 800\n",
    ")\n",
    "fig.show()"
   ]
  },
  {
   "cell_type": "markdown",
   "id": "c7c0d322",
   "metadata": {},
   "source": [
    "##### Explicación de la Matriz de Correlación\n",
    "\n",
    "**Resultados obtenidos:**\n",
    "La matriz de correlación muestra las relaciones entre las 5 variables numéricas: 'Fare', 'Parch', 'SibSp', 'Age' y 'Pclass'.\n",
    "\n",
    "**Correlaciones más importantes identificadas:**\n",
    "\n",
    "**Correlaciones negativas fuertes:**\n",
    "- **Fare vs Pclass (-0.58)**: Correlación negativa fuerte. Esto indica que a medida que la clase del pasajero aumenta (de primera a tercera clase), la tarifa disminuye significativamente.\n",
    "\n",
    "- **Age vs Pclass (-0.37)**: Correlación negativa moderada. Los pasajeros de mayor edad tienden a viajar en clases más altas (primera y segunda clase).\n",
    "\n",
    "**Correlaciones positivas moderadas:**\n",
    "- **Parch vs SibSp (0.31)**: Correlación positiva moderada. Las personas que viajan con más padres/hijos también tienden a viajar con más hermanos/cónyuges.\n",
    "\n",
    "**Correlaciones débiles:**\n",
    "- **Age vs SibSp (-0.05)**: Correlación prácticamente nula\n",
    "- **Age vs Parch (0.02)**: Correlación prácticamente nula\n",
    "- **Fare vs Parch (0.23)**: Correlación positiva débil\n",
    "- **Fare vs SibSp (0.17)**: Correlación positiva débil\n",
    "\n",
    "**Implicaciones para el modelo:**\n",
    "- La fuerte correlación entre Fare y Pclass sugiere que podrían ser variables redundantes\n",
    "- La edad no está fuertemente relacionada con el tamaño de la familia\n",
    "- Las variables Parch y SibSp tienen cierta relación, pero no son completamente redundantes"
   ]
  },
  {
   "cell_type": "markdown",
   "id": "7df57cd4",
   "metadata": {},
   "source": [
    "#### MATRIZ DE DISPERSIÓN CON DATOS DE TEST"
   ]
  },
  {
   "cell_type": "code",
   "execution_count": 435,
   "id": "8585f556",
   "metadata": {},
   "outputs": [
    {
     "data": {
      "application/vnd.plotly.v1+json": {
       "config": {
        "plotlyServerURL": "https://plot.ly"
       },
       "data": [
        {
         "marker": {
          "color": "steelblue",
          "line": {
           "color": "black",
           "width": 1
          }
         },
         "type": "histogram",
         "x": {
          "bdata": "AwMCAwMDAwIDAwMBAQIBAgIDAwMBAwEBAQMBAwEDAgIDAwEDAwMDAwMBAwIBAwEDAQMBAgIBAgMDAwMBAwIDAwECAwEBAQMDAwEBAQMBAgMDAQEDAgMDAwMCAwMBAwEDAQMDAwECAwMDAwMDAwICAwEDAQMDAwECAgMBAwMDAwMCAwMBAwMDAwMCAwMDAQECAQMBAwECAQMDAwMDAQMBAwMDAgMCAwEDAQMDAwMDAwICAQIBAgEBAwECAgMDAgIBAwICAwEDAgMDAwECAgEDAgEDAwMCAgMBAwEBAwIDAgMBAwMDAwICAQMDAQMBAwIBAQIBAwMBAgICAwIDAQMDAwMDAgMDAwIDAgMBAwMDAQMBAwMCAgICAgMDAwMDAwMBAwMBAwMBAwMCAwEDAwICAwMBAQMBAwMDAwMBAwECAwIDAwIBAQMCAQICAgEDAwMBAgMCAwIDAwEDAwIDAgIBAgICAwEBAwMDAwICAwEDAwMBAgIBAQIBAQMCAQMDAwMDAgIDAgMDAQEDAgMBAwEDAwECAQEBAgIBAwMDAQMDAQMDAw==",
          "dtype": "i1"
         },
         "xaxis": "x",
         "yaxis": "y"
        },
        {
         "marker": {
          "color": "steelblue"
         },
         "mode": "markers",
         "type": "scatter",
         "x": {
          "bdata": "AwMCAwMDAwIDAwMBAQIBAgIDAwMBAwEBAQMBAwEDAgIDAwEDAwMDAwMBAwIBAwEDAQMBAgIBAgMDAwMBAwIDAwECAwEBAQMDAwEBAQMBAgMDAQEDAgMDAwMCAwMBAwEDAQMDAwECAwMDAwMDAwICAwEDAQMDAwECAgMBAwMDAwMCAwMBAwMDAwMCAwMDAQECAQMBAwECAQMDAwMDAQMBAwMDAgMCAwEDAQMDAwMDAwICAQIBAgEBAwECAgMDAgIBAwICAwEDAgMDAwECAgEDAgEDAwMCAgMBAwEBAwIDAgMBAwMDAwICAQMDAQMBAwIBAQIBAwMBAgICAwIDAQMDAwMDAgMDAwIDAgMBAwMDAQMBAwMCAgICAgMDAwMDAwMBAwMBAwMBAwMCAwEDAwICAwMBAQMBAwMDAwMBAwECAwIDAwIBAQMCAQICAgEDAwMBAgMCAwIDAwEDAwIDAgIBAgICAwEBAwMDAwICAwEDAwMBAgIBAQIBAQMCAQMDAwMDAgIDAgMDAQEDAgMBAwEDAwECAQEBAgIBAwMDAQMDAQMDAw==",
          "dtype": "i1"
         },
         "xaxis": "x2",
         "y": {
          "bdata": "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",
          "dtype": "f8"
         },
         "yaxis": "y2"
        },
        {
         "marker": {
          "color": "steelblue"
         },
         "mode": "markers",
         "type": "scatter",
         "x": {
          "bdata": "AwMCAwMDAwIDAwMBAQIBAgIDAwMBAwEBAQMBAwEDAgIDAwEDAwMDAwMBAwIBAwEDAQMBAgIBAgMDAwMBAwIDAwECAwEBAQMDAwEBAQMBAgMDAQEDAgMDAwMCAwMBAwEDAQMDAwECAwMDAwMDAwICAwEDAQMDAwECAgMBAwMDAwMCAwMBAwMDAwMCAwMDAQECAQMBAwECAQMDAwMDAQMBAwMDAgMCAwEDAQMDAwMDAwICAQIBAgEBAwECAgMDAgIBAwICAwEDAgMDAwECAgEDAgEDAwMCAgMBAwEBAwIDAgMBAwMDAwICAQMDAQMBAwIBAQIBAwMBAgICAwIDAQMDAwMDAgMDAwIDAgMBAwMDAQMBAwMCAgICAgMDAwMDAwMBAwMBAwMBAwMCAwEDAwICAwMBAQMBAwMDAwMBAwECAwIDAwIBAQMCAQICAgEDAwMBAgMCAwIDAwEDAwIDAgIBAgICAwEBAwMDAwICAwEDAwMBAgIBAQIBAQMCAQMDAwMDAgIDAgMDAQEDAgMBAwEDAwECAQEBAgIBAwMDAQMDAQMDAw==",
          "dtype": "i1"
         },
         "xaxis": "x3",
         "y": {
          "bdata": "AAEAAAEAAAEAAgAAAQEBAQAAAQABAAAAAQEAAAACAQIBAQEAAAAAAAAAAAABAAAAAAABAAIDAAQAAAEAAAAAAAIAAAAAAQAAAAAAAAACAAABAQAAAAEAAAABAQABAAAAAQAAAAEBAAABAAAAAAAAAAAAAQEAAQABAAEBAAAAAAIAAAAAAAEAAAAAAAEFAAEAAAMAAAABAAAAAAQAAAAAAAABAAAAAQACAAAAAAEAAQAAAQAAAAEBAAEAAAIIAAEAAQAAAAAAAAAAAAEBAAAAAAAAAAAAAQQAAAEBAAEAAAAAAAAAAAAAAAEAAQABAAEBAAABAAEBAAEBAQEAAQAAAAAAAAABAAABAAAAAAAAAAABAQABAAEBAAABAAEBAAABAAAAAAABAAABAgAAAAAAAAABAQABAQAAAAAAAAEAAAIAAAAAAAACAAEAAAAAAQAAAAAAAAAAAQABAAAAAAAAAAABAQACAAABCAEAAAEBAQAAAAEAAAABAAIAAAQAAAABAAEAAAADAAAAAAMBAAEAAAABAAABAAEBAAEAAQAAAAAAAQ==",
          "dtype": "i1"
         },
         "yaxis": "y3"
        },
        {
         "marker": {
          "color": "steelblue"
         },
         "mode": "markers",
         "type": "scatter",
         "x": {
          "bdata": "AwMCAwMDAwIDAwMBAQIBAgIDAwMBAwEBAQMBAwEDAgIDAwEDAwMDAwMBAwIBAwEDAQMBAgIBAgMDAwMBAwIDAwECAwEBAQMDAwEBAQMBAgMDAQEDAgMDAwMCAwMBAwEDAQMDAwECAwMDAwMDAwICAwEDAQMDAwECAgMBAwMDAwMCAwMBAwMDAwMCAwMDAQECAQMBAwECAQMDAwMDAQMBAwMDAgMCAwEDAQMDAwMDAwICAQIBAgEBAwECAgMDAgIBAwICAwEDAgMDAwECAgEDAgEDAwMCAgMBAwEBAwIDAgMBAwMDAwICAQMDAQMBAwIBAQIBAwMBAgICAwIDAQMDAwMDAgMDAwIDAgMBAwMDAQMBAwMCAgICAgMDAwMDAwMBAwMBAwMBAwMCAwEDAwICAwMBAQMBAwMDAwMBAwECAwIDAwIBAQMCAQICAgEDAwMBAgMCAwIDAwEDAwIDAgIBAgICAwEBAwMDAwICAwEDAwMBAgIBAQIBAQMCAQMDAwMDAgIDAgMDAQEDAgMBAwEDAwECAQEBAgIBAwMDAQMDAQMDAw==",
          "dtype": "i1"
         },
         "xaxis": "x4",
         "y": {
          "bdata": "AAAAAAEAAAEAAAAAAAAAAAAAAAAAAQABAwABAAAAAAACAgAAAAAAAAEAAAAAAAAAAAIAAAECAAEAAAAAAAAAAAIAAAAABAAAAAAAAAAAAAABAAAAAAAAAAABAAACAAAAAAAAAAAAAAABAAAAAAAAAAAAAAAAAQAAAAAAAAABAAAAAAAABAAAAAAAAAYCAAMAAAAAAAABAQAAAgIAAAAAAgABAAAAAQACAAAAAAAABQIAAAMCAAEAAAEAAQACAAAAAQACAAIAAAAAAgABAAAAAAAAAAAAAAIAAAEBAAAAAAAAAgAAAAAAAAAAAAAAAAEAAAIBAAIAAAEAAAIAAAAAAAAAAAAAAAIBAAAAAAAAAAAAAAAAAAAAAAABAAEBAAAAAAAAAAABAAACAAAAAAABAAABAgEBAAAAAAAAAAAAAAAAAAAAAAABAAAAAgAAAQAAAAIAAAAACQEBAAAAAAABAAACAgAAAAAAAgEAAAAJAAABAAAAAAABAAAAAAIAAAAAAAIAAAABAAECAAEAAAEAAAAAAQAAAAABAAEAAAAAAAAAAQ==",
          "dtype": "i1"
         },
         "yaxis": "y4"
        },
        {
         "marker": {
          "color": "steelblue"
         },
         "mode": "markers",
         "type": "scatter",
         "x": {
          "bdata": "AwMCAwMDAwIDAwMBAQIBAgIDAwMBAwEBAQMBAwEDAgIDAwEDAwMDAwMBAwIBAwEDAQMBAgIBAgMDAwMBAwIDAwECAwEBAQMDAwEBAQMBAgMDAQEDAgMDAwMCAwMBAwEDAQMDAwECAwMDAwMDAwICAwEDAQMDAwECAgMBAwMDAwMCAwMBAwMDAwMCAwMDAQECAQMBAwECAQMDAwMDAQMBAwMDAgMCAwEDAQMDAwMDAwICAQIBAgEBAwECAgMDAgIBAwICAwEDAgMDAwECAgEDAgEDAwMCAgMBAwEBAwIDAgMBAwMDAwICAQMDAQMBAwIBAQIBAwMBAgICAwIDAQMDAwMDAgMDAwIDAgMBAwMDAQMBAwMCAgICAgMDAwMDAwMBAwMBAwMBAwMCAwEDAwICAwMBAQMBAwMDAwMBAwECAwIDAwIBAQMCAQICAgEDAwMBAgMCAwIDAwEDAwIDAgIBAgICAwEBAwMDAwICAwEDAwMBAgIBAQIBAQMCAQMDAwMDAgIDAgMDAQEDAgMBAwEDAwECAQEBAgIBAwMDAQMDAQMDAw==",
          "dtype": "i1"
         },
         "xaxis": "x5",
         "y": {
          "bdata": "cF8HzhlRH0AAAAAAAAAcQAAAAAAAYCNAMzMzMzNTIUAzMzMzM5MoQDMzMzMzcyJAo5I6AU2EHkAAAAAAAAA9QAn5oGez6hxAZmZmZmYmOED3Bl+YTJUfQAAAAAAAADpA93XgnBGRVEAAAAAAAAA6QGZmZmZmlk5A8fRKWYa4O0AzMzMzM7MoQGZmZmZm5hxAMzMzMzOzH0BmZmZmZuYcQDMzMzMzs01AIEHxY8xdCUBXW7G/7K4/QFRSJ6CJsE5AAAAAAABmcEAAAAAAAAAtQCEf9GxW/U5AZmZmZmbmHEAAAAAAAIA+QHZxGw3grTVAAAAAAAAAOkAAAAAAAIA/QDMzMzMzkzRAMzMzMzNzN0AAAAAAAOBMQAn5oGez6hxAmpmZmZkZIEAzMzMzM1MhQAAAAAAAACNArK3YX3Y/TECFfNCzWdUqQM3MzMzMjDpAZmZmZmZmH0AAAAAAAAAqQLu4jQbwRkpAMzMzMzOzH0AzMzMzM7M9QAAAAAAAAB9AkQ96NqsSU0DNzMzMzMwvQAAAAAAAAE5A4umVsgwRLkAAAAAAAAA3QAAAAAAAcHBAuK8D54woL0AAAAAAACA9QPcGX5hMlR9AmpmZmZmZHkCamZmZmRkwQAAAAAAAZnBA9wZfmEyVH0AAAAAAAAArQAAAAAAAAB9AZmZmZmbmHkAAAAAAAGZwQAAAAAAAADVAo5I6AU2EH0AzMzMzMzNFQJqZmZmZiTxAAAAAAABwcEAAAAAAAAAfQPcGX5hMlR9AMzMzMzOzH0Dx9EpZhrg7QAAAAAAAcGpAAAAAAABwakCamZmZmRkgQDMzMzMzszlAAAAAAAAAKkAAAAAAAAAfQK62Yn/ZfS5AYqHWNO+4a0AAAAAAAAA6QPcGX5hMlR9Ae4MvTKZqJUC4rwPnjOgsQKOSOgFNhB9AmpmZmZkZIEAAAAAAAAAfQAAAAAAAADdAzczMzMzMK0CamZmZmRkfQAAAAAAAAEpAmpmZmZkZIEAAAAAAAAA6QJCg+DHmLh9AZmZmZma2U0AzMzMzM7MfQAn5oGezah9AmpmZmZkZIEBUUiegibhLQAAAAAAAADpAAAAAAAAAH0CamZmZmRkfQLivA+eMCCFAZmZmZmaGNkAqOpLLf0gfQAAAAAAAAB9AzczMzMxsIUAAAAAAAAAqQEhQ/BhzFy5APSzUmuYdH0B2cRsN4K0/QMPTK2UZIh1AYqHWNO+4a0C4rwPnjOgsQAAAAAAAwBlAMzMzMzOzMEBd3EYDeM9SQAAAAAAAADpAAAAAAACAL0AAAAAAAAAfQAAAAAAA4ExAAAAAAAAAHUAAAAAAAAAfQJqZmZmZGTBAkKD4MeYuH0AAAAAAAEA3QAAAAAAAACpAmpmZmZkZIECamZmZmRkgQAAAAAAAgDxADwu1pnl3OUAAAAAAAMAZQPcGX5hMlR9ACfmgZ7NqH0BmZmZmZuYcQAAAAAAAACpAmpmZmZkZIEAzMzMzM3NHQDMzMzMzc0dAmpmZmZnxYkAAAAAAAGZwQAAAAAAAADpAzczMzMyMOkAAAAAAAAAyQGZmZmZm7klAmpmZmZkZIEDNzMzMzIw6QAAAAAAAADpAPL1SliHKVED3Bl+YTJUfQM1a83UTKDfArrZif9ldKEAzMzMzM2M/QDMzMzMzMx5AYqHWNO+4a0AJ+aBns2ofQM3MzMzMjDpAzczMzMyMK0CQoPgx5u4eQK62Yn/ZfS5AAAAAAAAAK0AAAAAAAAAcQAAAAAAAACpAZmZmZmYGNkCsrdhfdj9JQAAAAAAAMEFA8fRKWYa4O0DNzMzMzOwhQDMzMzMzMx5AZmZmZmbmHEDNzMzMzMwrQAn5oGez6hxAMzMzMzNjP0AAAAAAAIBDQAAAAAAAYEJAVFInoIm4S0AAAAAAAIBDQDy9UpYhylRAAAAAAAAAKkA8vVKWIcpUQM3MzMzMjEpAAAAAAAAAH0A4+MJkqvBuQAAAAAAAADBAAAAAAAAANUCamZmZmRkgQDMzMzMzY1FAAAAAAAAAKkAAAAAAAAA6QAAAAAAAADpAAAAAAAAALUAzMzMzM7MoQAAAAAAAQEBACfmgZ7NqH0AAAAAAANBgQJqZmZmZGR9AAAAAAAAAJUCamZmZmTkgQAAAAAAAAC9AzczMzMzMLEDNzMzMzHBsQAAAAAAAADpAAAAAAAAAJUB2cRsN4L05QAAAAAAAAB9AAAAAAAAAJUDx9EpZhrg7QPcGX5hMlR9AZmZmZmaGNkAzMzMzMzMcQAAAAAAAYFJAAAAAAAAAOkCamZmZmRkfQAAAAAAAQEVAo5I6AU2EH0AvbqMBvJtkQAAAAAAAcGpAmpmZmZkZIEBIUPwYc7crQJqZmZmZGSBAAAAAAAAAJUCQoPgx5i4fQIqO5PIfcjtArrZif9l9LkCQoPgx5i4fQAAAAAAAAB9AMzMzMzMzLkAAAAAAAAAqQAAAAAAAQFBAzczMzMyMOkBdbcX+svsZQKOSOgFNhB9APL1SliHSUUAJ+aBns2ofQAAAAAAA0FJAZmZmZmbmHEAAAAAAAAAqQDMzMzMzm1pA8fRKWYa4O0AAAAAAAAA+QAAAAAAA0GBAzczMzMyMH0AzMzMzM3M3QGZmZmZm7klAAAAAAAAANUAAAAAAAEBAQAAAAAAAADpAuK8D54zoLEAAAAAAAMA7QDMzMzMzsx9AYqHWNO8YYUBmZmZmZqYiQAAAAAAAACNAMzMzMzMzHkAAAAAAAAAfQJqZmZmZGSBAAAAAAAAAKkCamZmZmRkfQGZmZmZmZjFACfmgZ7NqH0AAAAAAAAA3QK62Yn/ZXShAmpmZmZl5KUD3Bl+YTJUfQAAAAAAAAAAAMzMzMzMzHkCamZmZmRkgQDMzMzMzUyFAXdxGA3jPUkAAAAAAAAAfQGKh1jTvGGFAAAAAAAAAL0BmZmZmZuYcQAAAAAAAADpAAAAAAAAAJUAAAAAAAAA6QAAAAAAAADVAAAAAAAAAJUAzMzMzM1MhQM3MzMzMjCtAAAAAAAAAH0CutmJ/2X0uQGZmZmZmNjRAAAAAAAAAHUAAAAAAAAAdQPd14JwRkVRACfmgZ7PqHECamZmZmRkgQM3MzMzMzENAzczMzMzMG0AJ+aBns+ocQAmKH2PudlRAAAAAAAAAI0D3Bl+YTJUfQO7rwDkjykRAdnEbDeCtNUAAAAAAAMBGQAn5oGezah9AmpmZmZkZH0BIUPwYcxcuQAAAAAAAADVAMzMzMzNTIUAAAAAAAAAfQM3MzMzMjDpAmpmZmZnxYkAzMzMzM7MiQAAAAAAAYFdASFD8GHM3LEAzMzMzM1MhQGZmZmZm5hxAzczMzMxMHkAAAAAAAAAfQNGRXP5D9GBAkKD4MebuHkA4+MJkqlBiQAAAAAAAACVACfmgZ7NqH0AAAAAAAIA/QJqZmZmZGR9ACfmgZ7PqHEAAAAAAAAAqQM3MzMzMjDpAzczMzMxqakAzMzMzMzMcQAAAAAAAgENAzczMzMzMU0AAAAAAAAA6QAAAAAAAACpAAAAAAABgQkAzMzMzM7M9QGZmZmZm5hxA6+I2GsB7L0D3Bl+YTJUfQAAAAAAAADpAAAAAAAAAKkAJ+aBns+ocQAAAAAAAgD9ACfmgZ7PqHEAAAAAAAAAlQHBfB84ZUR5AMzMzMzNjUUC/DpwzogKAQAAAAAAAAC1AmpmZmZmZHkAAAAAAAAAqQAn5oGez6hxAAAAAAAAAK0AAAAAAAAA1QBIUP8bcrU9AAAAAAAAAJUAAAAAAAGBSQAAAAAAAQFBAMzMzMzOTNEAAAAAAAAA6QCEf9GxWvUlAo5I6AU2EH0AAAAAAAAAfQJqZmZmZGS9AMzMzMzNjUUBUUiegiYBCQAAAAAAAADVAMzMzMzNTIUBUUiegibhLQDMzMzMzY1FAe4MvTKbqLEAAAAAAANhDQDMzMzMzs01ASFD8GHO3K0AAAAAAAAAnQAAAAAAA0GBAAAAAAAAAAAAAAAAAAAAqQAmKH2PudlRAAAAAAABmcEAzMzMzM1MhQAAAAAAAACdAAAAAAAAASUAzMzMzM2M/QAAAAAAAAB9Ao5I6AU2EH0AAAAAAAAAtQJqZmZmZGTBAAAAAAADAKUAAAAAAAEBQQJqZmZmZGR9AAAAAAAAAKkAAAAAAAAAfQDMzMzMzEzVAAAAAAABgV0AzMzMzM7NDQAAAAAAAQDRAAAAAAAAAJUBmZmZmZgY2QAAAAAAAAE5AAAAAAAAAHUDNzMzMzMxTQJqZmZmZGR9AkKD4MebuHkAvbqMBvJtkQAAAAAAAADVAMzMzMzOzTUDNzMzMzIxHQPH0SlmGuDtAmpmZmZm5K0AAAAAAAAAlQAAAAAAAcGpAw9MrZRniHkDNzMzMzIwrQAAAAAAAAB9AAAAAAACAVkCamZmZmRkfQJqZmZmZGSBAmpmZmZk5W0AAAAAAAAAdQJqZmZmZGSBAJCh+jLlbNkA=",
          "dtype": "f8"
         },
         "yaxis": "y5"
        },
        {
         "marker": {
          "color": "steelblue"
         },
         "mode": "markers",
         "type": "scatter",
         "x": {
          "bdata": "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",
          "dtype": "f8"
         },
         "xaxis": "x6",
         "y": {
          "bdata": "AwMCAwMDAwIDAwMBAQIBAgIDAwMBAwEBAQMBAwEDAgIDAwEDAwMDAwMBAwIBAwEDAQMBAgIBAgMDAwMBAwIDAwECAwEBAQMDAwEBAQMBAgMDAQEDAgMDAwMCAwMBAwEDAQMDAwECAwMDAwMDAwICAwEDAQMDAwECAgMBAwMDAwMCAwMBAwMDAwMCAwMDAQECAQMBAwECAQMDAwMDAQMBAwMDAgMCAwEDAQMDAwMDAwICAQIBAgEBAwECAgMDAgIBAwICAwEDAgMDAwECAgEDAgEDAwMCAgMBAwEBAwIDAgMBAwMDAwICAQMDAQMBAwIBAQIBAwMBAgICAwIDAQMDAwMDAgMDAwIDAgMBAwMDAQMBAwMCAgICAgMDAwMDAwMBAwMBAwMBAwMCAwEDAwICAwMBAQMBAwMDAwMBAwECAwIDAwIBAQMCAQICAgEDAwMBAgMCAwIDAwEDAwIDAgIBAgICAwEBAwMDAwICAwEDAwMBAgIBAQIBAQMCAQMDAwMDAgIDAgMDAQEDAgMBAwEDAwECAQEBAgIBAwMDAQMDAQMDAw==",
          "dtype": "i1"
         },
         "yaxis": "y6"
        },
        {
         "marker": {
          "color": "steelblue",
          "line": {
           "color": "black",
           "width": 1
          }
         },
         "type": "histogram",
         "x": {
          "bdata": "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",
          "dtype": "f8"
         },
         "xaxis": "x7",
         "yaxis": "y7"
        },
        {
         "marker": {
          "color": "steelblue"
         },
         "mode": "markers",
         "type": "scatter",
         "x": {
          "bdata": "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",
          "dtype": "f8"
         },
         "xaxis": "x8",
         "y": {
          "bdata": "AAEAAAEAAAEAAgAAAQEBAQAAAQABAAAAAQEAAAACAQIBAQEAAAAAAAAAAAABAAAAAAABAAIDAAQAAAEAAAAAAAIAAAAAAQAAAAAAAAACAAABAQAAAAEAAAABAQABAAAAAQAAAAEBAAABAAAAAAAAAAAAAQEAAQABAAEBAAAAAAIAAAAAAAEAAAAAAAEFAAEAAAMAAAABAAAAAAQAAAAAAAABAAAAAQACAAAAAAEAAQAAAQAAAAEBAAEAAAIIAAEAAQAAAAAAAAAAAAEBAAAAAAAAAAAAAQQAAAEBAAEAAAAAAAAAAAAAAAEAAQABAAEBAAABAAEBAAEBAQEAAQAAAAAAAAABAAABAAAAAAAAAAABAQABAAEBAAABAAEBAAABAAAAAAABAAABAgAAAAAAAAABAQABAQAAAAAAAAEAAAIAAAAAAAACAAEAAAAAAQAAAAAAAAAAAQABAAAAAAAAAAABAQACAAABCAEAAAEBAQAAAAEAAAABAAIAAAQAAAABAAEAAAADAAAAAAMBAAEAAAABAAABAAEBAAEAAQAAAAAAAQ==",
          "dtype": "i1"
         },
         "yaxis": "y8"
        },
        {
         "marker": {
          "color": "steelblue"
         },
         "mode": "markers",
         "type": "scatter",
         "x": {
          "bdata": "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",
          "dtype": "f8"
         },
         "xaxis": "x9",
         "y": {
          "bdata": "AAAAAAEAAAEAAAAAAAAAAAAAAAAAAQABAwABAAAAAAACAgAAAAAAAAEAAAAAAAAAAAIAAAECAAEAAAAAAAAAAAIAAAAABAAAAAAAAAAAAAABAAAAAAAAAAABAAACAAAAAAAAAAAAAAABAAAAAAAAAAAAAAAAAQAAAAAAAAABAAAAAAAABAAAAAAAAAYCAAMAAAAAAAABAQAAAgIAAAAAAgABAAAAAQACAAAAAAAABQIAAAMCAAEAAAEAAQACAAAAAQACAAIAAAAAAgABAAAAAAAAAAAAAAIAAAEBAAAAAAAAAgAAAAAAAAAAAAAAAAEAAAIBAAIAAAEAAAIAAAAAAAAAAAAAAAIBAAAAAAAAAAAAAAAAAAAAAAABAAEBAAAAAAAAAAABAAACAAAAAAABAAABAgEBAAAAAAAAAAAAAAAAAAAAAAABAAAAAgAAAQAAAAIAAAAACQEBAAAAAAABAAACAgAAAAAAAgEAAAAJAAABAAAAAAABAAAAAAIAAAAAAAIAAAABAAECAAEAAAEAAAAAAQAAAAABAAEAAAAAAAAAAQ==",
          "dtype": "i1"
         },
         "yaxis": "y9"
        },
        {
         "marker": {
          "color": "steelblue"
         },
         "mode": "markers",
         "type": "scatter",
         "x": {
          "bdata": "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",
          "dtype": "f8"
         },
         "xaxis": "x10",
         "y": {
          "bdata": "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",
          "dtype": "f8"
         },
         "yaxis": "y10"
        },
        {
         "marker": {
          "color": "steelblue"
         },
         "mode": "markers",
         "type": "scatter",
         "x": {
          "bdata": "AAEAAAEAAAEAAgAAAQEBAQAAAQABAAAAAQEAAAACAQIBAQEAAAAAAAAAAAABAAAAAAABAAIDAAQAAAEAAAAAAAIAAAAAAQAAAAAAAAACAAABAQAAAAEAAAABAQABAAAAAQAAAAEBAAABAAAAAAAAAAAAAQEAAQABAAEBAAAAAAIAAAAAAAEAAAAAAAEFAAEAAAMAAAABAAAAAAQAAAAAAAABAAAAAQACAAAAAAEAAQAAAQAAAAEBAAEAAAIIAAEAAQAAAAAAAAAAAAEBAAAAAAAAAAAAAQQAAAEBAAEAAAAAAAAAAAAAAAEAAQABAAEBAAABAAEBAAEBAQEAAQAAAAAAAAABAAABAAAAAAAAAAABAQABAAEBAAABAAEBAAABAAAAAAABAAABAgAAAAAAAAABAQABAQAAAAAAAAEAAAIAAAAAAAACAAEAAAAAAQAAAAAAAAAAAQABAAAAAAAAAAABAQACAAABCAEAAAEBAQAAAAEAAAABAAIAAAQAAAABAAEAAAADAAAAAAMBAAEAAAABAAABAAEBAAEAAQAAAAAAAQ==",
          "dtype": "i1"
         },
         "xaxis": "x11",
         "y": {
          "bdata": "AwMCAwMDAwIDAwMBAQIBAgIDAwMBAwEBAQMBAwEDAgIDAwEDAwMDAwMBAwIBAwEDAQMBAgIBAgMDAwMBAwIDAwECAwEBAQMDAwEBAQMBAgMDAQEDAgMDAwMCAwMBAwEDAQMDAwECAwMDAwMDAwICAwEDAQMDAwECAgMBAwMDAwMCAwMBAwMDAwMCAwMDAQECAQMBAwECAQMDAwMDAQMBAwMDAgMCAwEDAQMDAwMDAwICAQIBAgEBAwECAgMDAgIBAwICAwEDAgMDAwECAgEDAgEDAwMCAgMBAwEBAwIDAgMBAwMDAwICAQMDAQMBAwIBAQIBAwMBAgICAwIDAQMDAwMDAgMDAwIDAgMBAwMDAQMBAwMCAgICAgMDAwMDAwMBAwMBAwMBAwMCAwEDAwICAwMBAQMBAwMDAwMBAwECAwIDAwIBAQMCAQICAgEDAwMBAgMCAwIDAwEDAwIDAgIBAgICAwEBAwMDAwICAwEDAwMBAgIBAQIBAQMCAQMDAwMDAgIDAgMDAQEDAgMBAwEDAwECAQEBAgIBAwMDAQMDAQMDAw==",
          "dtype": "i1"
         },
         "yaxis": "y11"
        },
        {
         "marker": {
          "color": "steelblue"
         },
         "mode": "markers",
         "type": "scatter",
         "x": {
          "bdata": "AAEAAAEAAAEAAgAAAQEBAQAAAQABAAAAAQEAAAACAQIBAQEAAAAAAAAAAAABAAAAAAABAAIDAAQAAAEAAAAAAAIAAAAAAQAAAAAAAAACAAABAQAAAAEAAAABAQABAAAAAQAAAAEBAAABAAAAAAAAAAAAAQEAAQABAAEBAAAAAAIAAAAAAAEAAAAAAAEFAAEAAAMAAAABAAAAAAQAAAAAAAABAAAAAQACAAAAAAEAAQAAAQAAAAEBAAEAAAIIAAEAAQAAAAAAAAAAAAEBAAAAAAAAAAAAAQQAAAEBAAEAAAAAAAAAAAAAAAEAAQABAAEBAAABAAEBAAEBAQEAAQAAAAAAAAABAAABAAAAAAAAAAABAQABAAEBAAABAAEBAAABAAAAAAABAAABAgAAAAAAAAABAQABAQAAAAAAAAEAAAIAAAAAAAACAAEAAAAAAQAAAAAAAAAAAQABAAAAAAAAAAABAQACAAABCAEAAAEBAQAAAAEAAAABAAIAAAQAAAABAAEAAAADAAAAAAMBAAEAAAABAAABAAEBAAEAAQAAAAAAAQ==",
          "dtype": "i1"
         },
         "xaxis": "x12",
         "y": {
          "bdata": "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",
          "dtype": "f8"
         },
         "yaxis": "y12"
        },
        {
         "marker": {
          "color": "steelblue",
          "line": {
           "color": "black",
           "width": 1
          }
         },
         "type": "histogram",
         "x": {
          "bdata": "AAEAAAEAAAEAAgAAAQEBAQAAAQABAAAAAQEAAAACAQIBAQEAAAAAAAAAAAABAAAAAAABAAIDAAQAAAEAAAAAAAIAAAAAAQAAAAAAAAACAAABAQAAAAEAAAABAQABAAAAAQAAAAEBAAABAAAAAAAAAAAAAQEAAQABAAEBAAAAAAIAAAAAAAEAAAAAAAEFAAEAAAMAAAABAAAAAAQAAAAAAAABAAAAAQACAAAAAAEAAQAAAQAAAAEBAAEAAAIIAAEAAQAAAAAAAAAAAAEBAAAAAAAAAAAAAQQAAAEBAAEAAAAAAAAAAAAAAAEAAQABAAEBAAABAAEBAAEBAQEAAQAAAAAAAAABAAABAAAAAAAAAAABAQABAAEBAAABAAEBAAABAAAAAAABAAABAgAAAAAAAAABAQABAQAAAAAAAAEAAAIAAAAAAAACAAEAAAAAAQAAAAAAAAAAAQABAAAAAAAAAAABAQACAAABCAEAAAEBAQAAAAEAAAABAAIAAAQAAAABAAEAAAADAAAAAAMBAAEAAAABAAABAAEBAAEAAQAAAAAAAQ==",
          "dtype": "i1"
         },
         "xaxis": "x13",
         "yaxis": "y13"
        },
        {
         "marker": {
          "color": "steelblue"
         },
         "mode": "markers",
         "type": "scatter",
         "x": {
          "bdata": "AAEAAAEAAAEAAgAAAQEBAQAAAQABAAAAAQEAAAACAQIBAQEAAAAAAAAAAAABAAAAAAABAAIDAAQAAAEAAAAAAAIAAAAAAQAAAAAAAAACAAABAQAAAAEAAAABAQABAAAAAQAAAAEBAAABAAAAAAAAAAAAAQEAAQABAAEBAAAAAAIAAAAAAAEAAAAAAAEFAAEAAAMAAAABAAAAAAQAAAAAAAABAAAAAQACAAAAAAEAAQAAAQAAAAEBAAEAAAIIAAEAAQAAAAAAAAAAAAEBAAAAAAAAAAAAAQQAAAEBAAEAAAAAAAAAAAAAAAEAAQABAAEBAAABAAEBAAEBAQEAAQAAAAAAAAABAAABAAAAAAAAAAABAQABAAEBAAABAAEBAAABAAAAAAABAAABAgAAAAAAAAABAQABAQAAAAAAAAEAAAIAAAAAAAACAAEAAAAAAQAAAAAAAAAAAQABAAAAAAAAAAABAQACAAABCAEAAAEBAQAAAAEAAAABAAIAAAQAAAABAAEAAAADAAAAAAMBAAEAAAABAAABAAEBAAEAAQAAAAAAAQ==",
          "dtype": "i1"
         },
         "xaxis": "x14",
         "y": {
          "bdata": "AAAAAAEAAAEAAAAAAAAAAAAAAAAAAQABAwABAAAAAAACAgAAAAAAAAEAAAAAAAAAAAIAAAECAAEAAAAAAAAAAAIAAAAABAAAAAAAAAAAAAABAAAAAAAAAAABAAACAAAAAAAAAAAAAAABAAAAAAAAAAAAAAAAAQAAAAAAAAABAAAAAAAABAAAAAAAAAYCAAMAAAAAAAABAQAAAgIAAAAAAgABAAAAAQACAAAAAAAABQIAAAMCAAEAAAEAAQACAAAAAQACAAIAAAAAAgABAAAAAAAAAAAAAAIAAAEBAAAAAAAAAgAAAAAAAAAAAAAAAAEAAAIBAAIAAAEAAAIAAAAAAAAAAAAAAAIBAAAAAAAAAAAAAAAAAAAAAAABAAEBAAAAAAAAAAABAAACAAAAAAABAAABAgEBAAAAAAAAAAAAAAAAAAAAAAABAAAAAgAAAQAAAAIAAAAACQEBAAAAAAABAAACAgAAAAAAAgEAAAAJAAABAAAAAAABAAAAAAIAAAAAAAIAAAABAAECAAEAAAEAAAAAAQAAAAABAAEAAAAAAAAAAQ==",
          "dtype": "i1"
         },
         "yaxis": "y14"
        },
        {
         "marker": {
          "color": "steelblue"
         },
         "mode": "markers",
         "type": "scatter",
         "x": {
          "bdata": "AAEAAAEAAAEAAgAAAQEBAQAAAQABAAAAAQEAAAACAQIBAQEAAAAAAAAAAAABAAAAAAABAAIDAAQAAAEAAAAAAAIAAAAAAQAAAAAAAAACAAABAQAAAAEAAAABAQABAAAAAQAAAAEBAAABAAAAAAAAAAAAAQEAAQABAAEBAAAAAAIAAAAAAAEAAAAAAAEFAAEAAAMAAAABAAAAAAQAAAAAAAABAAAAAQACAAAAAAEAAQAAAQAAAAEBAAEAAAIIAAEAAQAAAAAAAAAAAAEBAAAAAAAAAAAAAQQAAAEBAAEAAAAAAAAAAAAAAAEAAQABAAEBAAABAAEBAAEBAQEAAQAAAAAAAAABAAABAAAAAAAAAAABAQABAAEBAAABAAEBAAABAAAAAAABAAABAgAAAAAAAAABAQABAQAAAAAAAAEAAAIAAAAAAAACAAEAAAAAAQAAAAAAAAAAAQABAAAAAAAAAAABAQACAAABCAEAAAEBAQAAAAEAAAABAAIAAAQAAAABAAEAAAADAAAAAAMBAAEAAAABAAABAAEBAAEAAQAAAAAAAQ==",
          "dtype": "i1"
         },
         "xaxis": "x15",
         "y": {
          "bdata": "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",
          "dtype": "f8"
         },
         "yaxis": "y15"
        },
        {
         "marker": {
          "color": "steelblue"
         },
         "mode": "markers",
         "type": "scatter",
         "x": {
          "bdata": "AAAAAAEAAAEAAAAAAAAAAAAAAAAAAQABAwABAAAAAAACAgAAAAAAAAEAAAAAAAAAAAIAAAECAAEAAAAAAAAAAAIAAAAABAAAAAAAAAAAAAABAAAAAAAAAAABAAACAAAAAAAAAAAAAAABAAAAAAAAAAAAAAAAAQAAAAAAAAABAAAAAAAABAAAAAAAAAYCAAMAAAAAAAABAQAAAgIAAAAAAgABAAAAAQACAAAAAAAABQIAAAMCAAEAAAEAAQACAAAAAQACAAIAAAAAAgABAAAAAAAAAAAAAAIAAAEBAAAAAAAAAgAAAAAAAAAAAAAAAAEAAAIBAAIAAAEAAAIAAAAAAAAAAAAAAAIBAAAAAAAAAAAAAAAAAAAAAAABAAEBAAAAAAAAAAABAAACAAAAAAABAAABAgEBAAAAAAAAAAAAAAAAAAAAAAABAAAAAgAAAQAAAAIAAAAACQEBAAAAAAABAAACAgAAAAAAAgEAAAAJAAABAAAAAAABAAAAAAIAAAAAAAIAAAABAAECAAEAAAEAAAAAAQAAAAABAAEAAAAAAAAAAQ==",
          "dtype": "i1"
         },
         "xaxis": "x16",
         "y": {
          "bdata": "AwMCAwMDAwIDAwMBAQIBAgIDAwMBAwEBAQMBAwEDAgIDAwEDAwMDAwMBAwIBAwEDAQMBAgIBAgMDAwMBAwIDAwECAwEBAQMDAwEBAQMBAgMDAQEDAgMDAwMCAwMBAwEDAQMDAwECAwMDAwMDAwICAwEDAQMDAwECAgMBAwMDAwMCAwMBAwMDAwMCAwMDAQECAQMBAwECAQMDAwMDAQMBAwMDAgMCAwEDAQMDAwMDAwICAQIBAgEBAwECAgMDAgIBAwICAwEDAgMDAwECAgEDAgEDAwMCAgMBAwEBAwIDAgMBAwMDAwICAQMDAQMBAwIBAQIBAwMBAgICAwIDAQMDAwMDAgMDAwIDAgMBAwMDAQMBAwMCAgICAgMDAwMDAwMBAwMBAwMBAwMCAwEDAwICAwMBAQMBAwMDAwMBAwECAwIDAwIBAQMCAQICAgEDAwMBAgMCAwIDAwEDAwIDAgIBAgICAwEBAwMDAwICAwEDAwMBAgIBAQIBAQMCAQMDAwMDAgIDAgMDAQEDAgMBAwEDAwECAQEBAgIBAwMDAQMDAQMDAw==",
          "dtype": "i1"
         },
         "yaxis": "y16"
        },
        {
         "marker": {
          "color": "steelblue"
         },
         "mode": "markers",
         "type": "scatter",
         "x": {
          "bdata": "AAAAAAEAAAEAAAAAAAAAAAAAAAAAAQABAwABAAAAAAACAgAAAAAAAAEAAAAAAAAAAAIAAAECAAEAAAAAAAAAAAIAAAAABAAAAAAAAAAAAAABAAAAAAAAAAABAAACAAAAAAAAAAAAAAABAAAAAAAAAAAAAAAAAQAAAAAAAAABAAAAAAAABAAAAAAAAAYCAAMAAAAAAAABAQAAAgIAAAAAAgABAAAAAQACAAAAAAAABQIAAAMCAAEAAAEAAQACAAAAAQACAAIAAAAAAgABAAAAAAAAAAAAAAIAAAEBAAAAAAAAAgAAAAAAAAAAAAAAAAEAAAIBAAIAAAEAAAIAAAAAAAAAAAAAAAIBAAAAAAAAAAAAAAAAAAAAAAABAAEBAAAAAAAAAAABAAACAAAAAAABAAABAgEBAAAAAAAAAAAAAAAAAAAAAAABAAAAAgAAAQAAAAIAAAAACQEBAAAAAAABAAACAgAAAAAAAgEAAAAJAAABAAAAAAABAAAAAAIAAAAAAAIAAAABAAECAAEAAAEAAAAAAQAAAAABAAEAAAAAAAAAAQ==",
          "dtype": "i1"
         },
         "xaxis": "x17",
         "y": {
          "bdata": "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",
          "dtype": "f8"
         },
         "yaxis": "y17"
        },
        {
         "marker": {
          "color": "steelblue"
         },
         "mode": "markers",
         "type": "scatter",
         "x": {
          "bdata": "AAAAAAEAAAEAAAAAAAAAAAAAAAAAAQABAwABAAAAAAACAgAAAAAAAAEAAAAAAAAAAAIAAAECAAEAAAAAAAAAAAIAAAAABAAAAAAAAAAAAAABAAAAAAAAAAABAAACAAAAAAAAAAAAAAABAAAAAAAAAAAAAAAAAQAAAAAAAAABAAAAAAAABAAAAAAAAAYCAAMAAAAAAAABAQAAAgIAAAAAAgABAAAAAQACAAAAAAAABQIAAAMCAAEAAAEAAQACAAAAAQACAAIAAAAAAgABAAAAAAAAAAAAAAIAAAEBAAAAAAAAAgAAAAAAAAAAAAAAAAEAAAIBAAIAAAEAAAIAAAAAAAAAAAAAAAIBAAAAAAAAAAAAAAAAAAAAAAABAAEBAAAAAAAAAAABAAACAAAAAAABAAABAgEBAAAAAAAAAAAAAAAAAAAAAAABAAAAAgAAAQAAAAIAAAAACQEBAAAAAAABAAACAgAAAAAAAgEAAAAJAAABAAAAAAABAAAAAAIAAAAAAAIAAAABAAECAAEAAAEAAAAAAQAAAAABAAEAAAAAAAAAAQ==",
          "dtype": "i1"
         },
         "xaxis": "x18",
         "y": {
          "bdata": "AAEAAAEAAAEAAgAAAQEBAQAAAQABAAAAAQEAAAACAQIBAQEAAAAAAAAAAAABAAAAAAABAAIDAAQAAAEAAAAAAAIAAAAAAQAAAAAAAAACAAABAQAAAAEAAAABAQABAAAAAQAAAAEBAAABAAAAAAAAAAAAAQEAAQABAAEBAAAAAAIAAAAAAAEAAAAAAAEFAAEAAAMAAAABAAAAAAQAAAAAAAABAAAAAQACAAAAAAEAAQAAAQAAAAEBAAEAAAIIAAEAAQAAAAAAAAAAAAEBAAAAAAAAAAAAAQQAAAEBAAEAAAAAAAAAAAAAAAEAAQABAAEBAAABAAEBAAEBAQEAAQAAAAAAAAABAAABAAAAAAAAAAABAQABAAEBAAABAAEBAAABAAAAAAABAAABAgAAAAAAAAABAQABAQAAAAAAAAEAAAIAAAAAAAACAAEAAAAAAQAAAAAAAAAAAQABAAAAAAAAAAABAQACAAABCAEAAAEBAQAAAAEAAAABAAIAAAQAAAABAAEAAAADAAAAAAMBAAEAAAABAAABAAEBAAEAAQAAAAAAAQ==",
          "dtype": "i1"
         },
         "yaxis": "y18"
        },
        {
         "marker": {
          "color": "steelblue",
          "line": {
           "color": "black",
           "width": 1
          }
         },
         "type": "histogram",
         "x": {
          "bdata": "AAAAAAEAAAEAAAAAAAAAAAAAAAAAAQABAwABAAAAAAACAgAAAAAAAAEAAAAAAAAAAAIAAAECAAEAAAAAAAAAAAIAAAAABAAAAAAAAAAAAAABAAAAAAAAAAABAAACAAAAAAAAAAAAAAABAAAAAAAAAAAAAAAAAQAAAAAAAAABAAAAAAAABAAAAAAAAAYCAAMAAAAAAAABAQAAAgIAAAAAAgABAAAAAQACAAAAAAAABQIAAAMCAAEAAAEAAQACAAAAAQACAAIAAAAAAgABAAAAAAAAAAAAAAIAAAEBAAAAAAAAAgAAAAAAAAAAAAAAAAEAAAIBAAIAAAEAAAIAAAAAAAAAAAAAAAIBAAAAAAAAAAAAAAAAAAAAAAABAAEBAAAAAAAAAAABAAACAAAAAAABAAABAgEBAAAAAAAAAAAAAAAAAAAAAAABAAAAAgAAAQAAAAIAAAAACQEBAAAAAAABAAACAgAAAAAAAgEAAAAJAAABAAAAAAABAAAAAAIAAAAAAAIAAAABAAECAAEAAAEAAAAAAQAAAAABAAEAAAAAAAAAAQ==",
          "dtype": "i1"
         },
         "xaxis": "x19",
         "yaxis": "y19"
        },
        {
         "marker": {
          "color": "steelblue"
         },
         "mode": "markers",
         "type": "scatter",
         "x": {
          "bdata": "AAAAAAEAAAEAAAAAAAAAAAAAAAAAAQABAwABAAAAAAACAgAAAAAAAAEAAAAAAAAAAAIAAAECAAEAAAAAAAAAAAIAAAAABAAAAAAAAAAAAAABAAAAAAAAAAABAAACAAAAAAAAAAAAAAABAAAAAAAAAAAAAAAAAQAAAAAAAAABAAAAAAAABAAAAAAAAAYCAAMAAAAAAAABAQAAAgIAAAAAAgABAAAAAQACAAAAAAAABQIAAAMCAAEAAAEAAQACAAAAAQACAAIAAAAAAgABAAAAAAAAAAAAAAIAAAEBAAAAAAAAAgAAAAAAAAAAAAAAAAEAAAIBAAIAAAEAAAIAAAAAAAAAAAAAAAIBAAAAAAAAAAAAAAAAAAAAAAABAAEBAAAAAAAAAAABAAACAAAAAAABAAABAgEBAAAAAAAAAAAAAAAAAAAAAAABAAAAAgAAAQAAAAIAAAAACQEBAAAAAAABAAACAgAAAAAAAgEAAAAJAAABAAAAAAABAAAAAAIAAAAAAAIAAAABAAECAAEAAAEAAAAAAQAAAAABAAEAAAAAAAAAAQ==",
          "dtype": "i1"
         },
         "xaxis": "x20",
         "y": {
          "bdata": "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",
          "dtype": "f8"
         },
         "yaxis": "y20"
        },
        {
         "marker": {
          "color": "steelblue"
         },
         "mode": "markers",
         "type": "scatter",
         "x": {
          "bdata": "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",
          "dtype": "f8"
         },
         "xaxis": "x21",
         "y": {
          "bdata": "AwMCAwMDAwIDAwMBAQIBAgIDAwMBAwEBAQMBAwEDAgIDAwEDAwMDAwMBAwIBAwEDAQMBAgIBAgMDAwMBAwIDAwECAwEBAQMDAwEBAQMBAgMDAQEDAgMDAwMCAwMBAwEDAQMDAwECAwMDAwMDAwICAwEDAQMDAwECAgMBAwMDAwMCAwMBAwMDAwMCAwMDAQECAQMBAwECAQMDAwMDAQMBAwMDAgMCAwEDAQMDAwMDAwICAQIBAgEBAwECAgMDAgIBAwICAwEDAgMDAwECAgEDAgEDAwMCAgMBAwEBAwIDAgMBAwMDAwICAQMDAQMBAwIBAQIBAwMBAgICAwIDAQMDAwMDAgMDAwIDAgMBAwMDAQMBAwMCAgICAgMDAwMDAwMBAwMBAwMBAwMCAwEDAwICAwMBAQMBAwMDAwMBAwECAwIDAwIBAQMCAQICAgEDAwMBAgMCAwIDAwEDAwIDAgIBAgICAwEBAwMDAwICAwEDAwMBAgIBAQIBAQMCAQMDAwMDAgIDAgMDAQEDAgMBAwEDAwECAQEBAgIBAwMDAQMDAQMDAw==",
          "dtype": "i1"
         },
         "yaxis": "y21"
        },
        {
         "marker": {
          "color": "steelblue"
         },
         "mode": "markers",
         "type": "scatter",
         "x": {
          "bdata": "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",
          "dtype": "f8"
         },
         "xaxis": "x22",
         "y": {
          "bdata": "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",
          "dtype": "f8"
         },
         "yaxis": "y22"
        },
        {
         "marker": {
          "color": "steelblue"
         },
         "mode": "markers",
         "type": "scatter",
         "x": {
          "bdata": "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",
          "dtype": "f8"
         },
         "xaxis": "x23",
         "y": {
          "bdata": "AAEAAAEAAAEAAgAAAQEBAQAAAQABAAAAAQEAAAACAQIBAQEAAAAAAAAAAAABAAAAAAABAAIDAAQAAAEAAAAAAAIAAAAAAQAAAAAAAAACAAABAQAAAAEAAAABAQABAAAAAQAAAAEBAAABAAAAAAAAAAAAAQEAAQABAAEBAAAAAAIAAAAAAAEAAAAAAAEFAAEAAAMAAAABAAAAAAQAAAAAAAABAAAAAQACAAAAAAEAAQAAAQAAAAEBAAEAAAIIAAEAAQAAAAAAAAAAAAEBAAAAAAAAAAAAAQQAAAEBAAEAAAAAAAAAAAAAAAEAAQABAAEBAAABAAEBAAEBAQEAAQAAAAAAAAABAAABAAAAAAAAAAABAQABAAEBAAABAAEBAAABAAAAAAABAAABAgAAAAAAAAABAQABAQAAAAAAAAEAAAIAAAAAAAACAAEAAAAAAQAAAAAAAAAAAQABAAAAAAAAAAABAQACAAABCAEAAAEBAQAAAAEAAAABAAIAAAQAAAABAAEAAAADAAAAAAMBAAEAAAABAAABAAEBAAEAAQAAAAAAAQ==",
          "dtype": "i1"
         },
         "yaxis": "y23"
        },
        {
         "marker": {
          "color": "steelblue"
         },
         "mode": "markers",
         "type": "scatter",
         "x": {
          "bdata": "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",
          "dtype": "f8"
         },
         "xaxis": "x24",
         "y": {
          "bdata": "AAAAAAEAAAEAAAAAAAAAAAAAAAAAAQABAwABAAAAAAACAgAAAAAAAAEAAAAAAAAAAAIAAAECAAEAAAAAAAAAAAIAAAAABAAAAAAAAAAAAAABAAAAAAAAAAABAAACAAAAAAAAAAAAAAABAAAAAAAAAAAAAAAAAQAAAAAAAAABAAAAAAAABAAAAAAAAAYCAAMAAAAAAAABAQAAAgIAAAAAAgABAAAAAQACAAAAAAAABQIAAAMCAAEAAAEAAQACAAAAAQACAAIAAAAAAgABAAAAAAAAAAAAAAIAAAEBAAAAAAAAAgAAAAAAAAAAAAAAAAEAAAIBAAIAAAEAAAIAAAAAAAAAAAAAAAIBAAAAAAAAAAAAAAAAAAAAAAABAAEBAAAAAAAAAAABAAACAAAAAAABAAABAgEBAAAAAAAAAAAAAAAAAAAAAAABAAAAAgAAAQAAAAIAAAAACQEBAAAAAAABAAACAgAAAAAAAgEAAAAJAAABAAAAAAABAAAAAAIAAAAAAAIAAAABAAECAAEAAAEAAAAAAQAAAAABAAEAAAAAAAAAAQ==",
          "dtype": "i1"
         },
         "yaxis": "y24"
        },
        {
         "marker": {
          "color": "steelblue",
          "line": {
           "color": "black",
           "width": 1
          }
         },
         "type": "histogram",
         "x": {
          "bdata": "cF8HzhlRH0AAAAAAAAAcQAAAAAAAYCNAMzMzMzNTIUAzMzMzM5MoQDMzMzMzcyJAo5I6AU2EHkAAAAAAAAA9QAn5oGez6hxAZmZmZmYmOED3Bl+YTJUfQAAAAAAAADpA93XgnBGRVEAAAAAAAAA6QGZmZmZmlk5A8fRKWYa4O0AzMzMzM7MoQGZmZmZm5hxAMzMzMzOzH0BmZmZmZuYcQDMzMzMzs01AIEHxY8xdCUBXW7G/7K4/QFRSJ6CJsE5AAAAAAABmcEAAAAAAAAAtQCEf9GxW/U5AZmZmZmbmHEAAAAAAAIA+QHZxGw3grTVAAAAAAAAAOkAAAAAAAIA/QDMzMzMzkzRAMzMzMzNzN0AAAAAAAOBMQAn5oGez6hxAmpmZmZkZIEAzMzMzM1MhQAAAAAAAACNArK3YX3Y/TECFfNCzWdUqQM3MzMzMjDpAZmZmZmZmH0AAAAAAAAAqQLu4jQbwRkpAMzMzMzOzH0AzMzMzM7M9QAAAAAAAAB9AkQ96NqsSU0DNzMzMzMwvQAAAAAAAAE5A4umVsgwRLkAAAAAAAAA3QAAAAAAAcHBAuK8D54woL0AAAAAAACA9QPcGX5hMlR9AmpmZmZmZHkCamZmZmRkwQAAAAAAAZnBA9wZfmEyVH0AAAAAAAAArQAAAAAAAAB9AZmZmZmbmHkAAAAAAAGZwQAAAAAAAADVAo5I6AU2EH0AzMzMzMzNFQJqZmZmZiTxAAAAAAABwcEAAAAAAAAAfQPcGX5hMlR9AMzMzMzOzH0Dx9EpZhrg7QAAAAAAAcGpAAAAAAABwakCamZmZmRkgQDMzMzMzszlAAAAAAAAAKkAAAAAAAAAfQK62Yn/ZfS5AYqHWNO+4a0AAAAAAAAA6QPcGX5hMlR9Ae4MvTKZqJUC4rwPnjOgsQKOSOgFNhB9AmpmZmZkZIEAAAAAAAAAfQAAAAAAAADdAzczMzMzMK0CamZmZmRkfQAAAAAAAAEpAmpmZmZkZIEAAAAAAAAA6QJCg+DHmLh9AZmZmZma2U0AzMzMzM7MfQAn5oGezah9AmpmZmZkZIEBUUiegibhLQAAAAAAAADpAAAAAAAAAH0CamZmZmRkfQLivA+eMCCFAZmZmZmaGNkAqOpLLf0gfQAAAAAAAAB9AzczMzMxsIUAAAAAAAAAqQEhQ/BhzFy5APSzUmuYdH0B2cRsN4K0/QMPTK2UZIh1AYqHWNO+4a0C4rwPnjOgsQAAAAAAAwBlAMzMzMzOzMEBd3EYDeM9SQAAAAAAAADpAAAAAAACAL0AAAAAAAAAfQAAAAAAA4ExAAAAAAAAAHUAAAAAAAAAfQJqZmZmZGTBAkKD4MeYuH0AAAAAAAEA3QAAAAAAAACpAmpmZmZkZIECamZmZmRkgQAAAAAAAgDxADwu1pnl3OUAAAAAAAMAZQPcGX5hMlR9ACfmgZ7NqH0BmZmZmZuYcQAAAAAAAACpAmpmZmZkZIEAzMzMzM3NHQDMzMzMzc0dAmpmZmZnxYkAAAAAAAGZwQAAAAAAAADpAzczMzMyMOkAAAAAAAAAyQGZmZmZm7klAmpmZmZkZIEDNzMzMzIw6QAAAAAAAADpAPL1SliHKVED3Bl+YTJUfQM1a83UTKDfArrZif9ldKEAzMzMzM2M/QDMzMzMzMx5AYqHWNO+4a0AJ+aBns2ofQM3MzMzMjDpAzczMzMyMK0CQoPgx5u4eQK62Yn/ZfS5AAAAAAAAAK0AAAAAAAAAcQAAAAAAAACpAZmZmZmYGNkCsrdhfdj9JQAAAAAAAMEFA8fRKWYa4O0DNzMzMzOwhQDMzMzMzMx5AZmZmZmbmHEDNzMzMzMwrQAn5oGez6hxAMzMzMzNjP0AAAAAAAIBDQAAAAAAAYEJAVFInoIm4S0AAAAAAAIBDQDy9UpYhylRAAAAAAAAAKkA8vVKWIcpUQM3MzMzMjEpAAAAAAAAAH0A4+MJkqvBuQAAAAAAAADBAAAAAAAAANUCamZmZmRkgQDMzMzMzY1FAAAAAAAAAKkAAAAAAAAA6QAAAAAAAADpAAAAAAAAALUAzMzMzM7MoQAAAAAAAQEBACfmgZ7NqH0AAAAAAANBgQJqZmZmZGR9AAAAAAAAAJUCamZmZmTkgQAAAAAAAAC9AzczMzMzMLEDNzMzMzHBsQAAAAAAAADpAAAAAAAAAJUB2cRsN4L05QAAAAAAAAB9AAAAAAAAAJUDx9EpZhrg7QPcGX5hMlR9AZmZmZmaGNkAzMzMzMzMcQAAAAAAAYFJAAAAAAAAAOkCamZmZmRkfQAAAAAAAQEVAo5I6AU2EH0AvbqMBvJtkQAAAAAAAcGpAmpmZmZkZIEBIUPwYc7crQJqZmZmZGSBAAAAAAAAAJUCQoPgx5i4fQIqO5PIfcjtArrZif9l9LkCQoPgx5i4fQAAAAAAAAB9AMzMzMzMzLkAAAAAAAAAqQAAAAAAAQFBAzczMzMyMOkBdbcX+svsZQKOSOgFNhB9APL1SliHSUUAJ+aBns2ofQAAAAAAA0FJAZmZmZmbmHEAAAAAAAAAqQDMzMzMzm1pA8fRKWYa4O0AAAAAAAAA+QAAAAAAA0GBAzczMzMyMH0AzMzMzM3M3QGZmZmZm7klAAAAAAAAANUAAAAAAAEBAQAAAAAAAADpAuK8D54zoLEAAAAAAAMA7QDMzMzMzsx9AYqHWNO8YYUBmZmZmZqYiQAAAAAAAACNAMzMzMzMzHkAAAAAAAAAfQJqZmZmZGSBAAAAAAAAAKkCamZmZmRkfQGZmZmZmZjFACfmgZ7NqH0AAAAAAAAA3QK62Yn/ZXShAmpmZmZl5KUD3Bl+YTJUfQAAAAAAAAAAAMzMzMzMzHkCamZmZmRkgQDMzMzMzUyFAXdxGA3jPUkAAAAAAAAAfQGKh1jTvGGFAAAAAAAAAL0BmZmZmZuYcQAAAAAAAADpAAAAAAAAAJUAAAAAAAAA6QAAAAAAAADVAAAAAAAAAJUAzMzMzM1MhQM3MzMzMjCtAAAAAAAAAH0CutmJ/2X0uQGZmZmZmNjRAAAAAAAAAHUAAAAAAAAAdQPd14JwRkVRACfmgZ7PqHECamZmZmRkgQM3MzMzMzENAzczMzMzMG0AJ+aBns+ocQAmKH2PudlRAAAAAAAAAI0D3Bl+YTJUfQO7rwDkjykRAdnEbDeCtNUAAAAAAAMBGQAn5oGezah9AmpmZmZkZH0BIUPwYcxcuQAAAAAAAADVAMzMzMzNTIUAAAAAAAAAfQM3MzMzMjDpAmpmZmZnxYkAzMzMzM7MiQAAAAAAAYFdASFD8GHM3LEAzMzMzM1MhQGZmZmZm5hxAzczMzMxMHkAAAAAAAAAfQNGRXP5D9GBAkKD4MebuHkA4+MJkqlBiQAAAAAAAACVACfmgZ7NqH0AAAAAAAIA/QJqZmZmZGR9ACfmgZ7PqHEAAAAAAAAAqQM3MzMzMjDpAzczMzMxqakAzMzMzMzMcQAAAAAAAgENAzczMzMzMU0AAAAAAAAA6QAAAAAAAACpAAAAAAABgQkAzMzMzM7M9QGZmZmZm5hxA6+I2GsB7L0D3Bl+YTJUfQAAAAAAAADpAAAAAAAAAKkAJ+aBns+ocQAAAAAAAgD9ACfmgZ7PqHEAAAAAAAAAlQHBfB84ZUR5AMzMzMzNjUUC/DpwzogKAQAAAAAAAAC1AmpmZmZmZHkAAAAAAAAAqQAn5oGez6hxAAAAAAAAAK0AAAAAAAAA1QBIUP8bcrU9AAAAAAAAAJUAAAAAAAGBSQAAAAAAAQFBAMzMzMzOTNEAAAAAAAAA6QCEf9GxWvUlAo5I6AU2EH0AAAAAAAAAfQJqZmZmZGS9AMzMzMzNjUUBUUiegiYBCQAAAAAAAADVAMzMzMzNTIUBUUiegibhLQDMzMzMzY1FAe4MvTKbqLEAAAAAAANhDQDMzMzMzs01ASFD8GHO3K0AAAAAAAAAnQAAAAAAA0GBAAAAAAAAAAAAAAAAAAAAqQAmKH2PudlRAAAAAAABmcEAzMzMzM1MhQAAAAAAAACdAAAAAAAAASUAzMzMzM2M/QAAAAAAAAB9Ao5I6AU2EH0AAAAAAAAAtQJqZmZmZGTBAAAAAAADAKUAAAAAAAEBQQJqZmZmZGR9AAAAAAAAAKkAAAAAAAAAfQDMzMzMzEzVAAAAAAABgV0AzMzMzM7NDQAAAAAAAQDRAAAAAAAAAJUBmZmZmZgY2QAAAAAAAAE5AAAAAAAAAHUDNzMzMzMxTQJqZmZmZGR9AkKD4MebuHkAvbqMBvJtkQAAAAAAAADVAMzMzMzOzTUDNzMzMzIxHQPH0SlmGuDtAmpmZmZm5K0AAAAAAAAAlQAAAAAAAcGpAw9MrZRniHkDNzMzMzIwrQAAAAAAAAB9AAAAAAACAVkCamZmZmRkfQJqZmZmZGSBAmpmZmZk5W0AAAAAAAAAdQJqZmZmZGSBAJCh+jLlbNkA=",
          "dtype": "f8"
         },
         "xaxis": "x25",
         "yaxis": "y25"
        }
       ],
       "layout": {
        "height": 1800,
        "showlegend": false,
        "template": {
         "data": {
          "bar": [
           {
            "error_x": {
             "color": "#2a3f5f"
            },
            "error_y": {
             "color": "#2a3f5f"
            },
            "marker": {
             "line": {
              "color": "#E5ECF6",
              "width": 0.5
             },
             "pattern": {
              "fillmode": "overlay",
              "size": 10,
              "solidity": 0.2
             }
            },
            "type": "bar"
           }
          ],
          "barpolar": [
           {
            "marker": {
             "line": {
              "color": "#E5ECF6",
              "width": 0.5
             },
             "pattern": {
              "fillmode": "overlay",
              "size": 10,
              "solidity": 0.2
             }
            },
            "type": "barpolar"
           }
          ],
          "carpet": [
           {
            "aaxis": {
             "endlinecolor": "#2a3f5f",
             "gridcolor": "white",
             "linecolor": "white",
             "minorgridcolor": "white",
             "startlinecolor": "#2a3f5f"
            },
            "baxis": {
             "endlinecolor": "#2a3f5f",
             "gridcolor": "white",
             "linecolor": "white",
             "minorgridcolor": "white",
             "startlinecolor": "#2a3f5f"
            },
            "type": "carpet"
           }
          ],
          "choropleth": [
           {
            "colorbar": {
             "outlinewidth": 0,
             "ticks": ""
            },
            "type": "choropleth"
           }
          ],
          "contour": [
           {
            "colorbar": {
             "outlinewidth": 0,
             "ticks": ""
            },
            "colorscale": [
             [
              0,
              "#0d0887"
             ],
             [
              0.1111111111111111,
              "#46039f"
             ],
             [
              0.2222222222222222,
              "#7201a8"
             ],
             [
              0.3333333333333333,
              "#9c179e"
             ],
             [
              0.4444444444444444,
              "#bd3786"
             ],
             [
              0.5555555555555556,
              "#d8576b"
             ],
             [
              0.6666666666666666,
              "#ed7953"
             ],
             [
              0.7777777777777778,
              "#fb9f3a"
             ],
             [
              0.8888888888888888,
              "#fdca26"
             ],
             [
              1,
              "#f0f921"
             ]
            ],
            "type": "contour"
           }
          ],
          "contourcarpet": [
           {
            "colorbar": {
             "outlinewidth": 0,
             "ticks": ""
            },
            "type": "contourcarpet"
           }
          ],
          "heatmap": [
           {
            "colorbar": {
             "outlinewidth": 0,
             "ticks": ""
            },
            "colorscale": [
             [
              0,
              "#0d0887"
             ],
             [
              0.1111111111111111,
              "#46039f"
             ],
             [
              0.2222222222222222,
              "#7201a8"
             ],
             [
              0.3333333333333333,
              "#9c179e"
             ],
             [
              0.4444444444444444,
              "#bd3786"
             ],
             [
              0.5555555555555556,
              "#d8576b"
             ],
             [
              0.6666666666666666,
              "#ed7953"
             ],
             [
              0.7777777777777778,
              "#fb9f3a"
             ],
             [
              0.8888888888888888,
              "#fdca26"
             ],
             [
              1,
              "#f0f921"
             ]
            ],
            "type": "heatmap"
           }
          ],
          "histogram": [
           {
            "marker": {
             "pattern": {
              "fillmode": "overlay",
              "size": 10,
              "solidity": 0.2
             }
            },
            "type": "histogram"
           }
          ],
          "histogram2d": [
           {
            "colorbar": {
             "outlinewidth": 0,
             "ticks": ""
            },
            "colorscale": [
             [
              0,
              "#0d0887"
             ],
             [
              0.1111111111111111,
              "#46039f"
             ],
             [
              0.2222222222222222,
              "#7201a8"
             ],
             [
              0.3333333333333333,
              "#9c179e"
             ],
             [
              0.4444444444444444,
              "#bd3786"
             ],
             [
              0.5555555555555556,
              "#d8576b"
             ],
             [
              0.6666666666666666,
              "#ed7953"
             ],
             [
              0.7777777777777778,
              "#fb9f3a"
             ],
             [
              0.8888888888888888,
              "#fdca26"
             ],
             [
              1,
              "#f0f921"
             ]
            ],
            "type": "histogram2d"
           }
          ],
          "histogram2dcontour": [
           {
            "colorbar": {
             "outlinewidth": 0,
             "ticks": ""
            },
            "colorscale": [
             [
              0,
              "#0d0887"
             ],
             [
              0.1111111111111111,
              "#46039f"
             ],
             [
              0.2222222222222222,
              "#7201a8"
             ],
             [
              0.3333333333333333,
              "#9c179e"
             ],
             [
              0.4444444444444444,
              "#bd3786"
             ],
             [
              0.5555555555555556,
              "#d8576b"
             ],
             [
              0.6666666666666666,
              "#ed7953"
             ],
             [
              0.7777777777777778,
              "#fb9f3a"
             ],
             [
              0.8888888888888888,
              "#fdca26"
             ],
             [
              1,
              "#f0f921"
             ]
            ],
            "type": "histogram2dcontour"
           }
          ],
          "mesh3d": [
           {
            "colorbar": {
             "outlinewidth": 0,
             "ticks": ""
            },
            "type": "mesh3d"
           }
          ],
          "parcoords": [
           {
            "line": {
             "colorbar": {
              "outlinewidth": 0,
              "ticks": ""
             }
            },
            "type": "parcoords"
           }
          ],
          "pie": [
           {
            "automargin": true,
            "type": "pie"
           }
          ],
          "scatter": [
           {
            "fillpattern": {
             "fillmode": "overlay",
             "size": 10,
             "solidity": 0.2
            },
            "type": "scatter"
           }
          ],
          "scatter3d": [
           {
            "line": {
             "colorbar": {
              "outlinewidth": 0,
              "ticks": ""
             }
            },
            "marker": {
             "colorbar": {
              "outlinewidth": 0,
              "ticks": ""
             }
            },
            "type": "scatter3d"
           }
          ],
          "scattercarpet": [
           {
            "marker": {
             "colorbar": {
              "outlinewidth": 0,
              "ticks": ""
             }
            },
            "type": "scattercarpet"
           }
          ],
          "scattergeo": [
           {
            "marker": {
             "colorbar": {
              "outlinewidth": 0,
              "ticks": ""
             }
            },
            "type": "scattergeo"
           }
          ],
          "scattergl": [
           {
            "marker": {
             "colorbar": {
              "outlinewidth": 0,
              "ticks": ""
             }
            },
            "type": "scattergl"
           }
          ],
          "scattermap": [
           {
            "marker": {
             "colorbar": {
              "outlinewidth": 0,
              "ticks": ""
             }
            },
            "type": "scattermap"
           }
          ],
          "scattermapbox": [
           {
            "marker": {
             "colorbar": {
              "outlinewidth": 0,
              "ticks": ""
             }
            },
            "type": "scattermapbox"
           }
          ],
          "scatterpolar": [
           {
            "marker": {
             "colorbar": {
              "outlinewidth": 0,
              "ticks": ""
             }
            },
            "type": "scatterpolar"
           }
          ],
          "scatterpolargl": [
           {
            "marker": {
             "colorbar": {
              "outlinewidth": 0,
              "ticks": ""
             }
            },
            "type": "scatterpolargl"
           }
          ],
          "scatterternary": [
           {
            "marker": {
             "colorbar": {
              "outlinewidth": 0,
              "ticks": ""
             }
            },
            "type": "scatterternary"
           }
          ],
          "surface": [
           {
            "colorbar": {
             "outlinewidth": 0,
             "ticks": ""
            },
            "colorscale": [
             [
              0,
              "#0d0887"
             ],
             [
              0.1111111111111111,
              "#46039f"
             ],
             [
              0.2222222222222222,
              "#7201a8"
             ],
             [
              0.3333333333333333,
              "#9c179e"
             ],
             [
              0.4444444444444444,
              "#bd3786"
             ],
             [
              0.5555555555555556,
              "#d8576b"
             ],
             [
              0.6666666666666666,
              "#ed7953"
             ],
             [
              0.7777777777777778,
              "#fb9f3a"
             ],
             [
              0.8888888888888888,
              "#fdca26"
             ],
             [
              1,
              "#f0f921"
             ]
            ],
            "type": "surface"
           }
          ],
          "table": [
           {
            "cells": {
             "fill": {
              "color": "#EBF0F8"
             },
             "line": {
              "color": "white"
             }
            },
            "header": {
             "fill": {
              "color": "#C8D4E3"
             },
             "line": {
              "color": "white"
             }
            },
            "type": "table"
           }
          ]
         },
         "layout": {
          "annotationdefaults": {
           "arrowcolor": "#2a3f5f",
           "arrowhead": 0,
           "arrowwidth": 1
          },
          "autotypenumbers": "strict",
          "coloraxis": {
           "colorbar": {
            "outlinewidth": 0,
            "ticks": ""
           }
          },
          "colorscale": {
           "diverging": [
            [
             0,
             "#8e0152"
            ],
            [
             0.1,
             "#c51b7d"
            ],
            [
             0.2,
             "#de77ae"
            ],
            [
             0.3,
             "#f1b6da"
            ],
            [
             0.4,
             "#fde0ef"
            ],
            [
             0.5,
             "#f7f7f7"
            ],
            [
             0.6,
             "#e6f5d0"
            ],
            [
             0.7,
             "#b8e186"
            ],
            [
             0.8,
             "#7fbc41"
            ],
            [
             0.9,
             "#4d9221"
            ],
            [
             1,
             "#276419"
            ]
           ],
           "sequential": [
            [
             0,
             "#0d0887"
            ],
            [
             0.1111111111111111,
             "#46039f"
            ],
            [
             0.2222222222222222,
             "#7201a8"
            ],
            [
             0.3333333333333333,
             "#9c179e"
            ],
            [
             0.4444444444444444,
             "#bd3786"
            ],
            [
             0.5555555555555556,
             "#d8576b"
            ],
            [
             0.6666666666666666,
             "#ed7953"
            ],
            [
             0.7777777777777778,
             "#fb9f3a"
            ],
            [
             0.8888888888888888,
             "#fdca26"
            ],
            [
             1,
             "#f0f921"
            ]
           ],
           "sequentialminus": [
            [
             0,
             "#0d0887"
            ],
            [
             0.1111111111111111,
             "#46039f"
            ],
            [
             0.2222222222222222,
             "#7201a8"
            ],
            [
             0.3333333333333333,
             "#9c179e"
            ],
            [
             0.4444444444444444,
             "#bd3786"
            ],
            [
             0.5555555555555556,
             "#d8576b"
            ],
            [
             0.6666666666666666,
             "#ed7953"
            ],
            [
             0.7777777777777778,
             "#fb9f3a"
            ],
            [
             0.8888888888888888,
             "#fdca26"
            ],
            [
             1,
             "#f0f921"
            ]
           ]
          },
          "colorway": [
           "#636efa",
           "#EF553B",
           "#00cc96",
           "#ab63fa",
           "#FFA15A",
           "#19d3f3",
           "#FF6692",
           "#B6E880",
           "#FF97FF",
           "#FECB52"
          ],
          "font": {
           "color": "#2a3f5f"
          },
          "geo": {
           "bgcolor": "white",
           "lakecolor": "white",
           "landcolor": "#E5ECF6",
           "showlakes": true,
           "showland": true,
           "subunitcolor": "white"
          },
          "hoverlabel": {
           "align": "left"
          },
          "hovermode": "closest",
          "mapbox": {
           "style": "light"
          },
          "paper_bgcolor": "white",
          "plot_bgcolor": "#E5ECF6",
          "polar": {
           "angularaxis": {
            "gridcolor": "white",
            "linecolor": "white",
            "ticks": ""
           },
           "bgcolor": "#E5ECF6",
           "radialaxis": {
            "gridcolor": "white",
            "linecolor": "white",
            "ticks": ""
           }
          },
          "scene": {
           "xaxis": {
            "backgroundcolor": "#E5ECF6",
            "gridcolor": "white",
            "gridwidth": 2,
            "linecolor": "white",
            "showbackground": true,
            "ticks": "",
            "zerolinecolor": "white"
           },
           "yaxis": {
            "backgroundcolor": "#E5ECF6",
            "gridcolor": "white",
            "gridwidth": 2,
            "linecolor": "white",
            "showbackground": true,
            "ticks": "",
            "zerolinecolor": "white"
           },
           "zaxis": {
            "backgroundcolor": "#E5ECF6",
            "gridcolor": "white",
            "gridwidth": 2,
            "linecolor": "white",
            "showbackground": true,
            "ticks": "",
            "zerolinecolor": "white"
           }
          },
          "shapedefaults": {
           "line": {
            "color": "#2a3f5f"
           }
          },
          "ternary": {
           "aaxis": {
            "gridcolor": "white",
            "linecolor": "white",
            "ticks": ""
           },
           "baxis": {
            "gridcolor": "white",
            "linecolor": "white",
            "ticks": ""
           },
           "bgcolor": "#E5ECF6",
           "caxis": {
            "gridcolor": "white",
            "linecolor": "white",
            "ticks": ""
           }
          },
          "title": {
           "x": 0.05
          },
          "xaxis": {
           "automargin": true,
           "gridcolor": "white",
           "linecolor": "white",
           "ticks": "",
           "title": {
            "standoff": 15
           },
           "zerolinecolor": "white",
           "zerolinewidth": 2
          },
          "yaxis": {
           "automargin": true,
           "gridcolor": "white",
           "linecolor": "white",
           "ticks": "",
           "title": {
            "standoff": 15
           },
           "zerolinecolor": "white",
           "zerolinewidth": 2
          }
         }
        },
        "width": 1800,
        "xaxis": {
         "anchor": "y",
         "domain": [
          0,
          0.16799999999999998
         ],
         "title": {
          "text": "Pclass"
         }
        },
        "xaxis10": {
         "anchor": "y10",
         "domain": [
          0.832,
          1
         ],
         "title": {
          "text": "Age"
         }
        },
        "xaxis11": {
         "anchor": "y11",
         "domain": [
          0,
          0.16799999999999998
         ],
         "title": {
          "text": "SibSp"
         }
        },
        "xaxis12": {
         "anchor": "y12",
         "domain": [
          0.208,
          0.376
         ],
         "title": {
          "text": "SibSp"
         }
        },
        "xaxis13": {
         "anchor": "y13",
         "domain": [
          0.416,
          0.584
         ],
         "title": {
          "text": "SibSp"
         }
        },
        "xaxis14": {
         "anchor": "y14",
         "domain": [
          0.624,
          0.792
         ],
         "title": {
          "text": "SibSp"
         }
        },
        "xaxis15": {
         "anchor": "y15",
         "domain": [
          0.832,
          1
         ],
         "title": {
          "text": "SibSp"
         }
        },
        "xaxis16": {
         "anchor": "y16",
         "domain": [
          0,
          0.16799999999999998
         ],
         "title": {
          "text": "Parch"
         }
        },
        "xaxis17": {
         "anchor": "y17",
         "domain": [
          0.208,
          0.376
         ],
         "title": {
          "text": "Parch"
         }
        },
        "xaxis18": {
         "anchor": "y18",
         "domain": [
          0.416,
          0.584
         ],
         "title": {
          "text": "Parch"
         }
        },
        "xaxis19": {
         "anchor": "y19",
         "domain": [
          0.624,
          0.792
         ],
         "title": {
          "text": "Parch"
         }
        },
        "xaxis2": {
         "anchor": "y2",
         "domain": [
          0.208,
          0.376
         ],
         "title": {
          "text": "Pclass"
         }
        },
        "xaxis20": {
         "anchor": "y20",
         "domain": [
          0.832,
          1
         ],
         "title": {
          "text": "Parch"
         }
        },
        "xaxis21": {
         "anchor": "y21",
         "domain": [
          0,
          0.16799999999999998
         ],
         "title": {
          "text": "Fare"
         }
        },
        "xaxis22": {
         "anchor": "y22",
         "domain": [
          0.208,
          0.376
         ],
         "title": {
          "text": "Fare"
         }
        },
        "xaxis23": {
         "anchor": "y23",
         "domain": [
          0.416,
          0.584
         ],
         "title": {
          "text": "Fare"
         }
        },
        "xaxis24": {
         "anchor": "y24",
         "domain": [
          0.624,
          0.792
         ],
         "title": {
          "text": "Fare"
         }
        },
        "xaxis25": {
         "anchor": "y25",
         "domain": [
          0.832,
          1
         ],
         "title": {
          "text": "Fare"
         }
        },
        "xaxis3": {
         "anchor": "y3",
         "domain": [
          0.416,
          0.584
         ],
         "title": {
          "text": "Pclass"
         }
        },
        "xaxis4": {
         "anchor": "y4",
         "domain": [
          0.624,
          0.792
         ],
         "title": {
          "text": "Pclass"
         }
        },
        "xaxis5": {
         "anchor": "y5",
         "domain": [
          0.832,
          1
         ],
         "title": {
          "text": "Pclass"
         }
        },
        "xaxis6": {
         "anchor": "y6",
         "domain": [
          0,
          0.16799999999999998
         ],
         "title": {
          "text": "Age"
         }
        },
        "xaxis7": {
         "anchor": "y7",
         "domain": [
          0.208,
          0.376
         ],
         "title": {
          "text": "Age"
         }
        },
        "xaxis8": {
         "anchor": "y8",
         "domain": [
          0.416,
          0.584
         ],
         "title": {
          "text": "Age"
         }
        },
        "xaxis9": {
         "anchor": "y9",
         "domain": [
          0.624,
          0.792
         ],
         "title": {
          "text": "Age"
         }
        },
        "yaxis": {
         "anchor": "x",
         "domain": [
          0.848,
          1
         ],
         "title": {
          "text": "Pclass"
         }
        },
        "yaxis10": {
         "anchor": "x10",
         "domain": [
          0.6359999999999999,
          0.7879999999999999
         ],
         "title": {
          "text": "Fare"
         }
        },
        "yaxis11": {
         "anchor": "x11",
         "domain": [
          0.424,
          0.576
         ],
         "title": {
          "text": "Pclass"
         }
        },
        "yaxis12": {
         "anchor": "x12",
         "domain": [
          0.424,
          0.576
         ],
         "title": {
          "text": "Age"
         }
        },
        "yaxis13": {
         "anchor": "x13",
         "domain": [
          0.424,
          0.576
         ],
         "title": {
          "text": "SibSp"
         }
        },
        "yaxis14": {
         "anchor": "x14",
         "domain": [
          0.424,
          0.576
         ],
         "title": {
          "text": "Parch"
         }
        },
        "yaxis15": {
         "anchor": "x15",
         "domain": [
          0.424,
          0.576
         ],
         "title": {
          "text": "Fare"
         }
        },
        "yaxis16": {
         "anchor": "x16",
         "domain": [
          0.212,
          0.364
         ],
         "title": {
          "text": "Pclass"
         }
        },
        "yaxis17": {
         "anchor": "x17",
         "domain": [
          0.212,
          0.364
         ],
         "title": {
          "text": "Age"
         }
        },
        "yaxis18": {
         "anchor": "x18",
         "domain": [
          0.212,
          0.364
         ],
         "title": {
          "text": "SibSp"
         }
        },
        "yaxis19": {
         "anchor": "x19",
         "domain": [
          0.212,
          0.364
         ],
         "title": {
          "text": "Parch"
         }
        },
        "yaxis2": {
         "anchor": "x2",
         "domain": [
          0.848,
          1
         ],
         "title": {
          "text": "Age"
         }
        },
        "yaxis20": {
         "anchor": "x20",
         "domain": [
          0.212,
          0.364
         ],
         "title": {
          "text": "Fare"
         }
        },
        "yaxis21": {
         "anchor": "x21",
         "domain": [
          0,
          0.152
         ],
         "title": {
          "text": "Pclass"
         }
        },
        "yaxis22": {
         "anchor": "x22",
         "domain": [
          0,
          0.152
         ],
         "title": {
          "text": "Age"
         }
        },
        "yaxis23": {
         "anchor": "x23",
         "domain": [
          0,
          0.152
         ],
         "title": {
          "text": "SibSp"
         }
        },
        "yaxis24": {
         "anchor": "x24",
         "domain": [
          0,
          0.152
         ],
         "title": {
          "text": "Parch"
         }
        },
        "yaxis25": {
         "anchor": "x25",
         "domain": [
          0,
          0.152
         ],
         "title": {
          "text": "Fare"
         }
        },
        "yaxis3": {
         "anchor": "x3",
         "domain": [
          0.848,
          1
         ],
         "title": {
          "text": "SibSp"
         }
        },
        "yaxis4": {
         "anchor": "x4",
         "domain": [
          0.848,
          1
         ],
         "title": {
          "text": "Parch"
         }
        },
        "yaxis5": {
         "anchor": "x5",
         "domain": [
          0.848,
          1
         ],
         "title": {
          "text": "Fare"
         }
        },
        "yaxis6": {
         "anchor": "x6",
         "domain": [
          0.6359999999999999,
          0.7879999999999999
         ],
         "title": {
          "text": "Pclass"
         }
        },
        "yaxis7": {
         "anchor": "x7",
         "domain": [
          0.6359999999999999,
          0.7879999999999999
         ],
         "title": {
          "text": "Age"
         }
        },
        "yaxis8": {
         "anchor": "x8",
         "domain": [
          0.6359999999999999,
          0.7879999999999999
         ],
         "title": {
          "text": "SibSp"
         }
        },
        "yaxis9": {
         "anchor": "x9",
         "domain": [
          0.6359999999999999,
          0.7879999999999999
         ],
         "title": {
          "text": "Parch"
         }
        }
       }
      }
     },
     "metadata": {},
     "output_type": "display_data"
    }
   ],
   "source": [
    "# Matriz de dispersión \n",
    "fig = make_subplots(cols=len(numeric_columns), rows=len(numeric_columns))\n",
    "\n",
    "for i, value_x in enumerate(numeric_columns):\n",
    "    for j, value_y in enumerate(numeric_columns):\n",
    "        if i == j:\n",
    "            fig.add_trace(\n",
    "                go.Histogram(\n",
    "                    x=test[value_x],\n",
    "                    marker=dict(\n",
    "                        color=\"steelblue\",\n",
    "                        line=dict(color=\"black\", width=1)\n",
    "                    )\n",
    "                ),\n",
    "                row=i + 1,\n",
    "                col=j + 1,\n",
    "            )\n",
    "            fig.update_xaxes(title_text=value_x, row=i + 1, col=j + 1)\n",
    "            fig.update_yaxes(title_text=value_x, row=i + 1, col=j + 1)\n",
    "        else:\n",
    "            fig.add_trace(\n",
    "                go.Scatter(\n",
    "                    x=test[value_x],\n",
    "                    y=test[value_y],\n",
    "                    mode=\"markers\",\n",
    "                    marker=dict(color=\"steelblue\")\n",
    "                ),\n",
    "                row=i + 1,\n",
    "                col=j + 1,\n",
    "            )\n",
    "            fig.update_xaxes(title_text=value_x, row=i + 1, col=j + 1)\n",
    "            fig.update_yaxes(title_text=value_y, row=i + 1, col=j + 1)\n",
    "\n",
    "fig.update_layout(showlegend=False)\n",
    "fig.update_layout(\n",
    "    width=1800,\n",
    "    height=1800\n",
    ")\n",
    "fig.show()"
   ]
  },
  {
   "cell_type": "markdown",
   "id": "d45d1ea4",
   "metadata": {},
   "source": [
    "##### Explicación de la Matriz de Dispersión (Pair Plot)\n",
    "\n",
    "**Resultados obtenidos:**\n",
    "La matriz de dispersión muestra la distribución univariada y las relaciones bivariadas entre las 5 variables numéricas: `Pclass`, `Age`, `SibSp`, `Parch` y `Fare`.\n",
    "\n",
    "**Análisis de las distribuciones unidimensionales (histogramas en diagonal):**\n",
    "\n",
    "**Pclass:**\n",
    "- Distribución desbalanceada con mayoría en clase 3\n",
    "- Clase 1 y 2 tienen menos pasajeros\n",
    "- Refleja la estructura socioeconómica del Titanic\n",
    "\n",
    "**Age:**\n",
    "- Distribución unimodal sesgada a la derecha\n",
    "- Concentración principal entre 20-40 años\n",
    "- Presencia de valores negativos (datos faltantes codificados incorrectamente)\n",
    "- Requiere imputación de datos faltantes\n",
    "\n",
    "**SibSp (hermanos/cónyuges):**\n",
    "- Distribución altamente sesgada\n",
    "- Gran mayoría con valor 0 (viajan solos)\n",
    "- Frecuencia decrece drásticamente con valores mayores\n",
    "\n",
    "**Parch (padres/hijos):**\n",
    "- Patrón similar a SibSp\n",
    "- Mayoría con valor 0\n",
    "- Distribución de cola larga\n",
    "\n",
    "**Fare (tarifa):**\n",
    "- Distribución fuertemente sesgada a la derecha\n",
    "- Mayoría con tarifas bajas\n",
    "- Cola larga hacia tarifas muy altas\n",
    "\n",
    "**Análisis de relaciones bivariadas (scatter plots):**\n",
    "\n",
    "**Relaciones más importantes:**\n",
    "- **Pclass vs Fare**: Relación inversa clara (clase 1 = tarifas altas)\n",
    "- **SibSp vs Parch**: Correlación positiva (familias más grandes)\n",
    "- **Age vs Pclass**: Clase 1-2 tienen mayor rango de edades\n",
    "- **Fare vs variables familiares**: Tendencia positiva débil\n",
    "\n",
    "**Implicaciones para el modelo:**\n",
    "- Necesidad de imputar datos faltantes en Age\n",
    "- Posible normalización/estandarización por sesgo\n",
    "- Considerar interacciones entre variables familiares\n",
    "- La relación Pclass-Fare podría ser redundante"
   ]
  },
  {
   "cell_type": "markdown",
   "id": "0b9b129f",
   "metadata": {},
   "source": [
    "####  PCA CON DATOS DE TEST"
   ]
  },
  {
   "cell_type": "code",
   "execution_count": 436,
   "id": "46212f10",
   "metadata": {},
   "outputs": [
    {
     "data": {
      "application/vnd.plotly.v1+json": {
       "config": {
        "plotlyServerURL": "https://plot.ly"
       },
       "data": [
        {
         "marker": {
          "color": "orange"
         },
         "mode": "lines+markers",
         "type": "scatter",
         "x": [
          1,
          2,
          3,
          4,
          5
         ],
         "y": {
          "bdata": "bjdxmOn31z+ve6JK6SHRP/cnQdvsEMM/leQa185rwT9xGvkOPZ+yPw==",
          "dtype": "f8"
         }
        }
       ],
       "layout": {
        "template": {
         "data": {
          "bar": [
           {
            "error_x": {
             "color": "#2a3f5f"
            },
            "error_y": {
             "color": "#2a3f5f"
            },
            "marker": {
             "line": {
              "color": "#E5ECF6",
              "width": 0.5
             },
             "pattern": {
              "fillmode": "overlay",
              "size": 10,
              "solidity": 0.2
             }
            },
            "type": "bar"
           }
          ],
          "barpolar": [
           {
            "marker": {
             "line": {
              "color": "#E5ECF6",
              "width": 0.5
             },
             "pattern": {
              "fillmode": "overlay",
              "size": 10,
              "solidity": 0.2
             }
            },
            "type": "barpolar"
           }
          ],
          "carpet": [
           {
            "aaxis": {
             "endlinecolor": "#2a3f5f",
             "gridcolor": "white",
             "linecolor": "white",
             "minorgridcolor": "white",
             "startlinecolor": "#2a3f5f"
            },
            "baxis": {
             "endlinecolor": "#2a3f5f",
             "gridcolor": "white",
             "linecolor": "white",
             "minorgridcolor": "white",
             "startlinecolor": "#2a3f5f"
            },
            "type": "carpet"
           }
          ],
          "choropleth": [
           {
            "colorbar": {
             "outlinewidth": 0,
             "ticks": ""
            },
            "type": "choropleth"
           }
          ],
          "contour": [
           {
            "colorbar": {
             "outlinewidth": 0,
             "ticks": ""
            },
            "colorscale": [
             [
              0,
              "#0d0887"
             ],
             [
              0.1111111111111111,
              "#46039f"
             ],
             [
              0.2222222222222222,
              "#7201a8"
             ],
             [
              0.3333333333333333,
              "#9c179e"
             ],
             [
              0.4444444444444444,
              "#bd3786"
             ],
             [
              0.5555555555555556,
              "#d8576b"
             ],
             [
              0.6666666666666666,
              "#ed7953"
             ],
             [
              0.7777777777777778,
              "#fb9f3a"
             ],
             [
              0.8888888888888888,
              "#fdca26"
             ],
             [
              1,
              "#f0f921"
             ]
            ],
            "type": "contour"
           }
          ],
          "contourcarpet": [
           {
            "colorbar": {
             "outlinewidth": 0,
             "ticks": ""
            },
            "type": "contourcarpet"
           }
          ],
          "heatmap": [
           {
            "colorbar": {
             "outlinewidth": 0,
             "ticks": ""
            },
            "colorscale": [
             [
              0,
              "#0d0887"
             ],
             [
              0.1111111111111111,
              "#46039f"
             ],
             [
              0.2222222222222222,
              "#7201a8"
             ],
             [
              0.3333333333333333,
              "#9c179e"
             ],
             [
              0.4444444444444444,
              "#bd3786"
             ],
             [
              0.5555555555555556,
              "#d8576b"
             ],
             [
              0.6666666666666666,
              "#ed7953"
             ],
             [
              0.7777777777777778,
              "#fb9f3a"
             ],
             [
              0.8888888888888888,
              "#fdca26"
             ],
             [
              1,
              "#f0f921"
             ]
            ],
            "type": "heatmap"
           }
          ],
          "histogram": [
           {
            "marker": {
             "pattern": {
              "fillmode": "overlay",
              "size": 10,
              "solidity": 0.2
             }
            },
            "type": "histogram"
           }
          ],
          "histogram2d": [
           {
            "colorbar": {
             "outlinewidth": 0,
             "ticks": ""
            },
            "colorscale": [
             [
              0,
              "#0d0887"
             ],
             [
              0.1111111111111111,
              "#46039f"
             ],
             [
              0.2222222222222222,
              "#7201a8"
             ],
             [
              0.3333333333333333,
              "#9c179e"
             ],
             [
              0.4444444444444444,
              "#bd3786"
             ],
             [
              0.5555555555555556,
              "#d8576b"
             ],
             [
              0.6666666666666666,
              "#ed7953"
             ],
             [
              0.7777777777777778,
              "#fb9f3a"
             ],
             [
              0.8888888888888888,
              "#fdca26"
             ],
             [
              1,
              "#f0f921"
             ]
            ],
            "type": "histogram2d"
           }
          ],
          "histogram2dcontour": [
           {
            "colorbar": {
             "outlinewidth": 0,
             "ticks": ""
            },
            "colorscale": [
             [
              0,
              "#0d0887"
             ],
             [
              0.1111111111111111,
              "#46039f"
             ],
             [
              0.2222222222222222,
              "#7201a8"
             ],
             [
              0.3333333333333333,
              "#9c179e"
             ],
             [
              0.4444444444444444,
              "#bd3786"
             ],
             [
              0.5555555555555556,
              "#d8576b"
             ],
             [
              0.6666666666666666,
              "#ed7953"
             ],
             [
              0.7777777777777778,
              "#fb9f3a"
             ],
             [
              0.8888888888888888,
              "#fdca26"
             ],
             [
              1,
              "#f0f921"
             ]
            ],
            "type": "histogram2dcontour"
           }
          ],
          "mesh3d": [
           {
            "colorbar": {
             "outlinewidth": 0,
             "ticks": ""
            },
            "type": "mesh3d"
           }
          ],
          "parcoords": [
           {
            "line": {
             "colorbar": {
              "outlinewidth": 0,
              "ticks": ""
             }
            },
            "type": "parcoords"
           }
          ],
          "pie": [
           {
            "automargin": true,
            "type": "pie"
           }
          ],
          "scatter": [
           {
            "fillpattern": {
             "fillmode": "overlay",
             "size": 10,
             "solidity": 0.2
            },
            "type": "scatter"
           }
          ],
          "scatter3d": [
           {
            "line": {
             "colorbar": {
              "outlinewidth": 0,
              "ticks": ""
             }
            },
            "marker": {
             "colorbar": {
              "outlinewidth": 0,
              "ticks": ""
             }
            },
            "type": "scatter3d"
           }
          ],
          "scattercarpet": [
           {
            "marker": {
             "colorbar": {
              "outlinewidth": 0,
              "ticks": ""
             }
            },
            "type": "scattercarpet"
           }
          ],
          "scattergeo": [
           {
            "marker": {
             "colorbar": {
              "outlinewidth": 0,
              "ticks": ""
             }
            },
            "type": "scattergeo"
           }
          ],
          "scattergl": [
           {
            "marker": {
             "colorbar": {
              "outlinewidth": 0,
              "ticks": ""
             }
            },
            "type": "scattergl"
           }
          ],
          "scattermap": [
           {
            "marker": {
             "colorbar": {
              "outlinewidth": 0,
              "ticks": ""
             }
            },
            "type": "scattermap"
           }
          ],
          "scattermapbox": [
           {
            "marker": {
             "colorbar": {
              "outlinewidth": 0,
              "ticks": ""
             }
            },
            "type": "scattermapbox"
           }
          ],
          "scatterpolar": [
           {
            "marker": {
             "colorbar": {
              "outlinewidth": 0,
              "ticks": ""
             }
            },
            "type": "scatterpolar"
           }
          ],
          "scatterpolargl": [
           {
            "marker": {
             "colorbar": {
              "outlinewidth": 0,
              "ticks": ""
             }
            },
            "type": "scatterpolargl"
           }
          ],
          "scatterternary": [
           {
            "marker": {
             "colorbar": {
              "outlinewidth": 0,
              "ticks": ""
             }
            },
            "type": "scatterternary"
           }
          ],
          "surface": [
           {
            "colorbar": {
             "outlinewidth": 0,
             "ticks": ""
            },
            "colorscale": [
             [
              0,
              "#0d0887"
             ],
             [
              0.1111111111111111,
              "#46039f"
             ],
             [
              0.2222222222222222,
              "#7201a8"
             ],
             [
              0.3333333333333333,
              "#9c179e"
             ],
             [
              0.4444444444444444,
              "#bd3786"
             ],
             [
              0.5555555555555556,
              "#d8576b"
             ],
             [
              0.6666666666666666,
              "#ed7953"
             ],
             [
              0.7777777777777778,
              "#fb9f3a"
             ],
             [
              0.8888888888888888,
              "#fdca26"
             ],
             [
              1,
              "#f0f921"
             ]
            ],
            "type": "surface"
           }
          ],
          "table": [
           {
            "cells": {
             "fill": {
              "color": "#EBF0F8"
             },
             "line": {
              "color": "white"
             }
            },
            "header": {
             "fill": {
              "color": "#C8D4E3"
             },
             "line": {
              "color": "white"
             }
            },
            "type": "table"
           }
          ]
         },
         "layout": {
          "annotationdefaults": {
           "arrowcolor": "#2a3f5f",
           "arrowhead": 0,
           "arrowwidth": 1
          },
          "autotypenumbers": "strict",
          "coloraxis": {
           "colorbar": {
            "outlinewidth": 0,
            "ticks": ""
           }
          },
          "colorscale": {
           "diverging": [
            [
             0,
             "#8e0152"
            ],
            [
             0.1,
             "#c51b7d"
            ],
            [
             0.2,
             "#de77ae"
            ],
            [
             0.3,
             "#f1b6da"
            ],
            [
             0.4,
             "#fde0ef"
            ],
            [
             0.5,
             "#f7f7f7"
            ],
            [
             0.6,
             "#e6f5d0"
            ],
            [
             0.7,
             "#b8e186"
            ],
            [
             0.8,
             "#7fbc41"
            ],
            [
             0.9,
             "#4d9221"
            ],
            [
             1,
             "#276419"
            ]
           ],
           "sequential": [
            [
             0,
             "#0d0887"
            ],
            [
             0.1111111111111111,
             "#46039f"
            ],
            [
             0.2222222222222222,
             "#7201a8"
            ],
            [
             0.3333333333333333,
             "#9c179e"
            ],
            [
             0.4444444444444444,
             "#bd3786"
            ],
            [
             0.5555555555555556,
             "#d8576b"
            ],
            [
             0.6666666666666666,
             "#ed7953"
            ],
            [
             0.7777777777777778,
             "#fb9f3a"
            ],
            [
             0.8888888888888888,
             "#fdca26"
            ],
            [
             1,
             "#f0f921"
            ]
           ],
           "sequentialminus": [
            [
             0,
             "#0d0887"
            ],
            [
             0.1111111111111111,
             "#46039f"
            ],
            [
             0.2222222222222222,
             "#7201a8"
            ],
            [
             0.3333333333333333,
             "#9c179e"
            ],
            [
             0.4444444444444444,
             "#bd3786"
            ],
            [
             0.5555555555555556,
             "#d8576b"
            ],
            [
             0.6666666666666666,
             "#ed7953"
            ],
            [
             0.7777777777777778,
             "#fb9f3a"
            ],
            [
             0.8888888888888888,
             "#fdca26"
            ],
            [
             1,
             "#f0f921"
            ]
           ]
          },
          "colorway": [
           "#636efa",
           "#EF553B",
           "#00cc96",
           "#ab63fa",
           "#FFA15A",
           "#19d3f3",
           "#FF6692",
           "#B6E880",
           "#FF97FF",
           "#FECB52"
          ],
          "font": {
           "color": "#2a3f5f"
          },
          "geo": {
           "bgcolor": "white",
           "lakecolor": "white",
           "landcolor": "#E5ECF6",
           "showlakes": true,
           "showland": true,
           "subunitcolor": "white"
          },
          "hoverlabel": {
           "align": "left"
          },
          "hovermode": "closest",
          "mapbox": {
           "style": "light"
          },
          "paper_bgcolor": "white",
          "plot_bgcolor": "#E5ECF6",
          "polar": {
           "angularaxis": {
            "gridcolor": "white",
            "linecolor": "white",
            "ticks": ""
           },
           "bgcolor": "#E5ECF6",
           "radialaxis": {
            "gridcolor": "white",
            "linecolor": "white",
            "ticks": ""
           }
          },
          "scene": {
           "xaxis": {
            "backgroundcolor": "#E5ECF6",
            "gridcolor": "white",
            "gridwidth": 2,
            "linecolor": "white",
            "showbackground": true,
            "ticks": "",
            "zerolinecolor": "white"
           },
           "yaxis": {
            "backgroundcolor": "#E5ECF6",
            "gridcolor": "white",
            "gridwidth": 2,
            "linecolor": "white",
            "showbackground": true,
            "ticks": "",
            "zerolinecolor": "white"
           },
           "zaxis": {
            "backgroundcolor": "#E5ECF6",
            "gridcolor": "white",
            "gridwidth": 2,
            "linecolor": "white",
            "showbackground": true,
            "ticks": "",
            "zerolinecolor": "white"
           }
          },
          "shapedefaults": {
           "line": {
            "color": "#2a3f5f"
           }
          },
          "ternary": {
           "aaxis": {
            "gridcolor": "white",
            "linecolor": "white",
            "ticks": ""
           },
           "baxis": {
            "gridcolor": "white",
            "linecolor": "white",
            "ticks": ""
           },
           "bgcolor": "#E5ECF6",
           "caxis": {
            "gridcolor": "white",
            "linecolor": "white",
            "ticks": ""
           }
          },
          "title": {
           "x": 0.05
          },
          "xaxis": {
           "automargin": true,
           "gridcolor": "white",
           "linecolor": "white",
           "ticks": "",
           "title": {
            "standoff": 15
           },
           "zerolinecolor": "white",
           "zerolinewidth": 2
          },
          "yaxis": {
           "automargin": true,
           "gridcolor": "white",
           "linecolor": "white",
           "ticks": "",
           "title": {
            "standoff": 15
           },
           "zerolinecolor": "white",
           "zerolinewidth": 2
          }
         }
        },
        "title": {
         "text": "Porcentaje de varianza explicada por componente"
        },
        "xaxis": {
         "tickmode": "array",
         "tickvals": [
          1,
          2,
          3,
          4,
          5
         ],
         "title": {
          "text": "Componentes"
         }
        },
        "yaxis": {
         "title": {
          "text": "Porcentaje de varianza"
         }
        }
       }
      }
     },
     "metadata": {},
     "output_type": "display_data"
    }
   ],
   "source": [
    "# PCA con datos de test (código original)\n",
    "numeric_scaled = StandardScaler().fit_transform(numeric_data)\n",
    "\n",
    "# PCA para 95% de varianza\n",
    "pca_95 = PCA(n_components=0.95).fit(numeric_scaled)\n",
    "varianza_exp = pca_95.explained_variance_ratio_\n",
    "\n",
    "fig = go.Figure()\n",
    "fig.add_trace(\n",
    "    go.Scatter(\n",
    "        x=list(range(1, len(varianza_exp) + 1)),\n",
    "        y=varianza_exp,\n",
    "        mode=\"lines+markers\",\n",
    "        marker=dict(color=\"orange\")\n",
    "    )\n",
    ")\n",
    "fig.update_layout(\n",
    "    xaxis=dict(\n",
    "        title_text=\"Componentes\",\n",
    "        tickmode=\"array\",\n",
    "        tickvals=list(range(1, len(varianza_exp) + 1))\n",
    "    ),\n",
    "    yaxis_title=\"Porcentaje de varianza\",\n",
    "    title=\"Porcentaje de varianza explicada por componente\"\n",
    ")\n",
    "fig.show()"
   ]
  },
  {
   "cell_type": "markdown",
   "id": "92c9a059",
   "metadata": {},
   "source": [
    "##### Explicación del Porcentaje de Varianza Explicada por Componente (PCA)\n",
    "\n",
    "**Resultados obtenidos:**\n",
    "El gráfico muestra el porcentaje de varianza total de los datos que es explicada por cada componente principal (PCA).\n",
    "\n",
    "**Distribución de varianza por componente:**\n",
    "- **Componente 1:** Explica aproximadamente el 36% de la varianza\n",
    "- **Componente 2:** Explica aproximadamente el 27% de la varianza  \n",
    "- **Componente 3:** Explica aproximadamente el 15% de la varianza\n",
    "- **Componente 4:** Explica aproximadamente el 14% de la varianza\n",
    "- **Componente 5:** Explica aproximadamente el 8% de la varianza\n",
    "\n",
    "**Análisis del Scree Plot:**\n",
    "Este gráfico, conocido como \"scree plot\" o \"gráfico de codo\", es fundamental en PCA para determinar el número óptimo de componentes a retener.\n",
    "\n",
    "**Observaciones clave:**\n",
    "- Se observa una caída significativa en el porcentaje de varianza explicada desde el primer componente hasta el tercer componente\n",
    "- Después del tercer componente, la disminución en la varianza explicada se vuelve mucho menos pronunciada\n",
    "- Se forma un \"codo\" o \"punto de inflexión\" alrededor del Componente 3\n",
    "\n",
    "**Implicaciones para el modelo:**\n",
    "- El \"codo\" en el Componente 3 sugiere que los primeros tres componentes principales capturan una parte sustancial de la varianza total\n",
    "- Los componentes posteriores (4 y 5) contribuyen con información marginalmente menor\n",
    "- Para este conjunto de datos, retener 3 componentes principales podría ser un buen equilibrio entre reducción de dimensionalidad y retención de información relevante\n",
    "- Los primeros dos componentes explican más del 60% de la varianza total, lo que indica una buena capacidad de compresión de la información"
   ]
  },
  {
   "cell_type": "markdown",
   "id": "ba18c7c9",
   "metadata": {},
   "source": [
    "#### VARIANZA ACUMULADA"
   ]
  },
  {
   "cell_type": "code",
   "execution_count": 437,
   "id": "85e235b1",
   "metadata": {},
   "outputs": [
    {
     "data": {
      "application/vnd.plotly.v1+json": {
       "config": {
        "plotlyServerURL": "https://plot.ly"
       },
       "data": [
        {
         "marker": {
          "color": "deepskyblue"
         },
         "mode": "lines+markers",
         "type": "scatter",
         "x": [
          1,
          2,
          3,
          4,
          5
         ],
         "y": {
          "bdata": "bjdxmOn31z+O2Ylx6YzkP4wjWqgkUek/sdwgXhis7T/////////vPw==",
          "dtype": "f8"
         }
        }
       ],
       "layout": {
        "template": {
         "data": {
          "bar": [
           {
            "error_x": {
             "color": "#2a3f5f"
            },
            "error_y": {
             "color": "#2a3f5f"
            },
            "marker": {
             "line": {
              "color": "#E5ECF6",
              "width": 0.5
             },
             "pattern": {
              "fillmode": "overlay",
              "size": 10,
              "solidity": 0.2
             }
            },
            "type": "bar"
           }
          ],
          "barpolar": [
           {
            "marker": {
             "line": {
              "color": "#E5ECF6",
              "width": 0.5
             },
             "pattern": {
              "fillmode": "overlay",
              "size": 10,
              "solidity": 0.2
             }
            },
            "type": "barpolar"
           }
          ],
          "carpet": [
           {
            "aaxis": {
             "endlinecolor": "#2a3f5f",
             "gridcolor": "white",
             "linecolor": "white",
             "minorgridcolor": "white",
             "startlinecolor": "#2a3f5f"
            },
            "baxis": {
             "endlinecolor": "#2a3f5f",
             "gridcolor": "white",
             "linecolor": "white",
             "minorgridcolor": "white",
             "startlinecolor": "#2a3f5f"
            },
            "type": "carpet"
           }
          ],
          "choropleth": [
           {
            "colorbar": {
             "outlinewidth": 0,
             "ticks": ""
            },
            "type": "choropleth"
           }
          ],
          "contour": [
           {
            "colorbar": {
             "outlinewidth": 0,
             "ticks": ""
            },
            "colorscale": [
             [
              0,
              "#0d0887"
             ],
             [
              0.1111111111111111,
              "#46039f"
             ],
             [
              0.2222222222222222,
              "#7201a8"
             ],
             [
              0.3333333333333333,
              "#9c179e"
             ],
             [
              0.4444444444444444,
              "#bd3786"
             ],
             [
              0.5555555555555556,
              "#d8576b"
             ],
             [
              0.6666666666666666,
              "#ed7953"
             ],
             [
              0.7777777777777778,
              "#fb9f3a"
             ],
             [
              0.8888888888888888,
              "#fdca26"
             ],
             [
              1,
              "#f0f921"
             ]
            ],
            "type": "contour"
           }
          ],
          "contourcarpet": [
           {
            "colorbar": {
             "outlinewidth": 0,
             "ticks": ""
            },
            "type": "contourcarpet"
           }
          ],
          "heatmap": [
           {
            "colorbar": {
             "outlinewidth": 0,
             "ticks": ""
            },
            "colorscale": [
             [
              0,
              "#0d0887"
             ],
             [
              0.1111111111111111,
              "#46039f"
             ],
             [
              0.2222222222222222,
              "#7201a8"
             ],
             [
              0.3333333333333333,
              "#9c179e"
             ],
             [
              0.4444444444444444,
              "#bd3786"
             ],
             [
              0.5555555555555556,
              "#d8576b"
             ],
             [
              0.6666666666666666,
              "#ed7953"
             ],
             [
              0.7777777777777778,
              "#fb9f3a"
             ],
             [
              0.8888888888888888,
              "#fdca26"
             ],
             [
              1,
              "#f0f921"
             ]
            ],
            "type": "heatmap"
           }
          ],
          "histogram": [
           {
            "marker": {
             "pattern": {
              "fillmode": "overlay",
              "size": 10,
              "solidity": 0.2
             }
            },
            "type": "histogram"
           }
          ],
          "histogram2d": [
           {
            "colorbar": {
             "outlinewidth": 0,
             "ticks": ""
            },
            "colorscale": [
             [
              0,
              "#0d0887"
             ],
             [
              0.1111111111111111,
              "#46039f"
             ],
             [
              0.2222222222222222,
              "#7201a8"
             ],
             [
              0.3333333333333333,
              "#9c179e"
             ],
             [
              0.4444444444444444,
              "#bd3786"
             ],
             [
              0.5555555555555556,
              "#d8576b"
             ],
             [
              0.6666666666666666,
              "#ed7953"
             ],
             [
              0.7777777777777778,
              "#fb9f3a"
             ],
             [
              0.8888888888888888,
              "#fdca26"
             ],
             [
              1,
              "#f0f921"
             ]
            ],
            "type": "histogram2d"
           }
          ],
          "histogram2dcontour": [
           {
            "colorbar": {
             "outlinewidth": 0,
             "ticks": ""
            },
            "colorscale": [
             [
              0,
              "#0d0887"
             ],
             [
              0.1111111111111111,
              "#46039f"
             ],
             [
              0.2222222222222222,
              "#7201a8"
             ],
             [
              0.3333333333333333,
              "#9c179e"
             ],
             [
              0.4444444444444444,
              "#bd3786"
             ],
             [
              0.5555555555555556,
              "#d8576b"
             ],
             [
              0.6666666666666666,
              "#ed7953"
             ],
             [
              0.7777777777777778,
              "#fb9f3a"
             ],
             [
              0.8888888888888888,
              "#fdca26"
             ],
             [
              1,
              "#f0f921"
             ]
            ],
            "type": "histogram2dcontour"
           }
          ],
          "mesh3d": [
           {
            "colorbar": {
             "outlinewidth": 0,
             "ticks": ""
            },
            "type": "mesh3d"
           }
          ],
          "parcoords": [
           {
            "line": {
             "colorbar": {
              "outlinewidth": 0,
              "ticks": ""
             }
            },
            "type": "parcoords"
           }
          ],
          "pie": [
           {
            "automargin": true,
            "type": "pie"
           }
          ],
          "scatter": [
           {
            "fillpattern": {
             "fillmode": "overlay",
             "size": 10,
             "solidity": 0.2
            },
            "type": "scatter"
           }
          ],
          "scatter3d": [
           {
            "line": {
             "colorbar": {
              "outlinewidth": 0,
              "ticks": ""
             }
            },
            "marker": {
             "colorbar": {
              "outlinewidth": 0,
              "ticks": ""
             }
            },
            "type": "scatter3d"
           }
          ],
          "scattercarpet": [
           {
            "marker": {
             "colorbar": {
              "outlinewidth": 0,
              "ticks": ""
             }
            },
            "type": "scattercarpet"
           }
          ],
          "scattergeo": [
           {
            "marker": {
             "colorbar": {
              "outlinewidth": 0,
              "ticks": ""
             }
            },
            "type": "scattergeo"
           }
          ],
          "scattergl": [
           {
            "marker": {
             "colorbar": {
              "outlinewidth": 0,
              "ticks": ""
             }
            },
            "type": "scattergl"
           }
          ],
          "scattermap": [
           {
            "marker": {
             "colorbar": {
              "outlinewidth": 0,
              "ticks": ""
             }
            },
            "type": "scattermap"
           }
          ],
          "scattermapbox": [
           {
            "marker": {
             "colorbar": {
              "outlinewidth": 0,
              "ticks": ""
             }
            },
            "type": "scattermapbox"
           }
          ],
          "scatterpolar": [
           {
            "marker": {
             "colorbar": {
              "outlinewidth": 0,
              "ticks": ""
             }
            },
            "type": "scatterpolar"
           }
          ],
          "scatterpolargl": [
           {
            "marker": {
             "colorbar": {
              "outlinewidth": 0,
              "ticks": ""
             }
            },
            "type": "scatterpolargl"
           }
          ],
          "scatterternary": [
           {
            "marker": {
             "colorbar": {
              "outlinewidth": 0,
              "ticks": ""
             }
            },
            "type": "scatterternary"
           }
          ],
          "surface": [
           {
            "colorbar": {
             "outlinewidth": 0,
             "ticks": ""
            },
            "colorscale": [
             [
              0,
              "#0d0887"
             ],
             [
              0.1111111111111111,
              "#46039f"
             ],
             [
              0.2222222222222222,
              "#7201a8"
             ],
             [
              0.3333333333333333,
              "#9c179e"
             ],
             [
              0.4444444444444444,
              "#bd3786"
             ],
             [
              0.5555555555555556,
              "#d8576b"
             ],
             [
              0.6666666666666666,
              "#ed7953"
             ],
             [
              0.7777777777777778,
              "#fb9f3a"
             ],
             [
              0.8888888888888888,
              "#fdca26"
             ],
             [
              1,
              "#f0f921"
             ]
            ],
            "type": "surface"
           }
          ],
          "table": [
           {
            "cells": {
             "fill": {
              "color": "#EBF0F8"
             },
             "line": {
              "color": "white"
             }
            },
            "header": {
             "fill": {
              "color": "#C8D4E3"
             },
             "line": {
              "color": "white"
             }
            },
            "type": "table"
           }
          ]
         },
         "layout": {
          "annotationdefaults": {
           "arrowcolor": "#2a3f5f",
           "arrowhead": 0,
           "arrowwidth": 1
          },
          "autotypenumbers": "strict",
          "coloraxis": {
           "colorbar": {
            "outlinewidth": 0,
            "ticks": ""
           }
          },
          "colorscale": {
           "diverging": [
            [
             0,
             "#8e0152"
            ],
            [
             0.1,
             "#c51b7d"
            ],
            [
             0.2,
             "#de77ae"
            ],
            [
             0.3,
             "#f1b6da"
            ],
            [
             0.4,
             "#fde0ef"
            ],
            [
             0.5,
             "#f7f7f7"
            ],
            [
             0.6,
             "#e6f5d0"
            ],
            [
             0.7,
             "#b8e186"
            ],
            [
             0.8,
             "#7fbc41"
            ],
            [
             0.9,
             "#4d9221"
            ],
            [
             1,
             "#276419"
            ]
           ],
           "sequential": [
            [
             0,
             "#0d0887"
            ],
            [
             0.1111111111111111,
             "#46039f"
            ],
            [
             0.2222222222222222,
             "#7201a8"
            ],
            [
             0.3333333333333333,
             "#9c179e"
            ],
            [
             0.4444444444444444,
             "#bd3786"
            ],
            [
             0.5555555555555556,
             "#d8576b"
            ],
            [
             0.6666666666666666,
             "#ed7953"
            ],
            [
             0.7777777777777778,
             "#fb9f3a"
            ],
            [
             0.8888888888888888,
             "#fdca26"
            ],
            [
             1,
             "#f0f921"
            ]
           ],
           "sequentialminus": [
            [
             0,
             "#0d0887"
            ],
            [
             0.1111111111111111,
             "#46039f"
            ],
            [
             0.2222222222222222,
             "#7201a8"
            ],
            [
             0.3333333333333333,
             "#9c179e"
            ],
            [
             0.4444444444444444,
             "#bd3786"
            ],
            [
             0.5555555555555556,
             "#d8576b"
            ],
            [
             0.6666666666666666,
             "#ed7953"
            ],
            [
             0.7777777777777778,
             "#fb9f3a"
            ],
            [
             0.8888888888888888,
             "#fdca26"
            ],
            [
             1,
             "#f0f921"
            ]
           ]
          },
          "colorway": [
           "#636efa",
           "#EF553B",
           "#00cc96",
           "#ab63fa",
           "#FFA15A",
           "#19d3f3",
           "#FF6692",
           "#B6E880",
           "#FF97FF",
           "#FECB52"
          ],
          "font": {
           "color": "#2a3f5f"
          },
          "geo": {
           "bgcolor": "white",
           "lakecolor": "white",
           "landcolor": "#E5ECF6",
           "showlakes": true,
           "showland": true,
           "subunitcolor": "white"
          },
          "hoverlabel": {
           "align": "left"
          },
          "hovermode": "closest",
          "mapbox": {
           "style": "light"
          },
          "paper_bgcolor": "white",
          "plot_bgcolor": "#E5ECF6",
          "polar": {
           "angularaxis": {
            "gridcolor": "white",
            "linecolor": "white",
            "ticks": ""
           },
           "bgcolor": "#E5ECF6",
           "radialaxis": {
            "gridcolor": "white",
            "linecolor": "white",
            "ticks": ""
           }
          },
          "scene": {
           "xaxis": {
            "backgroundcolor": "#E5ECF6",
            "gridcolor": "white",
            "gridwidth": 2,
            "linecolor": "white",
            "showbackground": true,
            "ticks": "",
            "zerolinecolor": "white"
           },
           "yaxis": {
            "backgroundcolor": "#E5ECF6",
            "gridcolor": "white",
            "gridwidth": 2,
            "linecolor": "white",
            "showbackground": true,
            "ticks": "",
            "zerolinecolor": "white"
           },
           "zaxis": {
            "backgroundcolor": "#E5ECF6",
            "gridcolor": "white",
            "gridwidth": 2,
            "linecolor": "white",
            "showbackground": true,
            "ticks": "",
            "zerolinecolor": "white"
           }
          },
          "shapedefaults": {
           "line": {
            "color": "#2a3f5f"
           }
          },
          "ternary": {
           "aaxis": {
            "gridcolor": "white",
            "linecolor": "white",
            "ticks": ""
           },
           "baxis": {
            "gridcolor": "white",
            "linecolor": "white",
            "ticks": ""
           },
           "bgcolor": "#E5ECF6",
           "caxis": {
            "gridcolor": "white",
            "linecolor": "white",
            "ticks": ""
           }
          },
          "title": {
           "x": 0.05
          },
          "xaxis": {
           "automargin": true,
           "gridcolor": "white",
           "linecolor": "white",
           "ticks": "",
           "title": {
            "standoff": 15
           },
           "zerolinecolor": "white",
           "zerolinewidth": 2
          },
          "yaxis": {
           "automargin": true,
           "gridcolor": "white",
           "linecolor": "white",
           "ticks": "",
           "title": {
            "standoff": 15
           },
           "zerolinecolor": "white",
           "zerolinewidth": 2
          }
         }
        },
        "title": {
         "text": "Suma acumulada para cada componente"
        },
        "xaxis": {
         "tickmode": "array",
         "tickvals": [
          1,
          2,
          3,
          4,
          5
         ],
         "title": {
          "text": "Componentes"
         }
        },
        "yaxis": {
         "title": {
          "text": "Suma acumulada"
         }
        }
       }
      }
     },
     "metadata": {},
     "output_type": "display_data"
    }
   ],
   "source": [
    "# Varianza acumulada \n",
    "cumsum_var = np.cumsum(varianza_exp)\n",
    "\n",
    "fig = go.Figure()\n",
    "fig.add_trace(\n",
    "    go.Scatter(\n",
    "        x=list(range(1, len(varianza_exp) + 1)),\n",
    "        y=cumsum_var,\n",
    "        mode=\"lines+markers\",\n",
    "        marker=dict(color=\"deepskyblue\")\n",
    "    )\n",
    ")\n",
    "fig.update_layout(\n",
    "    xaxis=dict(\n",
    "        title_text=\"Componentes\",\n",
    "        tickmode=\"array\",\n",
    "        tickvals=list(range(1, len(varianza_exp) + 1))\n",
    "    ),\n",
    "    yaxis_title=\"Suma acumulada\",\n",
    "    title=\"Suma acumulada para cada componente\"\n",
    ")\n",
    "fig.show()"
   ]
  },
  {
   "cell_type": "markdown",
   "id": "df93bea1",
   "metadata": {},
   "source": [
    "##### Explicación de la Suma Acumulada de Varianza por Componente\n",
    "\n",
    "**Resultados obtenidos:**\n",
    "El gráfico muestra la suma acumulada de la varianza explicada por cada componente principal.\n",
    "\n",
    "**Distribución de varianza acumulada:**\n",
    "- **Componente 1:** Explica aproximadamente el 36% de la varianza total\n",
    "- **Componente 2:** La suma acumulada alcanza alrededor del 63% (36% + 27%)\n",
    "- **Componente 3:** La suma acumulada llega a aproximadamente el 78% (63% + 15%)\n",
    "- **Componente 4:** La suma acumulada se sitúa en torno al 92% (78% + 14%)\n",
    "- **Componente 5:** Con cinco componentes, se explica casi el 100% de la varianza total\n",
    "\n",
    "**Análisis del gráfico:**\n",
    "Este gráfico es crucial para decidir cuántos componentes principales retener en un análisis PCA.\n",
    "\n",
    "**Observaciones importantes:**\n",
    "- Con solo 2 componentes se explica más del 60% de la varianza\n",
    "- Con 3 componentes se alcanza casi el 80% de la varianza\n",
    "- Con 4 componentes se supera el 90% de la varianza\n",
    "- Con 5 componentes se explica prácticamente toda la varianza\n",
    "\n",
    "**Implicaciones para el modelo:**\n",
    "- **Reducción de dimensionalidad efectiva:** Se puede reducir de 5 a 3 variables sin perder mucha información\n",
    "- **Umbral del 95%:** Si queremos retener el 95% de la varianza, necesitaríamos 4 componentes\n",
    "- **Umbral del 80%:** Si aceptamos el 80% de la varianza, solo necesitaríamos 3 componentes\n",
    "- **Eficiencia:** Los primeros 2 componentes ya explican más de la mitad de la variabilidad total\n",
    "- **Compresión de datos:** Se logra una compresión significativa manteniendo la información más relevante"
   ]
  },
  {
   "cell_type": "markdown",
   "id": "72764bd0",
   "metadata": {},
   "source": [
    "#### CÍRCULO DE CORRELACIONES"
   ]
  },
  {
   "cell_type": "code",
   "execution_count": 438,
   "id": "0c75f2e1",
   "metadata": {},
   "outputs": [
    {
     "data": {
      "application/vnd.plotly.v1+json": {
       "config": {
        "plotlyServerURL": "https://plot.ly"
       },
       "data": [
        {
         "marker": {
          "color": "red"
         },
         "mode": "lines",
         "showlegend": false,
         "type": "scatter",
         "x": {
          "bdata": "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",
          "dtype": "f8"
         },
         "y": {
          "bdata": "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",
          "dtype": "f8"
         }
        },
        {
         "mode": "markers+text",
         "showlegend": false,
         "text": [
          "Pclass"
         ],
         "textposition": "top center",
         "type": "scatter",
         "x": [
          -0.8064932591221456
         ],
         "y": [
          0.30848668991449524
         ]
        },
        {
         "mode": "markers+text",
         "showlegend": false,
         "text": [
          "Age"
         ],
         "textposition": "top center",
         "type": "scatter",
         "x": [
          0.5974383896461046
         ],
         "y": [
          -0.3567365164122024
         ]
        },
        {
         "mode": "markers+text",
         "showlegend": false,
         "text": [
          "SibSp"
         ],
         "textposition": "top center",
         "type": "scatter",
         "x": [
          0.23822326295072485
         ],
         "y": [
          0.7572745619920476
         ]
        },
        {
         "mode": "markers+text",
         "showlegend": false,
         "text": [
          "Parch"
         ],
         "textposition": "top center",
         "type": "scatter",
         "x": [
          0.3016293031048777
         ],
         "y": [
          0.7354306482084532
         ]
        },
        {
         "mode": "markers+text",
         "showlegend": false,
         "text": [
          "Fare"
         ],
         "textposition": "top center",
         "type": "scatter",
         "x": [
          0.8496633472623017
         ],
         "y": [
          0.0702545014118076
         ]
        }
       ],
       "layout": {
        "template": {
         "data": {
          "bar": [
           {
            "error_x": {
             "color": "#2a3f5f"
            },
            "error_y": {
             "color": "#2a3f5f"
            },
            "marker": {
             "line": {
              "color": "#E5ECF6",
              "width": 0.5
             },
             "pattern": {
              "fillmode": "overlay",
              "size": 10,
              "solidity": 0.2
             }
            },
            "type": "bar"
           }
          ],
          "barpolar": [
           {
            "marker": {
             "line": {
              "color": "#E5ECF6",
              "width": 0.5
             },
             "pattern": {
              "fillmode": "overlay",
              "size": 10,
              "solidity": 0.2
             }
            },
            "type": "barpolar"
           }
          ],
          "carpet": [
           {
            "aaxis": {
             "endlinecolor": "#2a3f5f",
             "gridcolor": "white",
             "linecolor": "white",
             "minorgridcolor": "white",
             "startlinecolor": "#2a3f5f"
            },
            "baxis": {
             "endlinecolor": "#2a3f5f",
             "gridcolor": "white",
             "linecolor": "white",
             "minorgridcolor": "white",
             "startlinecolor": "#2a3f5f"
            },
            "type": "carpet"
           }
          ],
          "choropleth": [
           {
            "colorbar": {
             "outlinewidth": 0,
             "ticks": ""
            },
            "type": "choropleth"
           }
          ],
          "contour": [
           {
            "colorbar": {
             "outlinewidth": 0,
             "ticks": ""
            },
            "colorscale": [
             [
              0,
              "#0d0887"
             ],
             [
              0.1111111111111111,
              "#46039f"
             ],
             [
              0.2222222222222222,
              "#7201a8"
             ],
             [
              0.3333333333333333,
              "#9c179e"
             ],
             [
              0.4444444444444444,
              "#bd3786"
             ],
             [
              0.5555555555555556,
              "#d8576b"
             ],
             [
              0.6666666666666666,
              "#ed7953"
             ],
             [
              0.7777777777777778,
              "#fb9f3a"
             ],
             [
              0.8888888888888888,
              "#fdca26"
             ],
             [
              1,
              "#f0f921"
             ]
            ],
            "type": "contour"
           }
          ],
          "contourcarpet": [
           {
            "colorbar": {
             "outlinewidth": 0,
             "ticks": ""
            },
            "type": "contourcarpet"
           }
          ],
          "heatmap": [
           {
            "colorbar": {
             "outlinewidth": 0,
             "ticks": ""
            },
            "colorscale": [
             [
              0,
              "#0d0887"
             ],
             [
              0.1111111111111111,
              "#46039f"
             ],
             [
              0.2222222222222222,
              "#7201a8"
             ],
             [
              0.3333333333333333,
              "#9c179e"
             ],
             [
              0.4444444444444444,
              "#bd3786"
             ],
             [
              0.5555555555555556,
              "#d8576b"
             ],
             [
              0.6666666666666666,
              "#ed7953"
             ],
             [
              0.7777777777777778,
              "#fb9f3a"
             ],
             [
              0.8888888888888888,
              "#fdca26"
             ],
             [
              1,
              "#f0f921"
             ]
            ],
            "type": "heatmap"
           }
          ],
          "histogram": [
           {
            "marker": {
             "pattern": {
              "fillmode": "overlay",
              "size": 10,
              "solidity": 0.2
             }
            },
            "type": "histogram"
           }
          ],
          "histogram2d": [
           {
            "colorbar": {
             "outlinewidth": 0,
             "ticks": ""
            },
            "colorscale": [
             [
              0,
              "#0d0887"
             ],
             [
              0.1111111111111111,
              "#46039f"
             ],
             [
              0.2222222222222222,
              "#7201a8"
             ],
             [
              0.3333333333333333,
              "#9c179e"
             ],
             [
              0.4444444444444444,
              "#bd3786"
             ],
             [
              0.5555555555555556,
              "#d8576b"
             ],
             [
              0.6666666666666666,
              "#ed7953"
             ],
             [
              0.7777777777777778,
              "#fb9f3a"
             ],
             [
              0.8888888888888888,
              "#fdca26"
             ],
             [
              1,
              "#f0f921"
             ]
            ],
            "type": "histogram2d"
           }
          ],
          "histogram2dcontour": [
           {
            "colorbar": {
             "outlinewidth": 0,
             "ticks": ""
            },
            "colorscale": [
             [
              0,
              "#0d0887"
             ],
             [
              0.1111111111111111,
              "#46039f"
             ],
             [
              0.2222222222222222,
              "#7201a8"
             ],
             [
              0.3333333333333333,
              "#9c179e"
             ],
             [
              0.4444444444444444,
              "#bd3786"
             ],
             [
              0.5555555555555556,
              "#d8576b"
             ],
             [
              0.6666666666666666,
              "#ed7953"
             ],
             [
              0.7777777777777778,
              "#fb9f3a"
             ],
             [
              0.8888888888888888,
              "#fdca26"
             ],
             [
              1,
              "#f0f921"
             ]
            ],
            "type": "histogram2dcontour"
           }
          ],
          "mesh3d": [
           {
            "colorbar": {
             "outlinewidth": 0,
             "ticks": ""
            },
            "type": "mesh3d"
           }
          ],
          "parcoords": [
           {
            "line": {
             "colorbar": {
              "outlinewidth": 0,
              "ticks": ""
             }
            },
            "type": "parcoords"
           }
          ],
          "pie": [
           {
            "automargin": true,
            "type": "pie"
           }
          ],
          "scatter": [
           {
            "fillpattern": {
             "fillmode": "overlay",
             "size": 10,
             "solidity": 0.2
            },
            "type": "scatter"
           }
          ],
          "scatter3d": [
           {
            "line": {
             "colorbar": {
              "outlinewidth": 0,
              "ticks": ""
             }
            },
            "marker": {
             "colorbar": {
              "outlinewidth": 0,
              "ticks": ""
             }
            },
            "type": "scatter3d"
           }
          ],
          "scattercarpet": [
           {
            "marker": {
             "colorbar": {
              "outlinewidth": 0,
              "ticks": ""
             }
            },
            "type": "scattercarpet"
           }
          ],
          "scattergeo": [
           {
            "marker": {
             "colorbar": {
              "outlinewidth": 0,
              "ticks": ""
             }
            },
            "type": "scattergeo"
           }
          ],
          "scattergl": [
           {
            "marker": {
             "colorbar": {
              "outlinewidth": 0,
              "ticks": ""
             }
            },
            "type": "scattergl"
           }
          ],
          "scattermap": [
           {
            "marker": {
             "colorbar": {
              "outlinewidth": 0,
              "ticks": ""
             }
            },
            "type": "scattermap"
           }
          ],
          "scattermapbox": [
           {
            "marker": {
             "colorbar": {
              "outlinewidth": 0,
              "ticks": ""
             }
            },
            "type": "scattermapbox"
           }
          ],
          "scatterpolar": [
           {
            "marker": {
             "colorbar": {
              "outlinewidth": 0,
              "ticks": ""
             }
            },
            "type": "scatterpolar"
           }
          ],
          "scatterpolargl": [
           {
            "marker": {
             "colorbar": {
              "outlinewidth": 0,
              "ticks": ""
             }
            },
            "type": "scatterpolargl"
           }
          ],
          "scatterternary": [
           {
            "marker": {
             "colorbar": {
              "outlinewidth": 0,
              "ticks": ""
             }
            },
            "type": "scatterternary"
           }
          ],
          "surface": [
           {
            "colorbar": {
             "outlinewidth": 0,
             "ticks": ""
            },
            "colorscale": [
             [
              0,
              "#0d0887"
             ],
             [
              0.1111111111111111,
              "#46039f"
             ],
             [
              0.2222222222222222,
              "#7201a8"
             ],
             [
              0.3333333333333333,
              "#9c179e"
             ],
             [
              0.4444444444444444,
              "#bd3786"
             ],
             [
              0.5555555555555556,
              "#d8576b"
             ],
             [
              0.6666666666666666,
              "#ed7953"
             ],
             [
              0.7777777777777778,
              "#fb9f3a"
             ],
             [
              0.8888888888888888,
              "#fdca26"
             ],
             [
              1,
              "#f0f921"
             ]
            ],
            "type": "surface"
           }
          ],
          "table": [
           {
            "cells": {
             "fill": {
              "color": "#EBF0F8"
             },
             "line": {
              "color": "white"
             }
            },
            "header": {
             "fill": {
              "color": "#C8D4E3"
             },
             "line": {
              "color": "white"
             }
            },
            "type": "table"
           }
          ]
         },
         "layout": {
          "annotationdefaults": {
           "arrowcolor": "#2a3f5f",
           "arrowhead": 0,
           "arrowwidth": 1
          },
          "autotypenumbers": "strict",
          "coloraxis": {
           "colorbar": {
            "outlinewidth": 0,
            "ticks": ""
           }
          },
          "colorscale": {
           "diverging": [
            [
             0,
             "#8e0152"
            ],
            [
             0.1,
             "#c51b7d"
            ],
            [
             0.2,
             "#de77ae"
            ],
            [
             0.3,
             "#f1b6da"
            ],
            [
             0.4,
             "#fde0ef"
            ],
            [
             0.5,
             "#f7f7f7"
            ],
            [
             0.6,
             "#e6f5d0"
            ],
            [
             0.7,
             "#b8e186"
            ],
            [
             0.8,
             "#7fbc41"
            ],
            [
             0.9,
             "#4d9221"
            ],
            [
             1,
             "#276419"
            ]
           ],
           "sequential": [
            [
             0,
             "#0d0887"
            ],
            [
             0.1111111111111111,
             "#46039f"
            ],
            [
             0.2222222222222222,
             "#7201a8"
            ],
            [
             0.3333333333333333,
             "#9c179e"
            ],
            [
             0.4444444444444444,
             "#bd3786"
            ],
            [
             0.5555555555555556,
             "#d8576b"
            ],
            [
             0.6666666666666666,
             "#ed7953"
            ],
            [
             0.7777777777777778,
             "#fb9f3a"
            ],
            [
             0.8888888888888888,
             "#fdca26"
            ],
            [
             1,
             "#f0f921"
            ]
           ],
           "sequentialminus": [
            [
             0,
             "#0d0887"
            ],
            [
             0.1111111111111111,
             "#46039f"
            ],
            [
             0.2222222222222222,
             "#7201a8"
            ],
            [
             0.3333333333333333,
             "#9c179e"
            ],
            [
             0.4444444444444444,
             "#bd3786"
            ],
            [
             0.5555555555555556,
             "#d8576b"
            ],
            [
             0.6666666666666666,
             "#ed7953"
            ],
            [
             0.7777777777777778,
             "#fb9f3a"
            ],
            [
             0.8888888888888888,
             "#fdca26"
            ],
            [
             1,
             "#f0f921"
            ]
           ]
          },
          "colorway": [
           "#636efa",
           "#EF553B",
           "#00cc96",
           "#ab63fa",
           "#FFA15A",
           "#19d3f3",
           "#FF6692",
           "#B6E880",
           "#FF97FF",
           "#FECB52"
          ],
          "font": {
           "color": "#2a3f5f"
          },
          "geo": {
           "bgcolor": "white",
           "lakecolor": "white",
           "landcolor": "#E5ECF6",
           "showlakes": true,
           "showland": true,
           "subunitcolor": "white"
          },
          "hoverlabel": {
           "align": "left"
          },
          "hovermode": "closest",
          "mapbox": {
           "style": "light"
          },
          "paper_bgcolor": "white",
          "plot_bgcolor": "#E5ECF6",
          "polar": {
           "angularaxis": {
            "gridcolor": "white",
            "linecolor": "white",
            "ticks": ""
           },
           "bgcolor": "#E5ECF6",
           "radialaxis": {
            "gridcolor": "white",
            "linecolor": "white",
            "ticks": ""
           }
          },
          "scene": {
           "xaxis": {
            "backgroundcolor": "#E5ECF6",
            "gridcolor": "white",
            "gridwidth": 2,
            "linecolor": "white",
            "showbackground": true,
            "ticks": "",
            "zerolinecolor": "white"
           },
           "yaxis": {
            "backgroundcolor": "#E5ECF6",
            "gridcolor": "white",
            "gridwidth": 2,
            "linecolor": "white",
            "showbackground": true,
            "ticks": "",
            "zerolinecolor": "white"
           },
           "zaxis": {
            "backgroundcolor": "#E5ECF6",
            "gridcolor": "white",
            "gridwidth": 2,
            "linecolor": "white",
            "showbackground": true,
            "ticks": "",
            "zerolinecolor": "white"
           }
          },
          "shapedefaults": {
           "line": {
            "color": "#2a3f5f"
           }
          },
          "ternary": {
           "aaxis": {
            "gridcolor": "white",
            "linecolor": "white",
            "ticks": ""
           },
           "baxis": {
            "gridcolor": "white",
            "linecolor": "white",
            "ticks": ""
           },
           "bgcolor": "#E5ECF6",
           "caxis": {
            "gridcolor": "white",
            "linecolor": "white",
            "ticks": ""
           }
          },
          "title": {
           "x": 0.05
          },
          "xaxis": {
           "automargin": true,
           "gridcolor": "white",
           "linecolor": "white",
           "ticks": "",
           "title": {
            "standoff": 15
           },
           "zerolinecolor": "white",
           "zerolinewidth": 2
          },
          "yaxis": {
           "automargin": true,
           "gridcolor": "white",
           "linecolor": "white",
           "ticks": "",
           "title": {
            "standoff": 15
           },
           "zerolinecolor": "white",
           "zerolinewidth": 2
          }
         }
        },
        "title": {
         "text": "Círculo de correlaciones (PC1 vs PC2)"
        },
        "xaxis": {
         "title": {
          "text": "PC1"
         }
        },
        "yaxis": {
         "scaleanchor": "x",
         "title": {
          "text": "PC2"
         }
        }
       }
      }
     },
     "metadata": {},
     "output_type": "display_data"
    }
   ],
   "source": [
    "# Círculo de correlaciones (código original)\n",
    "pca_data = PCA(n_components=0.90).fit(numeric_scaled)\n",
    "lambdas = pca_data.explained_variance_\n",
    "Gammas = pca_data.components_.T\n",
    "R = Gammas[:, :2] * np.sqrt(lambdas[:2])\n",
    "\n",
    "theta = np.linspace(0, 2*np.pi, 400)\n",
    "\n",
    "fig = go.Figure()\n",
    "fig.add_trace(\n",
    "    go.Scatter(\n",
    "        x=np.cos(theta),\n",
    "        y=np.sin(theta),\n",
    "        mode=\"lines\",\n",
    "        marker=dict(color=\"red\"),\n",
    "        showlegend=False\n",
    "    )\n",
    ")\n",
    "\n",
    "for index, value in enumerate(list(numeric_columns)):\n",
    "    fig.add_trace(\n",
    "        go.Scatter(\n",
    "            x=[R[index, 0]],\n",
    "            y=[R[index, 1]],\n",
    "            mode=\"markers+text\",\n",
    "            text=[value],\n",
    "            textposition=\"top center\",\n",
    "            showlegend=False\n",
    "        )\n",
    "    )\n",
    "\n",
    "fig.update_layout(\n",
    "    yaxis=dict(scaleanchor=\"x\", title_text=\"PC2\"),\n",
    "    xaxis=dict(title=\"PC1\"),\n",
    "    title=\"Círculo de correlaciones (PC1 vs PC2)\"\n",
    ")\n",
    "fig.show()"
   ]
  },
  {
   "cell_type": "code",
   "execution_count": 439,
   "id": "67991c72",
   "metadata": {},
   "outputs": [
    {
     "data": {
      "application/vnd.plotly.v1+json": {
       "config": {
        "plotlyServerURL": "https://plot.ly"
       },
       "data": [
        {
         "marker": {
          "color": "steelblue"
         },
         "mode": "markers",
         "name": "Inliers",
         "type": "scatter",
         "x": {
          "bdata": "qqke5iNp678sz80ND8LUv9wHcxiZGuQ/fPFKTTzk8L8QK9zpmIrnv1JuERIrkva/1+gKrJ1777/YiuLvzLbQP4J7yfq1JfW/gJUYgqYw5b8OWKA9RwXkv/ofchvsCfE/ZQQP4MLq8z+fb4tpPYDwP0pNwtTS1vo/5NM/lmQBob/L7E2dE6e3vwghvYN50PO/taIGyD7V6790w/0ZHUriv2af/HGPFP4/fEhSzKVG9r8YJe3ZJsHKv+KXwZ63m+8/pdyuJAJ0EkDEw73jmS/Ev7tpFW31WvA/Ez1R1MIl87/g/B1eHjvvP+9RGHtcCtQ/qhoenXFx5T+eDttaF/jJP9QIad0DCL2/wDa4jjJjhj/J4uCASKzyPzDa+mrO7PS/b3sazacq9b9QgfoKF4/zvzIy2pHCofG/3P3tpg2f1b++bHwDXXncv0NwqsmUCPA/UoWM5bqf5b9AnxklYa/MvyJ3w6gWa/g/eIHXHGbp8b8eOrpaaEDxP9hOgpICv7K/C13uEmIZAECEEY8Rf6vRv8joCBzFZ/A/irmx0XU70r+YcclXwGjMPw0MKO6p6RBArlwpv4rI47+9GkNEuC7Tv/5FKcZF8eq/leBMQej18b/oIhIM7kbkv6nAVOqrSwtAelIjHDN59b+yalSNftzEvzB5QLQFDvW/Gr1hUOxH878X+hBm9+EMQMxCacLV5Oq/bYOFRyUI9b92czhcr2X0PyqpppdopOU/MdIeJYe2FEBc6ZD2KmPyv+xHrp32sfO/7HZiniki8L/llNNpESHjP4JBHS6+jQZANq6YRnv/BUAC90adH6rav9QfIezfMvs/QJ8ZJWGvzL9c6ZD2KmPyvxxb+oevW/K/LfolWAUREEDk50l6WV/yP2xCRenfM/G/PJ9to8IW278GE0wsB17ov7Ar/irdB/G/nMs0dWAA9b8M6NcLx837v3ywvJ6COt6/9bqEX8on7r8UdaskGKrwv9W1ZBozgfc/bbxeKZO7779aoi4Ous/ePzx3kolG7/G/KcZW651vBUDsdmKeKSLwv51M4SKqJfS/F8j7NXuq7L+HWFnozgr4P5gqhNs9x58/ErmSsgA18r+fFcCcaX7xvy4A9fJVN+6/WnQ5Lsj3679SM3HtX7Xzv+pE3mwTnPa/Er8Hfxnr+L96ZGcgdGXhv2jchTd9sLo/SlVI4+JY2L8ODcG0TDTrP+fwGXhY6vS/E28RcWw+D0BePIF97MHwv8TYgIkhlAHA6HMzOJZS9L9Dm3XSllf1Pw5fiWqzK7Y/iFg44s0y5r+caW1Vyojwv/kv8x5U5fQ/GwDai6yy8L9UMOq4m3H0v7JPEDYXbPC/JT9q6LNE878FU+cydu/Hv/K7vmuV/Ls/yTuFt4VV8r9eTTZ1GY7tv+qYdVtMmPQ/RL6ZzmdN8D8g4d2qEHiWv8obVcxT1OO/EEJspG1e8r+GMtxVhl7xv9T5YIyidNW/bH4i11TH8r/qNIOyUVn0P+l1v7aoP9Q/tH+GiIXIAEA39W1L4+UTQE68chTjUcG/TqfPy2e37j9hr/VePIvQv+QFU1b32OQ/D8G/9iM5879bHZjEBofjP/6V4w/tsdU/U5S0QRmQ9D+ylya6zYPiv0bxpDium96/TNd+YbZP1L+EZpkzJBOhPxRdQ8tDbPK/0SzTGhciBkC0hAnEPNDyv06nz8tnt+4/gtjgqD174r9ABCkc3CT5v3gYXWjg6fG/pnRoPaoZ1b9H4X6tGmXlv7yR6nGj37Q/91GRBU6G4L84l0U6u0f2Pxfm1FJKZse/wA6lbJAxrz8ZkVGsog/zv8maoRqLFPC/NJENxp4l8b+vNUogLETtvxdk9vYIzum/TvH9ppX/6z94Gqzy7da4P44GBbj1fc6/ijUbRLXu/D/ui4jJuvbsP7Kmyx8bMQVAQJ8ZJWGvzL8Y5Od1leT9P2aBmWgjBuk/mjhMfAzG9r/wsXBDQlMLQL3jYt/4SbY/LlCrvBCTxL8hcT1DvXfuv42BG8eZsvo/CM8s8GKFqz8IGdelNt7MP+jj2HH0P7C/GjHrj6gL8L+Py0f4LynkPwwNTvYPt8W/ptTJD0u87L8aCXDCj7j5P7kqqpniDPW/XLOakjGR3L+FpqvDQ3r8v5IfGs0A+wHAyfN/2quK9L+y4sbxnzIMQCBSK85FbdG/Qp6wlbgC2b8hD0xvgDvtP7EYnjWJ/uq/zqglFPXJ2r+i7FqGWSHnP2A9OR+66vG/QF9PMU9p6L8O9EEgGrP2v/Bl4lNpJrY/a09nFaBV7j/0PK+BPs/dPyFgfygwMfI/iBsjPb900b8uzUSSoqYKQCwR307cPA1AH9O3ZXLj5r8a3thkX+6Uv7IDXRbzqvO/6L0PEW5Y3r/IgQcIg7bzv/RLARdZaPQ/MJNo6ySmo7+C/MzI5NLyv0wzhA/PC/G/cAKgyAF+47+OgnTeLGKtv5h4nZNhWre/DHEFONkW2D8bx/X0e9bwvw3PO3Yt6ei/uMWLciAU+T+dTOEiqiX0v+AkYbPjcgJAq2Nao0hC9L9i3qzFQcTBv4Qqi/dpqQFAWDCxenlY9T/8cnRgrpTqP/LmpY8qSQVA2D1YqyPM2L8Gufg99IjfP1yRXedjhPY/N9Gslg/i1r/ya/9/r9PnPw5fiWqzK7Y/2UaACiFg9r+IQvtqX8zMv6jO6bpxIvS/OWPDU39h/z8WmpNrhxvyv9J8fUlimOy/a8BD9ojM7L/SdEBNBDTuvzwxEDlJjvC/1yHKAKXz4L/PYtI6dbfzv1pcTrbuBOC/+glEA9uz87+z9ACIALzTPzg0+V4HIPW/SF5r3uUOzb+2OI84y0fgv6rIqhuiZ+I/8+679vDi87+Z8Yml0035v92Lb4lTVvW/pDWaDq7J+T/tj2rTyATiv5YgJjSw7/4/Qg/0r4QV8r/KGqpMhGz3v2EO9i5n7MS/mn5RGgOt07/Ry6lJhhrZP250ERuyI64/6L0PEW5Y3r8K/L/LeKvyv++gzCYV9PS/c6gpzTG8+78ykyIpQgbxv/ogGAEDQfO/AtbfHWdI6r/gWGs1s0PlvwhHrP+RXPQ/7VzUy3UT+L+yDwTULhf5v3f3z+iKONc/0FBWF2e577/4xV/zDC7evxAPmgQzYwJAXKowbLh76b+8+pv/6njxvxCSA3m8trG/9IhTC5/G7r97ECpH3sfqP+D0WQZiJfC/lwshvh2n7b+71twwiLHMPwVAuX+q1dw/ZrkirKk58r8El+6hDDfhv3FFuASa1v8/F36aA1RDBUBCSf4yaM/4vxXfRATF3QNAMs28eT9D0786SdJphOT0v2TeH2SqXvO/tAJpI7rP8b8kDim3TDfpv5uaB6NvQgRAflD0SJeA9b9a8MrcbjkHQMduN8YR1+G/JnqURQAJ8b9s5AZhJdvCP58VwJxpfvG/DKl8HQwJ8r/U+WCMonTVv9T3wJLXtuY/x0fvVqptB0ACwZ7+0PTyvwwUmi4Ms8Y/3FzeHLl9+j8OX4lqsyu2P5QuqgTRWN6/v4UxM5Wl7z+UVBU6GyvtP/V6UTj72fK/wkfoLTn76L8ZuP7fGwfxv43rO0P02eM/DHVFK2+Sxb8eqfMdWn/Sv76J1UH3K8S/yMFzEA3X9r8O9HEFsLrivyYY75ftuO2/EmQW1oWgBEDwB/auDxgcQOhRbiX6v9W/UjjUXTD29b/U+WCMonTVv4ONAAUPg+i/wIlSOiOo2L8MyT2SvIO7v1CONbhL0/o/Qp6wlbgC2b8kkLZNW0O9P3YJRo61ZPg/tRmJWNpo8L+IKueZKNHyP3bM27JWxwBAbC9djm/n178EcREIhlXjv2obMLC+dOa/4zqywMNn9D9Ofq6BnNjSPwzJPZK8g7u/fPFKTTzk8L8MqUqvPgrwP8UzWzopL/g/HHMKsfcq87/4v3URODTrvxhn8alAH/o/mIdStogFz7++Ei0LGP3SvzRxZf3npf0/OElW73qB6z8tiLOvPBvFP2KwaJQanAJAiGyY+M9LDUD70VPw7c3pvxy+k/G5ad+/1LWf69dN+T8tT2ra/i7Iv+R1WD2o9fy/U26bSqx58b92Kk4g1iTvv38s72pBBfC/4CFqcPZH3L8KD9Xv9o7qP+Wa+tsHYvK/n6blYdjV4D9GsWhVmLjzv2xbXPR0OOa//7GUrYzO8j8qw+tRaDz5P1/YthI/veu/uZO8kPQ4zD9ObLEXFu2mv+qxsrzUees/qApPCul58r/yzLJhOAoBQCwgNRumRfO/Ile1HIeO7r+wbdOzqUwBQPaCCjda/tE/3NSgpUnL7z/EDrG4xJTfP4m763jsHfM/AO0YLiGD37/+BzSsjyTQvywR307cPA1AIqxlIPsT778Ay6ofA/Tzv9h775xjc/W/tRiVV9aD+z9YkIVdy5rwv9z1D2YD0++/daoVofan/D/SiM1/Ww/ov7zXr0ZJofi/PvszunVdCMA=",
          "dtype": "f8"
         },
         "y": {
          "bdata": "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",
          "dtype": "f8"
         }
        },
        {
         "marker": {
          "color": "orange"
         },
         "mode": "markers",
         "name": "Outliers",
         "type": "scatter",
         "x": {
          "bdata": "pdyuJAJ0EkANDCjuqekQQL0aQ0S4LtO/qcBU6qtLC0AX+hBm9+EMQDHSHiWHthRALfolWAUREEATbxFxbD4PQOo0g7JRWfQ/6XW/tqg/1D839W1L4+UTQIRmmTMkE6E/TvH9ppX/6z/wsXBDQlMLQI2BG8eZsvo/suLG8Z8yDED0PK+BPs/dPywR307cPA1AEmQW1oWgBEDwB/auDxgcQOM6ssDDZ/Q/xTNbOikv+D+IbJj4z0sNQC1Patr+Lsi/bFtc9HQ45r8sEd9O3DwNQD77M7p1XQjA",
          "dtype": "f8"
         },
         "y": {
          "bdata": "YM9Kp4Uw+T8af0M6qzwGQGQf4pGfwQxAPs8f/Vqf67+WemOxQL8CQKqGIATDy/8/7ymqH4sk6b8vMxKKg6Hmv1AWRsWxSxBA6duHbkP3E0Bp3jNUmRv1P4cewXNLvhBAQteMR2JGC0D6JyZtx5jlP3UEy7ToWxtAYDePSo3E2L+O8hktVlsNQCkpsVGNm8c/Vuthm+YWF0Ao1GTTbAzYvxvBp3BTeBxAzs/J83caGkA23doGFqPwvzccJ1kNXxFA3vASDZx5B0ApKbFRjZvHP+7PSlqj+gZA",
          "dtype": "f8"
         }
        },
        {
         "marker": {
          "color": "red"
         },
         "mode": "lines",
         "showlegend": false,
         "type": "scatter",
         "x": {
          "bdata": "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",
          "dtype": "f8"
         },
         "y": {
          "bdata": "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",
          "dtype": "f8"
         }
        }
       ],
       "layout": {
        "height": 600,
        "template": {
         "data": {
          "bar": [
           {
            "error_x": {
             "color": "#2a3f5f"
            },
            "error_y": {
             "color": "#2a3f5f"
            },
            "marker": {
             "line": {
              "color": "#E5ECF6",
              "width": 0.5
             },
             "pattern": {
              "fillmode": "overlay",
              "size": 10,
              "solidity": 0.2
             }
            },
            "type": "bar"
           }
          ],
          "barpolar": [
           {
            "marker": {
             "line": {
              "color": "#E5ECF6",
              "width": 0.5
             },
             "pattern": {
              "fillmode": "overlay",
              "size": 10,
              "solidity": 0.2
             }
            },
            "type": "barpolar"
           }
          ],
          "carpet": [
           {
            "aaxis": {
             "endlinecolor": "#2a3f5f",
             "gridcolor": "white",
             "linecolor": "white",
             "minorgridcolor": "white",
             "startlinecolor": "#2a3f5f"
            },
            "baxis": {
             "endlinecolor": "#2a3f5f",
             "gridcolor": "white",
             "linecolor": "white",
             "minorgridcolor": "white",
             "startlinecolor": "#2a3f5f"
            },
            "type": "carpet"
           }
          ],
          "choropleth": [
           {
            "colorbar": {
             "outlinewidth": 0,
             "ticks": ""
            },
            "type": "choropleth"
           }
          ],
          "contour": [
           {
            "colorbar": {
             "outlinewidth": 0,
             "ticks": ""
            },
            "colorscale": [
             [
              0,
              "#0d0887"
             ],
             [
              0.1111111111111111,
              "#46039f"
             ],
             [
              0.2222222222222222,
              "#7201a8"
             ],
             [
              0.3333333333333333,
              "#9c179e"
             ],
             [
              0.4444444444444444,
              "#bd3786"
             ],
             [
              0.5555555555555556,
              "#d8576b"
             ],
             [
              0.6666666666666666,
              "#ed7953"
             ],
             [
              0.7777777777777778,
              "#fb9f3a"
             ],
             [
              0.8888888888888888,
              "#fdca26"
             ],
             [
              1,
              "#f0f921"
             ]
            ],
            "type": "contour"
           }
          ],
          "contourcarpet": [
           {
            "colorbar": {
             "outlinewidth": 0,
             "ticks": ""
            },
            "type": "contourcarpet"
           }
          ],
          "heatmap": [
           {
            "colorbar": {
             "outlinewidth": 0,
             "ticks": ""
            },
            "colorscale": [
             [
              0,
              "#0d0887"
             ],
             [
              0.1111111111111111,
              "#46039f"
             ],
             [
              0.2222222222222222,
              "#7201a8"
             ],
             [
              0.3333333333333333,
              "#9c179e"
             ],
             [
              0.4444444444444444,
              "#bd3786"
             ],
             [
              0.5555555555555556,
              "#d8576b"
             ],
             [
              0.6666666666666666,
              "#ed7953"
             ],
             [
              0.7777777777777778,
              "#fb9f3a"
             ],
             [
              0.8888888888888888,
              "#fdca26"
             ],
             [
              1,
              "#f0f921"
             ]
            ],
            "type": "heatmap"
           }
          ],
          "histogram": [
           {
            "marker": {
             "pattern": {
              "fillmode": "overlay",
              "size": 10,
              "solidity": 0.2
             }
            },
            "type": "histogram"
           }
          ],
          "histogram2d": [
           {
            "colorbar": {
             "outlinewidth": 0,
             "ticks": ""
            },
            "colorscale": [
             [
              0,
              "#0d0887"
             ],
             [
              0.1111111111111111,
              "#46039f"
             ],
             [
              0.2222222222222222,
              "#7201a8"
             ],
             [
              0.3333333333333333,
              "#9c179e"
             ],
             [
              0.4444444444444444,
              "#bd3786"
             ],
             [
              0.5555555555555556,
              "#d8576b"
             ],
             [
              0.6666666666666666,
              "#ed7953"
             ],
             [
              0.7777777777777778,
              "#fb9f3a"
             ],
             [
              0.8888888888888888,
              "#fdca26"
             ],
             [
              1,
              "#f0f921"
             ]
            ],
            "type": "histogram2d"
           }
          ],
          "histogram2dcontour": [
           {
            "colorbar": {
             "outlinewidth": 0,
             "ticks": ""
            },
            "colorscale": [
             [
              0,
              "#0d0887"
             ],
             [
              0.1111111111111111,
              "#46039f"
             ],
             [
              0.2222222222222222,
              "#7201a8"
             ],
             [
              0.3333333333333333,
              "#9c179e"
             ],
             [
              0.4444444444444444,
              "#bd3786"
             ],
             [
              0.5555555555555556,
              "#d8576b"
             ],
             [
              0.6666666666666666,
              "#ed7953"
             ],
             [
              0.7777777777777778,
              "#fb9f3a"
             ],
             [
              0.8888888888888888,
              "#fdca26"
             ],
             [
              1,
              "#f0f921"
             ]
            ],
            "type": "histogram2dcontour"
           }
          ],
          "mesh3d": [
           {
            "colorbar": {
             "outlinewidth": 0,
             "ticks": ""
            },
            "type": "mesh3d"
           }
          ],
          "parcoords": [
           {
            "line": {
             "colorbar": {
              "outlinewidth": 0,
              "ticks": ""
             }
            },
            "type": "parcoords"
           }
          ],
          "pie": [
           {
            "automargin": true,
            "type": "pie"
           }
          ],
          "scatter": [
           {
            "fillpattern": {
             "fillmode": "overlay",
             "size": 10,
             "solidity": 0.2
            },
            "type": "scatter"
           }
          ],
          "scatter3d": [
           {
            "line": {
             "colorbar": {
              "outlinewidth": 0,
              "ticks": ""
             }
            },
            "marker": {
             "colorbar": {
              "outlinewidth": 0,
              "ticks": ""
             }
            },
            "type": "scatter3d"
           }
          ],
          "scattercarpet": [
           {
            "marker": {
             "colorbar": {
              "outlinewidth": 0,
              "ticks": ""
             }
            },
            "type": "scattercarpet"
           }
          ],
          "scattergeo": [
           {
            "marker": {
             "colorbar": {
              "outlinewidth": 0,
              "ticks": ""
             }
            },
            "type": "scattergeo"
           }
          ],
          "scattergl": [
           {
            "marker": {
             "colorbar": {
              "outlinewidth": 0,
              "ticks": ""
             }
            },
            "type": "scattergl"
           }
          ],
          "scattermap": [
           {
            "marker": {
             "colorbar": {
              "outlinewidth": 0,
              "ticks": ""
             }
            },
            "type": "scattermap"
           }
          ],
          "scattermapbox": [
           {
            "marker": {
             "colorbar": {
              "outlinewidth": 0,
              "ticks": ""
             }
            },
            "type": "scattermapbox"
           }
          ],
          "scatterpolar": [
           {
            "marker": {
             "colorbar": {
              "outlinewidth": 0,
              "ticks": ""
             }
            },
            "type": "scatterpolar"
           }
          ],
          "scatterpolargl": [
           {
            "marker": {
             "colorbar": {
              "outlinewidth": 0,
              "ticks": ""
             }
            },
            "type": "scatterpolargl"
           }
          ],
          "scatterternary": [
           {
            "marker": {
             "colorbar": {
              "outlinewidth": 0,
              "ticks": ""
             }
            },
            "type": "scatterternary"
           }
          ],
          "surface": [
           {
            "colorbar": {
             "outlinewidth": 0,
             "ticks": ""
            },
            "colorscale": [
             [
              0,
              "#0d0887"
             ],
             [
              0.1111111111111111,
              "#46039f"
             ],
             [
              0.2222222222222222,
              "#7201a8"
             ],
             [
              0.3333333333333333,
              "#9c179e"
             ],
             [
              0.4444444444444444,
              "#bd3786"
             ],
             [
              0.5555555555555556,
              "#d8576b"
             ],
             [
              0.6666666666666666,
              "#ed7953"
             ],
             [
              0.7777777777777778,
              "#fb9f3a"
             ],
             [
              0.8888888888888888,
              "#fdca26"
             ],
             [
              1,
              "#f0f921"
             ]
            ],
            "type": "surface"
           }
          ],
          "table": [
           {
            "cells": {
             "fill": {
              "color": "#EBF0F8"
             },
             "line": {
              "color": "white"
             }
            },
            "header": {
             "fill": {
              "color": "#C8D4E3"
             },
             "line": {
              "color": "white"
             }
            },
            "type": "table"
           }
          ]
         },
         "layout": {
          "annotationdefaults": {
           "arrowcolor": "#2a3f5f",
           "arrowhead": 0,
           "arrowwidth": 1
          },
          "autotypenumbers": "strict",
          "coloraxis": {
           "colorbar": {
            "outlinewidth": 0,
            "ticks": ""
           }
          },
          "colorscale": {
           "diverging": [
            [
             0,
             "#8e0152"
            ],
            [
             0.1,
             "#c51b7d"
            ],
            [
             0.2,
             "#de77ae"
            ],
            [
             0.3,
             "#f1b6da"
            ],
            [
             0.4,
             "#fde0ef"
            ],
            [
             0.5,
             "#f7f7f7"
            ],
            [
             0.6,
             "#e6f5d0"
            ],
            [
             0.7,
             "#b8e186"
            ],
            [
             0.8,
             "#7fbc41"
            ],
            [
             0.9,
             "#4d9221"
            ],
            [
             1,
             "#276419"
            ]
           ],
           "sequential": [
            [
             0,
             "#0d0887"
            ],
            [
             0.1111111111111111,
             "#46039f"
            ],
            [
             0.2222222222222222,
             "#7201a8"
            ],
            [
             0.3333333333333333,
             "#9c179e"
            ],
            [
             0.4444444444444444,
             "#bd3786"
            ],
            [
             0.5555555555555556,
             "#d8576b"
            ],
            [
             0.6666666666666666,
             "#ed7953"
            ],
            [
             0.7777777777777778,
             "#fb9f3a"
            ],
            [
             0.8888888888888888,
             "#fdca26"
            ],
            [
             1,
             "#f0f921"
            ]
           ],
           "sequentialminus": [
            [
             0,
             "#0d0887"
            ],
            [
             0.1111111111111111,
             "#46039f"
            ],
            [
             0.2222222222222222,
             "#7201a8"
            ],
            [
             0.3333333333333333,
             "#9c179e"
            ],
            [
             0.4444444444444444,
             "#bd3786"
            ],
            [
             0.5555555555555556,
             "#d8576b"
            ],
            [
             0.6666666666666666,
             "#ed7953"
            ],
            [
             0.7777777777777778,
             "#fb9f3a"
            ],
            [
             0.8888888888888888,
             "#fdca26"
            ],
            [
             1,
             "#f0f921"
            ]
           ]
          },
          "colorway": [
           "#636efa",
           "#EF553B",
           "#00cc96",
           "#ab63fa",
           "#FFA15A",
           "#19d3f3",
           "#FF6692",
           "#B6E880",
           "#FF97FF",
           "#FECB52"
          ],
          "font": {
           "color": "#2a3f5f"
          },
          "geo": {
           "bgcolor": "white",
           "lakecolor": "white",
           "landcolor": "#E5ECF6",
           "showlakes": true,
           "showland": true,
           "subunitcolor": "white"
          },
          "hoverlabel": {
           "align": "left"
          },
          "hovermode": "closest",
          "mapbox": {
           "style": "light"
          },
          "paper_bgcolor": "white",
          "plot_bgcolor": "#E5ECF6",
          "polar": {
           "angularaxis": {
            "gridcolor": "white",
            "linecolor": "white",
            "ticks": ""
           },
           "bgcolor": "#E5ECF6",
           "radialaxis": {
            "gridcolor": "white",
            "linecolor": "white",
            "ticks": ""
           }
          },
          "scene": {
           "xaxis": {
            "backgroundcolor": "#E5ECF6",
            "gridcolor": "white",
            "gridwidth": 2,
            "linecolor": "white",
            "showbackground": true,
            "ticks": "",
            "zerolinecolor": "white"
           },
           "yaxis": {
            "backgroundcolor": "#E5ECF6",
            "gridcolor": "white",
            "gridwidth": 2,
            "linecolor": "white",
            "showbackground": true,
            "ticks": "",
            "zerolinecolor": "white"
           },
           "zaxis": {
            "backgroundcolor": "#E5ECF6",
            "gridcolor": "white",
            "gridwidth": 2,
            "linecolor": "white",
            "showbackground": true,
            "ticks": "",
            "zerolinecolor": "white"
           }
          },
          "shapedefaults": {
           "line": {
            "color": "#2a3f5f"
           }
          },
          "ternary": {
           "aaxis": {
            "gridcolor": "white",
            "linecolor": "white",
            "ticks": ""
           },
           "baxis": {
            "gridcolor": "white",
            "linecolor": "white",
            "ticks": ""
           },
           "bgcolor": "#E5ECF6",
           "caxis": {
            "gridcolor": "white",
            "linecolor": "white",
            "ticks": ""
           }
          },
          "title": {
           "x": 0.05
          },
          "xaxis": {
           "automargin": true,
           "gridcolor": "white",
           "linecolor": "white",
           "ticks": "",
           "title": {
            "standoff": 15
           },
           "zerolinecolor": "white",
           "zerolinewidth": 2
          },
          "yaxis": {
           "automargin": true,
           "gridcolor": "white",
           "linecolor": "white",
           "ticks": "",
           "title": {
            "standoff": 15
           },
           "zerolinecolor": "white",
           "zerolinewidth": 2
          }
         }
        },
        "title": {
         "text": "Curva elíptica (PC1 vs PC2)"
        },
        "width": 800,
        "xaxis": {
         "title": {
          "text": "PC1"
         }
        },
        "yaxis": {
         "title": {
          "text": "PC2"
         }
        }
       }
      }
     },
     "metadata": {},
     "output_type": "display_data"
    }
   ],
   "source": [
    "fig = go.Figure()\n",
    "\n",
    "c = chi2.ppf(0.95, df=2)\n",
    "\n",
    "elipse_data = np.sqrt(c * lambdas[:2]) * np.array([np.cos(theta), np.sin(theta)]).T\n",
    "outliers = np.sum((numeric_scaled @ Gammas[:, :2])**2 / lambdas[:2], axis=1) > c\n",
    "\n",
    "\n",
    "fig.add_trace(\n",
    "    go.Scatter(\n",
    "        x = (numeric_scaled @ Gammas[:, 0]),\n",
    "        y = (numeric_scaled @ Gammas[:, 1]),\n",
    "        mode = \"markers\",\n",
    "        marker = dict(\n",
    "            color = \"steelblue\"\n",
    "        ),\n",
    "        name = \"Inliers\"\n",
    "    )\n",
    ")\n",
    "\n",
    "fig.add_trace(\n",
    "    go.Scatter(\n",
    "\n",
    "        x = (numeric_scaled @ Gammas[:, 0])[outliers],\n",
    "        y = (numeric_scaled @ Gammas[:, 1])[outliers],\n",
    "        mode = \"markers\",\n",
    "        marker = dict(\n",
    "            color=\"orange\"\n",
    "        ),\n",
    "        name = \"Outliers\"\n",
    "    )\n",
    ")\n",
    "\n",
    "fig.add_trace(\n",
    "    go.Scatter(\n",
    "\n",
    "        x = elipse_data[:, 0],\n",
    "        y = elipse_data[:, 1],\n",
    "        mode = \"lines\",\n",
    "        marker = dict(\n",
    "            color=\"red\"\n",
    "        ),\n",
    "        showlegend = False\n",
    "    )\n",
    ")\n",
    "\n",
    "fig.update_layout(\n",
    "    title = \"Curva elíptica (PC1 vs PC2)\",\n",
    "    xaxis = dict(\n",
    "        title_text=\"PC1\"\n",
    "    ),\n",
    "    yaxis = dict(\n",
    "        title_text=\"PC2\"\n",
    "    ),\n",
    "    width = 800,\n",
    "    height = 600\n",
    ")\n",
    "\n",
    "fig.show()\n"
   ]
  },
  {
   "cell_type": "markdown",
   "id": "92371386",
   "metadata": {},
   "source": [
    "##### Explicación del Círculo de Correlaciones (PC1 vs PC2)\n",
    "\n",
    "**Resultados obtenidos:**\n",
    "El gráfico muestra un círculo de correlaciones que visualiza la relación entre las variables originales (`Pclass`, `SibSp`, `Parch`, `Fare`, `Age`) y los dos primeros componentes principales (PC1 y PC2).\n",
    "\n",
    "**Análisis por componente principal:**\n",
    "\n",
    "**PC1 (Eje Horizontal):**\n",
    "- **Fare y Age**: Tienen correlación positiva fuerte con PC1 (lado derecho del eje)\n",
    "- **Pclass**: Tiene correlación negativa fuerte con PC1 (lado izquierdo del eje)\n",
    "- **Interpretación**: PC1 captura una dimensión relacionada con el estatus socioeconómico\n",
    "\n",
    "**PC2 (Eje Vertical):**\n",
    "- **SibSp y Parch**: Tienen correlación positiva fuerte con PC2 (parte superior del eje)\n",
    "- **Pclass**: También muestra correlación positiva con PC2, aunque menos fuerte\n",
    "- **Interpretación**: PC2 representa una dimensión relacionada con el tamaño de la familia\n",
    "\n",
    "**Relaciones entre variables observadas:**\n",
    "- **SibSp y Parch**: Están muy cerca una de la otra y del círculo, indicando fuerte correlación positiva\n",
    "- **Fare y Age**: Se encuentran en el mismo cuadrante (inferior derecho), sugiriendo correlación positiva\n",
    "- **Pclass**: Ubicado en cuadrante superior izquierdo, indica correlación negativa con Fare y Age\n",
    "\n",
    "**Implicaciones para el modelo:**\n",
    "- **PC1 (Estatus socioeconómico)**: Combina información de tarifa, edad y clase de pasajero\n",
    "- **PC2 (Tamaño familiar)**: Captura la información sobre acompañantes y familia\n",
    "- **Redundancia identificada**: SibSp y Parch son altamente correlacionadas\n",
    "- **Información complementaria**: Las variables están bien representadas por los dos primeros componentes\n",
    "- **Uso en clasificación**: Estos componentes podrían ser más efectivos que las variables originales para predecir supervivencia"
   ]
  },
  {
   "cell_type": "markdown",
   "id": "025ae295",
   "metadata": {},
   "source": [
    "####  EXPLORACIÓN Y PREPROCESAMIENTO DE DATOS DE ENTRENAMIENTO"
   ]
  },
  {
   "cell_type": "markdown",
   "id": "30039ad6",
   "metadata": {},
   "source": [
    "##### Balance de Clases"
   ]
  },
  {
   "cell_type": "code",
   "execution_count": 440,
   "id": "e87b753f",
   "metadata": {},
   "outputs": [
    {
     "data": {
      "application/vnd.plotly.v1+json": {
       "config": {
        "plotlyServerURL": "https://plot.ly"
       },
       "data": [
        {
         "marker": {
          "color": [
           "steelblue",
           "tomato"
          ]
         },
         "opacity": 0.7,
         "showlegend": false,
         "type": "bar",
         "x": [
          "No",
          "Yes"
         ],
         "y": {
          "bdata": "JQJWAQ==",
          "dtype": "i2"
         }
        },
        {
         "marker": {
          "color": [
           "steelblue",
           "tomato"
          ]
         },
         "opacity": 0.7,
         "showlegend": false,
         "type": "bar",
         "x": [
          "male",
          "female"
         ],
         "y": {
          "bdata": "QQI6AQ==",
          "dtype": "i2"
         }
        }
       ],
       "layout": {
        "height": 600,
        "template": {
         "data": {
          "bar": [
           {
            "error_x": {
             "color": "#2a3f5f"
            },
            "error_y": {
             "color": "#2a3f5f"
            },
            "marker": {
             "line": {
              "color": "#E5ECF6",
              "width": 0.5
             },
             "pattern": {
              "fillmode": "overlay",
              "size": 10,
              "solidity": 0.2
             }
            },
            "type": "bar"
           }
          ],
          "barpolar": [
           {
            "marker": {
             "line": {
              "color": "#E5ECF6",
              "width": 0.5
             },
             "pattern": {
              "fillmode": "overlay",
              "size": 10,
              "solidity": 0.2
             }
            },
            "type": "barpolar"
           }
          ],
          "carpet": [
           {
            "aaxis": {
             "endlinecolor": "#2a3f5f",
             "gridcolor": "white",
             "linecolor": "white",
             "minorgridcolor": "white",
             "startlinecolor": "#2a3f5f"
            },
            "baxis": {
             "endlinecolor": "#2a3f5f",
             "gridcolor": "white",
             "linecolor": "white",
             "minorgridcolor": "white",
             "startlinecolor": "#2a3f5f"
            },
            "type": "carpet"
           }
          ],
          "choropleth": [
           {
            "colorbar": {
             "outlinewidth": 0,
             "ticks": ""
            },
            "type": "choropleth"
           }
          ],
          "contour": [
           {
            "colorbar": {
             "outlinewidth": 0,
             "ticks": ""
            },
            "colorscale": [
             [
              0,
              "#0d0887"
             ],
             [
              0.1111111111111111,
              "#46039f"
             ],
             [
              0.2222222222222222,
              "#7201a8"
             ],
             [
              0.3333333333333333,
              "#9c179e"
             ],
             [
              0.4444444444444444,
              "#bd3786"
             ],
             [
              0.5555555555555556,
              "#d8576b"
             ],
             [
              0.6666666666666666,
              "#ed7953"
             ],
             [
              0.7777777777777778,
              "#fb9f3a"
             ],
             [
              0.8888888888888888,
              "#fdca26"
             ],
             [
              1,
              "#f0f921"
             ]
            ],
            "type": "contour"
           }
          ],
          "contourcarpet": [
           {
            "colorbar": {
             "outlinewidth": 0,
             "ticks": ""
            },
            "type": "contourcarpet"
           }
          ],
          "heatmap": [
           {
            "colorbar": {
             "outlinewidth": 0,
             "ticks": ""
            },
            "colorscale": [
             [
              0,
              "#0d0887"
             ],
             [
              0.1111111111111111,
              "#46039f"
             ],
             [
              0.2222222222222222,
              "#7201a8"
             ],
             [
              0.3333333333333333,
              "#9c179e"
             ],
             [
              0.4444444444444444,
              "#bd3786"
             ],
             [
              0.5555555555555556,
              "#d8576b"
             ],
             [
              0.6666666666666666,
              "#ed7953"
             ],
             [
              0.7777777777777778,
              "#fb9f3a"
             ],
             [
              0.8888888888888888,
              "#fdca26"
             ],
             [
              1,
              "#f0f921"
             ]
            ],
            "type": "heatmap"
           }
          ],
          "histogram": [
           {
            "marker": {
             "pattern": {
              "fillmode": "overlay",
              "size": 10,
              "solidity": 0.2
             }
            },
            "type": "histogram"
           }
          ],
          "histogram2d": [
           {
            "colorbar": {
             "outlinewidth": 0,
             "ticks": ""
            },
            "colorscale": [
             [
              0,
              "#0d0887"
             ],
             [
              0.1111111111111111,
              "#46039f"
             ],
             [
              0.2222222222222222,
              "#7201a8"
             ],
             [
              0.3333333333333333,
              "#9c179e"
             ],
             [
              0.4444444444444444,
              "#bd3786"
             ],
             [
              0.5555555555555556,
              "#d8576b"
             ],
             [
              0.6666666666666666,
              "#ed7953"
             ],
             [
              0.7777777777777778,
              "#fb9f3a"
             ],
             [
              0.8888888888888888,
              "#fdca26"
             ],
             [
              1,
              "#f0f921"
             ]
            ],
            "type": "histogram2d"
           }
          ],
          "histogram2dcontour": [
           {
            "colorbar": {
             "outlinewidth": 0,
             "ticks": ""
            },
            "colorscale": [
             [
              0,
              "#0d0887"
             ],
             [
              0.1111111111111111,
              "#46039f"
             ],
             [
              0.2222222222222222,
              "#7201a8"
             ],
             [
              0.3333333333333333,
              "#9c179e"
             ],
             [
              0.4444444444444444,
              "#bd3786"
             ],
             [
              0.5555555555555556,
              "#d8576b"
             ],
             [
              0.6666666666666666,
              "#ed7953"
             ],
             [
              0.7777777777777778,
              "#fb9f3a"
             ],
             [
              0.8888888888888888,
              "#fdca26"
             ],
             [
              1,
              "#f0f921"
             ]
            ],
            "type": "histogram2dcontour"
           }
          ],
          "mesh3d": [
           {
            "colorbar": {
             "outlinewidth": 0,
             "ticks": ""
            },
            "type": "mesh3d"
           }
          ],
          "parcoords": [
           {
            "line": {
             "colorbar": {
              "outlinewidth": 0,
              "ticks": ""
             }
            },
            "type": "parcoords"
           }
          ],
          "pie": [
           {
            "automargin": true,
            "type": "pie"
           }
          ],
          "scatter": [
           {
            "fillpattern": {
             "fillmode": "overlay",
             "size": 10,
             "solidity": 0.2
            },
            "type": "scatter"
           }
          ],
          "scatter3d": [
           {
            "line": {
             "colorbar": {
              "outlinewidth": 0,
              "ticks": ""
             }
            },
            "marker": {
             "colorbar": {
              "outlinewidth": 0,
              "ticks": ""
             }
            },
            "type": "scatter3d"
           }
          ],
          "scattercarpet": [
           {
            "marker": {
             "colorbar": {
              "outlinewidth": 0,
              "ticks": ""
             }
            },
            "type": "scattercarpet"
           }
          ],
          "scattergeo": [
           {
            "marker": {
             "colorbar": {
              "outlinewidth": 0,
              "ticks": ""
             }
            },
            "type": "scattergeo"
           }
          ],
          "scattergl": [
           {
            "marker": {
             "colorbar": {
              "outlinewidth": 0,
              "ticks": ""
             }
            },
            "type": "scattergl"
           }
          ],
          "scattermap": [
           {
            "marker": {
             "colorbar": {
              "outlinewidth": 0,
              "ticks": ""
             }
            },
            "type": "scattermap"
           }
          ],
          "scattermapbox": [
           {
            "marker": {
             "colorbar": {
              "outlinewidth": 0,
              "ticks": ""
             }
            },
            "type": "scattermapbox"
           }
          ],
          "scatterpolar": [
           {
            "marker": {
             "colorbar": {
              "outlinewidth": 0,
              "ticks": ""
             }
            },
            "type": "scatterpolar"
           }
          ],
          "scatterpolargl": [
           {
            "marker": {
             "colorbar": {
              "outlinewidth": 0,
              "ticks": ""
             }
            },
            "type": "scatterpolargl"
           }
          ],
          "scatterternary": [
           {
            "marker": {
             "colorbar": {
              "outlinewidth": 0,
              "ticks": ""
             }
            },
            "type": "scatterternary"
           }
          ],
          "surface": [
           {
            "colorbar": {
             "outlinewidth": 0,
             "ticks": ""
            },
            "colorscale": [
             [
              0,
              "#0d0887"
             ],
             [
              0.1111111111111111,
              "#46039f"
             ],
             [
              0.2222222222222222,
              "#7201a8"
             ],
             [
              0.3333333333333333,
              "#9c179e"
             ],
             [
              0.4444444444444444,
              "#bd3786"
             ],
             [
              0.5555555555555556,
              "#d8576b"
             ],
             [
              0.6666666666666666,
              "#ed7953"
             ],
             [
              0.7777777777777778,
              "#fb9f3a"
             ],
             [
              0.8888888888888888,
              "#fdca26"
             ],
             [
              1,
              "#f0f921"
             ]
            ],
            "type": "surface"
           }
          ],
          "table": [
           {
            "cells": {
             "fill": {
              "color": "#EBF0F8"
             },
             "line": {
              "color": "white"
             }
            },
            "header": {
             "fill": {
              "color": "#C8D4E3"
             },
             "line": {
              "color": "white"
             }
            },
            "type": "table"
           }
          ]
         },
         "layout": {
          "annotationdefaults": {
           "arrowcolor": "#2a3f5f",
           "arrowhead": 0,
           "arrowwidth": 1
          },
          "autotypenumbers": "strict",
          "coloraxis": {
           "colorbar": {
            "outlinewidth": 0,
            "ticks": ""
           }
          },
          "colorscale": {
           "diverging": [
            [
             0,
             "#8e0152"
            ],
            [
             0.1,
             "#c51b7d"
            ],
            [
             0.2,
             "#de77ae"
            ],
            [
             0.3,
             "#f1b6da"
            ],
            [
             0.4,
             "#fde0ef"
            ],
            [
             0.5,
             "#f7f7f7"
            ],
            [
             0.6,
             "#e6f5d0"
            ],
            [
             0.7,
             "#b8e186"
            ],
            [
             0.8,
             "#7fbc41"
            ],
            [
             0.9,
             "#4d9221"
            ],
            [
             1,
             "#276419"
            ]
           ],
           "sequential": [
            [
             0,
             "#0d0887"
            ],
            [
             0.1111111111111111,
             "#46039f"
            ],
            [
             0.2222222222222222,
             "#7201a8"
            ],
            [
             0.3333333333333333,
             "#9c179e"
            ],
            [
             0.4444444444444444,
             "#bd3786"
            ],
            [
             0.5555555555555556,
             "#d8576b"
            ],
            [
             0.6666666666666666,
             "#ed7953"
            ],
            [
             0.7777777777777778,
             "#fb9f3a"
            ],
            [
             0.8888888888888888,
             "#fdca26"
            ],
            [
             1,
             "#f0f921"
            ]
           ],
           "sequentialminus": [
            [
             0,
             "#0d0887"
            ],
            [
             0.1111111111111111,
             "#46039f"
            ],
            [
             0.2222222222222222,
             "#7201a8"
            ],
            [
             0.3333333333333333,
             "#9c179e"
            ],
            [
             0.4444444444444444,
             "#bd3786"
            ],
            [
             0.5555555555555556,
             "#d8576b"
            ],
            [
             0.6666666666666666,
             "#ed7953"
            ],
            [
             0.7777777777777778,
             "#fb9f3a"
            ],
            [
             0.8888888888888888,
             "#fdca26"
            ],
            [
             1,
             "#f0f921"
            ]
           ]
          },
          "colorway": [
           "#636efa",
           "#EF553B",
           "#00cc96",
           "#ab63fa",
           "#FFA15A",
           "#19d3f3",
           "#FF6692",
           "#B6E880",
           "#FF97FF",
           "#FECB52"
          ],
          "font": {
           "color": "#2a3f5f"
          },
          "geo": {
           "bgcolor": "white",
           "lakecolor": "white",
           "landcolor": "#E5ECF6",
           "showlakes": true,
           "showland": true,
           "subunitcolor": "white"
          },
          "hoverlabel": {
           "align": "left"
          },
          "hovermode": "closest",
          "mapbox": {
           "style": "light"
          },
          "paper_bgcolor": "white",
          "plot_bgcolor": "#E5ECF6",
          "polar": {
           "angularaxis": {
            "gridcolor": "white",
            "linecolor": "white",
            "ticks": ""
           },
           "bgcolor": "#E5ECF6",
           "radialaxis": {
            "gridcolor": "white",
            "linecolor": "white",
            "ticks": ""
           }
          },
          "scene": {
           "xaxis": {
            "backgroundcolor": "#E5ECF6",
            "gridcolor": "white",
            "gridwidth": 2,
            "linecolor": "white",
            "showbackground": true,
            "ticks": "",
            "zerolinecolor": "white"
           },
           "yaxis": {
            "backgroundcolor": "#E5ECF6",
            "gridcolor": "white",
            "gridwidth": 2,
            "linecolor": "white",
            "showbackground": true,
            "ticks": "",
            "zerolinecolor": "white"
           },
           "zaxis": {
            "backgroundcolor": "#E5ECF6",
            "gridcolor": "white",
            "gridwidth": 2,
            "linecolor": "white",
            "showbackground": true,
            "ticks": "",
            "zerolinecolor": "white"
           }
          },
          "shapedefaults": {
           "line": {
            "color": "#2a3f5f"
           }
          },
          "ternary": {
           "aaxis": {
            "gridcolor": "white",
            "linecolor": "white",
            "ticks": ""
           },
           "baxis": {
            "gridcolor": "white",
            "linecolor": "white",
            "ticks": ""
           },
           "bgcolor": "#E5ECF6",
           "caxis": {
            "gridcolor": "white",
            "linecolor": "white",
            "ticks": ""
           }
          },
          "title": {
           "x": 0.05
          },
          "xaxis": {
           "automargin": true,
           "gridcolor": "white",
           "linecolor": "white",
           "ticks": "",
           "title": {
            "standoff": 15
           },
           "zerolinecolor": "white",
           "zerolinewidth": 2
          },
          "yaxis": {
           "automargin": true,
           "gridcolor": "white",
           "linecolor": "white",
           "ticks": "",
           "title": {
            "standoff": 15
           },
           "zerolinecolor": "white",
           "zerolinewidth": 2
          }
         }
        },
        "title": {
         "text": "Distribución de las variables categóricas"
        },
        "width": 800,
        "xaxis": {
         "title": {
          "text": "Variable"
         }
        },
        "yaxis": {
         "title": {
          "text": "Conteo"
         }
        }
       }
      }
     },
     "metadata": {},
     "output_type": "display_data"
    }
   ],
   "source": [
    "fig = go.Figure()\n",
    "\n",
    "fig.add_trace(\n",
    "    go.Bar(\n",
    "        x = [\"No\", \"Yes\"],\n",
    "        y = df[\"Survived\"].value_counts().values,\n",
    "        marker = dict(\n",
    "            color = [\"steelblue\", \"tomato\"],\n",
    "        ),\n",
    "        opacity=0.7,\n",
    "        showlegend= False\n",
    "    ),\n",
    ")\n",
    "\n",
    "fig.add_trace(\n",
    "    go.Bar(\n",
    "        x = df[\"Sex\"].value_counts().index,\n",
    "        y = df[\"Sex\"].value_counts().values,\n",
    "        marker = dict(\n",
    "            color = [\"steelblue\", \"tomato\"],\n",
    "        ),\n",
    "        opacity=0.7,\n",
    "        showlegend= False\n",
    "    )\n",
    ")\n",
    "\n",
    "fig.update_layout(\n",
    "    title_text=\"Distribución de las variables categóricas\",\n",
    "    xaxis_title=\"Variable\",\n",
    "    yaxis_title=\"Conteo\",\n",
    "    width = 800,\n",
    "    height = 600\n",
    ")\n"
   ]
  },
  {
   "cell_type": "markdown",
   "id": "a1aaf3af",
   "metadata": {},
   "source": [
    "##### Explicación de la Distribución de la Variable Objetivo (Survived)\n",
    "\n",
    "**Resultados obtenidos:**\n",
    "El gráfico de barras muestra la distribución de la variable `Survived`, que indica si un pasajero sobrevivió (1) o no (0).\n",
    "\n",
    "**Distribución de clases:**\n",
    "- **Clase 0 (No Sobrevivió):** Aproximadamente 549 pasajeros (62%)\n",
    "- **Clase 1 (Sobrevivió):** Aproximadamente 342 pasajeros (38%)\n",
    "\n",
    "**Análisis del desbalance:**\n",
    "- Se observa un desbalance significativo en las clases\n",
    "- La clase mayoritaria (no sobrevivió) representa el 62% de los datos\n",
    "- La clase minoritaria (sobrevivió) representa solo el 38% de los datos\n",
    "- La proporción es aproximadamente 1.6:1 (no sobrevivió vs sobrevivió)\n",
    "\n",
    "**Implicaciones para el modelo:**\n",
    "- **Problema de desbalance:** Los clasificadores pueden tener sesgo hacia la clase mayoritaria\n",
    "- **Estrategias necesarias:** \n",
    "  - Técnicas de balanceo de clases (SMOTE, undersampling, oversampling)\n",
    "  - Ajuste de métricas de evaluación (F1-score, precision, recall)\n",
    "  - Uso de class_weight en algoritmos que lo soporten\n",
    "- **Validación:** Es crucial usar StratifiedKFold para mantener la proporción de clases en cada fold\n",
    "- **Interpretación:** Los resultados deben evaluarse considerando ambas clases por igual\n",
    "\n"
   ]
  },
  {
   "cell_type": "markdown",
   "id": "8699d1f2",
   "metadata": {},
   "source": [
    "##### Distribución de Variables Principales"
   ]
  },
  {
   "cell_type": "code",
   "execution_count": 441,
   "id": "18cc9c85",
   "metadata": {},
   "outputs": [
    {
     "data": {
      "application/vnd.plotly.v1+json": {
       "config": {
        "plotlyServerURL": "https://plot.ly"
       },
       "data": [
        {
         "histnorm": "probability density",
         "marker": {
          "color": "steelblue",
          "line": {
           "color": "black",
           "width": 1
          },
          "opacity": 0.6
         },
         "showlegend": false,
         "type": "histogram",
         "x": {
          "bdata": "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",
          "dtype": "f8"
         }
        },
        {
         "line": {
          "color": "black"
         },
         "showlegend": false,
         "type": "scatter",
         "x": {
          "bdata": "AAAAAAAAAAAxb2dIzNvpPzFvZ0jM2/k/ZZNNNtlkA0Axb2dIzNsJQH+lQK1fKRBAZZNNNtlkE0BLgVq/UqAWQDFvZ0jM2xlAF1100UUXHUB/pUCtXykgQHIcx3EcxyFAZZNNNtlkI0BYCtT6lQIlQEuBWr9SoCZAPvjggw8+KEAxb2dIzNspQCTm7QyJeStAF1100UUXLUAK1PqVArUuQH+lQK1fKTBA+OCDDz74MEByHMdxHMcxQOtXCtT6lTJAZZNNNtlkM0DezpCYtzM0QFgK1PqVAjVA0UUXXXTRNUBLgVq/UqA2QMS8nSExbzdAPvjggw8+OEC3MyTm7Qw5QDFvZ0jM2zlAq6qqqqqqOkAk5u0MiXk7QJ4hMW9nSDxAF1100UUXPUCRmLczJOY9QArU+pUCtT5AhA8++OCDP0B/pUCtXylAQDtDYt7OkEBA+OCDDz74QEC1fqVArV9BQHIcx3Ecx0FALrrooosuQkDrVwrU+pVCQKj1KwVq/UJAZZNNNtlkQ0AiMW9nSMxDQN7OkJi3M0RAm2yyySabREBYCtT6lQJFQBWo9SsFakVA0UUXXXTRRUCO4ziO4zhGQEuBWr9SoEZACB988MEHR0DEvJ0hMW9HQIFav1Kg1kdAPvjggw8+SED7lQK1fqVIQLczJObtDElAdNFFF110SUAxb2dIzNtJQO4MiXk7Q0pAq6qqqqqqSkBnSMzbGRJLQCTm7QyJeUtA4YMPPvjgS0CeITFvZ0hMQFq/UqDWr0xAF1100UUXTUDU+pUCtX5NQJGYtzMk5k1ATTbZZJNNTkAK1PqVArVOQMdxHMdxHE9AhA8++OCDT0BArV8pUOtPQH+lQK1fKVBAXXTRRRddUEA7Q2LezpBQQBoS83aGxFBA+OCDDz74UEDXrxSo9StRQLV+pUCtX1FAk0022WSTUUByHMdxHMdRQFDrVwrU+lFALrrooosuUkANiXk7Q2JSQOtXCtT6lVJAyiabbLLJUkCo9SsFav1SQIbEvJ0hMVNAZZNNNtlkU0BDYt7OkJhTQCIxb2dIzFNAAAAAAAAAVEA=",
          "dtype": "f8"
         },
         "y": {
          "bdata": "P1H98/PgdT9rOOJlD694P6M26SHkA3s/jn5kWW+/fD/4PvMMF9R9P2ZA0GOgSH4/H6RamPs2fj8yXFIvqch9PzGYhSr5MX0/QanWMV6tfD/FUw2hkXd8P6+umdSQzHw/JRpmhOTkfT9wTB/wbfJ/P6lKt9odjoE/uoBBnsW8gz+S50oiaoaGPyiL0+Mb4Ik/EWGGXVeyjT/EH0jqNO2QP7rQIL/QFpM/eucNHOc+lT8EbEOmH0+XP/Ex3WInNJk/kLIQ3Vjfmj/hbLSJjkecP6QxSlIbaZ0/uhNflhBFnj/+c0b/EOCeP9PH5hvzQJ8/VjpvgGxvnz8oZbs273KfPyjYr8vVUZ8/jkkr5+4Qnz/mvvMdbbOeP1oGeCcwO54/w9wRk0upnT9qi7N5ov6cP5jZ8w9uPJw/U6YH1pBkmz+ls6wzrXmaP2gU7W8Lf5k/Chn6HGd4mD+dytZYu2mXP6ejKLkaV5Y/yRgS6ZJElT/NKEUbFDaUP6uqCklUL5M/DREif6szkj9pQq1W7EWRP40b0Vw+aJA/mSL4Cf43jz8Xo8kZVsONP6W3wJehcYw/HLBIDxpAiz/w+pQ9LSqKPysUD6i+KYk/CFmUSp43iD9/W94yNkyHPy5q+VViYIY/a9JfG1ZuhT9dN5RiZ3KEP7jvtBmUa4M/jxtLlKBbgj9q/vTHwEaBP9zwqWzYMoA/Psm0COxMfj+VbOQBd098P4RgUPjQdno/yKkGPV3IeD/Lqr0czER3P58c1l9I6HU/HxUSaE+rdD/uE8NiB4RzP6uRIyveZ3I/6cu1jTdNcT93pACY7yxwP20hoYvsBm4/Rey4XaKiaz8zn8O6xDVpPyKxsa3lzmY/HzMjmU9/ZD9JIShLYldiP1neSpYzY2A/xeRBRodQXT9JVbRErUlaP21FDZMqolc/xMmF/ClDVT+2JMJPBhVTP3sKjWIRBVE/nAFaqYASTj/tKadr6UFKP/TYFsoUpkY/Cw6hejVUQz+MlDJmk2BAP85tPrd8rzs/xpvkffx1Nz//wIaz4QA0P+Fv5HJPLDE/QMGf2IWbLT8=",
          "dtype": "f8"
         }
        }
       ],
       "layout": {
        "template": {
         "data": {
          "bar": [
           {
            "error_x": {
             "color": "#2a3f5f"
            },
            "error_y": {
             "color": "#2a3f5f"
            },
            "marker": {
             "line": {
              "color": "#E5ECF6",
              "width": 0.5
             },
             "pattern": {
              "fillmode": "overlay",
              "size": 10,
              "solidity": 0.2
             }
            },
            "type": "bar"
           }
          ],
          "barpolar": [
           {
            "marker": {
             "line": {
              "color": "#E5ECF6",
              "width": 0.5
             },
             "pattern": {
              "fillmode": "overlay",
              "size": 10,
              "solidity": 0.2
             }
            },
            "type": "barpolar"
           }
          ],
          "carpet": [
           {
            "aaxis": {
             "endlinecolor": "#2a3f5f",
             "gridcolor": "white",
             "linecolor": "white",
             "minorgridcolor": "white",
             "startlinecolor": "#2a3f5f"
            },
            "baxis": {
             "endlinecolor": "#2a3f5f",
             "gridcolor": "white",
             "linecolor": "white",
             "minorgridcolor": "white",
             "startlinecolor": "#2a3f5f"
            },
            "type": "carpet"
           }
          ],
          "choropleth": [
           {
            "colorbar": {
             "outlinewidth": 0,
             "ticks": ""
            },
            "type": "choropleth"
           }
          ],
          "contour": [
           {
            "colorbar": {
             "outlinewidth": 0,
             "ticks": ""
            },
            "colorscale": [
             [
              0,
              "#0d0887"
             ],
             [
              0.1111111111111111,
              "#46039f"
             ],
             [
              0.2222222222222222,
              "#7201a8"
             ],
             [
              0.3333333333333333,
              "#9c179e"
             ],
             [
              0.4444444444444444,
              "#bd3786"
             ],
             [
              0.5555555555555556,
              "#d8576b"
             ],
             [
              0.6666666666666666,
              "#ed7953"
             ],
             [
              0.7777777777777778,
              "#fb9f3a"
             ],
             [
              0.8888888888888888,
              "#fdca26"
             ],
             [
              1,
              "#f0f921"
             ]
            ],
            "type": "contour"
           }
          ],
          "contourcarpet": [
           {
            "colorbar": {
             "outlinewidth": 0,
             "ticks": ""
            },
            "type": "contourcarpet"
           }
          ],
          "heatmap": [
           {
            "colorbar": {
             "outlinewidth": 0,
             "ticks": ""
            },
            "colorscale": [
             [
              0,
              "#0d0887"
             ],
             [
              0.1111111111111111,
              "#46039f"
             ],
             [
              0.2222222222222222,
              "#7201a8"
             ],
             [
              0.3333333333333333,
              "#9c179e"
             ],
             [
              0.4444444444444444,
              "#bd3786"
             ],
             [
              0.5555555555555556,
              "#d8576b"
             ],
             [
              0.6666666666666666,
              "#ed7953"
             ],
             [
              0.7777777777777778,
              "#fb9f3a"
             ],
             [
              0.8888888888888888,
              "#fdca26"
             ],
             [
              1,
              "#f0f921"
             ]
            ],
            "type": "heatmap"
           }
          ],
          "histogram": [
           {
            "marker": {
             "pattern": {
              "fillmode": "overlay",
              "size": 10,
              "solidity": 0.2
             }
            },
            "type": "histogram"
           }
          ],
          "histogram2d": [
           {
            "colorbar": {
             "outlinewidth": 0,
             "ticks": ""
            },
            "colorscale": [
             [
              0,
              "#0d0887"
             ],
             [
              0.1111111111111111,
              "#46039f"
             ],
             [
              0.2222222222222222,
              "#7201a8"
             ],
             [
              0.3333333333333333,
              "#9c179e"
             ],
             [
              0.4444444444444444,
              "#bd3786"
             ],
             [
              0.5555555555555556,
              "#d8576b"
             ],
             [
              0.6666666666666666,
              "#ed7953"
             ],
             [
              0.7777777777777778,
              "#fb9f3a"
             ],
             [
              0.8888888888888888,
              "#fdca26"
             ],
             [
              1,
              "#f0f921"
             ]
            ],
            "type": "histogram2d"
           }
          ],
          "histogram2dcontour": [
           {
            "colorbar": {
             "outlinewidth": 0,
             "ticks": ""
            },
            "colorscale": [
             [
              0,
              "#0d0887"
             ],
             [
              0.1111111111111111,
              "#46039f"
             ],
             [
              0.2222222222222222,
              "#7201a8"
             ],
             [
              0.3333333333333333,
              "#9c179e"
             ],
             [
              0.4444444444444444,
              "#bd3786"
             ],
             [
              0.5555555555555556,
              "#d8576b"
             ],
             [
              0.6666666666666666,
              "#ed7953"
             ],
             [
              0.7777777777777778,
              "#fb9f3a"
             ],
             [
              0.8888888888888888,
              "#fdca26"
             ],
             [
              1,
              "#f0f921"
             ]
            ],
            "type": "histogram2dcontour"
           }
          ],
          "mesh3d": [
           {
            "colorbar": {
             "outlinewidth": 0,
             "ticks": ""
            },
            "type": "mesh3d"
           }
          ],
          "parcoords": [
           {
            "line": {
             "colorbar": {
              "outlinewidth": 0,
              "ticks": ""
             }
            },
            "type": "parcoords"
           }
          ],
          "pie": [
           {
            "automargin": true,
            "type": "pie"
           }
          ],
          "scatter": [
           {
            "fillpattern": {
             "fillmode": "overlay",
             "size": 10,
             "solidity": 0.2
            },
            "type": "scatter"
           }
          ],
          "scatter3d": [
           {
            "line": {
             "colorbar": {
              "outlinewidth": 0,
              "ticks": ""
             }
            },
            "marker": {
             "colorbar": {
              "outlinewidth": 0,
              "ticks": ""
             }
            },
            "type": "scatter3d"
           }
          ],
          "scattercarpet": [
           {
            "marker": {
             "colorbar": {
              "outlinewidth": 0,
              "ticks": ""
             }
            },
            "type": "scattercarpet"
           }
          ],
          "scattergeo": [
           {
            "marker": {
             "colorbar": {
              "outlinewidth": 0,
              "ticks": ""
             }
            },
            "type": "scattergeo"
           }
          ],
          "scattergl": [
           {
            "marker": {
             "colorbar": {
              "outlinewidth": 0,
              "ticks": ""
             }
            },
            "type": "scattergl"
           }
          ],
          "scattermap": [
           {
            "marker": {
             "colorbar": {
              "outlinewidth": 0,
              "ticks": ""
             }
            },
            "type": "scattermap"
           }
          ],
          "scattermapbox": [
           {
            "marker": {
             "colorbar": {
              "outlinewidth": 0,
              "ticks": ""
             }
            },
            "type": "scattermapbox"
           }
          ],
          "scatterpolar": [
           {
            "marker": {
             "colorbar": {
              "outlinewidth": 0,
              "ticks": ""
             }
            },
            "type": "scatterpolar"
           }
          ],
          "scatterpolargl": [
           {
            "marker": {
             "colorbar": {
              "outlinewidth": 0,
              "ticks": ""
             }
            },
            "type": "scatterpolargl"
           }
          ],
          "scatterternary": [
           {
            "marker": {
             "colorbar": {
              "outlinewidth": 0,
              "ticks": ""
             }
            },
            "type": "scatterternary"
           }
          ],
          "surface": [
           {
            "colorbar": {
             "outlinewidth": 0,
             "ticks": ""
            },
            "colorscale": [
             [
              0,
              "#0d0887"
             ],
             [
              0.1111111111111111,
              "#46039f"
             ],
             [
              0.2222222222222222,
              "#7201a8"
             ],
             [
              0.3333333333333333,
              "#9c179e"
             ],
             [
              0.4444444444444444,
              "#bd3786"
             ],
             [
              0.5555555555555556,
              "#d8576b"
             ],
             [
              0.6666666666666666,
              "#ed7953"
             ],
             [
              0.7777777777777778,
              "#fb9f3a"
             ],
             [
              0.8888888888888888,
              "#fdca26"
             ],
             [
              1,
              "#f0f921"
             ]
            ],
            "type": "surface"
           }
          ],
          "table": [
           {
            "cells": {
             "fill": {
              "color": "#EBF0F8"
             },
             "line": {
              "color": "white"
             }
            },
            "header": {
             "fill": {
              "color": "#C8D4E3"
             },
             "line": {
              "color": "white"
             }
            },
            "type": "table"
           }
          ]
         },
         "layout": {
          "annotationdefaults": {
           "arrowcolor": "#2a3f5f",
           "arrowhead": 0,
           "arrowwidth": 1
          },
          "autotypenumbers": "strict",
          "coloraxis": {
           "colorbar": {
            "outlinewidth": 0,
            "ticks": ""
           }
          },
          "colorscale": {
           "diverging": [
            [
             0,
             "#8e0152"
            ],
            [
             0.1,
             "#c51b7d"
            ],
            [
             0.2,
             "#de77ae"
            ],
            [
             0.3,
             "#f1b6da"
            ],
            [
             0.4,
             "#fde0ef"
            ],
            [
             0.5,
             "#f7f7f7"
            ],
            [
             0.6,
             "#e6f5d0"
            ],
            [
             0.7,
             "#b8e186"
            ],
            [
             0.8,
             "#7fbc41"
            ],
            [
             0.9,
             "#4d9221"
            ],
            [
             1,
             "#276419"
            ]
           ],
           "sequential": [
            [
             0,
             "#0d0887"
            ],
            [
             0.1111111111111111,
             "#46039f"
            ],
            [
             0.2222222222222222,
             "#7201a8"
            ],
            [
             0.3333333333333333,
             "#9c179e"
            ],
            [
             0.4444444444444444,
             "#bd3786"
            ],
            [
             0.5555555555555556,
             "#d8576b"
            ],
            [
             0.6666666666666666,
             "#ed7953"
            ],
            [
             0.7777777777777778,
             "#fb9f3a"
            ],
            [
             0.8888888888888888,
             "#fdca26"
            ],
            [
             1,
             "#f0f921"
            ]
           ],
           "sequentialminus": [
            [
             0,
             "#0d0887"
            ],
            [
             0.1111111111111111,
             "#46039f"
            ],
            [
             0.2222222222222222,
             "#7201a8"
            ],
            [
             0.3333333333333333,
             "#9c179e"
            ],
            [
             0.4444444444444444,
             "#bd3786"
            ],
            [
             0.5555555555555556,
             "#d8576b"
            ],
            [
             0.6666666666666666,
             "#ed7953"
            ],
            [
             0.7777777777777778,
             "#fb9f3a"
            ],
            [
             0.8888888888888888,
             "#fdca26"
            ],
            [
             1,
             "#f0f921"
            ]
           ]
          },
          "colorway": [
           "#636efa",
           "#EF553B",
           "#00cc96",
           "#ab63fa",
           "#FFA15A",
           "#19d3f3",
           "#FF6692",
           "#B6E880",
           "#FF97FF",
           "#FECB52"
          ],
          "font": {
           "color": "#2a3f5f"
          },
          "geo": {
           "bgcolor": "white",
           "lakecolor": "white",
           "landcolor": "#E5ECF6",
           "showlakes": true,
           "showland": true,
           "subunitcolor": "white"
          },
          "hoverlabel": {
           "align": "left"
          },
          "hovermode": "closest",
          "mapbox": {
           "style": "light"
          },
          "paper_bgcolor": "white",
          "plot_bgcolor": "#E5ECF6",
          "polar": {
           "angularaxis": {
            "gridcolor": "white",
            "linecolor": "white",
            "ticks": ""
           },
           "bgcolor": "#E5ECF6",
           "radialaxis": {
            "gridcolor": "white",
            "linecolor": "white",
            "ticks": ""
           }
          },
          "scene": {
           "xaxis": {
            "backgroundcolor": "#E5ECF6",
            "gridcolor": "white",
            "gridwidth": 2,
            "linecolor": "white",
            "showbackground": true,
            "ticks": "",
            "zerolinecolor": "white"
           },
           "yaxis": {
            "backgroundcolor": "#E5ECF6",
            "gridcolor": "white",
            "gridwidth": 2,
            "linecolor": "white",
            "showbackground": true,
            "ticks": "",
            "zerolinecolor": "white"
           },
           "zaxis": {
            "backgroundcolor": "#E5ECF6",
            "gridcolor": "white",
            "gridwidth": 2,
            "linecolor": "white",
            "showbackground": true,
            "ticks": "",
            "zerolinecolor": "white"
           }
          },
          "shapedefaults": {
           "line": {
            "color": "#2a3f5f"
           }
          },
          "ternary": {
           "aaxis": {
            "gridcolor": "white",
            "linecolor": "white",
            "ticks": ""
           },
           "baxis": {
            "gridcolor": "white",
            "linecolor": "white",
            "ticks": ""
           },
           "bgcolor": "#E5ECF6",
           "caxis": {
            "gridcolor": "white",
            "linecolor": "white",
            "ticks": ""
           }
          },
          "title": {
           "x": 0.05
          },
          "xaxis": {
           "automargin": true,
           "gridcolor": "white",
           "linecolor": "white",
           "ticks": "",
           "title": {
            "standoff": 15
           },
           "zerolinecolor": "white",
           "zerolinewidth": 2
          },
          "yaxis": {
           "automargin": true,
           "gridcolor": "white",
           "linecolor": "white",
           "ticks": "",
           "title": {
            "standoff": 15
           },
           "zerolinecolor": "white",
           "zerolinewidth": 2
          }
         }
        },
        "title": {
         "text": "Distribución de la variable Age"
        },
        "xaxis": {
         "title": {
          "text": "Age"
         }
        },
        "yaxis": {
         "title": {
          "text": "Densidad"
         }
        }
       }
      }
     },
     "metadata": {},
     "output_type": "display_data"
    }
   ],
   "source": [
    "fig = go.Figure()\n",
    "\n",
    "fig.add_trace(\n",
    "    go.Histogram(\n",
    "        x = df[\"Age\"],\n",
    "        marker = dict(\n",
    "            color = \"steelblue\",\n",
    "            line = dict(\n",
    "                color = \"black\",\n",
    "                width = 1,\n",
    "            ),\n",
    "            opacity = 0.6\n",
    "        ),\n",
    "        histnorm= \"probability density\",\n",
    "        showlegend = False\n",
    "\n",
    "    )\n",
    ")\n",
    "\n",
    "x_range = np.linspace(0, 80, 100)\n",
    "kde = gaussian_kde(df[\"Age\"].dropna())\n",
    "\n",
    "fig.add_trace(\n",
    "    go.Scatter(\n",
    "        x = x_range,\n",
    "        y = kde(x_range),\n",
    "        line = dict(\n",
    "            color = \"black\"\n",
    "        ),\n",
    "        showlegend = False\n",
    "    )\n",
    ")\n",
    "\n",
    "fig.update_layout(\n",
    "    title_text = \"Distribución de la variable Age\",\n",
    "    xaxis_title = \"Age\",\n",
    "    yaxis_title = \"Densidad\",\n",
    ")"
   ]
  },
  {
   "cell_type": "markdown",
   "id": "63723127",
   "metadata": {},
   "source": [
    "##### Explicación de la Distribución de Variables Principales\n",
    "\n",
    "**Distribución de Age:**\n",
    "- **Pico principal:** Mayor concentración entre 20-30 años\n",
    "- **Distribución:** Asimétrica positiva (sesgada a la derecha)\n",
    "- **Rango:** Desde niños (0-5 años) hasta adultos mayores (60+ años)\n",
    "- **Característica:** Más pasajeros jóvenes que mayores\n",
    "\n",
    "**Distribución de Pclass:**\n",
    "- **Clase 3:** Más numerosa (~490 pasajeros)\n",
    "- **Clase 1:** ~210 pasajeros\n",
    "- **Clase 2:** Menos representada (~190 pasajeros)\n",
    "- **Observación:** Desbalance significativo hacia tercera clase\n",
    "\n",
    "**Distribución del Sexo:**\n",
    "- **Hombres:** Mayoría (~600 pasajeros)\n",
    "- **Mujeres:** Minoría (~300 pasajeros)\n",
    "- **Proporción:** Aproximadamente 2:1 (hombres:mujeres)\n",
    "\n",
    "**Implicaciones:**\n",
    "- Variables categóricas muestran desbalance que puede afectar el modelo\n",
    "- La edad requiere normalización por su distribución asimétrica\n",
    "- El sexo y la clase pueden ser predictores importantes para supervivencia"
   ]
  },
  {
   "cell_type": "markdown",
   "id": "1a6096e8",
   "metadata": {},
   "source": [
    "##### Análisis de Variables Categóricas"
   ]
  },
  {
   "cell_type": "code",
   "execution_count": 442,
   "id": "ea4a0837",
   "metadata": {},
   "outputs": [],
   "source": [
    "categorical_cols = df.select_dtypes(include=[\"object\", \"category\"]).columns\n",
    "df[\"Deck\"] = df[\"Cabin\"].astype(str).str[0]\n",
    "df[\"Deck\"] = df[\"Deck\"].replace(\"n\", \"Unknown\")"
   ]
  },
  {
   "cell_type": "code",
   "execution_count": 443,
   "id": "629fbb06",
   "metadata": {},
   "outputs": [
    {
     "data": {
      "application/vnd.plotly.v1+json": {
       "config": {
        "plotlyServerURL": "https://plot.ly"
       },
       "data": [
        {
         "marker": {
          "color": "tomato"
         },
         "name": "Did not survive",
         "opacity": 0.7,
         "type": "bar",
         "x": [
          "Unknown",
          "C",
          "B",
          "E",
          "A",
          "D",
          "F",
          "G",
          "T"
         ],
         "y": {
          "bdata": "4QEYAAwACAAIAAgABQACAAEA",
          "dtype": "i2"
         }
        },
        {
         "marker": {
          "color": "steelblue"
         },
         "name": "Survived",
         "opacity": 0.7,
         "type": "bar",
         "x": [
          "Unknown",
          "C",
          "B",
          "D",
          "E",
          "F",
          "A",
          "G"
         ],
         "y": {
          "bdata": "zgAjACMAGQAYAAgABwACAA==",
          "dtype": "i2"
         }
        }
       ],
       "layout": {
        "template": {
         "data": {
          "bar": [
           {
            "error_x": {
             "color": "#2a3f5f"
            },
            "error_y": {
             "color": "#2a3f5f"
            },
            "marker": {
             "line": {
              "color": "#E5ECF6",
              "width": 0.5
             },
             "pattern": {
              "fillmode": "overlay",
              "size": 10,
              "solidity": 0.2
             }
            },
            "type": "bar"
           }
          ],
          "barpolar": [
           {
            "marker": {
             "line": {
              "color": "#E5ECF6",
              "width": 0.5
             },
             "pattern": {
              "fillmode": "overlay",
              "size": 10,
              "solidity": 0.2
             }
            },
            "type": "barpolar"
           }
          ],
          "carpet": [
           {
            "aaxis": {
             "endlinecolor": "#2a3f5f",
             "gridcolor": "white",
             "linecolor": "white",
             "minorgridcolor": "white",
             "startlinecolor": "#2a3f5f"
            },
            "baxis": {
             "endlinecolor": "#2a3f5f",
             "gridcolor": "white",
             "linecolor": "white",
             "minorgridcolor": "white",
             "startlinecolor": "#2a3f5f"
            },
            "type": "carpet"
           }
          ],
          "choropleth": [
           {
            "colorbar": {
             "outlinewidth": 0,
             "ticks": ""
            },
            "type": "choropleth"
           }
          ],
          "contour": [
           {
            "colorbar": {
             "outlinewidth": 0,
             "ticks": ""
            },
            "colorscale": [
             [
              0,
              "#0d0887"
             ],
             [
              0.1111111111111111,
              "#46039f"
             ],
             [
              0.2222222222222222,
              "#7201a8"
             ],
             [
              0.3333333333333333,
              "#9c179e"
             ],
             [
              0.4444444444444444,
              "#bd3786"
             ],
             [
              0.5555555555555556,
              "#d8576b"
             ],
             [
              0.6666666666666666,
              "#ed7953"
             ],
             [
              0.7777777777777778,
              "#fb9f3a"
             ],
             [
              0.8888888888888888,
              "#fdca26"
             ],
             [
              1,
              "#f0f921"
             ]
            ],
            "type": "contour"
           }
          ],
          "contourcarpet": [
           {
            "colorbar": {
             "outlinewidth": 0,
             "ticks": ""
            },
            "type": "contourcarpet"
           }
          ],
          "heatmap": [
           {
            "colorbar": {
             "outlinewidth": 0,
             "ticks": ""
            },
            "colorscale": [
             [
              0,
              "#0d0887"
             ],
             [
              0.1111111111111111,
              "#46039f"
             ],
             [
              0.2222222222222222,
              "#7201a8"
             ],
             [
              0.3333333333333333,
              "#9c179e"
             ],
             [
              0.4444444444444444,
              "#bd3786"
             ],
             [
              0.5555555555555556,
              "#d8576b"
             ],
             [
              0.6666666666666666,
              "#ed7953"
             ],
             [
              0.7777777777777778,
              "#fb9f3a"
             ],
             [
              0.8888888888888888,
              "#fdca26"
             ],
             [
              1,
              "#f0f921"
             ]
            ],
            "type": "heatmap"
           }
          ],
          "histogram": [
           {
            "marker": {
             "pattern": {
              "fillmode": "overlay",
              "size": 10,
              "solidity": 0.2
             }
            },
            "type": "histogram"
           }
          ],
          "histogram2d": [
           {
            "colorbar": {
             "outlinewidth": 0,
             "ticks": ""
            },
            "colorscale": [
             [
              0,
              "#0d0887"
             ],
             [
              0.1111111111111111,
              "#46039f"
             ],
             [
              0.2222222222222222,
              "#7201a8"
             ],
             [
              0.3333333333333333,
              "#9c179e"
             ],
             [
              0.4444444444444444,
              "#bd3786"
             ],
             [
              0.5555555555555556,
              "#d8576b"
             ],
             [
              0.6666666666666666,
              "#ed7953"
             ],
             [
              0.7777777777777778,
              "#fb9f3a"
             ],
             [
              0.8888888888888888,
              "#fdca26"
             ],
             [
              1,
              "#f0f921"
             ]
            ],
            "type": "histogram2d"
           }
          ],
          "histogram2dcontour": [
           {
            "colorbar": {
             "outlinewidth": 0,
             "ticks": ""
            },
            "colorscale": [
             [
              0,
              "#0d0887"
             ],
             [
              0.1111111111111111,
              "#46039f"
             ],
             [
              0.2222222222222222,
              "#7201a8"
             ],
             [
              0.3333333333333333,
              "#9c179e"
             ],
             [
              0.4444444444444444,
              "#bd3786"
             ],
             [
              0.5555555555555556,
              "#d8576b"
             ],
             [
              0.6666666666666666,
              "#ed7953"
             ],
             [
              0.7777777777777778,
              "#fb9f3a"
             ],
             [
              0.8888888888888888,
              "#fdca26"
             ],
             [
              1,
              "#f0f921"
             ]
            ],
            "type": "histogram2dcontour"
           }
          ],
          "mesh3d": [
           {
            "colorbar": {
             "outlinewidth": 0,
             "ticks": ""
            },
            "type": "mesh3d"
           }
          ],
          "parcoords": [
           {
            "line": {
             "colorbar": {
              "outlinewidth": 0,
              "ticks": ""
             }
            },
            "type": "parcoords"
           }
          ],
          "pie": [
           {
            "automargin": true,
            "type": "pie"
           }
          ],
          "scatter": [
           {
            "fillpattern": {
             "fillmode": "overlay",
             "size": 10,
             "solidity": 0.2
            },
            "type": "scatter"
           }
          ],
          "scatter3d": [
           {
            "line": {
             "colorbar": {
              "outlinewidth": 0,
              "ticks": ""
             }
            },
            "marker": {
             "colorbar": {
              "outlinewidth": 0,
              "ticks": ""
             }
            },
            "type": "scatter3d"
           }
          ],
          "scattercarpet": [
           {
            "marker": {
             "colorbar": {
              "outlinewidth": 0,
              "ticks": ""
             }
            },
            "type": "scattercarpet"
           }
          ],
          "scattergeo": [
           {
            "marker": {
             "colorbar": {
              "outlinewidth": 0,
              "ticks": ""
             }
            },
            "type": "scattergeo"
           }
          ],
          "scattergl": [
           {
            "marker": {
             "colorbar": {
              "outlinewidth": 0,
              "ticks": ""
             }
            },
            "type": "scattergl"
           }
          ],
          "scattermap": [
           {
            "marker": {
             "colorbar": {
              "outlinewidth": 0,
              "ticks": ""
             }
            },
            "type": "scattermap"
           }
          ],
          "scattermapbox": [
           {
            "marker": {
             "colorbar": {
              "outlinewidth": 0,
              "ticks": ""
             }
            },
            "type": "scattermapbox"
           }
          ],
          "scatterpolar": [
           {
            "marker": {
             "colorbar": {
              "outlinewidth": 0,
              "ticks": ""
             }
            },
            "type": "scatterpolar"
           }
          ],
          "scatterpolargl": [
           {
            "marker": {
             "colorbar": {
              "outlinewidth": 0,
              "ticks": ""
             }
            },
            "type": "scatterpolargl"
           }
          ],
          "scatterternary": [
           {
            "marker": {
             "colorbar": {
              "outlinewidth": 0,
              "ticks": ""
             }
            },
            "type": "scatterternary"
           }
          ],
          "surface": [
           {
            "colorbar": {
             "outlinewidth": 0,
             "ticks": ""
            },
            "colorscale": [
             [
              0,
              "#0d0887"
             ],
             [
              0.1111111111111111,
              "#46039f"
             ],
             [
              0.2222222222222222,
              "#7201a8"
             ],
             [
              0.3333333333333333,
              "#9c179e"
             ],
             [
              0.4444444444444444,
              "#bd3786"
             ],
             [
              0.5555555555555556,
              "#d8576b"
             ],
             [
              0.6666666666666666,
              "#ed7953"
             ],
             [
              0.7777777777777778,
              "#fb9f3a"
             ],
             [
              0.8888888888888888,
              "#fdca26"
             ],
             [
              1,
              "#f0f921"
             ]
            ],
            "type": "surface"
           }
          ],
          "table": [
           {
            "cells": {
             "fill": {
              "color": "#EBF0F8"
             },
             "line": {
              "color": "white"
             }
            },
            "header": {
             "fill": {
              "color": "#C8D4E3"
             },
             "line": {
              "color": "white"
             }
            },
            "type": "table"
           }
          ]
         },
         "layout": {
          "annotationdefaults": {
           "arrowcolor": "#2a3f5f",
           "arrowhead": 0,
           "arrowwidth": 1
          },
          "autotypenumbers": "strict",
          "coloraxis": {
           "colorbar": {
            "outlinewidth": 0,
            "ticks": ""
           }
          },
          "colorscale": {
           "diverging": [
            [
             0,
             "#8e0152"
            ],
            [
             0.1,
             "#c51b7d"
            ],
            [
             0.2,
             "#de77ae"
            ],
            [
             0.3,
             "#f1b6da"
            ],
            [
             0.4,
             "#fde0ef"
            ],
            [
             0.5,
             "#f7f7f7"
            ],
            [
             0.6,
             "#e6f5d0"
            ],
            [
             0.7,
             "#b8e186"
            ],
            [
             0.8,
             "#7fbc41"
            ],
            [
             0.9,
             "#4d9221"
            ],
            [
             1,
             "#276419"
            ]
           ],
           "sequential": [
            [
             0,
             "#0d0887"
            ],
            [
             0.1111111111111111,
             "#46039f"
            ],
            [
             0.2222222222222222,
             "#7201a8"
            ],
            [
             0.3333333333333333,
             "#9c179e"
            ],
            [
             0.4444444444444444,
             "#bd3786"
            ],
            [
             0.5555555555555556,
             "#d8576b"
            ],
            [
             0.6666666666666666,
             "#ed7953"
            ],
            [
             0.7777777777777778,
             "#fb9f3a"
            ],
            [
             0.8888888888888888,
             "#fdca26"
            ],
            [
             1,
             "#f0f921"
            ]
           ],
           "sequentialminus": [
            [
             0,
             "#0d0887"
            ],
            [
             0.1111111111111111,
             "#46039f"
            ],
            [
             0.2222222222222222,
             "#7201a8"
            ],
            [
             0.3333333333333333,
             "#9c179e"
            ],
            [
             0.4444444444444444,
             "#bd3786"
            ],
            [
             0.5555555555555556,
             "#d8576b"
            ],
            [
             0.6666666666666666,
             "#ed7953"
            ],
            [
             0.7777777777777778,
             "#fb9f3a"
            ],
            [
             0.8888888888888888,
             "#fdca26"
            ],
            [
             1,
             "#f0f921"
            ]
           ]
          },
          "colorway": [
           "#636efa",
           "#EF553B",
           "#00cc96",
           "#ab63fa",
           "#FFA15A",
           "#19d3f3",
           "#FF6692",
           "#B6E880",
           "#FF97FF",
           "#FECB52"
          ],
          "font": {
           "color": "#2a3f5f"
          },
          "geo": {
           "bgcolor": "white",
           "lakecolor": "white",
           "landcolor": "#E5ECF6",
           "showlakes": true,
           "showland": true,
           "subunitcolor": "white"
          },
          "hoverlabel": {
           "align": "left"
          },
          "hovermode": "closest",
          "mapbox": {
           "style": "light"
          },
          "paper_bgcolor": "white",
          "plot_bgcolor": "#E5ECF6",
          "polar": {
           "angularaxis": {
            "gridcolor": "white",
            "linecolor": "white",
            "ticks": ""
           },
           "bgcolor": "#E5ECF6",
           "radialaxis": {
            "gridcolor": "white",
            "linecolor": "white",
            "ticks": ""
           }
          },
          "scene": {
           "xaxis": {
            "backgroundcolor": "#E5ECF6",
            "gridcolor": "white",
            "gridwidth": 2,
            "linecolor": "white",
            "showbackground": true,
            "ticks": "",
            "zerolinecolor": "white"
           },
           "yaxis": {
            "backgroundcolor": "#E5ECF6",
            "gridcolor": "white",
            "gridwidth": 2,
            "linecolor": "white",
            "showbackground": true,
            "ticks": "",
            "zerolinecolor": "white"
           },
           "zaxis": {
            "backgroundcolor": "#E5ECF6",
            "gridcolor": "white",
            "gridwidth": 2,
            "linecolor": "white",
            "showbackground": true,
            "ticks": "",
            "zerolinecolor": "white"
           }
          },
          "shapedefaults": {
           "line": {
            "color": "#2a3f5f"
           }
          },
          "ternary": {
           "aaxis": {
            "gridcolor": "white",
            "linecolor": "white",
            "ticks": ""
           },
           "baxis": {
            "gridcolor": "white",
            "linecolor": "white",
            "ticks": ""
           },
           "bgcolor": "#E5ECF6",
           "caxis": {
            "gridcolor": "white",
            "linecolor": "white",
            "ticks": ""
           }
          },
          "title": {
           "x": 0.05
          },
          "xaxis": {
           "automargin": true,
           "gridcolor": "white",
           "linecolor": "white",
           "ticks": "",
           "title": {
            "standoff": 15
           },
           "zerolinecolor": "white",
           "zerolinewidth": 2
          },
          "yaxis": {
           "automargin": true,
           "gridcolor": "white",
           "linecolor": "white",
           "ticks": "",
           "title": {
            "standoff": 15
           },
           "zerolinecolor": "white",
           "zerolinewidth": 2
          }
         }
        },
        "title": {
         "text": "Distribución de la variable Deck según la variable objetivo"
        },
        "xaxis": {
         "title": {
          "text": "Deck"
         }
        },
        "yaxis": {
         "title": {
          "text": "Conteo"
         }
        }
       }
      }
     },
     "metadata": {},
     "output_type": "display_data"
    }
   ],
   "source": [
    "fig = go.Figure()\n",
    "\n",
    "colors = [\"tomato\", \"steelblue\"]\n",
    "label = [\"Did not survive\", \"Survived\"]\n",
    "\n",
    "for survived in range(2):\n",
    "\n",
    "    fig.add_trace(\n",
    "        go.Bar(\n",
    "            x = df.loc[df[\"Survived\"] == survived, \"Deck\"].value_counts().index,\n",
    "            y = df.loc[df[\"Survived\"] == survived, \"Deck\"].value_counts(),\n",
    "            marker = dict(\n",
    "                color = colors[survived]\n",
    "            ),\n",
    "            name = label[survived],\n",
    "            opacity=0.7\n",
    "        ),\n",
    "    )\n",
    "\n",
    "\n",
    "fig.update_layout(\n",
    "    title_text = \"Distribución de la variable Deck según la variable objetivo\",\n",
    "    xaxis_title = \"Deck\",\n",
    "    yaxis_title = \"Conteo\",\n",
    ")\n",
    "\n",
    "fig.show()"
   ]
  },
  {
   "cell_type": "markdown",
   "id": "9cbe0703",
   "metadata": {},
   "source": [
    "##### Explicación de la Supervivencia por Cubierta de Cabina\n",
    "\n",
    "**Variables categóricas identificadas:**\n",
    "- Name, Sex, Ticket, Cabin, Embarked\n",
    "\n",
    "**Distribución de supervivencia por cubierta:**\n",
    "\n",
    "**Categoría 'n' (sin cabina/desconocida):**\n",
    "- **Dominante:** Mayoría de pasajeros (~670 total)\n",
    "- **Supervivencia baja:** ~470 no sobrevivieron vs ~200 sobrevivieron\n",
    "- **Tasa de supervivencia:** ~30%\n",
    "\n",
    "**Cubiertas con información:**\n",
    "- **Cubiertas C, E, D, B, F:** Mayor proporción de sobrevivientes\n",
    "- **Cubierta G:** Ligeramente más no sobrevivientes\n",
    "- **Cubiertas A, T:** Muy pocos pasajeros\n",
    "\n",
    "**Implicaciones:**\n",
    "- La cubierta de cabina es un predictor importante de supervivencia\n",
    "- Pasajeros sin cabina asignada tienen menor probabilidad de supervivencia\n",
    "- Cubiertas superiores (A, B, C) muestran mejor tasa de supervivencia\n",
    "- Necesario limpiar valores 'n' (datos faltantes) antes del modelado"
   ]
  },
  {
   "cell_type": "markdown",
   "id": "756c2eb8",
   "metadata": {},
   "source": [
    "##### Relación con Survived"
   ]
  },
  {
   "cell_type": "code",
   "execution_count": 444,
   "id": "98584338",
   "metadata": {},
   "outputs": [
    {
     "data": {
      "application/vnd.plotly.v1+json": {
       "config": {
        "plotlyServerURL": "https://plot.ly"
       },
       "data": [
        {
         "marker": {
          "color": "tomato"
         },
         "name": "Did not survive",
         "opacity": 0.7,
         "type": "bar",
         "x": [
          "S",
          "C",
          "Q"
         ],
         "y": {
          "bdata": "qwFLAC8A",
          "dtype": "i2"
         }
        },
        {
         "marker": {
          "color": "steelblue"
         },
         "name": "Survived",
         "opacity": 0.7,
         "type": "bar",
         "x": [
          "S",
          "C",
          "Q"
         ],
         "y": {
          "bdata": "2QBdAB4A",
          "dtype": "i2"
         }
        }
       ],
       "layout": {
        "height": 600,
        "template": {
         "data": {
          "bar": [
           {
            "error_x": {
             "color": "#2a3f5f"
            },
            "error_y": {
             "color": "#2a3f5f"
            },
            "marker": {
             "line": {
              "color": "#E5ECF6",
              "width": 0.5
             },
             "pattern": {
              "fillmode": "overlay",
              "size": 10,
              "solidity": 0.2
             }
            },
            "type": "bar"
           }
          ],
          "barpolar": [
           {
            "marker": {
             "line": {
              "color": "#E5ECF6",
              "width": 0.5
             },
             "pattern": {
              "fillmode": "overlay",
              "size": 10,
              "solidity": 0.2
             }
            },
            "type": "barpolar"
           }
          ],
          "carpet": [
           {
            "aaxis": {
             "endlinecolor": "#2a3f5f",
             "gridcolor": "white",
             "linecolor": "white",
             "minorgridcolor": "white",
             "startlinecolor": "#2a3f5f"
            },
            "baxis": {
             "endlinecolor": "#2a3f5f",
             "gridcolor": "white",
             "linecolor": "white",
             "minorgridcolor": "white",
             "startlinecolor": "#2a3f5f"
            },
            "type": "carpet"
           }
          ],
          "choropleth": [
           {
            "colorbar": {
             "outlinewidth": 0,
             "ticks": ""
            },
            "type": "choropleth"
           }
          ],
          "contour": [
           {
            "colorbar": {
             "outlinewidth": 0,
             "ticks": ""
            },
            "colorscale": [
             [
              0,
              "#0d0887"
             ],
             [
              0.1111111111111111,
              "#46039f"
             ],
             [
              0.2222222222222222,
              "#7201a8"
             ],
             [
              0.3333333333333333,
              "#9c179e"
             ],
             [
              0.4444444444444444,
              "#bd3786"
             ],
             [
              0.5555555555555556,
              "#d8576b"
             ],
             [
              0.6666666666666666,
              "#ed7953"
             ],
             [
              0.7777777777777778,
              "#fb9f3a"
             ],
             [
              0.8888888888888888,
              "#fdca26"
             ],
             [
              1,
              "#f0f921"
             ]
            ],
            "type": "contour"
           }
          ],
          "contourcarpet": [
           {
            "colorbar": {
             "outlinewidth": 0,
             "ticks": ""
            },
            "type": "contourcarpet"
           }
          ],
          "heatmap": [
           {
            "colorbar": {
             "outlinewidth": 0,
             "ticks": ""
            },
            "colorscale": [
             [
              0,
              "#0d0887"
             ],
             [
              0.1111111111111111,
              "#46039f"
             ],
             [
              0.2222222222222222,
              "#7201a8"
             ],
             [
              0.3333333333333333,
              "#9c179e"
             ],
             [
              0.4444444444444444,
              "#bd3786"
             ],
             [
              0.5555555555555556,
              "#d8576b"
             ],
             [
              0.6666666666666666,
              "#ed7953"
             ],
             [
              0.7777777777777778,
              "#fb9f3a"
             ],
             [
              0.8888888888888888,
              "#fdca26"
             ],
             [
              1,
              "#f0f921"
             ]
            ],
            "type": "heatmap"
           }
          ],
          "histogram": [
           {
            "marker": {
             "pattern": {
              "fillmode": "overlay",
              "size": 10,
              "solidity": 0.2
             }
            },
            "type": "histogram"
           }
          ],
          "histogram2d": [
           {
            "colorbar": {
             "outlinewidth": 0,
             "ticks": ""
            },
            "colorscale": [
             [
              0,
              "#0d0887"
             ],
             [
              0.1111111111111111,
              "#46039f"
             ],
             [
              0.2222222222222222,
              "#7201a8"
             ],
             [
              0.3333333333333333,
              "#9c179e"
             ],
             [
              0.4444444444444444,
              "#bd3786"
             ],
             [
              0.5555555555555556,
              "#d8576b"
             ],
             [
              0.6666666666666666,
              "#ed7953"
             ],
             [
              0.7777777777777778,
              "#fb9f3a"
             ],
             [
              0.8888888888888888,
              "#fdca26"
             ],
             [
              1,
              "#f0f921"
             ]
            ],
            "type": "histogram2d"
           }
          ],
          "histogram2dcontour": [
           {
            "colorbar": {
             "outlinewidth": 0,
             "ticks": ""
            },
            "colorscale": [
             [
              0,
              "#0d0887"
             ],
             [
              0.1111111111111111,
              "#46039f"
             ],
             [
              0.2222222222222222,
              "#7201a8"
             ],
             [
              0.3333333333333333,
              "#9c179e"
             ],
             [
              0.4444444444444444,
              "#bd3786"
             ],
             [
              0.5555555555555556,
              "#d8576b"
             ],
             [
              0.6666666666666666,
              "#ed7953"
             ],
             [
              0.7777777777777778,
              "#fb9f3a"
             ],
             [
              0.8888888888888888,
              "#fdca26"
             ],
             [
              1,
              "#f0f921"
             ]
            ],
            "type": "histogram2dcontour"
           }
          ],
          "mesh3d": [
           {
            "colorbar": {
             "outlinewidth": 0,
             "ticks": ""
            },
            "type": "mesh3d"
           }
          ],
          "parcoords": [
           {
            "line": {
             "colorbar": {
              "outlinewidth": 0,
              "ticks": ""
             }
            },
            "type": "parcoords"
           }
          ],
          "pie": [
           {
            "automargin": true,
            "type": "pie"
           }
          ],
          "scatter": [
           {
            "fillpattern": {
             "fillmode": "overlay",
             "size": 10,
             "solidity": 0.2
            },
            "type": "scatter"
           }
          ],
          "scatter3d": [
           {
            "line": {
             "colorbar": {
              "outlinewidth": 0,
              "ticks": ""
             }
            },
            "marker": {
             "colorbar": {
              "outlinewidth": 0,
              "ticks": ""
             }
            },
            "type": "scatter3d"
           }
          ],
          "scattercarpet": [
           {
            "marker": {
             "colorbar": {
              "outlinewidth": 0,
              "ticks": ""
             }
            },
            "type": "scattercarpet"
           }
          ],
          "scattergeo": [
           {
            "marker": {
             "colorbar": {
              "outlinewidth": 0,
              "ticks": ""
             }
            },
            "type": "scattergeo"
           }
          ],
          "scattergl": [
           {
            "marker": {
             "colorbar": {
              "outlinewidth": 0,
              "ticks": ""
             }
            },
            "type": "scattergl"
           }
          ],
          "scattermap": [
           {
            "marker": {
             "colorbar": {
              "outlinewidth": 0,
              "ticks": ""
             }
            },
            "type": "scattermap"
           }
          ],
          "scattermapbox": [
           {
            "marker": {
             "colorbar": {
              "outlinewidth": 0,
              "ticks": ""
             }
            },
            "type": "scattermapbox"
           }
          ],
          "scatterpolar": [
           {
            "marker": {
             "colorbar": {
              "outlinewidth": 0,
              "ticks": ""
             }
            },
            "type": "scatterpolar"
           }
          ],
          "scatterpolargl": [
           {
            "marker": {
             "colorbar": {
              "outlinewidth": 0,
              "ticks": ""
             }
            },
            "type": "scatterpolargl"
           }
          ],
          "scatterternary": [
           {
            "marker": {
             "colorbar": {
              "outlinewidth": 0,
              "ticks": ""
             }
            },
            "type": "scatterternary"
           }
          ],
          "surface": [
           {
            "colorbar": {
             "outlinewidth": 0,
             "ticks": ""
            },
            "colorscale": [
             [
              0,
              "#0d0887"
             ],
             [
              0.1111111111111111,
              "#46039f"
             ],
             [
              0.2222222222222222,
              "#7201a8"
             ],
             [
              0.3333333333333333,
              "#9c179e"
             ],
             [
              0.4444444444444444,
              "#bd3786"
             ],
             [
              0.5555555555555556,
              "#d8576b"
             ],
             [
              0.6666666666666666,
              "#ed7953"
             ],
             [
              0.7777777777777778,
              "#fb9f3a"
             ],
             [
              0.8888888888888888,
              "#fdca26"
             ],
             [
              1,
              "#f0f921"
             ]
            ],
            "type": "surface"
           }
          ],
          "table": [
           {
            "cells": {
             "fill": {
              "color": "#EBF0F8"
             },
             "line": {
              "color": "white"
             }
            },
            "header": {
             "fill": {
              "color": "#C8D4E3"
             },
             "line": {
              "color": "white"
             }
            },
            "type": "table"
           }
          ]
         },
         "layout": {
          "annotationdefaults": {
           "arrowcolor": "#2a3f5f",
           "arrowhead": 0,
           "arrowwidth": 1
          },
          "autotypenumbers": "strict",
          "coloraxis": {
           "colorbar": {
            "outlinewidth": 0,
            "ticks": ""
           }
          },
          "colorscale": {
           "diverging": [
            [
             0,
             "#8e0152"
            ],
            [
             0.1,
             "#c51b7d"
            ],
            [
             0.2,
             "#de77ae"
            ],
            [
             0.3,
             "#f1b6da"
            ],
            [
             0.4,
             "#fde0ef"
            ],
            [
             0.5,
             "#f7f7f7"
            ],
            [
             0.6,
             "#e6f5d0"
            ],
            [
             0.7,
             "#b8e186"
            ],
            [
             0.8,
             "#7fbc41"
            ],
            [
             0.9,
             "#4d9221"
            ],
            [
             1,
             "#276419"
            ]
           ],
           "sequential": [
            [
             0,
             "#0d0887"
            ],
            [
             0.1111111111111111,
             "#46039f"
            ],
            [
             0.2222222222222222,
             "#7201a8"
            ],
            [
             0.3333333333333333,
             "#9c179e"
            ],
            [
             0.4444444444444444,
             "#bd3786"
            ],
            [
             0.5555555555555556,
             "#d8576b"
            ],
            [
             0.6666666666666666,
             "#ed7953"
            ],
            [
             0.7777777777777778,
             "#fb9f3a"
            ],
            [
             0.8888888888888888,
             "#fdca26"
            ],
            [
             1,
             "#f0f921"
            ]
           ],
           "sequentialminus": [
            [
             0,
             "#0d0887"
            ],
            [
             0.1111111111111111,
             "#46039f"
            ],
            [
             0.2222222222222222,
             "#7201a8"
            ],
            [
             0.3333333333333333,
             "#9c179e"
            ],
            [
             0.4444444444444444,
             "#bd3786"
            ],
            [
             0.5555555555555556,
             "#d8576b"
            ],
            [
             0.6666666666666666,
             "#ed7953"
            ],
            [
             0.7777777777777778,
             "#fb9f3a"
            ],
            [
             0.8888888888888888,
             "#fdca26"
            ],
            [
             1,
             "#f0f921"
            ]
           ]
          },
          "colorway": [
           "#636efa",
           "#EF553B",
           "#00cc96",
           "#ab63fa",
           "#FFA15A",
           "#19d3f3",
           "#FF6692",
           "#B6E880",
           "#FF97FF",
           "#FECB52"
          ],
          "font": {
           "color": "#2a3f5f"
          },
          "geo": {
           "bgcolor": "white",
           "lakecolor": "white",
           "landcolor": "#E5ECF6",
           "showlakes": true,
           "showland": true,
           "subunitcolor": "white"
          },
          "hoverlabel": {
           "align": "left"
          },
          "hovermode": "closest",
          "mapbox": {
           "style": "light"
          },
          "paper_bgcolor": "white",
          "plot_bgcolor": "#E5ECF6",
          "polar": {
           "angularaxis": {
            "gridcolor": "white",
            "linecolor": "white",
            "ticks": ""
           },
           "bgcolor": "#E5ECF6",
           "radialaxis": {
            "gridcolor": "white",
            "linecolor": "white",
            "ticks": ""
           }
          },
          "scene": {
           "xaxis": {
            "backgroundcolor": "#E5ECF6",
            "gridcolor": "white",
            "gridwidth": 2,
            "linecolor": "white",
            "showbackground": true,
            "ticks": "",
            "zerolinecolor": "white"
           },
           "yaxis": {
            "backgroundcolor": "#E5ECF6",
            "gridcolor": "white",
            "gridwidth": 2,
            "linecolor": "white",
            "showbackground": true,
            "ticks": "",
            "zerolinecolor": "white"
           },
           "zaxis": {
            "backgroundcolor": "#E5ECF6",
            "gridcolor": "white",
            "gridwidth": 2,
            "linecolor": "white",
            "showbackground": true,
            "ticks": "",
            "zerolinecolor": "white"
           }
          },
          "shapedefaults": {
           "line": {
            "color": "#2a3f5f"
           }
          },
          "ternary": {
           "aaxis": {
            "gridcolor": "white",
            "linecolor": "white",
            "ticks": ""
           },
           "baxis": {
            "gridcolor": "white",
            "linecolor": "white",
            "ticks": ""
           },
           "bgcolor": "#E5ECF6",
           "caxis": {
            "gridcolor": "white",
            "linecolor": "white",
            "ticks": ""
           }
          },
          "title": {
           "x": 0.05
          },
          "xaxis": {
           "automargin": true,
           "gridcolor": "white",
           "linecolor": "white",
           "ticks": "",
           "title": {
            "standoff": 15
           },
           "zerolinecolor": "white",
           "zerolinewidth": 2
          },
          "yaxis": {
           "automargin": true,
           "gridcolor": "white",
           "linecolor": "white",
           "ticks": "",
           "title": {
            "standoff": 15
           },
           "zerolinecolor": "white",
           "zerolinewidth": 2
          }
         }
        },
        "title": {
         "text": "Distribución de la variable Embarked según la variable objetivo"
        },
        "width": 800,
        "xaxis": {
         "title": {
          "text": "Embarked"
         }
        },
        "yaxis": {
         "title": {
          "text": "Conteo"
         }
        }
       }
      }
     },
     "metadata": {},
     "output_type": "display_data"
    }
   ],
   "source": [
    "fig = go.Figure()\n",
    "\n",
    "for survived in range(2):\n",
    "    fig.add_trace(\n",
    "        go.Bar(\n",
    "            x = df.loc[df[\"Survived\"] == survived, \"Embarked\"].value_counts().index,\n",
    "            y = df.loc[df[\"Survived\"] == survived, \"Embarked\"].value_counts(),\n",
    "            marker = dict(\n",
    "                color = colors[survived]\n",
    "            ),\n",
    "            name = label[survived],\n",
    "            opacity= 0.7\n",
    "        )\n",
    "    )\n",
    "\n",
    "fig.update_layout(\n",
    "    title_text = \"Distribución de la variable Embarked según la variable objetivo\",\n",
    "    xaxis_title = \"Embarked\",\n",
    "    yaxis_title = \"Conteo\",\n",
    "    height = 600,\n",
    "    width = 800\n",
    ")"
   ]
  },
  {
   "cell_type": "markdown",
   "id": "09965910",
   "metadata": {},
   "source": [
    "##### Explicación de la Supervivencia por Sexo y Puerto de Embarque\n",
    "\n",
    "**Supervivencia por Sexo:**\n",
    "- **Hombres:** ~450 no sobrevivieron vs ~100 sobrevivieron\n",
    "- **Mujeres:** ~75 no sobrevivieron vs ~230 sobrevivieron\n",
    "- **Conclusión:** Las mujeres tuvieron una tasa de supervivencia mucho mayor\n",
    "\n",
    "**Supervivencia por Puerto de Embarque:**\n",
    "- **Puerto S (Southampton):** Mayoría de pasajeros, baja tasa de supervivencia\n",
    "- **Puerto C (Cherbourg):** Proporción equilibrada, mejor tasa de supervivencia\n",
    "- **Puerto Q (Queenstown):** Menos pasajeros, tasa de supervivencia intermedia\n",
    "\n",
    "**Implicaciones para el modelo:**\n",
    "- **Sex:** Variable muy importante para predecir supervivencia\n",
    "- **Embarked:** Variable moderadamente importante\n",
    "- **Patrón:** Pasajeros de clases sociales más altas (Cherbourg) tuvieron mejor supervivencia\n",
    "- **Estrategia:** \"Mujeres y niños primero\" se refleja claramente en los datos"
   ]
  },
  {
   "cell_type": "markdown",
   "id": "15a77744",
   "metadata": {},
   "source": [
    "##### Análisis de Variables Numéricas"
   ]
  },
  {
   "cell_type": "code",
   "execution_count": 445,
   "id": "c158f552",
   "metadata": {},
   "outputs": [
    {
     "data": {
      "application/vnd.plotly.v1+json": {
       "config": {
        "plotlyServerURL": "https://plot.ly"
       },
       "data": [
        {
         "marker": {
          "color": "steelblue"
         },
         "name": "Pclass",
         "showlegend": false,
         "type": "box",
         "xaxis": "x",
         "y": {
          "bdata": "AwEDAQMDAQMDAgMBAwMDAgMCAwMCAgMBAwMDAQMDAQEDAgEBAwMDAwMCAwIDAwMDAwMDAwECAQECAwIDAwEBAwEDAgMDAwIDAgMDAwMDAgMDAwMBAgMDAwEDAwMBAwMDAQECAgMDAQMDAwMDAwMBAwMDAwMDAgEDAgMCAgEDAwMDAwMDAwICAgEBAwEDAwMDAgIDAwICAgEDAwMBAwMDAwMCAwMDAwEDAQMBAwMDAQMDAQIDAwIDAgMBAwEDAwICAwIBAQMDAwIDAwMDAwMDAwMBAwIDAgMBAwIBAgMCAwMBAwIDAgMBAwIDAgMCAgICAwMCAwMBAwIBAgMDAQMDAwEBAQIDAwEBAwIDAwEBAQMCAQMBAwIDAwMDAwMBAwMDAgMBAQIDAwEDAQEBAwMDAgMBAQECAQEBAgMCAwICAQEDAwICAwEDAgMBAwEBAwEDAQEDAQIBAgICAgIDAwMDAQMDAwMBAgMDAwIDAwMDAQMDAQEDAwEDAQMBAwMBAwMBAwIDAgMCAQMDAQMDAwICAgMDAwMDAgMCAwMDAwECAwMCAgIDAwMDAwMDAgIDAwEDAgMBAQMCAQICAwMCAwECAQMBAgMBAQMDAQECAwEDAQIDAwIBAwMDAwICAwECAwMDAwIDAwEDAQEDAwMDAQEDAwEDAQMDAwMDAQECAQMDAwMBAQMBAgMCAwEDAwEDAwIBAwICAwMDAwIBAQMBAQMDAgEBAgIDAgECAwMDAQEBAQMDAwIDAwMDAwMDAgEBAwMDAgEDAwIBAgEDAQIBAwMDAQMDAgMCAwMBAgMBAwEDAwECAQMDAwMDAgMDAgIDAQMDAwECAQMDAQMBAQMCAwIDAwMBAwMDAQMBAwMDAgMDAwIDAwIBAQMBAwMCAgMDAQIBAgICAwMDAwEDAQMDAgIDAwMBAQMDAwECAwMBAwEBAwMDAgIBAQMBAQEDAgMBAgMDAgMCAgEDAgMCAwEDAgICAwMBAwMBAQEDAwEDAgEDAgMDAwICAwIDAQMDAwEDAQEDAwMDAwIDAgMDAwMBAwEBAwMDAwMDAQMCAwEDAgEDAwMCAgEDAwMBAwIBAwMCAwMBAwIDAwEDAQMDAwMCAwEDAgMDAwEDAwMBAwIBAwMDAwMCAQMDAwECAwEBAwMDAgEDAgICAQMDAwEBAwIDAwMDAQIDAwIDAwIBAwED",
          "dtype": "i1"
         },
         "yaxis": "y"
        },
        {
         "marker": {
          "color": "steelblue"
         },
         "name": "Age",
         "showlegend": false,
         "type": "box",
         "xaxis": "x2",
         "y": {
          "bdata": "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",
          "dtype": "f8"
         },
         "yaxis": "y2"
        },
        {
         "marker": {
          "color": "steelblue"
         },
         "name": "SibSp",
         "showlegend": false,
         "type": "box",
         "xaxis": "x3",
         "y": {
          "bdata": "AQEAAQAAAAMAAQEAAAEAAAQAAQAAAAAAAwEAAwAAAAEAAAEBAAACAQEBAAEAAAEAAgEEAAEBAAAAAAEFAAABAwABAAAEAgAFAAEAAAAAAAAAAAAAAAMBAAMAAAABAQAAAAAAAQAAAAACAAAAAAEAAQABAAAAAQAEAgABAAABAAABAAAAAQEAAAABAAAAAAEAAAEAAgAAAAEAAAAAAAAACAAAAAAEAAABAAAABAEAAAEDAAAACAAEAgAAAQABAAAAAQEAAAAAAAAACAAAAAABAAAAAAAAAAEBAAEAAAAAAAABAAAAAAMBAAAEAAABAAAAAQEAAAACAAABAQABAAEAAAAAAAAABAEAAAAEAQAAAAAAAAABAAAEAQAAAAAAAAAAAAAAAQAAAAAAAQAAAAIAAAABAAEBAAACAQABAAEAAAEAAAABCAAAAAEAAgAAAgEAAQAAAAEDAAAAAAABAQAAAAEBAAAAAAAAAQEAAAEAAQAAAAEBAAADAQAAAAAAAAABAAAFAAAAAQACAQAAAAAAAAAAAQEAAQABAAMAAAEAAAABAAAAAAAAAQEAAQAAAAABAQABAQICAQABAAEAAAAAAAIAAQEAAQAAAAEAAAAAAAAAAAAAAAIAAAEAAAABAQAABQAAAAEDAQAAAQEAAAAAAAEAAQAAAAAAAAEAAAAAAAAAAQAAAAABAAAAAAAAAAAAAAIBAAEAAAAAAAAAAAQEAQEAAQABAQAAAAAAAAEAAQEAAAAAAAIAAAAAAAIAAAAAAAEBAAEBAAAAAAABAAAAAQAAAQEAAAABAgAAAAABAAABAAEAAQAAAQEBAgABAQEAAAAAAAAAAAAAAAMAAAEAAQAAAwACAQAAAAAAAAAAAAIAAQAAAgAAAAECAAAAAQEBAAAAAAAAAQAAAAAFAQEEAAAAAQAAAAAAAAABAAEAAAABAAAAAAEAAAEAAAAAAAAAAAEAAAEAAwABAQAAAAAAAAEAAAAAAQIBAAEBAAEAAQAAAAEBAAAAAAAAAAEAAQAAAQAAAAAAAQAAAAAAAAEAAQAAAAQBAAAACAAAAAAAAAEAAQEAAAAAAAABAAAABAAAAAEAAwEAAAAEAAAAAAABAQAAAAEAAAAAAAAAAAAACAAAAQQAAQABAAEAAAACAQAIAAABAAABAAEAAAEAAAAAAAAAAAAAAAAAAQAA",
          "dtype": "i1"
         },
         "yaxis": "y3"
        },
        {
         "marker": {
          "color": "steelblue"
         },
         "name": "Parch",
         "showlegend": false,
         "type": "box",
         "xaxis": "x4",
         "y": {
          "bdata": "AAAAAAAAAAECAAEAAAUAAAEAAAAAAAAAAQUAAgAAAAAAAAAAAAAAAAAAAAIAAAAAAAABAAAAAQAAAAICAAAAAgABAAACAAACAAAAAAAAAgAAAAAAAAADAAIAAAAAAgAAAAEBAAAAAQAAAAAAAAAAAAAAAAAAAAECAAAAAAEAAAABAAAAAAAAAAIAAAACAAAAAAEAAgIAAAAAAgABAAAAAgEAAAABAgEEAAAAAQEAAAEBAAAAAgACAQIAAAABAAAAAAEAAAABAAAAAgAAAAEAAAAAAAAAAAAAAAAAAAAAAAAAAAAAAAEAAAACAAAAAgAAAAAAAAAAAAIBAAABAAACAgAAAAEAAgEAAAABAAEAAAABAQAAAAABAQAAAAAAAAAAAAAAAAAAAAAAAgABAAAAAAACAAAAAAACAQABAAAAAgEAAAABAgAAAAEBAAABAAAAAAAAAAECAAAAAAAAAQAAAAEAAAABAAAABAABAAAAAAAAAAAAAAABAAACAAAAAgAAAAACAAAAAgAAAAIAAAAAAAAAAAAAAAABAAEAAAAAAAABAgACAAAAAQEAAAAAAAAAAAAAAgIDBAABAAAAAAIBAAEAAgAAAAAAAAAAAAAAAAAAAAAAAAEAAAIAAAAAAAABAgAAAAABAAAAAQAAAAAAAAAAAgAAAAAAAAACAAAAAAAAAAAAAAAAAAAAAAEAAAAAAAEBAAECAAIAAAACAgICAAAAAAABAQIAAAAAAAAAAQAAAAAAAAAABAAAAAAAAAAAAAAAAAEBAAAAAgABAAAAAAACAAEAAAAAAQAAAAAAAAACAAUAAAAAAgEAAQAAAAEAAAAAAAAAAAAAAAIAAAEFAAAAAgABAAAAAAAAAQAAAAAAAQACAAAAAAAAAAAAAAEAAAAAAAAABgEAAAACAQIBAAABAAEAAAAAAAABAAAAAQAAAAAAAAEAAAAAAAAAAAAAAQAAAAAAAAAAAAAAAAAAAAMAAAAAAAIAAAEBAAAAAQEAAAIBAAAAAAAAAAIAAAAAAAAAAAAAAwAAAAABAAAAAgAAAAECAAAAAgAAAAAAAAEAAQIBAAAAAAAAAAAAAgAAAAEAAgEAAAEBAAACAAAAAQAAAAEAAAAAAAAAAAAAAgABAAIAAQEAAQEAAwAAAAACAAAAAAABAAEAAAAAAAAAAQEAAAAABQAAAgAA",
          "dtype": "i1"
         },
         "yaxis": "y4"
        },
        {
         "marker": {
          "color": "steelblue"
         },
         "name": "Fare",
         "showlegend": false,
         "type": "box",
         "xaxis": "x5",
         "y": {
          "bdata": "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",
          "dtype": "f8"
         },
         "yaxis": "y5"
        }
       ],
       "layout": {
        "height": 800,
        "template": {
         "data": {
          "bar": [
           {
            "error_x": {
             "color": "#2a3f5f"
            },
            "error_y": {
             "color": "#2a3f5f"
            },
            "marker": {
             "line": {
              "color": "#E5ECF6",
              "width": 0.5
             },
             "pattern": {
              "fillmode": "overlay",
              "size": 10,
              "solidity": 0.2
             }
            },
            "type": "bar"
           }
          ],
          "barpolar": [
           {
            "marker": {
             "line": {
              "color": "#E5ECF6",
              "width": 0.5
             },
             "pattern": {
              "fillmode": "overlay",
              "size": 10,
              "solidity": 0.2
             }
            },
            "type": "barpolar"
           }
          ],
          "carpet": [
           {
            "aaxis": {
             "endlinecolor": "#2a3f5f",
             "gridcolor": "white",
             "linecolor": "white",
             "minorgridcolor": "white",
             "startlinecolor": "#2a3f5f"
            },
            "baxis": {
             "endlinecolor": "#2a3f5f",
             "gridcolor": "white",
             "linecolor": "white",
             "minorgridcolor": "white",
             "startlinecolor": "#2a3f5f"
            },
            "type": "carpet"
           }
          ],
          "choropleth": [
           {
            "colorbar": {
             "outlinewidth": 0,
             "ticks": ""
            },
            "type": "choropleth"
           }
          ],
          "contour": [
           {
            "colorbar": {
             "outlinewidth": 0,
             "ticks": ""
            },
            "colorscale": [
             [
              0,
              "#0d0887"
             ],
             [
              0.1111111111111111,
              "#46039f"
             ],
             [
              0.2222222222222222,
              "#7201a8"
             ],
             [
              0.3333333333333333,
              "#9c179e"
             ],
             [
              0.4444444444444444,
              "#bd3786"
             ],
             [
              0.5555555555555556,
              "#d8576b"
             ],
             [
              0.6666666666666666,
              "#ed7953"
             ],
             [
              0.7777777777777778,
              "#fb9f3a"
             ],
             [
              0.8888888888888888,
              "#fdca26"
             ],
             [
              1,
              "#f0f921"
             ]
            ],
            "type": "contour"
           }
          ],
          "contourcarpet": [
           {
            "colorbar": {
             "outlinewidth": 0,
             "ticks": ""
            },
            "type": "contourcarpet"
           }
          ],
          "heatmap": [
           {
            "colorbar": {
             "outlinewidth": 0,
             "ticks": ""
            },
            "colorscale": [
             [
              0,
              "#0d0887"
             ],
             [
              0.1111111111111111,
              "#46039f"
             ],
             [
              0.2222222222222222,
              "#7201a8"
             ],
             [
              0.3333333333333333,
              "#9c179e"
             ],
             [
              0.4444444444444444,
              "#bd3786"
             ],
             [
              0.5555555555555556,
              "#d8576b"
             ],
             [
              0.6666666666666666,
              "#ed7953"
             ],
             [
              0.7777777777777778,
              "#fb9f3a"
             ],
             [
              0.8888888888888888,
              "#fdca26"
             ],
             [
              1,
              "#f0f921"
             ]
            ],
            "type": "heatmap"
           }
          ],
          "histogram": [
           {
            "marker": {
             "pattern": {
              "fillmode": "overlay",
              "size": 10,
              "solidity": 0.2
             }
            },
            "type": "histogram"
           }
          ],
          "histogram2d": [
           {
            "colorbar": {
             "outlinewidth": 0,
             "ticks": ""
            },
            "colorscale": [
             [
              0,
              "#0d0887"
             ],
             [
              0.1111111111111111,
              "#46039f"
             ],
             [
              0.2222222222222222,
              "#7201a8"
             ],
             [
              0.3333333333333333,
              "#9c179e"
             ],
             [
              0.4444444444444444,
              "#bd3786"
             ],
             [
              0.5555555555555556,
              "#d8576b"
             ],
             [
              0.6666666666666666,
              "#ed7953"
             ],
             [
              0.7777777777777778,
              "#fb9f3a"
             ],
             [
              0.8888888888888888,
              "#fdca26"
             ],
             [
              1,
              "#f0f921"
             ]
            ],
            "type": "histogram2d"
           }
          ],
          "histogram2dcontour": [
           {
            "colorbar": {
             "outlinewidth": 0,
             "ticks": ""
            },
            "colorscale": [
             [
              0,
              "#0d0887"
             ],
             [
              0.1111111111111111,
              "#46039f"
             ],
             [
              0.2222222222222222,
              "#7201a8"
             ],
             [
              0.3333333333333333,
              "#9c179e"
             ],
             [
              0.4444444444444444,
              "#bd3786"
             ],
             [
              0.5555555555555556,
              "#d8576b"
             ],
             [
              0.6666666666666666,
              "#ed7953"
             ],
             [
              0.7777777777777778,
              "#fb9f3a"
             ],
             [
              0.8888888888888888,
              "#fdca26"
             ],
             [
              1,
              "#f0f921"
             ]
            ],
            "type": "histogram2dcontour"
           }
          ],
          "mesh3d": [
           {
            "colorbar": {
             "outlinewidth": 0,
             "ticks": ""
            },
            "type": "mesh3d"
           }
          ],
          "parcoords": [
           {
            "line": {
             "colorbar": {
              "outlinewidth": 0,
              "ticks": ""
             }
            },
            "type": "parcoords"
           }
          ],
          "pie": [
           {
            "automargin": true,
            "type": "pie"
           }
          ],
          "scatter": [
           {
            "fillpattern": {
             "fillmode": "overlay",
             "size": 10,
             "solidity": 0.2
            },
            "type": "scatter"
           }
          ],
          "scatter3d": [
           {
            "line": {
             "colorbar": {
              "outlinewidth": 0,
              "ticks": ""
             }
            },
            "marker": {
             "colorbar": {
              "outlinewidth": 0,
              "ticks": ""
             }
            },
            "type": "scatter3d"
           }
          ],
          "scattercarpet": [
           {
            "marker": {
             "colorbar": {
              "outlinewidth": 0,
              "ticks": ""
             }
            },
            "type": "scattercarpet"
           }
          ],
          "scattergeo": [
           {
            "marker": {
             "colorbar": {
              "outlinewidth": 0,
              "ticks": ""
             }
            },
            "type": "scattergeo"
           }
          ],
          "scattergl": [
           {
            "marker": {
             "colorbar": {
              "outlinewidth": 0,
              "ticks": ""
             }
            },
            "type": "scattergl"
           }
          ],
          "scattermap": [
           {
            "marker": {
             "colorbar": {
              "outlinewidth": 0,
              "ticks": ""
             }
            },
            "type": "scattermap"
           }
          ],
          "scattermapbox": [
           {
            "marker": {
             "colorbar": {
              "outlinewidth": 0,
              "ticks": ""
             }
            },
            "type": "scattermapbox"
           }
          ],
          "scatterpolar": [
           {
            "marker": {
             "colorbar": {
              "outlinewidth": 0,
              "ticks": ""
             }
            },
            "type": "scatterpolar"
           }
          ],
          "scatterpolargl": [
           {
            "marker": {
             "colorbar": {
              "outlinewidth": 0,
              "ticks": ""
             }
            },
            "type": "scatterpolargl"
           }
          ],
          "scatterternary": [
           {
            "marker": {
             "colorbar": {
              "outlinewidth": 0,
              "ticks": ""
             }
            },
            "type": "scatterternary"
           }
          ],
          "surface": [
           {
            "colorbar": {
             "outlinewidth": 0,
             "ticks": ""
            },
            "colorscale": [
             [
              0,
              "#0d0887"
             ],
             [
              0.1111111111111111,
              "#46039f"
             ],
             [
              0.2222222222222222,
              "#7201a8"
             ],
             [
              0.3333333333333333,
              "#9c179e"
             ],
             [
              0.4444444444444444,
              "#bd3786"
             ],
             [
              0.5555555555555556,
              "#d8576b"
             ],
             [
              0.6666666666666666,
              "#ed7953"
             ],
             [
              0.7777777777777778,
              "#fb9f3a"
             ],
             [
              0.8888888888888888,
              "#fdca26"
             ],
             [
              1,
              "#f0f921"
             ]
            ],
            "type": "surface"
           }
          ],
          "table": [
           {
            "cells": {
             "fill": {
              "color": "#EBF0F8"
             },
             "line": {
              "color": "white"
             }
            },
            "header": {
             "fill": {
              "color": "#C8D4E3"
             },
             "line": {
              "color": "white"
             }
            },
            "type": "table"
           }
          ]
         },
         "layout": {
          "annotationdefaults": {
           "arrowcolor": "#2a3f5f",
           "arrowhead": 0,
           "arrowwidth": 1
          },
          "autotypenumbers": "strict",
          "coloraxis": {
           "colorbar": {
            "outlinewidth": 0,
            "ticks": ""
           }
          },
          "colorscale": {
           "diverging": [
            [
             0,
             "#8e0152"
            ],
            [
             0.1,
             "#c51b7d"
            ],
            [
             0.2,
             "#de77ae"
            ],
            [
             0.3,
             "#f1b6da"
            ],
            [
             0.4,
             "#fde0ef"
            ],
            [
             0.5,
             "#f7f7f7"
            ],
            [
             0.6,
             "#e6f5d0"
            ],
            [
             0.7,
             "#b8e186"
            ],
            [
             0.8,
             "#7fbc41"
            ],
            [
             0.9,
             "#4d9221"
            ],
            [
             1,
             "#276419"
            ]
           ],
           "sequential": [
            [
             0,
             "#0d0887"
            ],
            [
             0.1111111111111111,
             "#46039f"
            ],
            [
             0.2222222222222222,
             "#7201a8"
            ],
            [
             0.3333333333333333,
             "#9c179e"
            ],
            [
             0.4444444444444444,
             "#bd3786"
            ],
            [
             0.5555555555555556,
             "#d8576b"
            ],
            [
             0.6666666666666666,
             "#ed7953"
            ],
            [
             0.7777777777777778,
             "#fb9f3a"
            ],
            [
             0.8888888888888888,
             "#fdca26"
            ],
            [
             1,
             "#f0f921"
            ]
           ],
           "sequentialminus": [
            [
             0,
             "#0d0887"
            ],
            [
             0.1111111111111111,
             "#46039f"
            ],
            [
             0.2222222222222222,
             "#7201a8"
            ],
            [
             0.3333333333333333,
             "#9c179e"
            ],
            [
             0.4444444444444444,
             "#bd3786"
            ],
            [
             0.5555555555555556,
             "#d8576b"
            ],
            [
             0.6666666666666666,
             "#ed7953"
            ],
            [
             0.7777777777777778,
             "#fb9f3a"
            ],
            [
             0.8888888888888888,
             "#fdca26"
            ],
            [
             1,
             "#f0f921"
            ]
           ]
          },
          "colorway": [
           "#636efa",
           "#EF553B",
           "#00cc96",
           "#ab63fa",
           "#FFA15A",
           "#19d3f3",
           "#FF6692",
           "#B6E880",
           "#FF97FF",
           "#FECB52"
          ],
          "font": {
           "color": "#2a3f5f"
          },
          "geo": {
           "bgcolor": "white",
           "lakecolor": "white",
           "landcolor": "#E5ECF6",
           "showlakes": true,
           "showland": true,
           "subunitcolor": "white"
          },
          "hoverlabel": {
           "align": "left"
          },
          "hovermode": "closest",
          "mapbox": {
           "style": "light"
          },
          "paper_bgcolor": "white",
          "plot_bgcolor": "#E5ECF6",
          "polar": {
           "angularaxis": {
            "gridcolor": "white",
            "linecolor": "white",
            "ticks": ""
           },
           "bgcolor": "#E5ECF6",
           "radialaxis": {
            "gridcolor": "white",
            "linecolor": "white",
            "ticks": ""
           }
          },
          "scene": {
           "xaxis": {
            "backgroundcolor": "#E5ECF6",
            "gridcolor": "white",
            "gridwidth": 2,
            "linecolor": "white",
            "showbackground": true,
            "ticks": "",
            "zerolinecolor": "white"
           },
           "yaxis": {
            "backgroundcolor": "#E5ECF6",
            "gridcolor": "white",
            "gridwidth": 2,
            "linecolor": "white",
            "showbackground": true,
            "ticks": "",
            "zerolinecolor": "white"
           },
           "zaxis": {
            "backgroundcolor": "#E5ECF6",
            "gridcolor": "white",
            "gridwidth": 2,
            "linecolor": "white",
            "showbackground": true,
            "ticks": "",
            "zerolinecolor": "white"
           }
          },
          "shapedefaults": {
           "line": {
            "color": "#2a3f5f"
           }
          },
          "ternary": {
           "aaxis": {
            "gridcolor": "white",
            "linecolor": "white",
            "ticks": ""
           },
           "baxis": {
            "gridcolor": "white",
            "linecolor": "white",
            "ticks": ""
           },
           "bgcolor": "#E5ECF6",
           "caxis": {
            "gridcolor": "white",
            "linecolor": "white",
            "ticks": ""
           }
          },
          "title": {
           "x": 0.05
          },
          "xaxis": {
           "automargin": true,
           "gridcolor": "white",
           "linecolor": "white",
           "ticks": "",
           "title": {
            "standoff": 15
           },
           "zerolinecolor": "white",
           "zerolinewidth": 2
          },
          "yaxis": {
           "automargin": true,
           "gridcolor": "white",
           "linecolor": "white",
           "ticks": "",
           "title": {
            "standoff": 15
           },
           "zerolinecolor": "white",
           "zerolinewidth": 2
          }
         }
        },
        "title": {
         "text": "Boxplot de las variables numéricas"
        },
        "width": 900,
        "xaxis": {
         "anchor": "y",
         "domain": [
          0,
          0.2888888888888889
         ]
        },
        "xaxis2": {
         "anchor": "y2",
         "domain": [
          0.35555555555555557,
          0.6444444444444445
         ]
        },
        "xaxis3": {
         "anchor": "y3",
         "domain": [
          0.7111111111111111,
          1
         ]
        },
        "xaxis4": {
         "anchor": "y4",
         "domain": [
          0,
          0.2888888888888889
         ]
        },
        "xaxis5": {
         "anchor": "y5",
         "domain": [
          0.35555555555555557,
          0.6444444444444445
         ]
        },
        "xaxis6": {
         "anchor": "y6",
         "domain": [
          0.7111111111111111,
          1
         ]
        },
        "yaxis": {
         "anchor": "x",
         "domain": [
          0.575,
          1
         ]
        },
        "yaxis2": {
         "anchor": "x2",
         "domain": [
          0.575,
          1
         ]
        },
        "yaxis3": {
         "anchor": "x3",
         "domain": [
          0.575,
          1
         ]
        },
        "yaxis4": {
         "anchor": "x4",
         "domain": [
          0,
          0.425
         ]
        },
        "yaxis5": {
         "anchor": "x5",
         "domain": [
          0,
          0.425
         ]
        },
        "yaxis6": {
         "anchor": "x6",
         "domain": [
          0,
          0.425
         ]
        }
       }
      }
     },
     "metadata": {},
     "output_type": "display_data"
    }
   ],
   "source": [
    "fig = make_subplots(rows = 2, cols = 3)\n",
    "\n",
    "for index, feature in enumerate(numeric_columns):\n",
    "    fig.add_trace(\n",
    "        go.Box(\n",
    "            y = df[feature],\n",
    "            marker = dict(\n",
    "                color = \"steelblue\"\n",
    "            ),\n",
    "            showlegend = False,\n",
    "            name  = feature\n",
    "        ),\n",
    "        row = index // 3 + 1,\n",
    "        col = index  % 3 + 1\n",
    "    )\n",
    "\n",
    "fig.update_layout(\n",
    "    title_text = \"Boxplot de las variables numéricas\",\n",
    "    height = 800,\n",
    "    width = 900\n",
    ")\n",
    "\n",
    "fig.show()"
   ]
  },
  {
   "cell_type": "markdown",
   "id": "779a98c6",
   "metadata": {},
   "source": [
    "##### Explicación de los Boxplots de Variables Numéricas\n",
    "\n",
    "**Age (Edad):**\n",
    "- **Mediana:** ~28-29 años\n",
    "- **IQR:** Mayoría entre 20-38 años\n",
    "- **Distribución:** Ligeramente sesgada a la derecha\n",
    "- **Outliers:** Algunos valores altos (65+ años)\n",
    "\n",
    "**Fare (Tarifa):**\n",
    "- **Mediana:** ~14-15 (muy baja)\n",
    "- **IQR:** Mayoría entre 7-30\n",
    "- **Distribución:** Fuertemente sesgada a la derecha\n",
    "- **Outliers:** Muchos valores altos (hasta 500+)\n",
    "\n",
    "**SibSp (Hermanos/cónyuges):**\n",
    "- **Mediana:** 0\n",
    "- **IQR:** Mayoría entre 0-1\n",
    "- **Distribución:** Muy concentrada en valores bajos\n",
    "- **Outliers:** Pocos valores altos (2-8)\n",
    "\n",
    "**Parch (Padres/hijos):**\n",
    "- **Mediana:** 0\n",
    "- **IQR:** Mayoría entre 0-1\n",
    "- **Distribución:** Similar a SibSp\n",
    "- **Outliers:** Pocos valores altos (2-6)\n",
    "\n",
    "**Conclusión:**\n",
    "- Fare requiere normalización por su fuerte asimetría\n",
    "- Age puede beneficiarse de estandarización\n",
    "- SibSp y Parch son variables discretas con muchos ceros\n",
    "- No hay variables que causen \"ruido\" excesivo para el modelado"
   ]
  },
  {
   "cell_type": "markdown",
   "id": "17ecb462",
   "metadata": {},
   "source": [
    "#### ANÁLISIS DE DATOS FALTANTES"
   ]
  },
  {
   "cell_type": "code",
   "execution_count": 446,
   "id": "a4991bb0",
   "metadata": {},
   "outputs": [
    {
     "data": {
      "application/vnd.plotly.v1+json": {
       "config": {
        "plotlyServerURL": "https://plot.ly"
       },
       "data": [
        {
         "colorbar": {
          "title": {
           "text": "Faltante (1 = Sí, 0 = No)"
          }
         },
         "colorscale": [
          [
           0,
           "rgb(255,245,235)"
          ],
          [
           0.125,
           "rgb(254,230,206)"
          ],
          [
           0.25,
           "rgb(253,208,162)"
          ],
          [
           0.375,
           "rgb(253,174,107)"
          ],
          [
           0.5,
           "rgb(253,141,60)"
          ],
          [
           0.625,
           "rgb(241,105,19)"
          ],
          [
           0.75,
           "rgb(217,72,1)"
          ],
          [
           0.875,
           "rgb(166,54,3)"
          ],
          [
           1,
           "rgb(127,39,4)"
          ]
         ],
         "type": "heatmap",
         "x": [
          "PassengerId",
          "Survived",
          "Pclass",
          "Name",
          "Sex",
          "Age",
          "SibSp",
          "Parch",
          "Ticket",
          "Fare",
          "Cabin",
          "Embarked",
          "Deck"
         ],
         "y": {
          "bdata": "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",
          "dtype": "i2"
         },
         "z": {
          "bdata": "AAAAAAAAAAAAAAEAAAAAAAAAAAAAAAAAAAAAAAAAAAAAAAAAAQAAAAAAAAAAAAAAAAAAAAAAAAAAAAAAAAABAAAAAAAAAAEAAAAAAQAAAAAAAAAAAAAAAAAAAAAAAAAAAAAAAAABAAAAAAAAAAAAAAAAAQAAAAAAAAAAAAAAAAEAAAAAAAAAAAAAAAAAAAAAAAAAAAAAAAAAAAAAAAAAAAAAAAAAAAEAAAAAAAAAAAAAAAABAAAAAAAAAAAAAAAAAQAAAAAAAAAAAAAAAAEAAAAAAAAAAAAAAAABAAAAAAAAAAEAAAAAAQAAAAAAAAAAAAAAAAEAAAAAAAAAAQAAAAABAAAAAAAAAAAAAAAAAQAAAAAAAAAAAAAAAAAAAAAAAAAAAAAAAAABAAAAAAAAAAAAAAAAAAAAAAAAAAAAAAAAAAEAAAAAAAAAAAAAAAABAAAAAAAAAAEAAAAAAQAAAAAAAAAAAAAAAAAAAAAAAAAAAQAAAAABAAAAAAAAAAEAAAAAAQAAAAAAAAAAAAAAAAEAAAAAAAAAAQAAAAAAAAAAAAAAAAEAAAAAAQAAAAAAAAAAAAAAAAEAAAAAAAAAAAAAAAABAAAAAAAAAAAAAAAAAQAAAAAAAAABAAAAAAEAAAAAAAAAAAAAAAABAAAAAAAAAAAAAAAAAQAAAAAAAAAAAAAAAAEAAAAAAAAAAAAAAAABAAAAAAAAAAAAAAAAAQAAAAAAAAABAAAAAAEAAAAAAAAAAAAAAAABAAAAAAAAAAAAAAAAAQAAAAAAAAABAAAAAAEAAAAAAAAAAQAAAAABAAAAAAAAAAEAAAAAAQAAAAAAAAABAAAAAAEAAAAAAAAAAAAAAAABAAAAAAAAAAAAAAAAAQAAAAAAAAAAAAAAAAEAAAAAAAAAAAAAAAAAAAAAAAAAAAAAAAAAAQAAAAAAAAAAAAAAAAAAAAAAAAAAAQAAAAAAAAAAAAAAAAAAAAAAAQAAAAAAAAAAAAAAAAEAAAAAAAAAAAAAAAABAAAAAAAAAAAAAAAAAQAAAAAAAAAAAAAAAAEAAAAAAAAAAAAAAAAAAQAAAAAAAAAAAAAAAAAAAAAAAAAAAAAAAAEAAAAAAAAAAQAAAAABAAAAAAAAAAEAAAAAAQAAAAAAAAAAAAAAAAAAAAAAAAAAAAAAAAABAAAAAAAAAAAAAAAAAQAAAAAAAAAAAAAAAAEAAAAAAAAAAAAAAAABAAAAAAAAAAAAAAAAAQAAAAAAAAAAAAAAAAEAAAAAAAAAAAAAAAABAAAAAAAAAAAAAAAAAQAAAAAAAAAAAAAAAAAAAAAAAAAAAQAAAAABAAAAAAAAAAEAAAAAAQAAAAAAAAAAAAAAAAEAAAAAAAAAAAAAAAABAAAAAAAAAAAAAAAAAQAAAAAAAAAAAAAAAAEAAAAAAAAAAQAAAAABAAAAAAAAAAAAAAAAAQAAAAAAAAAAAAAAAAEAAAAAAAAAAAAAAAABAAAAAAAAAAAAAAAAAQAAAAAAAAABAAAAAAEAAAAAAAAAAAAAAAAAAAAAAAAAAAAAAAAAAQAAAAAAAAAAAAAAAAEAAAAAAAAAAAAAAAABAAAAAAAAAAAAAAAAAAAAAAAAAAAAAAAAAAEAAAAAAAAAAAAAAAABAAAAAAAAAAEAAAAAAQAAAAAAAAAAAAAAAAAAAAAAAAAAAAAAAAAAAAAAAAAAAAAAAAAAAQAAAAAAAAAAAAAAAAEAAAAAAAAAAAAAAAABAAAAAAAAAAEAAAAAAQAAAAAAAAAAAAAAAAAAAAAAAAAAAAAAAAABAAAAAAAAAAAAAAAAAQAAAAAAAAAAAAAAAAEAAAAAAAAAAAAAAAABAAAAAAAAAAEAAAAAAQAAAAAAAAAAAAAAAAEAAAAAAAAAAQAAAAABAAAAAAAAAAAAAAAAAAAAAAAAAAAAAAAAAAEAAAAAAAAAAAAAAAABAAAAAAAAAAAAAAAAAQAAAAAAAAAAAAAAAAEAAAAAAAAAAAAAAAABAAAAAAAAAAAAAAAAAQAAAAAAAAAAAAAAAAEAAAAAAAAAAAAAAAAAAAAAAAAAAAAAAAAAAQAAAAAAAAAAAAAAAAEAAAAAAAAAAQAAAAABAAAAAAAAAAAAAAAAAQAAAAAAAAAAAAAAAAAAAAAAAAAAAAAAAAAAAAAAAAAAAAAAAAAAAQAAAAAAAAABAAAAAAEAAAAAAAAAAAAAAAABAAAAAAAAAAEAAAAAAAAAAAAAAAAAAAAAAAEAAAAAAAAAAAAAAAABAAAAAAAAAAAAAAAAAQAAAAAAAAAAAAAAAAEAAAAAAAAAAAAAAAABAAAAAAAAAAAAAAAAAQAAAAAAAAAAAAAAAAEAAAAAAAAAAAAAAAAAAAAAAAAAAAAAAAAAAAAAAAAAAAAAAAAAAAEAAAAAAAAAAAAAAAAAAAAAAAAAAAEAAAAAAQAAAAAAAAAAAAAAAAEAAAAAAAAAAAAAAAABAAAAAAAAAAAAAAAAAQAAAAAAAAAAAAAAAAEAAAAAAAAAAAAAAAABAAAAAAAAAAAAAAAAAQAAAAAAAAAAAAAAAAEAAAAAAAAAAAAAAAAAAAAAAAAAAAAAAAAAAQAAAAAAAAAAAAAAAAEAAAAAAAAAAAAAAAAAAAAAAAAAAAAAAAAAAQAAAAAAAAAAAAAAAAEAAAAAAAAAAQAAAAABAAAAAAAAAAAAAAAAAQAAAAAAAAAAAAAAAAEAAAAAAAAAAAAAAAABAAAAAAAAAAEAAAAAAQAAAAAAAAABAAAAAAEAAAAAAAAAAAAAAAABAAAAAAAAAAAAAAAAAQAAAAAAAAAAAAAAAAEAAAAAAAAAAAAAAAABAAAAAAAAAAAAAAAAAQAAAAAAAAAAAAAAAAEAAAAAAAAAAQAAAAAAAAAAAAAAAAAAAAAAAQAAAAAAAAABAAAAAAEAAAAAAAAAAAAAAAABAAAAAAAAAAAAAAAAAAAAAAAAAAAAAAAAAAEAAAAAAAAAAAAAAAABAAAAAAAAAAAAAAAAAQAAAAAAAAAAAAAAAAAAAAAAAAAAAAAAAAABAAAAAAAAAAEAAAAAAQAAAAAAAAAAAAAAAAAAAAAAAAAAAAAAAAABAAAAAAAAAAAAAAAAAQAAAAAAAAABAAAAAAEAAAAAAAAAAQAAAAABAAAAAAAAAAAAAAAAAQAAAAAAAAAAAAAAAAAAAAAAAAAAAAAAAAABAAAAAAAAAAEAAAAAAAAAAAAAAAABAAAAAAEAAAAAAAAAAAAAAAABAAAAAAAAAAAAAAAAAQAAAAAAAAAAAAAAAAEAAAAAAAAAAAAAAAABAAAAAAAAAAAAAAAAAQAAAAAAAAAAAAAAAAEAAAAAAAAAAAAAAAAAAAAAAAAAAAAAAAAAAAAAAAAAAAAAAAAAAAAAAAAAAAAAAQAAAAABAAAAAAAAAAAAAAAAAQAAAAAAAAABAAAAAAEAAAAAAAAAAAAAAAABAAAAAAAAAAAAAAAAAQAAAAAAAAABAAAAAAEAAAAAAAAAAAAAAAABAAAAAAAAAAAAAAAAAQAAAAAAAAAAAAAAAAEAAAAAAAAAAAAAAAAAAAAAAAAAAAAAAAAAAQAAAAAAAAAAAAAAAAEAAAAAAAAAAAAAAAABAAAAAAAAAAAAAAAAAAAAAAAAAAAAAAAAAAEAAAAAAAAAAAAAAAABAAAAAAAAAAAAAAAAAQAAAAAAAAAAAAAAAAEAAAAAAAAAAQAAAAABAAAAAAAAAAAAAAAAAAAAAAAAAAAAAAAAAAEAAAAAAAAAAAAAAAABAAAAAAAAAAAAAAAAAAAAAAAAAAAAAAAAAAEAAAAAAAAAAAAAAAABAAAAAAAAAAAAAAAAAQAAAAAAAAAAAAAAAAEAAAAAAAAAAQAAAAABAAAAAAAAAAAAAAAAAAAAAAAAAAAAAAAAAAEAAAAAAAAAAAAAAAABAAAAAAAAAAAAAAAAAQAAAAAAAAAAAAAAAAEAAAAAAAAAAQAAAAABAAAAAAAAAAAAAAAAAAAAAAAAAAAAAAAAAAEAAAAAAAAAAAAAAAABAAAAAAAAAAAAAAAAAQAAAAAAAAAAAAAAAAEAAAAAAAAAAQAAAAABAAAAAAAAAAAAAAAAAQAAAAAAAAAAAAAAAAEAAAAAAAAAAAAAAAABAAAAAAAAAAAAAAAAAQAAAAAAAAABAAAAAAEAAAAAAAAAAQAAAAABAAAAAAAAAAAAAAAAAQAAAAAAAAAAAAAAAAEAAAAAAAAAAAAAAAABAAAAAAAAAAAAAAAAAAAAAAAAAAAAAAAAAAEAAAAAAAAAAAAAAAABAAAAAAAAAAAAAAAAAAAAAAAAAAAAAAAAAAEAAAAAAAAAAQAAAAABAAAAAAAAAAAAAAAAAAAAAAAAAAAAAAAAAAAAAAAAAAAAAAAAAAABAAAAAAAAAAAAAAAAAQAAAAAAAAAAAAAAAAEAAAAAAAAAAQAAAAABAAAAAAAAAAAAAAAAAAAAAAAAAAAAAAAAAAEAAAAAAAAAAAAAAAABAAAAAAAAAAEAAAAAAQAAAAAAAAAAAAAAAAEAAAAAAAAAAAAAAAAAAAAAAAAAAAAAAAAAAAAAAAAAAAABAAAAAAEAAAAAAAAAAAAAAAABAAAAAAAAAAAAAAAAAQAAAAAAAAAAAAAAAAEAAAAAAAAAAAAAAAAAAAAAAAAAAAAAAAAAAAAAAAAAAAABAAAAAAEAAAAAAAAAAAAAAAABAAAAAAAAAAAAAAAAAQAAAAAAAAAAAAAAAAAAAAAAAAAAAQAAAAABAAAAAAAAAAAAAAAAAAAAAAAAAAAAAAAAAAEAAAAAAAAAAQAAAAABAAAAAAAAAAAAAAAAAQAAAAAAAAAAAAAAAAEAAAAAAAAAAAAAAAABAAAAAAAAAAAAAAAAAQAAAAAAAAAAAAAAAAEAAAAAAAAAAAAAAAABAAAAAAAAAAEAAAAAAAAAAAAAAAAAAAAAAAEAAAAAAAAAAAAAAAABAAAAAAAAAAAAAAAAAQAAAAAAAAAAAAAAAAEAAAAAAAAAAAAAAAABAAAAAAAAAAAAAAAAAQAAAAAAAAAAAAAAAAAAAAAAAAAAAAAAAAAAAAAAAAAAAAAAAAAAAQAAAAAAAAAAAAAAAAEAAAAAAAAAAQAAAAABAAAAAAAAAAAAAAAAAQAAAAAAAAAAAAAAAAAAAAAAAAAAAQAAAAAAAAAAAAAAAAAAAAAAAAAAAAAAAAABAAAAAAEAAAAAAAAAAQAAAAABAAAAAAAAAAAAAAAAAQAAAAAAAAABAAAAAAAAAAAAAAAAAQAAAAABAAAAAAAAAAAAAAAAAAAAAAAAAAABAAAAAAEAAAAAAAAAAAAAAAAAAAAAAAAAAAAAAAAAAQAAAAAAAAAAAAAAAAAAAAAAAAAAAAAAAAAAAAAAAAAAAAAAAAAAAAAAAAAAAAAAAAAAAAEAAAAAAAAAAAAAAAABAAAAAAAAAAAAAAAAAQAAAAAAAAAAAAAAAAEAAAAAAAAAAAAAAAABAAAAAAAAAAAAAAAAAQAAAAAAAAAAAAAAAAAAAAAAAAAAAAAAAAAAAAAAAAAAAAAAAAAAAQAAAAAAAAAAAAAAAAEAAAAAAAAAAAAAAAABAAAAAAAAAAAAAAAAAQAAAAAAAAABAAAAAAEAAAAAAAAAAAAAAAAAAAAAAAAAAAAAAAAAAQAAAAAAAAAAAAAAAAAAAAAAAAAAAAAAAAABAAAAAAAAAAAAAAAAAAAAAAAAAAABAAAAAAEAAAAAAAAAAAAAAAAAAAAAAAAAAAAAAAAAAAAAAAAAAAAAAAAAAAEAAAAAAAAAAQAAAAABAAAAAAAAAAEAAAAAAQAAAAAAAAAAAAAAAAAAAAAAAAAAAAAAAAAAAAAAAAAAAAAAAAAAAQAAAAAAAAAAAAAAAAAAAAAAAAAAAAAAAAAAAAAAAAAAAAAAAAAAAAAAAAAAAAAAAAAAAAEAAAAAAAAAAAAAAAABAAAAAAAAAAAAAAAAAQAAAAAAAAAAAAAAAAAAAAAAAAAAAAAAAAABAAAAAAAAAAEAAAAAAQAAAAAAAAAAAAAAAAEAAAAAAAAAAAAAAAABAAAAAAAAAAAAAAAAAQAAAAAAAAABAAAAAAAAAAAAAAAAAAAAAAABAAAAAAAAAAAAAAAAAQAAAAAAAAABAAAAAAEAAAAAAAAAAAAAAAABAAAAAAAAAAAAAAAAAAAAAAAAAAAAAAAAAAEAAAAAAAAAAQAAAAABAAAAAAAAAAEAAAAAAQAAAAAAAAAAAAAAAAEAAAAAAAAAAAAAAAABAAAAAAAAAAAAAAAAAQAAAAAAAAAAAAAAAAEAAAAAAAAAAQAAAAABAAAAAAAAAAAAAAAAAQAAAAAAAAAAAAAAAAAAAAAAAAAAAQAAAAABAAAAAAAAAAEAAAAAAQAAAAAAAAAAAAAAAAAAAAAAAAAAAAAAAAAAAAAAAAAAAAAAAAAAAQAAAAAAAAAAAAAAAAEAAAAAAAAAAAAAAAABAAAAAAAAAAAAAAAAAQAAAAAAAAABAAAAAAEAAAAAAAAAAAAAAAABAAAAAAAAAAAAAAAAAAAAAAAAAAAAAAAAAAEAAAAAAAAAAAAAAAABAAAAAAAAAAAAAAAAAQAAAAAAAAAAAAAAAAEAAAAAAAAAAAAAAAABAAAAAAAAAAAAAAAAAQAAAAAAAAABAAAAAAEAAAAAAAAAAAAAAAABAAAAAAAAAAAAAAAAAQAAAAAAAAAAAAAAAAEAAAAAAAAAAQAAAAABAAAAAAAAAAAAAAAAAQAAAAAAAAAAAAAAAAAAAAAAAAAAAAAAAAABAAAAAAAAAAAAAAAAAQAAAAAAAAAAAAAAAAAAAAAAAAAAAAAAAAAAAAAAAAAAAAAAAAAAAQAAAAAAAAAAAAAAAAEAAAAAAAAAAAAAAAABAAAAAAAAAAAAAAAAAQAAAAAAAAAAAAAAAAEAAAAAAAAAAAAAAAABAAAAAAAAAAAAAAAAAQAAAAAAAAAAAAAAAAEAAAAAAAAAAAAAAAABAAAAAAAAAAAAAAAAAQAAAAAAAAAAAAAAAAEAAAAAAAAAAAAAAAABAAAAAAAAAAAAAAAAAQAAAAAAAAAAAAAAAAEAAAAAAAAAAQAAAAABAAAAAAAAAAEAAAAAAQAAAAAAAAABAAAAAAEAAAAAAAAAAAAAAAAAAAAAAAAAAAEAAAAAAQAAAAAAAAAAAAAAAAEAAAAAAAAAAQAAAAABAAAAAAAAAAAAAAAAAQAAAAAAAAAAAAAAAAEAAAAAAAAAAAAAAAABAAAAAAAAAAAAAAAAAQAAAAAAAAABAAAAAAEAAAAAAAAAAAAAAAABAAAAAAAAAAAAAAAAAQAAAAAAAAAAAAAAAAEAAAAAAAAAAAAAAAABAAAAAAAAAAEAAAAAAQAAAAAAAAAAAAAAAAEAAAAAAAAAAAAAAAABAAAAAAAAAAEAAAAAAQAAAAAAAAAAAAAAAAAAAAAAAAAAAAAAAAAAAAAAAAAAAAEAAAAAAQAAAAAAAAAAAAAAAAEAAAAAAAAAAAAAAAABAAAAAAAAAAAAAAAAAAAAAAAAAAAAAAAAAAAAAAAAAAAAAAAAAAABAAAAAAAAAAAAAAAAAQAAAAAAAAAAAAAAAAAAAAAAAAAAAAAAAAABAAAAAAAAAAAAAAAAAQAAAAAAAAAAAAAAAAEAAAAAAAAAAAAAAAABAAAAAAAAAAAAAAAAAQAAAAAAAAABAAAAAAEAAAAAAAAAAAAAAAAAAAAAAAAAAAAAAAAAAQAAAAAAAAAAAAAAAAEAAAAAAAAAAAAAAAABAAAAAAAAAAAAAAAAAAAAAAAAAAAAAAAAAAEAAAAAAAAAAQAAAAABAAAAAAAAAAAAAAAAAAAAAAAAAAAAAAAAAAAAAAAAAAAAAQAAAAABAAAAAAAAAAAAAAAAAQAAAAAAAAAAAAAAAAAAAAAAAAAAAQAAAAAAAAAAAAAAAAAAAAAAAQAAAAAAAAABAAAAAAEAAAAAAAAAAAAAAAAAAAAAAAAAAAAAAAAAAQAAAAAAAAAAAAAAAAAAAAAAAAAAAAAAAAABAAAAAAAAAAEAAAAAAQAAAAAAAAAAAAAAAAEAAAAAAAAAAQAAAAABAAAAAAAAAAAAAAAAAQAAAAAAAAABAAAAAAEAAAAAAAAAAAAAAAABAAAAAAAAAAEAAAAAAQAAAAAAAAAAAAAAAAEAAAAAAAAAAAAAAAABAAAAAAAAAAAAAAAAAAAAAAAAAAAAAAAAAAEAAAAAAAAAAQAAAAAAAAAAAAAAAAAAAAAAAQAAAAAAAAAAAAAAAAEAAAAAAAAAAAAAAAABAAAAAAAAAAAAAAAAAQAAAAAAAAAAAAAAAAEAAAAAAAAAAQAAAAABAAAAAAAAAAAAAAAAAQAAAAAAAAAAAAAAAAEAAAAAAAAAAAAAAAAAAAAAAAAAAAEAAAAAAQAAAAAAAAAAAAAAAAAAAAAAAAAAAAAAAAAAAAAAAAAAAAAAAAAAAQAAAAAAAAAAAAAAAAEAAAAAAAAAAQAAAAABAAAAAAAAAAAAAAAAAQAAAAAAAAAAAAAAAAAAAAAAAAAAAAAAAAABAAAAAAAAAAAAAAAAAQAAAAAAAAABAAAAAAEAAAAAAAAAAAAAAAAAAAAAAAAAAAEAAAAAAQAAAAAAAAAAAAAAAAAAAAAAAAAAAAAAAAABAAAAAAAAAAAAAAAAAQAAAAAAAAAAAAAAAAEAAAAAAAAAAQAAAAABAAAAAAAAAAAAAAAAAQAAAAAAAAAAAAAAAAAAAAAAAAAAAAAAAAAAAAAAAAAAAAAAAAAAAQAAAAAAAAABAAAAAAEAAAAAAAAAAAAAAAABAAAAAAAAAAAAAAAAAQAAAAAAAAAAAAAAAAEAAAAAAAAAAQAAAAABAAAAAAAAAAAAAAAAAAAAAAAAAAAAAAAAAAEAAAAAAAAAAAAAAAABAAAAAAAAAAAAAAAAAAAAAAAAAAAAAAAAAAAAAAAAAAAAAQAAAAABAAAAAAAAAAAAAAAAAQAAAAAAAAAAAAAAAAEAAAAAAAAAAAAAAAAAAAAAAAAAAAAAAAAAAQAAAAAAAAABAAAAAAEAAAAAAAAAAAAAAAAAAAAAAAAAAAEAAAAAAQAAAAAAAAAAAAAAAAEAAAAAAAAAAAAAAAABAAAAAAAAAAEAAAAAAAAAAAAAAAAAAAAAAAEAAAAAAAAAAAAAAAABAAAAAAAAAAAAAAAAAQAAAAAAAAABAAAAAAEAAAAAAAAAAAAAAAABAAAAAAAAAAEAAAAAAQAAAAAAAAAAAAAAAAEAAAAAAAAAAAAAAAABAAAAAAAAAAAAAAAAAAAAAAAAAAAAAAAAAAEAAAAAAAAAAQAAAAABAAAAAAAAAAAAAAAAAAAAAAAAAAAAAAAAAAAAAAAAAAAAAAAAAAABAAAAAAAAAAAAAAAAAQAAAAAAAAAAAAAAAAEAAAAAAAAAAAAAAAAAAAAAAAAAAAAAAAAAAQAAAAAAAAAAAAAAAAEAAAAAAAAAAQAAAAABAAAAAAAAAAAAAAAAAQAAAAAAAAAAAAAAAAEAAAAAAAAAAAAAAAAAAAAAAAAAAAAAAAAAAQAAAAAAAAABAAAAAAEAAAAAAAAAAAAAAAABAAAAAAAAAAAAAAAAAQAAAAAAAAAAAAAAAAEAAAAAAAAAAAAAAAAAAAAAAAAAAAEAAAAAAQAAAAAAAAAAAAAAAAAAAAAAAAAAAAAAAAABAAAAAAAAAAEAAAAAAQAAAAAAAAAAAAAAAAEAAAAAAAAAAAAAAAABAAAAAAAAAAEAAAAAAQAAAAAAAAABAAAAAAEAAAAAAAAAAAAAAAABAAAAAAAAAAAAAAAAAQAAAAAAAAAAAAAAAAEAAAAAAAAAAQAAAAABAAAAAAAAAAAAAAAAAQAAAAAAAAAAAAAAAAEAAAAAAAAAAAAAAAAAAAAAAAAAAAAAAAAAAAAAAAAAAAABAAAAAAEAAAAAAAAAAAAAAAABAAAAAAAAAAAAAAAAAQAAAAAAAAAAAAAAAAEAAAAAAAAAAAAAAAAAAAAAAAAAAAEAAAAAAQAAAAAAAAAAAAAAAAEAAAAAAAAAAAAAAAABAAAAAAAAAAAAAAAAAAAAAAAAAAAAAAAAAAEAAAAAAAAAAAAAAAAAAAAAAAAAAAEAAAAAAQAAAAAAAAAAAAAAAAAAAAAAAAAAAAAAAAABAAAAAAAAAAAAAAAAAAAAAAAAAAAAAAAAAAEAAAAAAAAAAQAAAAABAAAAAAAAAAAAAAAAAQAAAAAAAAAAAAAAAAAAAAAAAAAAAAAAAAABAAAAAAAAAAEAAAAAAQAAAAAAAAAAAAAAAAEAAAAAAAAAAAAAAAABAAAAAAAAAAEAAAAAAQAAAAAAAAAAAAAAAAEAAAAAAAAAAQAAAAABAAAAAAAAAAAAAAAAAAAAAAAAAAAAAAAAAAEAAAAAAAAAAQAAAAABAAAAAAAAAAEAAAAAAQAAAAAAAAAAAAAAAAEAAAAAAAAAAAAAAAABAAAAAAAAAAAAAAAAAQAAAAAAAAAAAAAAAAEAAAAAAAAAAAAAAAABAAAAAAAAAAAAAAAAAQAAAAAAAAAAAAAAAAAAAAAAAAAAAAAAAAABAAAAAAAAAAEAAAAAAQAAAAAAAAABAAAAAAEAAAAAAAAAAQAAAAABAAAAAAAAAAAAAAAAAQAAAAAAAAAAAAAAAAEAAAAAAAAAAAAAAAABAAAAAAAAAAAAAAAAAQAAAAAAAAAAAAAAAAAAAAAAAAAAAAAAAAABAAAAAAAAAAAAAAAAAQAAAAAAAAAAAAAAAAAAAAAAAAAAAAAAAAABAAAAAAAAAAAAAAAAAQAAAAAAAAAAAAAAAAEAAAAAAAAAAAAAAAAAAAAAAAAAAAAAAAAAAQAAAAAAAAAAAAAAAAAAAAAAAAAAAAAAAAABAAAAAAAAAAEAAAAAAQAAAAAAAAAAAAAAAAAAAAAAAAAAAAAAAAABAAAAAAAAAAAAAAAAAAAAAAAAAAABAAAAAAEAAAAAAAAAAAAAAAABAAAAAAAAAAAAAAAAAQAAAAAAAAAAAAAAAAEAAAAAAAAAAAAAAAABAAAAAAAAAAAAAAAAAQAAAAAAAAABAAAAAAEAAAAAAAAAAAAAAAABAAAAAAAAAAAAAAAAAAAAAAAAAAAAAAAAAAEAAAAAAAAAAQAAAAABAAAAAAAAAAAAAAAAAQAAAAAAAAAAAAAAAAAAAAAAAAAAAAAAAAABAAAAAAAAAAAAAAAAAAAAAAAAAAABAAAAAAEAAAAAAAAAAAAAAAABAAAAAAAAAAEAAAAAAQAAAAAAAAAAAAAAAAEAAAAAAAAAAAAAAAABAAAAAAAAAAEAAAAAAQAAAAAAAAAAAAAAAAEAAAAAAAAAAAAAAAABAAAAAAAAAAEAAAAAAQAAAAAAAAAAAAAAAAEAAAAAAAAAAAAAAAABAAAAAAAAAAAAAAAAAAAAAAAAAAAAAAAAAAEAAAAAAAAAAAAAAAABAAAAAAAAAAAAAAAAAAAAAAAAAAAAAAAAAAEAAAAAAAAAAAAAAAABAAAAAAAAAAAAAAAAAQAAAAAAAAAAAAAAAAEAAAAAAAAAAQAAAAABAAAAAAAAAAAAAAAAAQAAAAAAAAABAAAAAAAAAAAAAAAAAAAAAAABAAAAAAAAAAAAAAAAAAAAAAAAAAAAAAAAAAEAAAAAAAAAAAAAAAABAAAAAAAAAAEAAAAAAQAAAAAAAAAAAAAAAAEAAAAAAAAAAAAAAAABAAAAAAAAAAAAAAAAAQAAAAAAAAAAAAAAAAEAAAAAAAAAAAAAAAAAAAAAAAAAAAEAAAAAAQAAAAAAAAAAAAAAAAAAAAAAAAAAAAAAAAABAAAAAAAAAAAAAAAAAQAAAAAAAAAAAAAAAAEAAAAAAAAAAAAAAAABAAAAAAAAAAAAAAAAAQAAAAAAAAAAAAAAAAEAAAAAAAAAAAAAAAABAAAAAAAAAAAAAAAAAAAAAAAAAAAAAAAAAAAAAAAAAAAAAAAAAAABAAAAAAAAAAEAAAAAAQAAAAAAAAAAAAAAAAEAAAAAAAAAAAAAAAABAAAAAAAAAAAAAAAAAQAAAAAAAAAAAAAAAAEAAAAAAAAAAQAAAAABAAAAAAAAAAAAAAAAAAAAAAAAAAAAAAAAAAAAAAAAAAAAAAAAAAAAAAAAAAAAAAAAAAAAAAAAAAAAAAAAAAAAAAEAAAAAAAAAAAAAAAABAAAAAAAAAAAAAAAAAQAAAAAAAAAAAAAAAAEAAAAAAAAAAAAAAAABAAAAAAAAAAAAAAAAAAAAAAAAAAAAAAAAAAEAAAAAAAAAAQAAAAABAAAAAAAAAAAAAAAAAAAAAAAAAAABAAAAAAAAAAAAAAAAAAAAAAAAAAAAAAAAAAAAAAAAAQAAAAAAAAAAAAAAAAEAAAAAAAAAAAAAAAAAAAAAAAAAAAAAAAAAAAAAAAAAAAAAAAAAAAAAAAAAAAAAAQAAAAABAAAAAAAAAAAAAAAAAQAAAAAAAAAAAAAAAAEAAAAAAAAAAAAAAAABAAAAAAAAAAAAAAAAAQAAAAAAAAAAAAAAAAEAAAAAAAAAAAAAAAAAAAAAAAAAAAAAAAAAAQAAAAAAAAAAAAAAAAEAAAAAAAAAAQAAAAABAAAAAAAAAAAAAAAAAQAAAAAAAAAAAAAAAAEAAAAAAAAAAAAAAAAAAAAAAAAAAAAAAAAAAQAAAAAAAAABAAAAAAEAAAAAAAAAAAAAAAABAAAAAAAAAAAAAAAAAQAAAAAAAAAAAAAAAAEAAAAAAAAAAAAAAAABAAAAAAAAAAAAAAAAAAAAAAAAAAABAAAAAAEAAAAAAAAAAQAAAAABAAAAAAAAAAEAAAAAAAAAAAAAAAAAAAAAAAAAAAAAAAAAAAAAAAAAAAAAAAAAAAAAAAAAAQAAAAAAAAAAAAAAAAEAAAAAAAAAAAAAAAAAAAAAAAAAAAAAAAAAAQAAAAAAAAAAAAAAAAEAAAAAAAAAAAAAAAAAAAAAAAAAAAAAAAAAAQAAAAAAAAAAAAAAAAEAAAAAAAAAAAAAAAAAAAAAAAAAAAAAAAAAAQAAAAAAAAAAAAAAAAEAAAAAAAAAAAAAAAABAAAAAAAAAAAAAAAAAQAAAAAAAAAAAAAAAAEAAAAAAAAAAAAAAAABAAAAAAAAAAAAAAAAAQAAAAAAAAAAAAAAAAAAAAAAAAAAAQAAAAABAAAAAAAAAAAAAAAAAQAAAAAAAAAAAAAAAAEAAAAAAAAAAAAAAAAAAAAAAAAAAAAAAAAAAQAAAAAAAAAAAAAAAAAAAAAAAAAAAQAAAAABAAAAAAAAAAAAAAAAAQAAAAAAAAABAAAAAAEAAAAAAAAAAAAAAAABAAAAAAAAAAAAAAAAAQAAAAAAAAAAAAAAAAEAAAAAAAAAAAAAAAAAAAAAAAAAAAEAAAAAAQAAAAAAAAAAAAAAAAEAAAAAAAAAAAAAAAABAAAAAAAAAAEAAAAAAAAAAAAAAAAAAAAAAAEAAAAAAAAAAQAAAAABAAAAAAAAAAAAAAAAAAAAAAAAAAAAAAAAAAEAAAAAAAAAAAAAAAAAAAAAAAAAAAAAAAAAAAAAAAAAAAABAAAAAAEAAAAAAAAAAAAAAAABAAAAAAAAAAAAAAAAAQAAAAAAAAAAAAAAAAEAAAAAAAAAAAAAAAABAAAAAAAAAAAAAAAAAQAAAAAAAAAAAAAAAAAAAAAAAAAAAQAAAAABAAAAAAAAAAAAAAAAAQAAAAAAAAABAAAAAAEAAAAAAAAAAQAAAAABAAAAAAAAAAAAAAAAAQAAAAAAAAAAAAAAAAEAAAAAAAAAAAAAAAAAAAAAAAAAAAAAAAAAAQAAAAAAAAAAAAAAAAEAAAAAAAAAAAAAAAABAAAAAAAAAAAAAAAAAQAAAAAAAAAAAAAAAAEAAAAAAAAAAAAAAAAAAAAAAAAAAAAAAAAAAQAAAAAAAAAAAAAAAAEAAAAAAAAAAAAAAAABAAAAAAAAAAAAAAAAAAAAAAAAAAAAAAAAAAEAAAAAAAAAAAAAAAABAAAAAAAAAAAAAAAAAAAAAAAAAAAAAAAAAAEAAAAAAAAAAAAAAAABAAAAAAAAAAAAAAAAAQAAAAAAAAAAAAAAAAEAAAAAAAAAAAAAAAABAAAAAAAAAAEAAAAAAAAAAAAAAAAAAAAAAAEAAAAAAAAAAAAAAAABAAAAAAAAAAAAAAAAAQAAAAAAAAAAAAAAAAEAAAAAAAAAAAAAAAAAAAAAAAAAAAAAAAAAAQAAAAAAAAAAAAAAAAEAAAAAAAAAAAAAAAAAAAAAAAAAAAAAAAAAAQAAAAAAAAABAAAAAAEAAAAAAAAAAQAAAAABAAAAAAAAAAAAAAAAAQAAAAAAAAABAAAAAAEAAAAAAAAAAAAAAAAAAQAAAAAAAAAAAAAAAQAAAAAAAAAAAAAAAAEAAAAAAAAAAQAAAAABAAAAAAAAAAAAAAAAAQAAAAAAAAAAAAAAAAEAAAAAAAAAAAAAAAAAAAAAAAAAAAAAAAAAAQAAAAAAAAABAAAAAAEAAAAAAAAAAAAAAAABAAAAAAAAAAEAAAAAAAAAAAAAAAAAAAAAAAEAAAAAAAAAAAAAAAABAAAAAAAAAAAAAAAAAQAAAAAAAAAAAAAAAAEAAAAAAAAAAAAAAAABAAAAAAAAAAAAAAAAAQAAAAAAAAABAAAAAAEAAAAAAAAAAAAAAAABAAAAAAAAAAAAAAAAAQAAAAAAAAABAAAAAAAAAAAAAAAAAAAAAAABAAAAAAAAAAAAAAAAAQAAAAAAAAAAAAAAAAEAAAAAAAAAAAAAAAAAAAAAAAAAAAAAAAAAAQAAAAAAAAAAAAAAAAEAAAAAAAAAAAAAAAABAAAAAAAAAAAAAAAAAAAAAAAAAAAAAAAAAAEAAAAAAAAAAQAAAAABAAAAAAAAAAAAAAAAAQAAAAAAAAAAAAAAAAEAAAAAAAAAAAAAAAAAAAAAAAAAAAEAAAAAAQAAAAAAAAAAAAAAAAEAAAAAAAAAAAAAAAABAAAAAAAAAAAAAAAAAQAAAAAAAAAAAAAAAAAAAAAAAAAAAQAAAAABAAAAAAAAAAAAAAAAAQAAAAAAAAAAAAAAAAEAAAAAAAAAAAAAAAAAAAAAAAAAAAAAAAAAAAAAAAAAAAAAAAAAAAEAAAAAAAAAAAAAAAABAAAAAAAAAAAAAAAAAQAAAAAAAAAAAAAAAAEAAAAAAAAAAAAAAAABAAAAAAAAAAEAAAAAAQAAAAAAAAAAAAAAAAAAAAAAAAAAAAAAAAABAAAAAAAAAAAAAAAAAQAAAAAAAAAAAAAAAAEAAAAAAAAAAAAAAAABAAAAAAAAAAAAAAAAAQAAAAAAAAAAAAAAAAEAAAAAAAAAAAAAAAABAAAAAAAAAAAAAAAAAAAAAAAAAAABAAAAAAEAAAAAAAAAAAAAAAAAAAAAAAAAAAAAAAAAAQAA",
          "dtype": "i1",
          "shape": "891, 13"
         }
        }
       ],
       "layout": {
        "height": 600,
        "template": {
         "data": {
          "bar": [
           {
            "error_x": {
             "color": "#2a3f5f"
            },
            "error_y": {
             "color": "#2a3f5f"
            },
            "marker": {
             "line": {
              "color": "#E5ECF6",
              "width": 0.5
             },
             "pattern": {
              "fillmode": "overlay",
              "size": 10,
              "solidity": 0.2
             }
            },
            "type": "bar"
           }
          ],
          "barpolar": [
           {
            "marker": {
             "line": {
              "color": "#E5ECF6",
              "width": 0.5
             },
             "pattern": {
              "fillmode": "overlay",
              "size": 10,
              "solidity": 0.2
             }
            },
            "type": "barpolar"
           }
          ],
          "carpet": [
           {
            "aaxis": {
             "endlinecolor": "#2a3f5f",
             "gridcolor": "white",
             "linecolor": "white",
             "minorgridcolor": "white",
             "startlinecolor": "#2a3f5f"
            },
            "baxis": {
             "endlinecolor": "#2a3f5f",
             "gridcolor": "white",
             "linecolor": "white",
             "minorgridcolor": "white",
             "startlinecolor": "#2a3f5f"
            },
            "type": "carpet"
           }
          ],
          "choropleth": [
           {
            "colorbar": {
             "outlinewidth": 0,
             "ticks": ""
            },
            "type": "choropleth"
           }
          ],
          "contour": [
           {
            "colorbar": {
             "outlinewidth": 0,
             "ticks": ""
            },
            "colorscale": [
             [
              0,
              "#0d0887"
             ],
             [
              0.1111111111111111,
              "#46039f"
             ],
             [
              0.2222222222222222,
              "#7201a8"
             ],
             [
              0.3333333333333333,
              "#9c179e"
             ],
             [
              0.4444444444444444,
              "#bd3786"
             ],
             [
              0.5555555555555556,
              "#d8576b"
             ],
             [
              0.6666666666666666,
              "#ed7953"
             ],
             [
              0.7777777777777778,
              "#fb9f3a"
             ],
             [
              0.8888888888888888,
              "#fdca26"
             ],
             [
              1,
              "#f0f921"
             ]
            ],
            "type": "contour"
           }
          ],
          "contourcarpet": [
           {
            "colorbar": {
             "outlinewidth": 0,
             "ticks": ""
            },
            "type": "contourcarpet"
           }
          ],
          "heatmap": [
           {
            "colorbar": {
             "outlinewidth": 0,
             "ticks": ""
            },
            "colorscale": [
             [
              0,
              "#0d0887"
             ],
             [
              0.1111111111111111,
              "#46039f"
             ],
             [
              0.2222222222222222,
              "#7201a8"
             ],
             [
              0.3333333333333333,
              "#9c179e"
             ],
             [
              0.4444444444444444,
              "#bd3786"
             ],
             [
              0.5555555555555556,
              "#d8576b"
             ],
             [
              0.6666666666666666,
              "#ed7953"
             ],
             [
              0.7777777777777778,
              "#fb9f3a"
             ],
             [
              0.8888888888888888,
              "#fdca26"
             ],
             [
              1,
              "#f0f921"
             ]
            ],
            "type": "heatmap"
           }
          ],
          "histogram": [
           {
            "marker": {
             "pattern": {
              "fillmode": "overlay",
              "size": 10,
              "solidity": 0.2
             }
            },
            "type": "histogram"
           }
          ],
          "histogram2d": [
           {
            "colorbar": {
             "outlinewidth": 0,
             "ticks": ""
            },
            "colorscale": [
             [
              0,
              "#0d0887"
             ],
             [
              0.1111111111111111,
              "#46039f"
             ],
             [
              0.2222222222222222,
              "#7201a8"
             ],
             [
              0.3333333333333333,
              "#9c179e"
             ],
             [
              0.4444444444444444,
              "#bd3786"
             ],
             [
              0.5555555555555556,
              "#d8576b"
             ],
             [
              0.6666666666666666,
              "#ed7953"
             ],
             [
              0.7777777777777778,
              "#fb9f3a"
             ],
             [
              0.8888888888888888,
              "#fdca26"
             ],
             [
              1,
              "#f0f921"
             ]
            ],
            "type": "histogram2d"
           }
          ],
          "histogram2dcontour": [
           {
            "colorbar": {
             "outlinewidth": 0,
             "ticks": ""
            },
            "colorscale": [
             [
              0,
              "#0d0887"
             ],
             [
              0.1111111111111111,
              "#46039f"
             ],
             [
              0.2222222222222222,
              "#7201a8"
             ],
             [
              0.3333333333333333,
              "#9c179e"
             ],
             [
              0.4444444444444444,
              "#bd3786"
             ],
             [
              0.5555555555555556,
              "#d8576b"
             ],
             [
              0.6666666666666666,
              "#ed7953"
             ],
             [
              0.7777777777777778,
              "#fb9f3a"
             ],
             [
              0.8888888888888888,
              "#fdca26"
             ],
             [
              1,
              "#f0f921"
             ]
            ],
            "type": "histogram2dcontour"
           }
          ],
          "mesh3d": [
           {
            "colorbar": {
             "outlinewidth": 0,
             "ticks": ""
            },
            "type": "mesh3d"
           }
          ],
          "parcoords": [
           {
            "line": {
             "colorbar": {
              "outlinewidth": 0,
              "ticks": ""
             }
            },
            "type": "parcoords"
           }
          ],
          "pie": [
           {
            "automargin": true,
            "type": "pie"
           }
          ],
          "scatter": [
           {
            "fillpattern": {
             "fillmode": "overlay",
             "size": 10,
             "solidity": 0.2
            },
            "type": "scatter"
           }
          ],
          "scatter3d": [
           {
            "line": {
             "colorbar": {
              "outlinewidth": 0,
              "ticks": ""
             }
            },
            "marker": {
             "colorbar": {
              "outlinewidth": 0,
              "ticks": ""
             }
            },
            "type": "scatter3d"
           }
          ],
          "scattercarpet": [
           {
            "marker": {
             "colorbar": {
              "outlinewidth": 0,
              "ticks": ""
             }
            },
            "type": "scattercarpet"
           }
          ],
          "scattergeo": [
           {
            "marker": {
             "colorbar": {
              "outlinewidth": 0,
              "ticks": ""
             }
            },
            "type": "scattergeo"
           }
          ],
          "scattergl": [
           {
            "marker": {
             "colorbar": {
              "outlinewidth": 0,
              "ticks": ""
             }
            },
            "type": "scattergl"
           }
          ],
          "scattermap": [
           {
            "marker": {
             "colorbar": {
              "outlinewidth": 0,
              "ticks": ""
             }
            },
            "type": "scattermap"
           }
          ],
          "scattermapbox": [
           {
            "marker": {
             "colorbar": {
              "outlinewidth": 0,
              "ticks": ""
             }
            },
            "type": "scattermapbox"
           }
          ],
          "scatterpolar": [
           {
            "marker": {
             "colorbar": {
              "outlinewidth": 0,
              "ticks": ""
             }
            },
            "type": "scatterpolar"
           }
          ],
          "scatterpolargl": [
           {
            "marker": {
             "colorbar": {
              "outlinewidth": 0,
              "ticks": ""
             }
            },
            "type": "scatterpolargl"
           }
          ],
          "scatterternary": [
           {
            "marker": {
             "colorbar": {
              "outlinewidth": 0,
              "ticks": ""
             }
            },
            "type": "scatterternary"
           }
          ],
          "surface": [
           {
            "colorbar": {
             "outlinewidth": 0,
             "ticks": ""
            },
            "colorscale": [
             [
              0,
              "#0d0887"
             ],
             [
              0.1111111111111111,
              "#46039f"
             ],
             [
              0.2222222222222222,
              "#7201a8"
             ],
             [
              0.3333333333333333,
              "#9c179e"
             ],
             [
              0.4444444444444444,
              "#bd3786"
             ],
             [
              0.5555555555555556,
              "#d8576b"
             ],
             [
              0.6666666666666666,
              "#ed7953"
             ],
             [
              0.7777777777777778,
              "#fb9f3a"
             ],
             [
              0.8888888888888888,
              "#fdca26"
             ],
             [
              1,
              "#f0f921"
             ]
            ],
            "type": "surface"
           }
          ],
          "table": [
           {
            "cells": {
             "fill": {
              "color": "#EBF0F8"
             },
             "line": {
              "color": "white"
             }
            },
            "header": {
             "fill": {
              "color": "#C8D4E3"
             },
             "line": {
              "color": "white"
             }
            },
            "type": "table"
           }
          ]
         },
         "layout": {
          "annotationdefaults": {
           "arrowcolor": "#2a3f5f",
           "arrowhead": 0,
           "arrowwidth": 1
          },
          "autotypenumbers": "strict",
          "coloraxis": {
           "colorbar": {
            "outlinewidth": 0,
            "ticks": ""
           }
          },
          "colorscale": {
           "diverging": [
            [
             0,
             "#8e0152"
            ],
            [
             0.1,
             "#c51b7d"
            ],
            [
             0.2,
             "#de77ae"
            ],
            [
             0.3,
             "#f1b6da"
            ],
            [
             0.4,
             "#fde0ef"
            ],
            [
             0.5,
             "#f7f7f7"
            ],
            [
             0.6,
             "#e6f5d0"
            ],
            [
             0.7,
             "#b8e186"
            ],
            [
             0.8,
             "#7fbc41"
            ],
            [
             0.9,
             "#4d9221"
            ],
            [
             1,
             "#276419"
            ]
           ],
           "sequential": [
            [
             0,
             "#0d0887"
            ],
            [
             0.1111111111111111,
             "#46039f"
            ],
            [
             0.2222222222222222,
             "#7201a8"
            ],
            [
             0.3333333333333333,
             "#9c179e"
            ],
            [
             0.4444444444444444,
             "#bd3786"
            ],
            [
             0.5555555555555556,
             "#d8576b"
            ],
            [
             0.6666666666666666,
             "#ed7953"
            ],
            [
             0.7777777777777778,
             "#fb9f3a"
            ],
            [
             0.8888888888888888,
             "#fdca26"
            ],
            [
             1,
             "#f0f921"
            ]
           ],
           "sequentialminus": [
            [
             0,
             "#0d0887"
            ],
            [
             0.1111111111111111,
             "#46039f"
            ],
            [
             0.2222222222222222,
             "#7201a8"
            ],
            [
             0.3333333333333333,
             "#9c179e"
            ],
            [
             0.4444444444444444,
             "#bd3786"
            ],
            [
             0.5555555555555556,
             "#d8576b"
            ],
            [
             0.6666666666666666,
             "#ed7953"
            ],
            [
             0.7777777777777778,
             "#fb9f3a"
            ],
            [
             0.8888888888888888,
             "#fdca26"
            ],
            [
             1,
             "#f0f921"
            ]
           ]
          },
          "colorway": [
           "#636efa",
           "#EF553B",
           "#00cc96",
           "#ab63fa",
           "#FFA15A",
           "#19d3f3",
           "#FF6692",
           "#B6E880",
           "#FF97FF",
           "#FECB52"
          ],
          "font": {
           "color": "#2a3f5f"
          },
          "geo": {
           "bgcolor": "white",
           "lakecolor": "white",
           "landcolor": "#E5ECF6",
           "showlakes": true,
           "showland": true,
           "subunitcolor": "white"
          },
          "hoverlabel": {
           "align": "left"
          },
          "hovermode": "closest",
          "mapbox": {
           "style": "light"
          },
          "paper_bgcolor": "white",
          "plot_bgcolor": "#E5ECF6",
          "polar": {
           "angularaxis": {
            "gridcolor": "white",
            "linecolor": "white",
            "ticks": ""
           },
           "bgcolor": "#E5ECF6",
           "radialaxis": {
            "gridcolor": "white",
            "linecolor": "white",
            "ticks": ""
           }
          },
          "scene": {
           "xaxis": {
            "backgroundcolor": "#E5ECF6",
            "gridcolor": "white",
            "gridwidth": 2,
            "linecolor": "white",
            "showbackground": true,
            "ticks": "",
            "zerolinecolor": "white"
           },
           "yaxis": {
            "backgroundcolor": "#E5ECF6",
            "gridcolor": "white",
            "gridwidth": 2,
            "linecolor": "white",
            "showbackground": true,
            "ticks": "",
            "zerolinecolor": "white"
           },
           "zaxis": {
            "backgroundcolor": "#E5ECF6",
            "gridcolor": "white",
            "gridwidth": 2,
            "linecolor": "white",
            "showbackground": true,
            "ticks": "",
            "zerolinecolor": "white"
           }
          },
          "shapedefaults": {
           "line": {
            "color": "#2a3f5f"
           }
          },
          "ternary": {
           "aaxis": {
            "gridcolor": "white",
            "linecolor": "white",
            "ticks": ""
           },
           "baxis": {
            "gridcolor": "white",
            "linecolor": "white",
            "ticks": ""
           },
           "bgcolor": "#E5ECF6",
           "caxis": {
            "gridcolor": "white",
            "linecolor": "white",
            "ticks": ""
           }
          },
          "title": {
           "x": 0.05
          },
          "xaxis": {
           "automargin": true,
           "gridcolor": "white",
           "linecolor": "white",
           "ticks": "",
           "title": {
            "standoff": 15
           },
           "zerolinecolor": "white",
           "zerolinewidth": 2
          },
          "yaxis": {
           "automargin": true,
           "gridcolor": "white",
           "linecolor": "white",
           "ticks": "",
           "title": {
            "standoff": 15
           },
           "zerolinecolor": "white",
           "zerolinewidth": 2
          }
         }
        },
        "title": {
         "text": "Datos faltantes"
        },
        "width": 1000
       }
      }
     },
     "metadata": {},
     "output_type": "display_data"
    }
   ],
   "source": [
    "fig = go.Figure()\n",
    "data_heatmap = df.isna().astype(int)\n",
    "fig.add_trace(\n",
    "    go.Heatmap(\n",
    "       z = data_heatmap,\n",
    "       x = data_heatmap.columns,\n",
    "       y = data_heatmap.index,\n",
    "       colorbar=dict(title=\"Faltante (1 = Sí, 0 = No)\"),\n",
    "       colorscale = \"oranges\"\n",
    "    )\n",
    ")\n",
    "\n",
    "fig.update_layout(\n",
    "    title = \"Datos faltantes\",\n",
    "    height = 600,\n",
    "    width = 1000\n",
    ")\n",
    "\n",
    "fig.show()"
   ]
  },
  {
   "cell_type": "markdown",
   "id": "3710976f",
   "metadata": {},
   "source": [
    "##### Explicación del Análisis de Datos Faltantes\n",
    "\n",
    "**Resultados obtenidos:**\n",
    "El análisis revela la presencia de valores ausentes en el dataset de entrenamiento.\n",
    "\n",
    "**Datos Faltantes por Columna:**\n",
    "- **Age:** 177 valores faltantes (19.87%)\n",
    "- **Cabin:** 687 valores faltantes (77.10%)\n",
    "- **Embarked:** 2 valores faltantes (0.22%)\n",
    "\n",
    "**Interpretación del Heatmap:**\n",
    "- **Puntos negros:** Representan valores faltantes\n",
    "- **Patrón:** Se observa que Cabin tiene la mayor cantidad de datos faltantes\n",
    "- **Age:** Muestra un patrón aleatorio de valores faltantes\n",
    "- **Embarked:** Muy pocos valores faltantes\n",
    "\n",
    "**Estrategia de Imputación:**\n",
    "- **Cabin:** Alto porcentaje sugiere eliminación o creación de nueva variable\n",
    "- **Age:** Requiere imputación (media, mediana o modelo predictivo)\n",
    "- **Embarked:** Fácil imputación con la moda"
   ]
  },
  {
   "cell_type": "markdown",
   "id": "213d0ed5",
   "metadata": {},
   "source": [
    "#### LIMPIEZA Y PREPROCESAMIENTO"
   ]
  },
  {
   "cell_type": "markdown",
   "id": "9ed3fb02",
   "metadata": {},
   "source": [
    "##### Imputación de Datos Faltantes"
   ]
  },
  {
   "cell_type": "code",
   "execution_count": 447,
   "id": "ed87138e",
   "metadata": {},
   "outputs": [
    {
     "name": "stdout",
     "output_type": "stream",
     "text": [
      "=== IMPUTACIÓN DE DATOS FALTANTES ===\n",
      "Imputando Age con mediana por Sex y Pclass...\n",
      "Imputando Embarked con moda...\n",
      "Creando variable Deck a partir de Cabin...\n",
      "\n",
      "Datos faltantes después de la limpieza:\n",
      "PassengerId    0\n",
      "Survived       0\n",
      "Pclass         0\n",
      "Sex            0\n",
      "Age            0\n",
      "SibSp          0\n",
      "Parch          0\n",
      "Fare           0\n",
      "Embarked       0\n",
      "Deck           0\n",
      "dtype: int64\n",
      "\n",
      "Forma del dataset limpio: (891, 10)\n"
     ]
    }
   ],
   "source": [
    "# Aplicar técnicas de imputación para los datos faltantes\n",
    "print(\"=== IMPUTACIÓN DE DATOS FALTANTES ===\")\n",
    "\n",
    "# Crear copia para no modificar el original\n",
    "df_clean = df.copy()\n",
    "\n",
    "# Imputar Age con mediana por Sex y Pclass\n",
    "print(\"Imputando Age con mediana por Sex y Pclass...\")\n",
    "df_clean['Age'] = df_clean.groupby(['Sex', 'Pclass'])['Age'].transform(\n",
    "    lambda x: x.fillna(x.median())\n",
    ")\n",
    "\n",
    "# Imputar Embarked con moda\n",
    "print(\"Imputando Embarked con moda...\")\n",
    "df_clean['Embarked'] = df_clean['Embarked'].fillna(df_clean['Embarked'].mode()[0])\n",
    "\n",
    "# Crear variable Deck y eliminar Cabin\n",
    "print(\"Creando variable Deck a partir de Cabin...\")\n",
    "df_clean['Deck'] = df_clean['Cabin'].astype(str).str[0]\n",
    "\n",
    "# Eliminar columnas no útiles\n",
    "columns_to_drop = ['Cabin', 'Name', 'Ticket']\n",
    "df_clean = df_clean.drop(columns_to_drop, axis=1)\n",
    "\n",
    "# Verificar que no hay datos faltantes\n",
    "print(\"\\nDatos faltantes después de la limpieza:\")\n",
    "print(df_clean.isnull().sum())\n",
    "\n",
    "print(f\"\\nForma del dataset limpio: {df_clean.shape}\")"
   ]
  },
  {
   "cell_type": "markdown",
   "id": "08ade3e5",
   "metadata": {},
   "source": [
    "##### Explicación de la Imputación de Datos Faltantes\n",
    "\n",
    "**Proceso de Imputación:**\n",
    "- **Age:** Se imputaron los valores faltantes utilizando la mediana, segmentando por `Sex` y `Pclass`. Esta es una buena estrategia ya que la edad puede variar significativamente entre géneros y clases de pasajeros.\n",
    "- **Embarked:** Los valores faltantes se imputaron con la moda, es decir, el valor más frecuente. Esto es común para variables categóricas con pocos valores faltantes.\n",
    "- **Deck:** Se creó una nueva variable `Deck` extrayendo la primera letra de la columna `Cabin`. Esto es útil para categorizar las cabinas y puede ser un predictor relevante.\n",
    "\n",
    "**Resultados después de la limpieza:**\n",
    "- La tabla muestra que, después de aplicar las técnicas de imputación, todas las columnas (`PassengerId`, `Survived`, `Pclass`, `Sex`, `Age`, `SibSp`, `Parch`, `Fare`, `Embarked`, `Deck`) tienen **0 datos faltantes**. Esto indica que el proceso de limpieza fue exitoso y el dataset está listo para el siguiente paso de análisis.\n",
    "- El tipo de dato (`dtype`) para el conteo de faltantes es `int64`.\n",
    "- La forma final del dataset limpio es `(891, 10)`, lo que significa que ahora tiene 891 filas y 10 columnas."
   ]
  },
  {
   "cell_type": "markdown",
   "id": "d7629f1f",
   "metadata": {},
   "source": [
    "##### Transformación de Datos Categóricos"
   ]
  },
  {
   "cell_type": "code",
   "execution_count": 448,
   "id": "5a7103fb",
   "metadata": {},
   "outputs": [
    {
     "name": "stdout",
     "output_type": "stream",
     "text": [
      "=== TRANSFORMACIÓN DE DATOS CATEGÓRICOS ===\n",
      "Variables categóricas convertidas:\n",
      "Sex: ['female' 'male'] -> range(0, 2)\n",
      "Embarked: ['C' 'Q' 'S'] -> range(0, 3)\n",
      "Deck: ['A' 'B' 'C' 'D' 'E' 'F' 'G' 'T' 'n'] -> range(0, 9)\n",
      "\n",
      "Tipos de datos finales:\n",
      "PassengerId      int64\n",
      "Survived         int64\n",
      "Pclass           int64\n",
      "Sex              int64\n",
      "Age            float64\n",
      "SibSp            int64\n",
      "Parch            int64\n",
      "Fare           float64\n",
      "Embarked         int64\n",
      "Deck             int64\n",
      "dtype: object\n",
      "\n",
      "Primeras filas del dataset procesado:\n",
      "   PassengerId  Survived  Pclass  Sex   Age  SibSp  Parch     Fare  Embarked  \\\n",
      "0            1         0       3    1  22.0      1      0   7.2500         2   \n",
      "1            2         1       1    0  38.0      1      0  71.2833         0   \n",
      "2            3         1       3    0  26.0      0      0   7.9250         2   \n",
      "3            4         1       1    0  35.0      1      0  53.1000         2   \n",
      "4            5         0       3    1  35.0      0      0   8.0500         2   \n",
      "\n",
      "   Deck  \n",
      "0     8  \n",
      "1     2  \n",
      "2     8  \n",
      "3     2  \n",
      "4     8  \n"
     ]
    }
   ],
   "source": [
    "# Convertir datos categóricos en numéricos\n",
    "print(\"=== TRANSFORMACIÓN DE DATOS CATEGÓRICOS ===\")\n",
    "\n",
    "# Crear copia para transformaciones\n",
    "df_encoded = df_clean.copy()\n",
    "\n",
    "# Aplicar Label Encoding a variables categóricas\n",
    "le_sex = LabelEncoder()\n",
    "le_embarked = LabelEncoder()\n",
    "le_deck = LabelEncoder()\n",
    "\n",
    "df_encoded['Sex'] = le_sex.fit_transform(df_encoded['Sex'])\n",
    "df_encoded['Embarked'] = le_embarked.fit_transform(df_encoded['Embarked'])\n",
    "df_encoded['Deck'] = le_deck.fit_transform(df_encoded['Deck'])\n",
    "\n",
    "print(\"Variables categóricas convertidas:\")\n",
    "print(f\"Sex: {le_sex.classes_} -> {range(len(le_sex.classes_))}\")\n",
    "print(f\"Embarked: {le_embarked.classes_} -> {range(len(le_embarked.classes_))}\")\n",
    "print(f\"Deck: {le_deck.classes_} -> {range(len(le_deck.classes_))}\")\n",
    "\n",
    "# Verificar tipos de datos\n",
    "print(\"\\nTipos de datos finales:\")\n",
    "print(df_encoded.dtypes)\n",
    "\n",
    "# Mostrar las primeras filas del dataset procesado\n",
    "print(\"\\nPrimeras filas del dataset procesado:\")\n",
    "print(df_encoded.head())"
   ]
  },
  {
   "cell_type": "markdown",
   "id": "caeaf576",
   "metadata": {},
   "source": [
    "##### Explicación de la Transformación de Datos Categóricos\n",
    "\n",
    "**Resultados obtenidos:**\n",
    "\n",
    "**Transformación de Variables Categóricas:**\n",
    "- **Sex:** ['female' 'male'] → range(0, 2)\n",
    "- **Embarked:** ['C' 'Q' 'S'] → range(0, 3)  \n",
    "- **Deck:** ['A' 'B' 'C' 'D' 'E' 'F' 'G' 'T' 'Unknown'] → range(0, 9)\n",
    "\n",
    "**Tipos de Datos Finales:**\n",
    "- **int64:** PassengerId, Survived, Pclass, Sex, SibSp, Parch, Embarked, Deck\n",
    "- **float64:** Age, Fare\n",
    "\n",
    "**Primeras Filas del Dataset:**\n",
    "- Las variables categóricas ahora contienen valores numéricos\n",
    "- Sex: 0=female, 1=male\n",
    "- Embarked: 0=C, 1=Q, 2=S\n",
    "- Deck: Valores del 0-8 según la categoría\n",
    "\n",
    "**Conclusión:**\n",
    "El Label Encoding convirtió exitosamente las variables categóricas a formato numérico, preparando el dataset para algoritmos de machine learning."
   ]
  },
  {
   "cell_type": "markdown",
   "id": "75269711",
   "metadata": {},
   "source": [
    "#### CLASIFICACIÓN"
   ]
  },
  {
   "cell_type": "markdown",
   "id": "d84d997d",
   "metadata": {},
   "source": [
    "##### Preparación de Datos para Clasificación"
   ]
  },
  {
   "cell_type": "code",
   "execution_count": 449,
   "id": "fc776c81",
   "metadata": {},
   "outputs": [
    {
     "name": "stdout",
     "output_type": "stream",
     "text": [
      "=== PREPARACIÓN PARA CLASIFICACIÓN ===\n",
      "Forma de los datos:\n",
      "X: (891, 9)\n",
      "y: (891,)\n",
      "Datos preparados para clasificación\n"
     ]
    }
   ],
   "source": [
    "# Preparar datos para clasificación\n",
    "print(\"=== PREPARACIÓN PARA CLASIFICACIÓN ===\")\n",
    "\n",
    "# Separar features y target\n",
    "X = df_encoded.drop(['Survived'], axis=1)\n",
    "y = df_encoded['Survived']\n",
    "\n",
    "print(\"Forma de los datos:\")\n",
    "print(f\"X: {X.shape}\")\n",
    "print(f\"y: {y.shape}\")\n",
    "\n",
    "# Estandarizar variables numéricas\n",
    "scaler = StandardScaler()\n",
    "numeric_features = ['Age', 'Fare', 'SibSp', 'Parch']\n",
    "X[numeric_features] = scaler.fit_transform(X[numeric_features])\n",
    "\n",
    "print(\"Datos preparados para clasificación\")"
   ]
  },
  {
   "cell_type": "markdown",
   "id": "9a8ced35",
   "metadata": {},
   "source": [
    "##### Explicación de la Preparación para Clasificación\n",
    "\n",
    "**Resultados obtenidos:**\n",
    "- **X: (891, 9)** - Características de entrada\n",
    "- **y: (891,)** - Variable objetivo\n",
    "\n",
    "**Proceso realizado:**\n",
    "1. **Separación de datos:** Se separaron las características (X) de la variable objetivo (y)\n",
    "2. **Estandarización:** Se aplicó StandardScaler a las variables numéricas:\n",
    "   - Age, Fare, SibSp, Parch\n",
    "   - Esto normaliza los datos a media=0 y desviación=1\n",
    "\n",
    "**Beneficios de la estandarización:**\n",
    "- Mejora la convergencia de algoritmos como SVM y Regresión Logística\n",
    "- Evita que variables con mayor escala dominen el modelo\n",
    "- Prepara los datos para algoritmos sensibles a la escala\n",
    "\n",
    "**Conclusión:**\n",
    "Los datos están listos para el entrenamiento de modelos de clasificación con características balanceadas y estandarizadas."
   ]
  },
  {
   "cell_type": "markdown",
   "id": "f9847866",
   "metadata": {},
   "source": [
    "##### Selección de Clasificadores"
   ]
  },
  {
   "cell_type": "code",
   "execution_count": 450,
   "id": "b7ea5ee3",
   "metadata": {},
   "outputs": [
    {
     "name": "stdout",
     "output_type": "stream",
     "text": [
      "=== SELECCIÓN DE CLASIFICADORES ===\n",
      "Algoritmos seleccionados:\n",
      "1. Random Forest: Maneja bien datos no lineales y categóricos\n",
      "2. SVM: Efectivo para problemas de clasificación binaria\n",
      "3. Logistic Regression: Baseline y interpretable\n"
     ]
    }
   ],
   "source": [
    "# Selección de algoritmos de clasificación\n",
    "print(\"=== SELECCIÓN DE CLASIFICADORES ===\")\n",
    "\n",
    "print(\"Algoritmos seleccionados:\")\n",
    "print(\"1. Random Forest: Maneja bien datos no lineales y categóricos\")\n",
    "print(\"2. SVM: Efectivo para problemas de clasificación binaria\")\n",
    "print(\"3. Logistic Regression: Baseline y interpretable\")\n",
    "\n",
    "# Definir clasificadores con parámetros mejorados\n",
    "classifiers = {\n",
    "    'Random Forest': RandomForestClassifier(n_estimators=100, random_state=42),\n",
    "    'SVM': SVC(probability=True, random_state=42),\n",
    "    'Logistic Regression': LogisticRegression(random_state=42, max_iter=1000, solver='liblinear')\n",
    "}\n",
    "\n",
    "hiperparams = {\n",
    "    'Random Forest': {'bootstrap': [True, False], 'max_depth': [10, 20, 30, 40, 50, 60, 70, 80, 90, 100, None], 'max_features': ['auto', 'sqrt'], 'min_samples_leaf': [1, 2, 4], 'min_samples_split': [2, 5, 10], 'n_estimators': [200, 400, 600, 800, 1000, 1200, 1400, 1600, 1800, 2000]},\n",
    "    'SVM': {'C': [0.1, 1, 10, 100, 1000], 'gamma': [1, 0.1, 0.01, 0.001, 0.0001], 'kernel': ['rbf', 'linear']},\n",
    "    'Logistic Regression': {'C': [0.001, 0.01, 0.1, 1, 10, 100, 1000], 'solver': ['liblinear', 'lbfgs']}\n",
    "}"
   ]
  },
  {
   "cell_type": "code",
   "execution_count": 451,
   "id": "4ee806f4",
   "metadata": {},
   "outputs": [
    {
     "ename": "KeyboardInterrupt",
     "evalue": "",
     "output_type": "error",
     "traceback": [
      "\u001b[0;31m---------------------------------------------------------------------------\u001b[0m",
      "\u001b[0;31mKeyboardInterrupt\u001b[0m                         Traceback (most recent call last)",
      "Cell \u001b[0;32mIn[451], line 5\u001b[0m\n\u001b[1;32m      3\u001b[0m \u001b[38;5;28;01mfor\u001b[39;00m name, model \u001b[38;5;129;01min\u001b[39;00m classifiers\u001b[38;5;241m.\u001b[39mitems():\n\u001b[1;32m      4\u001b[0m     grid_search \u001b[38;5;241m=\u001b[39m GridSearchCV(estimator\u001b[38;5;241m=\u001b[39mmodel, param_grid\u001b[38;5;241m=\u001b[39mhiperparams[name], scoring\u001b[38;5;241m=\u001b[39m\u001b[38;5;124m'\u001b[39m\u001b[38;5;124maccuracy\u001b[39m\u001b[38;5;124m'\u001b[39m, cv\u001b[38;5;241m=\u001b[39m\u001b[38;5;241m5\u001b[39m, n_jobs\u001b[38;5;241m=\u001b[39m\u001b[38;5;241m-\u001b[39m\u001b[38;5;241m1\u001b[39m)\n\u001b[0;32m----> 5\u001b[0m     \u001b[43mgrid_search\u001b[49m\u001b[38;5;241;43m.\u001b[39;49m\u001b[43mfit\u001b[49m\u001b[43m(\u001b[49m\u001b[43mX\u001b[49m\u001b[43m,\u001b[49m\u001b[43m \u001b[49m\u001b[43my\u001b[49m\u001b[43m)\u001b[49m\n\u001b[1;32m      6\u001b[0m     best_overall[name] \u001b[38;5;241m=\u001b[39m grid_search\u001b[38;5;241m.\u001b[39mbest_estimator_\n\u001b[1;32m      7\u001b[0m     \u001b[38;5;28mprint\u001b[39m(\u001b[38;5;124mf\u001b[39m\u001b[38;5;124m\"\u001b[39m\u001b[38;5;124mMejores hiperparámetros para \u001b[39m\u001b[38;5;132;01m{\u001b[39;00mname\u001b[38;5;132;01m}\u001b[39;00m\u001b[38;5;124m: \u001b[39m\u001b[38;5;132;01m{\u001b[39;00mgrid_search\u001b[38;5;241m.\u001b[39mbest_params_\u001b[38;5;132;01m}\u001b[39;00m\u001b[38;5;124m\"\u001b[39m)\n",
      "File \u001b[0;32m/opt/homebrew/lib/python3.13/site-packages/sklearn/base.py:1389\u001b[0m, in \u001b[0;36m_fit_context.<locals>.decorator.<locals>.wrapper\u001b[0;34m(estimator, *args, **kwargs)\u001b[0m\n\u001b[1;32m   1382\u001b[0m     estimator\u001b[38;5;241m.\u001b[39m_validate_params()\n\u001b[1;32m   1384\u001b[0m \u001b[38;5;28;01mwith\u001b[39;00m config_context(\n\u001b[1;32m   1385\u001b[0m     skip_parameter_validation\u001b[38;5;241m=\u001b[39m(\n\u001b[1;32m   1386\u001b[0m         prefer_skip_nested_validation \u001b[38;5;129;01mor\u001b[39;00m global_skip_validation\n\u001b[1;32m   1387\u001b[0m     )\n\u001b[1;32m   1388\u001b[0m ):\n\u001b[0;32m-> 1389\u001b[0m     \u001b[38;5;28;01mreturn\u001b[39;00m \u001b[43mfit_method\u001b[49m\u001b[43m(\u001b[49m\u001b[43mestimator\u001b[49m\u001b[43m,\u001b[49m\u001b[43m \u001b[49m\u001b[38;5;241;43m*\u001b[39;49m\u001b[43margs\u001b[49m\u001b[43m,\u001b[49m\u001b[43m \u001b[49m\u001b[38;5;241;43m*\u001b[39;49m\u001b[38;5;241;43m*\u001b[39;49m\u001b[43mkwargs\u001b[49m\u001b[43m)\u001b[49m\n",
      "File \u001b[0;32m/opt/homebrew/lib/python3.13/site-packages/sklearn/model_selection/_search.py:1024\u001b[0m, in \u001b[0;36mBaseSearchCV.fit\u001b[0;34m(self, X, y, **params)\u001b[0m\n\u001b[1;32m   1018\u001b[0m     results \u001b[38;5;241m=\u001b[39m \u001b[38;5;28mself\u001b[39m\u001b[38;5;241m.\u001b[39m_format_results(\n\u001b[1;32m   1019\u001b[0m         all_candidate_params, n_splits, all_out, all_more_results\n\u001b[1;32m   1020\u001b[0m     )\n\u001b[1;32m   1022\u001b[0m     \u001b[38;5;28;01mreturn\u001b[39;00m results\n\u001b[0;32m-> 1024\u001b[0m \u001b[38;5;28;43mself\u001b[39;49m\u001b[38;5;241;43m.\u001b[39;49m\u001b[43m_run_search\u001b[49m\u001b[43m(\u001b[49m\u001b[43mevaluate_candidates\u001b[49m\u001b[43m)\u001b[49m\n\u001b[1;32m   1026\u001b[0m \u001b[38;5;66;03m# multimetric is determined here because in the case of a callable\u001b[39;00m\n\u001b[1;32m   1027\u001b[0m \u001b[38;5;66;03m# self.scoring the return type is only known after calling\u001b[39;00m\n\u001b[1;32m   1028\u001b[0m first_test_score \u001b[38;5;241m=\u001b[39m all_out[\u001b[38;5;241m0\u001b[39m][\u001b[38;5;124m\"\u001b[39m\u001b[38;5;124mtest_scores\u001b[39m\u001b[38;5;124m\"\u001b[39m]\n",
      "File \u001b[0;32m/opt/homebrew/lib/python3.13/site-packages/sklearn/model_selection/_search.py:1571\u001b[0m, in \u001b[0;36mGridSearchCV._run_search\u001b[0;34m(self, evaluate_candidates)\u001b[0m\n\u001b[1;32m   1569\u001b[0m \u001b[38;5;28;01mdef\u001b[39;00m \u001b[38;5;21m_run_search\u001b[39m(\u001b[38;5;28mself\u001b[39m, evaluate_candidates):\n\u001b[1;32m   1570\u001b[0m \u001b[38;5;250m    \u001b[39m\u001b[38;5;124;03m\"\"\"Search all candidates in param_grid\"\"\"\u001b[39;00m\n\u001b[0;32m-> 1571\u001b[0m     \u001b[43mevaluate_candidates\u001b[49m\u001b[43m(\u001b[49m\u001b[43mParameterGrid\u001b[49m\u001b[43m(\u001b[49m\u001b[38;5;28;43mself\u001b[39;49m\u001b[38;5;241;43m.\u001b[39;49m\u001b[43mparam_grid\u001b[49m\u001b[43m)\u001b[49m\u001b[43m)\u001b[49m\n",
      "File \u001b[0;32m/opt/homebrew/lib/python3.13/site-packages/sklearn/model_selection/_search.py:970\u001b[0m, in \u001b[0;36mBaseSearchCV.fit.<locals>.evaluate_candidates\u001b[0;34m(candidate_params, cv, more_results)\u001b[0m\n\u001b[1;32m    962\u001b[0m \u001b[38;5;28;01mif\u001b[39;00m \u001b[38;5;28mself\u001b[39m\u001b[38;5;241m.\u001b[39mverbose \u001b[38;5;241m>\u001b[39m \u001b[38;5;241m0\u001b[39m:\n\u001b[1;32m    963\u001b[0m     \u001b[38;5;28mprint\u001b[39m(\n\u001b[1;32m    964\u001b[0m         \u001b[38;5;124m\"\u001b[39m\u001b[38;5;124mFitting \u001b[39m\u001b[38;5;132;01m{0}\u001b[39;00m\u001b[38;5;124m folds for each of \u001b[39m\u001b[38;5;132;01m{1}\u001b[39;00m\u001b[38;5;124m candidates,\u001b[39m\u001b[38;5;124m\"\u001b[39m\n\u001b[1;32m    965\u001b[0m         \u001b[38;5;124m\"\u001b[39m\u001b[38;5;124m totalling \u001b[39m\u001b[38;5;132;01m{2}\u001b[39;00m\u001b[38;5;124m fits\u001b[39m\u001b[38;5;124m\"\u001b[39m\u001b[38;5;241m.\u001b[39mformat(\n\u001b[1;32m    966\u001b[0m             n_splits, n_candidates, n_candidates \u001b[38;5;241m*\u001b[39m n_splits\n\u001b[1;32m    967\u001b[0m         )\n\u001b[1;32m    968\u001b[0m     )\n\u001b[0;32m--> 970\u001b[0m out \u001b[38;5;241m=\u001b[39m \u001b[43mparallel\u001b[49m\u001b[43m(\u001b[49m\n\u001b[1;32m    971\u001b[0m \u001b[43m    \u001b[49m\u001b[43mdelayed\u001b[49m\u001b[43m(\u001b[49m\u001b[43m_fit_and_score\u001b[49m\u001b[43m)\u001b[49m\u001b[43m(\u001b[49m\n\u001b[1;32m    972\u001b[0m \u001b[43m        \u001b[49m\u001b[43mclone\u001b[49m\u001b[43m(\u001b[49m\u001b[43mbase_estimator\u001b[49m\u001b[43m)\u001b[49m\u001b[43m,\u001b[49m\n\u001b[1;32m    973\u001b[0m \u001b[43m        \u001b[49m\u001b[43mX\u001b[49m\u001b[43m,\u001b[49m\n\u001b[1;32m    974\u001b[0m \u001b[43m        \u001b[49m\u001b[43my\u001b[49m\u001b[43m,\u001b[49m\n\u001b[1;32m    975\u001b[0m \u001b[43m        \u001b[49m\u001b[43mtrain\u001b[49m\u001b[38;5;241;43m=\u001b[39;49m\u001b[43mtrain\u001b[49m\u001b[43m,\u001b[49m\n\u001b[1;32m    976\u001b[0m \u001b[43m        \u001b[49m\u001b[43mtest\u001b[49m\u001b[38;5;241;43m=\u001b[39;49m\u001b[43mtest\u001b[49m\u001b[43m,\u001b[49m\n\u001b[1;32m    977\u001b[0m \u001b[43m        \u001b[49m\u001b[43mparameters\u001b[49m\u001b[38;5;241;43m=\u001b[39;49m\u001b[43mparameters\u001b[49m\u001b[43m,\u001b[49m\n\u001b[1;32m    978\u001b[0m \u001b[43m        \u001b[49m\u001b[43msplit_progress\u001b[49m\u001b[38;5;241;43m=\u001b[39;49m\u001b[43m(\u001b[49m\u001b[43msplit_idx\u001b[49m\u001b[43m,\u001b[49m\u001b[43m \u001b[49m\u001b[43mn_splits\u001b[49m\u001b[43m)\u001b[49m\u001b[43m,\u001b[49m\n\u001b[1;32m    979\u001b[0m \u001b[43m        \u001b[49m\u001b[43mcandidate_progress\u001b[49m\u001b[38;5;241;43m=\u001b[39;49m\u001b[43m(\u001b[49m\u001b[43mcand_idx\u001b[49m\u001b[43m,\u001b[49m\u001b[43m \u001b[49m\u001b[43mn_candidates\u001b[49m\u001b[43m)\u001b[49m\u001b[43m,\u001b[49m\n\u001b[1;32m    980\u001b[0m \u001b[43m        \u001b[49m\u001b[38;5;241;43m*\u001b[39;49m\u001b[38;5;241;43m*\u001b[39;49m\u001b[43mfit_and_score_kwargs\u001b[49m\u001b[43m,\u001b[49m\n\u001b[1;32m    981\u001b[0m \u001b[43m    \u001b[49m\u001b[43m)\u001b[49m\n\u001b[1;32m    982\u001b[0m \u001b[43m    \u001b[49m\u001b[38;5;28;43;01mfor\u001b[39;49;00m\u001b[43m \u001b[49m\u001b[43m(\u001b[49m\u001b[43mcand_idx\u001b[49m\u001b[43m,\u001b[49m\u001b[43m \u001b[49m\u001b[43mparameters\u001b[49m\u001b[43m)\u001b[49m\u001b[43m,\u001b[49m\u001b[43m \u001b[49m\u001b[43m(\u001b[49m\u001b[43msplit_idx\u001b[49m\u001b[43m,\u001b[49m\u001b[43m \u001b[49m\u001b[43m(\u001b[49m\u001b[43mtrain\u001b[49m\u001b[43m,\u001b[49m\u001b[43m \u001b[49m\u001b[43mtest\u001b[49m\u001b[43m)\u001b[49m\u001b[43m)\u001b[49m\u001b[43m \u001b[49m\u001b[38;5;129;43;01min\u001b[39;49;00m\u001b[43m \u001b[49m\u001b[43mproduct\u001b[49m\u001b[43m(\u001b[49m\n\u001b[1;32m    983\u001b[0m \u001b[43m        \u001b[49m\u001b[38;5;28;43menumerate\u001b[39;49m\u001b[43m(\u001b[49m\u001b[43mcandidate_params\u001b[49m\u001b[43m)\u001b[49m\u001b[43m,\u001b[49m\n\u001b[1;32m    984\u001b[0m \u001b[43m        \u001b[49m\u001b[38;5;28;43menumerate\u001b[39;49m\u001b[43m(\u001b[49m\u001b[43mcv\u001b[49m\u001b[38;5;241;43m.\u001b[39;49m\u001b[43msplit\u001b[49m\u001b[43m(\u001b[49m\u001b[43mX\u001b[49m\u001b[43m,\u001b[49m\u001b[43m \u001b[49m\u001b[43my\u001b[49m\u001b[43m,\u001b[49m\u001b[43m \u001b[49m\u001b[38;5;241;43m*\u001b[39;49m\u001b[38;5;241;43m*\u001b[39;49m\u001b[43mrouted_params\u001b[49m\u001b[38;5;241;43m.\u001b[39;49m\u001b[43msplitter\u001b[49m\u001b[38;5;241;43m.\u001b[39;49m\u001b[43msplit\u001b[49m\u001b[43m)\u001b[49m\u001b[43m)\u001b[49m\u001b[43m,\u001b[49m\n\u001b[1;32m    985\u001b[0m \u001b[43m    \u001b[49m\u001b[43m)\u001b[49m\n\u001b[1;32m    986\u001b[0m \u001b[43m\u001b[49m\u001b[43m)\u001b[49m\n\u001b[1;32m    988\u001b[0m \u001b[38;5;28;01mif\u001b[39;00m \u001b[38;5;28mlen\u001b[39m(out) \u001b[38;5;241m<\u001b[39m \u001b[38;5;241m1\u001b[39m:\n\u001b[1;32m    989\u001b[0m     \u001b[38;5;28;01mraise\u001b[39;00m \u001b[38;5;167;01mValueError\u001b[39;00m(\n\u001b[1;32m    990\u001b[0m         \u001b[38;5;124m\"\u001b[39m\u001b[38;5;124mNo fits were performed. \u001b[39m\u001b[38;5;124m\"\u001b[39m\n\u001b[1;32m    991\u001b[0m         \u001b[38;5;124m\"\u001b[39m\u001b[38;5;124mWas the CV iterator empty? \u001b[39m\u001b[38;5;124m\"\u001b[39m\n\u001b[1;32m    992\u001b[0m         \u001b[38;5;124m\"\u001b[39m\u001b[38;5;124mWere there no candidates?\u001b[39m\u001b[38;5;124m\"\u001b[39m\n\u001b[1;32m    993\u001b[0m     )\n",
      "File \u001b[0;32m/opt/homebrew/lib/python3.13/site-packages/sklearn/utils/parallel.py:77\u001b[0m, in \u001b[0;36mParallel.__call__\u001b[0;34m(self, iterable)\u001b[0m\n\u001b[1;32m     72\u001b[0m config \u001b[38;5;241m=\u001b[39m get_config()\n\u001b[1;32m     73\u001b[0m iterable_with_config \u001b[38;5;241m=\u001b[39m (\n\u001b[1;32m     74\u001b[0m     (_with_config(delayed_func, config), args, kwargs)\n\u001b[1;32m     75\u001b[0m     \u001b[38;5;28;01mfor\u001b[39;00m delayed_func, args, kwargs \u001b[38;5;129;01min\u001b[39;00m iterable\n\u001b[1;32m     76\u001b[0m )\n\u001b[0;32m---> 77\u001b[0m \u001b[38;5;28;01mreturn\u001b[39;00m \u001b[38;5;28;43msuper\u001b[39;49m\u001b[43m(\u001b[49m\u001b[43m)\u001b[49m\u001b[38;5;241;43m.\u001b[39;49m\u001b[38;5;21;43m__call__\u001b[39;49m\u001b[43m(\u001b[49m\u001b[43miterable_with_config\u001b[49m\u001b[43m)\u001b[49m\n",
      "File \u001b[0;32m/opt/homebrew/lib/python3.13/site-packages/joblib/parallel.py:2007\u001b[0m, in \u001b[0;36mParallel.__call__\u001b[0;34m(self, iterable)\u001b[0m\n\u001b[1;32m   2001\u001b[0m \u001b[38;5;66;03m# The first item from the output is blank, but it makes the interpreter\u001b[39;00m\n\u001b[1;32m   2002\u001b[0m \u001b[38;5;66;03m# progress until it enters the Try/Except block of the generator and\u001b[39;00m\n\u001b[1;32m   2003\u001b[0m \u001b[38;5;66;03m# reaches the first `yield` statement. This starts the asynchronous\u001b[39;00m\n\u001b[1;32m   2004\u001b[0m \u001b[38;5;66;03m# dispatch of the tasks to the workers.\u001b[39;00m\n\u001b[1;32m   2005\u001b[0m \u001b[38;5;28mnext\u001b[39m(output)\n\u001b[0;32m-> 2007\u001b[0m \u001b[38;5;28;01mreturn\u001b[39;00m output \u001b[38;5;28;01mif\u001b[39;00m \u001b[38;5;28mself\u001b[39m\u001b[38;5;241m.\u001b[39mreturn_generator \u001b[38;5;28;01melse\u001b[39;00m \u001b[38;5;28;43mlist\u001b[39;49m\u001b[43m(\u001b[49m\u001b[43moutput\u001b[49m\u001b[43m)\u001b[49m\n",
      "File \u001b[0;32m/opt/homebrew/lib/python3.13/site-packages/joblib/parallel.py:1650\u001b[0m, in \u001b[0;36mParallel._get_outputs\u001b[0;34m(self, iterator, pre_dispatch)\u001b[0m\n\u001b[1;32m   1647\u001b[0m     \u001b[38;5;28;01myield\u001b[39;00m\n\u001b[1;32m   1649\u001b[0m     \u001b[38;5;28;01mwith\u001b[39;00m \u001b[38;5;28mself\u001b[39m\u001b[38;5;241m.\u001b[39m_backend\u001b[38;5;241m.\u001b[39mretrieval_context():\n\u001b[0;32m-> 1650\u001b[0m         \u001b[38;5;28;01myield from\u001b[39;00m \u001b[38;5;28mself\u001b[39m\u001b[38;5;241m.\u001b[39m_retrieve()\n\u001b[1;32m   1652\u001b[0m \u001b[38;5;28;01mexcept\u001b[39;00m \u001b[38;5;167;01mGeneratorExit\u001b[39;00m:\n\u001b[1;32m   1653\u001b[0m     \u001b[38;5;66;03m# The generator has been garbage collected before being fully\u001b[39;00m\n\u001b[1;32m   1654\u001b[0m     \u001b[38;5;66;03m# consumed. This aborts the remaining tasks if possible and warn\u001b[39;00m\n\u001b[1;32m   1655\u001b[0m     \u001b[38;5;66;03m# the user if necessary.\u001b[39;00m\n\u001b[1;32m   1656\u001b[0m     \u001b[38;5;28mself\u001b[39m\u001b[38;5;241m.\u001b[39m_exception \u001b[38;5;241m=\u001b[39m \u001b[38;5;28;01mTrue\u001b[39;00m\n",
      "File \u001b[0;32m/opt/homebrew/lib/python3.13/site-packages/joblib/parallel.py:1762\u001b[0m, in \u001b[0;36mParallel._retrieve\u001b[0;34m(self)\u001b[0m\n\u001b[1;32m   1757\u001b[0m \u001b[38;5;66;03m# If the next job is not ready for retrieval yet, we just wait for\u001b[39;00m\n\u001b[1;32m   1758\u001b[0m \u001b[38;5;66;03m# async callbacks to progress.\u001b[39;00m\n\u001b[1;32m   1759\u001b[0m \u001b[38;5;28;01mif\u001b[39;00m ((\u001b[38;5;28mlen\u001b[39m(\u001b[38;5;28mself\u001b[39m\u001b[38;5;241m.\u001b[39m_jobs) \u001b[38;5;241m==\u001b[39m \u001b[38;5;241m0\u001b[39m) \u001b[38;5;129;01mor\u001b[39;00m\n\u001b[1;32m   1760\u001b[0m     (\u001b[38;5;28mself\u001b[39m\u001b[38;5;241m.\u001b[39m_jobs[\u001b[38;5;241m0\u001b[39m]\u001b[38;5;241m.\u001b[39mget_status(\n\u001b[1;32m   1761\u001b[0m         timeout\u001b[38;5;241m=\u001b[39m\u001b[38;5;28mself\u001b[39m\u001b[38;5;241m.\u001b[39mtimeout) \u001b[38;5;241m==\u001b[39m TASK_PENDING)):\n\u001b[0;32m-> 1762\u001b[0m     \u001b[43mtime\u001b[49m\u001b[38;5;241;43m.\u001b[39;49m\u001b[43msleep\u001b[49m\u001b[43m(\u001b[49m\u001b[38;5;241;43m0.01\u001b[39;49m\u001b[43m)\u001b[49m\n\u001b[1;32m   1763\u001b[0m     \u001b[38;5;28;01mcontinue\u001b[39;00m\n\u001b[1;32m   1765\u001b[0m \u001b[38;5;66;03m# We need to be careful: the job list can be filling up as\u001b[39;00m\n\u001b[1;32m   1766\u001b[0m \u001b[38;5;66;03m# we empty it and Python list are not thread-safe by\u001b[39;00m\n\u001b[1;32m   1767\u001b[0m \u001b[38;5;66;03m# default hence the use of the lock\u001b[39;00m\n",
      "\u001b[0;31mKeyboardInterrupt\u001b[0m: "
     ]
    }
   ],
   "source": [
    "best_overall = {}\n",
    "\n",
    "for name, model in classifiers.items():\n",
    "    grid_search = GridSearchCV(estimator=model, param_grid=hiperparams[name], scoring='accuracy', cv=5, n_jobs=-1)\n",
    "    grid_search.fit(X, y)\n",
    "    best_overall[name] = grid_search.best_estimator_\n",
    "    print(f\"Mejores hiperparámetros para {name}: {grid_search.best_params_}\")\n",
    "    print(f\"Mejor score de validación cruzada para {name}: {grid_search.best_score_:.4f}\\n\")"
   ]
  },
  {
   "cell_type": "markdown",
   "id": "cc720e03",
   "metadata": {},
   "source": [
    "##### Explicación de la Selección de Clasificadores\n",
    "\n",
    "**Algoritmos seleccionados y justificación:**\n",
    "\n",
    "1. **Random Forest:**\n",
    "   - **Ventajas:** Maneja bien datos no lineales y categóricos\n",
    "   - **Parámetros:** 100 árboles, random_state=42 para reproducibilidad\n",
    "   - **Aplicación:** Ideal para datasets con múltiples tipos de variables\n",
    "\n",
    "2. **SVM (Support Vector Machine):**\n",
    "   - **Ventajas:** Efectivo para problemas de clasificación binaria\n",
    "   - **Parámetros:** probability=True para obtener probabilidades, random_state=42\n",
    "   - **Aplicación:** Bueno para encontrar el hiperplano óptimo de separación\n",
    "\n",
    "3. **Logistic Regression:**\n",
    "   - **Ventajas:** Baseline interpretable y estable\n",
    "   - **Parámetros:** max_iter=1000 para convergencia, solver='liblinear'\n",
    "   - **Aplicación:** Modelo de referencia y fácil interpretación\n",
    "\n",
    "**Configuración de parámetros:**\n",
    "- **random_state=42:** Garantiza resultados reproducibles\n",
    "- **probability=True:** Permite calcular probabilidades para métricas ROC\n",
    "- **max_iter=1000:** Evita warnings de convergencia"
   ]
  },
  {
   "cell_type": "markdown",
   "id": "aafab684",
   "metadata": {},
   "source": [
    "##### Cross-Validation y Entrenamiento"
   ]
  },
  {
   "cell_type": "code",
   "execution_count": 454,
   "id": "483bff76",
   "metadata": {},
   "outputs": [
    {
     "name": "stdout",
     "output_type": "stream",
     "text": [
      "=== CROSS-VALIDATION Y ENTRENAMIENTO ===\n",
      "Usando k=5 para cross-validation\n",
      "\n",
      "--- Random Forest ---\n",
      "CV Accuracy: 0.8271 (+/- 0.0388)\n",
      "Accuracy: 1.0000\n",
      "Precision: 1.0000\n",
      "AUC: 1.0000\n",
      "\n",
      "--- SVM ---\n",
      "CV Accuracy: 0.6162 (+/- 0.0046)\n",
      "Accuracy: 0.6162\n",
      "Precision: 0.0000\n",
      "AUC: 0.7908\n",
      "\n",
      "--- Logistic Regression ---\n",
      "CV Accuracy: 0.7935 (+/- 0.0351)\n",
      "Accuracy: 0.8047\n",
      "Precision: 0.7710\n",
      "AUC: 0.8585\n"
     ]
    }
   ],
   "source": [
    "# K-fold cross validation y entrenamiento\n",
    "print(\"=== CROSS-VALIDATION Y ENTRENAMIENTO ===\")\n",
    "\n",
    "# Configurar k-fold cross validation\n",
    "k_fold = StratifiedKFold(n_splits=5, shuffle=True, random_state=42)\n",
    "print(f\"Usando k={5} para cross-validation\")\n",
    "\n",
    "\n",
    "model_time = {}\n",
    "# Evaluar cada clasificador\n",
    "results = {}\n",
    "for name, clf in classifiers.items():\n",
    "    print(f\"\\n--- {name} ---\")\n",
    "    \n",
    "    # Cross validation\n",
    "    cv_scores = cross_val_score(clf, X, y, cv=k_fold, scoring='accuracy')\n",
    "    print(f\"CV Accuracy: {cv_scores.mean():.4f} (+/- {cv_scores.std() * 2:.4f})\")\n",
    "\n",
    "    start_time = time.time() \n",
    "    # Entrenar modelo final\n",
    "    clf.fit(X, y)\n",
    "    y_pred = clf.predict(X)\n",
    "    y_pred_proba = clf.predict_proba(X)[:, 1]\n",
    "    end_time = time.time()\n",
    "\n",
    "    model_time[name] = end_time - start_time\n",
    "    \n",
    "    # Métricas con zero_division=0 para evitar warnings\n",
    "    accuracy = accuracy_score(y, y_pred)\n",
    "    precision = precision_score(y, y_pred, zero_division=0)\n",
    "    auc = roc_auc_score(y, y_pred_proba)\n",
    "    \n",
    "    results[name] = {\n",
    "        'accuracy': accuracy,\n",
    "        'precision': precision,\n",
    "        'auc': auc,\n",
    "        'y_pred': y_pred,\n",
    "        'y_pred_proba': y_pred_proba\n",
    "    }\n",
    "    \n",
    "    print(f\"Accuracy: {accuracy:.4f}\")\n",
    "    print(f\"Precision: {precision:.4f}\")\n",
    "    print(f\"AUC: {auc:.4f}\")"
   ]
  },
  {
   "cell_type": "code",
   "execution_count": 456,
   "id": "bd26d787",
   "metadata": {},
   "outputs": [],
   "source": [
    "time_normal = pd.DataFrame(model_time, index=[\"Time (s)\"]).T "
   ]
  },
  {
   "cell_type": "code",
   "execution_count": 457,
   "id": "60109e81",
   "metadata": {},
   "outputs": [
    {
     "data": {
      "application/vnd.plotly.v1+json": {
       "config": {
        "plotlyServerURL": "https://plot.ly"
       },
       "data": [
        {
         "marker": {
          "color": [
           "steelblue",
           "tomato",
           "orange"
          ],
          "opacity": 0.8
         },
         "name": "Logistic Regression",
         "text": {
          "bdata": "iUFg5dAiyz9DrWnecYrGP3ZxGw3gLYA/",
          "dtype": "f8"
         },
         "textposition": "auto",
         "type": "bar",
         "x": [
          "Random Forest",
          "SVM",
          "Logistic Regression"
         ],
         "y": {
          "bdata": "AAAAAIwhyz8AAAAAzInGPwAAAAAgJ4A/",
          "dtype": "f8"
         }
        }
       ],
       "layout": {
        "template": {
         "data": {
          "bar": [
           {
            "error_x": {
             "color": "#2a3f5f"
            },
            "error_y": {
             "color": "#2a3f5f"
            },
            "marker": {
             "line": {
              "color": "#E5ECF6",
              "width": 0.5
             },
             "pattern": {
              "fillmode": "overlay",
              "size": 10,
              "solidity": 0.2
             }
            },
            "type": "bar"
           }
          ],
          "barpolar": [
           {
            "marker": {
             "line": {
              "color": "#E5ECF6",
              "width": 0.5
             },
             "pattern": {
              "fillmode": "overlay",
              "size": 10,
              "solidity": 0.2
             }
            },
            "type": "barpolar"
           }
          ],
          "carpet": [
           {
            "aaxis": {
             "endlinecolor": "#2a3f5f",
             "gridcolor": "white",
             "linecolor": "white",
             "minorgridcolor": "white",
             "startlinecolor": "#2a3f5f"
            },
            "baxis": {
             "endlinecolor": "#2a3f5f",
             "gridcolor": "white",
             "linecolor": "white",
             "minorgridcolor": "white",
             "startlinecolor": "#2a3f5f"
            },
            "type": "carpet"
           }
          ],
          "choropleth": [
           {
            "colorbar": {
             "outlinewidth": 0,
             "ticks": ""
            },
            "type": "choropleth"
           }
          ],
          "contour": [
           {
            "colorbar": {
             "outlinewidth": 0,
             "ticks": ""
            },
            "colorscale": [
             [
              0,
              "#0d0887"
             ],
             [
              0.1111111111111111,
              "#46039f"
             ],
             [
              0.2222222222222222,
              "#7201a8"
             ],
             [
              0.3333333333333333,
              "#9c179e"
             ],
             [
              0.4444444444444444,
              "#bd3786"
             ],
             [
              0.5555555555555556,
              "#d8576b"
             ],
             [
              0.6666666666666666,
              "#ed7953"
             ],
             [
              0.7777777777777778,
              "#fb9f3a"
             ],
             [
              0.8888888888888888,
              "#fdca26"
             ],
             [
              1,
              "#f0f921"
             ]
            ],
            "type": "contour"
           }
          ],
          "contourcarpet": [
           {
            "colorbar": {
             "outlinewidth": 0,
             "ticks": ""
            },
            "type": "contourcarpet"
           }
          ],
          "heatmap": [
           {
            "colorbar": {
             "outlinewidth": 0,
             "ticks": ""
            },
            "colorscale": [
             [
              0,
              "#0d0887"
             ],
             [
              0.1111111111111111,
              "#46039f"
             ],
             [
              0.2222222222222222,
              "#7201a8"
             ],
             [
              0.3333333333333333,
              "#9c179e"
             ],
             [
              0.4444444444444444,
              "#bd3786"
             ],
             [
              0.5555555555555556,
              "#d8576b"
             ],
             [
              0.6666666666666666,
              "#ed7953"
             ],
             [
              0.7777777777777778,
              "#fb9f3a"
             ],
             [
              0.8888888888888888,
              "#fdca26"
             ],
             [
              1,
              "#f0f921"
             ]
            ],
            "type": "heatmap"
           }
          ],
          "histogram": [
           {
            "marker": {
             "pattern": {
              "fillmode": "overlay",
              "size": 10,
              "solidity": 0.2
             }
            },
            "type": "histogram"
           }
          ],
          "histogram2d": [
           {
            "colorbar": {
             "outlinewidth": 0,
             "ticks": ""
            },
            "colorscale": [
             [
              0,
              "#0d0887"
             ],
             [
              0.1111111111111111,
              "#46039f"
             ],
             [
              0.2222222222222222,
              "#7201a8"
             ],
             [
              0.3333333333333333,
              "#9c179e"
             ],
             [
              0.4444444444444444,
              "#bd3786"
             ],
             [
              0.5555555555555556,
              "#d8576b"
             ],
             [
              0.6666666666666666,
              "#ed7953"
             ],
             [
              0.7777777777777778,
              "#fb9f3a"
             ],
             [
              0.8888888888888888,
              "#fdca26"
             ],
             [
              1,
              "#f0f921"
             ]
            ],
            "type": "histogram2d"
           }
          ],
          "histogram2dcontour": [
           {
            "colorbar": {
             "outlinewidth": 0,
             "ticks": ""
            },
            "colorscale": [
             [
              0,
              "#0d0887"
             ],
             [
              0.1111111111111111,
              "#46039f"
             ],
             [
              0.2222222222222222,
              "#7201a8"
             ],
             [
              0.3333333333333333,
              "#9c179e"
             ],
             [
              0.4444444444444444,
              "#bd3786"
             ],
             [
              0.5555555555555556,
              "#d8576b"
             ],
             [
              0.6666666666666666,
              "#ed7953"
             ],
             [
              0.7777777777777778,
              "#fb9f3a"
             ],
             [
              0.8888888888888888,
              "#fdca26"
             ],
             [
              1,
              "#f0f921"
             ]
            ],
            "type": "histogram2dcontour"
           }
          ],
          "mesh3d": [
           {
            "colorbar": {
             "outlinewidth": 0,
             "ticks": ""
            },
            "type": "mesh3d"
           }
          ],
          "parcoords": [
           {
            "line": {
             "colorbar": {
              "outlinewidth": 0,
              "ticks": ""
             }
            },
            "type": "parcoords"
           }
          ],
          "pie": [
           {
            "automargin": true,
            "type": "pie"
           }
          ],
          "scatter": [
           {
            "fillpattern": {
             "fillmode": "overlay",
             "size": 10,
             "solidity": 0.2
            },
            "type": "scatter"
           }
          ],
          "scatter3d": [
           {
            "line": {
             "colorbar": {
              "outlinewidth": 0,
              "ticks": ""
             }
            },
            "marker": {
             "colorbar": {
              "outlinewidth": 0,
              "ticks": ""
             }
            },
            "type": "scatter3d"
           }
          ],
          "scattercarpet": [
           {
            "marker": {
             "colorbar": {
              "outlinewidth": 0,
              "ticks": ""
             }
            },
            "type": "scattercarpet"
           }
          ],
          "scattergeo": [
           {
            "marker": {
             "colorbar": {
              "outlinewidth": 0,
              "ticks": ""
             }
            },
            "type": "scattergeo"
           }
          ],
          "scattergl": [
           {
            "marker": {
             "colorbar": {
              "outlinewidth": 0,
              "ticks": ""
             }
            },
            "type": "scattergl"
           }
          ],
          "scattermap": [
           {
            "marker": {
             "colorbar": {
              "outlinewidth": 0,
              "ticks": ""
             }
            },
            "type": "scattermap"
           }
          ],
          "scattermapbox": [
           {
            "marker": {
             "colorbar": {
              "outlinewidth": 0,
              "ticks": ""
             }
            },
            "type": "scattermapbox"
           }
          ],
          "scatterpolar": [
           {
            "marker": {
             "colorbar": {
              "outlinewidth": 0,
              "ticks": ""
             }
            },
            "type": "scatterpolar"
           }
          ],
          "scatterpolargl": [
           {
            "marker": {
             "colorbar": {
              "outlinewidth": 0,
              "ticks": ""
             }
            },
            "type": "scatterpolargl"
           }
          ],
          "scatterternary": [
           {
            "marker": {
             "colorbar": {
              "outlinewidth": 0,
              "ticks": ""
             }
            },
            "type": "scatterternary"
           }
          ],
          "surface": [
           {
            "colorbar": {
             "outlinewidth": 0,
             "ticks": ""
            },
            "colorscale": [
             [
              0,
              "#0d0887"
             ],
             [
              0.1111111111111111,
              "#46039f"
             ],
             [
              0.2222222222222222,
              "#7201a8"
             ],
             [
              0.3333333333333333,
              "#9c179e"
             ],
             [
              0.4444444444444444,
              "#bd3786"
             ],
             [
              0.5555555555555556,
              "#d8576b"
             ],
             [
              0.6666666666666666,
              "#ed7953"
             ],
             [
              0.7777777777777778,
              "#fb9f3a"
             ],
             [
              0.8888888888888888,
              "#fdca26"
             ],
             [
              1,
              "#f0f921"
             ]
            ],
            "type": "surface"
           }
          ],
          "table": [
           {
            "cells": {
             "fill": {
              "color": "#EBF0F8"
             },
             "line": {
              "color": "white"
             }
            },
            "header": {
             "fill": {
              "color": "#C8D4E3"
             },
             "line": {
              "color": "white"
             }
            },
            "type": "table"
           }
          ]
         },
         "layout": {
          "annotationdefaults": {
           "arrowcolor": "#2a3f5f",
           "arrowhead": 0,
           "arrowwidth": 1
          },
          "autotypenumbers": "strict",
          "coloraxis": {
           "colorbar": {
            "outlinewidth": 0,
            "ticks": ""
           }
          },
          "colorscale": {
           "diverging": [
            [
             0,
             "#8e0152"
            ],
            [
             0.1,
             "#c51b7d"
            ],
            [
             0.2,
             "#de77ae"
            ],
            [
             0.3,
             "#f1b6da"
            ],
            [
             0.4,
             "#fde0ef"
            ],
            [
             0.5,
             "#f7f7f7"
            ],
            [
             0.6,
             "#e6f5d0"
            ],
            [
             0.7,
             "#b8e186"
            ],
            [
             0.8,
             "#7fbc41"
            ],
            [
             0.9,
             "#4d9221"
            ],
            [
             1,
             "#276419"
            ]
           ],
           "sequential": [
            [
             0,
             "#0d0887"
            ],
            [
             0.1111111111111111,
             "#46039f"
            ],
            [
             0.2222222222222222,
             "#7201a8"
            ],
            [
             0.3333333333333333,
             "#9c179e"
            ],
            [
             0.4444444444444444,
             "#bd3786"
            ],
            [
             0.5555555555555556,
             "#d8576b"
            ],
            [
             0.6666666666666666,
             "#ed7953"
            ],
            [
             0.7777777777777778,
             "#fb9f3a"
            ],
            [
             0.8888888888888888,
             "#fdca26"
            ],
            [
             1,
             "#f0f921"
            ]
           ],
           "sequentialminus": [
            [
             0,
             "#0d0887"
            ],
            [
             0.1111111111111111,
             "#46039f"
            ],
            [
             0.2222222222222222,
             "#7201a8"
            ],
            [
             0.3333333333333333,
             "#9c179e"
            ],
            [
             0.4444444444444444,
             "#bd3786"
            ],
            [
             0.5555555555555556,
             "#d8576b"
            ],
            [
             0.6666666666666666,
             "#ed7953"
            ],
            [
             0.7777777777777778,
             "#fb9f3a"
            ],
            [
             0.8888888888888888,
             "#fdca26"
            ],
            [
             1,
             "#f0f921"
            ]
           ]
          },
          "colorway": [
           "#636efa",
           "#EF553B",
           "#00cc96",
           "#ab63fa",
           "#FFA15A",
           "#19d3f3",
           "#FF6692",
           "#B6E880",
           "#FF97FF",
           "#FECB52"
          ],
          "font": {
           "color": "#2a3f5f"
          },
          "geo": {
           "bgcolor": "white",
           "lakecolor": "white",
           "landcolor": "#E5ECF6",
           "showlakes": true,
           "showland": true,
           "subunitcolor": "white"
          },
          "hoverlabel": {
           "align": "left"
          },
          "hovermode": "closest",
          "mapbox": {
           "style": "light"
          },
          "paper_bgcolor": "white",
          "plot_bgcolor": "#E5ECF6",
          "polar": {
           "angularaxis": {
            "gridcolor": "white",
            "linecolor": "white",
            "ticks": ""
           },
           "bgcolor": "#E5ECF6",
           "radialaxis": {
            "gridcolor": "white",
            "linecolor": "white",
            "ticks": ""
           }
          },
          "scene": {
           "xaxis": {
            "backgroundcolor": "#E5ECF6",
            "gridcolor": "white",
            "gridwidth": 2,
            "linecolor": "white",
            "showbackground": true,
            "ticks": "",
            "zerolinecolor": "white"
           },
           "yaxis": {
            "backgroundcolor": "#E5ECF6",
            "gridcolor": "white",
            "gridwidth": 2,
            "linecolor": "white",
            "showbackground": true,
            "ticks": "",
            "zerolinecolor": "white"
           },
           "zaxis": {
            "backgroundcolor": "#E5ECF6",
            "gridcolor": "white",
            "gridwidth": 2,
            "linecolor": "white",
            "showbackground": true,
            "ticks": "",
            "zerolinecolor": "white"
           }
          },
          "shapedefaults": {
           "line": {
            "color": "#2a3f5f"
           }
          },
          "ternary": {
           "aaxis": {
            "gridcolor": "white",
            "linecolor": "white",
            "ticks": ""
           },
           "baxis": {
            "gridcolor": "white",
            "linecolor": "white",
            "ticks": ""
           },
           "bgcolor": "#E5ECF6",
           "caxis": {
            "gridcolor": "white",
            "linecolor": "white",
            "ticks": ""
           }
          },
          "title": {
           "x": 0.05
          },
          "xaxis": {
           "automargin": true,
           "gridcolor": "white",
           "linecolor": "white",
           "ticks": "",
           "title": {
            "standoff": 15
           },
           "zerolinecolor": "white",
           "zerolinewidth": 2
          },
          "yaxis": {
           "automargin": true,
           "gridcolor": "white",
           "linecolor": "white",
           "ticks": "",
           "title": {
            "standoff": 15
           },
           "zerolinecolor": "white",
           "zerolinewidth": 2
          }
         }
        },
        "title": {
         "text": "Tiempo de entrenamiento de cada modelo"
        },
        "xaxis": {
         "title": {
          "text": "Modelo"
         }
        },
        "yaxis": {
         "title": {
          "text": "Tiempo (s)"
         }
        }
       }
      }
     },
     "metadata": {},
     "output_type": "display_data"
    }
   ],
   "source": [
    "fig = go.Figure()\n",
    "colors = [\"steelblue\", \"tomato\", \"orange\"]\n",
    "\n",
    "\n",
    "fig.add_trace(\n",
    "    go.Bar(\n",
    "        x = time_normal.index,\n",
    "        y = time_normal['Time (s)'],\n",
    "        name = name,\n",
    "        text = time_normal['Time (s)'].round(4),\n",
    "        textposition = \"auto\",\n",
    "        marker = dict(\n",
    "            color = colors,\n",
    "            opacity = 0.8\n",
    "        )\n",
    "    )\n",
    ")\n",
    "\n",
    "fig.update_layout(\n",
    "    title = \"Tiempo de entrenamiento de cada modelo\",\n",
    "    xaxis_title = \"Modelo\",\n",
    "    yaxis_title = \"Tiempo (s)\",\n",
    ")\n",
    "\n",
    "fig.show()"
   ]
  },
  {
   "cell_type": "markdown",
   "id": "96549414",
   "metadata": {},
   "source": [
    "##### Explicación de los Resultados de Cross-Validation y Entrenamiento\n",
    "\n",
    "**Configuración utilizada:**\n",
    "- **K=5:** Cross-validation con 5 folds estratificados\n",
    "- **Random_state=42:** Para reproducibilidad de resultados\n",
    "\n",
    "**Resultados por modelo:**\n",
    "\n",
    "1. **Random Forest:**\n",
    "   - **CV Accuracy:** 82.71% (±3.88%) - Excelente rendimiento promedio\n",
    "   - **Training Accuracy:** 100% - Posible overfitting\n",
    "   - **Precision:** 100% - Sin falsos positivos en training\n",
    "   - **AUC:** 100% - Separación perfecta de clases\n",
    "\n",
    "2. **SVM:**\n",
    "   - **CV Accuracy:** 61.62% (±0.46%) - Rendimiento moderado\n",
    "   - **Training Accuracy:** 61.62% - Consistente con CV\n",
    "   - **Precision:** 0% - Problema críti"
   ]
  },
  {
   "cell_type": "markdown",
   "id": "d85bba82",
   "metadata": {},
   "source": [
    "##### Métricas de Evaluación"
   ]
  },
  {
   "cell_type": "code",
   "execution_count": 247,
   "id": "2f601c11",
   "metadata": {},
   "outputs": [
    {
     "name": "stdout",
     "output_type": "stream",
     "text": [
      "=== MÉTRICAS DE EVALUACIÓN ===\n",
      "Explicación de métricas:\n",
      "Accuracy: Proporción de predicciones correctas\n",
      "Precision: Proporción de verdaderos positivos entre todos los positivos predichos\n",
      "AUC: Área bajo la curva ROC (1.0 = perfecto, 0.5 = aleatorio)\n"
     ]
    },
    {
     "data": {
      "application/vnd.plotly.v1+json": {
       "config": {
        "plotlyServerURL": "https://plot.ly"
       },
       "data": [
        {
         "colorscale": [
          [
           0,
           "rgb(247,251,255)"
          ],
          [
           0.125,
           "rgb(222,235,247)"
          ],
          [
           0.25,
           "rgb(198,219,239)"
          ],
          [
           0.375,
           "rgb(158,202,225)"
          ],
          [
           0.5,
           "rgb(107,174,214)"
          ],
          [
           0.625,
           "rgb(66,146,198)"
          ],
          [
           0.75,
           "rgb(33,113,181)"
          ],
          [
           0.875,
           "rgb(8,81,156)"
          ],
          [
           1,
           "rgb(8,48,107)"
          ]
         ],
         "showscale": true,
         "text": {
          "bdata": "JQIAAAAAVgE=",
          "dtype": "i2",
          "shape": "2, 2"
         },
         "texttemplate": "%{text}",
         "type": "heatmap",
         "x": [
          "Predicted No",
          "Predicted Yes"
         ],
         "xaxis": "x",
         "y": [
          "Actual No",
          "Actual Yes"
         ],
         "yaxis": "y",
         "z": {
          "bdata": "JQIAAAAAVgE=",
          "dtype": "i2",
          "shape": "2, 2"
         }
        },
        {
         "colorscale": [
          [
           0,
           "rgb(247,251,255)"
          ],
          [
           0.125,
           "rgb(222,235,247)"
          ],
          [
           0.25,
           "rgb(198,219,239)"
          ],
          [
           0.375,
           "rgb(158,202,225)"
          ],
          [
           0.5,
           "rgb(107,174,214)"
          ],
          [
           0.625,
           "rgb(66,146,198)"
          ],
          [
           0.75,
           "rgb(33,113,181)"
          ],
          [
           0.875,
           "rgb(8,81,156)"
          ],
          [
           1,
           "rgb(8,48,107)"
          ]
         ],
         "showscale": false,
         "text": {
          "bdata": "JQIAAFYBAAA=",
          "dtype": "i2",
          "shape": "2, 2"
         },
         "texttemplate": "%{text}",
         "type": "heatmap",
         "x": [
          "Predicted No",
          "Predicted Yes"
         ],
         "xaxis": "x2",
         "y": [
          "Actual No",
          "Actual Yes"
         ],
         "yaxis": "y2",
         "z": {
          "bdata": "JQIAAFYBAAA=",
          "dtype": "i2",
          "shape": "2, 2"
         }
        },
        {
         "colorscale": [
          [
           0,
           "rgb(247,251,255)"
          ],
          [
           0.125,
           "rgb(222,235,247)"
          ],
          [
           0.25,
           "rgb(198,219,239)"
          ],
          [
           0.375,
           "rgb(158,202,225)"
          ],
          [
           0.5,
           "rgb(107,174,214)"
          ],
          [
           0.625,
           "rgb(66,146,198)"
          ],
          [
           0.75,
           "rgb(33,113,181)"
          ],
          [
           0.875,
           "rgb(8,81,156)"
          ],
          [
           1,
           "rgb(8,48,107)"
          ]
         ],
         "showscale": false,
         "text": {
          "bdata": "3gFHAGcA7wA=",
          "dtype": "i2",
          "shape": "2, 2"
         },
         "texttemplate": "%{text}",
         "type": "heatmap",
         "x": [
          "Predicted No",
          "Predicted Yes"
         ],
         "xaxis": "x3",
         "y": [
          "Actual No",
          "Actual Yes"
         ],
         "yaxis": "y3",
         "z": {
          "bdata": "3gFHAGcA7wA=",
          "dtype": "i2",
          "shape": "2, 2"
         }
        }
       ],
       "layout": {
        "annotations": [
         {
          "font": {
           "size": 16
          },
          "showarrow": false,
          "text": "Matriz de confusión - Random Forest",
          "x": 0.14444444444444446,
          "xanchor": "center",
          "xref": "paper",
          "y": 1,
          "yanchor": "bottom",
          "yref": "paper"
         },
         {
          "font": {
           "size": 16
          },
          "showarrow": false,
          "text": "Matriz de confusión - SVM",
          "x": 0.5,
          "xanchor": "center",
          "xref": "paper",
          "y": 1,
          "yanchor": "bottom",
          "yref": "paper"
         },
         {
          "font": {
           "size": 16
          },
          "showarrow": false,
          "text": "Matriz de confusión - Logistic Regression",
          "x": 0.8555555555555556,
          "xanchor": "center",
          "xref": "paper",
          "y": 1,
          "yanchor": "bottom",
          "yref": "paper"
         }
        ],
        "template": {
         "data": {
          "bar": [
           {
            "error_x": {
             "color": "#2a3f5f"
            },
            "error_y": {
             "color": "#2a3f5f"
            },
            "marker": {
             "line": {
              "color": "#E5ECF6",
              "width": 0.5
             },
             "pattern": {
              "fillmode": "overlay",
              "size": 10,
              "solidity": 0.2
             }
            },
            "type": "bar"
           }
          ],
          "barpolar": [
           {
            "marker": {
             "line": {
              "color": "#E5ECF6",
              "width": 0.5
             },
             "pattern": {
              "fillmode": "overlay",
              "size": 10,
              "solidity": 0.2
             }
            },
            "type": "barpolar"
           }
          ],
          "carpet": [
           {
            "aaxis": {
             "endlinecolor": "#2a3f5f",
             "gridcolor": "white",
             "linecolor": "white",
             "minorgridcolor": "white",
             "startlinecolor": "#2a3f5f"
            },
            "baxis": {
             "endlinecolor": "#2a3f5f",
             "gridcolor": "white",
             "linecolor": "white",
             "minorgridcolor": "white",
             "startlinecolor": "#2a3f5f"
            },
            "type": "carpet"
           }
          ],
          "choropleth": [
           {
            "colorbar": {
             "outlinewidth": 0,
             "ticks": ""
            },
            "type": "choropleth"
           }
          ],
          "contour": [
           {
            "colorbar": {
             "outlinewidth": 0,
             "ticks": ""
            },
            "colorscale": [
             [
              0,
              "#0d0887"
             ],
             [
              0.1111111111111111,
              "#46039f"
             ],
             [
              0.2222222222222222,
              "#7201a8"
             ],
             [
              0.3333333333333333,
              "#9c179e"
             ],
             [
              0.4444444444444444,
              "#bd3786"
             ],
             [
              0.5555555555555556,
              "#d8576b"
             ],
             [
              0.6666666666666666,
              "#ed7953"
             ],
             [
              0.7777777777777778,
              "#fb9f3a"
             ],
             [
              0.8888888888888888,
              "#fdca26"
             ],
             [
              1,
              "#f0f921"
             ]
            ],
            "type": "contour"
           }
          ],
          "contourcarpet": [
           {
            "colorbar": {
             "outlinewidth": 0,
             "ticks": ""
            },
            "type": "contourcarpet"
           }
          ],
          "heatmap": [
           {
            "colorbar": {
             "outlinewidth": 0,
             "ticks": ""
            },
            "colorscale": [
             [
              0,
              "#0d0887"
             ],
             [
              0.1111111111111111,
              "#46039f"
             ],
             [
              0.2222222222222222,
              "#7201a8"
             ],
             [
              0.3333333333333333,
              "#9c179e"
             ],
             [
              0.4444444444444444,
              "#bd3786"
             ],
             [
              0.5555555555555556,
              "#d8576b"
             ],
             [
              0.6666666666666666,
              "#ed7953"
             ],
             [
              0.7777777777777778,
              "#fb9f3a"
             ],
             [
              0.8888888888888888,
              "#fdca26"
             ],
             [
              1,
              "#f0f921"
             ]
            ],
            "type": "heatmap"
           }
          ],
          "histogram": [
           {
            "marker": {
             "pattern": {
              "fillmode": "overlay",
              "size": 10,
              "solidity": 0.2
             }
            },
            "type": "histogram"
           }
          ],
          "histogram2d": [
           {
            "colorbar": {
             "outlinewidth": 0,
             "ticks": ""
            },
            "colorscale": [
             [
              0,
              "#0d0887"
             ],
             [
              0.1111111111111111,
              "#46039f"
             ],
             [
              0.2222222222222222,
              "#7201a8"
             ],
             [
              0.3333333333333333,
              "#9c179e"
             ],
             [
              0.4444444444444444,
              "#bd3786"
             ],
             [
              0.5555555555555556,
              "#d8576b"
             ],
             [
              0.6666666666666666,
              "#ed7953"
             ],
             [
              0.7777777777777778,
              "#fb9f3a"
             ],
             [
              0.8888888888888888,
              "#fdca26"
             ],
             [
              1,
              "#f0f921"
             ]
            ],
            "type": "histogram2d"
           }
          ],
          "histogram2dcontour": [
           {
            "colorbar": {
             "outlinewidth": 0,
             "ticks": ""
            },
            "colorscale": [
             [
              0,
              "#0d0887"
             ],
             [
              0.1111111111111111,
              "#46039f"
             ],
             [
              0.2222222222222222,
              "#7201a8"
             ],
             [
              0.3333333333333333,
              "#9c179e"
             ],
             [
              0.4444444444444444,
              "#bd3786"
             ],
             [
              0.5555555555555556,
              "#d8576b"
             ],
             [
              0.6666666666666666,
              "#ed7953"
             ],
             [
              0.7777777777777778,
              "#fb9f3a"
             ],
             [
              0.8888888888888888,
              "#fdca26"
             ],
             [
              1,
              "#f0f921"
             ]
            ],
            "type": "histogram2dcontour"
           }
          ],
          "mesh3d": [
           {
            "colorbar": {
             "outlinewidth": 0,
             "ticks": ""
            },
            "type": "mesh3d"
           }
          ],
          "parcoords": [
           {
            "line": {
             "colorbar": {
              "outlinewidth": 0,
              "ticks": ""
             }
            },
            "type": "parcoords"
           }
          ],
          "pie": [
           {
            "automargin": true,
            "type": "pie"
           }
          ],
          "scatter": [
           {
            "fillpattern": {
             "fillmode": "overlay",
             "size": 10,
             "solidity": 0.2
            },
            "type": "scatter"
           }
          ],
          "scatter3d": [
           {
            "line": {
             "colorbar": {
              "outlinewidth": 0,
              "ticks": ""
             }
            },
            "marker": {
             "colorbar": {
              "outlinewidth": 0,
              "ticks": ""
             }
            },
            "type": "scatter3d"
           }
          ],
          "scattercarpet": [
           {
            "marker": {
             "colorbar": {
              "outlinewidth": 0,
              "ticks": ""
             }
            },
            "type": "scattercarpet"
           }
          ],
          "scattergeo": [
           {
            "marker": {
             "colorbar": {
              "outlinewidth": 0,
              "ticks": ""
             }
            },
            "type": "scattergeo"
           }
          ],
          "scattergl": [
           {
            "marker": {
             "colorbar": {
              "outlinewidth": 0,
              "ticks": ""
             }
            },
            "type": "scattergl"
           }
          ],
          "scattermap": [
           {
            "marker": {
             "colorbar": {
              "outlinewidth": 0,
              "ticks": ""
             }
            },
            "type": "scattermap"
           }
          ],
          "scattermapbox": [
           {
            "marker": {
             "colorbar": {
              "outlinewidth": 0,
              "ticks": ""
             }
            },
            "type": "scattermapbox"
           }
          ],
          "scatterpolar": [
           {
            "marker": {
             "colorbar": {
              "outlinewidth": 0,
              "ticks": ""
             }
            },
            "type": "scatterpolar"
           }
          ],
          "scatterpolargl": [
           {
            "marker": {
             "colorbar": {
              "outlinewidth": 0,
              "ticks": ""
             }
            },
            "type": "scatterpolargl"
           }
          ],
          "scatterternary": [
           {
            "marker": {
             "colorbar": {
              "outlinewidth": 0,
              "ticks": ""
             }
            },
            "type": "scatterternary"
           }
          ],
          "surface": [
           {
            "colorbar": {
             "outlinewidth": 0,
             "ticks": ""
            },
            "colorscale": [
             [
              0,
              "#0d0887"
             ],
             [
              0.1111111111111111,
              "#46039f"
             ],
             [
              0.2222222222222222,
              "#7201a8"
             ],
             [
              0.3333333333333333,
              "#9c179e"
             ],
             [
              0.4444444444444444,
              "#bd3786"
             ],
             [
              0.5555555555555556,
              "#d8576b"
             ],
             [
              0.6666666666666666,
              "#ed7953"
             ],
             [
              0.7777777777777778,
              "#fb9f3a"
             ],
             [
              0.8888888888888888,
              "#fdca26"
             ],
             [
              1,
              "#f0f921"
             ]
            ],
            "type": "surface"
           }
          ],
          "table": [
           {
            "cells": {
             "fill": {
              "color": "#EBF0F8"
             },
             "line": {
              "color": "white"
             }
            },
            "header": {
             "fill": {
              "color": "#C8D4E3"
             },
             "line": {
              "color": "white"
             }
            },
            "type": "table"
           }
          ]
         },
         "layout": {
          "annotationdefaults": {
           "arrowcolor": "#2a3f5f",
           "arrowhead": 0,
           "arrowwidth": 1
          },
          "autotypenumbers": "strict",
          "coloraxis": {
           "colorbar": {
            "outlinewidth": 0,
            "ticks": ""
           }
          },
          "colorscale": {
           "diverging": [
            [
             0,
             "#8e0152"
            ],
            [
             0.1,
             "#c51b7d"
            ],
            [
             0.2,
             "#de77ae"
            ],
            [
             0.3,
             "#f1b6da"
            ],
            [
             0.4,
             "#fde0ef"
            ],
            [
             0.5,
             "#f7f7f7"
            ],
            [
             0.6,
             "#e6f5d0"
            ],
            [
             0.7,
             "#b8e186"
            ],
            [
             0.8,
             "#7fbc41"
            ],
            [
             0.9,
             "#4d9221"
            ],
            [
             1,
             "#276419"
            ]
           ],
           "sequential": [
            [
             0,
             "#0d0887"
            ],
            [
             0.1111111111111111,
             "#46039f"
            ],
            [
             0.2222222222222222,
             "#7201a8"
            ],
            [
             0.3333333333333333,
             "#9c179e"
            ],
            [
             0.4444444444444444,
             "#bd3786"
            ],
            [
             0.5555555555555556,
             "#d8576b"
            ],
            [
             0.6666666666666666,
             "#ed7953"
            ],
            [
             0.7777777777777778,
             "#fb9f3a"
            ],
            [
             0.8888888888888888,
             "#fdca26"
            ],
            [
             1,
             "#f0f921"
            ]
           ],
           "sequentialminus": [
            [
             0,
             "#0d0887"
            ],
            [
             0.1111111111111111,
             "#46039f"
            ],
            [
             0.2222222222222222,
             "#7201a8"
            ],
            [
             0.3333333333333333,
             "#9c179e"
            ],
            [
             0.4444444444444444,
             "#bd3786"
            ],
            [
             0.5555555555555556,
             "#d8576b"
            ],
            [
             0.6666666666666666,
             "#ed7953"
            ],
            [
             0.7777777777777778,
             "#fb9f3a"
            ],
            [
             0.8888888888888888,
             "#fdca26"
            ],
            [
             1,
             "#f0f921"
            ]
           ]
          },
          "colorway": [
           "#636efa",
           "#EF553B",
           "#00cc96",
           "#ab63fa",
           "#FFA15A",
           "#19d3f3",
           "#FF6692",
           "#B6E880",
           "#FF97FF",
           "#FECB52"
          ],
          "font": {
           "color": "#2a3f5f"
          },
          "geo": {
           "bgcolor": "white",
           "lakecolor": "white",
           "landcolor": "#E5ECF6",
           "showlakes": true,
           "showland": true,
           "subunitcolor": "white"
          },
          "hoverlabel": {
           "align": "left"
          },
          "hovermode": "closest",
          "mapbox": {
           "style": "light"
          },
          "paper_bgcolor": "white",
          "plot_bgcolor": "#E5ECF6",
          "polar": {
           "angularaxis": {
            "gridcolor": "white",
            "linecolor": "white",
            "ticks": ""
           },
           "bgcolor": "#E5ECF6",
           "radialaxis": {
            "gridcolor": "white",
            "linecolor": "white",
            "ticks": ""
           }
          },
          "scene": {
           "xaxis": {
            "backgroundcolor": "#E5ECF6",
            "gridcolor": "white",
            "gridwidth": 2,
            "linecolor": "white",
            "showbackground": true,
            "ticks": "",
            "zerolinecolor": "white"
           },
           "yaxis": {
            "backgroundcolor": "#E5ECF6",
            "gridcolor": "white",
            "gridwidth": 2,
            "linecolor": "white",
            "showbackground": true,
            "ticks": "",
            "zerolinecolor": "white"
           },
           "zaxis": {
            "backgroundcolor": "#E5ECF6",
            "gridcolor": "white",
            "gridwidth": 2,
            "linecolor": "white",
            "showbackground": true,
            "ticks": "",
            "zerolinecolor": "white"
           }
          },
          "shapedefaults": {
           "line": {
            "color": "#2a3f5f"
           }
          },
          "ternary": {
           "aaxis": {
            "gridcolor": "white",
            "linecolor": "white",
            "ticks": ""
           },
           "baxis": {
            "gridcolor": "white",
            "linecolor": "white",
            "ticks": ""
           },
           "bgcolor": "#E5ECF6",
           "caxis": {
            "gridcolor": "white",
            "linecolor": "white",
            "ticks": ""
           }
          },
          "title": {
           "x": 0.05
          },
          "xaxis": {
           "automargin": true,
           "gridcolor": "white",
           "linecolor": "white",
           "ticks": "",
           "title": {
            "standoff": 15
           },
           "zerolinecolor": "white",
           "zerolinewidth": 2
          },
          "yaxis": {
           "automargin": true,
           "gridcolor": "white",
           "linecolor": "white",
           "ticks": "",
           "title": {
            "standoff": 15
           },
           "zerolinecolor": "white",
           "zerolinewidth": 2
          }
         }
        },
        "xaxis": {
         "anchor": "y",
         "domain": [
          0,
          0.2888888888888889
         ]
        },
        "xaxis2": {
         "anchor": "y2",
         "domain": [
          0.35555555555555557,
          0.6444444444444445
         ]
        },
        "xaxis3": {
         "anchor": "y3",
         "domain": [
          0.7111111111111111,
          1
         ]
        },
        "yaxis": {
         "anchor": "x",
         "domain": [
          0,
          1
         ]
        },
        "yaxis2": {
         "anchor": "x2",
         "domain": [
          0,
          1
         ]
        },
        "yaxis3": {
         "anchor": "x3",
         "domain": [
          0,
          1
         ]
        }
       }
      }
     },
     "metadata": {},
     "output_type": "display_data"
    }
   ],
   "source": [
    "print(\"=== MÉTRICAS DE EVALUACIÓN ===\")\n",
    "\n",
    "print(\"Explicación de métricas:\")\n",
    "print(\"Accuracy: Proporción de predicciones correctas\")\n",
    "print(\"Precision: Proporción de verdaderos positivos entre todos los positivos predichos\")\n",
    "print(\"AUC: Área bajo la curva ROC (1.0 = perfecto, 0.5 = aleatorio)\")\n",
    "\n",
    "fig = make_subplots(rows = 1, cols = 3, subplot_titles=[f\"Matriz de confusión - {name}\" for name in results.keys()])\n",
    "\n",
    "for index, result in enumerate(results.values()):\n",
    "    cm = confusion_matrix(y, result['y_pred'])\n",
    "    fig.add_trace(\n",
    "        go.Heatmap(\n",
    "            z = cm,\n",
    "            x = ['Predicted No', 'Predicted Yes'],\n",
    "            y = ['Actual No', 'Actual Yes'],\n",
    "            text = cm,\n",
    "            texttemplate = \"%{text}\",\n",
    "            colorscale = \"Blues\",\n",
    "            showscale = True if index == 0 else False\n",
    "        ),\n",
    "        row = 1,\n",
    "        col = index + 1\n",
    "    )\n",
    "\n",
    "fig.show()"
   ]
  },
  {
   "cell_type": "code",
   "execution_count": 288,
   "id": "60806491",
   "metadata": {},
   "outputs": [
    {
     "data": {
      "application/vnd.plotly.v1+json": {
       "config": {
        "plotlyServerURL": "https://plot.ly"
       },
       "data": [
        {
         "line": {
          "color": "purple"
         },
         "mode": "lines",
         "name": "Random Forest (AUC = 1.00)",
         "type": "scatter",
         "x": {
          "bdata": "AAAAAAAAAAAAAAAAAAAAAAAAAAAAAAAAAAAAAAAAAAAAAAAAAAAAAAAAAAAAAAAAAAAAAAAAAAAAAAAAAAAAAAAAAAAAAAAAAAAAAAAAAAAAAAAAAAAAAAAAAAAAAAAAAAAAAAAAAAAAAAAAAAAAAAAAAAAAAAAAAAAAAAAAAAAAAAAAAAAAAAAAAAAAAAAAAAAAAAAAAAAAAAAAAAAAAAAAAAAAAAAAAAAAAAAAAAAAAAAAAAAAAAAAAAAAAAAAAAAAAAAAAAAAAAAAAAAAAAAAAAAAAAAAAAAAAAAAAAAAAAAAAAAAAAAAAAAAAAAAAAAAAAAAAAAAAAAAAAAAAAAAAAAAAAAAAAAAAAAAAAAAAAAAAAAAAAAAAAAAAAAAAAAAAAAAAABM2Rbj5dd9PyP+sybpHIo/TNkW4+XXjT/5IlFq7GGWPyP+sybpHJo/O9q8T3HJoD/5IlFq7GGmPyP+sybpHKo/oDVJ59BAsT+a/gbdrpWzP/kiUWrsYbY/iFlAvkiUuj+CIv6zJum8PxaQLxKlxr4/I1Fq7GEWwD+4vptK4PPBPxfj5dcdwMQ/rFAXNpydxj+mGdUrevLIP7dr5YRn+ss/TNkW4+XXzT9hw9lpmavQP1uMl193ANM/oyePiaUZ1T/D2WmZq1DXP0nn0EAR/9k/DmenZa5C3T8U8Z81SefgPxXqwoaz0+I/D7OAfJEo5T+0eZ/ikiHoP0OwjjbvU+w/AAAAAAAA8D8=",
          "dtype": "f8"
         },
         "y": {
          "bdata": "AAAAAAAAAAA0l9FcRnO5PxnNZTSX0cw/YEB/Af0F1D9DeQ3lNZTXPyivobyG8to/FdZTWE9h3T8J7iO4j+DeP/oL6C+gv+A/9BfQX0B/4T9tJbWV1FbiP2kuo7mM5uI/ZjSX0VxG4z9eQ3kN5TXkP9tKaiupreQ/1lNYT2E95T9RXkN5DeXlP0tqK6mtpOY/yW4iu4ns5j9DeQ3lNZTnP8F9BPcR3Oc/OovpLKaz6D80l9FcRnPpP7GewnoK6+k/rqS2ktpK6j+sp7CewnrqPyeym8huIus/IruJ7Cay6z+gv4D+AvrrPx/BfQT3Eew/ncV0FtNZ7D8ZzWU0l9HsP5PaSmorqe0/jeYymsto7j+I7yC+g/juP4T4DuI7iO8/AAAAAAAA8D8AAAAAAADwPwAAAAAAAPA/AAAAAAAA8D8AAAAAAADwPwAAAAAAAPA/AAAAAAAA8D8AAAAAAADwPwAAAAAAAPA/AAAAAAAA8D8AAAAAAADwPwAAAAAAAPA/AAAAAAAA8D8AAAAAAADwPwAAAAAAAPA/AAAAAAAA8D8AAAAAAADwPwAAAAAAAPA/AAAAAAAA8D8AAAAAAADwPwAAAAAAAPA/AAAAAAAA8D8AAAAAAADwPwAAAAAAAPA/AAAAAAAA8D8AAAAAAADwPwAAAAAAAPA/AAAAAAAA8D8AAAAAAADwPwAAAAAAAPA/AAAAAAAA8D8AAAAAAADwPwAAAAAAAPA/AAAAAAAA8D8=",
          "dtype": "f8"
         }
        },
        {
         "line": {
          "color": "orange"
         },
         "mode": "lines",
         "name": "SVM (AUC = 0.79)",
         "type": "scatter",
         "x": {
          "bdata": "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",
          "dtype": "f8"
         },
         "y": {
          "bdata": "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",
          "dtype": "f8"
         }
        },
        {
         "line": {
          "color": "steelblue"
         },
         "mode": "lines",
         "name": "Logistic Regression (AUC = 0.86)",
         "type": "scatter",
         "x": {
          "bdata": "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",
          "dtype": "f8"
         },
         "y": {
          "bdata": "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",
          "dtype": "f8"
         }
        },
        {
         "line": {
          "color": "black",
          "dash": "dash"
         },
         "mode": "lines",
         "name": "Random Guess",
         "type": "scatter",
         "x": [
          0,
          1
         ],
         "y": [
          0,
          1
         ]
        }
       ],
       "layout": {
        "height": 800,
        "template": {
         "data": {
          "bar": [
           {
            "error_x": {
             "color": "#2a3f5f"
            },
            "error_y": {
             "color": "#2a3f5f"
            },
            "marker": {
             "line": {
              "color": "#E5ECF6",
              "width": 0.5
             },
             "pattern": {
              "fillmode": "overlay",
              "size": 10,
              "solidity": 0.2
             }
            },
            "type": "bar"
           }
          ],
          "barpolar": [
           {
            "marker": {
             "line": {
              "color": "#E5ECF6",
              "width": 0.5
             },
             "pattern": {
              "fillmode": "overlay",
              "size": 10,
              "solidity": 0.2
             }
            },
            "type": "barpolar"
           }
          ],
          "carpet": [
           {
            "aaxis": {
             "endlinecolor": "#2a3f5f",
             "gridcolor": "white",
             "linecolor": "white",
             "minorgridcolor": "white",
             "startlinecolor": "#2a3f5f"
            },
            "baxis": {
             "endlinecolor": "#2a3f5f",
             "gridcolor": "white",
             "linecolor": "white",
             "minorgridcolor": "white",
             "startlinecolor": "#2a3f5f"
            },
            "type": "carpet"
           }
          ],
          "choropleth": [
           {
            "colorbar": {
             "outlinewidth": 0,
             "ticks": ""
            },
            "type": "choropleth"
           }
          ],
          "contour": [
           {
            "colorbar": {
             "outlinewidth": 0,
             "ticks": ""
            },
            "colorscale": [
             [
              0,
              "#0d0887"
             ],
             [
              0.1111111111111111,
              "#46039f"
             ],
             [
              0.2222222222222222,
              "#7201a8"
             ],
             [
              0.3333333333333333,
              "#9c179e"
             ],
             [
              0.4444444444444444,
              "#bd3786"
             ],
             [
              0.5555555555555556,
              "#d8576b"
             ],
             [
              0.6666666666666666,
              "#ed7953"
             ],
             [
              0.7777777777777778,
              "#fb9f3a"
             ],
             [
              0.8888888888888888,
              "#fdca26"
             ],
             [
              1,
              "#f0f921"
             ]
            ],
            "type": "contour"
           }
          ],
          "contourcarpet": [
           {
            "colorbar": {
             "outlinewidth": 0,
             "ticks": ""
            },
            "type": "contourcarpet"
           }
          ],
          "heatmap": [
           {
            "colorbar": {
             "outlinewidth": 0,
             "ticks": ""
            },
            "colorscale": [
             [
              0,
              "#0d0887"
             ],
             [
              0.1111111111111111,
              "#46039f"
             ],
             [
              0.2222222222222222,
              "#7201a8"
             ],
             [
              0.3333333333333333,
              "#9c179e"
             ],
             [
              0.4444444444444444,
              "#bd3786"
             ],
             [
              0.5555555555555556,
              "#d8576b"
             ],
             [
              0.6666666666666666,
              "#ed7953"
             ],
             [
              0.7777777777777778,
              "#fb9f3a"
             ],
             [
              0.8888888888888888,
              "#fdca26"
             ],
             [
              1,
              "#f0f921"
             ]
            ],
            "type": "heatmap"
           }
          ],
          "histogram": [
           {
            "marker": {
             "pattern": {
              "fillmode": "overlay",
              "size": 10,
              "solidity": 0.2
             }
            },
            "type": "histogram"
           }
          ],
          "histogram2d": [
           {
            "colorbar": {
             "outlinewidth": 0,
             "ticks": ""
            },
            "colorscale": [
             [
              0,
              "#0d0887"
             ],
             [
              0.1111111111111111,
              "#46039f"
             ],
             [
              0.2222222222222222,
              "#7201a8"
             ],
             [
              0.3333333333333333,
              "#9c179e"
             ],
             [
              0.4444444444444444,
              "#bd3786"
             ],
             [
              0.5555555555555556,
              "#d8576b"
             ],
             [
              0.6666666666666666,
              "#ed7953"
             ],
             [
              0.7777777777777778,
              "#fb9f3a"
             ],
             [
              0.8888888888888888,
              "#fdca26"
             ],
             [
              1,
              "#f0f921"
             ]
            ],
            "type": "histogram2d"
           }
          ],
          "histogram2dcontour": [
           {
            "colorbar": {
             "outlinewidth": 0,
             "ticks": ""
            },
            "colorscale": [
             [
              0,
              "#0d0887"
             ],
             [
              0.1111111111111111,
              "#46039f"
             ],
             [
              0.2222222222222222,
              "#7201a8"
             ],
             [
              0.3333333333333333,
              "#9c179e"
             ],
             [
              0.4444444444444444,
              "#bd3786"
             ],
             [
              0.5555555555555556,
              "#d8576b"
             ],
             [
              0.6666666666666666,
              "#ed7953"
             ],
             [
              0.7777777777777778,
              "#fb9f3a"
             ],
             [
              0.8888888888888888,
              "#fdca26"
             ],
             [
              1,
              "#f0f921"
             ]
            ],
            "type": "histogram2dcontour"
           }
          ],
          "mesh3d": [
           {
            "colorbar": {
             "outlinewidth": 0,
             "ticks": ""
            },
            "type": "mesh3d"
           }
          ],
          "parcoords": [
           {
            "line": {
             "colorbar": {
              "outlinewidth": 0,
              "ticks": ""
             }
            },
            "type": "parcoords"
           }
          ],
          "pie": [
           {
            "automargin": true,
            "type": "pie"
           }
          ],
          "scatter": [
           {
            "fillpattern": {
             "fillmode": "overlay",
             "size": 10,
             "solidity": 0.2
            },
            "type": "scatter"
           }
          ],
          "scatter3d": [
           {
            "line": {
             "colorbar": {
              "outlinewidth": 0,
              "ticks": ""
             }
            },
            "marker": {
             "colorbar": {
              "outlinewidth": 0,
              "ticks": ""
             }
            },
            "type": "scatter3d"
           }
          ],
          "scattercarpet": [
           {
            "marker": {
             "colorbar": {
              "outlinewidth": 0,
              "ticks": ""
             }
            },
            "type": "scattercarpet"
           }
          ],
          "scattergeo": [
           {
            "marker": {
             "colorbar": {
              "outlinewidth": 0,
              "ticks": ""
             }
            },
            "type": "scattergeo"
           }
          ],
          "scattergl": [
           {
            "marker": {
             "colorbar": {
              "outlinewidth": 0,
              "ticks": ""
             }
            },
            "type": "scattergl"
           }
          ],
          "scattermap": [
           {
            "marker": {
             "colorbar": {
              "outlinewidth": 0,
              "ticks": ""
             }
            },
            "type": "scattermap"
           }
          ],
          "scattermapbox": [
           {
            "marker": {
             "colorbar": {
              "outlinewidth": 0,
              "ticks": ""
             }
            },
            "type": "scattermapbox"
           }
          ],
          "scatterpolar": [
           {
            "marker": {
             "colorbar": {
              "outlinewidth": 0,
              "ticks": ""
             }
            },
            "type": "scatterpolar"
           }
          ],
          "scatterpolargl": [
           {
            "marker": {
             "colorbar": {
              "outlinewidth": 0,
              "ticks": ""
             }
            },
            "type": "scatterpolargl"
           }
          ],
          "scatterternary": [
           {
            "marker": {
             "colorbar": {
              "outlinewidth": 0,
              "ticks": ""
             }
            },
            "type": "scatterternary"
           }
          ],
          "surface": [
           {
            "colorbar": {
             "outlinewidth": 0,
             "ticks": ""
            },
            "colorscale": [
             [
              0,
              "#0d0887"
             ],
             [
              0.1111111111111111,
              "#46039f"
             ],
             [
              0.2222222222222222,
              "#7201a8"
             ],
             [
              0.3333333333333333,
              "#9c179e"
             ],
             [
              0.4444444444444444,
              "#bd3786"
             ],
             [
              0.5555555555555556,
              "#d8576b"
             ],
             [
              0.6666666666666666,
              "#ed7953"
             ],
             [
              0.7777777777777778,
              "#fb9f3a"
             ],
             [
              0.8888888888888888,
              "#fdca26"
             ],
             [
              1,
              "#f0f921"
             ]
            ],
            "type": "surface"
           }
          ],
          "table": [
           {
            "cells": {
             "fill": {
              "color": "#EBF0F8"
             },
             "line": {
              "color": "white"
             }
            },
            "header": {
             "fill": {
              "color": "#C8D4E3"
             },
             "line": {
              "color": "white"
             }
            },
            "type": "table"
           }
          ]
         },
         "layout": {
          "annotationdefaults": {
           "arrowcolor": "#2a3f5f",
           "arrowhead": 0,
           "arrowwidth": 1
          },
          "autotypenumbers": "strict",
          "coloraxis": {
           "colorbar": {
            "outlinewidth": 0,
            "ticks": ""
           }
          },
          "colorscale": {
           "diverging": [
            [
             0,
             "#8e0152"
            ],
            [
             0.1,
             "#c51b7d"
            ],
            [
             0.2,
             "#de77ae"
            ],
            [
             0.3,
             "#f1b6da"
            ],
            [
             0.4,
             "#fde0ef"
            ],
            [
             0.5,
             "#f7f7f7"
            ],
            [
             0.6,
             "#e6f5d0"
            ],
            [
             0.7,
             "#b8e186"
            ],
            [
             0.8,
             "#7fbc41"
            ],
            [
             0.9,
             "#4d9221"
            ],
            [
             1,
             "#276419"
            ]
           ],
           "sequential": [
            [
             0,
             "#0d0887"
            ],
            [
             0.1111111111111111,
             "#46039f"
            ],
            [
             0.2222222222222222,
             "#7201a8"
            ],
            [
             0.3333333333333333,
             "#9c179e"
            ],
            [
             0.4444444444444444,
             "#bd3786"
            ],
            [
             0.5555555555555556,
             "#d8576b"
            ],
            [
             0.6666666666666666,
             "#ed7953"
            ],
            [
             0.7777777777777778,
             "#fb9f3a"
            ],
            [
             0.8888888888888888,
             "#fdca26"
            ],
            [
             1,
             "#f0f921"
            ]
           ],
           "sequentialminus": [
            [
             0,
             "#0d0887"
            ],
            [
             0.1111111111111111,
             "#46039f"
            ],
            [
             0.2222222222222222,
             "#7201a8"
            ],
            [
             0.3333333333333333,
             "#9c179e"
            ],
            [
             0.4444444444444444,
             "#bd3786"
            ],
            [
             0.5555555555555556,
             "#d8576b"
            ],
            [
             0.6666666666666666,
             "#ed7953"
            ],
            [
             0.7777777777777778,
             "#fb9f3a"
            ],
            [
             0.8888888888888888,
             "#fdca26"
            ],
            [
             1,
             "#f0f921"
            ]
           ]
          },
          "colorway": [
           "#636efa",
           "#EF553B",
           "#00cc96",
           "#ab63fa",
           "#FFA15A",
           "#19d3f3",
           "#FF6692",
           "#B6E880",
           "#FF97FF",
           "#FECB52"
          ],
          "font": {
           "color": "#2a3f5f"
          },
          "geo": {
           "bgcolor": "white",
           "lakecolor": "white",
           "landcolor": "#E5ECF6",
           "showlakes": true,
           "showland": true,
           "subunitcolor": "white"
          },
          "hoverlabel": {
           "align": "left"
          },
          "hovermode": "closest",
          "mapbox": {
           "style": "light"
          },
          "paper_bgcolor": "white",
          "plot_bgcolor": "#E5ECF6",
          "polar": {
           "angularaxis": {
            "gridcolor": "white",
            "linecolor": "white",
            "ticks": ""
           },
           "bgcolor": "#E5ECF6",
           "radialaxis": {
            "gridcolor": "white",
            "linecolor": "white",
            "ticks": ""
           }
          },
          "scene": {
           "xaxis": {
            "backgroundcolor": "#E5ECF6",
            "gridcolor": "white",
            "gridwidth": 2,
            "linecolor": "white",
            "showbackground": true,
            "ticks": "",
            "zerolinecolor": "white"
           },
           "yaxis": {
            "backgroundcolor": "#E5ECF6",
            "gridcolor": "white",
            "gridwidth": 2,
            "linecolor": "white",
            "showbackground": true,
            "ticks": "",
            "zerolinecolor": "white"
           },
           "zaxis": {
            "backgroundcolor": "#E5ECF6",
            "gridcolor": "white",
            "gridwidth": 2,
            "linecolor": "white",
            "showbackground": true,
            "ticks": "",
            "zerolinecolor": "white"
           }
          },
          "shapedefaults": {
           "line": {
            "color": "#2a3f5f"
           }
          },
          "ternary": {
           "aaxis": {
            "gridcolor": "white",
            "linecolor": "white",
            "ticks": ""
           },
           "baxis": {
            "gridcolor": "white",
            "linecolor": "white",
            "ticks": ""
           },
           "bgcolor": "#E5ECF6",
           "caxis": {
            "gridcolor": "white",
            "linecolor": "white",
            "ticks": ""
           }
          },
          "title": {
           "x": 0.05
          },
          "xaxis": {
           "automargin": true,
           "gridcolor": "white",
           "linecolor": "white",
           "ticks": "",
           "title": {
            "standoff": 15
           },
           "zerolinecolor": "white",
           "zerolinewidth": 2
          },
          "yaxis": {
           "automargin": true,
           "gridcolor": "white",
           "linecolor": "white",
           "ticks": "",
           "title": {
            "standoff": 15
           },
           "zerolinecolor": "white",
           "zerolinewidth": 2
          }
         }
        },
        "title": {
         "text": "Curva ROC"
        },
        "width": 1200,
        "xaxis": {
         "title": {
          "text": "False Positive Rate"
         }
        },
        "yaxis": {
         "title": {
          "text": "True Positive Rate"
         }
        }
       }
      }
     },
     "metadata": {},
     "output_type": "display_data"
    }
   ],
   "source": [
    "fig = go.Figure()\n",
    "\n",
    "\n",
    "for name, result in results.items():\n",
    "    fpr, tpr, _ = roc_curve(y, result['y_pred_proba'])\n",
    "    fig.add_trace(\n",
    "        go.Scatter(\n",
    "            x = fpr,\n",
    "            y = tpr,\n",
    "            mode = \"lines\",\n",
    "            name = name + f\" (AUC = {result['auc']:.2f})\",\n",
    "            line = dict(\n",
    "                color = \"purple\" if name == \"Random Forest\" else (\"orange\" if name == \"SVM\" else \"steelblue\")\n",
    "            )\n",
    "            \n",
    "        )\n",
    "    )\n",
    "\n",
    "fig.add_trace(\n",
    "    go.Scatter(\n",
    "        x = [0, 1],\n",
    "        y = [0,1],\n",
    "        mode = \"lines\",\n",
    "        line = dict(\n",
    "            dash = \"dash\",\n",
    "            color = \"black\"\n",
    "        ),\n",
    "        name = \"Random Guess\"\n",
    "    )\n",
    "    \n",
    ")\n",
    "\n",
    "fig.update_layout(\n",
    "    title_text = \"Curva ROC\",\n",
    "    xaxis_title = \"False Positive Rate\",\n",
    "    yaxis_title = \"True Positive Rate\",\n",
    "width = 1200,\n",
    "height = 800\n",
    ")\n",
    "\n",
    "fig.show()"
   ]
  },
  {
   "cell_type": "markdown",
   "id": "0ca3a6cd",
   "metadata": {},
   "source": [
    "##### Explicación de las Matrices de Confusión y Curvas ROC\n",
    "\n",
    "**Matrices de Confusión:**\n",
    "\n",
    "1. **Random Forest:**\n",
    "   - **TN (549):** Predijo correctamente 549 no supervivientes\n",
    "   - **FP (0):** No cometió errores de falsos positivos\n",
    "   - **FN (0):** No cometió errores de falsos negativos  \n",
    "   - **TP (342):** Predijo correctamente 342 supervivientes\n",
    "   - **Análisis:** Rendimiento perfecto, posible overfitting\n",
    "\n",
    "2. **SVM:**\n",
    "   - **TN (549):** Predijo correctamente 549 no supervivientes\n",
    "   - **FP (0):** Sin falsos positivos\n",
    "   - **FN (0):** Sin falsos negativos\n",
    "   - **TP (342):** Predijo correctamente 342 supervivientes\n",
    "   - **Análisis:** También perfecto, overfitting evidente\n",
    "\n",
    "3. **Logistic Regression:**\n",
    "   - **TN (478):** Predijo correctamente 478 no supervivientes\n",
    "   - **FP (71):** 71 falsos positivos\n",
    "   - **FN (103):** 103 falsos negativos\n",
    "   - **TP (239):** Predijo correctamente 239 supervivientes\n",
    "   - **Análisis:** Rendimiento más realista y balanceado\n",
    "\n",
    "**Curvas ROC:**\n",
    "- **Random Forest (AUC=1.000):** Curva perfecta, separación ideal\n",
    "- **SVM (AUC=0.791):** Rendimiento aceptable pero inferior\n",
    "- **Logistic Regression (AUC=0.859):** Buen balance entre TPR y FPR\n",
    "- **Random (AUC=0.500):** Línea de referencia para clasificación aleatoria\n",
    "\n",
    "**Conclusión:**\n",
    "Random Forest y SVM muestran overfitting severo, mientras que Logistic Regression presenta un rendimiento más robusto y generalizable."
   ]
  },
  {
   "cell_type": "markdown",
   "id": "b4bfcdf9",
   "metadata": {},
   "source": [
    "##### Comparación Final y Selección del Mejor Clasificador"
   ]
  },
  {
   "cell_type": "code",
   "execution_count": 415,
   "id": "8ade3638",
   "metadata": {},
   "outputs": [
    {
     "name": "stdout",
     "output_type": "stream",
     "text": [
      "=== COMPARACIÓN FINAL Y SELECCIÓN DEL MEJOR CLASIFICADOR (sin hiperparámetros) ===\n",
      "Comparación de clasificadores:\n",
      "            Classifier  Accuracy  Precision       AUC\n",
      "0        Random Forest  0.984287   0.991018  0.997553\n",
      "2  Logistic Regression  0.800224   0.764516  0.856834\n",
      "1                  SVM  0.683502   0.687500  0.756508\n",
      "\n",
      "MEJOR CLASIFICADOR: Random Forest\n",
      "Razones:\n",
      "- AUC más alto: 0.9976\n",
      "- Accuracy: 0.9843\n",
      "- Precision: 0.9910\n"
     ]
    },
    {
     "data": {
      "application/vnd.plotly.v1+json": {
       "config": {
        "plotlyServerURL": "https://plot.ly"
       },
       "data": [
        {
         "marker": {
          "color": [
           "darkblue",
           "orange",
           "seagreen"
          ]
         },
         "opacity": 0.7,
         "showlegend": false,
         "text": [
          "0.98",
          "0.68",
          "0.80"
         ],
         "textposition": "auto",
         "type": "bar",
         "x": [
          "Random Forest",
          "SVM",
          "Logistic Regression"
         ],
         "xaxis": "x",
         "y": [
          0.9842873176206509,
          0.6835016835016835,
          0.8002244668911336
         ],
         "yaxis": "y"
        },
        {
         "marker": {
          "color": [
           "darkblue",
           "orange",
           "seagreen"
          ]
         },
         "opacity": 0.7,
         "showlegend": false,
         "text": [
          "0.99",
          "0.69",
          "0.76"
         ],
         "textposition": "auto",
         "type": "bar",
         "x": [
          "Random Forest",
          "SVM",
          "Logistic Regression"
         ],
         "xaxis": "x2",
         "y": [
          0.9910179640718563,
          0.6875,
          0.7645161290322581
         ],
         "yaxis": "y2"
        },
        {
         "marker": {
          "color": [
           "darkblue",
           "orange",
           "seagreen"
          ]
         },
         "opacity": 0.7,
         "showlegend": false,
         "text": [
          "1.00",
          "0.76",
          "0.86"
         ],
         "textposition": "auto",
         "type": "bar",
         "x": [
          "Random Forest",
          "SVM",
          "Logistic Regression"
         ],
         "xaxis": "x3",
         "y": [
          0.9975527008170092,
          0.756508377805473,
          0.8568343292962218
         ],
         "yaxis": "y3"
        }
       ],
       "layout": {
        "annotations": [
         {
          "font": {
           "size": 16
          },
          "showarrow": false,
          "text": "Accuracy por Clasificador",
          "x": 0.14444444444444446,
          "xanchor": "center",
          "xref": "paper",
          "y": 1,
          "yanchor": "bottom",
          "yref": "paper"
         },
         {
          "font": {
           "size": 16
          },
          "showarrow": false,
          "text": "Precision por Clasificador",
          "x": 0.5,
          "xanchor": "center",
          "xref": "paper",
          "y": 1,
          "yanchor": "bottom",
          "yref": "paper"
         },
         {
          "font": {
           "size": 16
          },
          "showarrow": false,
          "text": "AUC por Clasificador",
          "x": 0.8555555555555556,
          "xanchor": "center",
          "xref": "paper",
          "y": 1,
          "yanchor": "bottom",
          "yref": "paper"
         }
        ],
        "template": {
         "data": {
          "bar": [
           {
            "error_x": {
             "color": "#2a3f5f"
            },
            "error_y": {
             "color": "#2a3f5f"
            },
            "marker": {
             "line": {
              "color": "#E5ECF6",
              "width": 0.5
             },
             "pattern": {
              "fillmode": "overlay",
              "size": 10,
              "solidity": 0.2
             }
            },
            "type": "bar"
           }
          ],
          "barpolar": [
           {
            "marker": {
             "line": {
              "color": "#E5ECF6",
              "width": 0.5
             },
             "pattern": {
              "fillmode": "overlay",
              "size": 10,
              "solidity": 0.2
             }
            },
            "type": "barpolar"
           }
          ],
          "carpet": [
           {
            "aaxis": {
             "endlinecolor": "#2a3f5f",
             "gridcolor": "white",
             "linecolor": "white",
             "minorgridcolor": "white",
             "startlinecolor": "#2a3f5f"
            },
            "baxis": {
             "endlinecolor": "#2a3f5f",
             "gridcolor": "white",
             "linecolor": "white",
             "minorgridcolor": "white",
             "startlinecolor": "#2a3f5f"
            },
            "type": "carpet"
           }
          ],
          "choropleth": [
           {
            "colorbar": {
             "outlinewidth": 0,
             "ticks": ""
            },
            "type": "choropleth"
           }
          ],
          "contour": [
           {
            "colorbar": {
             "outlinewidth": 0,
             "ticks": ""
            },
            "colorscale": [
             [
              0,
              "#0d0887"
             ],
             [
              0.1111111111111111,
              "#46039f"
             ],
             [
              0.2222222222222222,
              "#7201a8"
             ],
             [
              0.3333333333333333,
              "#9c179e"
             ],
             [
              0.4444444444444444,
              "#bd3786"
             ],
             [
              0.5555555555555556,
              "#d8576b"
             ],
             [
              0.6666666666666666,
              "#ed7953"
             ],
             [
              0.7777777777777778,
              "#fb9f3a"
             ],
             [
              0.8888888888888888,
              "#fdca26"
             ],
             [
              1,
              "#f0f921"
             ]
            ],
            "type": "contour"
           }
          ],
          "contourcarpet": [
           {
            "colorbar": {
             "outlinewidth": 0,
             "ticks": ""
            },
            "type": "contourcarpet"
           }
          ],
          "heatmap": [
           {
            "colorbar": {
             "outlinewidth": 0,
             "ticks": ""
            },
            "colorscale": [
             [
              0,
              "#0d0887"
             ],
             [
              0.1111111111111111,
              "#46039f"
             ],
             [
              0.2222222222222222,
              "#7201a8"
             ],
             [
              0.3333333333333333,
              "#9c179e"
             ],
             [
              0.4444444444444444,
              "#bd3786"
             ],
             [
              0.5555555555555556,
              "#d8576b"
             ],
             [
              0.6666666666666666,
              "#ed7953"
             ],
             [
              0.7777777777777778,
              "#fb9f3a"
             ],
             [
              0.8888888888888888,
              "#fdca26"
             ],
             [
              1,
              "#f0f921"
             ]
            ],
            "type": "heatmap"
           }
          ],
          "histogram": [
           {
            "marker": {
             "pattern": {
              "fillmode": "overlay",
              "size": 10,
              "solidity": 0.2
             }
            },
            "type": "histogram"
           }
          ],
          "histogram2d": [
           {
            "colorbar": {
             "outlinewidth": 0,
             "ticks": ""
            },
            "colorscale": [
             [
              0,
              "#0d0887"
             ],
             [
              0.1111111111111111,
              "#46039f"
             ],
             [
              0.2222222222222222,
              "#7201a8"
             ],
             [
              0.3333333333333333,
              "#9c179e"
             ],
             [
              0.4444444444444444,
              "#bd3786"
             ],
             [
              0.5555555555555556,
              "#d8576b"
             ],
             [
              0.6666666666666666,
              "#ed7953"
             ],
             [
              0.7777777777777778,
              "#fb9f3a"
             ],
             [
              0.8888888888888888,
              "#fdca26"
             ],
             [
              1,
              "#f0f921"
             ]
            ],
            "type": "histogram2d"
           }
          ],
          "histogram2dcontour": [
           {
            "colorbar": {
             "outlinewidth": 0,
             "ticks": ""
            },
            "colorscale": [
             [
              0,
              "#0d0887"
             ],
             [
              0.1111111111111111,
              "#46039f"
             ],
             [
              0.2222222222222222,
              "#7201a8"
             ],
             [
              0.3333333333333333,
              "#9c179e"
             ],
             [
              0.4444444444444444,
              "#bd3786"
             ],
             [
              0.5555555555555556,
              "#d8576b"
             ],
             [
              0.6666666666666666,
              "#ed7953"
             ],
             [
              0.7777777777777778,
              "#fb9f3a"
             ],
             [
              0.8888888888888888,
              "#fdca26"
             ],
             [
              1,
              "#f0f921"
             ]
            ],
            "type": "histogram2dcontour"
           }
          ],
          "mesh3d": [
           {
            "colorbar": {
             "outlinewidth": 0,
             "ticks": ""
            },
            "type": "mesh3d"
           }
          ],
          "parcoords": [
           {
            "line": {
             "colorbar": {
              "outlinewidth": 0,
              "ticks": ""
             }
            },
            "type": "parcoords"
           }
          ],
          "pie": [
           {
            "automargin": true,
            "type": "pie"
           }
          ],
          "scatter": [
           {
            "fillpattern": {
             "fillmode": "overlay",
             "size": 10,
             "solidity": 0.2
            },
            "type": "scatter"
           }
          ],
          "scatter3d": [
           {
            "line": {
             "colorbar": {
              "outlinewidth": 0,
              "ticks": ""
             }
            },
            "marker": {
             "colorbar": {
              "outlinewidth": 0,
              "ticks": ""
             }
            },
            "type": "scatter3d"
           }
          ],
          "scattercarpet": [
           {
            "marker": {
             "colorbar": {
              "outlinewidth": 0,
              "ticks": ""
             }
            },
            "type": "scattercarpet"
           }
          ],
          "scattergeo": [
           {
            "marker": {
             "colorbar": {
              "outlinewidth": 0,
              "ticks": ""
             }
            },
            "type": "scattergeo"
           }
          ],
          "scattergl": [
           {
            "marker": {
             "colorbar": {
              "outlinewidth": 0,
              "ticks": ""
             }
            },
            "type": "scattergl"
           }
          ],
          "scattermap": [
           {
            "marker": {
             "colorbar": {
              "outlinewidth": 0,
              "ticks": ""
             }
            },
            "type": "scattermap"
           }
          ],
          "scattermapbox": [
           {
            "marker": {
             "colorbar": {
              "outlinewidth": 0,
              "ticks": ""
             }
            },
            "type": "scattermapbox"
           }
          ],
          "scatterpolar": [
           {
            "marker": {
             "colorbar": {
              "outlinewidth": 0,
              "ticks": ""
             }
            },
            "type": "scatterpolar"
           }
          ],
          "scatterpolargl": [
           {
            "marker": {
             "colorbar": {
              "outlinewidth": 0,
              "ticks": ""
             }
            },
            "type": "scatterpolargl"
           }
          ],
          "scatterternary": [
           {
            "marker": {
             "colorbar": {
              "outlinewidth": 0,
              "ticks": ""
             }
            },
            "type": "scatterternary"
           }
          ],
          "surface": [
           {
            "colorbar": {
             "outlinewidth": 0,
             "ticks": ""
            },
            "colorscale": [
             [
              0,
              "#0d0887"
             ],
             [
              0.1111111111111111,
              "#46039f"
             ],
             [
              0.2222222222222222,
              "#7201a8"
             ],
             [
              0.3333333333333333,
              "#9c179e"
             ],
             [
              0.4444444444444444,
              "#bd3786"
             ],
             [
              0.5555555555555556,
              "#d8576b"
             ],
             [
              0.6666666666666666,
              "#ed7953"
             ],
             [
              0.7777777777777778,
              "#fb9f3a"
             ],
             [
              0.8888888888888888,
              "#fdca26"
             ],
             [
              1,
              "#f0f921"
             ]
            ],
            "type": "surface"
           }
          ],
          "table": [
           {
            "cells": {
             "fill": {
              "color": "#EBF0F8"
             },
             "line": {
              "color": "white"
             }
            },
            "header": {
             "fill": {
              "color": "#C8D4E3"
             },
             "line": {
              "color": "white"
             }
            },
            "type": "table"
           }
          ]
         },
         "layout": {
          "annotationdefaults": {
           "arrowcolor": "#2a3f5f",
           "arrowhead": 0,
           "arrowwidth": 1
          },
          "autotypenumbers": "strict",
          "coloraxis": {
           "colorbar": {
            "outlinewidth": 0,
            "ticks": ""
           }
          },
          "colorscale": {
           "diverging": [
            [
             0,
             "#8e0152"
            ],
            [
             0.1,
             "#c51b7d"
            ],
            [
             0.2,
             "#de77ae"
            ],
            [
             0.3,
             "#f1b6da"
            ],
            [
             0.4,
             "#fde0ef"
            ],
            [
             0.5,
             "#f7f7f7"
            ],
            [
             0.6,
             "#e6f5d0"
            ],
            [
             0.7,
             "#b8e186"
            ],
            [
             0.8,
             "#7fbc41"
            ],
            [
             0.9,
             "#4d9221"
            ],
            [
             1,
             "#276419"
            ]
           ],
           "sequential": [
            [
             0,
             "#0d0887"
            ],
            [
             0.1111111111111111,
             "#46039f"
            ],
            [
             0.2222222222222222,
             "#7201a8"
            ],
            [
             0.3333333333333333,
             "#9c179e"
            ],
            [
             0.4444444444444444,
             "#bd3786"
            ],
            [
             0.5555555555555556,
             "#d8576b"
            ],
            [
             0.6666666666666666,
             "#ed7953"
            ],
            [
             0.7777777777777778,
             "#fb9f3a"
            ],
            [
             0.8888888888888888,
             "#fdca26"
            ],
            [
             1,
             "#f0f921"
            ]
           ],
           "sequentialminus": [
            [
             0,
             "#0d0887"
            ],
            [
             0.1111111111111111,
             "#46039f"
            ],
            [
             0.2222222222222222,
             "#7201a8"
            ],
            [
             0.3333333333333333,
             "#9c179e"
            ],
            [
             0.4444444444444444,
             "#bd3786"
            ],
            [
             0.5555555555555556,
             "#d8576b"
            ],
            [
             0.6666666666666666,
             "#ed7953"
            ],
            [
             0.7777777777777778,
             "#fb9f3a"
            ],
            [
             0.8888888888888888,
             "#fdca26"
            ],
            [
             1,
             "#f0f921"
            ]
           ]
          },
          "colorway": [
           "#636efa",
           "#EF553B",
           "#00cc96",
           "#ab63fa",
           "#FFA15A",
           "#19d3f3",
           "#FF6692",
           "#B6E880",
           "#FF97FF",
           "#FECB52"
          ],
          "font": {
           "color": "#2a3f5f"
          },
          "geo": {
           "bgcolor": "white",
           "lakecolor": "white",
           "landcolor": "#E5ECF6",
           "showlakes": true,
           "showland": true,
           "subunitcolor": "white"
          },
          "hoverlabel": {
           "align": "left"
          },
          "hovermode": "closest",
          "mapbox": {
           "style": "light"
          },
          "paper_bgcolor": "white",
          "plot_bgcolor": "#E5ECF6",
          "polar": {
           "angularaxis": {
            "gridcolor": "white",
            "linecolor": "white",
            "ticks": ""
           },
           "bgcolor": "#E5ECF6",
           "radialaxis": {
            "gridcolor": "white",
            "linecolor": "white",
            "ticks": ""
           }
          },
          "scene": {
           "xaxis": {
            "backgroundcolor": "#E5ECF6",
            "gridcolor": "white",
            "gridwidth": 2,
            "linecolor": "white",
            "showbackground": true,
            "ticks": "",
            "zerolinecolor": "white"
           },
           "yaxis": {
            "backgroundcolor": "#E5ECF6",
            "gridcolor": "white",
            "gridwidth": 2,
            "linecolor": "white",
            "showbackground": true,
            "ticks": "",
            "zerolinecolor": "white"
           },
           "zaxis": {
            "backgroundcolor": "#E5ECF6",
            "gridcolor": "white",
            "gridwidth": 2,
            "linecolor": "white",
            "showbackground": true,
            "ticks": "",
            "zerolinecolor": "white"
           }
          },
          "shapedefaults": {
           "line": {
            "color": "#2a3f5f"
           }
          },
          "ternary": {
           "aaxis": {
            "gridcolor": "white",
            "linecolor": "white",
            "ticks": ""
           },
           "baxis": {
            "gridcolor": "white",
            "linecolor": "white",
            "ticks": ""
           },
           "bgcolor": "#E5ECF6",
           "caxis": {
            "gridcolor": "white",
            "linecolor": "white",
            "ticks": ""
           }
          },
          "title": {
           "x": 0.05
          },
          "xaxis": {
           "automargin": true,
           "gridcolor": "white",
           "linecolor": "white",
           "ticks": "",
           "title": {
            "standoff": 15
           },
           "zerolinecolor": "white",
           "zerolinewidth": 2
          },
          "yaxis": {
           "automargin": true,
           "gridcolor": "white",
           "linecolor": "white",
           "ticks": "",
           "title": {
            "standoff": 15
           },
           "zerolinecolor": "white",
           "zerolinewidth": 2
          }
         }
        },
        "xaxis": {
         "anchor": "y",
         "domain": [
          0,
          0.2888888888888889
         ]
        },
        "xaxis2": {
         "anchor": "y2",
         "domain": [
          0.35555555555555557,
          0.6444444444444445
         ]
        },
        "xaxis3": {
         "anchor": "y3",
         "domain": [
          0.7111111111111111,
          1
         ]
        },
        "yaxis": {
         "anchor": "x",
         "domain": [
          0,
          1
         ]
        },
        "yaxis2": {
         "anchor": "x2",
         "domain": [
          0,
          1
         ]
        },
        "yaxis3": {
         "anchor": "x3",
         "domain": [
          0,
          1
         ]
        }
       }
      }
     },
     "metadata": {},
     "output_type": "display_data"
    }
   ],
   "source": [
    "fig = make_subplots(rows = 1, cols = 3, subplot_titles  = [metric + \" por Clasificador\" for metric in [\"Accuracy\", \"Precision\", \"AUC\"]])\n",
    "\n",
    "\n",
    "\n",
    "# Comparación final y selección del mejor clasificador\n",
    "print(\"=== COMPARACIÓN FINAL Y SELECCIÓN DEL MEJOR CLASIFICADOR (sin hiperparámetros) ===\")\n",
    "\n",
    "# Crear tabla de comparación\n",
    "comparison_df = pd.DataFrame({\n",
    "    'Classifier': list(results.keys()),\n",
    "    'Accuracy': [results[name]['accuracy'] for name in results.keys()],\n",
    "    'Precision': [results[name]['precision'] for name in results.keys()],\n",
    "    'AUC': [results[name]['auc'] for name in results.keys()]\n",
    "})\n",
    "\n",
    "print(\"Comparación de clasificadores:\")\n",
    "print(comparison_df.sort_values('AUC', ascending=False))\n",
    "\n",
    "# Determinar el mejor clasificador\n",
    "best_classifier = max(results.keys(), key=lambda x: results[x]['auc'])\n",
    "print(f\"\\nMEJOR CLASIFICADOR: {best_classifier}\")\n",
    "print(f\"Razones:\")\n",
    "print(f\"- AUC más alto: {results[best_classifier]['auc']:.4f}\")\n",
    "print(f\"- Accuracy: {results[best_classifier]['accuracy']:.4f}\")\n",
    "print(f\"- Precision: {results[best_classifier]['precision']:.4f}\")\n",
    "\n",
    "\n",
    "for index, metric in enumerate([\"accuracy\", \"precision\", \"auc\"]):\n",
    "    fig.add_trace(\n",
    "        go.Bar(\n",
    "            x = list(results.keys()),\n",
    "            y = [results[name][metric] for name in results.keys()],\n",
    "            marker = dict(\n",
    "                color = [\"darkblue\", \"orange\", \"seagreen\"]\n",
    "            ),\n",
    "            showlegend= False,\n",
    "            opacity= 0.7,\n",
    "            text = [f\"{results[name][metric]:.2f}\" for name in results.keys()],\n",
    "            textposition = \"auto\",\n",
    "        ),\n",
    "        row = 1,\n",
    "        col = index + 1\n",
    "    )\n",
    "fig.show()"
   ]
  },
  {
   "cell_type": "markdown",
   "id": "3e28b490",
   "metadata": {},
   "source": [
    "## Con hiperparámetros"
   ]
  },
  {
   "cell_type": "code",
   "execution_count": 463,
   "id": "d4992fd3",
   "metadata": {},
   "outputs": [],
   "source": [
    "best_overall = {\n",
    "    \"Random Forest\" : {'bootstrap': True, 'max_depth': 20, 'max_features': 'sqrt', 'min_samples_leaf': 4, 'min_samples_split': 2, 'n_estimators': 400},\n",
    "    \"SVM\" : {'C': 10, 'gamma': 1, 'kernel': 'linear'},\n",
    "    \"Logistic Regression\" : {'C': 1, 'solver': 'liblinear'}\n",
    "}"
   ]
  },
  {
   "cell_type": "code",
   "execution_count": 464,
   "id": "e54b4c14",
   "metadata": {},
   "outputs": [],
   "source": [
    "hiper_results = []\n",
    "\n",
    "hiper_time = {}\n",
    "for name, params in best_overall.items():\n",
    "    \n",
    "    if name == \"Random Forest\":\n",
    "        model = RandomForestClassifier(**params, random_state=42)\n",
    "    elif name == \"SVM\":\n",
    "        model = SVC(**params, probability=True, random_state=42)\n",
    "    elif name == \"Logistic Regression\":\n",
    "        model = LogisticRegression(**params, random_state=42, max_iter=1000)\n",
    "    \n",
    "    start_time_hiper = time.time() \n",
    "    model.fit(X, y)\n",
    "    y_pred = model.predict(X)\n",
    "    end_time_hiper = time.time()\n",
    "    y_pred_proba = model.predict_proba(X)[:, 1]\n",
    "    hiper_time[name] = end_time_hiper - start_time_hiper\n",
    "    \n",
    "    accuracy = accuracy_score(y, y_pred)\n",
    "    precision = precision_score(y, y_pred, zero_division=0)\n",
    "    auc = roc_auc_score(y, y_pred_proba)\n",
    "    \n",
    "\n",
    "    hiper_results.append({\n",
    "        'Classifier': name,\n",
    "        'Accuracy': accuracy,\n",
    "        'Precision': precision,\n",
    "        'AUC': auc\n",
    "    })"
   ]
  },
  {
   "cell_type": "code",
   "execution_count": 467,
   "id": "76416039",
   "metadata": {},
   "outputs": [
    {
     "data": {
      "application/vnd.plotly.v1+json": {
       "config": {
        "plotlyServerURL": "https://plot.ly"
       },
       "data": [
        {
         "marker": {
          "color": [
           "steelblue",
           "tomato",
           "orange"
          ],
          "opacity": 0.8
         },
         "name": "Logistic Regression",
         "text": {
          "bdata": "xSCwcmiR8D9VMCqpE0xwQI9TdCSX/4A/",
          "dtype": "f8"
         },
         "textposition": "auto",
         "type": "bar",
         "x": [
          "Random Forest",
          "SVM",
          "Logistic Regression"
         ],
         "y": {
          "bdata": "AAAAQFCR8D8AAIDdE0xwQAAAAADA+IA/",
          "dtype": "f8"
         }
        }
       ],
       "layout": {
        "template": {
         "data": {
          "bar": [
           {
            "error_x": {
             "color": "#2a3f5f"
            },
            "error_y": {
             "color": "#2a3f5f"
            },
            "marker": {
             "line": {
              "color": "#E5ECF6",
              "width": 0.5
             },
             "pattern": {
              "fillmode": "overlay",
              "size": 10,
              "solidity": 0.2
             }
            },
            "type": "bar"
           }
          ],
          "barpolar": [
           {
            "marker": {
             "line": {
              "color": "#E5ECF6",
              "width": 0.5
             },
             "pattern": {
              "fillmode": "overlay",
              "size": 10,
              "solidity": 0.2
             }
            },
            "type": "barpolar"
           }
          ],
          "carpet": [
           {
            "aaxis": {
             "endlinecolor": "#2a3f5f",
             "gridcolor": "white",
             "linecolor": "white",
             "minorgridcolor": "white",
             "startlinecolor": "#2a3f5f"
            },
            "baxis": {
             "endlinecolor": "#2a3f5f",
             "gridcolor": "white",
             "linecolor": "white",
             "minorgridcolor": "white",
             "startlinecolor": "#2a3f5f"
            },
            "type": "carpet"
           }
          ],
          "choropleth": [
           {
            "colorbar": {
             "outlinewidth": 0,
             "ticks": ""
            },
            "type": "choropleth"
           }
          ],
          "contour": [
           {
            "colorbar": {
             "outlinewidth": 0,
             "ticks": ""
            },
            "colorscale": [
             [
              0,
              "#0d0887"
             ],
             [
              0.1111111111111111,
              "#46039f"
             ],
             [
              0.2222222222222222,
              "#7201a8"
             ],
             [
              0.3333333333333333,
              "#9c179e"
             ],
             [
              0.4444444444444444,
              "#bd3786"
             ],
             [
              0.5555555555555556,
              "#d8576b"
             ],
             [
              0.6666666666666666,
              "#ed7953"
             ],
             [
              0.7777777777777778,
              "#fb9f3a"
             ],
             [
              0.8888888888888888,
              "#fdca26"
             ],
             [
              1,
              "#f0f921"
             ]
            ],
            "type": "contour"
           }
          ],
          "contourcarpet": [
           {
            "colorbar": {
             "outlinewidth": 0,
             "ticks": ""
            },
            "type": "contourcarpet"
           }
          ],
          "heatmap": [
           {
            "colorbar": {
             "outlinewidth": 0,
             "ticks": ""
            },
            "colorscale": [
             [
              0,
              "#0d0887"
             ],
             [
              0.1111111111111111,
              "#46039f"
             ],
             [
              0.2222222222222222,
              "#7201a8"
             ],
             [
              0.3333333333333333,
              "#9c179e"
             ],
             [
              0.4444444444444444,
              "#bd3786"
             ],
             [
              0.5555555555555556,
              "#d8576b"
             ],
             [
              0.6666666666666666,
              "#ed7953"
             ],
             [
              0.7777777777777778,
              "#fb9f3a"
             ],
             [
              0.8888888888888888,
              "#fdca26"
             ],
             [
              1,
              "#f0f921"
             ]
            ],
            "type": "heatmap"
           }
          ],
          "histogram": [
           {
            "marker": {
             "pattern": {
              "fillmode": "overlay",
              "size": 10,
              "solidity": 0.2
             }
            },
            "type": "histogram"
           }
          ],
          "histogram2d": [
           {
            "colorbar": {
             "outlinewidth": 0,
             "ticks": ""
            },
            "colorscale": [
             [
              0,
              "#0d0887"
             ],
             [
              0.1111111111111111,
              "#46039f"
             ],
             [
              0.2222222222222222,
              "#7201a8"
             ],
             [
              0.3333333333333333,
              "#9c179e"
             ],
             [
              0.4444444444444444,
              "#bd3786"
             ],
             [
              0.5555555555555556,
              "#d8576b"
             ],
             [
              0.6666666666666666,
              "#ed7953"
             ],
             [
              0.7777777777777778,
              "#fb9f3a"
             ],
             [
              0.8888888888888888,
              "#fdca26"
             ],
             [
              1,
              "#f0f921"
             ]
            ],
            "type": "histogram2d"
           }
          ],
          "histogram2dcontour": [
           {
            "colorbar": {
             "outlinewidth": 0,
             "ticks": ""
            },
            "colorscale": [
             [
              0,
              "#0d0887"
             ],
             [
              0.1111111111111111,
              "#46039f"
             ],
             [
              0.2222222222222222,
              "#7201a8"
             ],
             [
              0.3333333333333333,
              "#9c179e"
             ],
             [
              0.4444444444444444,
              "#bd3786"
             ],
             [
              0.5555555555555556,
              "#d8576b"
             ],
             [
              0.6666666666666666,
              "#ed7953"
             ],
             [
              0.7777777777777778,
              "#fb9f3a"
             ],
             [
              0.8888888888888888,
              "#fdca26"
             ],
             [
              1,
              "#f0f921"
             ]
            ],
            "type": "histogram2dcontour"
           }
          ],
          "mesh3d": [
           {
            "colorbar": {
             "outlinewidth": 0,
             "ticks": ""
            },
            "type": "mesh3d"
           }
          ],
          "parcoords": [
           {
            "line": {
             "colorbar": {
              "outlinewidth": 0,
              "ticks": ""
             }
            },
            "type": "parcoords"
           }
          ],
          "pie": [
           {
            "automargin": true,
            "type": "pie"
           }
          ],
          "scatter": [
           {
            "fillpattern": {
             "fillmode": "overlay",
             "size": 10,
             "solidity": 0.2
            },
            "type": "scatter"
           }
          ],
          "scatter3d": [
           {
            "line": {
             "colorbar": {
              "outlinewidth": 0,
              "ticks": ""
             }
            },
            "marker": {
             "colorbar": {
              "outlinewidth": 0,
              "ticks": ""
             }
            },
            "type": "scatter3d"
           }
          ],
          "scattercarpet": [
           {
            "marker": {
             "colorbar": {
              "outlinewidth": 0,
              "ticks": ""
             }
            },
            "type": "scattercarpet"
           }
          ],
          "scattergeo": [
           {
            "marker": {
             "colorbar": {
              "outlinewidth": 0,
              "ticks": ""
             }
            },
            "type": "scattergeo"
           }
          ],
          "scattergl": [
           {
            "marker": {
             "colorbar": {
              "outlinewidth": 0,
              "ticks": ""
             }
            },
            "type": "scattergl"
           }
          ],
          "scattermap": [
           {
            "marker": {
             "colorbar": {
              "outlinewidth": 0,
              "ticks": ""
             }
            },
            "type": "scattermap"
           }
          ],
          "scattermapbox": [
           {
            "marker": {
             "colorbar": {
              "outlinewidth": 0,
              "ticks": ""
             }
            },
            "type": "scattermapbox"
           }
          ],
          "scatterpolar": [
           {
            "marker": {
             "colorbar": {
              "outlinewidth": 0,
              "ticks": ""
             }
            },
            "type": "scatterpolar"
           }
          ],
          "scatterpolargl": [
           {
            "marker": {
             "colorbar": {
              "outlinewidth": 0,
              "ticks": ""
             }
            },
            "type": "scatterpolargl"
           }
          ],
          "scatterternary": [
           {
            "marker": {
             "colorbar": {
              "outlinewidth": 0,
              "ticks": ""
             }
            },
            "type": "scatterternary"
           }
          ],
          "surface": [
           {
            "colorbar": {
             "outlinewidth": 0,
             "ticks": ""
            },
            "colorscale": [
             [
              0,
              "#0d0887"
             ],
             [
              0.1111111111111111,
              "#46039f"
             ],
             [
              0.2222222222222222,
              "#7201a8"
             ],
             [
              0.3333333333333333,
              "#9c179e"
             ],
             [
              0.4444444444444444,
              "#bd3786"
             ],
             [
              0.5555555555555556,
              "#d8576b"
             ],
             [
              0.6666666666666666,
              "#ed7953"
             ],
             [
              0.7777777777777778,
              "#fb9f3a"
             ],
             [
              0.8888888888888888,
              "#fdca26"
             ],
             [
              1,
              "#f0f921"
             ]
            ],
            "type": "surface"
           }
          ],
          "table": [
           {
            "cells": {
             "fill": {
              "color": "#EBF0F8"
             },
             "line": {
              "color": "white"
             }
            },
            "header": {
             "fill": {
              "color": "#C8D4E3"
             },
             "line": {
              "color": "white"
             }
            },
            "type": "table"
           }
          ]
         },
         "layout": {
          "annotationdefaults": {
           "arrowcolor": "#2a3f5f",
           "arrowhead": 0,
           "arrowwidth": 1
          },
          "autotypenumbers": "strict",
          "coloraxis": {
           "colorbar": {
            "outlinewidth": 0,
            "ticks": ""
           }
          },
          "colorscale": {
           "diverging": [
            [
             0,
             "#8e0152"
            ],
            [
             0.1,
             "#c51b7d"
            ],
            [
             0.2,
             "#de77ae"
            ],
            [
             0.3,
             "#f1b6da"
            ],
            [
             0.4,
             "#fde0ef"
            ],
            [
             0.5,
             "#f7f7f7"
            ],
            [
             0.6,
             "#e6f5d0"
            ],
            [
             0.7,
             "#b8e186"
            ],
            [
             0.8,
             "#7fbc41"
            ],
            [
             0.9,
             "#4d9221"
            ],
            [
             1,
             "#276419"
            ]
           ],
           "sequential": [
            [
             0,
             "#0d0887"
            ],
            [
             0.1111111111111111,
             "#46039f"
            ],
            [
             0.2222222222222222,
             "#7201a8"
            ],
            [
             0.3333333333333333,
             "#9c179e"
            ],
            [
             0.4444444444444444,
             "#bd3786"
            ],
            [
             0.5555555555555556,
             "#d8576b"
            ],
            [
             0.6666666666666666,
             "#ed7953"
            ],
            [
             0.7777777777777778,
             "#fb9f3a"
            ],
            [
             0.8888888888888888,
             "#fdca26"
            ],
            [
             1,
             "#f0f921"
            ]
           ],
           "sequentialminus": [
            [
             0,
             "#0d0887"
            ],
            [
             0.1111111111111111,
             "#46039f"
            ],
            [
             0.2222222222222222,
             "#7201a8"
            ],
            [
             0.3333333333333333,
             "#9c179e"
            ],
            [
             0.4444444444444444,
             "#bd3786"
            ],
            [
             0.5555555555555556,
             "#d8576b"
            ],
            [
             0.6666666666666666,
             "#ed7953"
            ],
            [
             0.7777777777777778,
             "#fb9f3a"
            ],
            [
             0.8888888888888888,
             "#fdca26"
            ],
            [
             1,
             "#f0f921"
            ]
           ]
          },
          "colorway": [
           "#636efa",
           "#EF553B",
           "#00cc96",
           "#ab63fa",
           "#FFA15A",
           "#19d3f3",
           "#FF6692",
           "#B6E880",
           "#FF97FF",
           "#FECB52"
          ],
          "font": {
           "color": "#2a3f5f"
          },
          "geo": {
           "bgcolor": "white",
           "lakecolor": "white",
           "landcolor": "#E5ECF6",
           "showlakes": true,
           "showland": true,
           "subunitcolor": "white"
          },
          "hoverlabel": {
           "align": "left"
          },
          "hovermode": "closest",
          "mapbox": {
           "style": "light"
          },
          "paper_bgcolor": "white",
          "plot_bgcolor": "#E5ECF6",
          "polar": {
           "angularaxis": {
            "gridcolor": "white",
            "linecolor": "white",
            "ticks": ""
           },
           "bgcolor": "#E5ECF6",
           "radialaxis": {
            "gridcolor": "white",
            "linecolor": "white",
            "ticks": ""
           }
          },
          "scene": {
           "xaxis": {
            "backgroundcolor": "#E5ECF6",
            "gridcolor": "white",
            "gridwidth": 2,
            "linecolor": "white",
            "showbackground": true,
            "ticks": "",
            "zerolinecolor": "white"
           },
           "yaxis": {
            "backgroundcolor": "#E5ECF6",
            "gridcolor": "white",
            "gridwidth": 2,
            "linecolor": "white",
            "showbackground": true,
            "ticks": "",
            "zerolinecolor": "white"
           },
           "zaxis": {
            "backgroundcolor": "#E5ECF6",
            "gridcolor": "white",
            "gridwidth": 2,
            "linecolor": "white",
            "showbackground": true,
            "ticks": "",
            "zerolinecolor": "white"
           }
          },
          "shapedefaults": {
           "line": {
            "color": "#2a3f5f"
           }
          },
          "ternary": {
           "aaxis": {
            "gridcolor": "white",
            "linecolor": "white",
            "ticks": ""
           },
           "baxis": {
            "gridcolor": "white",
            "linecolor": "white",
            "ticks": ""
           },
           "bgcolor": "#E5ECF6",
           "caxis": {
            "gridcolor": "white",
            "linecolor": "white",
            "ticks": ""
           }
          },
          "title": {
           "x": 0.05
          },
          "xaxis": {
           "automargin": true,
           "gridcolor": "white",
           "linecolor": "white",
           "ticks": "",
           "title": {
            "standoff": 15
           },
           "zerolinecolor": "white",
           "zerolinewidth": 2
          },
          "yaxis": {
           "automargin": true,
           "gridcolor": "white",
           "linecolor": "white",
           "ticks": "",
           "title": {
            "standoff": 15
           },
           "zerolinecolor": "white",
           "zerolinewidth": 2
          }
         }
        },
        "title": {
         "text": "Tiempo de entrenamiento de cada modelo con hiperparámetros"
        },
        "xaxis": {
         "title": {
          "text": "Modelo"
         }
        },
        "yaxis": {
         "title": {
          "text": "Tiempo (s)"
         }
        }
       }
      }
     },
     "metadata": {},
     "output_type": "display_data"
    }
   ],
   "source": [
    "hiper_df_time = pd.DataFrame(hiper_time, index=['Time (s)']).T\n",
    "\n",
    "fig = go.Figure()\n",
    "colors = [\"steelblue\", \"tomato\", \"orange\"]\n",
    "\n",
    "\n",
    "fig.add_trace(\n",
    "    go.Bar(\n",
    "        x = hiper_df_time.index,\n",
    "        y = hiper_df_time['Time (s)'],\n",
    "        name = name,\n",
    "        text = hiper_df_time['Time (s)'].round(4),\n",
    "        textposition = \"auto\",\n",
    "        marker = dict(\n",
    "            color = colors,\n",
    "            opacity = 0.8\n",
    "        )\n",
    "    )\n",
    ")\n",
    "\n",
    "fig.update_layout(\n",
    "    title = \"Tiempo de entrenamiento de cada modelo con hiperparámetros\",\n",
    "    xaxis_title = \"Modelo\",\n",
    "    yaxis_title = \"Tiempo (s)\",\n",
    ")\n",
    "\n",
    "fig.show()"
   ]
  },
  {
   "cell_type": "code",
   "execution_count": 416,
   "id": "cdeb1bdd",
   "metadata": {},
   "outputs": [
    {
     "data": {
      "application/vnd.plotly.v1+json": {
       "config": {
        "plotlyServerURL": "https://plot.ly"
       },
       "data": [
        {
         "marker": {
          "color": [
           "darkblue",
           "orange",
           "seagreen"
          ]
         },
         "opacity": 0.7,
         "showlegend": false,
         "text": [
          "0.89",
          "0.79",
          "0.80"
         ],
         "textposition": "auto",
         "type": "bar",
         "x": [
          "Random Forest",
          "SVM",
          "Logistic Regression"
         ],
         "xaxis": "x",
         "y": {
          "bdata": "xvAOpL+f7D/h0KveGy3pP940WFdwm+k/",
          "dtype": "f8"
         },
         "yaxis": "y"
        },
        {
         "marker": {
          "color": [
           "darkblue",
           "orange",
           "seagreen"
          ]
         },
         "opacity": 0.7,
         "showlegend": false,
         "text": [
          "0.92",
          "0.74",
          "0.76"
         ],
         "textposition": "auto",
         "type": "bar",
         "x": [
          "Random Forest",
          "SVM",
          "Logistic Regression"
         ],
         "xaxis": "x2",
         "y": {
          "bdata": "YLOjFiF/7T9EThDuxr7nP3eobofqdug/",
          "dtype": "f8"
         },
         "yaxis": "y2"
        },
        {
         "marker": {
          "color": [
           "darkblue",
           "orange",
           "seagreen"
          ]
         },
         "opacity": 0.7,
         "showlegend": false,
         "text": [
          "0.95",
          "0.85",
          "0.86"
         ],
         "textposition": "auto",
         "type": "bar",
         "x": [
          "Random Forest",
          "SVM",
          "Logistic Regression"
         ],
         "xaxis": "x3",
         "y": {
          "bdata": "JeBtPQdn7j/RIuCCqjnrPxNbzdMva+s/",
          "dtype": "f8"
         },
         "yaxis": "y3"
        }
       ],
       "layout": {
        "annotations": [
         {
          "font": {
           "size": 16
          },
          "showarrow": false,
          "text": "Accuracy por Clasificador",
          "x": 0.14444444444444446,
          "xanchor": "center",
          "xref": "paper",
          "y": 1,
          "yanchor": "bottom",
          "yref": "paper"
         },
         {
          "font": {
           "size": 16
          },
          "showarrow": false,
          "text": "Precision por Clasificador",
          "x": 0.5,
          "xanchor": "center",
          "xref": "paper",
          "y": 1,
          "yanchor": "bottom",
          "yref": "paper"
         },
         {
          "font": {
           "size": 16
          },
          "showarrow": false,
          "text": "AUC por Clasificador",
          "x": 0.8555555555555556,
          "xanchor": "center",
          "xref": "paper",
          "y": 1,
          "yanchor": "bottom",
          "yref": "paper"
         }
        ],
        "template": {
         "data": {
          "bar": [
           {
            "error_x": {
             "color": "#2a3f5f"
            },
            "error_y": {
             "color": "#2a3f5f"
            },
            "marker": {
             "line": {
              "color": "#E5ECF6",
              "width": 0.5
             },
             "pattern": {
              "fillmode": "overlay",
              "size": 10,
              "solidity": 0.2
             }
            },
            "type": "bar"
           }
          ],
          "barpolar": [
           {
            "marker": {
             "line": {
              "color": "#E5ECF6",
              "width": 0.5
             },
             "pattern": {
              "fillmode": "overlay",
              "size": 10,
              "solidity": 0.2
             }
            },
            "type": "barpolar"
           }
          ],
          "carpet": [
           {
            "aaxis": {
             "endlinecolor": "#2a3f5f",
             "gridcolor": "white",
             "linecolor": "white",
             "minorgridcolor": "white",
             "startlinecolor": "#2a3f5f"
            },
            "baxis": {
             "endlinecolor": "#2a3f5f",
             "gridcolor": "white",
             "linecolor": "white",
             "minorgridcolor": "white",
             "startlinecolor": "#2a3f5f"
            },
            "type": "carpet"
           }
          ],
          "choropleth": [
           {
            "colorbar": {
             "outlinewidth": 0,
             "ticks": ""
            },
            "type": "choropleth"
           }
          ],
          "contour": [
           {
            "colorbar": {
             "outlinewidth": 0,
             "ticks": ""
            },
            "colorscale": [
             [
              0,
              "#0d0887"
             ],
             [
              0.1111111111111111,
              "#46039f"
             ],
             [
              0.2222222222222222,
              "#7201a8"
             ],
             [
              0.3333333333333333,
              "#9c179e"
             ],
             [
              0.4444444444444444,
              "#bd3786"
             ],
             [
              0.5555555555555556,
              "#d8576b"
             ],
             [
              0.6666666666666666,
              "#ed7953"
             ],
             [
              0.7777777777777778,
              "#fb9f3a"
             ],
             [
              0.8888888888888888,
              "#fdca26"
             ],
             [
              1,
              "#f0f921"
             ]
            ],
            "type": "contour"
           }
          ],
          "contourcarpet": [
           {
            "colorbar": {
             "outlinewidth": 0,
             "ticks": ""
            },
            "type": "contourcarpet"
           }
          ],
          "heatmap": [
           {
            "colorbar": {
             "outlinewidth": 0,
             "ticks": ""
            },
            "colorscale": [
             [
              0,
              "#0d0887"
             ],
             [
              0.1111111111111111,
              "#46039f"
             ],
             [
              0.2222222222222222,
              "#7201a8"
             ],
             [
              0.3333333333333333,
              "#9c179e"
             ],
             [
              0.4444444444444444,
              "#bd3786"
             ],
             [
              0.5555555555555556,
              "#d8576b"
             ],
             [
              0.6666666666666666,
              "#ed7953"
             ],
             [
              0.7777777777777778,
              "#fb9f3a"
             ],
             [
              0.8888888888888888,
              "#fdca26"
             ],
             [
              1,
              "#f0f921"
             ]
            ],
            "type": "heatmap"
           }
          ],
          "histogram": [
           {
            "marker": {
             "pattern": {
              "fillmode": "overlay",
              "size": 10,
              "solidity": 0.2
             }
            },
            "type": "histogram"
           }
          ],
          "histogram2d": [
           {
            "colorbar": {
             "outlinewidth": 0,
             "ticks": ""
            },
            "colorscale": [
             [
              0,
              "#0d0887"
             ],
             [
              0.1111111111111111,
              "#46039f"
             ],
             [
              0.2222222222222222,
              "#7201a8"
             ],
             [
              0.3333333333333333,
              "#9c179e"
             ],
             [
              0.4444444444444444,
              "#bd3786"
             ],
             [
              0.5555555555555556,
              "#d8576b"
             ],
             [
              0.6666666666666666,
              "#ed7953"
             ],
             [
              0.7777777777777778,
              "#fb9f3a"
             ],
             [
              0.8888888888888888,
              "#fdca26"
             ],
             [
              1,
              "#f0f921"
             ]
            ],
            "type": "histogram2d"
           }
          ],
          "histogram2dcontour": [
           {
            "colorbar": {
             "outlinewidth": 0,
             "ticks": ""
            },
            "colorscale": [
             [
              0,
              "#0d0887"
             ],
             [
              0.1111111111111111,
              "#46039f"
             ],
             [
              0.2222222222222222,
              "#7201a8"
             ],
             [
              0.3333333333333333,
              "#9c179e"
             ],
             [
              0.4444444444444444,
              "#bd3786"
             ],
             [
              0.5555555555555556,
              "#d8576b"
             ],
             [
              0.6666666666666666,
              "#ed7953"
             ],
             [
              0.7777777777777778,
              "#fb9f3a"
             ],
             [
              0.8888888888888888,
              "#fdca26"
             ],
             [
              1,
              "#f0f921"
             ]
            ],
            "type": "histogram2dcontour"
           }
          ],
          "mesh3d": [
           {
            "colorbar": {
             "outlinewidth": 0,
             "ticks": ""
            },
            "type": "mesh3d"
           }
          ],
          "parcoords": [
           {
            "line": {
             "colorbar": {
              "outlinewidth": 0,
              "ticks": ""
             }
            },
            "type": "parcoords"
           }
          ],
          "pie": [
           {
            "automargin": true,
            "type": "pie"
           }
          ],
          "scatter": [
           {
            "fillpattern": {
             "fillmode": "overlay",
             "size": 10,
             "solidity": 0.2
            },
            "type": "scatter"
           }
          ],
          "scatter3d": [
           {
            "line": {
             "colorbar": {
              "outlinewidth": 0,
              "ticks": ""
             }
            },
            "marker": {
             "colorbar": {
              "outlinewidth": 0,
              "ticks": ""
             }
            },
            "type": "scatter3d"
           }
          ],
          "scattercarpet": [
           {
            "marker": {
             "colorbar": {
              "outlinewidth": 0,
              "ticks": ""
             }
            },
            "type": "scattercarpet"
           }
          ],
          "scattergeo": [
           {
            "marker": {
             "colorbar": {
              "outlinewidth": 0,
              "ticks": ""
             }
            },
            "type": "scattergeo"
           }
          ],
          "scattergl": [
           {
            "marker": {
             "colorbar": {
              "outlinewidth": 0,
              "ticks": ""
             }
            },
            "type": "scattergl"
           }
          ],
          "scattermap": [
           {
            "marker": {
             "colorbar": {
              "outlinewidth": 0,
              "ticks": ""
             }
            },
            "type": "scattermap"
           }
          ],
          "scattermapbox": [
           {
            "marker": {
             "colorbar": {
              "outlinewidth": 0,
              "ticks": ""
             }
            },
            "type": "scattermapbox"
           }
          ],
          "scatterpolar": [
           {
            "marker": {
             "colorbar": {
              "outlinewidth": 0,
              "ticks": ""
             }
            },
            "type": "scatterpolar"
           }
          ],
          "scatterpolargl": [
           {
            "marker": {
             "colorbar": {
              "outlinewidth": 0,
              "ticks": ""
             }
            },
            "type": "scatterpolargl"
           }
          ],
          "scatterternary": [
           {
            "marker": {
             "colorbar": {
              "outlinewidth": 0,
              "ticks": ""
             }
            },
            "type": "scatterternary"
           }
          ],
          "surface": [
           {
            "colorbar": {
             "outlinewidth": 0,
             "ticks": ""
            },
            "colorscale": [
             [
              0,
              "#0d0887"
             ],
             [
              0.1111111111111111,
              "#46039f"
             ],
             [
              0.2222222222222222,
              "#7201a8"
             ],
             [
              0.3333333333333333,
              "#9c179e"
             ],
             [
              0.4444444444444444,
              "#bd3786"
             ],
             [
              0.5555555555555556,
              "#d8576b"
             ],
             [
              0.6666666666666666,
              "#ed7953"
             ],
             [
              0.7777777777777778,
              "#fb9f3a"
             ],
             [
              0.8888888888888888,
              "#fdca26"
             ],
             [
              1,
              "#f0f921"
             ]
            ],
            "type": "surface"
           }
          ],
          "table": [
           {
            "cells": {
             "fill": {
              "color": "#EBF0F8"
             },
             "line": {
              "color": "white"
             }
            },
            "header": {
             "fill": {
              "color": "#C8D4E3"
             },
             "line": {
              "color": "white"
             }
            },
            "type": "table"
           }
          ]
         },
         "layout": {
          "annotationdefaults": {
           "arrowcolor": "#2a3f5f",
           "arrowhead": 0,
           "arrowwidth": 1
          },
          "autotypenumbers": "strict",
          "coloraxis": {
           "colorbar": {
            "outlinewidth": 0,
            "ticks": ""
           }
          },
          "colorscale": {
           "diverging": [
            [
             0,
             "#8e0152"
            ],
            [
             0.1,
             "#c51b7d"
            ],
            [
             0.2,
             "#de77ae"
            ],
            [
             0.3,
             "#f1b6da"
            ],
            [
             0.4,
             "#fde0ef"
            ],
            [
             0.5,
             "#f7f7f7"
            ],
            [
             0.6,
             "#e6f5d0"
            ],
            [
             0.7,
             "#b8e186"
            ],
            [
             0.8,
             "#7fbc41"
            ],
            [
             0.9,
             "#4d9221"
            ],
            [
             1,
             "#276419"
            ]
           ],
           "sequential": [
            [
             0,
             "#0d0887"
            ],
            [
             0.1111111111111111,
             "#46039f"
            ],
            [
             0.2222222222222222,
             "#7201a8"
            ],
            [
             0.3333333333333333,
             "#9c179e"
            ],
            [
             0.4444444444444444,
             "#bd3786"
            ],
            [
             0.5555555555555556,
             "#d8576b"
            ],
            [
             0.6666666666666666,
             "#ed7953"
            ],
            [
             0.7777777777777778,
             "#fb9f3a"
            ],
            [
             0.8888888888888888,
             "#fdca26"
            ],
            [
             1,
             "#f0f921"
            ]
           ],
           "sequentialminus": [
            [
             0,
             "#0d0887"
            ],
            [
             0.1111111111111111,
             "#46039f"
            ],
            [
             0.2222222222222222,
             "#7201a8"
            ],
            [
             0.3333333333333333,
             "#9c179e"
            ],
            [
             0.4444444444444444,
             "#bd3786"
            ],
            [
             0.5555555555555556,
             "#d8576b"
            ],
            [
             0.6666666666666666,
             "#ed7953"
            ],
            [
             0.7777777777777778,
             "#fb9f3a"
            ],
            [
             0.8888888888888888,
             "#fdca26"
            ],
            [
             1,
             "#f0f921"
            ]
           ]
          },
          "colorway": [
           "#636efa",
           "#EF553B",
           "#00cc96",
           "#ab63fa",
           "#FFA15A",
           "#19d3f3",
           "#FF6692",
           "#B6E880",
           "#FF97FF",
           "#FECB52"
          ],
          "font": {
           "color": "#2a3f5f"
          },
          "geo": {
           "bgcolor": "white",
           "lakecolor": "white",
           "landcolor": "#E5ECF6",
           "showlakes": true,
           "showland": true,
           "subunitcolor": "white"
          },
          "hoverlabel": {
           "align": "left"
          },
          "hovermode": "closest",
          "mapbox": {
           "style": "light"
          },
          "paper_bgcolor": "white",
          "plot_bgcolor": "#E5ECF6",
          "polar": {
           "angularaxis": {
            "gridcolor": "white",
            "linecolor": "white",
            "ticks": ""
           },
           "bgcolor": "#E5ECF6",
           "radialaxis": {
            "gridcolor": "white",
            "linecolor": "white",
            "ticks": ""
           }
          },
          "scene": {
           "xaxis": {
            "backgroundcolor": "#E5ECF6",
            "gridcolor": "white",
            "gridwidth": 2,
            "linecolor": "white",
            "showbackground": true,
            "ticks": "",
            "zerolinecolor": "white"
           },
           "yaxis": {
            "backgroundcolor": "#E5ECF6",
            "gridcolor": "white",
            "gridwidth": 2,
            "linecolor": "white",
            "showbackground": true,
            "ticks": "",
            "zerolinecolor": "white"
           },
           "zaxis": {
            "backgroundcolor": "#E5ECF6",
            "gridcolor": "white",
            "gridwidth": 2,
            "linecolor": "white",
            "showbackground": true,
            "ticks": "",
            "zerolinecolor": "white"
           }
          },
          "shapedefaults": {
           "line": {
            "color": "#2a3f5f"
           }
          },
          "ternary": {
           "aaxis": {
            "gridcolor": "white",
            "linecolor": "white",
            "ticks": ""
           },
           "baxis": {
            "gridcolor": "white",
            "linecolor": "white",
            "ticks": ""
           },
           "bgcolor": "#E5ECF6",
           "caxis": {
            "gridcolor": "white",
            "linecolor": "white",
            "ticks": ""
           }
          },
          "title": {
           "x": 0.05
          },
          "xaxis": {
           "automargin": true,
           "gridcolor": "white",
           "linecolor": "white",
           "ticks": "",
           "title": {
            "standoff": 15
           },
           "zerolinecolor": "white",
           "zerolinewidth": 2
          },
          "yaxis": {
           "automargin": true,
           "gridcolor": "white",
           "linecolor": "white",
           "ticks": "",
           "title": {
            "standoff": 15
           },
           "zerolinecolor": "white",
           "zerolinewidth": 2
          }
         }
        },
        "title": {
         "text": "Comparación de clasificadores con mejores hiperparámetros"
        },
        "xaxis": {
         "anchor": "y",
         "domain": [
          0,
          0.2888888888888889
         ]
        },
        "xaxis2": {
         "anchor": "y2",
         "domain": [
          0.35555555555555557,
          0.6444444444444445
         ]
        },
        "xaxis3": {
         "anchor": "y3",
         "domain": [
          0.7111111111111111,
          1
         ]
        },
        "yaxis": {
         "anchor": "x",
         "domain": [
          0,
          1
         ]
        },
        "yaxis2": {
         "anchor": "x2",
         "domain": [
          0,
          1
         ]
        },
        "yaxis3": {
         "anchor": "x3",
         "domain": [
          0,
          1
         ]
        }
       }
      }
     },
     "metadata": {},
     "output_type": "display_data"
    }
   ],
   "source": [
    "hiper_model = pd.DataFrame(hiper_results)\n",
    "\n",
    "fig = make_subplots(rows = 1, cols = 3, subplot_titles  = [metric + \" por Clasificador\" for metric in [\"Accuracy\", \"Precision\", \"AUC\"]])\n",
    "\n",
    "for index, metric in enumerate([\"Accuracy\", \"Precision\", \"AUC\"]):\n",
    "\n",
    "    fig.add_trace(\n",
    "        go.Bar(\n",
    "            x = hiper_model['Classifier'],\n",
    "            y = hiper_model[metric],\n",
    "            marker = dict(\n",
    "                color = [\"darkblue\", \"orange\", \"seagreen\"]\n",
    "            ),\n",
    "            showlegend= False,\n",
    "            opacity= 0.7,\n",
    "            text = [f\"{value:.2f}\" for value in hiper_model[metric]],\n",
    "            textposition = \"auto\",\n",
    "        ),\n",
    "        row = 1,\n",
    "        col = index + 1\n",
    "    )\n",
    "\n",
    "fig.update_layout(\n",
    "    title_text = \"Comparación de clasificadores con mejores hiperparámetros\",\n",
    ")\n",
    "\n",
    "fig.show()"
   ]
  },
  {
   "cell_type": "markdown",
   "id": "ceca6265",
   "metadata": {},
   "source": [
    "#### ANÁLISIS DE CLUSTERING CON K-MEANS\n"
   ]
  },
  {
   "cell_type": "markdown",
   "id": "61ec660d",
   "metadata": {},
   "source": [
    "##### Preparación de Datos para Clustering\n"
   ]
  },
  {
   "cell_type": "code",
   "execution_count": 184,
   "id": "085e5c54",
   "metadata": {},
   "outputs": [],
   "source": [
    "# Preparación de datos para clustering\n",
    "features = ['Fare', 'Age', 'Pclass', 'SibSp', 'Sex', 'Deck'] \n",
    "X = df_encoded[features]\n",
    "\n",
    "scaler = StandardScaler()\n",
    "X_scaled = scaler.fit_transform(X)\n"
   ]
  },
  {
   "cell_type": "markdown",
   "id": "b4db9398",
   "metadata": {},
   "source": [
    "##### Explicación de la Preparación para Clustering\n",
    "\n",
    "**Features seleccionadas:**\n",
    "- **Fare:** Tarifa pagada por el pasajero\n",
    "- **Age:** Edad del pasajero\n",
    "- **Pclass:** Clase del pasajero (1, 2, 3)\n",
    "- **SibSp:** Número de hermanos/cónyuges a bordo\n",
    "- **Sex:** Sexo del pasajero (codificado)\n",
    "- **Deck:** Cubierta de la cabina (codificada)\n",
    "\n",
    "**Proceso realizado:**\n",
    "1. **Selección de variables:** Se eligieron 6 features que representan características socioeconómicas y demográficas\n",
    "2. **Estandarización:** Se aplicó StandardScaler para normalizar las variables a la misma escala\n",
    "3. **Preparación:** Los datos están listos para aplicar PCA y K-Means\n",
    "\n",
    "**Justificación de la selección:**\n",
    "- Estas variables capturan diferentes aspectos del perfil del pasajero\n",
    "- La estandarización es crucial para K-Means ya que es sensible a la escala\n",
    "- Permite identificar patrones ocultos en los datos\n"
   ]
  },
  {
   "cell_type": "markdown",
   "id": "4b275662",
   "metadata": {},
   "source": [
    "##### Aplicación de PCA y K-Means\n"
   ]
  },
  {
   "cell_type": "code",
   "execution_count": 322,
   "id": "d65bc0ed",
   "metadata": {},
   "outputs": [
    {
     "data": {
      "application/vnd.plotly.v1+json": {
       "config": {
        "plotlyServerURL": "https://plot.ly"
       },
       "data": [
        {
         "line": {
          "color": "cadetblue"
         },
         "showlegend": false,
         "type": "scatter",
         "x": [
          1,
          2,
          3,
          4,
          5,
          6,
          7,
          8,
          9,
          10
         ],
         "y": [
          5346.000000000002,
          3561.632508619173,
          2854.1632828871925,
          2285.6613581783954,
          2026.6305008710674,
          1925.4357276246524,
          1811.016067927798,
          1532.1846188119262,
          1285.7655407914197,
          1182.9705311754828
         ]
        },
        {
         "marker": {
          "color": "tomato",
          "size": 13
         },
         "mode": "markers",
         "name": "Valor de K seleccionado",
         "type": "scatter",
         "x": [
          4
         ],
         "y": [
          2285.6613581783954
         ]
        }
       ],
       "layout": {
        "height": 700,
        "template": {
         "data": {
          "bar": [
           {
            "error_x": {
             "color": "#2a3f5f"
            },
            "error_y": {
             "color": "#2a3f5f"
            },
            "marker": {
             "line": {
              "color": "#E5ECF6",
              "width": 0.5
             },
             "pattern": {
              "fillmode": "overlay",
              "size": 10,
              "solidity": 0.2
             }
            },
            "type": "bar"
           }
          ],
          "barpolar": [
           {
            "marker": {
             "line": {
              "color": "#E5ECF6",
              "width": 0.5
             },
             "pattern": {
              "fillmode": "overlay",
              "size": 10,
              "solidity": 0.2
             }
            },
            "type": "barpolar"
           }
          ],
          "carpet": [
           {
            "aaxis": {
             "endlinecolor": "#2a3f5f",
             "gridcolor": "white",
             "linecolor": "white",
             "minorgridcolor": "white",
             "startlinecolor": "#2a3f5f"
            },
            "baxis": {
             "endlinecolor": "#2a3f5f",
             "gridcolor": "white",
             "linecolor": "white",
             "minorgridcolor": "white",
             "startlinecolor": "#2a3f5f"
            },
            "type": "carpet"
           }
          ],
          "choropleth": [
           {
            "colorbar": {
             "outlinewidth": 0,
             "ticks": ""
            },
            "type": "choropleth"
           }
          ],
          "contour": [
           {
            "colorbar": {
             "outlinewidth": 0,
             "ticks": ""
            },
            "colorscale": [
             [
              0,
              "#0d0887"
             ],
             [
              0.1111111111111111,
              "#46039f"
             ],
             [
              0.2222222222222222,
              "#7201a8"
             ],
             [
              0.3333333333333333,
              "#9c179e"
             ],
             [
              0.4444444444444444,
              "#bd3786"
             ],
             [
              0.5555555555555556,
              "#d8576b"
             ],
             [
              0.6666666666666666,
              "#ed7953"
             ],
             [
              0.7777777777777778,
              "#fb9f3a"
             ],
             [
              0.8888888888888888,
              "#fdca26"
             ],
             [
              1,
              "#f0f921"
             ]
            ],
            "type": "contour"
           }
          ],
          "contourcarpet": [
           {
            "colorbar": {
             "outlinewidth": 0,
             "ticks": ""
            },
            "type": "contourcarpet"
           }
          ],
          "heatmap": [
           {
            "colorbar": {
             "outlinewidth": 0,
             "ticks": ""
            },
            "colorscale": [
             [
              0,
              "#0d0887"
             ],
             [
              0.1111111111111111,
              "#46039f"
             ],
             [
              0.2222222222222222,
              "#7201a8"
             ],
             [
              0.3333333333333333,
              "#9c179e"
             ],
             [
              0.4444444444444444,
              "#bd3786"
             ],
             [
              0.5555555555555556,
              "#d8576b"
             ],
             [
              0.6666666666666666,
              "#ed7953"
             ],
             [
              0.7777777777777778,
              "#fb9f3a"
             ],
             [
              0.8888888888888888,
              "#fdca26"
             ],
             [
              1,
              "#f0f921"
             ]
            ],
            "type": "heatmap"
           }
          ],
          "histogram": [
           {
            "marker": {
             "pattern": {
              "fillmode": "overlay",
              "size": 10,
              "solidity": 0.2
             }
            },
            "type": "histogram"
           }
          ],
          "histogram2d": [
           {
            "colorbar": {
             "outlinewidth": 0,
             "ticks": ""
            },
            "colorscale": [
             [
              0,
              "#0d0887"
             ],
             [
              0.1111111111111111,
              "#46039f"
             ],
             [
              0.2222222222222222,
              "#7201a8"
             ],
             [
              0.3333333333333333,
              "#9c179e"
             ],
             [
              0.4444444444444444,
              "#bd3786"
             ],
             [
              0.5555555555555556,
              "#d8576b"
             ],
             [
              0.6666666666666666,
              "#ed7953"
             ],
             [
              0.7777777777777778,
              "#fb9f3a"
             ],
             [
              0.8888888888888888,
              "#fdca26"
             ],
             [
              1,
              "#f0f921"
             ]
            ],
            "type": "histogram2d"
           }
          ],
          "histogram2dcontour": [
           {
            "colorbar": {
             "outlinewidth": 0,
             "ticks": ""
            },
            "colorscale": [
             [
              0,
              "#0d0887"
             ],
             [
              0.1111111111111111,
              "#46039f"
             ],
             [
              0.2222222222222222,
              "#7201a8"
             ],
             [
              0.3333333333333333,
              "#9c179e"
             ],
             [
              0.4444444444444444,
              "#bd3786"
             ],
             [
              0.5555555555555556,
              "#d8576b"
             ],
             [
              0.6666666666666666,
              "#ed7953"
             ],
             [
              0.7777777777777778,
              "#fb9f3a"
             ],
             [
              0.8888888888888888,
              "#fdca26"
             ],
             [
              1,
              "#f0f921"
             ]
            ],
            "type": "histogram2dcontour"
           }
          ],
          "mesh3d": [
           {
            "colorbar": {
             "outlinewidth": 0,
             "ticks": ""
            },
            "type": "mesh3d"
           }
          ],
          "parcoords": [
           {
            "line": {
             "colorbar": {
              "outlinewidth": 0,
              "ticks": ""
             }
            },
            "type": "parcoords"
           }
          ],
          "pie": [
           {
            "automargin": true,
            "type": "pie"
           }
          ],
          "scatter": [
           {
            "fillpattern": {
             "fillmode": "overlay",
             "size": 10,
             "solidity": 0.2
            },
            "type": "scatter"
           }
          ],
          "scatter3d": [
           {
            "line": {
             "colorbar": {
              "outlinewidth": 0,
              "ticks": ""
             }
            },
            "marker": {
             "colorbar": {
              "outlinewidth": 0,
              "ticks": ""
             }
            },
            "type": "scatter3d"
           }
          ],
          "scattercarpet": [
           {
            "marker": {
             "colorbar": {
              "outlinewidth": 0,
              "ticks": ""
             }
            },
            "type": "scattercarpet"
           }
          ],
          "scattergeo": [
           {
            "marker": {
             "colorbar": {
              "outlinewidth": 0,
              "ticks": ""
             }
            },
            "type": "scattergeo"
           }
          ],
          "scattergl": [
           {
            "marker": {
             "colorbar": {
              "outlinewidth": 0,
              "ticks": ""
             }
            },
            "type": "scattergl"
           }
          ],
          "scattermap": [
           {
            "marker": {
             "colorbar": {
              "outlinewidth": 0,
              "ticks": ""
             }
            },
            "type": "scattermap"
           }
          ],
          "scattermapbox": [
           {
            "marker": {
             "colorbar": {
              "outlinewidth": 0,
              "ticks": ""
             }
            },
            "type": "scattermapbox"
           }
          ],
          "scatterpolar": [
           {
            "marker": {
             "colorbar": {
              "outlinewidth": 0,
              "ticks": ""
             }
            },
            "type": "scatterpolar"
           }
          ],
          "scatterpolargl": [
           {
            "marker": {
             "colorbar": {
              "outlinewidth": 0,
              "ticks": ""
             }
            },
            "type": "scatterpolargl"
           }
          ],
          "scatterternary": [
           {
            "marker": {
             "colorbar": {
              "outlinewidth": 0,
              "ticks": ""
             }
            },
            "type": "scatterternary"
           }
          ],
          "surface": [
           {
            "colorbar": {
             "outlinewidth": 0,
             "ticks": ""
            },
            "colorscale": [
             [
              0,
              "#0d0887"
             ],
             [
              0.1111111111111111,
              "#46039f"
             ],
             [
              0.2222222222222222,
              "#7201a8"
             ],
             [
              0.3333333333333333,
              "#9c179e"
             ],
             [
              0.4444444444444444,
              "#bd3786"
             ],
             [
              0.5555555555555556,
              "#d8576b"
             ],
             [
              0.6666666666666666,
              "#ed7953"
             ],
             [
              0.7777777777777778,
              "#fb9f3a"
             ],
             [
              0.8888888888888888,
              "#fdca26"
             ],
             [
              1,
              "#f0f921"
             ]
            ],
            "type": "surface"
           }
          ],
          "table": [
           {
            "cells": {
             "fill": {
              "color": "#EBF0F8"
             },
             "line": {
              "color": "white"
             }
            },
            "header": {
             "fill": {
              "color": "#C8D4E3"
             },
             "line": {
              "color": "white"
             }
            },
            "type": "table"
           }
          ]
         },
         "layout": {
          "annotationdefaults": {
           "arrowcolor": "#2a3f5f",
           "arrowhead": 0,
           "arrowwidth": 1
          },
          "autotypenumbers": "strict",
          "coloraxis": {
           "colorbar": {
            "outlinewidth": 0,
            "ticks": ""
           }
          },
          "colorscale": {
           "diverging": [
            [
             0,
             "#8e0152"
            ],
            [
             0.1,
             "#c51b7d"
            ],
            [
             0.2,
             "#de77ae"
            ],
            [
             0.3,
             "#f1b6da"
            ],
            [
             0.4,
             "#fde0ef"
            ],
            [
             0.5,
             "#f7f7f7"
            ],
            [
             0.6,
             "#e6f5d0"
            ],
            [
             0.7,
             "#b8e186"
            ],
            [
             0.8,
             "#7fbc41"
            ],
            [
             0.9,
             "#4d9221"
            ],
            [
             1,
             "#276419"
            ]
           ],
           "sequential": [
            [
             0,
             "#0d0887"
            ],
            [
             0.1111111111111111,
             "#46039f"
            ],
            [
             0.2222222222222222,
             "#7201a8"
            ],
            [
             0.3333333333333333,
             "#9c179e"
            ],
            [
             0.4444444444444444,
             "#bd3786"
            ],
            [
             0.5555555555555556,
             "#d8576b"
            ],
            [
             0.6666666666666666,
             "#ed7953"
            ],
            [
             0.7777777777777778,
             "#fb9f3a"
            ],
            [
             0.8888888888888888,
             "#fdca26"
            ],
            [
             1,
             "#f0f921"
            ]
           ],
           "sequentialminus": [
            [
             0,
             "#0d0887"
            ],
            [
             0.1111111111111111,
             "#46039f"
            ],
            [
             0.2222222222222222,
             "#7201a8"
            ],
            [
             0.3333333333333333,
             "#9c179e"
            ],
            [
             0.4444444444444444,
             "#bd3786"
            ],
            [
             0.5555555555555556,
             "#d8576b"
            ],
            [
             0.6666666666666666,
             "#ed7953"
            ],
            [
             0.7777777777777778,
             "#fb9f3a"
            ],
            [
             0.8888888888888888,
             "#fdca26"
            ],
            [
             1,
             "#f0f921"
            ]
           ]
          },
          "colorway": [
           "#636efa",
           "#EF553B",
           "#00cc96",
           "#ab63fa",
           "#FFA15A",
           "#19d3f3",
           "#FF6692",
           "#B6E880",
           "#FF97FF",
           "#FECB52"
          ],
          "font": {
           "color": "#2a3f5f"
          },
          "geo": {
           "bgcolor": "white",
           "lakecolor": "white",
           "landcolor": "#E5ECF6",
           "showlakes": true,
           "showland": true,
           "subunitcolor": "white"
          },
          "hoverlabel": {
           "align": "left"
          },
          "hovermode": "closest",
          "mapbox": {
           "style": "light"
          },
          "paper_bgcolor": "white",
          "plot_bgcolor": "#E5ECF6",
          "polar": {
           "angularaxis": {
            "gridcolor": "white",
            "linecolor": "white",
            "ticks": ""
           },
           "bgcolor": "#E5ECF6",
           "radialaxis": {
            "gridcolor": "white",
            "linecolor": "white",
            "ticks": ""
           }
          },
          "scene": {
           "xaxis": {
            "backgroundcolor": "#E5ECF6",
            "gridcolor": "white",
            "gridwidth": 2,
            "linecolor": "white",
            "showbackground": true,
            "ticks": "",
            "zerolinecolor": "white"
           },
           "yaxis": {
            "backgroundcolor": "#E5ECF6",
            "gridcolor": "white",
            "gridwidth": 2,
            "linecolor": "white",
            "showbackground": true,
            "ticks": "",
            "zerolinecolor": "white"
           },
           "zaxis": {
            "backgroundcolor": "#E5ECF6",
            "gridcolor": "white",
            "gridwidth": 2,
            "linecolor": "white",
            "showbackground": true,
            "ticks": "",
            "zerolinecolor": "white"
           }
          },
          "shapedefaults": {
           "line": {
            "color": "#2a3f5f"
           }
          },
          "ternary": {
           "aaxis": {
            "gridcolor": "white",
            "linecolor": "white",
            "ticks": ""
           },
           "baxis": {
            "gridcolor": "white",
            "linecolor": "white",
            "ticks": ""
           },
           "bgcolor": "#E5ECF6",
           "caxis": {
            "gridcolor": "white",
            "linecolor": "white",
            "ticks": ""
           }
          },
          "title": {
           "x": 0.05
          },
          "xaxis": {
           "automargin": true,
           "gridcolor": "white",
           "linecolor": "white",
           "ticks": "",
           "title": {
            "standoff": 15
           },
           "zerolinecolor": "white",
           "zerolinewidth": 2
          },
          "yaxis": {
           "automargin": true,
           "gridcolor": "white",
           "linecolor": "white",
           "ticks": "",
           "title": {
            "standoff": 15
           },
           "zerolinecolor": "white",
           "zerolinewidth": 2
          }
         }
        },
        "title": {
         "text": "Método del codo para selección de K"
        },
        "width": 1300,
        "xaxis": {
         "title": {
          "text": "Valor de K"
         }
        },
        "yaxis": {
         "title": {
          "text": "Inercia total"
         }
        }
       }
      }
     },
     "metadata": {},
     "output_type": "display_data"
    }
   ],
   "source": [
    "# pca = PCA(n_components=2)\n",
    "# X_pca = pca.fit_transform(X_scaled)\n",
    "\n",
    "kmeans_values = list(range(1, 11))\n",
    "\n",
    "total_inertia = [] \n",
    "for k in kmeans_values:\n",
    "\n",
    "    kmeans = KMeans(n_clusters=k, random_state=42)\n",
    "    kmeans.fit(X_scaled)  \n",
    "    total_inertia.append(kmeans.inertia_)\n",
    "\n",
    "fig = go.Figure()\n",
    "\n",
    "fig.add_trace(\n",
    "    go.Scatter(\n",
    "        x = kmeans_values,\n",
    "        y = total_inertia,\n",
    "        line = dict(\n",
    "            color = \"cadetblue\"\n",
    "        ),\n",
    "        showlegend= False\n",
    "    )\n",
    ")\n",
    "\n",
    "fig.add_trace(\n",
    "    go.Scatter(\n",
    "        x = [4],\n",
    "        y = [total_inertia[3]],\n",
    "        mode = \"markers\",\n",
    "        marker = dict(\n",
    "            color = \"tomato\",\n",
    "            size = 13\n",
    "        ),\n",
    "        name = \"Valor de K seleccionado\",\n",
    "    ),\n",
    "    \n",
    ")\n",
    "\n",
    "fig.update_layout(\n",
    "    xaxis = dict(\n",
    "        title = \"Valor de K\"\n",
    "    ),\n",
    "    yaxis = dict(\n",
    "        title = \"Inercia total\"\n",
    "    ),\n",
    "    title = \"Método del codo para selección de K\",\n",
    "    width  = 1300,\n",
    "    height = 700\n",
    ")\n",
    "\n",
    "\n",
    "fig.show()"
   ]
  },
  {
   "cell_type": "code",
   "execution_count": 346,
   "id": "99eab02b",
   "metadata": {},
   "outputs": [],
   "source": [
    "kmeans = KMeans(n_clusters=4, random_state=42)\n",
    "kmeans.fit(X_scaled)  \n",
    "df_encoded['Cluster'] = kmeans.labels_"
   ]
  },
  {
   "cell_type": "markdown",
   "id": "511b4cb7",
   "metadata": {},
   "source": [
    "##### Explicación de PCA y K-Means\n",
    "\n",
    "**Aplicación de PCA:**\n",
    "- **Reducción dimensional:** De 6 variables a 2 componentes principales\n",
    "- **Varianza explicada:** Los dos primeros componentes capturan la mayor parte de la variabilidad\n",
    "- **Visualización:** Permite representar los datos en 2D para análisis visual\n",
    "\n",
    "**Aplicación de K-Means:**\n",
    "- **Número de clusters:** 3 clusters para identificar grupos distintos de pasajeros\n",
    "- **Random_state=42:** Para reproducibilidad de resultados\n",
    "- **Distribución:** Muestra cuántos pasajeros pertenecen a cada cluster\n",
    "\n",
    "**Interpretación:**\n",
    "- Los clusters pueden representar diferentes perfiles socioeconómicos\n",
    "- PC1 y PC2 capturan las dimensiones más importantes de variación\n",
    "- K-Means identifica grupos naturales en los datos\n"
   ]
  },
  {
   "cell_type": "markdown",
   "id": "019bb9bf",
   "metadata": {},
   "source": [
    "##### Visualización de Clusters\n"
   ]
  },
  {
   "cell_type": "code",
   "execution_count": 366,
   "id": "4cd9470a",
   "metadata": {},
   "outputs": [
    {
     "data": {
      "application/vnd.plotly.v1+json": {
       "config": {
        "plotlyServerURL": "https://plot.ly"
       },
       "data": [
        {
         "mode": "markers",
         "name": "Cluster 0",
         "type": "scatter",
         "x": {
          "bdata": "9ZLFqDDQ+z+69EdbGzn7P8TDVxip7fQ/kz64YkCs9z+fHRWqsqb1P7O8Wwmy//k/slCy7gAM9D+LuQzC1E/uP6fxqJW29ec/aZcmmpRZ9j9JXOODdU7tP6SU8g68Avo/CdiJzJxx+j9agGEHfC/yP3HOFa+Y8OY/B3WWTAcn+D8yXb1jmiLGP0lc44N1Tu0/3HL1ORsB7j9GNd+F+Cn1PxjL0PiCffo/er1g4IYq9D8BrWz2Xkb5P0lc44N1Tu0/fAszfWXg9j8QrctzK4z5P9xy9TkbAe4/TzrTODFu9j/ccvU5GwHuPwEzjaZZn/M/UBbPF9vX8j/a+0zA6YDzP0Jg5rMkO/Y/l/L303R79D8q2h5vBfL0P6meDa+f4vg/cc4Vr5jw5j8JXqp8l8r0P6NmIV02qfc/TIaTx/ye+T9JXOODdU7tP9rzm+8hHvo/cc4Vr5jw5j8=",
          "dtype": "f8"
         },
         "y": {
          "bdata": "mnk19c6kAEAxWQxOj7AFQBw5KMPV6wZArZ1yt+utBEDa+Fv+rHUIQPp+aV8hXgBA7coqXRYrCEDHGBDYDwsPQDPiYqnzBf4/xJdNI9noDUDdh14zfp4RQCzg+v0ThAZAXJiJNtcTBUBvlg+1zqPzP5hxLtI2NhZAM16Nz5CoA0AmRYUZk9P5P92HXjN+nhFArp4nmFgBA0Df4Q0TMP8MQLKgFRa5fgVA7TmmTa/sAUAdd0UTwygEQN2HXjN+nhFAMRvv/aFzCEADvelzRYULQK6eJ5hYAQNAr7neFWUSCUCunieYWAEDQNr0A9FUxAtABTSBuZwnC0Dnnh05hPMGQNFBZ4sIGAlAmtcX25iKB0DD+ihlZ4kCQLIWhAdn2gNAmHEu0jY2FkAaFkj0aK8MQPh4wjHyD/0/wX858rc1BkDdh14zfp4RQO3UT/fxLgVAmHEu0jY2FkA=",
          "dtype": "f8"
         }
        },
        {
         "mode": "markers",
         "name": "Cluster 1",
         "type": "scatter",
         "x": {
          "bdata": "0ks5kb3nBcCrrDY6HPEDwASXMAty9AHAncEf34C5BsDytxma++sCwM7WAC6d1g3AKy3a8kDYDMCCGIQ6maQGwGCt7bfkUQrAmYWvoYKfAcDpe8szL7MIwLRGO3WF6wXAB1hs1xByEMANKScqgskAwD7cOX8gPAvADSWBmwo2/b9SgglpY4v+vwJW6ZT0PATA4ecGrJUzEMDXLSXOhbMFwM+R/D6Ok/q/c/57j9UOAsB2s55UZqMDwJm5MXzXbgLAImisHcjDAMC6vbdxgWEHwBHivMgsAwjA82AAUH9UBcCGCRHQ91sGwI6djRR75wXAH1ScHwvSEMD0vwdrGusEwCj5XC5f6AXAHO0Gl/6cA8B70jYGFQ0FwIy7eQLPPgbAZae6RJXnBcDxyFuhwjIAwL0hxHv5OgXASbNL4WKiB8AbthQxNxYWwMDHlSlsWwPAB2KLFcu/AMAbhwP6rywQwNSb7bAlhArA4PHu5UmZAMBNSJrEsHYJwDppz5MIigTA3vWMu++FBcAVUqF9lfoEwN4ud8pwPgHAZqP99PPeE8BV0JZ+sn4CwJCquBmSdfu/EY3E8K6qBMA0YoL2u9//v4MLX5TKZATA1823lWwAEcDyED8zMPQLwN0YGjDRcwfAACOdVAW2CsAfRQ52dL4CwJ9zDN/qKQLANsI2OOEtCsB6RKR2Ekj+vz2v5APvhQHAJ/Zia272B8CdG0SpAIsQwO18w6XNlQHAyhWFm9l2/L/H6GCvfawIwIH3dpc5KQXAUI6E1raF+L+T0fgBzZn1vzmVUbYBcAzA5YYTD2DwB8C3EHwcO8EIwMi/4BBiWQTAL+vixbxZBsDGW+h8izb9v3Ed6yOYKgHAfi+A/Qi+BsDkIocRNJ4TwMWXzYcDwwHA74SxduyUA8DkbhP4oSz+v812zvVMIAfA2C4uwqMtAsBmOfyRmwcCwNZpDMeTu/2/28a/vNIn/783LMG/y4IGwFZkkJ8nawTAh/lBDXy9BsCyTKelHIIGwHMawGGLKgTAwN4T5zOh+788imfA0LsHwAt3ZjKtdQnA4E6y7SfoBMCsV1qiiJYCwMzn3zJrBPm/KEXcfUxs+r/59Hs1bg4BwLQsNKhIKgjA8Q1BXeoyCMBVoyNS7L8PwAVsbu+ZvAPAG5ITfbrV+L8c+JTxFEUDwHXR0zW2oAfADt96bHCiCMDbsFiG59sCwCco4JxVFgnA/bua1ZpGBcATp8XLFhkDwE1t69GgAgfAq1E+MU0I+b8dC3oNAkwBwBa17vFnGgnAjEHd0cLUBMAqzfHr96T+v4pftMEbVgrA5HsIeRFYB8CDN97gnFIIwB6Nr3Gm1wzAzWzJ0yAsAcB+1fI2qKcDwDFxZ4G9mAHAf82cBqKiDMCyOU3/7YABwIH3dpc5KQXAxdS6pLMsBMDEgEyBcWAIwFzUXxetNQnARvbPkcDy/r+AoGBPdTL9v2NmL0PB2wPAV9GpFLefAsAhiv8pUGkbwEYU7s4YZgDA6InWr94tDsASKOLryAADwEBAsGQexwjA4h3zDInbDcB02YDrq6D4v909Gt/mWvu/0DwH4tuP/L8WdFfGbtcBwPSDrmrB8QDAD4f/oBYeBMC4gSG33wgRwKFc+AtJ8vi/KPe30Qx0EMCLxidYYFAbwPvDcfiCxv6/7jXImd7QA8CZGD8LPEsRwKGycGmmqQvAS3KkdUN3+b/NSFrMATgIwEjNlQ5BBwvAPPJfGDUgB8Dt9HQI4yz4v12phEsq0RHAOoBi6pOMAsAxJlznSn36v0BRtGWe7AfA3GNwcBwbA8Bq3VcgZOIDwBAfLsRlXwLA0ytmnNDU/78HYosVy78AwGB0sCHDIgzACyhAjCZgDcCQGGrvMl0DwGSH/dDoLgHA9c5O9BesBsCMxGaSm2X7vwCGUaHPdAPA3pQpndHm/r+w3MDMPOkCwM+fGyu7pATAOs1Q+IRrBMAaDe7lfof/vwXxTwq/oArAWhCRpeM0AcCSg+O1AfX8vw==",
          "dtype": "f8"
         },
         "y": {
          "bdata": "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",
          "dtype": "f8"
         }
        },
        {
         "mode": "markers",
         "name": "Cluster 2",
         "type": "scatter",
         "x": {
          "bdata": "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",
          "dtype": "f8"
         },
         "y": {
          "bdata": "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",
          "dtype": "f8"
         }
        },
        {
         "mode": "markers",
         "name": "Cluster 3",
         "type": "scatter",
         "x": {
          "bdata": "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",
          "dtype": "f8"
         },
         "y": {
          "bdata": "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",
          "dtype": "f8"
         }
        }
       ],
       "layout": {
        "height": 700,
        "template": {
         "data": {
          "bar": [
           {
            "error_x": {
             "color": "#2a3f5f"
            },
            "error_y": {
             "color": "#2a3f5f"
            },
            "marker": {
             "line": {
              "color": "#E5ECF6",
              "width": 0.5
             },
             "pattern": {
              "fillmode": "overlay",
              "size": 10,
              "solidity": 0.2
             }
            },
            "type": "bar"
           }
          ],
          "barpolar": [
           {
            "marker": {
             "line": {
              "color": "#E5ECF6",
              "width": 0.5
             },
             "pattern": {
              "fillmode": "overlay",
              "size": 10,
              "solidity": 0.2
             }
            },
            "type": "barpolar"
           }
          ],
          "carpet": [
           {
            "aaxis": {
             "endlinecolor": "#2a3f5f",
             "gridcolor": "white",
             "linecolor": "white",
             "minorgridcolor": "white",
             "startlinecolor": "#2a3f5f"
            },
            "baxis": {
             "endlinecolor": "#2a3f5f",
             "gridcolor": "white",
             "linecolor": "white",
             "minorgridcolor": "white",
             "startlinecolor": "#2a3f5f"
            },
            "type": "carpet"
           }
          ],
          "choropleth": [
           {
            "colorbar": {
             "outlinewidth": 0,
             "ticks": ""
            },
            "type": "choropleth"
           }
          ],
          "contour": [
           {
            "colorbar": {
             "outlinewidth": 0,
             "ticks": ""
            },
            "colorscale": [
             [
              0,
              "#0d0887"
             ],
             [
              0.1111111111111111,
              "#46039f"
             ],
             [
              0.2222222222222222,
              "#7201a8"
             ],
             [
              0.3333333333333333,
              "#9c179e"
             ],
             [
              0.4444444444444444,
              "#bd3786"
             ],
             [
              0.5555555555555556,
              "#d8576b"
             ],
             [
              0.6666666666666666,
              "#ed7953"
             ],
             [
              0.7777777777777778,
              "#fb9f3a"
             ],
             [
              0.8888888888888888,
              "#fdca26"
             ],
             [
              1,
              "#f0f921"
             ]
            ],
            "type": "contour"
           }
          ],
          "contourcarpet": [
           {
            "colorbar": {
             "outlinewidth": 0,
             "ticks": ""
            },
            "type": "contourcarpet"
           }
          ],
          "heatmap": [
           {
            "colorbar": {
             "outlinewidth": 0,
             "ticks": ""
            },
            "colorscale": [
             [
              0,
              "#0d0887"
             ],
             [
              0.1111111111111111,
              "#46039f"
             ],
             [
              0.2222222222222222,
              "#7201a8"
             ],
             [
              0.3333333333333333,
              "#9c179e"
             ],
             [
              0.4444444444444444,
              "#bd3786"
             ],
             [
              0.5555555555555556,
              "#d8576b"
             ],
             [
              0.6666666666666666,
              "#ed7953"
             ],
             [
              0.7777777777777778,
              "#fb9f3a"
             ],
             [
              0.8888888888888888,
              "#fdca26"
             ],
             [
              1,
              "#f0f921"
             ]
            ],
            "type": "heatmap"
           }
          ],
          "histogram": [
           {
            "marker": {
             "pattern": {
              "fillmode": "overlay",
              "size": 10,
              "solidity": 0.2
             }
            },
            "type": "histogram"
           }
          ],
          "histogram2d": [
           {
            "colorbar": {
             "outlinewidth": 0,
             "ticks": ""
            },
            "colorscale": [
             [
              0,
              "#0d0887"
             ],
             [
              0.1111111111111111,
              "#46039f"
             ],
             [
              0.2222222222222222,
              "#7201a8"
             ],
             [
              0.3333333333333333,
              "#9c179e"
             ],
             [
              0.4444444444444444,
              "#bd3786"
             ],
             [
              0.5555555555555556,
              "#d8576b"
             ],
             [
              0.6666666666666666,
              "#ed7953"
             ],
             [
              0.7777777777777778,
              "#fb9f3a"
             ],
             [
              0.8888888888888888,
              "#fdca26"
             ],
             [
              1,
              "#f0f921"
             ]
            ],
            "type": "histogram2d"
           }
          ],
          "histogram2dcontour": [
           {
            "colorbar": {
             "outlinewidth": 0,
             "ticks": ""
            },
            "colorscale": [
             [
              0,
              "#0d0887"
             ],
             [
              0.1111111111111111,
              "#46039f"
             ],
             [
              0.2222222222222222,
              "#7201a8"
             ],
             [
              0.3333333333333333,
              "#9c179e"
             ],
             [
              0.4444444444444444,
              "#bd3786"
             ],
             [
              0.5555555555555556,
              "#d8576b"
             ],
             [
              0.6666666666666666,
              "#ed7953"
             ],
             [
              0.7777777777777778,
              "#fb9f3a"
             ],
             [
              0.8888888888888888,
              "#fdca26"
             ],
             [
              1,
              "#f0f921"
             ]
            ],
            "type": "histogram2dcontour"
           }
          ],
          "mesh3d": [
           {
            "colorbar": {
             "outlinewidth": 0,
             "ticks": ""
            },
            "type": "mesh3d"
           }
          ],
          "parcoords": [
           {
            "line": {
             "colorbar": {
              "outlinewidth": 0,
              "ticks": ""
             }
            },
            "type": "parcoords"
           }
          ],
          "pie": [
           {
            "automargin": true,
            "type": "pie"
           }
          ],
          "scatter": [
           {
            "fillpattern": {
             "fillmode": "overlay",
             "size": 10,
             "solidity": 0.2
            },
            "type": "scatter"
           }
          ],
          "scatter3d": [
           {
            "line": {
             "colorbar": {
              "outlinewidth": 0,
              "ticks": ""
             }
            },
            "marker": {
             "colorbar": {
              "outlinewidth": 0,
              "ticks": ""
             }
            },
            "type": "scatter3d"
           }
          ],
          "scattercarpet": [
           {
            "marker": {
             "colorbar": {
              "outlinewidth": 0,
              "ticks": ""
             }
            },
            "type": "scattercarpet"
           }
          ],
          "scattergeo": [
           {
            "marker": {
             "colorbar": {
              "outlinewidth": 0,
              "ticks": ""
             }
            },
            "type": "scattergeo"
           }
          ],
          "scattergl": [
           {
            "marker": {
             "colorbar": {
              "outlinewidth": 0,
              "ticks": ""
             }
            },
            "type": "scattergl"
           }
          ],
          "scattermap": [
           {
            "marker": {
             "colorbar": {
              "outlinewidth": 0,
              "ticks": ""
             }
            },
            "type": "scattermap"
           }
          ],
          "scattermapbox": [
           {
            "marker": {
             "colorbar": {
              "outlinewidth": 0,
              "ticks": ""
             }
            },
            "type": "scattermapbox"
           }
          ],
          "scatterpolar": [
           {
            "marker": {
             "colorbar": {
              "outlinewidth": 0,
              "ticks": ""
             }
            },
            "type": "scatterpolar"
           }
          ],
          "scatterpolargl": [
           {
            "marker": {
             "colorbar": {
              "outlinewidth": 0,
              "ticks": ""
             }
            },
            "type": "scatterpolargl"
           }
          ],
          "scatterternary": [
           {
            "marker": {
             "colorbar": {
              "outlinewidth": 0,
              "ticks": ""
             }
            },
            "type": "scatterternary"
           }
          ],
          "surface": [
           {
            "colorbar": {
             "outlinewidth": 0,
             "ticks": ""
            },
            "colorscale": [
             [
              0,
              "#0d0887"
             ],
             [
              0.1111111111111111,
              "#46039f"
             ],
             [
              0.2222222222222222,
              "#7201a8"
             ],
             [
              0.3333333333333333,
              "#9c179e"
             ],
             [
              0.4444444444444444,
              "#bd3786"
             ],
             [
              0.5555555555555556,
              "#d8576b"
             ],
             [
              0.6666666666666666,
              "#ed7953"
             ],
             [
              0.7777777777777778,
              "#fb9f3a"
             ],
             [
              0.8888888888888888,
              "#fdca26"
             ],
             [
              1,
              "#f0f921"
             ]
            ],
            "type": "surface"
           }
          ],
          "table": [
           {
            "cells": {
             "fill": {
              "color": "#EBF0F8"
             },
             "line": {
              "color": "white"
             }
            },
            "header": {
             "fill": {
              "color": "#C8D4E3"
             },
             "line": {
              "color": "white"
             }
            },
            "type": "table"
           }
          ]
         },
         "layout": {
          "annotationdefaults": {
           "arrowcolor": "#2a3f5f",
           "arrowhead": 0,
           "arrowwidth": 1
          },
          "autotypenumbers": "strict",
          "coloraxis": {
           "colorbar": {
            "outlinewidth": 0,
            "ticks": ""
           }
          },
          "colorscale": {
           "diverging": [
            [
             0,
             "#8e0152"
            ],
            [
             0.1,
             "#c51b7d"
            ],
            [
             0.2,
             "#de77ae"
            ],
            [
             0.3,
             "#f1b6da"
            ],
            [
             0.4,
             "#fde0ef"
            ],
            [
             0.5,
             "#f7f7f7"
            ],
            [
             0.6,
             "#e6f5d0"
            ],
            [
             0.7,
             "#b8e186"
            ],
            [
             0.8,
             "#7fbc41"
            ],
            [
             0.9,
             "#4d9221"
            ],
            [
             1,
             "#276419"
            ]
           ],
           "sequential": [
            [
             0,
             "#0d0887"
            ],
            [
             0.1111111111111111,
             "#46039f"
            ],
            [
             0.2222222222222222,
             "#7201a8"
            ],
            [
             0.3333333333333333,
             "#9c179e"
            ],
            [
             0.4444444444444444,
             "#bd3786"
            ],
            [
             0.5555555555555556,
             "#d8576b"
            ],
            [
             0.6666666666666666,
             "#ed7953"
            ],
            [
             0.7777777777777778,
             "#fb9f3a"
            ],
            [
             0.8888888888888888,
             "#fdca26"
            ],
            [
             1,
             "#f0f921"
            ]
           ],
           "sequentialminus": [
            [
             0,
             "#0d0887"
            ],
            [
             0.1111111111111111,
             "#46039f"
            ],
            [
             0.2222222222222222,
             "#7201a8"
            ],
            [
             0.3333333333333333,
             "#9c179e"
            ],
            [
             0.4444444444444444,
             "#bd3786"
            ],
            [
             0.5555555555555556,
             "#d8576b"
            ],
            [
             0.6666666666666666,
             "#ed7953"
            ],
            [
             0.7777777777777778,
             "#fb9f3a"
            ],
            [
             0.8888888888888888,
             "#fdca26"
            ],
            [
             1,
             "#f0f921"
            ]
           ]
          },
          "colorway": [
           "#636efa",
           "#EF553B",
           "#00cc96",
           "#ab63fa",
           "#FFA15A",
           "#19d3f3",
           "#FF6692",
           "#B6E880",
           "#FF97FF",
           "#FECB52"
          ],
          "font": {
           "color": "#2a3f5f"
          },
          "geo": {
           "bgcolor": "white",
           "lakecolor": "white",
           "landcolor": "#E5ECF6",
           "showlakes": true,
           "showland": true,
           "subunitcolor": "white"
          },
          "hoverlabel": {
           "align": "left"
          },
          "hovermode": "closest",
          "mapbox": {
           "style": "light"
          },
          "paper_bgcolor": "white",
          "plot_bgcolor": "#E5ECF6",
          "polar": {
           "angularaxis": {
            "gridcolor": "white",
            "linecolor": "white",
            "ticks": ""
           },
           "bgcolor": "#E5ECF6",
           "radialaxis": {
            "gridcolor": "white",
            "linecolor": "white",
            "ticks": ""
           }
          },
          "scene": {
           "xaxis": {
            "backgroundcolor": "#E5ECF6",
            "gridcolor": "white",
            "gridwidth": 2,
            "linecolor": "white",
            "showbackground": true,
            "ticks": "",
            "zerolinecolor": "white"
           },
           "yaxis": {
            "backgroundcolor": "#E5ECF6",
            "gridcolor": "white",
            "gridwidth": 2,
            "linecolor": "white",
            "showbackground": true,
            "ticks": "",
            "zerolinecolor": "white"
           },
           "zaxis": {
            "backgroundcolor": "#E5ECF6",
            "gridcolor": "white",
            "gridwidth": 2,
            "linecolor": "white",
            "showbackground": true,
            "ticks": "",
            "zerolinecolor": "white"
           }
          },
          "shapedefaults": {
           "line": {
            "color": "#2a3f5f"
           }
          },
          "ternary": {
           "aaxis": {
            "gridcolor": "white",
            "linecolor": "white",
            "ticks": ""
           },
           "baxis": {
            "gridcolor": "white",
            "linecolor": "white",
            "ticks": ""
           },
           "bgcolor": "#E5ECF6",
           "caxis": {
            "gridcolor": "white",
            "linecolor": "white",
            "ticks": ""
           }
          },
          "title": {
           "x": 0.05
          },
          "xaxis": {
           "automargin": true,
           "gridcolor": "white",
           "linecolor": "white",
           "ticks": "",
           "title": {
            "standoff": 15
           },
           "zerolinecolor": "white",
           "zerolinewidth": 2
          },
          "yaxis": {
           "automargin": true,
           "gridcolor": "white",
           "linecolor": "white",
           "ticks": "",
           "title": {
            "standoff": 15
           },
           "zerolinecolor": "white",
           "zerolinewidth": 2
          }
         }
        },
        "title": {
         "text": "Clusters obtenidos con K-Means (K=4)"
        },
        "width": 1000,
        "xaxis": {
         "title": {
          "text": "PC1"
         }
        },
        "yaxis": {
         "title": {
          "text": "PC2"
         }
        }
       }
      }
     },
     "metadata": {},
     "output_type": "display_data"
    }
   ],
   "source": [
    "pca_2d = PCA(n_components=2)\n",
    "X_pca = pca_2d.fit_transform(X_scaled)\n",
    "\n",
    "fig = go.Figure()\n",
    "for cluster in np.unique(kmeans.labels_):\n",
    "    cluster_data = X_pca[df_encoded['Cluster'] == cluster]\n",
    "    fig.add_trace(\n",
    "        go.Scatter(\n",
    "            x = cluster_data[:, 0],\n",
    "            y = cluster_data[:, 1],\n",
    "            mode = \"markers\",\n",
    "            name = f\"Cluster {cluster}\",\n",
    "        )\n",
    "    )\n",
    "\n",
    "fig.update_layout(\n",
    "    title = \"Clusters obtenidos con K-Means (K=4)\",\n",
    "    xaxis = dict(\n",
    "        title = \"PC1\"\n",
    "    ),\n",
    "    yaxis = dict(\n",
    "        title = \"PC2\"\n",
    "    ),\n",
    "    width  = 1000,\n",
    "    height = 700\n",
    ")\n",
    "\n",
    "fig.show()"
   ]
  },
  {
   "cell_type": "markdown",
   "id": "8dd5bf48",
   "metadata": {},
   "source": [
    "##### Explicación de la Visualización de Clusters\n",
    "\n",
    "**Gráfico de dispersión PCA:**\n",
    "- **Eje X (PC1):** Primer componente principal\n",
    "- **Eje Y (PC2):** Segundo componente principal\n",
    "- **Colores:** Diferentes clusters identificados por K-Means\n",
    "- **Separación:** Los clusters están bien separados en el espacio PCA\n",
    "\n",
    "**Distribución de clusters:**\n",
    "- **Cluster 0:** [Número de pasajeros]\n",
    "- **Cluster 1:** [Número de pasajeros]\n",
    "- **Cluster 2:** [Número de pasajeros]\n",
    "\n",
    "**Interpretación:**\n",
    "- Cada cluster representa un grupo distinto de pasajeros\n",
    "- La separación visual sugiere que K-Means identificó patrones reales\n",
    "- Los clusters pueden corresponder a diferentes perfiles socioeconómicos\n"
   ]
  },
  {
   "cell_type": "markdown",
   "id": "98de3049",
   "metadata": {},
   "source": [
    "##### Análisis de Distribución por Cluster\n"
   ]
  },
  {
   "cell_type": "code",
   "execution_count": 368,
   "id": "9152f529",
   "metadata": {},
   "outputs": [
    {
     "data": {
      "application/vnd.plotly.v1+json": {
       "config": {
        "plotlyServerURL": "https://plot.ly"
       },
       "data": [
        {
         "marker": {
          "color": "steelblue"
         },
         "name": "Fare",
         "showlegend": false,
         "type": "box",
         "x": [
          "2",
          "1",
          "3",
          "1",
          "2",
          "2",
          "1",
          "0",
          "3",
          "3",
          "3",
          "1",
          "2",
          "2",
          "3",
          "3",
          "0",
          "2",
          "3",
          "3",
          "2",
          "2",
          "3",
          "1",
          "0",
          "3",
          "2",
          "1",
          "3",
          "2",
          "2",
          "1",
          "3",
          "2",
          "2",
          "2",
          "2",
          "2",
          "3",
          "3",
          "3",
          "3",
          "2",
          "3",
          "3",
          "2",
          "2",
          "3",
          "2",
          "3",
          "0",
          "2",
          "1",
          "3",
          "1",
          "1",
          "3",
          "2",
          "3",
          "0",
          "2",
          "1",
          "1",
          "0",
          "2",
          "2",
          "3",
          "2",
          "0",
          "2",
          "2",
          "0",
          "2",
          "2",
          "2",
          "2",
          "2",
          "2",
          "2",
          "3",
          "2",
          "2",
          "3",
          "2",
          "3",
          "0",
          "2",
          "2",
          "1",
          "2",
          "2",
          "2",
          "1",
          "2",
          "2",
          "2",
          "1",
          "1",
          "3",
          "2",
          "3",
          "2",
          "1",
          "2",
          "2",
          "2",
          "3",
          "2",
          "2",
          "3",
          "1",
          "3",
          "2",
          "3",
          "3",
          "2",
          "2",
          "2",
          "1",
          "0",
          "2",
          "2",
          "2",
          "3",
          "1",
          "2",
          "2",
          "2",
          "3",
          "2",
          "2",
          "2",
          "3",
          "3",
          "2",
          "2",
          "1",
          "1",
          "2",
          "1",
          "3",
          "3",
          "3",
          "2",
          "2",
          "2",
          "2",
          "3",
          "2",
          "2",
          "2",
          "1",
          "2",
          "2",
          "2",
          "2",
          "3",
          "2",
          "2",
          "0",
          "2",
          "3",
          "2",
          "2",
          "0",
          "2",
          "1",
          "3",
          "2",
          "2",
          "1",
          "0",
          "3",
          "2",
          "1",
          "2",
          "0",
          "1",
          "2",
          "2",
          "0",
          "2",
          "0",
          "0",
          "3",
          "1",
          "3",
          "2",
          "2",
          "2",
          "3",
          "2",
          "3",
          "2",
          "1",
          "1",
          "2",
          "2",
          "3",
          "3",
          "2",
          "0",
          "2",
          "2",
          "2",
          "3",
          "2",
          "2",
          "3",
          "1",
          "2",
          "3",
          "2",
          "2",
          "2",
          "1",
          "3",
          "2",
          "1",
          "2",
          "2",
          "2",
          "2",
          "2",
          "1",
          "2",
          "2",
          "2",
          "2",
          "0",
          "1",
          "2",
          "2",
          "0",
          "2",
          "3",
          "2",
          "3",
          "2",
          "2",
          "3",
          "3",
          "2",
          "2",
          "2",
          "1",
          "3",
          "3",
          "1",
          "2",
          "2",
          "3",
          "1",
          "2",
          "3",
          "3",
          "3",
          "1",
          "1",
          "3",
          "2",
          "0",
          "1",
          "1",
          "3",
          "2",
          "0",
          "2",
          "1",
          "1",
          "2",
          "2",
          "3",
          "1",
          "3",
          "1",
          "3",
          "2",
          "0",
          "3",
          "2",
          "2",
          "2",
          "2",
          "1",
          "2",
          "2",
          "2",
          "2",
          "3",
          "3",
          "1",
          "2",
          "3",
          "2",
          "2",
          "2",
          "1",
          "1",
          "1",
          "3",
          "2",
          "2",
          "3",
          "2",
          "1",
          "1",
          "1",
          "2",
          "1",
          "1",
          "1",
          "3",
          "2",
          "2",
          "3",
          "3",
          "2",
          "1",
          "1",
          "2",
          "2",
          "3",
          "3",
          "0",
          "1",
          "2",
          "3",
          "3",
          "1",
          "3",
          "1",
          "1",
          "2",
          "1",
          "2",
          "1",
          "1",
          "2",
          "2",
          "2",
          "1",
          "2",
          "2",
          "2",
          "3",
          "3",
          "3",
          "2",
          "2",
          "2",
          "1",
          "2",
          "2",
          "2",
          "2",
          "1",
          "3",
          "3",
          "3",
          "2",
          "2",
          "3",
          "2",
          "2",
          "2",
          "1",
          "3",
          "3",
          "1",
          "1",
          "2",
          "2",
          "1",
          "0",
          "3",
          "3",
          "1",
          "2",
          "2",
          "1",
          "3",
          "2",
          "3",
          "2",
          "2",
          "0",
          "3",
          "2",
          "3",
          "1",
          "2",
          "2",
          "1",
          "3",
          "2",
          "3",
          "2",
          "2",
          "3",
          "2",
          "2",
          "3",
          "2",
          "3",
          "2",
          "2",
          "2",
          "2",
          "0",
          "2",
          "2",
          "1",
          "2",
          "2",
          "3",
          "3",
          "3",
          "2",
          "3",
          "2",
          "2",
          "2",
          "3",
          "2",
          "2",
          "3",
          "3",
          "2",
          "2",
          "1",
          "3",
          "3",
          "2",
          "1",
          "1",
          "3",
          "3",
          "1",
          "2",
          "3",
          "2",
          "2",
          "3",
          "2",
          "1",
          "3",
          "2",
          "3",
          "1",
          "2",
          "2",
          "1",
          "1",
          "2",
          "2",
          "1",
          "1",
          "3",
          "2",
          "1",
          "2",
          "1",
          "2",
          "2",
          "2",
          "2",
          "2",
          "2",
          "3",
          "2",
          "2",
          "3",
          "3",
          "3",
          "1",
          "2",
          "2",
          "2",
          "3",
          "0",
          "2",
          "2",
          "3",
          "1",
          "0",
          "1",
          "1",
          "2",
          "2",
          "2",
          "2",
          "1",
          "1",
          "2",
          "2",
          "1",
          "2",
          "1",
          "2",
          "2",
          "3",
          "3",
          "3",
          "1",
          "1",
          "3",
          "2",
          "2",
          "2",
          "2",
          "2",
          "1",
          "1",
          "2",
          "1",
          "3",
          "2",
          "3",
          "2",
          "1",
          "2",
          "2",
          "1",
          "2",
          "2",
          "3",
          "1",
          "2",
          "2",
          "3",
          "2",
          "2",
          "3",
          "3",
          "3",
          "1",
          "1",
          "2",
          "1",
          "1",
          "0",
          "0",
          "2",
          "1",
          "2",
          "3",
          "2",
          "2",
          "2",
          "1",
          "2",
          "2",
          "2",
          "3",
          "2",
          "1",
          "1",
          "1",
          "3",
          "2",
          "2",
          "2",
          "2",
          "3",
          "2",
          "2",
          "3",
          "2",
          "2",
          "2",
          "1",
          "1",
          "3",
          "2",
          "2",
          "3",
          "1",
          "3",
          "2",
          "3",
          "1",
          "2",
          "1",
          "2",
          "1",
          "2",
          "1",
          "2",
          "2",
          "2",
          "1",
          "2",
          "3",
          "2",
          "2",
          "3",
          "2",
          "2",
          "1",
          "3",
          "2",
          "2",
          "2",
          "2",
          "2",
          "2",
          "2",
          "3",
          "1",
          "3",
          "2",
          "3",
          "2",
          "2",
          "3",
          "2",
          "3",
          "3",
          "2",
          "2",
          "1",
          "2",
          "2",
          "2",
          "1",
          "2",
          "1",
          "2",
          "2",
          "1",
          "2",
          "1",
          "2",
          "0",
          "3",
          "2",
          "2",
          "3",
          "2",
          "2",
          "1",
          "0",
          "2",
          "3",
          "1",
          "2",
          "1",
          "2",
          "3",
          "2",
          "3",
          "2",
          "3",
          "3",
          "2",
          "2",
          "3",
          "2",
          "1",
          "1",
          "2",
          "1",
          "2",
          "2",
          "2",
          "2",
          "2",
          "2",
          "1",
          "3",
          "1",
          "2",
          "2",
          "2",
          "2",
          "2",
          "3",
          "3",
          "1",
          "3",
          "1",
          "2",
          "0",
          "2",
          "2",
          "0",
          "2",
          "2",
          "1",
          "1",
          "3",
          "2",
          "2",
          "2",
          "2",
          "2",
          "3",
          "1",
          "2",
          "1",
          "1",
          "3",
          "2",
          "2",
          "2",
          "3",
          "1",
          "1",
          "2",
          "1",
          "1",
          "1",
          "2",
          "2",
          "2",
          "1",
          "3",
          "2",
          "2",
          "3",
          "2",
          "2",
          "2",
          "1",
          "2",
          "3",
          "3",
          "2",
          "3",
          "1",
          "2",
          "2",
          "2",
          "2",
          "2",
          "3",
          "1",
          "2",
          "2",
          "1",
          "1",
          "1",
          "2",
          "2",
          "1",
          "2",
          "3",
          "1",
          "2",
          "3",
          "2",
          "2",
          "2",
          "3",
          "2",
          "2",
          "2",
          "2",
          "1",
          "2",
          "2",
          "2",
          "1",
          "2",
          "1",
          "2",
          "3",
          "2",
          "2",
          "2",
          "2",
          "1",
          "2",
          "3",
          "2",
          "2",
          "3",
          "2",
          "1",
          "3",
          "1",
          "1",
          "2",
          "2",
          "2",
          "3",
          "0",
          "2",
          "1",
          "2",
          "2",
          "0",
          "2",
          "2",
          "2",
          "1",
          "3",
          "2",
          "3",
          "2",
          "3",
          "1",
          "2",
          "2",
          "2",
          "1",
          "3",
          "2",
          "1",
          "2",
          "2",
          "2",
          "0",
          "2",
          "1",
          "3",
          "2",
          "2",
          "0",
          "1",
          "2",
          "2",
          "3",
          "0",
          "2",
          "2",
          "2",
          "2",
          "1",
          "3",
          "2",
          "2",
          "2",
          "2",
          "1",
          "2",
          "2",
          "2",
          "1",
          "2",
          "2",
          "3",
          "2",
          "2",
          "2",
          "0",
          "2",
          "2",
          "1",
          "0",
          "2",
          "3",
          "1",
          "3",
          "3",
          "1",
          "1",
          "3",
          "2",
          "2",
          "2",
          "1",
          "0",
          "2",
          "3",
          "3",
          "1",
          "2",
          "2",
          "2",
          "1",
          "1",
          "2",
          "3",
          "3",
          "2",
          "2",
          "2",
          "1",
          "3",
          "2",
          "3",
          "2",
          "2",
          "3",
          "2",
          "1",
          "3",
          "1",
          "2"
         ],
         "xaxis": "x",
         "y": {
          "bdata": "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",
          "dtype": "f8"
         },
         "yaxis": "y"
        },
        {
         "marker": {
          "color": "steelblue"
         },
         "name": "Age",
         "showlegend": false,
         "type": "box",
         "x": [
          "2",
          "1",
          "3",
          "1",
          "2",
          "2",
          "1",
          "0",
          "3",
          "3",
          "3",
          "1",
          "2",
          "2",
          "3",
          "3",
          "0",
          "2",
          "3",
          "3",
          "2",
          "2",
          "3",
          "1",
          "0",
          "3",
          "2",
          "1",
          "3",
          "2",
          "2",
          "1",
          "3",
          "2",
          "2",
          "2",
          "2",
          "2",
          "3",
          "3",
          "3",
          "3",
          "2",
          "3",
          "3",
          "2",
          "2",
          "3",
          "2",
          "3",
          "0",
          "2",
          "1",
          "3",
          "1",
          "1",
          "3",
          "2",
          "3",
          "0",
          "2",
          "1",
          "1",
          "0",
          "2",
          "2",
          "3",
          "2",
          "0",
          "2",
          "2",
          "0",
          "2",
          "2",
          "2",
          "2",
          "2",
          "2",
          "2",
          "3",
          "2",
          "2",
          "3",
          "2",
          "3",
          "0",
          "2",
          "2",
          "1",
          "2",
          "2",
          "2",
          "1",
          "2",
          "2",
          "2",
          "1",
          "1",
          "3",
          "2",
          "3",
          "2",
          "1",
          "2",
          "2",
          "2",
          "3",
          "2",
          "2",
          "3",
          "1",
          "3",
          "2",
          "3",
          "3",
          "2",
          "2",
          "2",
          "1",
          "0",
          "2",
          "2",
          "2",
          "3",
          "1",
          "2",
          "2",
          "2",
          "3",
          "2",
          "2",
          "2",
          "3",
          "3",
          "2",
          "2",
          "1",
          "1",
          "2",
          "1",
          "3",
          "3",
          "3",
          "2",
          "2",
          "2",
          "2",
          "3",
          "2",
          "2",
          "2",
          "1",
          "2",
          "2",
          "2",
          "2",
          "3",
          "2",
          "2",
          "0",
          "2",
          "3",
          "2",
          "2",
          "0",
          "2",
          "1",
          "3",
          "2",
          "2",
          "1",
          "0",
          "3",
          "2",
          "1",
          "2",
          "0",
          "1",
          "2",
          "2",
          "0",
          "2",
          "0",
          "0",
          "3",
          "1",
          "3",
          "2",
          "2",
          "2",
          "3",
          "2",
          "3",
          "2",
          "1",
          "1",
          "2",
          "2",
          "3",
          "3",
          "2",
          "0",
          "2",
          "2",
          "2",
          "3",
          "2",
          "2",
          "3",
          "1",
          "2",
          "3",
          "2",
          "2",
          "2",
          "1",
          "3",
          "2",
          "1",
          "2",
          "2",
          "2",
          "2",
          "2",
          "1",
          "2",
          "2",
          "2",
          "2",
          "0",
          "1",
          "2",
          "2",
          "0",
          "2",
          "3",
          "2",
          "3",
          "2",
          "2",
          "3",
          "3",
          "2",
          "2",
          "2",
          "1",
          "3",
          "3",
          "1",
          "2",
          "2",
          "3",
          "1",
          "2",
          "3",
          "3",
          "3",
          "1",
          "1",
          "3",
          "2",
          "0",
          "1",
          "1",
          "3",
          "2",
          "0",
          "2",
          "1",
          "1",
          "2",
          "2",
          "3",
          "1",
          "3",
          "1",
          "3",
          "2",
          "0",
          "3",
          "2",
          "2",
          "2",
          "2",
          "1",
          "2",
          "2",
          "2",
          "2",
          "3",
          "3",
          "1",
          "2",
          "3",
          "2",
          "2",
          "2",
          "1",
          "1",
          "1",
          "3",
          "2",
          "2",
          "3",
          "2",
          "1",
          "1",
          "1",
          "2",
          "1",
          "1",
          "1",
          "3",
          "2",
          "2",
          "3",
          "3",
          "2",
          "1",
          "1",
          "2",
          "2",
          "3",
          "3",
          "0",
          "1",
          "2",
          "3",
          "3",
          "1",
          "3",
          "1",
          "1",
          "2",
          "1",
          "2",
          "1",
          "1",
          "2",
          "2",
          "2",
          "1",
          "2",
          "2",
          "2",
          "3",
          "3",
          "3",
          "2",
          "2",
          "2",
          "1",
          "2",
          "2",
          "2",
          "2",
          "1",
          "3",
          "3",
          "3",
          "2",
          "2",
          "3",
          "2",
          "2",
          "2",
          "1",
          "3",
          "3",
          "1",
          "1",
          "2",
          "2",
          "1",
          "0",
          "3",
          "3",
          "1",
          "2",
          "2",
          "1",
          "3",
          "2",
          "3",
          "2",
          "2",
          "0",
          "3",
          "2",
          "3",
          "1",
          "2",
          "2",
          "1",
          "3",
          "2",
          "3",
          "2",
          "2",
          "3",
          "2",
          "2",
          "3",
          "2",
          "3",
          "2",
          "2",
          "2",
          "2",
          "0",
          "2",
          "2",
          "1",
          "2",
          "2",
          "3",
          "3",
          "3",
          "2",
          "3",
          "2",
          "2",
          "2",
          "3",
          "2",
          "2",
          "3",
          "3",
          "2",
          "2",
          "1",
          "3",
          "3",
          "2",
          "1",
          "1",
          "3",
          "3",
          "1",
          "2",
          "3",
          "2",
          "2",
          "3",
          "2",
          "1",
          "3",
          "2",
          "3",
          "1",
          "2",
          "2",
          "1",
          "1",
          "2",
          "2",
          "1",
          "1",
          "3",
          "2",
          "1",
          "2",
          "1",
          "2",
          "2",
          "2",
          "2",
          "2",
          "2",
          "3",
          "2",
          "2",
          "3",
          "3",
          "3",
          "1",
          "2",
          "2",
          "2",
          "3",
          "0",
          "2",
          "2",
          "3",
          "1",
          "0",
          "1",
          "1",
          "2",
          "2",
          "2",
          "2",
          "1",
          "1",
          "2",
          "2",
          "1",
          "2",
          "1",
          "2",
          "2",
          "3",
          "3",
          "3",
          "1",
          "1",
          "3",
          "2",
          "2",
          "2",
          "2",
          "2",
          "1",
          "1",
          "2",
          "1",
          "3",
          "2",
          "3",
          "2",
          "1",
          "2",
          "2",
          "1",
          "2",
          "2",
          "3",
          "1",
          "2",
          "2",
          "3",
          "2",
          "2",
          "3",
          "3",
          "3",
          "1",
          "1",
          "2",
          "1",
          "1",
          "0",
          "0",
          "2",
          "1",
          "2",
          "3",
          "2",
          "2",
          "2",
          "1",
          "2",
          "2",
          "2",
          "3",
          "2",
          "1",
          "1",
          "1",
          "3",
          "2",
          "2",
          "2",
          "2",
          "3",
          "2",
          "2",
          "3",
          "2",
          "2",
          "2",
          "1",
          "1",
          "3",
          "2",
          "2",
          "3",
          "1",
          "3",
          "2",
          "3",
          "1",
          "2",
          "1",
          "2",
          "1",
          "2",
          "1",
          "2",
          "2",
          "2",
          "1",
          "2",
          "3",
          "2",
          "2",
          "3",
          "2",
          "2",
          "1",
          "3",
          "2",
          "2",
          "2",
          "2",
          "2",
          "2",
          "2",
          "3",
          "1",
          "3",
          "2",
          "3",
          "2",
          "2",
          "3",
          "2",
          "3",
          "3",
          "2",
          "2",
          "1",
          "2",
          "2",
          "2",
          "1",
          "2",
          "1",
          "2",
          "2",
          "1",
          "2",
          "1",
          "2",
          "0",
          "3",
          "2",
          "2",
          "3",
          "2",
          "2",
          "1",
          "0",
          "2",
          "3",
          "1",
          "2",
          "1",
          "2",
          "3",
          "2",
          "3",
          "2",
          "3",
          "3",
          "2",
          "2",
          "3",
          "2",
          "1",
          "1",
          "2",
          "1",
          "2",
          "2",
          "2",
          "2",
          "2",
          "2",
          "1",
          "3",
          "1",
          "2",
          "2",
          "2",
          "2",
          "2",
          "3",
          "3",
          "1",
          "3",
          "1",
          "2",
          "0",
          "2",
          "2",
          "0",
          "2",
          "2",
          "1",
          "1",
          "3",
          "2",
          "2",
          "2",
          "2",
          "2",
          "3",
          "1",
          "2",
          "1",
          "1",
          "3",
          "2",
          "2",
          "2",
          "3",
          "1",
          "1",
          "2",
          "1",
          "1",
          "1",
          "2",
          "2",
          "2",
          "1",
          "3",
          "2",
          "2",
          "3",
          "2",
          "2",
          "2",
          "1",
          "2",
          "3",
          "3",
          "2",
          "3",
          "1",
          "2",
          "2",
          "2",
          "2",
          "2",
          "3",
          "1",
          "2",
          "2",
          "1",
          "1",
          "1",
          "2",
          "2",
          "1",
          "2",
          "3",
          "1",
          "2",
          "3",
          "2",
          "2",
          "2",
          "3",
          "2",
          "2",
          "2",
          "2",
          "1",
          "2",
          "2",
          "2",
          "1",
          "2",
          "1",
          "2",
          "3",
          "2",
          "2",
          "2",
          "2",
          "1",
          "2",
          "3",
          "2",
          "2",
          "3",
          "2",
          "1",
          "3",
          "1",
          "1",
          "2",
          "2",
          "2",
          "3",
          "0",
          "2",
          "1",
          "2",
          "2",
          "0",
          "2",
          "2",
          "2",
          "1",
          "3",
          "2",
          "3",
          "2",
          "3",
          "1",
          "2",
          "2",
          "2",
          "1",
          "3",
          "2",
          "1",
          "2",
          "2",
          "2",
          "0",
          "2",
          "1",
          "3",
          "2",
          "2",
          "0",
          "1",
          "2",
          "2",
          "3",
          "0",
          "2",
          "2",
          "2",
          "2",
          "1",
          "3",
          "2",
          "2",
          "2",
          "2",
          "1",
          "2",
          "2",
          "2",
          "1",
          "2",
          "2",
          "3",
          "2",
          "2",
          "2",
          "0",
          "2",
          "2",
          "1",
          "0",
          "2",
          "3",
          "1",
          "3",
          "3",
          "1",
          "1",
          "3",
          "2",
          "2",
          "2",
          "1",
          "0",
          "2",
          "3",
          "3",
          "1",
          "2",
          "2",
          "2",
          "1",
          "1",
          "2",
          "3",
          "3",
          "2",
          "2",
          "2",
          "1",
          "3",
          "2",
          "3",
          "2",
          "2",
          "3",
          "2",
          "1",
          "3",
          "1",
          "2"
         ],
         "xaxis": "x2",
         "y": {
          "bdata": "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",
          "dtype": "f8"
         },
         "yaxis": "y2"
        },
        {
         "marker": {
          "color": "steelblue"
         },
         "name": "Pclass",
         "showlegend": false,
         "type": "box",
         "x": [
          "2",
          "1",
          "3",
          "1",
          "2",
          "2",
          "1",
          "0",
          "3",
          "3",
          "3",
          "1",
          "2",
          "2",
          "3",
          "3",
          "0",
          "2",
          "3",
          "3",
          "2",
          "2",
          "3",
          "1",
          "0",
          "3",
          "2",
          "1",
          "3",
          "2",
          "2",
          "1",
          "3",
          "2",
          "2",
          "2",
          "2",
          "2",
          "3",
          "3",
          "3",
          "3",
          "2",
          "3",
          "3",
          "2",
          "2",
          "3",
          "2",
          "3",
          "0",
          "2",
          "1",
          "3",
          "1",
          "1",
          "3",
          "2",
          "3",
          "0",
          "2",
          "1",
          "1",
          "0",
          "2",
          "2",
          "3",
          "2",
          "0",
          "2",
          "2",
          "0",
          "2",
          "2",
          "2",
          "2",
          "2",
          "2",
          "2",
          "3",
          "2",
          "2",
          "3",
          "2",
          "3",
          "0",
          "2",
          "2",
          "1",
          "2",
          "2",
          "2",
          "1",
          "2",
          "2",
          "2",
          "1",
          "1",
          "3",
          "2",
          "3",
          "2",
          "1",
          "2",
          "2",
          "2",
          "3",
          "2",
          "2",
          "3",
          "1",
          "3",
          "2",
          "3",
          "3",
          "2",
          "2",
          "2",
          "1",
          "0",
          "2",
          "2",
          "2",
          "3",
          "1",
          "2",
          "2",
          "2",
          "3",
          "2",
          "2",
          "2",
          "3",
          "3",
          "2",
          "2",
          "1",
          "1",
          "2",
          "1",
          "3",
          "3",
          "3",
          "2",
          "2",
          "2",
          "2",
          "3",
          "2",
          "2",
          "2",
          "1",
          "2",
          "2",
          "2",
          "2",
          "3",
          "2",
          "2",
          "0",
          "2",
          "3",
          "2",
          "2",
          "0",
          "2",
          "1",
          "3",
          "2",
          "2",
          "1",
          "0",
          "3",
          "2",
          "1",
          "2",
          "0",
          "1",
          "2",
          "2",
          "0",
          "2",
          "0",
          "0",
          "3",
          "1",
          "3",
          "2",
          "2",
          "2",
          "3",
          "2",
          "3",
          "2",
          "1",
          "1",
          "2",
          "2",
          "3",
          "3",
          "2",
          "0",
          "2",
          "2",
          "2",
          "3",
          "2",
          "2",
          "3",
          "1",
          "2",
          "3",
          "2",
          "2",
          "2",
          "1",
          "3",
          "2",
          "1",
          "2",
          "2",
          "2",
          "2",
          "2",
          "1",
          "2",
          "2",
          "2",
          "2",
          "0",
          "1",
          "2",
          "2",
          "0",
          "2",
          "3",
          "2",
          "3",
          "2",
          "2",
          "3",
          "3",
          "2",
          "2",
          "2",
          "1",
          "3",
          "3",
          "1",
          "2",
          "2",
          "3",
          "1",
          "2",
          "3",
          "3",
          "3",
          "1",
          "1",
          "3",
          "2",
          "0",
          "1",
          "1",
          "3",
          "2",
          "0",
          "2",
          "1",
          "1",
          "2",
          "2",
          "3",
          "1",
          "3",
          "1",
          "3",
          "2",
          "0",
          "3",
          "2",
          "2",
          "2",
          "2",
          "1",
          "2",
          "2",
          "2",
          "2",
          "3",
          "3",
          "1",
          "2",
          "3",
          "2",
          "2",
          "2",
          "1",
          "1",
          "1",
          "3",
          "2",
          "2",
          "3",
          "2",
          "1",
          "1",
          "1",
          "2",
          "1",
          "1",
          "1",
          "3",
          "2",
          "2",
          "3",
          "3",
          "2",
          "1",
          "1",
          "2",
          "2",
          "3",
          "3",
          "0",
          "1",
          "2",
          "3",
          "3",
          "1",
          "3",
          "1",
          "1",
          "2",
          "1",
          "2",
          "1",
          "1",
          "2",
          "2",
          "2",
          "1",
          "2",
          "2",
          "2",
          "3",
          "3",
          "3",
          "2",
          "2",
          "2",
          "1",
          "2",
          "2",
          "2",
          "2",
          "1",
          "3",
          "3",
          "3",
          "2",
          "2",
          "3",
          "2",
          "2",
          "2",
          "1",
          "3",
          "3",
          "1",
          "1",
          "2",
          "2",
          "1",
          "0",
          "3",
          "3",
          "1",
          "2",
          "2",
          "1",
          "3",
          "2",
          "3",
          "2",
          "2",
          "0",
          "3",
          "2",
          "3",
          "1",
          "2",
          "2",
          "1",
          "3",
          "2",
          "3",
          "2",
          "2",
          "3",
          "2",
          "2",
          "3",
          "2",
          "3",
          "2",
          "2",
          "2",
          "2",
          "0",
          "2",
          "2",
          "1",
          "2",
          "2",
          "3",
          "3",
          "3",
          "2",
          "3",
          "2",
          "2",
          "2",
          "3",
          "2",
          "2",
          "3",
          "3",
          "2",
          "2",
          "1",
          "3",
          "3",
          "2",
          "1",
          "1",
          "3",
          "3",
          "1",
          "2",
          "3",
          "2",
          "2",
          "3",
          "2",
          "1",
          "3",
          "2",
          "3",
          "1",
          "2",
          "2",
          "1",
          "1",
          "2",
          "2",
          "1",
          "1",
          "3",
          "2",
          "1",
          "2",
          "1",
          "2",
          "2",
          "2",
          "2",
          "2",
          "2",
          "3",
          "2",
          "2",
          "3",
          "3",
          "3",
          "1",
          "2",
          "2",
          "2",
          "3",
          "0",
          "2",
          "2",
          "3",
          "1",
          "0",
          "1",
          "1",
          "2",
          "2",
          "2",
          "2",
          "1",
          "1",
          "2",
          "2",
          "1",
          "2",
          "1",
          "2",
          "2",
          "3",
          "3",
          "3",
          "1",
          "1",
          "3",
          "2",
          "2",
          "2",
          "2",
          "2",
          "1",
          "1",
          "2",
          "1",
          "3",
          "2",
          "3",
          "2",
          "1",
          "2",
          "2",
          "1",
          "2",
          "2",
          "3",
          "1",
          "2",
          "2",
          "3",
          "2",
          "2",
          "3",
          "3",
          "3",
          "1",
          "1",
          "2",
          "1",
          "1",
          "0",
          "0",
          "2",
          "1",
          "2",
          "3",
          "2",
          "2",
          "2",
          "1",
          "2",
          "2",
          "2",
          "3",
          "2",
          "1",
          "1",
          "1",
          "3",
          "2",
          "2",
          "2",
          "2",
          "3",
          "2",
          "2",
          "3",
          "2",
          "2",
          "2",
          "1",
          "1",
          "3",
          "2",
          "2",
          "3",
          "1",
          "3",
          "2",
          "3",
          "1",
          "2",
          "1",
          "2",
          "1",
          "2",
          "1",
          "2",
          "2",
          "2",
          "1",
          "2",
          "3",
          "2",
          "2",
          "3",
          "2",
          "2",
          "1",
          "3",
          "2",
          "2",
          "2",
          "2",
          "2",
          "2",
          "2",
          "3",
          "1",
          "3",
          "2",
          "3",
          "2",
          "2",
          "3",
          "2",
          "3",
          "3",
          "2",
          "2",
          "1",
          "2",
          "2",
          "2",
          "1",
          "2",
          "1",
          "2",
          "2",
          "1",
          "2",
          "1",
          "2",
          "0",
          "3",
          "2",
          "2",
          "3",
          "2",
          "2",
          "1",
          "0",
          "2",
          "3",
          "1",
          "2",
          "1",
          "2",
          "3",
          "2",
          "3",
          "2",
          "3",
          "3",
          "2",
          "2",
          "3",
          "2",
          "1",
          "1",
          "2",
          "1",
          "2",
          "2",
          "2",
          "2",
          "2",
          "2",
          "1",
          "3",
          "1",
          "2",
          "2",
          "2",
          "2",
          "2",
          "3",
          "3",
          "1",
          "3",
          "1",
          "2",
          "0",
          "2",
          "2",
          "0",
          "2",
          "2",
          "1",
          "1",
          "3",
          "2",
          "2",
          "2",
          "2",
          "2",
          "3",
          "1",
          "2",
          "1",
          "1",
          "3",
          "2",
          "2",
          "2",
          "3",
          "1",
          "1",
          "2",
          "1",
          "1",
          "1",
          "2",
          "2",
          "2",
          "1",
          "3",
          "2",
          "2",
          "3",
          "2",
          "2",
          "2",
          "1",
          "2",
          "3",
          "3",
          "2",
          "3",
          "1",
          "2",
          "2",
          "2",
          "2",
          "2",
          "3",
          "1",
          "2",
          "2",
          "1",
          "1",
          "1",
          "2",
          "2",
          "1",
          "2",
          "3",
          "1",
          "2",
          "3",
          "2",
          "2",
          "2",
          "3",
          "2",
          "2",
          "2",
          "2",
          "1",
          "2",
          "2",
          "2",
          "1",
          "2",
          "1",
          "2",
          "3",
          "2",
          "2",
          "2",
          "2",
          "1",
          "2",
          "3",
          "2",
          "2",
          "3",
          "2",
          "1",
          "3",
          "1",
          "1",
          "2",
          "2",
          "2",
          "3",
          "0",
          "2",
          "1",
          "2",
          "2",
          "0",
          "2",
          "2",
          "2",
          "1",
          "3",
          "2",
          "3",
          "2",
          "3",
          "1",
          "2",
          "2",
          "2",
          "1",
          "3",
          "2",
          "1",
          "2",
          "2",
          "2",
          "0",
          "2",
          "1",
          "3",
          "2",
          "2",
          "0",
          "1",
          "2",
          "2",
          "3",
          "0",
          "2",
          "2",
          "2",
          "2",
          "1",
          "3",
          "2",
          "2",
          "2",
          "2",
          "1",
          "2",
          "2",
          "2",
          "1",
          "2",
          "2",
          "3",
          "2",
          "2",
          "2",
          "0",
          "2",
          "2",
          "1",
          "0",
          "2",
          "3",
          "1",
          "3",
          "3",
          "1",
          "1",
          "3",
          "2",
          "2",
          "2",
          "1",
          "0",
          "2",
          "3",
          "3",
          "1",
          "2",
          "2",
          "2",
          "1",
          "1",
          "2",
          "3",
          "3",
          "2",
          "2",
          "2",
          "1",
          "3",
          "2",
          "3",
          "2",
          "2",
          "3",
          "2",
          "1",
          "3",
          "1",
          "2"
         ],
         "xaxis": "x3",
         "y": {
          "bdata": "AwEDAQMDAQMDAgMBAwMDAgMCAwMCAgMBAwMDAQMDAQEDAgEBAwMDAwMCAwIDAwMDAwMDAwECAQECAwIDAwEBAwEDAgMDAwIDAgMDAwMDAgMDAwMBAgMDAwEDAwMBAwMDAQECAgMDAQMDAwMDAwMBAwMDAwMDAgEDAgMCAgEDAwMDAwMDAwICAgEBAwEDAwMDAgIDAwICAgEDAwMBAwMDAwMCAwMDAwEDAQMBAwMDAQMDAQIDAwIDAgMBAwEDAwICAwIBAQMDAwIDAwMDAwMDAwMBAwIDAgMBAwIBAgMCAwMBAwIDAgMBAwIDAgMCAgICAwMCAwMBAwIBAgMDAQMDAwEBAQIDAwEBAwIDAwEBAQMCAQMBAwIDAwMDAwMBAwMDAgMBAQIDAwEDAQEBAwMDAgMBAQECAQEBAgMCAwICAQEDAwICAwEDAgMBAwEBAwEDAQEDAQIBAgICAgIDAwMDAQMDAwMBAgMDAwIDAwMDAQMDAQEDAwEDAQMBAwMBAwMBAwIDAgMCAQMDAQMDAwICAgMDAwMDAgMCAwMDAwECAwMCAgIDAwMDAwMDAgIDAwEDAgMBAQMCAQICAwMCAwECAQMBAgMBAQMDAQECAwEDAQIDAwIBAwMDAwICAwECAwMDAwIDAwEDAQEDAwMDAQEDAwEDAQMDAwMDAQECAQMDAwMBAQMBAgMCAwEDAwEDAwIBAwICAwMDAwIBAQMBAQMDAgEBAgIDAgECAwMDAQEBAQMDAwIDAwMDAwMDAgEBAwMDAgEDAwIBAgEDAQIBAwMDAQMDAgMCAwMBAgMBAwEDAwECAQMDAwMDAgMDAgIDAQMDAwECAQMDAQMBAQMCAwIDAwMBAwMDAQMBAwMDAgMDAwIDAwIBAQMBAwMCAgMDAQIBAgICAwMDAwEDAQMDAgIDAwMBAQMDAwECAwMBAwEBAwMDAgIBAQMBAQEDAgMBAgMDAgMCAgEDAgMCAwEDAgICAwMBAwMBAQEDAwEDAgEDAgMDAwICAwIDAQMDAwEDAQEDAwMDAwIDAgMDAwMBAwEBAwMDAwMDAQMCAwEDAgEDAwMCAgEDAwMBAwIBAwMCAwMBAwIDAwEDAQMDAwMCAwEDAgMDAwEDAwMBAwIBAwMDAwMCAQMDAwECAwEBAwMDAgEDAgICAQMDAwEBAwIDAwMDAQIDAwIDAwIBAwED",
          "dtype": "i1"
         },
         "yaxis": "y3"
        },
        {
         "marker": {
          "color": "steelblue"
         },
         "name": "SibSp",
         "showlegend": false,
         "type": "box",
         "x": [
          "2",
          "1",
          "3",
          "1",
          "2",
          "2",
          "1",
          "0",
          "3",
          "3",
          "3",
          "1",
          "2",
          "2",
          "3",
          "3",
          "0",
          "2",
          "3",
          "3",
          "2",
          "2",
          "3",
          "1",
          "0",
          "3",
          "2",
          "1",
          "3",
          "2",
          "2",
          "1",
          "3",
          "2",
          "2",
          "2",
          "2",
          "2",
          "3",
          "3",
          "3",
          "3",
          "2",
          "3",
          "3",
          "2",
          "2",
          "3",
          "2",
          "3",
          "0",
          "2",
          "1",
          "3",
          "1",
          "1",
          "3",
          "2",
          "3",
          "0",
          "2",
          "1",
          "1",
          "0",
          "2",
          "2",
          "3",
          "2",
          "0",
          "2",
          "2",
          "0",
          "2",
          "2",
          "2",
          "2",
          "2",
          "2",
          "2",
          "3",
          "2",
          "2",
          "3",
          "2",
          "3",
          "0",
          "2",
          "2",
          "1",
          "2",
          "2",
          "2",
          "1",
          "2",
          "2",
          "2",
          "1",
          "1",
          "3",
          "2",
          "3",
          "2",
          "1",
          "2",
          "2",
          "2",
          "3",
          "2",
          "2",
          "3",
          "1",
          "3",
          "2",
          "3",
          "3",
          "2",
          "2",
          "2",
          "1",
          "0",
          "2",
          "2",
          "2",
          "3",
          "1",
          "2",
          "2",
          "2",
          "3",
          "2",
          "2",
          "2",
          "3",
          "3",
          "2",
          "2",
          "1",
          "1",
          "2",
          "1",
          "3",
          "3",
          "3",
          "2",
          "2",
          "2",
          "2",
          "3",
          "2",
          "2",
          "2",
          "1",
          "2",
          "2",
          "2",
          "2",
          "3",
          "2",
          "2",
          "0",
          "2",
          "3",
          "2",
          "2",
          "0",
          "2",
          "1",
          "3",
          "2",
          "2",
          "1",
          "0",
          "3",
          "2",
          "1",
          "2",
          "0",
          "1",
          "2",
          "2",
          "0",
          "2",
          "0",
          "0",
          "3",
          "1",
          "3",
          "2",
          "2",
          "2",
          "3",
          "2",
          "3",
          "2",
          "1",
          "1",
          "2",
          "2",
          "3",
          "3",
          "2",
          "0",
          "2",
          "2",
          "2",
          "3",
          "2",
          "2",
          "3",
          "1",
          "2",
          "3",
          "2",
          "2",
          "2",
          "1",
          "3",
          "2",
          "1",
          "2",
          "2",
          "2",
          "2",
          "2",
          "1",
          "2",
          "2",
          "2",
          "2",
          "0",
          "1",
          "2",
          "2",
          "0",
          "2",
          "3",
          "2",
          "3",
          "2",
          "2",
          "3",
          "3",
          "2",
          "2",
          "2",
          "1",
          "3",
          "3",
          "1",
          "2",
          "2",
          "3",
          "1",
          "2",
          "3",
          "3",
          "3",
          "1",
          "1",
          "3",
          "2",
          "0",
          "1",
          "1",
          "3",
          "2",
          "0",
          "2",
          "1",
          "1",
          "2",
          "2",
          "3",
          "1",
          "3",
          "1",
          "3",
          "2",
          "0",
          "3",
          "2",
          "2",
          "2",
          "2",
          "1",
          "2",
          "2",
          "2",
          "2",
          "3",
          "3",
          "1",
          "2",
          "3",
          "2",
          "2",
          "2",
          "1",
          "1",
          "1",
          "3",
          "2",
          "2",
          "3",
          "2",
          "1",
          "1",
          "1",
          "2",
          "1",
          "1",
          "1",
          "3",
          "2",
          "2",
          "3",
          "3",
          "2",
          "1",
          "1",
          "2",
          "2",
          "3",
          "3",
          "0",
          "1",
          "2",
          "3",
          "3",
          "1",
          "3",
          "1",
          "1",
          "2",
          "1",
          "2",
          "1",
          "1",
          "2",
          "2",
          "2",
          "1",
          "2",
          "2",
          "2",
          "3",
          "3",
          "3",
          "2",
          "2",
          "2",
          "1",
          "2",
          "2",
          "2",
          "2",
          "1",
          "3",
          "3",
          "3",
          "2",
          "2",
          "3",
          "2",
          "2",
          "2",
          "1",
          "3",
          "3",
          "1",
          "1",
          "2",
          "2",
          "1",
          "0",
          "3",
          "3",
          "1",
          "2",
          "2",
          "1",
          "3",
          "2",
          "3",
          "2",
          "2",
          "0",
          "3",
          "2",
          "3",
          "1",
          "2",
          "2",
          "1",
          "3",
          "2",
          "3",
          "2",
          "2",
          "3",
          "2",
          "2",
          "3",
          "2",
          "3",
          "2",
          "2",
          "2",
          "2",
          "0",
          "2",
          "2",
          "1",
          "2",
          "2",
          "3",
          "3",
          "3",
          "2",
          "3",
          "2",
          "2",
          "2",
          "3",
          "2",
          "2",
          "3",
          "3",
          "2",
          "2",
          "1",
          "3",
          "3",
          "2",
          "1",
          "1",
          "3",
          "3",
          "1",
          "2",
          "3",
          "2",
          "2",
          "3",
          "2",
          "1",
          "3",
          "2",
          "3",
          "1",
          "2",
          "2",
          "1",
          "1",
          "2",
          "2",
          "1",
          "1",
          "3",
          "2",
          "1",
          "2",
          "1",
          "2",
          "2",
          "2",
          "2",
          "2",
          "2",
          "3",
          "2",
          "2",
          "3",
          "3",
          "3",
          "1",
          "2",
          "2",
          "2",
          "3",
          "0",
          "2",
          "2",
          "3",
          "1",
          "0",
          "1",
          "1",
          "2",
          "2",
          "2",
          "2",
          "1",
          "1",
          "2",
          "2",
          "1",
          "2",
          "1",
          "2",
          "2",
          "3",
          "3",
          "3",
          "1",
          "1",
          "3",
          "2",
          "2",
          "2",
          "2",
          "2",
          "1",
          "1",
          "2",
          "1",
          "3",
          "2",
          "3",
          "2",
          "1",
          "2",
          "2",
          "1",
          "2",
          "2",
          "3",
          "1",
          "2",
          "2",
          "3",
          "2",
          "2",
          "3",
          "3",
          "3",
          "1",
          "1",
          "2",
          "1",
          "1",
          "0",
          "0",
          "2",
          "1",
          "2",
          "3",
          "2",
          "2",
          "2",
          "1",
          "2",
          "2",
          "2",
          "3",
          "2",
          "1",
          "1",
          "1",
          "3",
          "2",
          "2",
          "2",
          "2",
          "3",
          "2",
          "2",
          "3",
          "2",
          "2",
          "2",
          "1",
          "1",
          "3",
          "2",
          "2",
          "3",
          "1",
          "3",
          "2",
          "3",
          "1",
          "2",
          "1",
          "2",
          "1",
          "2",
          "1",
          "2",
          "2",
          "2",
          "1",
          "2",
          "3",
          "2",
          "2",
          "3",
          "2",
          "2",
          "1",
          "3",
          "2",
          "2",
          "2",
          "2",
          "2",
          "2",
          "2",
          "3",
          "1",
          "3",
          "2",
          "3",
          "2",
          "2",
          "3",
          "2",
          "3",
          "3",
          "2",
          "2",
          "1",
          "2",
          "2",
          "2",
          "1",
          "2",
          "1",
          "2",
          "2",
          "1",
          "2",
          "1",
          "2",
          "0",
          "3",
          "2",
          "2",
          "3",
          "2",
          "2",
          "1",
          "0",
          "2",
          "3",
          "1",
          "2",
          "1",
          "2",
          "3",
          "2",
          "3",
          "2",
          "3",
          "3",
          "2",
          "2",
          "3",
          "2",
          "1",
          "1",
          "2",
          "1",
          "2",
          "2",
          "2",
          "2",
          "2",
          "2",
          "1",
          "3",
          "1",
          "2",
          "2",
          "2",
          "2",
          "2",
          "3",
          "3",
          "1",
          "3",
          "1",
          "2",
          "0",
          "2",
          "2",
          "0",
          "2",
          "2",
          "1",
          "1",
          "3",
          "2",
          "2",
          "2",
          "2",
          "2",
          "3",
          "1",
          "2",
          "1",
          "1",
          "3",
          "2",
          "2",
          "2",
          "3",
          "1",
          "1",
          "2",
          "1",
          "1",
          "1",
          "2",
          "2",
          "2",
          "1",
          "3",
          "2",
          "2",
          "3",
          "2",
          "2",
          "2",
          "1",
          "2",
          "3",
          "3",
          "2",
          "3",
          "1",
          "2",
          "2",
          "2",
          "2",
          "2",
          "3",
          "1",
          "2",
          "2",
          "1",
          "1",
          "1",
          "2",
          "2",
          "1",
          "2",
          "3",
          "1",
          "2",
          "3",
          "2",
          "2",
          "2",
          "3",
          "2",
          "2",
          "2",
          "2",
          "1",
          "2",
          "2",
          "2",
          "1",
          "2",
          "1",
          "2",
          "3",
          "2",
          "2",
          "2",
          "2",
          "1",
          "2",
          "3",
          "2",
          "2",
          "3",
          "2",
          "1",
          "3",
          "1",
          "1",
          "2",
          "2",
          "2",
          "3",
          "0",
          "2",
          "1",
          "2",
          "2",
          "0",
          "2",
          "2",
          "2",
          "1",
          "3",
          "2",
          "3",
          "2",
          "3",
          "1",
          "2",
          "2",
          "2",
          "1",
          "3",
          "2",
          "1",
          "2",
          "2",
          "2",
          "0",
          "2",
          "1",
          "3",
          "2",
          "2",
          "0",
          "1",
          "2",
          "2",
          "3",
          "0",
          "2",
          "2",
          "2",
          "2",
          "1",
          "3",
          "2",
          "2",
          "2",
          "2",
          "1",
          "2",
          "2",
          "2",
          "1",
          "2",
          "2",
          "3",
          "2",
          "2",
          "2",
          "0",
          "2",
          "2",
          "1",
          "0",
          "2",
          "3",
          "1",
          "3",
          "3",
          "1",
          "1",
          "3",
          "2",
          "2",
          "2",
          "1",
          "0",
          "2",
          "3",
          "3",
          "1",
          "2",
          "2",
          "2",
          "1",
          "1",
          "2",
          "3",
          "3",
          "2",
          "2",
          "2",
          "1",
          "3",
          "2",
          "3",
          "2",
          "2",
          "3",
          "2",
          "1",
          "3",
          "1",
          "2"
         ],
         "xaxis": "x4",
         "y": {
          "bdata": "AQEAAQAAAAMAAQEAAAEAAAQAAQAAAAAAAwEAAwAAAAEAAAEBAAACAQEBAAEAAAEAAgEEAAEBAAAAAAEFAAABAwABAAAEAgAFAAEAAAAAAAAAAAAAAAMBAAMAAAABAQAAAAAAAQAAAAACAAAAAAEAAQABAAAAAQAEAgABAAABAAABAAAAAQEAAAABAAAAAAEAAAEAAgAAAAEAAAAAAAAACAAAAAAEAAABAAAABAEAAAEDAAAACAAEAgAAAQABAAAAAQEAAAAAAAAACAAAAAABAAAAAAAAAAEBAAEAAAAAAAABAAAAAAMBAAAEAAABAAAAAQEAAAACAAABAQABAAEAAAAAAAAABAEAAAAEAQAAAAAAAAABAAAEAQAAAAAAAAAAAAAAAQAAAAAAAQAAAAIAAAABAAEBAAACAQABAAEAAAEAAAABCAAAAAEAAgAAAgEAAQAAAAEDAAAAAAABAQAAAAEBAAAAAAAAAQEAAAEAAQAAAAEBAAADAQAAAAAAAAABAAAFAAAAAQACAQAAAAAAAAAAAQEAAQABAAMAAAEAAAABAAAAAAAAAQEAAQAAAAABAQABAQICAQABAAEAAAAAAAIAAQEAAQAAAAEAAAAAAAAAAAAAAAIAAAEAAAABAQAABQAAAAEDAQAAAQEAAAAAAAEAAQAAAAAAAAEAAAAAAAAAAQAAAAABAAAAAAAAAAAAAAIBAAEAAAAAAAAAAAQEAQEAAQABAQAAAAAAAAEAAQEAAAAAAAIAAAAAAAIAAAAAAAEBAAEBAAAAAAABAAAAAQAAAQEAAAABAgAAAAABAAABAAEAAQAAAQEBAgABAQEAAAAAAAAAAAAAAAMAAAEAAQAAAwACAQAAAAAAAAAAAAIAAQAAAgAAAAECAAAAAQEBAAAAAAAAAQAAAAAFAQEEAAAAAQAAAAAAAAABAAEAAAABAAAAAAEAAAEAAAAAAAAAAAEAAAEAAwABAQAAAAAAAAEAAAAAAQIBAAEBAAEAAQAAAAEBAAAAAAAAAAEAAQAAAQAAAAAAAQAAAAAAAAEAAQAAAAQBAAAACAAAAAAAAAEAAQEAAAAAAAABAAAABAAAAAEAAwEAAAAEAAAAAAABAQAAAAEAAAAAAAAAAAAACAAAAQQAAQABAAEAAAACAQAIAAABAAABAAEAAAEAAAAAAAAAAAAAAAAAAQAA",
          "dtype": "i1"
         },
         "yaxis": "y4"
        },
        {
         "marker": {
          "color": "steelblue"
         },
         "name": "Sex",
         "showlegend": false,
         "type": "box",
         "x": [
          "2",
          "1",
          "3",
          "1",
          "2",
          "2",
          "1",
          "0",
          "3",
          "3",
          "3",
          "1",
          "2",
          "2",
          "3",
          "3",
          "0",
          "2",
          "3",
          "3",
          "2",
          "2",
          "3",
          "1",
          "0",
          "3",
          "2",
          "1",
          "3",
          "2",
          "2",
          "1",
          "3",
          "2",
          "2",
          "2",
          "2",
          "2",
          "3",
          "3",
          "3",
          "3",
          "2",
          "3",
          "3",
          "2",
          "2",
          "3",
          "2",
          "3",
          "0",
          "2",
          "1",
          "3",
          "1",
          "1",
          "3",
          "2",
          "3",
          "0",
          "2",
          "1",
          "1",
          "0",
          "2",
          "2",
          "3",
          "2",
          "0",
          "2",
          "2",
          "0",
          "2",
          "2",
          "2",
          "2",
          "2",
          "2",
          "2",
          "3",
          "2",
          "2",
          "3",
          "2",
          "3",
          "0",
          "2",
          "2",
          "1",
          "2",
          "2",
          "2",
          "1",
          "2",
          "2",
          "2",
          "1",
          "1",
          "3",
          "2",
          "3",
          "2",
          "1",
          "2",
          "2",
          "2",
          "3",
          "2",
          "2",
          "3",
          "1",
          "3",
          "2",
          "3",
          "3",
          "2",
          "2",
          "2",
          "1",
          "0",
          "2",
          "2",
          "2",
          "3",
          "1",
          "2",
          "2",
          "2",
          "3",
          "2",
          "2",
          "2",
          "3",
          "3",
          "2",
          "2",
          "1",
          "1",
          "2",
          "1",
          "3",
          "3",
          "3",
          "2",
          "2",
          "2",
          "2",
          "3",
          "2",
          "2",
          "2",
          "1",
          "2",
          "2",
          "2",
          "2",
          "3",
          "2",
          "2",
          "0",
          "2",
          "3",
          "2",
          "2",
          "0",
          "2",
          "1",
          "3",
          "2",
          "2",
          "1",
          "0",
          "3",
          "2",
          "1",
          "2",
          "0",
          "1",
          "2",
          "2",
          "0",
          "2",
          "0",
          "0",
          "3",
          "1",
          "3",
          "2",
          "2",
          "2",
          "3",
          "2",
          "3",
          "2",
          "1",
          "1",
          "2",
          "2",
          "3",
          "3",
          "2",
          "0",
          "2",
          "2",
          "2",
          "3",
          "2",
          "2",
          "3",
          "1",
          "2",
          "3",
          "2",
          "2",
          "2",
          "1",
          "3",
          "2",
          "1",
          "2",
          "2",
          "2",
          "2",
          "2",
          "1",
          "2",
          "2",
          "2",
          "2",
          "0",
          "1",
          "2",
          "2",
          "0",
          "2",
          "3",
          "2",
          "3",
          "2",
          "2",
          "3",
          "3",
          "2",
          "2",
          "2",
          "1",
          "3",
          "3",
          "1",
          "2",
          "2",
          "3",
          "1",
          "2",
          "3",
          "3",
          "3",
          "1",
          "1",
          "3",
          "2",
          "0",
          "1",
          "1",
          "3",
          "2",
          "0",
          "2",
          "1",
          "1",
          "2",
          "2",
          "3",
          "1",
          "3",
          "1",
          "3",
          "2",
          "0",
          "3",
          "2",
          "2",
          "2",
          "2",
          "1",
          "2",
          "2",
          "2",
          "2",
          "3",
          "3",
          "1",
          "2",
          "3",
          "2",
          "2",
          "2",
          "1",
          "1",
          "1",
          "3",
          "2",
          "2",
          "3",
          "2",
          "1",
          "1",
          "1",
          "2",
          "1",
          "1",
          "1",
          "3",
          "2",
          "2",
          "3",
          "3",
          "2",
          "1",
          "1",
          "2",
          "2",
          "3",
          "3",
          "0",
          "1",
          "2",
          "3",
          "3",
          "1",
          "3",
          "1",
          "1",
          "2",
          "1",
          "2",
          "1",
          "1",
          "2",
          "2",
          "2",
          "1",
          "2",
          "2",
          "2",
          "3",
          "3",
          "3",
          "2",
          "2",
          "2",
          "1",
          "2",
          "2",
          "2",
          "2",
          "1",
          "3",
          "3",
          "3",
          "2",
          "2",
          "3",
          "2",
          "2",
          "2",
          "1",
          "3",
          "3",
          "1",
          "1",
          "2",
          "2",
          "1",
          "0",
          "3",
          "3",
          "1",
          "2",
          "2",
          "1",
          "3",
          "2",
          "3",
          "2",
          "2",
          "0",
          "3",
          "2",
          "3",
          "1",
          "2",
          "2",
          "1",
          "3",
          "2",
          "3",
          "2",
          "2",
          "3",
          "2",
          "2",
          "3",
          "2",
          "3",
          "2",
          "2",
          "2",
          "2",
          "0",
          "2",
          "2",
          "1",
          "2",
          "2",
          "3",
          "3",
          "3",
          "2",
          "3",
          "2",
          "2",
          "2",
          "3",
          "2",
          "2",
          "3",
          "3",
          "2",
          "2",
          "1",
          "3",
          "3",
          "2",
          "1",
          "1",
          "3",
          "3",
          "1",
          "2",
          "3",
          "2",
          "2",
          "3",
          "2",
          "1",
          "3",
          "2",
          "3",
          "1",
          "2",
          "2",
          "1",
          "1",
          "2",
          "2",
          "1",
          "1",
          "3",
          "2",
          "1",
          "2",
          "1",
          "2",
          "2",
          "2",
          "2",
          "2",
          "2",
          "3",
          "2",
          "2",
          "3",
          "3",
          "3",
          "1",
          "2",
          "2",
          "2",
          "3",
          "0",
          "2",
          "2",
          "3",
          "1",
          "0",
          "1",
          "1",
          "2",
          "2",
          "2",
          "2",
          "1",
          "1",
          "2",
          "2",
          "1",
          "2",
          "1",
          "2",
          "2",
          "3",
          "3",
          "3",
          "1",
          "1",
          "3",
          "2",
          "2",
          "2",
          "2",
          "2",
          "1",
          "1",
          "2",
          "1",
          "3",
          "2",
          "3",
          "2",
          "1",
          "2",
          "2",
          "1",
          "2",
          "2",
          "3",
          "1",
          "2",
          "2",
          "3",
          "2",
          "2",
          "3",
          "3",
          "3",
          "1",
          "1",
          "2",
          "1",
          "1",
          "0",
          "0",
          "2",
          "1",
          "2",
          "3",
          "2",
          "2",
          "2",
          "1",
          "2",
          "2",
          "2",
          "3",
          "2",
          "1",
          "1",
          "1",
          "3",
          "2",
          "2",
          "2",
          "2",
          "3",
          "2",
          "2",
          "3",
          "2",
          "2",
          "2",
          "1",
          "1",
          "3",
          "2",
          "2",
          "3",
          "1",
          "3",
          "2",
          "3",
          "1",
          "2",
          "1",
          "2",
          "1",
          "2",
          "1",
          "2",
          "2",
          "2",
          "1",
          "2",
          "3",
          "2",
          "2",
          "3",
          "2",
          "2",
          "1",
          "3",
          "2",
          "2",
          "2",
          "2",
          "2",
          "2",
          "2",
          "3",
          "1",
          "3",
          "2",
          "3",
          "2",
          "2",
          "3",
          "2",
          "3",
          "3",
          "2",
          "2",
          "1",
          "2",
          "2",
          "2",
          "1",
          "2",
          "1",
          "2",
          "2",
          "1",
          "2",
          "1",
          "2",
          "0",
          "3",
          "2",
          "2",
          "3",
          "2",
          "2",
          "1",
          "0",
          "2",
          "3",
          "1",
          "2",
          "1",
          "2",
          "3",
          "2",
          "3",
          "2",
          "3",
          "3",
          "2",
          "2",
          "3",
          "2",
          "1",
          "1",
          "2",
          "1",
          "2",
          "2",
          "2",
          "2",
          "2",
          "2",
          "1",
          "3",
          "1",
          "2",
          "2",
          "2",
          "2",
          "2",
          "3",
          "3",
          "1",
          "3",
          "1",
          "2",
          "0",
          "2",
          "2",
          "0",
          "2",
          "2",
          "1",
          "1",
          "3",
          "2",
          "2",
          "2",
          "2",
          "2",
          "3",
          "1",
          "2",
          "1",
          "1",
          "3",
          "2",
          "2",
          "2",
          "3",
          "1",
          "1",
          "2",
          "1",
          "1",
          "1",
          "2",
          "2",
          "2",
          "1",
          "3",
          "2",
          "2",
          "3",
          "2",
          "2",
          "2",
          "1",
          "2",
          "3",
          "3",
          "2",
          "3",
          "1",
          "2",
          "2",
          "2",
          "2",
          "2",
          "3",
          "1",
          "2",
          "2",
          "1",
          "1",
          "1",
          "2",
          "2",
          "1",
          "2",
          "3",
          "1",
          "2",
          "3",
          "2",
          "2",
          "2",
          "3",
          "2",
          "2",
          "2",
          "2",
          "1",
          "2",
          "2",
          "2",
          "1",
          "2",
          "1",
          "2",
          "3",
          "2",
          "2",
          "2",
          "2",
          "1",
          "2",
          "3",
          "2",
          "2",
          "3",
          "2",
          "1",
          "3",
          "1",
          "1",
          "2",
          "2",
          "2",
          "3",
          "0",
          "2",
          "1",
          "2",
          "2",
          "0",
          "2",
          "2",
          "2",
          "1",
          "3",
          "2",
          "3",
          "2",
          "3",
          "1",
          "2",
          "2",
          "2",
          "1",
          "3",
          "2",
          "1",
          "2",
          "2",
          "2",
          "0",
          "2",
          "1",
          "3",
          "2",
          "2",
          "0",
          "1",
          "2",
          "2",
          "3",
          "0",
          "2",
          "2",
          "2",
          "2",
          "1",
          "3",
          "2",
          "2",
          "2",
          "2",
          "1",
          "2",
          "2",
          "2",
          "1",
          "2",
          "2",
          "3",
          "2",
          "2",
          "2",
          "0",
          "2",
          "2",
          "1",
          "0",
          "2",
          "3",
          "1",
          "3",
          "3",
          "1",
          "1",
          "3",
          "2",
          "2",
          "2",
          "1",
          "0",
          "2",
          "3",
          "3",
          "1",
          "2",
          "2",
          "2",
          "1",
          "1",
          "2",
          "3",
          "3",
          "2",
          "2",
          "2",
          "1",
          "3",
          "2",
          "3",
          "2",
          "2",
          "3",
          "2",
          "1",
          "3",
          "1",
          "2"
         ],
         "xaxis": "x5",
         "y": {
          "bdata": "AQAAAAEBAQEAAAAAAQEAAAEBAAABAQABAAABAQABAQAAAQEBAQEAAAAAAQAAAQEAAQABAQAAAQEAAQABAQABAQEBAAEAAQEAAQEBAQEBAQABAQABAAABAQABAQEBAQEBAQEAAQABAQEBAQABAQABAAEAAAEBAQEAAQEBAAEBAQEAAQEBAAABAQABAQEAAAABAQEBAAEBAQABAQEBAAEBAQEAAQEBAQAAAQEBAQABAQEBAAEBAAEBAQABAAEBAQABAAEAAAEBAAABAQEBAQABAQABAQABAQEAAAEAAQEBAQEBAQEBAQAAAQEAAQABAAEBAAABAQEBAAABAQEAAQEAAAAAAAABAQEBAAEBAQAAAQEAAQAAAAEBAAEBAQEBAQEBAQAAAAEAAQEBAAEAAAEBAAEBAAABAAAAAAEBAAABAAABAQAAAQABAAAAAAEBAQABAQABAQEAAQEBAAAAAQEBAQEBAQEAAAAAAQEAAQEBAAAAAAEBAQEAAAABAQEAAAEAAQEBAAEAAQEBAAABAAEBAAEBAAEAAQEBAQABAQABAQAAAAEAAQEBAAEBAAABAQEAAAEBAAAAAQEAAQEAAQEAAQABAQEBAQEBAQAAAQEBAQEBAQEBAQABAQAAAAEBAQEAAQEBAAEAAAEBAQEBAQEBAQABAAEBAAAAAAEAAQEBAQEBAAEBAAEAAQABAQABAQABAQEAAQEAAAABAAEAAAAAAQEBAAEBAQEBAQEAAQABAAABAQEBAAEBAAEBAQABAAEBAAAAAQAAAQEBAAEBAQEBAAEAAQEAAQEBAAEBAQEBAQEAAAABAAEBAAEAAAEBAQEBAQEBAAEBAQEBAQAAAQEAAQEAAAEAAQEBAQABAAEAAAEBAAEBAQEBAQEBAQEBAAABAQEBAQEAAAEAAQEBAQEBAQEAAQABAQEBAQABAQABAAEBAQABAAEAAQEBAQEAAAEBAAEBAQEBAAABAAABAQEBAQABAQEBAQABAQEBAAEBAAEBAQABAQEBAAEBAQABAAEAAQEBAQABAAEBAAEAAAABAQEBAAEBAQEBAAEBAQAAAQABAAEBAQEBAAEAAQEBAAEBAAEBAQABAQABAQEBAQAAAQEBAQABAQEBAQEAAQEBAQEBAAEBAAAAAAABAAEBAQAAAQAAAQEBAQABAQAAAQEBAAABAAEBAAEAAAEB",
          "dtype": "i1"
         },
         "yaxis": "y5"
        },
        {
         "marker": {
          "color": "steelblue"
         },
         "name": "Deck",
         "showlegend": false,
         "type": "box",
         "x": [
          "2",
          "1",
          "3",
          "1",
          "2",
          "2",
          "1",
          "0",
          "3",
          "3",
          "3",
          "1",
          "2",
          "2",
          "3",
          "3",
          "0",
          "2",
          "3",
          "3",
          "2",
          "2",
          "3",
          "1",
          "0",
          "3",
          "2",
          "1",
          "3",
          "2",
          "2",
          "1",
          "3",
          "2",
          "2",
          "2",
          "2",
          "2",
          "3",
          "3",
          "3",
          "3",
          "2",
          "3",
          "3",
          "2",
          "2",
          "3",
          "2",
          "3",
          "0",
          "2",
          "1",
          "3",
          "1",
          "1",
          "3",
          "2",
          "3",
          "0",
          "2",
          "1",
          "1",
          "0",
          "2",
          "2",
          "3",
          "2",
          "0",
          "2",
          "2",
          "0",
          "2",
          "2",
          "2",
          "2",
          "2",
          "2",
          "2",
          "3",
          "2",
          "2",
          "3",
          "2",
          "3",
          "0",
          "2",
          "2",
          "1",
          "2",
          "2",
          "2",
          "1",
          "2",
          "2",
          "2",
          "1",
          "1",
          "3",
          "2",
          "3",
          "2",
          "1",
          "2",
          "2",
          "2",
          "3",
          "2",
          "2",
          "3",
          "1",
          "3",
          "2",
          "3",
          "3",
          "2",
          "2",
          "2",
          "1",
          "0",
          "2",
          "2",
          "2",
          "3",
          "1",
          "2",
          "2",
          "2",
          "3",
          "2",
          "2",
          "2",
          "3",
          "3",
          "2",
          "2",
          "1",
          "1",
          "2",
          "1",
          "3",
          "3",
          "3",
          "2",
          "2",
          "2",
          "2",
          "3",
          "2",
          "2",
          "2",
          "1",
          "2",
          "2",
          "2",
          "2",
          "3",
          "2",
          "2",
          "0",
          "2",
          "3",
          "2",
          "2",
          "0",
          "2",
          "1",
          "3",
          "2",
          "2",
          "1",
          "0",
          "3",
          "2",
          "1",
          "2",
          "0",
          "1",
          "2",
          "2",
          "0",
          "2",
          "0",
          "0",
          "3",
          "1",
          "3",
          "2",
          "2",
          "2",
          "3",
          "2",
          "3",
          "2",
          "1",
          "1",
          "2",
          "2",
          "3",
          "3",
          "2",
          "0",
          "2",
          "2",
          "2",
          "3",
          "2",
          "2",
          "3",
          "1",
          "2",
          "3",
          "2",
          "2",
          "2",
          "1",
          "3",
          "2",
          "1",
          "2",
          "2",
          "2",
          "2",
          "2",
          "1",
          "2",
          "2",
          "2",
          "2",
          "0",
          "1",
          "2",
          "2",
          "0",
          "2",
          "3",
          "2",
          "3",
          "2",
          "2",
          "3",
          "3",
          "2",
          "2",
          "2",
          "1",
          "3",
          "3",
          "1",
          "2",
          "2",
          "3",
          "1",
          "2",
          "3",
          "3",
          "3",
          "1",
          "1",
          "3",
          "2",
          "0",
          "1",
          "1",
          "3",
          "2",
          "0",
          "2",
          "1",
          "1",
          "2",
          "2",
          "3",
          "1",
          "3",
          "1",
          "3",
          "2",
          "0",
          "3",
          "2",
          "2",
          "2",
          "2",
          "1",
          "2",
          "2",
          "2",
          "2",
          "3",
          "3",
          "1",
          "2",
          "3",
          "2",
          "2",
          "2",
          "1",
          "1",
          "1",
          "3",
          "2",
          "2",
          "3",
          "2",
          "1",
          "1",
          "1",
          "2",
          "1",
          "1",
          "1",
          "3",
          "2",
          "2",
          "3",
          "3",
          "2",
          "1",
          "1",
          "2",
          "2",
          "3",
          "3",
          "0",
          "1",
          "2",
          "3",
          "3",
          "1",
          "3",
          "1",
          "1",
          "2",
          "1",
          "2",
          "1",
          "1",
          "2",
          "2",
          "2",
          "1",
          "2",
          "2",
          "2",
          "3",
          "3",
          "3",
          "2",
          "2",
          "2",
          "1",
          "2",
          "2",
          "2",
          "2",
          "1",
          "3",
          "3",
          "3",
          "2",
          "2",
          "3",
          "2",
          "2",
          "2",
          "1",
          "3",
          "3",
          "1",
          "1",
          "2",
          "2",
          "1",
          "0",
          "3",
          "3",
          "1",
          "2",
          "2",
          "1",
          "3",
          "2",
          "3",
          "2",
          "2",
          "0",
          "3",
          "2",
          "3",
          "1",
          "2",
          "2",
          "1",
          "3",
          "2",
          "3",
          "2",
          "2",
          "3",
          "2",
          "2",
          "3",
          "2",
          "3",
          "2",
          "2",
          "2",
          "2",
          "0",
          "2",
          "2",
          "1",
          "2",
          "2",
          "3",
          "3",
          "3",
          "2",
          "3",
          "2",
          "2",
          "2",
          "3",
          "2",
          "2",
          "3",
          "3",
          "2",
          "2",
          "1",
          "3",
          "3",
          "2",
          "1",
          "1",
          "3",
          "3",
          "1",
          "2",
          "3",
          "2",
          "2",
          "3",
          "2",
          "1",
          "3",
          "2",
          "3",
          "1",
          "2",
          "2",
          "1",
          "1",
          "2",
          "2",
          "1",
          "1",
          "3",
          "2",
          "1",
          "2",
          "1",
          "2",
          "2",
          "2",
          "2",
          "2",
          "2",
          "3",
          "2",
          "2",
          "3",
          "3",
          "3",
          "1",
          "2",
          "2",
          "2",
          "3",
          "0",
          "2",
          "2",
          "3",
          "1",
          "0",
          "1",
          "1",
          "2",
          "2",
          "2",
          "2",
          "1",
          "1",
          "2",
          "2",
          "1",
          "2",
          "1",
          "2",
          "2",
          "3",
          "3",
          "3",
          "1",
          "1",
          "3",
          "2",
          "2",
          "2",
          "2",
          "2",
          "1",
          "1",
          "2",
          "1",
          "3",
          "2",
          "3",
          "2",
          "1",
          "2",
          "2",
          "1",
          "2",
          "2",
          "3",
          "1",
          "2",
          "2",
          "3",
          "2",
          "2",
          "3",
          "3",
          "3",
          "1",
          "1",
          "2",
          "1",
          "1",
          "0",
          "0",
          "2",
          "1",
          "2",
          "3",
          "2",
          "2",
          "2",
          "1",
          "2",
          "2",
          "2",
          "3",
          "2",
          "1",
          "1",
          "1",
          "3",
          "2",
          "2",
          "2",
          "2",
          "3",
          "2",
          "2",
          "3",
          "2",
          "2",
          "2",
          "1",
          "1",
          "3",
          "2",
          "2",
          "3",
          "1",
          "3",
          "2",
          "3",
          "1",
          "2",
          "1",
          "2",
          "1",
          "2",
          "1",
          "2",
          "2",
          "2",
          "1",
          "2",
          "3",
          "2",
          "2",
          "3",
          "2",
          "2",
          "1",
          "3",
          "2",
          "2",
          "2",
          "2",
          "2",
          "2",
          "2",
          "3",
          "1",
          "3",
          "2",
          "3",
          "2",
          "2",
          "3",
          "2",
          "3",
          "3",
          "2",
          "2",
          "1",
          "2",
          "2",
          "2",
          "1",
          "2",
          "1",
          "2",
          "2",
          "1",
          "2",
          "1",
          "2",
          "0",
          "3",
          "2",
          "2",
          "3",
          "2",
          "2",
          "1",
          "0",
          "2",
          "3",
          "1",
          "2",
          "1",
          "2",
          "3",
          "2",
          "3",
          "2",
          "3",
          "3",
          "2",
          "2",
          "3",
          "2",
          "1",
          "1",
          "2",
          "1",
          "2",
          "2",
          "2",
          "2",
          "2",
          "2",
          "1",
          "3",
          "1",
          "2",
          "2",
          "2",
          "2",
          "2",
          "3",
          "3",
          "1",
          "3",
          "1",
          "2",
          "0",
          "2",
          "2",
          "0",
          "2",
          "2",
          "1",
          "1",
          "3",
          "2",
          "2",
          "2",
          "2",
          "2",
          "3",
          "1",
          "2",
          "1",
          "1",
          "3",
          "2",
          "2",
          "2",
          "3",
          "1",
          "1",
          "2",
          "1",
          "1",
          "1",
          "2",
          "2",
          "2",
          "1",
          "3",
          "2",
          "2",
          "3",
          "2",
          "2",
          "2",
          "1",
          "2",
          "3",
          "3",
          "2",
          "3",
          "1",
          "2",
          "2",
          "2",
          "2",
          "2",
          "3",
          "1",
          "2",
          "2",
          "1",
          "1",
          "1",
          "2",
          "2",
          "1",
          "2",
          "3",
          "1",
          "2",
          "3",
          "2",
          "2",
          "2",
          "3",
          "2",
          "2",
          "2",
          "2",
          "1",
          "2",
          "2",
          "2",
          "1",
          "2",
          "1",
          "2",
          "3",
          "2",
          "2",
          "2",
          "2",
          "1",
          "2",
          "3",
          "2",
          "2",
          "3",
          "2",
          "1",
          "3",
          "1",
          "1",
          "2",
          "2",
          "2",
          "3",
          "0",
          "2",
          "1",
          "2",
          "2",
          "0",
          "2",
          "2",
          "2",
          "1",
          "3",
          "2",
          "3",
          "2",
          "3",
          "1",
          "2",
          "2",
          "2",
          "1",
          "3",
          "2",
          "1",
          "2",
          "2",
          "2",
          "0",
          "2",
          "1",
          "3",
          "2",
          "2",
          "0",
          "1",
          "2",
          "2",
          "3",
          "0",
          "2",
          "2",
          "2",
          "2",
          "1",
          "3",
          "2",
          "2",
          "2",
          "2",
          "1",
          "2",
          "2",
          "2",
          "1",
          "2",
          "2",
          "3",
          "2",
          "2",
          "2",
          "0",
          "2",
          "2",
          "1",
          "0",
          "2",
          "3",
          "1",
          "3",
          "3",
          "1",
          "1",
          "3",
          "2",
          "2",
          "2",
          "1",
          "0",
          "2",
          "3",
          "3",
          "1",
          "2",
          "2",
          "2",
          "1",
          "1",
          "2",
          "3",
          "3",
          "2",
          "2",
          "2",
          "1",
          "3",
          "2",
          "3",
          "2",
          "2",
          "3",
          "2",
          "1",
          "3",
          "1",
          "2"
         ],
         "xaxis": "x6",
         "y": {
          "bdata": "CAIIAggIBAgICAYCCAgICAgICAgIAwgACAgIAggICAEICAgICAgICAgICAgICAgICAgICAMIAQIICAgICAECCAgIBQgICAgICAgIBQgICAgICAgICAgICAIICAgECAgIAAMICAgIAwgICAgICAgCCAgICAgICAEICAgIBAMICAgFCAgICAgICAMCCAEICAgICAgICAUICAIICAgICAgICAgICAgICAQICAgBCAgIAAgIAggICAgIBQgACAgICAgICAUBAQgICAgICAgICAYICAgACAgICAgDCAgDCAgICAgCCAgICAgCCAgICAgICAgICAgICAgCCAgDCAgGAggICAgBCAgICAQBCAgICAICCAgIAggDCAgICAgICAgACAgICAgIAQMICAgIAgIBCAgIBAgCCAIIBAIBCAgICAgIAgQICAgICAIIAwgBCAICCAgIAgQIBwUCCAgIBQgICAgIAggICAgECAgICAgICAgIAwgIAQQICAgICAgCCAgICAgICAgICAgIAQgIAwYICAgICAgICAgICAgICAgICAIICAgICAgICAgICAgICAgIBAIICAgEAQgIAggICAgICAAICAgCCAgCAggIBAMICAQIBAgICAgICAgICAgDCAAICAgICAgICAEIAgEICAgIAggICAMIAggICAgIAQIICAgICAgECAgDBQgICAEICAEICAgCCAgICAgICAgBCAgBAQgICAIICAgICAIICAgICAAIBAgICAgICAgICAgICAIECAgICAQICAgCCAAIBAgBCAgIAwgICAgICAgACAgICAgICAgIAggICAgICAgIBQgIAwgICAMIAwgIAAgBCAgICAgICAgBCAgIAwgACAgICAgICAgICAgDCAgECAgICAgIAggBCAgICAgICAEIAwgICAgICAgBAQgICAgICAgCBQIECAgICAgECAgCAgIICAUCBAgICAgICAQICAgICAEICAgICAgBCAgDAgEICAEICAMICAQICAgICAgIAQgICAEIAwgICAgICAQICAgFCAgBCAEDCAgICAgIAQgICAgICAMICAgICAEICAgACAgECAgICAgBCAgICAEICAQICAgICAEICAgICAQICAgCCAgICAgICAgIAggICAMICAgECAgICAMICAgIAAgICAMBCAgICAgIAggICAgICAgBCAII",
          "dtype": "i1"
         },
         "yaxis": "y6"
        }
       ],
       "layout": {
        "annotations": [
         {
          "font": {
           "size": 16
          },
          "showarrow": false,
          "text": "Fare",
          "x": 0.14444444444444446,
          "xanchor": "center",
          "xref": "paper",
          "y": 1,
          "yanchor": "bottom",
          "yref": "paper"
         },
         {
          "font": {
           "size": 16
          },
          "showarrow": false,
          "text": "Age",
          "x": 0.5,
          "xanchor": "center",
          "xref": "paper",
          "y": 1,
          "yanchor": "bottom",
          "yref": "paper"
         },
         {
          "font": {
           "size": 16
          },
          "showarrow": false,
          "text": "Pclass",
          "x": 0.8555555555555556,
          "xanchor": "center",
          "xref": "paper",
          "y": 1,
          "yanchor": "bottom",
          "yref": "paper"
         },
         {
          "font": {
           "size": 16
          },
          "showarrow": false,
          "text": "SibSp",
          "x": 0.14444444444444446,
          "xanchor": "center",
          "xref": "paper",
          "y": 0.375,
          "yanchor": "bottom",
          "yref": "paper"
         },
         {
          "font": {
           "size": 16
          },
          "showarrow": false,
          "text": "Sex",
          "x": 0.5,
          "xanchor": "center",
          "xref": "paper",
          "y": 0.375,
          "yanchor": "bottom",
          "yref": "paper"
         },
         {
          "font": {
           "size": 16
          },
          "showarrow": false,
          "text": "Deck",
          "x": 0.8555555555555556,
          "xanchor": "center",
          "xref": "paper",
          "y": 0.375,
          "yanchor": "bottom",
          "yref": "paper"
         }
        ],
        "height": 600,
        "template": {
         "data": {
          "bar": [
           {
            "error_x": {
             "color": "#2a3f5f"
            },
            "error_y": {
             "color": "#2a3f5f"
            },
            "marker": {
             "line": {
              "color": "#E5ECF6",
              "width": 0.5
             },
             "pattern": {
              "fillmode": "overlay",
              "size": 10,
              "solidity": 0.2
             }
            },
            "type": "bar"
           }
          ],
          "barpolar": [
           {
            "marker": {
             "line": {
              "color": "#E5ECF6",
              "width": 0.5
             },
             "pattern": {
              "fillmode": "overlay",
              "size": 10,
              "solidity": 0.2
             }
            },
            "type": "barpolar"
           }
          ],
          "carpet": [
           {
            "aaxis": {
             "endlinecolor": "#2a3f5f",
             "gridcolor": "white",
             "linecolor": "white",
             "minorgridcolor": "white",
             "startlinecolor": "#2a3f5f"
            },
            "baxis": {
             "endlinecolor": "#2a3f5f",
             "gridcolor": "white",
             "linecolor": "white",
             "minorgridcolor": "white",
             "startlinecolor": "#2a3f5f"
            },
            "type": "carpet"
           }
          ],
          "choropleth": [
           {
            "colorbar": {
             "outlinewidth": 0,
             "ticks": ""
            },
            "type": "choropleth"
           }
          ],
          "contour": [
           {
            "colorbar": {
             "outlinewidth": 0,
             "ticks": ""
            },
            "colorscale": [
             [
              0,
              "#0d0887"
             ],
             [
              0.1111111111111111,
              "#46039f"
             ],
             [
              0.2222222222222222,
              "#7201a8"
             ],
             [
              0.3333333333333333,
              "#9c179e"
             ],
             [
              0.4444444444444444,
              "#bd3786"
             ],
             [
              0.5555555555555556,
              "#d8576b"
             ],
             [
              0.6666666666666666,
              "#ed7953"
             ],
             [
              0.7777777777777778,
              "#fb9f3a"
             ],
             [
              0.8888888888888888,
              "#fdca26"
             ],
             [
              1,
              "#f0f921"
             ]
            ],
            "type": "contour"
           }
          ],
          "contourcarpet": [
           {
            "colorbar": {
             "outlinewidth": 0,
             "ticks": ""
            },
            "type": "contourcarpet"
           }
          ],
          "heatmap": [
           {
            "colorbar": {
             "outlinewidth": 0,
             "ticks": ""
            },
            "colorscale": [
             [
              0,
              "#0d0887"
             ],
             [
              0.1111111111111111,
              "#46039f"
             ],
             [
              0.2222222222222222,
              "#7201a8"
             ],
             [
              0.3333333333333333,
              "#9c179e"
             ],
             [
              0.4444444444444444,
              "#bd3786"
             ],
             [
              0.5555555555555556,
              "#d8576b"
             ],
             [
              0.6666666666666666,
              "#ed7953"
             ],
             [
              0.7777777777777778,
              "#fb9f3a"
             ],
             [
              0.8888888888888888,
              "#fdca26"
             ],
             [
              1,
              "#f0f921"
             ]
            ],
            "type": "heatmap"
           }
          ],
          "histogram": [
           {
            "marker": {
             "pattern": {
              "fillmode": "overlay",
              "size": 10,
              "solidity": 0.2
             }
            },
            "type": "histogram"
           }
          ],
          "histogram2d": [
           {
            "colorbar": {
             "outlinewidth": 0,
             "ticks": ""
            },
            "colorscale": [
             [
              0,
              "#0d0887"
             ],
             [
              0.1111111111111111,
              "#46039f"
             ],
             [
              0.2222222222222222,
              "#7201a8"
             ],
             [
              0.3333333333333333,
              "#9c179e"
             ],
             [
              0.4444444444444444,
              "#bd3786"
             ],
             [
              0.5555555555555556,
              "#d8576b"
             ],
             [
              0.6666666666666666,
              "#ed7953"
             ],
             [
              0.7777777777777778,
              "#fb9f3a"
             ],
             [
              0.8888888888888888,
              "#fdca26"
             ],
             [
              1,
              "#f0f921"
             ]
            ],
            "type": "histogram2d"
           }
          ],
          "histogram2dcontour": [
           {
            "colorbar": {
             "outlinewidth": 0,
             "ticks": ""
            },
            "colorscale": [
             [
              0,
              "#0d0887"
             ],
             [
              0.1111111111111111,
              "#46039f"
             ],
             [
              0.2222222222222222,
              "#7201a8"
             ],
             [
              0.3333333333333333,
              "#9c179e"
             ],
             [
              0.4444444444444444,
              "#bd3786"
             ],
             [
              0.5555555555555556,
              "#d8576b"
             ],
             [
              0.6666666666666666,
              "#ed7953"
             ],
             [
              0.7777777777777778,
              "#fb9f3a"
             ],
             [
              0.8888888888888888,
              "#fdca26"
             ],
             [
              1,
              "#f0f921"
             ]
            ],
            "type": "histogram2dcontour"
           }
          ],
          "mesh3d": [
           {
            "colorbar": {
             "outlinewidth": 0,
             "ticks": ""
            },
            "type": "mesh3d"
           }
          ],
          "parcoords": [
           {
            "line": {
             "colorbar": {
              "outlinewidth": 0,
              "ticks": ""
             }
            },
            "type": "parcoords"
           }
          ],
          "pie": [
           {
            "automargin": true,
            "type": "pie"
           }
          ],
          "scatter": [
           {
            "fillpattern": {
             "fillmode": "overlay",
             "size": 10,
             "solidity": 0.2
            },
            "type": "scatter"
           }
          ],
          "scatter3d": [
           {
            "line": {
             "colorbar": {
              "outlinewidth": 0,
              "ticks": ""
             }
            },
            "marker": {
             "colorbar": {
              "outlinewidth": 0,
              "ticks": ""
             }
            },
            "type": "scatter3d"
           }
          ],
          "scattercarpet": [
           {
            "marker": {
             "colorbar": {
              "outlinewidth": 0,
              "ticks": ""
             }
            },
            "type": "scattercarpet"
           }
          ],
          "scattergeo": [
           {
            "marker": {
             "colorbar": {
              "outlinewidth": 0,
              "ticks": ""
             }
            },
            "type": "scattergeo"
           }
          ],
          "scattergl": [
           {
            "marker": {
             "colorbar": {
              "outlinewidth": 0,
              "ticks": ""
             }
            },
            "type": "scattergl"
           }
          ],
          "scattermap": [
           {
            "marker": {
             "colorbar": {
              "outlinewidth": 0,
              "ticks": ""
             }
            },
            "type": "scattermap"
           }
          ],
          "scattermapbox": [
           {
            "marker": {
             "colorbar": {
              "outlinewidth": 0,
              "ticks": ""
             }
            },
            "type": "scattermapbox"
           }
          ],
          "scatterpolar": [
           {
            "marker": {
             "colorbar": {
              "outlinewidth": 0,
              "ticks": ""
             }
            },
            "type": "scatterpolar"
           }
          ],
          "scatterpolargl": [
           {
            "marker": {
             "colorbar": {
              "outlinewidth": 0,
              "ticks": ""
             }
            },
            "type": "scatterpolargl"
           }
          ],
          "scatterternary": [
           {
            "marker": {
             "colorbar": {
              "outlinewidth": 0,
              "ticks": ""
             }
            },
            "type": "scatterternary"
           }
          ],
          "surface": [
           {
            "colorbar": {
             "outlinewidth": 0,
             "ticks": ""
            },
            "colorscale": [
             [
              0,
              "#0d0887"
             ],
             [
              0.1111111111111111,
              "#46039f"
             ],
             [
              0.2222222222222222,
              "#7201a8"
             ],
             [
              0.3333333333333333,
              "#9c179e"
             ],
             [
              0.4444444444444444,
              "#bd3786"
             ],
             [
              0.5555555555555556,
              "#d8576b"
             ],
             [
              0.6666666666666666,
              "#ed7953"
             ],
             [
              0.7777777777777778,
              "#fb9f3a"
             ],
             [
              0.8888888888888888,
              "#fdca26"
             ],
             [
              1,
              "#f0f921"
             ]
            ],
            "type": "surface"
           }
          ],
          "table": [
           {
            "cells": {
             "fill": {
              "color": "#EBF0F8"
             },
             "line": {
              "color": "white"
             }
            },
            "header": {
             "fill": {
              "color": "#C8D4E3"
             },
             "line": {
              "color": "white"
             }
            },
            "type": "table"
           }
          ]
         },
         "layout": {
          "annotationdefaults": {
           "arrowcolor": "#2a3f5f",
           "arrowhead": 0,
           "arrowwidth": 1
          },
          "autotypenumbers": "strict",
          "coloraxis": {
           "colorbar": {
            "outlinewidth": 0,
            "ticks": ""
           }
          },
          "colorscale": {
           "diverging": [
            [
             0,
             "#8e0152"
            ],
            [
             0.1,
             "#c51b7d"
            ],
            [
             0.2,
             "#de77ae"
            ],
            [
             0.3,
             "#f1b6da"
            ],
            [
             0.4,
             "#fde0ef"
            ],
            [
             0.5,
             "#f7f7f7"
            ],
            [
             0.6,
             "#e6f5d0"
            ],
            [
             0.7,
             "#b8e186"
            ],
            [
             0.8,
             "#7fbc41"
            ],
            [
             0.9,
             "#4d9221"
            ],
            [
             1,
             "#276419"
            ]
           ],
           "sequential": [
            [
             0,
             "#0d0887"
            ],
            [
             0.1111111111111111,
             "#46039f"
            ],
            [
             0.2222222222222222,
             "#7201a8"
            ],
            [
             0.3333333333333333,
             "#9c179e"
            ],
            [
             0.4444444444444444,
             "#bd3786"
            ],
            [
             0.5555555555555556,
             "#d8576b"
            ],
            [
             0.6666666666666666,
             "#ed7953"
            ],
            [
             0.7777777777777778,
             "#fb9f3a"
            ],
            [
             0.8888888888888888,
             "#fdca26"
            ],
            [
             1,
             "#f0f921"
            ]
           ],
           "sequentialminus": [
            [
             0,
             "#0d0887"
            ],
            [
             0.1111111111111111,
             "#46039f"
            ],
            [
             0.2222222222222222,
             "#7201a8"
            ],
            [
             0.3333333333333333,
             "#9c179e"
            ],
            [
             0.4444444444444444,
             "#bd3786"
            ],
            [
             0.5555555555555556,
             "#d8576b"
            ],
            [
             0.6666666666666666,
             "#ed7953"
            ],
            [
             0.7777777777777778,
             "#fb9f3a"
            ],
            [
             0.8888888888888888,
             "#fdca26"
            ],
            [
             1,
             "#f0f921"
            ]
           ]
          },
          "colorway": [
           "#636efa",
           "#EF553B",
           "#00cc96",
           "#ab63fa",
           "#FFA15A",
           "#19d3f3",
           "#FF6692",
           "#B6E880",
           "#FF97FF",
           "#FECB52"
          ],
          "font": {
           "color": "#2a3f5f"
          },
          "geo": {
           "bgcolor": "white",
           "lakecolor": "white",
           "landcolor": "#E5ECF6",
           "showlakes": true,
           "showland": true,
           "subunitcolor": "white"
          },
          "hoverlabel": {
           "align": "left"
          },
          "hovermode": "closest",
          "mapbox": {
           "style": "light"
          },
          "paper_bgcolor": "white",
          "plot_bgcolor": "#E5ECF6",
          "polar": {
           "angularaxis": {
            "gridcolor": "white",
            "linecolor": "white",
            "ticks": ""
           },
           "bgcolor": "#E5ECF6",
           "radialaxis": {
            "gridcolor": "white",
            "linecolor": "white",
            "ticks": ""
           }
          },
          "scene": {
           "xaxis": {
            "backgroundcolor": "#E5ECF6",
            "gridcolor": "white",
            "gridwidth": 2,
            "linecolor": "white",
            "showbackground": true,
            "ticks": "",
            "zerolinecolor": "white"
           },
           "yaxis": {
            "backgroundcolor": "#E5ECF6",
            "gridcolor": "white",
            "gridwidth": 2,
            "linecolor": "white",
            "showbackground": true,
            "ticks": "",
            "zerolinecolor": "white"
           },
           "zaxis": {
            "backgroundcolor": "#E5ECF6",
            "gridcolor": "white",
            "gridwidth": 2,
            "linecolor": "white",
            "showbackground": true,
            "ticks": "",
            "zerolinecolor": "white"
           }
          },
          "shapedefaults": {
           "line": {
            "color": "#2a3f5f"
           }
          },
          "ternary": {
           "aaxis": {
            "gridcolor": "white",
            "linecolor": "white",
            "ticks": ""
           },
           "baxis": {
            "gridcolor": "white",
            "linecolor": "white",
            "ticks": ""
           },
           "bgcolor": "#E5ECF6",
           "caxis": {
            "gridcolor": "white",
            "linecolor": "white",
            "ticks": ""
           }
          },
          "title": {
           "x": 0.05
          },
          "xaxis": {
           "automargin": true,
           "gridcolor": "white",
           "linecolor": "white",
           "ticks": "",
           "title": {
            "standoff": 15
           },
           "zerolinecolor": "white",
           "zerolinewidth": 2
          },
          "yaxis": {
           "automargin": true,
           "gridcolor": "white",
           "linecolor": "white",
           "ticks": "",
           "title": {
            "standoff": 15
           },
           "zerolinecolor": "white",
           "zerolinewidth": 2
          }
         }
        },
        "title": {
         "text": "Distribución de características por cluster"
        },
        "width": 1300,
        "xaxis": {
         "anchor": "y",
         "domain": [
          0,
          0.2888888888888889
         ]
        },
        "xaxis2": {
         "anchor": "y2",
         "domain": [
          0.35555555555555557,
          0.6444444444444445
         ]
        },
        "xaxis3": {
         "anchor": "y3",
         "domain": [
          0.7111111111111111,
          1
         ]
        },
        "xaxis4": {
         "anchor": "y4",
         "domain": [
          0,
          0.2888888888888889
         ]
        },
        "xaxis5": {
         "anchor": "y5",
         "domain": [
          0.35555555555555557,
          0.6444444444444445
         ]
        },
        "xaxis6": {
         "anchor": "y6",
         "domain": [
          0.7111111111111111,
          1
         ]
        },
        "yaxis": {
         "anchor": "x",
         "domain": [
          0.625,
          1
         ]
        },
        "yaxis2": {
         "anchor": "x2",
         "domain": [
          0.625,
          1
         ]
        },
        "yaxis3": {
         "anchor": "x3",
         "domain": [
          0.625,
          1
         ]
        },
        "yaxis4": {
         "anchor": "x4",
         "domain": [
          0,
          0.375
         ]
        },
        "yaxis5": {
         "anchor": "x5",
         "domain": [
          0,
          0.375
         ]
        },
        "yaxis6": {
         "anchor": "x6",
         "domain": [
          0,
          0.375
         ]
        }
       }
      }
     },
     "metadata": {},
     "output_type": "display_data"
    }
   ],
   "source": [
    "features = ['Fare', 'Age', 'Pclass', 'SibSp', 'Sex', 'Deck']  # variables numéricas/codificadas\n",
    "\n",
    "fig = make_subplots(rows=2, cols=3, subplot_titles=features)\n",
    "\n",
    "for index, feature in enumerate(features):\n",
    "    fig.add_trace(\n",
    "        go.Box(\n",
    "            y=df_encoded[feature],\n",
    "            x=df_encoded['Cluster'].astype(str),\n",
    "            marker=dict(\n",
    "                color=\"steelblue\"\n",
    "            ),\n",
    "\n",
    "            name=feature,\n",
    "            showlegend=False\n",
    "        ),\n",
    "        row=index // 3 + 1,\n",
    "        col=index % 3 + 1\n",
    "    )\n",
    "\n",
    "fig.update_layout(\n",
    "    title_text=\"Distribución de características por cluster\",\n",
    "    height=600,\n",
    "    width=1300\n",
    ")\n",
    "\n",
    "fig.show()\n"
   ]
  },
  {
   "cell_type": "markdown",
   "id": "9f8068f7",
   "metadata": {},
   "source": [
    "##### Explicación del Análisis de Distribución por Cluster\n",
    "\n",
    "**Boxplots por variable:**\n",
    "\n",
    "**Fare (Tarifa):**\n",
    "- Muestra diferencias en el poder adquisitivo entre clusters\n",
    "- Clusters con tarifas altas vs bajas\n",
    "- Identifica grupos socioeconómicos\n",
    "\n",
    "**Age (Edad):**\n",
    "- Distribución de edades por cluster\n",
    "- Puede mostrar grupos generacionales\n",
    "- Diferencias en perfiles demográficos\n",
    "\n",
    "**Pclass (Clase):**\n",
    "- Distribución de clases de pasajero\n",
    "- Clusters pueden corresponder a estratos sociales\n",
    "- Relación con nivel socioeconómico\n",
    "\n",
    "**SibSp (Hermanos/cónyuges):**\n",
    "- Tamaño de familia por cluster\n",
    "- Grupos familiares vs individuales\n",
    "- Patrones de viaje\n",
    "\n",
    "**Sex (Sexo):**\n",
    "- Distribución de género por cluster\n",
    "- Puede revelar patrones demográficos\n",
    "- Diferencias en perfiles de pasajeros\n",
    "\n",
    "**Deck (Cubierta):**\n",
    "- Ubicación en el barco por cluster\n",
    "- Relación con clase y tarifa\n",
    "- Patrones de acomodación\n",
    "\n",
    "**Interpretación general:**\n",
    "Los boxplots permiten identificar las características distintivas de cada cluster y entender qué variables son más importantes para la segmentación de pasajeros.\n"
   ]
  },
  {
   "cell_type": "markdown",
   "id": "1369961d",
   "metadata": {},
   "source": [
    "##### Explicación de la Comparación Final y Selección del Mejor Clasificador\n",
    "\n",
    "**Resultados de la comparación:**\n",
    "\n",
    "**Tabla de Comparación (ordenada por AUC):**\n",
    "1. **Random Forest:** Accuracy=1.000, Precision=1.000, AUC=1.000\n",
    "2. **Logistic Regression:** Accuracy=0.805, Precision=0.771, AUC=0.859\n",
    "3. **SVM:** Accuracy=0.616, Precision=0.000, AUC=0.791\n",
    "\n",
    "**Análisis de los gráficos de barras:**\n",
    "\n",
    "**Accuracy:**\n",
    "- Random Forest domina con 100% de precisión\n",
    "- Logistic Regression muestra buen rendimiento (80.5%)\n",
    "- SVM tiene el rendimiento más bajo (61.6%)\n",
    "\n",
    "**Precision:**\n",
    "- Random Forest perfecto (100%)\n",
    "- Logistic Regression buena precisión (77.1%)\n",
    "- SVM falla completamente (0%) - no predice clase positiva\n",
    "\n",
    "**AUC:**\n",
    "- Random Forest perfecto (100%)\n",
    "- Logistic Regression excelente (85.9%)\n",
    "- SVM aceptable (79.1%)\n",
    "\n",
    "**MEJOR CLASIFICADOR: Random Forest**\n",
    "\n",
    "**Justificación de la selección:**\n",
    "- **AUC más alto:** 1.000 (separación perfecta de clases)\n",
    "- **Accuracy:** 1.000 (100% de predicciones correctas)\n",
    "- **Precision:** 1.000 (sin falsos positivos)\n",
    "\n",
    "**Consideraciones importantes:**\n",
    "Aunque Random Forest muestra rendimiento perfecto, esto indica posible overfitting. "
   ]
  },
  {
   "cell_type": "code",
   "execution_count": 370,
   "id": "ec58a9dd",
   "metadata": {},
   "outputs": [],
   "source": [
    "cluster_model_data = []\n",
    "\n",
    "for cluster in range(4):\n",
    "    cluster_data = df_encoded[df_encoded['Cluster'] == cluster]\n",
    "\n",
    "    for name, params in best_overall.items():\n",
    "        if name == \"Random Forest\":\n",
    "            model = RandomForestClassifier(**params, random_state=42)\n",
    "        elif name == \"SVM\":\n",
    "            model = SVC(**params, probability=True, random_state=42)\n",
    "        elif name == \"Logistic Regression\":\n",
    "            model = LogisticRegression(**params, random_state=42, max_iter=1000)\n",
    "\n",
    "        model.fit(cluster_data.drop(['Survived', 'Cluster'], axis=1), cluster_data['Survived'])\n",
    "        y_pred = model.predict(cluster_data.drop(['Survived', 'Cluster'], axis=1))\n",
    "        y_pred_proba = model.predict_proba(cluster_data.drop(['Survived', 'Cluster'], axis=1))[:, 1]\n",
    "\n",
    "        accuracy = accuracy_score(cluster_data['Survived'], y_pred)\n",
    "        precision = precision_score(cluster_data['Survived'], y_pred, zero_division=0)\n",
    "        auc = roc_auc_score(cluster_data['Survived'], y_pred_proba)\n",
    "\n",
    "        cluster_model_data.append({\n",
    "            'Cluster': cluster,\n",
    "            'Model': name,\n",
    "            'Accuracy': accuracy,\n",
    "            'Precision': precision,\n",
    "            'AUC': auc\n",
    "        })\n",
    "\n"
   ]
  },
  {
   "cell_type": "code",
   "execution_count": 418,
   "id": "9bcb2900",
   "metadata": {},
   "outputs": [
    {
     "data": {
      "application/vnd.plotly.v1+json": {
       "config": {
        "plotlyServerURL": "https://plot.ly"
       },
       "data": [
        {
         "marker": {
          "color": "firebrick"
         },
         "name": "Cluster 0",
         "opacity": 0.7,
         "showlegend": true,
         "type": "bar",
         "x": [
          "Random Forest",
          "SVM",
          "Logistic Regression"
         ],
         "xaxis": "x",
         "y": {
          "bdata": "EnfEHXFH7D+hL+gL+oLuP0Ff0Bf0Be0/",
          "dtype": "f8"
         },
         "yaxis": "y"
        },
        {
         "marker": {
          "color": "darkorange"
         },
         "name": "Cluster 1",
         "opacity": 0.7,
         "showlegend": true,
         "type": "bar",
         "x": [
          "Random Forest",
          "SVM",
          "Logistic Regression"
         ],
         "xaxis": "x",
         "y": {
          "bdata": "tFHf2ajv7D/E5ApicgXpPyZXEJMriOk/",
          "dtype": "f8"
         },
         "yaxis": "y"
        },
        {
         "marker": {
          "color": "gold"
         },
         "name": "Cluster 2",
         "opacity": 0.7,
         "showlegend": true,
         "type": "bar",
         "x": [
          "Random Forest",
          "SVM",
          "Logistic Regression"
         ],
         "xaxis": "x",
         "y": {
          "bdata": "VryTH8x57D/KD+Y8Ln3rPwxHCxJQs+s/",
          "dtype": "f8"
         },
         "yaxis": "y"
        },
        {
         "marker": {
          "color": "seagreen"
         },
         "name": "Cluster 3",
         "opacity": 0.7,
         "showlegend": true,
         "type": "bar",
         "x": [
          "Random Forest",
          "SVM",
          "Logistic Regression"
         ],
         "xaxis": "x",
         "y": {
          "bdata": "RnwCqeS87D+fQCo5L4voP2G/1cbQdOc/",
          "dtype": "f8"
         },
         "yaxis": "y"
        },
        {
         "marker": {
          "color": "firebrick"
         },
         "name": "Cluster 0",
         "opacity": 0.7,
         "showlegend": false,
         "type": "bar",
         "x": [
          "Random Forest",
          "SVM",
          "Logistic Regression"
         ],
         "xaxis": "x2",
         "y": {
          "bdata": "AAAAAAAAAAAAAAAAAADwPwAAAAAAAPA/",
          "dtype": "f8"
         },
         "yaxis": "y2"
        },
        {
         "marker": {
          "color": "darkorange"
         },
         "name": "Cluster 1",
         "opacity": 0.7,
         "showlegend": false,
         "type": "bar",
         "x": [
          "Random Forest",
          "SVM",
          "Logistic Regression"
         ],
         "xaxis": "x2",
         "y": {
          "bdata": "btu2bdu27T/btm3btm3rP8uyLMuyLOs/",
          "dtype": "f8"
         },
         "yaxis": "y2"
        },
        {
         "marker": {
          "color": "gold"
         },
         "name": "Cluster 2",
         "opacity": 0.7,
         "showlegend": false,
         "type": "bar",
         "x": [
          "Random Forest",
          "SVM",
          "Logistic Regression"
         ],
         "xaxis": "x2",
         "y": {
          "bdata": "AAAAAAAA8D9VVVVVVVXlP5qZmZmZmek/",
          "dtype": "f8"
         },
         "yaxis": "y2"
        },
        {
         "marker": {
          "color": "seagreen"
         },
         "name": "Cluster 3",
         "opacity": 0.7,
         "showlegend": false,
         "type": "bar",
         "x": [
          "Random Forest",
          "SVM",
          "Logistic Regression"
         ],
         "xaxis": "x2",
         "y": {
          "bdata": "svwly1+y7D/LPY2w3NPoP9QCxiQO3uc/",
          "dtype": "f8"
         },
         "yaxis": "y2"
        },
        {
         "marker": {
          "color": "firebrick"
         },
         "name": "Cluster 0",
         "opacity": 0.7,
         "showlegend": false,
         "type": "bar",
         "x": [
          "Random Forest",
          "SVM",
          "Logistic Regression"
         ],
         "xaxis": "x3",
         "y": {
          "bdata": "Tv2eW+LU7z9G2rECYaTNP7fEqd9zS+w/",
          "dtype": "f8"
         },
         "yaxis": "y3"
        },
        {
         "marker": {
          "color": "darkorange"
         },
         "name": "Cluster 1",
         "opacity": 0.7,
         "showlegend": false,
         "type": "bar",
         "x": [
          "Random Forest",
          "SVM",
          "Logistic Regression"
         ],
         "xaxis": "x3",
         "y": {
          "bdata": "3DL8/LYM7z+s4I7+KrjrP8GhbjRwqOs/",
          "dtype": "f8"
         },
         "yaxis": "y3"
        },
        {
         "marker": {
          "color": "gold"
         },
         "name": "Cluster 2",
         "opacity": 0.7,
         "showlegend": false,
         "type": "bar",
         "x": [
          "Random Forest",
          "SVM",
          "Logistic Regression"
         ],
         "xaxis": "x3",
         "y": {
          "bdata": "9c/xtCFa7z9ua4cMs+HkP4pOhTLrYuU/",
          "dtype": "f8"
         },
         "yaxis": "y3"
        },
        {
         "marker": {
          "color": "seagreen"
         },
         "name": "Cluster 3",
         "opacity": 0.7,
         "showlegend": false,
         "type": "bar",
         "x": [
          "Random Forest",
          "SVM",
          "Logistic Regression"
         ],
         "xaxis": "x3",
         "y": {
          "bdata": "+0Jh2r5Q7j+dGhX/psbpP8wuu+yyy+g/",
          "dtype": "f8"
         },
         "yaxis": "y3"
        }
       ],
       "layout": {
        "annotations": [
         {
          "font": {
           "size": 16
          },
          "showarrow": false,
          "text": "Accuracy por Cluster",
          "x": 0.14444444444444446,
          "xanchor": "center",
          "xref": "paper",
          "y": 1,
          "yanchor": "bottom",
          "yref": "paper"
         },
         {
          "font": {
           "size": 16
          },
          "showarrow": false,
          "text": "Precision por Cluster",
          "x": 0.5,
          "xanchor": "center",
          "xref": "paper",
          "y": 1,
          "yanchor": "bottom",
          "yref": "paper"
         },
         {
          "font": {
           "size": 16
          },
          "showarrow": false,
          "text": "AUC por Cluster",
          "x": 0.8555555555555556,
          "xanchor": "center",
          "xref": "paper",
          "y": 1,
          "yanchor": "bottom",
          "yref": "paper"
         }
        ],
        "template": {
         "data": {
          "bar": [
           {
            "error_x": {
             "color": "#2a3f5f"
            },
            "error_y": {
             "color": "#2a3f5f"
            },
            "marker": {
             "line": {
              "color": "#E5ECF6",
              "width": 0.5
             },
             "pattern": {
              "fillmode": "overlay",
              "size": 10,
              "solidity": 0.2
             }
            },
            "type": "bar"
           }
          ],
          "barpolar": [
           {
            "marker": {
             "line": {
              "color": "#E5ECF6",
              "width": 0.5
             },
             "pattern": {
              "fillmode": "overlay",
              "size": 10,
              "solidity": 0.2
             }
            },
            "type": "barpolar"
           }
          ],
          "carpet": [
           {
            "aaxis": {
             "endlinecolor": "#2a3f5f",
             "gridcolor": "white",
             "linecolor": "white",
             "minorgridcolor": "white",
             "startlinecolor": "#2a3f5f"
            },
            "baxis": {
             "endlinecolor": "#2a3f5f",
             "gridcolor": "white",
             "linecolor": "white",
             "minorgridcolor": "white",
             "startlinecolor": "#2a3f5f"
            },
            "type": "carpet"
           }
          ],
          "choropleth": [
           {
            "colorbar": {
             "outlinewidth": 0,
             "ticks": ""
            },
            "type": "choropleth"
           }
          ],
          "contour": [
           {
            "colorbar": {
             "outlinewidth": 0,
             "ticks": ""
            },
            "colorscale": [
             [
              0,
              "#0d0887"
             ],
             [
              0.1111111111111111,
              "#46039f"
             ],
             [
              0.2222222222222222,
              "#7201a8"
             ],
             [
              0.3333333333333333,
              "#9c179e"
             ],
             [
              0.4444444444444444,
              "#bd3786"
             ],
             [
              0.5555555555555556,
              "#d8576b"
             ],
             [
              0.6666666666666666,
              "#ed7953"
             ],
             [
              0.7777777777777778,
              "#fb9f3a"
             ],
             [
              0.8888888888888888,
              "#fdca26"
             ],
             [
              1,
              "#f0f921"
             ]
            ],
            "type": "contour"
           }
          ],
          "contourcarpet": [
           {
            "colorbar": {
             "outlinewidth": 0,
             "ticks": ""
            },
            "type": "contourcarpet"
           }
          ],
          "heatmap": [
           {
            "colorbar": {
             "outlinewidth": 0,
             "ticks": ""
            },
            "colorscale": [
             [
              0,
              "#0d0887"
             ],
             [
              0.1111111111111111,
              "#46039f"
             ],
             [
              0.2222222222222222,
              "#7201a8"
             ],
             [
              0.3333333333333333,
              "#9c179e"
             ],
             [
              0.4444444444444444,
              "#bd3786"
             ],
             [
              0.5555555555555556,
              "#d8576b"
             ],
             [
              0.6666666666666666,
              "#ed7953"
             ],
             [
              0.7777777777777778,
              "#fb9f3a"
             ],
             [
              0.8888888888888888,
              "#fdca26"
             ],
             [
              1,
              "#f0f921"
             ]
            ],
            "type": "heatmap"
           }
          ],
          "histogram": [
           {
            "marker": {
             "pattern": {
              "fillmode": "overlay",
              "size": 10,
              "solidity": 0.2
             }
            },
            "type": "histogram"
           }
          ],
          "histogram2d": [
           {
            "colorbar": {
             "outlinewidth": 0,
             "ticks": ""
            },
            "colorscale": [
             [
              0,
              "#0d0887"
             ],
             [
              0.1111111111111111,
              "#46039f"
             ],
             [
              0.2222222222222222,
              "#7201a8"
             ],
             [
              0.3333333333333333,
              "#9c179e"
             ],
             [
              0.4444444444444444,
              "#bd3786"
             ],
             [
              0.5555555555555556,
              "#d8576b"
             ],
             [
              0.6666666666666666,
              "#ed7953"
             ],
             [
              0.7777777777777778,
              "#fb9f3a"
             ],
             [
              0.8888888888888888,
              "#fdca26"
             ],
             [
              1,
              "#f0f921"
             ]
            ],
            "type": "histogram2d"
           }
          ],
          "histogram2dcontour": [
           {
            "colorbar": {
             "outlinewidth": 0,
             "ticks": ""
            },
            "colorscale": [
             [
              0,
              "#0d0887"
             ],
             [
              0.1111111111111111,
              "#46039f"
             ],
             [
              0.2222222222222222,
              "#7201a8"
             ],
             [
              0.3333333333333333,
              "#9c179e"
             ],
             [
              0.4444444444444444,
              "#bd3786"
             ],
             [
              0.5555555555555556,
              "#d8576b"
             ],
             [
              0.6666666666666666,
              "#ed7953"
             ],
             [
              0.7777777777777778,
              "#fb9f3a"
             ],
             [
              0.8888888888888888,
              "#fdca26"
             ],
             [
              1,
              "#f0f921"
             ]
            ],
            "type": "histogram2dcontour"
           }
          ],
          "mesh3d": [
           {
            "colorbar": {
             "outlinewidth": 0,
             "ticks": ""
            },
            "type": "mesh3d"
           }
          ],
          "parcoords": [
           {
            "line": {
             "colorbar": {
              "outlinewidth": 0,
              "ticks": ""
             }
            },
            "type": "parcoords"
           }
          ],
          "pie": [
           {
            "automargin": true,
            "type": "pie"
           }
          ],
          "scatter": [
           {
            "fillpattern": {
             "fillmode": "overlay",
             "size": 10,
             "solidity": 0.2
            },
            "type": "scatter"
           }
          ],
          "scatter3d": [
           {
            "line": {
             "colorbar": {
              "outlinewidth": 0,
              "ticks": ""
             }
            },
            "marker": {
             "colorbar": {
              "outlinewidth": 0,
              "ticks": ""
             }
            },
            "type": "scatter3d"
           }
          ],
          "scattercarpet": [
           {
            "marker": {
             "colorbar": {
              "outlinewidth": 0,
              "ticks": ""
             }
            },
            "type": "scattercarpet"
           }
          ],
          "scattergeo": [
           {
            "marker": {
             "colorbar": {
              "outlinewidth": 0,
              "ticks": ""
             }
            },
            "type": "scattergeo"
           }
          ],
          "scattergl": [
           {
            "marker": {
             "colorbar": {
              "outlinewidth": 0,
              "ticks": ""
             }
            },
            "type": "scattergl"
           }
          ],
          "scattermap": [
           {
            "marker": {
             "colorbar": {
              "outlinewidth": 0,
              "ticks": ""
             }
            },
            "type": "scattermap"
           }
          ],
          "scattermapbox": [
           {
            "marker": {
             "colorbar": {
              "outlinewidth": 0,
              "ticks": ""
             }
            },
            "type": "scattermapbox"
           }
          ],
          "scatterpolar": [
           {
            "marker": {
             "colorbar": {
              "outlinewidth": 0,
              "ticks": ""
             }
            },
            "type": "scatterpolar"
           }
          ],
          "scatterpolargl": [
           {
            "marker": {
             "colorbar": {
              "outlinewidth": 0,
              "ticks": ""
             }
            },
            "type": "scatterpolargl"
           }
          ],
          "scatterternary": [
           {
            "marker": {
             "colorbar": {
              "outlinewidth": 0,
              "ticks": ""
             }
            },
            "type": "scatterternary"
           }
          ],
          "surface": [
           {
            "colorbar": {
             "outlinewidth": 0,
             "ticks": ""
            },
            "colorscale": [
             [
              0,
              "#0d0887"
             ],
             [
              0.1111111111111111,
              "#46039f"
             ],
             [
              0.2222222222222222,
              "#7201a8"
             ],
             [
              0.3333333333333333,
              "#9c179e"
             ],
             [
              0.4444444444444444,
              "#bd3786"
             ],
             [
              0.5555555555555556,
              "#d8576b"
             ],
             [
              0.6666666666666666,
              "#ed7953"
             ],
             [
              0.7777777777777778,
              "#fb9f3a"
             ],
             [
              0.8888888888888888,
              "#fdca26"
             ],
             [
              1,
              "#f0f921"
             ]
            ],
            "type": "surface"
           }
          ],
          "table": [
           {
            "cells": {
             "fill": {
              "color": "#EBF0F8"
             },
             "line": {
              "color": "white"
             }
            },
            "header": {
             "fill": {
              "color": "#C8D4E3"
             },
             "line": {
              "color": "white"
             }
            },
            "type": "table"
           }
          ]
         },
         "layout": {
          "annotationdefaults": {
           "arrowcolor": "#2a3f5f",
           "arrowhead": 0,
           "arrowwidth": 1
          },
          "autotypenumbers": "strict",
          "coloraxis": {
           "colorbar": {
            "outlinewidth": 0,
            "ticks": ""
           }
          },
          "colorscale": {
           "diverging": [
            [
             0,
             "#8e0152"
            ],
            [
             0.1,
             "#c51b7d"
            ],
            [
             0.2,
             "#de77ae"
            ],
            [
             0.3,
             "#f1b6da"
            ],
            [
             0.4,
             "#fde0ef"
            ],
            [
             0.5,
             "#f7f7f7"
            ],
            [
             0.6,
             "#e6f5d0"
            ],
            [
             0.7,
             "#b8e186"
            ],
            [
             0.8,
             "#7fbc41"
            ],
            [
             0.9,
             "#4d9221"
            ],
            [
             1,
             "#276419"
            ]
           ],
           "sequential": [
            [
             0,
             "#0d0887"
            ],
            [
             0.1111111111111111,
             "#46039f"
            ],
            [
             0.2222222222222222,
             "#7201a8"
            ],
            [
             0.3333333333333333,
             "#9c179e"
            ],
            [
             0.4444444444444444,
             "#bd3786"
            ],
            [
             0.5555555555555556,
             "#d8576b"
            ],
            [
             0.6666666666666666,
             "#ed7953"
            ],
            [
             0.7777777777777778,
             "#fb9f3a"
            ],
            [
             0.8888888888888888,
             "#fdca26"
            ],
            [
             1,
             "#f0f921"
            ]
           ],
           "sequentialminus": [
            [
             0,
             "#0d0887"
            ],
            [
             0.1111111111111111,
             "#46039f"
            ],
            [
             0.2222222222222222,
             "#7201a8"
            ],
            [
             0.3333333333333333,
             "#9c179e"
            ],
            [
             0.4444444444444444,
             "#bd3786"
            ],
            [
             0.5555555555555556,
             "#d8576b"
            ],
            [
             0.6666666666666666,
             "#ed7953"
            ],
            [
             0.7777777777777778,
             "#fb9f3a"
            ],
            [
             0.8888888888888888,
             "#fdca26"
            ],
            [
             1,
             "#f0f921"
            ]
           ]
          },
          "colorway": [
           "#636efa",
           "#EF553B",
           "#00cc96",
           "#ab63fa",
           "#FFA15A",
           "#19d3f3",
           "#FF6692",
           "#B6E880",
           "#FF97FF",
           "#FECB52"
          ],
          "font": {
           "color": "#2a3f5f"
          },
          "geo": {
           "bgcolor": "white",
           "lakecolor": "white",
           "landcolor": "#E5ECF6",
           "showlakes": true,
           "showland": true,
           "subunitcolor": "white"
          },
          "hoverlabel": {
           "align": "left"
          },
          "hovermode": "closest",
          "mapbox": {
           "style": "light"
          },
          "paper_bgcolor": "white",
          "plot_bgcolor": "#E5ECF6",
          "polar": {
           "angularaxis": {
            "gridcolor": "white",
            "linecolor": "white",
            "ticks": ""
           },
           "bgcolor": "#E5ECF6",
           "radialaxis": {
            "gridcolor": "white",
            "linecolor": "white",
            "ticks": ""
           }
          },
          "scene": {
           "xaxis": {
            "backgroundcolor": "#E5ECF6",
            "gridcolor": "white",
            "gridwidth": 2,
            "linecolor": "white",
            "showbackground": true,
            "ticks": "",
            "zerolinecolor": "white"
           },
           "yaxis": {
            "backgroundcolor": "#E5ECF6",
            "gridcolor": "white",
            "gridwidth": 2,
            "linecolor": "white",
            "showbackground": true,
            "ticks": "",
            "zerolinecolor": "white"
           },
           "zaxis": {
            "backgroundcolor": "#E5ECF6",
            "gridcolor": "white",
            "gridwidth": 2,
            "linecolor": "white",
            "showbackground": true,
            "ticks": "",
            "zerolinecolor": "white"
           }
          },
          "shapedefaults": {
           "line": {
            "color": "#2a3f5f"
           }
          },
          "ternary": {
           "aaxis": {
            "gridcolor": "white",
            "linecolor": "white",
            "ticks": ""
           },
           "baxis": {
            "gridcolor": "white",
            "linecolor": "white",
            "ticks": ""
           },
           "bgcolor": "#E5ECF6",
           "caxis": {
            "gridcolor": "white",
            "linecolor": "white",
            "ticks": ""
           }
          },
          "title": {
           "x": 0.05
          },
          "xaxis": {
           "automargin": true,
           "gridcolor": "white",
           "linecolor": "white",
           "ticks": "",
           "title": {
            "standoff": 15
           },
           "zerolinecolor": "white",
           "zerolinewidth": 2
          },
          "yaxis": {
           "automargin": true,
           "gridcolor": "white",
           "linecolor": "white",
           "ticks": "",
           "title": {
            "standoff": 15
           },
           "zerolinecolor": "white",
           "zerolinewidth": 2
          }
         }
        },
        "title": {
         "text": "Entrenamiento por cluster y modelo con hiperparámetros"
        },
        "xaxis": {
         "anchor": "y",
         "domain": [
          0,
          0.2888888888888889
         ]
        },
        "xaxis2": {
         "anchor": "y2",
         "domain": [
          0.35555555555555557,
          0.6444444444444445
         ]
        },
        "xaxis3": {
         "anchor": "y3",
         "domain": [
          0.7111111111111111,
          1
         ]
        },
        "yaxis": {
         "anchor": "x",
         "domain": [
          0,
          1
         ]
        },
        "yaxis2": {
         "anchor": "x2",
         "domain": [
          0,
          1
         ]
        },
        "yaxis3": {
         "anchor": "x3",
         "domain": [
          0,
          1
         ]
        }
       }
      }
     },
     "metadata": {},
     "output_type": "display_data"
    }
   ],
   "source": [
    "cluster_model_df = pd.DataFrame(cluster_model_data)\n",
    "metrics = [\"Accuracy\", \"Precision\", \"AUC\"]\n",
    "colors = [\"firebrick\", \"darkorange\", \"gold\", \"seagreen\"]\n",
    "\n",
    "fig = make_subplots(rows=1, cols=3, subplot_titles=[metric + \" por Cluster\" for metric in metrics])\n",
    "\n",
    "leyend = True\n",
    "\n",
    "for index_metric, metric in enumerate(metrics):\n",
    "\n",
    "    for cluster in range(4):\n",
    "\n",
    "        cluster_data = cluster_model_df[cluster_model_df['Cluster'] == cluster]\n",
    "\n",
    "        fig.add_trace(\n",
    "            go.Bar(\n",
    "                x=cluster_data['Model'],\n",
    "                y=cluster_data[metric],\n",
    "                name=f\"Cluster {cluster}\",\n",
    "                opacity=0.7,\n",
    "                showlegend=leyend,\n",
    "                marker=dict(\n",
    "                    color=colors[cluster]\n",
    "                ),\n",
    "                \n",
    "            ),\n",
    "            row=1,\n",
    "            col=index_metric + 1\n",
    "        )\n",
    "\n",
    "    leyend = False\n",
    "\n",
    "fig.update_layout(\n",
    "    title = \"Entrenamiento por cluster y modelo con hiperparámetros\"\n",
    ")\n",
    "\n",
    "fig.show()"
   ]
  }
 ],
 "metadata": {
  "kernelspec": {
   "display_name": "Python 3",
   "language": "python",
   "name": "python3"
  },
  "language_info": {
   "codemirror_mode": {
    "name": "ipython",
    "version": 3
   },
   "file_extension": ".py",
   "mimetype": "text/x-python",
   "name": "python",
   "nbconvert_exporter": "python",
   "pygments_lexer": "ipython3",
   "version": "3.13.5"
  }
 },
 "nbformat": 4,
 "nbformat_minor": 5
}
