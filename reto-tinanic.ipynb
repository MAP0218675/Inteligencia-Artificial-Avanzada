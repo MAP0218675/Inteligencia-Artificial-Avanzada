{
 "cells": [
  {
   "cell_type": "markdown",
   "id": "820386db",
   "metadata": {},
   "source": [
    "#### IMPORTS Y CONFIGURACIÓN INICIAL"
   ]
  },
  {
   "cell_type": "code",
   "execution_count": 1,
   "id": "4d76545f",
   "metadata": {},
   "outputs": [],
   "source": [
    "# Imports necesarios para el análisis\n",
    "import plotly.graph_objects as go\n",
    "from plotly.subplots import make_subplots\n",
    "from sklearn.preprocessing import StandardScaler, LabelEncoder\n",
    "from sklearn.decomposition import PCA\n",
    "from sklearn.ensemble import RandomForestClassifier\n",
    "from sklearn.svm import SVC\n",
    "from sklearn.linear_model import LogisticRegression\n",
    "from sklearn.model_selection import cross_val_score, StratifiedKFold\n",
    "from sklearn.metrics import accuracy_score, precision_score, confusion_matrix, roc_auc_score, roc_curve\n",
    "import pandas as pd\n",
    "import numpy as np\n",
    "import seaborn as sns\n",
    "import matplotlib.pyplot as plt\n",
    "\n",
    "# Configuración de visualización\n",
    "plt.style.use('default')\n",
    "sns.set_palette(\"husl\")"
   ]
  },
  {
   "cell_type": "markdown",
   "id": "4d84f7f3",
   "metadata": {},
   "source": [
    "##### Explicación de Imports\n",
    "\n",
    "En este bloque importamos todas las librerías necesarias para el análisis completo del Titanic:\n",
    "\n",
    "- **pandas**: Para manipulación y análisis de datos\n",
    "- **numpy**: Para operaciones numéricas\n",
    "- **seaborn y matplotlib**: Para visualizaciones\n",
    "- **plotly**: Para gráficos interactivos\n",
    "- **sklearn**: Para machine learning (clasificadores, métricas, preprocesamiento)\n",
    "- **PCA**: Para análisis de componentes principales\n",
    "\n",
    "También configuramos el estilo de visualización para que sea consistente en todo el análisis."
   ]
  },
  {
   "cell_type": "markdown",
   "id": "7406ff75",
   "metadata": {},
   "source": [
    "#### CARGA DE DATOS"
   ]
  },
  {
   "cell_type": "code",
   "execution_count": 3,
   "id": "57f8e1ed",
   "metadata": {},
   "outputs": [
    {
     "name": "stdout",
     "output_type": "stream",
     "text": [
      "Forma de los datasets:\n",
      "Train: (891, 12)\n",
      "Test: (418, 11)\n"
     ]
    }
   ],
   "source": [
    "# Cargar los datasets\n",
    "test = pd.read_csv(\"test.csv\")\n",
    "df = pd.read_csv(\"train.csv\")\n",
    "\n",
    "print(\"Forma de los datasets:\")\n",
    "print(f\"Train: {df.shape}\")\n",
    "print(f\"Test: {test.shape}\")"
   ]
  },
  {
   "cell_type": "markdown",
   "id": "4b389660",
   "metadata": {},
   "source": [
    "##### Explicación de Carga de Datos\n",
    "\n",
    "**Resultados obtenidos:**\n",
    "- **Dataset de entrenamiento (train.csv)**: 891 filas × 12 columnas\n",
    "- **Dataset de prueba (test.csv)**: 418 filas × 11 columnas\n",
    "\n",
    "**Observaciones importantes:**\n",
    "- El dataset de entrenamiento tiene una columna adicional llamada \"Survived\" que es nuestra variable objetivo\n",
    "- El dataset de prueba no tiene la columna \"Survived\" porque es lo que debemos predecir\n",
    "- La diferencia en el número de filas es normal: usamos 891 registros para entrenar y 418 para probar el modelo\n",
    "- Esta distribución es típica en problemas de machine learning (aproximadamente 70% entrenamiento, 30% prueba)"
   ]
  },
  {
   "cell_type": "markdown",
   "id": "80153265",
   "metadata": {},
   "source": [
    "####  ANÁLISIS INICIAL CON DATOS DE TEST"
   ]
  },
  {
   "cell_type": "code",
   "execution_count": null,
   "id": "1262d5a7",
   "metadata": {},
   "outputs": [
    {
     "name": "stderr",
     "output_type": "stream",
     "text": [
      "/var/folders/bh/cdlv0vwj4vn8mznhbcsmms640000gn/T/ipykernel_57147/1468480535.py:2: FutureWarning: DataFrame.interpolate with object dtype is deprecated and will raise in a future version. Call obj.infer_objects(copy=False) before interpolating instead.\n",
      "  test.interpolate(method=\"spline\", order=3, inplace=True)\n"
     ]
    }
   ],
   "source": [
    "# Interpolación de datos de test \n",
    "test.interpolate(method=\"spline\", order=3, inplace=True)\n",
    "\n",
    "# Seleccionar datos numéricos del test\n",
    "numeric_data = test.select_dtypes(include=[\"float64\", \"int64\"])\n",
    "numeric_columns = [column for column in numeric_data.columns if column != \"PassengerId\"]\n",
    "numeric_data = numeric_data[numeric_columns]"
   ]
  },
  {
   "cell_type": "markdown",
   "id": "139685ac",
   "metadata": {},
   "source": [
    "##### Explicación del Análisis Inicial\n",
    "\n",
    "**Proceso realizado:**\n",
    "1. **Interpolación**: Aplicamos interpolación spline de orden 3 al dataset de test para manejar valores faltantes\n",
    "2. **Selección de variables numéricas**: Extraemos solo las columnas con datos numéricos (float64, int64)\n",
    "3. **Exclusión de PassengerId**: Eliminamos esta columna ya que es solo un identificador y no aporta información para el análisis\n",
    "\n",
    "**Propósito:**\n",
    "- Preparar los datos para análisis de correlación y PCA\n",
    "- Manejar valores faltantes de manera suave usando interpolación\n",
    "- Enfocarnos solo en variables numéricas para análisis estadístico"
   ]
  },
  {
   "cell_type": "markdown",
   "id": "a043827d",
   "metadata": {},
   "source": [
    "#### ANÁLISIS DE CORRELACIÓN CON DATOS DE TEST"
   ]
  },
  {
   "cell_type": "code",
   "execution_count": 5,
   "id": "6f08e540",
   "metadata": {},
   "outputs": [
    {
     "data": {
      "application/vnd.plotly.v1+json": {
       "config": {
        "plotlyServerURL": "https://plot.ly"
       },
       "data": [
        {
         "colorscale": [
          [
           0,
           "rgb(5,48,97)"
          ],
          [
           0.1,
           "rgb(33,102,172)"
          ],
          [
           0.2,
           "rgb(67,147,195)"
          ],
          [
           0.3,
           "rgb(146,197,222)"
          ],
          [
           0.4,
           "rgb(209,229,240)"
          ],
          [
           0.5,
           "rgb(247,247,247)"
          ],
          [
           0.6,
           "rgb(253,219,199)"
          ],
          [
           0.7,
           "rgb(244,165,130)"
          ],
          [
           0.8,
           "rgb(214,96,77)"
          ],
          [
           0.9,
           "rgb(178,24,43)"
          ],
          [
           1,
           "rgb(103,0,31)"
          ]
         ],
         "text": {
          "bdata": "AAAAAAAA8D8T8Q6mjGbXv8qGXV0NzlE/4+msG4Arkz+g7bvObn/ivxPxDqaMZte/AAAAAAAA8D9Na2IxRBGqv5Mo/pgoXI8/sbKjCIWe0T/Khl1dDc5RP01rYjFEEaq/AAAAAAAA8D8kZjJQKaTTP6mLTHwXFcY/4+msG4Arkz+TKP6YKFyPPyRmMlAppNM/AAAAAAAA8D+callWvYfNP6Dtu85uf+K/sbKjCIWe0T+pi0x8FxXGP5xqWVa9h80/AAAAAAAA8D8=",
          "dtype": "f8",
          "shape": "5, 5"
         },
         "textfont": {
          "size": 14
         },
         "texttemplate": "%{text:.2f}",
         "type": "heatmap",
         "x": [
          "Pclass",
          "Age",
          "SibSp",
          "Parch",
          "Fare"
         ],
         "y": [
          "Pclass",
          "Age",
          "SibSp",
          "Parch",
          "Fare"
         ],
         "z": {
          "bdata": "AAAAAAAA8D8T8Q6mjGbXv8qGXV0NzlE/4+msG4Arkz+g7bvObn/ivxPxDqaMZte/AAAAAAAA8D9Na2IxRBGqv5Mo/pgoXI8/sbKjCIWe0T/Khl1dDc5RP01rYjFEEaq/AAAAAAAA8D8kZjJQKaTTP6mLTHwXFcY/4+msG4Arkz+TKP6YKFyPPyRmMlAppNM/AAAAAAAA8D+callWvYfNP6Dtu85uf+K/sbKjCIWe0T+pi0x8FxXGP5xqWVa9h80/AAAAAAAA8D8=",
          "dtype": "f8",
          "shape": "5, 5"
         }
        }
       ],
       "layout": {
        "template": {
         "data": {
          "bar": [
           {
            "error_x": {
             "color": "#f2f5fa"
            },
            "error_y": {
             "color": "#f2f5fa"
            },
            "marker": {
             "line": {
              "color": "rgb(17,17,17)",
              "width": 0.5
             },
             "pattern": {
              "fillmode": "overlay",
              "size": 10,
              "solidity": 0.2
             }
            },
            "type": "bar"
           }
          ],
          "barpolar": [
           {
            "marker": {
             "line": {
              "color": "rgb(17,17,17)",
              "width": 0.5
             },
             "pattern": {
              "fillmode": "overlay",
              "size": 10,
              "solidity": 0.2
             }
            },
            "type": "barpolar"
           }
          ],
          "carpet": [
           {
            "aaxis": {
             "endlinecolor": "#A2B1C6",
             "gridcolor": "#506784",
             "linecolor": "#506784",
             "minorgridcolor": "#506784",
             "startlinecolor": "#A2B1C6"
            },
            "baxis": {
             "endlinecolor": "#A2B1C6",
             "gridcolor": "#506784",
             "linecolor": "#506784",
             "minorgridcolor": "#506784",
             "startlinecolor": "#A2B1C6"
            },
            "type": "carpet"
           }
          ],
          "choropleth": [
           {
            "colorbar": {
             "outlinewidth": 0,
             "ticks": ""
            },
            "type": "choropleth"
           }
          ],
          "contour": [
           {
            "colorbar": {
             "outlinewidth": 0,
             "ticks": ""
            },
            "colorscale": [
             [
              0,
              "#0d0887"
             ],
             [
              0.1111111111111111,
              "#46039f"
             ],
             [
              0.2222222222222222,
              "#7201a8"
             ],
             [
              0.3333333333333333,
              "#9c179e"
             ],
             [
              0.4444444444444444,
              "#bd3786"
             ],
             [
              0.5555555555555556,
              "#d8576b"
             ],
             [
              0.6666666666666666,
              "#ed7953"
             ],
             [
              0.7777777777777778,
              "#fb9f3a"
             ],
             [
              0.8888888888888888,
              "#fdca26"
             ],
             [
              1,
              "#f0f921"
             ]
            ],
            "type": "contour"
           }
          ],
          "contourcarpet": [
           {
            "colorbar": {
             "outlinewidth": 0,
             "ticks": ""
            },
            "type": "contourcarpet"
           }
          ],
          "heatmap": [
           {
            "colorbar": {
             "outlinewidth": 0,
             "ticks": ""
            },
            "colorscale": [
             [
              0,
              "#0d0887"
             ],
             [
              0.1111111111111111,
              "#46039f"
             ],
             [
              0.2222222222222222,
              "#7201a8"
             ],
             [
              0.3333333333333333,
              "#9c179e"
             ],
             [
              0.4444444444444444,
              "#bd3786"
             ],
             [
              0.5555555555555556,
              "#d8576b"
             ],
             [
              0.6666666666666666,
              "#ed7953"
             ],
             [
              0.7777777777777778,
              "#fb9f3a"
             ],
             [
              0.8888888888888888,
              "#fdca26"
             ],
             [
              1,
              "#f0f921"
             ]
            ],
            "type": "heatmap"
           }
          ],
          "histogram": [
           {
            "marker": {
             "pattern": {
              "fillmode": "overlay",
              "size": 10,
              "solidity": 0.2
             }
            },
            "type": "histogram"
           }
          ],
          "histogram2d": [
           {
            "colorbar": {
             "outlinewidth": 0,
             "ticks": ""
            },
            "colorscale": [
             [
              0,
              "#0d0887"
             ],
             [
              0.1111111111111111,
              "#46039f"
             ],
             [
              0.2222222222222222,
              "#7201a8"
             ],
             [
              0.3333333333333333,
              "#9c179e"
             ],
             [
              0.4444444444444444,
              "#bd3786"
             ],
             [
              0.5555555555555556,
              "#d8576b"
             ],
             [
              0.6666666666666666,
              "#ed7953"
             ],
             [
              0.7777777777777778,
              "#fb9f3a"
             ],
             [
              0.8888888888888888,
              "#fdca26"
             ],
             [
              1,
              "#f0f921"
             ]
            ],
            "type": "histogram2d"
           }
          ],
          "histogram2dcontour": [
           {
            "colorbar": {
             "outlinewidth": 0,
             "ticks": ""
            },
            "colorscale": [
             [
              0,
              "#0d0887"
             ],
             [
              0.1111111111111111,
              "#46039f"
             ],
             [
              0.2222222222222222,
              "#7201a8"
             ],
             [
              0.3333333333333333,
              "#9c179e"
             ],
             [
              0.4444444444444444,
              "#bd3786"
             ],
             [
              0.5555555555555556,
              "#d8576b"
             ],
             [
              0.6666666666666666,
              "#ed7953"
             ],
             [
              0.7777777777777778,
              "#fb9f3a"
             ],
             [
              0.8888888888888888,
              "#fdca26"
             ],
             [
              1,
              "#f0f921"
             ]
            ],
            "type": "histogram2dcontour"
           }
          ],
          "mesh3d": [
           {
            "colorbar": {
             "outlinewidth": 0,
             "ticks": ""
            },
            "type": "mesh3d"
           }
          ],
          "parcoords": [
           {
            "line": {
             "colorbar": {
              "outlinewidth": 0,
              "ticks": ""
             }
            },
            "type": "parcoords"
           }
          ],
          "pie": [
           {
            "automargin": true,
            "type": "pie"
           }
          ],
          "scatter": [
           {
            "marker": {
             "line": {
              "color": "#283442"
             }
            },
            "type": "scatter"
           }
          ],
          "scatter3d": [
           {
            "line": {
             "colorbar": {
              "outlinewidth": 0,
              "ticks": ""
             }
            },
            "marker": {
             "colorbar": {
              "outlinewidth": 0,
              "ticks": ""
             }
            },
            "type": "scatter3d"
           }
          ],
          "scattercarpet": [
           {
            "marker": {
             "colorbar": {
              "outlinewidth": 0,
              "ticks": ""
             }
            },
            "type": "scattercarpet"
           }
          ],
          "scattergeo": [
           {
            "marker": {
             "colorbar": {
              "outlinewidth": 0,
              "ticks": ""
             }
            },
            "type": "scattergeo"
           }
          ],
          "scattergl": [
           {
            "marker": {
             "line": {
              "color": "#283442"
             }
            },
            "type": "scattergl"
           }
          ],
          "scattermap": [
           {
            "marker": {
             "colorbar": {
              "outlinewidth": 0,
              "ticks": ""
             }
            },
            "type": "scattermap"
           }
          ],
          "scattermapbox": [
           {
            "marker": {
             "colorbar": {
              "outlinewidth": 0,
              "ticks": ""
             }
            },
            "type": "scattermapbox"
           }
          ],
          "scatterpolar": [
           {
            "marker": {
             "colorbar": {
              "outlinewidth": 0,
              "ticks": ""
             }
            },
            "type": "scatterpolar"
           }
          ],
          "scatterpolargl": [
           {
            "marker": {
             "colorbar": {
              "outlinewidth": 0,
              "ticks": ""
             }
            },
            "type": "scatterpolargl"
           }
          ],
          "scatterternary": [
           {
            "marker": {
             "colorbar": {
              "outlinewidth": 0,
              "ticks": ""
             }
            },
            "type": "scatterternary"
           }
          ],
          "surface": [
           {
            "colorbar": {
             "outlinewidth": 0,
             "ticks": ""
            },
            "colorscale": [
             [
              0,
              "#0d0887"
             ],
             [
              0.1111111111111111,
              "#46039f"
             ],
             [
              0.2222222222222222,
              "#7201a8"
             ],
             [
              0.3333333333333333,
              "#9c179e"
             ],
             [
              0.4444444444444444,
              "#bd3786"
             ],
             [
              0.5555555555555556,
              "#d8576b"
             ],
             [
              0.6666666666666666,
              "#ed7953"
             ],
             [
              0.7777777777777778,
              "#fb9f3a"
             ],
             [
              0.8888888888888888,
              "#fdca26"
             ],
             [
              1,
              "#f0f921"
             ]
            ],
            "type": "surface"
           }
          ],
          "table": [
           {
            "cells": {
             "fill": {
              "color": "#506784"
             },
             "line": {
              "color": "rgb(17,17,17)"
             }
            },
            "header": {
             "fill": {
              "color": "#2a3f5f"
             },
             "line": {
              "color": "rgb(17,17,17)"
             }
            },
            "type": "table"
           }
          ]
         },
         "layout": {
          "annotationdefaults": {
           "arrowcolor": "#f2f5fa",
           "arrowhead": 0,
           "arrowwidth": 1
          },
          "autotypenumbers": "strict",
          "coloraxis": {
           "colorbar": {
            "outlinewidth": 0,
            "ticks": ""
           }
          },
          "colorscale": {
           "diverging": [
            [
             0,
             "#8e0152"
            ],
            [
             0.1,
             "#c51b7d"
            ],
            [
             0.2,
             "#de77ae"
            ],
            [
             0.3,
             "#f1b6da"
            ],
            [
             0.4,
             "#fde0ef"
            ],
            [
             0.5,
             "#f7f7f7"
            ],
            [
             0.6,
             "#e6f5d0"
            ],
            [
             0.7,
             "#b8e186"
            ],
            [
             0.8,
             "#7fbc41"
            ],
            [
             0.9,
             "#4d9221"
            ],
            [
             1,
             "#276419"
            ]
           ],
           "sequential": [
            [
             0,
             "#0d0887"
            ],
            [
             0.1111111111111111,
             "#46039f"
            ],
            [
             0.2222222222222222,
             "#7201a8"
            ],
            [
             0.3333333333333333,
             "#9c179e"
            ],
            [
             0.4444444444444444,
             "#bd3786"
            ],
            [
             0.5555555555555556,
             "#d8576b"
            ],
            [
             0.6666666666666666,
             "#ed7953"
            ],
            [
             0.7777777777777778,
             "#fb9f3a"
            ],
            [
             0.8888888888888888,
             "#fdca26"
            ],
            [
             1,
             "#f0f921"
            ]
           ],
           "sequentialminus": [
            [
             0,
             "#0d0887"
            ],
            [
             0.1111111111111111,
             "#46039f"
            ],
            [
             0.2222222222222222,
             "#7201a8"
            ],
            [
             0.3333333333333333,
             "#9c179e"
            ],
            [
             0.4444444444444444,
             "#bd3786"
            ],
            [
             0.5555555555555556,
             "#d8576b"
            ],
            [
             0.6666666666666666,
             "#ed7953"
            ],
            [
             0.7777777777777778,
             "#fb9f3a"
            ],
            [
             0.8888888888888888,
             "#fdca26"
            ],
            [
             1,
             "#f0f921"
            ]
           ]
          },
          "colorway": [
           "#636efa",
           "#EF553B",
           "#00cc96",
           "#ab63fa",
           "#FFA15A",
           "#19d3f3",
           "#FF6692",
           "#B6E880",
           "#FF97FF",
           "#FECB52"
          ],
          "font": {
           "color": "#f2f5fa"
          },
          "geo": {
           "bgcolor": "rgb(17,17,17)",
           "lakecolor": "rgb(17,17,17)",
           "landcolor": "rgb(17,17,17)",
           "showlakes": true,
           "showland": true,
           "subunitcolor": "#506784"
          },
          "hoverlabel": {
           "align": "left"
          },
          "hovermode": "closest",
          "mapbox": {
           "style": "dark"
          },
          "paper_bgcolor": "rgb(17,17,17)",
          "plot_bgcolor": "rgb(17,17,17)",
          "polar": {
           "angularaxis": {
            "gridcolor": "#506784",
            "linecolor": "#506784",
            "ticks": ""
           },
           "bgcolor": "rgb(17,17,17)",
           "radialaxis": {
            "gridcolor": "#506784",
            "linecolor": "#506784",
            "ticks": ""
           }
          },
          "scene": {
           "xaxis": {
            "backgroundcolor": "rgb(17,17,17)",
            "gridcolor": "#506784",
            "gridwidth": 2,
            "linecolor": "#506784",
            "showbackground": true,
            "ticks": "",
            "zerolinecolor": "#C8D4E3"
           },
           "yaxis": {
            "backgroundcolor": "rgb(17,17,17)",
            "gridcolor": "#506784",
            "gridwidth": 2,
            "linecolor": "#506784",
            "showbackground": true,
            "ticks": "",
            "zerolinecolor": "#C8D4E3"
           },
           "zaxis": {
            "backgroundcolor": "rgb(17,17,17)",
            "gridcolor": "#506784",
            "gridwidth": 2,
            "linecolor": "#506784",
            "showbackground": true,
            "ticks": "",
            "zerolinecolor": "#C8D4E3"
           }
          },
          "shapedefaults": {
           "line": {
            "color": "#f2f5fa"
           }
          },
          "sliderdefaults": {
           "bgcolor": "#C8D4E3",
           "bordercolor": "rgb(17,17,17)",
           "borderwidth": 1,
           "tickwidth": 0
          },
          "ternary": {
           "aaxis": {
            "gridcolor": "#506784",
            "linecolor": "#506784",
            "ticks": ""
           },
           "baxis": {
            "gridcolor": "#506784",
            "linecolor": "#506784",
            "ticks": ""
           },
           "bgcolor": "rgb(17,17,17)",
           "caxis": {
            "gridcolor": "#506784",
            "linecolor": "#506784",
            "ticks": ""
           }
          },
          "title": {
           "x": 0.05
          },
          "updatemenudefaults": {
           "bgcolor": "#506784",
           "borderwidth": 0
          },
          "xaxis": {
           "automargin": true,
           "gridcolor": "#283442",
           "linecolor": "#506784",
           "ticks": "",
           "title": {
            "standoff": 15
           },
           "zerolinecolor": "#283442",
           "zerolinewidth": 2
          },
          "yaxis": {
           "automargin": true,
           "gridcolor": "#283442",
           "linecolor": "#506784",
           "ticks": "",
           "title": {
            "standoff": 15
           },
           "zerolinecolor": "#283442",
           "zerolinewidth": 2
          }
         }
        },
        "title": {
         "text": "Matriz de correlación para la base de datos"
        }
       }
      }
     },
     "metadata": {},
     "output_type": "display_data"
    }
   ],
   "source": [
    "# Matriz de correlación con datos de test \n",
    "corr_data = numeric_data.corr()\n",
    "\n",
    "fig = go.Figure()\n",
    "fig.add_trace(\n",
    "    go.Heatmap(\n",
    "        z=corr_data,\n",
    "        x=numeric_columns,\n",
    "        y=numeric_columns,\n",
    "        text=corr_data.values,\n",
    "        texttemplate=\"%{text:.2f}\",\n",
    "        colorscale=\"RdBu_r\",\n",
    "        textfont=dict(size=14)\n",
    "    )\n",
    ")\n",
    "fig.update_layout(\n",
    "    template=\"plotly_dark\",\n",
    "    title_text=\"Matriz de correlación para la base de datos\"\n",
    ")\n",
    "fig.show()"
   ]
  },
  {
   "cell_type": "markdown",
   "id": "c7c0d322",
   "metadata": {},
   "source": [
    "##### Explicación de la Matriz de Correlación\n",
    "\n",
    "**Resultados obtenidos:**\n",
    "La matriz de correlación muestra las relaciones entre las 5 variables numéricas: 'Fare', 'Parch', 'SibSp', 'Age' y 'Pclass'.\n",
    "\n",
    "**Correlaciones más importantes identificadas:**\n",
    "\n",
    "**Correlaciones negativas fuertes:**\n",
    "- **Fare vs Pclass (-0.58)**: Correlación negativa fuerte. Esto indica que a medida que la clase del pasajero aumenta (de primera a tercera clase), la tarifa disminuye significativamente.\n",
    "\n",
    "- **Age vs Pclass (-0.37)**: Correlación negativa moderada. Los pasajeros de mayor edad tienden a viajar en clases más altas (primera y segunda clase).\n",
    "\n",
    "**Correlaciones positivas moderadas:**\n",
    "- **Parch vs SibSp (0.31)**: Correlación positiva moderada. Las personas que viajan con más padres/hijos también tienden a viajar con más hermanos/cónyuges.\n",
    "\n",
    "**Correlaciones débiles:**\n",
    "- **Age vs SibSp (-0.05)**: Correlación prácticamente nula\n",
    "- **Age vs Parch (0.02)**: Correlación prácticamente nula\n",
    "- **Fare vs Parch (0.23)**: Correlación positiva débil\n",
    "- **Fare vs SibSp (0.17)**: Correlación positiva débil\n",
    "\n",
    "**Implicaciones para el modelo:**\n",
    "- La fuerte correlación entre Fare y Pclass sugiere que podrían ser variables redundantes\n",
    "- La edad no está fuertemente relacionada con el tamaño de la familia\n",
    "- Las variables Parch y SibSp tienen cierta relación, pero no son completamente redundantes"
   ]
  },
  {
   "cell_type": "markdown",
   "id": "7df57cd4",
   "metadata": {},
   "source": [
    "#### MATRIZ DE DISPERSIÓN CON DATOS DE TEST"
   ]
  },
  {
   "cell_type": "code",
   "execution_count": 6,
   "id": "8585f556",
   "metadata": {},
   "outputs": [
    {
     "data": {
      "application/vnd.plotly.v1+json": {
       "config": {
        "plotlyServerURL": "https://plot.ly"
       },
       "data": [
        {
         "marker": {
          "color": "steelblue",
          "line": {
           "color": "black",
           "width": 1
          }
         },
         "type": "histogram",
         "x": {
          "bdata": "AwMCAwMDAwIDAwMBAQIBAgIDAwMBAwEBAQMBAwEDAgIDAwEDAwMDAwMBAwIBAwEDAQMBAgIBAgMDAwMBAwIDAwECAwEBAQMDAwEBAQMBAgMDAQEDAgMDAwMCAwMBAwEDAQMDAwECAwMDAwMDAwICAwEDAQMDAwECAgMBAwMDAwMCAwMBAwMDAwMCAwMDAQECAQMBAwECAQMDAwMDAQMBAwMDAgMCAwEDAQMDAwMDAwICAQIBAgEBAwECAgMDAgIBAwICAwEDAgMDAwECAgEDAgEDAwMCAgMBAwEBAwIDAgMBAwMDAwICAQMDAQMBAwIBAQIBAwMBAgICAwIDAQMDAwMDAgMDAwIDAgMBAwMDAQMBAwMCAgICAgMDAwMDAwMBAwMBAwMBAwMCAwEDAwICAwMBAQMBAwMDAwMBAwECAwIDAwIBAQMCAQICAgEDAwMBAgMCAwIDAwEDAwIDAgIBAgICAwEBAwMDAwICAwEDAwMBAgIBAQIBAQMCAQMDAwMDAgIDAgMDAQEDAgMBAwEDAwECAQEBAgIBAwMDAQMDAQMDAw==",
          "dtype": "i1"
         },
         "xaxis": "x",
         "yaxis": "y"
        },
        {
         "marker": {
          "color": "steelblue"
         },
         "mode": "markers",
         "type": "scatter",
         "x": {
          "bdata": "AwMCAwMDAwIDAwMBAQIBAgIDAwMBAwEBAQMBAwEDAgIDAwEDAwMDAwMBAwIBAwEDAQMBAgIBAgMDAwMBAwIDAwECAwEBAQMDAwEBAQMBAgMDAQEDAgMDAwMCAwMBAwEDAQMDAwECAwMDAwMDAwICAwEDAQMDAwECAgMBAwMDAwMCAwMBAwMDAwMCAwMDAQECAQMBAwECAQMDAwMDAQMBAwMDAgMCAwEDAQMDAwMDAwICAQIBAgEBAwECAgMDAgIBAwICAwEDAgMDAwECAgEDAgEDAwMCAgMBAwEBAwIDAgMBAwMDAwICAQMDAQMBAwIBAQIBAwMBAgICAwIDAQMDAwMDAgMDAwIDAgMBAwMDAQMBAwMCAgICAgMDAwMDAwMBAwMBAwMBAwMCAwEDAwICAwMBAQMBAwMDAwMBAwECAwIDAwIBAQMCAQICAgEDAwMBAgMCAwIDAwEDAwIDAgIBAgICAwEBAwMDAwICAwEDAwMBAgIBAQIBAQMCAQMDAwMDAgIDAgMDAQEDAgMBAwEDAwECAQEBAgIBAwMDAQMDAQMDAw==",
          "dtype": "i1"
         },
         "xaxis": "x2",
         "y": {
          "bdata": "AAAAAABAQUAAAAAAAIBHQAAAAAAAAE9AAAAAAAAAO0AAAAAAAAA2QAAAAAAAACxAAAAAAAAAPkAAAAAAAAA6QAAAAAAAADJAAAAAAAAANUDv+IcAeWRFQAAAAAAAAEdAAAAAAAAAN0AAAAAAAIBPQAAAAAAAgEdAAAAAAAAAOEAAAAAAAIBBQAAAAAAAADVAAAAAAAAAO0AAAAAAAIBGQAAAAAAAgEtAAAAAAAAAIkD2TrE7K/cAwAAAAAAAADVAAAAAAAAASEAAAAAAAABJQAAAAAAAADZAAAAAAACANkAAAAAAAIBEQFLihglxi0xAAAAAAAAASUAAAAAAAAA4QAAAAAAAgEBAfr4Z7bMpQkAAAAAAAAA+QAAAAAAAgDJAb1ayLOagMUAAAAAAAAA1QAAAAAAAADlAKQCS0CLcQEAAAAAAAIBDQG2k/E5vwkVAAAAAAACAREAAAAAAAAA+QAAAAAAAgEZAAAAAAAAAOUAAAAAAAIBGQEu1IRfFXE9AAAAAAAAATkAAAAAAAABCQAAAAAAAADhAAAAAAAAAO0AAAAAAAAA0QAAAAAAAADxA13W+W6iRLUAAAAAAAAAkQAAAAAAAgEFAAAAAAAAAOUDZbHRujB1AQAAAAAAAAEJAAAAAAAAAMUAAAAAAAABAQAAAAAAAADJAAAAAAAAANkAAAAAAAAAqQGzYBWTGexJAAAAAAAAAMkAAAAAAAIBHQAAAAAAAAD9AAAAAAAAATkAAAAAAAAA4QAAAAAAAADVAAAAAAAAAPUAAAAAAAIA8QAAAAAAAgEFAAAAAAABAQEClebD2cB9JQAAAAAAAgEtAAAAAAAAAPkAAAAAAAAA4QAAAAAAAABhAAAAAAADAUEAAAAAAAIBIQLFJcwJOmzpAGQVKl3+/N0C5UF6O0kk8QAAAAAAAADtAAAAAAAAAMkBvLE1Q9YwGQAAAAAAAAABAAAAAAAAANkDEE1qsld07QAAAAAAAADtA0giQPAONPUAAAAAAAAA5QAAAAAAAADlAAAAAAAAAU0AAAAAAAAA9QAAAAAAAADRAAAAAAACAQEAAAAAAAIBFQAAAAAAAADtABizryNdnOEAAAAAAAAA6QAAAAAAAADBAAAAAAAAAPEAAAAAAAAA1QD5Vl1xAAS1AzXQbaWzZIUAAAAAAAIAyQAAAAAAAgERACVVrthjUSUAAAAAAAABCQAAAAAAAgDJAAAAAAACAT0AAAAAAAAAyQNV4eAkKZSrAAAAAAAAA8D8AAAAAAABCQAAAAAAAAD1AAAAAAAAAKEBkgRspcS41QAAAAAAAgEFAAAAAAAAAPEBQg66u1V8zQAAAAAAAADFAAAAAAAAANkBaLi9YITtDQAAAAAAAAEVAAAAAAAAAOEAAAAAAAABAQAAAAAAAgEpA6xKC3PlOT0AK3MFg3A1NQAAAAAAAgEVAAAAAAAAAOEAAAAAAAIA6QAAAAAAAADpAAAAAAAAAN0AAAAAAAABEQAAAAAAAACRAAAAAAACAQEAAAAAAAIBOQAAAAAAAADxAAAAAAAAARUAAAAAAAAA/QOCuCf28yDRAAAAAAAAANkBwV1u1dWo9QAAAAAAAAD5AAAAAAAAAN0Dt3ZYWPj1GQAAAAAAAQE5AAAAAAAAAQkAAAAAAAAAqQAAAAAAAADhAAAAAAAAAPUAAAAAAAAA3QAAAAAAAAEVAAAAAAAAAOkCkEm6j8Z0hQAAAAAAAABxAAAAAAAAAOkA8Uj12c8xEQAAAAAAAgERAAAAAAAAAOkAAAAAAAABIQAAAAAAAADJAjXyXyUlbIkAAAAAAAAA2QHyszI0ART1AAAAAAAAAO0AAAAAAAAA3QPjxS4PgRUJAAAAAAAAAREAAAAAAAAAuQAAAAAAAADRAAAAAAAAAS0AAAAAAAABCQAAAAAAAAFBAAAAAAAAAPkAAAAAAAIBCQAAAAAAAADJAgNFJ42xELEAAAAAAAAA7QAAAAAAAAERAAAAAAAAANUAAAAAAAAAxQH00j2RipzxAAAAAAAAAREAAAAAAAABBQFL8khAqjhVAAAAAAAAAJ0AAAAAAAIBOQAAAAAAAACBAAAAAAACAQEAAAAAAAAAYQAAAAAAAADJAAAAAAAAAN0AZNkOEq4jyP28EK2eHoDLAH4XrUbge1T8AAAAAAIBHQAAAAAAAACBAAAAAAAAAOUDQPUF1tlNEQAAAAAAAgEFAAAAAAAAAOEAAAAAAAIBAQAAAAAAAADlAAAAAAAAAQEA6EIiA5igtQAAAAAAAADFAAAAAAAAATkAAAAAAAABDQAAAAAAAAEVAkF1pMwK/S0AAAAAAAIBMQAAAAAAAAElATz/fYrq/Q0AAAAAAAAA+QAAAAAAAADVAAAAAAAAANkAAAAAAAAA1QAAAAAAAgEpAy+ufxY5oRkAAAAAAAAA3QL8PIWRYBDtAAAAAAABAREAAAAAAAABCQAAAAAAAACxAAAAAAAAANUAAAAAAAAA1QF9mXHlSpUJAAAAAAACAQ0AAAAAAAAA0QAAAAAAAAFBAAAAAAAAANEAAAAAAAAAyQAAAAAAAAEhAAAAAAACAS0AAAAAAAIBGQAAAAAAAgEZAQ8lpeCauSUC08EofPdVKQAAAAAAAgERAAAAAAAAANkAAAAAAAABFQAAAAAAAAD1Aw0u7ULZzFUBxPQrXo3DtPwAAAAAAADRAAAAAAAAAO0AAAAAAAAA4QAAAAAAAQEBAx+Eppm2GQEBOU5CVFmQ/QAAAAAAAADxAAAAAAAAAM0AAAAAAAAA1QAAAAAAAQEJAAAAAAAAANUAAAAAAAAA9QAAAAAAAAPA/AAAAAAAAPkCLMYTY6H5HQKuOpkzSYUNAD7bktzW1NEDDGXeZ1qQgQAAAAAAAADFAAAAAAAAAR0AFTOc4IYxGQAAAAAAAADpAfmMrNz8yLUB4ino29MIpQAAAAAAAADRAAAAAAAAAPEAAAAAAAABEQAAAAAAAAD5AAAAAAAAANkAAAAAAAAA3QAAAAAAAAOg/ebhqcF3JB0AAAAAAAAAiQAAAAAAAAABAAAAAAAAAQkAIG5dSctJEQAAAAAAAADhAKBpFWg7TJkCalon4qpohQGLJM5qaly5AAAAAAAAAPkAsKnRJZUxIQAAAAAAAgEpAAAAAAAAAQkAAAAAAAAA6QAAAAAAAAPA/g6lJmqxpJkAAAAAAAAA+QAAAAAAAAD1AAAAAAAAAQEAjxE1yZ6hGQAAAAAAAgEVAAAAAAAAAOEBeEwXv0v9GQAAAAAAAAFBAAAAAAAAAPkCPwvUoXI/qPwAAAAAAgEtAAAAAAACARkAAAAAAAAAyQAAAAAAAADZAZMIdII5dOUAAAAAAAIBCQAAAAAAAgEtAAAAAAAAAMUAAAAAAAIBMQAAAAAAAADNAAAAAAAAAO0AAAAAAAAA2QAAAAAAAADpAAAAAAAAAOUAAAAAAAAA6QAAAAAAAgEBAAAAAAACAQ0AAAAAAAAA3QAAAAAAAAChAAAAAAAAAR0AAAAAAAAA9QAAAAAAAADVAAAAAAAAASEAAAAAAAIBDQCSdAx51KjdAAAAAAAAAM0AAAAAAAAA7QAAAAAAAAD5AAAAAAAAAQEAAAAAAAIBDQAAAAAAAADlAbJm4Z4FiLEAAAAAAAAAyQAAAAAAAAEBAV1qty2TcSkAAAAAAAABNQFBxNjFIrkFAAAAAAAAAMEAAAAAAAAA6QAAAAAAAAENAAAAAAAAAOEAAAAAAAAA/QAAAAAAAgEZAAAAAAAAAOUAAAAAAAAAyQAAAAAAAgEhAw/UoXI/CxT8AAAAAAABJQAAAAAAAgE1AOY/PS+HuSUCfrBshxM5FQAAAAAAAAD5AAAAAAAAALUAAAAAAAAA4QAAAAAAAAD9AAAAAAAAAO0AAAAAAAAA5QBWniJmApi5AriWuTTonKUAAAAAAAAA2QAAAAAAAgEZAAAAAAAAAPUAAAAAAAAA1QAAAAAAAAD9AAAAAAACASEAAAAAAAABGQAAAAAAAAEtAAAAAAACARkAAAAAAAAA2QAAAAAAAADVAAAAAAACAS0AAAAAAAAAUQDc78YNsCcw/AAAAAAAAOkCh4YWloKI7QAAAAAAAADNAsjV6BjA2NkAAAAAAAAA4QAAAAAAAADhAAAAAAACATEAAAAAAAAA1QAAAAAAAABhAAAAAAAAAN0AAAAAAAIBJQAAAAAAAACpAAAAAAACAR0AAAAAAAAA9QAAAAAAAADJAAAAAAAAAOEAAAAAAAABIQAAAAAAAADZAAAAAAAAAP0AAAAAAAAA+QAAAAAAAAENAAAAAAAAANkAAAAAAAAAxQAAAAAAAgEVAAAAAAAAANEAAAAAAAAA3QAAAAAAAAElAc+WRdC9rPkAAAAAAAAAIQOW8CsP8GzFAAAAAAACAQkAAAAAAAAA8QN0NhNOmcj1AAAAAAACAQ0AAAAAAAEBDQFhXvJoOrSNAbMags0pKUMA=",
          "dtype": "f8"
         },
         "yaxis": "y2"
        },
        {
         "marker": {
          "color": "steelblue"
         },
         "mode": "markers",
         "type": "scatter",
         "x": {
          "bdata": "AwMCAwMDAwIDAwMBAQIBAgIDAwMBAwEBAQMBAwEDAgIDAwEDAwMDAwMBAwIBAwEDAQMBAgIBAgMDAwMBAwIDAwECAwEBAQMDAwEBAQMBAgMDAQEDAgMDAwMCAwMBAwEDAQMDAwECAwMDAwMDAwICAwEDAQMDAwECAgMBAwMDAwMCAwMBAwMDAwMCAwMDAQECAQMBAwECAQMDAwMDAQMBAwMDAgMCAwEDAQMDAwMDAwICAQIBAgEBAwECAgMDAgIBAwICAwEDAgMDAwECAgEDAgEDAwMCAgMBAwEBAwIDAgMBAwMDAwICAQMDAQMBAwIBAQIBAwMBAgICAwIDAQMDAwMDAgMDAwIDAgMBAwMDAQMBAwMCAgICAgMDAwMDAwMBAwMBAwMBAwMCAwEDAwICAwMBAQMBAwMDAwMBAwECAwIDAwIBAQMCAQICAgEDAwMBAgMCAwIDAwEDAwIDAgIBAgICAwEBAwMDAwICAwEDAwMBAgIBAQIBAQMCAQMDAwMDAgIDAgMDAQEDAgMBAwEDAwECAQEBAgIBAwMDAQMDAQMDAw==",
          "dtype": "i1"
         },
         "xaxis": "x3",
         "y": {
          "bdata": "AAEAAAEAAAEAAgAAAQEBAQAAAQABAAAAAQEAAAACAQIBAQEAAAAAAAAAAAABAAAAAAABAAIDAAQAAAEAAAAAAAIAAAAAAQAAAAAAAAACAAABAQAAAAEAAAABAQABAAAAAQAAAAEBAAABAAAAAAAAAAAAAQEAAQABAAEBAAAAAAIAAAAAAAEAAAAAAAEFAAEAAAMAAAABAAAAAAQAAAAAAAABAAAAAQACAAAAAAEAAQAAAQAAAAEBAAEAAAIIAAEAAQAAAAAAAAAAAAEBAAAAAAAAAAAAAQQAAAEBAAEAAAAAAAAAAAAAAAEAAQABAAEBAAABAAEBAAEBAQEAAQAAAAAAAAABAAABAAAAAAAAAAABAQABAAEBAAABAAEBAAABAAAAAAABAAABAgAAAAAAAAABAQABAQAAAAAAAAEAAAIAAAAAAAACAAEAAAAAAQAAAAAAAAAAAQABAAAAAAAAAAABAQACAAABCAEAAAEBAQAAAAEAAAABAAIAAAQAAAABAAEAAAADAAAAAAMBAAEAAAABAAABAAEBAAEAAQAAAAAAAQ==",
          "dtype": "i1"
         },
         "yaxis": "y3"
        },
        {
         "marker": {
          "color": "steelblue"
         },
         "mode": "markers",
         "type": "scatter",
         "x": {
          "bdata": "AwMCAwMDAwIDAwMBAQIBAgIDAwMBAwEBAQMBAwEDAgIDAwEDAwMDAwMBAwIBAwEDAQMBAgIBAgMDAwMBAwIDAwECAwEBAQMDAwEBAQMBAgMDAQEDAgMDAwMCAwMBAwEDAQMDAwECAwMDAwMDAwICAwEDAQMDAwECAgMBAwMDAwMCAwMBAwMDAwMCAwMDAQECAQMBAwECAQMDAwMDAQMBAwMDAgMCAwEDAQMDAwMDAwICAQIBAgEBAwECAgMDAgIBAwICAwEDAgMDAwECAgEDAgEDAwMCAgMBAwEBAwIDAgMBAwMDAwICAQMDAQMBAwIBAQIBAwMBAgICAwIDAQMDAwMDAgMDAwIDAgMBAwMDAQMBAwMCAgICAgMDAwMDAwMBAwMBAwMBAwMCAwEDAwICAwMBAQMBAwMDAwMBAwECAwIDAwIBAQMCAQICAgEDAwMBAgMCAwIDAwEDAwIDAgIBAgICAwEBAwMDAwICAwEDAwMBAgIBAQIBAQMCAQMDAwMDAgIDAgMDAQEDAgMBAwEDAwECAQEBAgIBAwMDAQMDAQMDAw==",
          "dtype": "i1"
         },
         "xaxis": "x4",
         "y": {
          "bdata": "AAAAAAEAAAEAAAAAAAAAAAAAAAAAAQABAwABAAAAAAACAgAAAAAAAAEAAAAAAAAAAAIAAAECAAEAAAAAAAAAAAIAAAAABAAAAAAAAAAAAAABAAAAAAAAAAABAAACAAAAAAAAAAAAAAABAAAAAAAAAAAAAAAAAQAAAAAAAAABAAAAAAAABAAAAAAAAAYCAAMAAAAAAAABAQAAAgIAAAAAAgABAAAAAQACAAAAAAAABQIAAAMCAAEAAAEAAQACAAAAAQACAAIAAAAAAgABAAAAAAAAAAAAAAIAAAEBAAAAAAAAAgAAAAAAAAAAAAAAAAEAAAIBAAIAAAEAAAIAAAAAAAAAAAAAAAIBAAAAAAAAAAAAAAAAAAAAAAABAAEBAAAAAAAAAAABAAACAAAAAAABAAABAgEBAAAAAAAAAAAAAAAAAAAAAAABAAAAAgAAAQAAAAIAAAAACQEBAAAAAAABAAACAgAAAAAAAgEAAAAJAAABAAAAAAABAAAAAAIAAAAAAAIAAAABAAECAAEAAAEAAAAAAQAAAAABAAEAAAAAAAAAAQ==",
          "dtype": "i1"
         },
         "yaxis": "y4"
        },
        {
         "marker": {
          "color": "steelblue"
         },
         "mode": "markers",
         "type": "scatter",
         "x": {
          "bdata": "AwMCAwMDAwIDAwMBAQIBAgIDAwMBAwEBAQMBAwEDAgIDAwEDAwMDAwMBAwIBAwEDAQMBAgIBAgMDAwMBAwIDAwECAwEBAQMDAwEBAQMBAgMDAQEDAgMDAwMCAwMBAwEDAQMDAwECAwMDAwMDAwICAwEDAQMDAwECAgMBAwMDAwMCAwMBAwMDAwMCAwMDAQECAQMBAwECAQMDAwMDAQMBAwMDAgMCAwEDAQMDAwMDAwICAQIBAgEBAwECAgMDAgIBAwICAwEDAgMDAwECAgEDAgEDAwMCAgMBAwEBAwIDAgMBAwMDAwICAQMDAQMBAwIBAQIBAwMBAgICAwIDAQMDAwMDAgMDAwIDAgMBAwMDAQMBAwMCAgICAgMDAwMDAwMBAwMBAwMBAwMCAwEDAwICAwMBAQMBAwMDAwMBAwECAwIDAwIBAQMCAQICAgEDAwMBAgMCAwIDAwEDAwIDAgIBAgICAwEBAwMDAwICAwEDAwMBAgIBAQIBAQMCAQMDAwMDAgIDAgMDAQEDAgMBAwEDAwECAQEBAgIBAwMDAQMDAQMDAw==",
          "dtype": "i1"
         },
         "xaxis": "x5",
         "y": {
          "bdata": "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",
          "dtype": "f8"
         },
         "yaxis": "y5"
        },
        {
         "marker": {
          "color": "steelblue"
         },
         "mode": "markers",
         "type": "scatter",
         "x": {
          "bdata": "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",
          "dtype": "f8"
         },
         "xaxis": "x6",
         "y": {
          "bdata": "AwMCAwMDAwIDAwMBAQIBAgIDAwMBAwEBAQMBAwEDAgIDAwEDAwMDAwMBAwIBAwEDAQMBAgIBAgMDAwMBAwIDAwECAwEBAQMDAwEBAQMBAgMDAQEDAgMDAwMCAwMBAwEDAQMDAwECAwMDAwMDAwICAwEDAQMDAwECAgMBAwMDAwMCAwMBAwMDAwMCAwMDAQECAQMBAwECAQMDAwMDAQMBAwMDAgMCAwEDAQMDAwMDAwICAQIBAgEBAwECAgMDAgIBAwICAwEDAgMDAwECAgEDAgEDAwMCAgMBAwEBAwIDAgMBAwMDAwICAQMDAQMBAwIBAQIBAwMBAgICAwIDAQMDAwMDAgMDAwIDAgMBAwMDAQMBAwMCAgICAgMDAwMDAwMBAwMBAwMBAwMCAwEDAwICAwMBAQMBAwMDAwMBAwECAwIDAwIBAQMCAQICAgEDAwMBAgMCAwIDAwEDAwIDAgIBAgICAwEBAwMDAwICAwEDAwMBAgIBAQIBAQMCAQMDAwMDAgIDAgMDAQEDAgMBAwEDAwECAQEBAgIBAwMDAQMDAQMDAw==",
          "dtype": "i1"
         },
         "yaxis": "y6"
        },
        {
         "marker": {
          "color": "steelblue",
          "line": {
           "color": "black",
           "width": 1
          }
         },
         "type": "histogram",
         "x": {
          "bdata": "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",
          "dtype": "f8"
         },
         "xaxis": "x7",
         "yaxis": "y7"
        },
        {
         "marker": {
          "color": "steelblue"
         },
         "mode": "markers",
         "type": "scatter",
         "x": {
          "bdata": "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",
          "dtype": "f8"
         },
         "xaxis": "x8",
         "y": {
          "bdata": "AAEAAAEAAAEAAgAAAQEBAQAAAQABAAAAAQEAAAACAQIBAQEAAAAAAAAAAAABAAAAAAABAAIDAAQAAAEAAAAAAAIAAAAAAQAAAAAAAAACAAABAQAAAAEAAAABAQABAAAAAQAAAAEBAAABAAAAAAAAAAAAAQEAAQABAAEBAAAAAAIAAAAAAAEAAAAAAAEFAAEAAAMAAAABAAAAAAQAAAAAAAABAAAAAQACAAAAAAEAAQAAAQAAAAEBAAEAAAIIAAEAAQAAAAAAAAAAAAEBAAAAAAAAAAAAAQQAAAEBAAEAAAAAAAAAAAAAAAEAAQABAAEBAAABAAEBAAEBAQEAAQAAAAAAAAABAAABAAAAAAAAAAABAQABAAEBAAABAAEBAAABAAAAAAABAAABAgAAAAAAAAABAQABAQAAAAAAAAEAAAIAAAAAAAACAAEAAAAAAQAAAAAAAAAAAQABAAAAAAAAAAABAQACAAABCAEAAAEBAQAAAAEAAAABAAIAAAQAAAABAAEAAAADAAAAAAMBAAEAAAABAAABAAEBAAEAAQAAAAAAAQ==",
          "dtype": "i1"
         },
         "yaxis": "y8"
        },
        {
         "marker": {
          "color": "steelblue"
         },
         "mode": "markers",
         "type": "scatter",
         "x": {
          "bdata": "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",
          "dtype": "f8"
         },
         "xaxis": "x9",
         "y": {
          "bdata": "AAAAAAEAAAEAAAAAAAAAAAAAAAAAAQABAwABAAAAAAACAgAAAAAAAAEAAAAAAAAAAAIAAAECAAEAAAAAAAAAAAIAAAAABAAAAAAAAAAAAAABAAAAAAAAAAABAAACAAAAAAAAAAAAAAABAAAAAAAAAAAAAAAAAQAAAAAAAAABAAAAAAAABAAAAAAAAAYCAAMAAAAAAAABAQAAAgIAAAAAAgABAAAAAQACAAAAAAAABQIAAAMCAAEAAAEAAQACAAAAAQACAAIAAAAAAgABAAAAAAAAAAAAAAIAAAEBAAAAAAAAAgAAAAAAAAAAAAAAAAEAAAIBAAIAAAEAAAIAAAAAAAAAAAAAAAIBAAAAAAAAAAAAAAAAAAAAAAABAAEBAAAAAAAAAAABAAACAAAAAAABAAABAgEBAAAAAAAAAAAAAAAAAAAAAAABAAAAAgAAAQAAAAIAAAAACQEBAAAAAAABAAACAgAAAAAAAgEAAAAJAAABAAAAAAABAAAAAAIAAAAAAAIAAAABAAECAAEAAAEAAAAAAQAAAAABAAEAAAAAAAAAAQ==",
          "dtype": "i1"
         },
         "yaxis": "y9"
        },
        {
         "marker": {
          "color": "steelblue"
         },
         "mode": "markers",
         "type": "scatter",
         "x": {
          "bdata": "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",
          "dtype": "f8"
         },
         "xaxis": "x10",
         "y": {
          "bdata": "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",
          "dtype": "f8"
         },
         "yaxis": "y10"
        },
        {
         "marker": {
          "color": "steelblue"
         },
         "mode": "markers",
         "type": "scatter",
         "x": {
          "bdata": "AAEAAAEAAAEAAgAAAQEBAQAAAQABAAAAAQEAAAACAQIBAQEAAAAAAAAAAAABAAAAAAABAAIDAAQAAAEAAAAAAAIAAAAAAQAAAAAAAAACAAABAQAAAAEAAAABAQABAAAAAQAAAAEBAAABAAAAAAAAAAAAAQEAAQABAAEBAAAAAAIAAAAAAAEAAAAAAAEFAAEAAAMAAAABAAAAAAQAAAAAAAABAAAAAQACAAAAAAEAAQAAAQAAAAEBAAEAAAIIAAEAAQAAAAAAAAAAAAEBAAAAAAAAAAAAAQQAAAEBAAEAAAAAAAAAAAAAAAEAAQABAAEBAAABAAEBAAEBAQEAAQAAAAAAAAABAAABAAAAAAAAAAABAQABAAEBAAABAAEBAAABAAAAAAABAAABAgAAAAAAAAABAQABAQAAAAAAAAEAAAIAAAAAAAACAAEAAAAAAQAAAAAAAAAAAQABAAAAAAAAAAABAQACAAABCAEAAAEBAQAAAAEAAAABAAIAAAQAAAABAAEAAAADAAAAAAMBAAEAAAABAAABAAEBAAEAAQAAAAAAAQ==",
          "dtype": "i1"
         },
         "xaxis": "x11",
         "y": {
          "bdata": "AwMCAwMDAwIDAwMBAQIBAgIDAwMBAwEBAQMBAwEDAgIDAwEDAwMDAwMBAwIBAwEDAQMBAgIBAgMDAwMBAwIDAwECAwEBAQMDAwEBAQMBAgMDAQEDAgMDAwMCAwMBAwEDAQMDAwECAwMDAwMDAwICAwEDAQMDAwECAgMBAwMDAwMCAwMBAwMDAwMCAwMDAQECAQMBAwECAQMDAwMDAQMBAwMDAgMCAwEDAQMDAwMDAwICAQIBAgEBAwECAgMDAgIBAwICAwEDAgMDAwECAgEDAgEDAwMCAgMBAwEBAwIDAgMBAwMDAwICAQMDAQMBAwIBAQIBAwMBAgICAwIDAQMDAwMDAgMDAwIDAgMBAwMDAQMBAwMCAgICAgMDAwMDAwMBAwMBAwMBAwMCAwEDAwICAwMBAQMBAwMDAwMBAwECAwIDAwIBAQMCAQICAgEDAwMBAgMCAwIDAwEDAwIDAgIBAgICAwEBAwMDAwICAwEDAwMBAgIBAQIBAQMCAQMDAwMDAgIDAgMDAQEDAgMBAwEDAwECAQEBAgIBAwMDAQMDAQMDAw==",
          "dtype": "i1"
         },
         "yaxis": "y11"
        },
        {
         "marker": {
          "color": "steelblue"
         },
         "mode": "markers",
         "type": "scatter",
         "x": {
          "bdata": "AAEAAAEAAAEAAgAAAQEBAQAAAQABAAAAAQEAAAACAQIBAQEAAAAAAAAAAAABAAAAAAABAAIDAAQAAAEAAAAAAAIAAAAAAQAAAAAAAAACAAABAQAAAAEAAAABAQABAAAAAQAAAAEBAAABAAAAAAAAAAAAAQEAAQABAAEBAAAAAAIAAAAAAAEAAAAAAAEFAAEAAAMAAAABAAAAAAQAAAAAAAABAAAAAQACAAAAAAEAAQAAAQAAAAEBAAEAAAIIAAEAAQAAAAAAAAAAAAEBAAAAAAAAAAAAAQQAAAEBAAEAAAAAAAAAAAAAAAEAAQABAAEBAAABAAEBAAEBAQEAAQAAAAAAAAABAAABAAAAAAAAAAABAQABAAEBAAABAAEBAAABAAAAAAABAAABAgAAAAAAAAABAQABAQAAAAAAAAEAAAIAAAAAAAACAAEAAAAAAQAAAAAAAAAAAQABAAAAAAAAAAABAQACAAABCAEAAAEBAQAAAAEAAAABAAIAAAQAAAABAAEAAAADAAAAAAMBAAEAAAABAAABAAEBAAEAAQAAAAAAAQ==",
          "dtype": "i1"
         },
         "xaxis": "x12",
         "y": {
          "bdata": "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",
          "dtype": "f8"
         },
         "yaxis": "y12"
        },
        {
         "marker": {
          "color": "steelblue",
          "line": {
           "color": "black",
           "width": 1
          }
         },
         "type": "histogram",
         "x": {
          "bdata": "AAEAAAEAAAEAAgAAAQEBAQAAAQABAAAAAQEAAAACAQIBAQEAAAAAAAAAAAABAAAAAAABAAIDAAQAAAEAAAAAAAIAAAAAAQAAAAAAAAACAAABAQAAAAEAAAABAQABAAAAAQAAAAEBAAABAAAAAAAAAAAAAQEAAQABAAEBAAAAAAIAAAAAAAEAAAAAAAEFAAEAAAMAAAABAAAAAAQAAAAAAAABAAAAAQACAAAAAAEAAQAAAQAAAAEBAAEAAAIIAAEAAQAAAAAAAAAAAAEBAAAAAAAAAAAAAQQAAAEBAAEAAAAAAAAAAAAAAAEAAQABAAEBAAABAAEBAAEBAQEAAQAAAAAAAAABAAABAAAAAAAAAAABAQABAAEBAAABAAEBAAABAAAAAAABAAABAgAAAAAAAAABAQABAQAAAAAAAAEAAAIAAAAAAAACAAEAAAAAAQAAAAAAAAAAAQABAAAAAAAAAAABAQACAAABCAEAAAEBAQAAAAEAAAABAAIAAAQAAAABAAEAAAADAAAAAAMBAAEAAAABAAABAAEBAAEAAQAAAAAAAQ==",
          "dtype": "i1"
         },
         "xaxis": "x13",
         "yaxis": "y13"
        },
        {
         "marker": {
          "color": "steelblue"
         },
         "mode": "markers",
         "type": "scatter",
         "x": {
          "bdata": "AAEAAAEAAAEAAgAAAQEBAQAAAQABAAAAAQEAAAACAQIBAQEAAAAAAAAAAAABAAAAAAABAAIDAAQAAAEAAAAAAAIAAAAAAQAAAAAAAAACAAABAQAAAAEAAAABAQABAAAAAQAAAAEBAAABAAAAAAAAAAAAAQEAAQABAAEBAAAAAAIAAAAAAAEAAAAAAAEFAAEAAAMAAAABAAAAAAQAAAAAAAABAAAAAQACAAAAAAEAAQAAAQAAAAEBAAEAAAIIAAEAAQAAAAAAAAAAAAEBAAAAAAAAAAAAAQQAAAEBAAEAAAAAAAAAAAAAAAEAAQABAAEBAAABAAEBAAEBAQEAAQAAAAAAAAABAAABAAAAAAAAAAABAQABAAEBAAABAAEBAAABAAAAAAABAAABAgAAAAAAAAABAQABAQAAAAAAAAEAAAIAAAAAAAACAAEAAAAAAQAAAAAAAAAAAQABAAAAAAAAAAABAQACAAABCAEAAAEBAQAAAAEAAAABAAIAAAQAAAABAAEAAAADAAAAAAMBAAEAAAABAAABAAEBAAEAAQAAAAAAAQ==",
          "dtype": "i1"
         },
         "xaxis": "x14",
         "y": {
          "bdata": "AAAAAAEAAAEAAAAAAAAAAAAAAAAAAQABAwABAAAAAAACAgAAAAAAAAEAAAAAAAAAAAIAAAECAAEAAAAAAAAAAAIAAAAABAAAAAAAAAAAAAABAAAAAAAAAAABAAACAAAAAAAAAAAAAAABAAAAAAAAAAAAAAAAAQAAAAAAAAABAAAAAAAABAAAAAAAAAYCAAMAAAAAAAABAQAAAgIAAAAAAgABAAAAAQACAAAAAAAABQIAAAMCAAEAAAEAAQACAAAAAQACAAIAAAAAAgABAAAAAAAAAAAAAAIAAAEBAAAAAAAAAgAAAAAAAAAAAAAAAAEAAAIBAAIAAAEAAAIAAAAAAAAAAAAAAAIBAAAAAAAAAAAAAAAAAAAAAAABAAEBAAAAAAAAAAABAAACAAAAAAABAAABAgEBAAAAAAAAAAAAAAAAAAAAAAABAAAAAgAAAQAAAAIAAAAACQEBAAAAAAABAAACAgAAAAAAAgEAAAAJAAABAAAAAAABAAAAAAIAAAAAAAIAAAABAAECAAEAAAEAAAAAAQAAAAABAAEAAAAAAAAAAQ==",
          "dtype": "i1"
         },
         "yaxis": "y14"
        },
        {
         "marker": {
          "color": "steelblue"
         },
         "mode": "markers",
         "type": "scatter",
         "x": {
          "bdata": "AAEAAAEAAAEAAgAAAQEBAQAAAQABAAAAAQEAAAACAQIBAQEAAAAAAAAAAAABAAAAAAABAAIDAAQAAAEAAAAAAAIAAAAAAQAAAAAAAAACAAABAQAAAAEAAAABAQABAAAAAQAAAAEBAAABAAAAAAAAAAAAAQEAAQABAAEBAAAAAAIAAAAAAAEAAAAAAAEFAAEAAAMAAAABAAAAAAQAAAAAAAABAAAAAQACAAAAAAEAAQAAAQAAAAEBAAEAAAIIAAEAAQAAAAAAAAAAAAEBAAAAAAAAAAAAAQQAAAEBAAEAAAAAAAAAAAAAAAEAAQABAAEBAAABAAEBAAEBAQEAAQAAAAAAAAABAAABAAAAAAAAAAABAQABAAEBAAABAAEBAAABAAAAAAABAAABAgAAAAAAAAABAQABAQAAAAAAAAEAAAIAAAAAAAACAAEAAAAAAQAAAAAAAAAAAQABAAAAAAAAAAABAQACAAABCAEAAAEBAQAAAAEAAAABAAIAAAQAAAABAAEAAAADAAAAAAMBAAEAAAABAAABAAEBAAEAAQAAAAAAAQ==",
          "dtype": "i1"
         },
         "xaxis": "x15",
         "y": {
          "bdata": "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",
          "dtype": "f8"
         },
         "yaxis": "y15"
        },
        {
         "marker": {
          "color": "steelblue"
         },
         "mode": "markers",
         "type": "scatter",
         "x": {
          "bdata": "AAAAAAEAAAEAAAAAAAAAAAAAAAAAAQABAwABAAAAAAACAgAAAAAAAAEAAAAAAAAAAAIAAAECAAEAAAAAAAAAAAIAAAAABAAAAAAAAAAAAAABAAAAAAAAAAABAAACAAAAAAAAAAAAAAABAAAAAAAAAAAAAAAAAQAAAAAAAAABAAAAAAAABAAAAAAAAAYCAAMAAAAAAAABAQAAAgIAAAAAAgABAAAAAQACAAAAAAAABQIAAAMCAAEAAAEAAQACAAAAAQACAAIAAAAAAgABAAAAAAAAAAAAAAIAAAEBAAAAAAAAAgAAAAAAAAAAAAAAAAEAAAIBAAIAAAEAAAIAAAAAAAAAAAAAAAIBAAAAAAAAAAAAAAAAAAAAAAABAAEBAAAAAAAAAAABAAACAAAAAAABAAABAgEBAAAAAAAAAAAAAAAAAAAAAAABAAAAAgAAAQAAAAIAAAAACQEBAAAAAAABAAACAgAAAAAAAgEAAAAJAAABAAAAAAABAAAAAAIAAAAAAAIAAAABAAECAAEAAAEAAAAAAQAAAAABAAEAAAAAAAAAAQ==",
          "dtype": "i1"
         },
         "xaxis": "x16",
         "y": {
          "bdata": "AwMCAwMDAwIDAwMBAQIBAgIDAwMBAwEBAQMBAwEDAgIDAwEDAwMDAwMBAwIBAwEDAQMBAgIBAgMDAwMBAwIDAwECAwEBAQMDAwEBAQMBAgMDAQEDAgMDAwMCAwMBAwEDAQMDAwECAwMDAwMDAwICAwEDAQMDAwECAgMBAwMDAwMCAwMBAwMDAwMCAwMDAQECAQMBAwECAQMDAwMDAQMBAwMDAgMCAwEDAQMDAwMDAwICAQIBAgEBAwECAgMDAgIBAwICAwEDAgMDAwECAgEDAgEDAwMCAgMBAwEBAwIDAgMBAwMDAwICAQMDAQMBAwIBAQIBAwMBAgICAwIDAQMDAwMDAgMDAwIDAgMBAwMDAQMBAwMCAgICAgMDAwMDAwMBAwMBAwMBAwMCAwEDAwICAwMBAQMBAwMDAwMBAwECAwIDAwIBAQMCAQICAgEDAwMBAgMCAwIDAwEDAwIDAgIBAgICAwEBAwMDAwICAwEDAwMBAgIBAQIBAQMCAQMDAwMDAgIDAgMDAQEDAgMBAwEDAwECAQEBAgIBAwMDAQMDAQMDAw==",
          "dtype": "i1"
         },
         "yaxis": "y16"
        },
        {
         "marker": {
          "color": "steelblue"
         },
         "mode": "markers",
         "type": "scatter",
         "x": {
          "bdata": "AAAAAAEAAAEAAAAAAAAAAAAAAAAAAQABAwABAAAAAAACAgAAAAAAAAEAAAAAAAAAAAIAAAECAAEAAAAAAAAAAAIAAAAABAAAAAAAAAAAAAABAAAAAAAAAAABAAACAAAAAAAAAAAAAAABAAAAAAAAAAAAAAAAAQAAAAAAAAABAAAAAAAABAAAAAAAAAYCAAMAAAAAAAABAQAAAgIAAAAAAgABAAAAAQACAAAAAAAABQIAAAMCAAEAAAEAAQACAAAAAQACAAIAAAAAAgABAAAAAAAAAAAAAAIAAAEBAAAAAAAAAgAAAAAAAAAAAAAAAAEAAAIBAAIAAAEAAAIAAAAAAAAAAAAAAAIBAAAAAAAAAAAAAAAAAAAAAAABAAEBAAAAAAAAAAABAAACAAAAAAABAAABAgEBAAAAAAAAAAAAAAAAAAAAAAABAAAAAgAAAQAAAAIAAAAACQEBAAAAAAABAAACAgAAAAAAAgEAAAAJAAABAAAAAAABAAAAAAIAAAAAAAIAAAABAAECAAEAAAEAAAAAAQAAAAABAAEAAAAAAAAAAQ==",
          "dtype": "i1"
         },
         "xaxis": "x17",
         "y": {
          "bdata": "AAAAAABAQUAAAAAAAIBHQAAAAAAAAE9AAAAAAAAAO0AAAAAAAAA2QAAAAAAAACxAAAAAAAAAPkAAAAAAAAA6QAAAAAAAADJAAAAAAAAANUDv+IcAeWRFQAAAAAAAAEdAAAAAAAAAN0AAAAAAAIBPQAAAAAAAgEdAAAAAAAAAOEAAAAAAAIBBQAAAAAAAADVAAAAAAAAAO0AAAAAAAIBGQAAAAAAAgEtAAAAAAAAAIkD2TrE7K/cAwAAAAAAAADVAAAAAAAAASEAAAAAAAABJQAAAAAAAADZAAAAAAACANkAAAAAAAIBEQFLihglxi0xAAAAAAAAASUAAAAAAAAA4QAAAAAAAgEBAfr4Z7bMpQkAAAAAAAAA+QAAAAAAAgDJAb1ayLOagMUAAAAAAAAA1QAAAAAAAADlAKQCS0CLcQEAAAAAAAIBDQG2k/E5vwkVAAAAAAACAREAAAAAAAAA+QAAAAAAAgEZAAAAAAAAAOUAAAAAAAIBGQEu1IRfFXE9AAAAAAAAATkAAAAAAAABCQAAAAAAAADhAAAAAAAAAO0AAAAAAAAA0QAAAAAAAADxA13W+W6iRLUAAAAAAAAAkQAAAAAAAgEFAAAAAAAAAOUDZbHRujB1AQAAAAAAAAEJAAAAAAAAAMUAAAAAAAABAQAAAAAAAADJAAAAAAAAANkAAAAAAAAAqQGzYBWTGexJAAAAAAAAAMkAAAAAAAIBHQAAAAAAAAD9AAAAAAAAATkAAAAAAAAA4QAAAAAAAADVAAAAAAAAAPUAAAAAAAIA8QAAAAAAAgEFAAAAAAABAQEClebD2cB9JQAAAAAAAgEtAAAAAAAAAPkAAAAAAAAA4QAAAAAAAABhAAAAAAADAUEAAAAAAAIBIQLFJcwJOmzpAGQVKl3+/N0C5UF6O0kk8QAAAAAAAADtAAAAAAAAAMkBvLE1Q9YwGQAAAAAAAAABAAAAAAAAANkDEE1qsld07QAAAAAAAADtA0giQPAONPUAAAAAAAAA5QAAAAAAAADlAAAAAAAAAU0AAAAAAAAA9QAAAAAAAADRAAAAAAACAQEAAAAAAAIBFQAAAAAAAADtABizryNdnOEAAAAAAAAA6QAAAAAAAADBAAAAAAAAAPEAAAAAAAAA1QD5Vl1xAAS1AzXQbaWzZIUAAAAAAAIAyQAAAAAAAgERACVVrthjUSUAAAAAAAABCQAAAAAAAgDJAAAAAAACAT0AAAAAAAAAyQNV4eAkKZSrAAAAAAAAA8D8AAAAAAABCQAAAAAAAAD1AAAAAAAAAKEBkgRspcS41QAAAAAAAgEFAAAAAAAAAPEBQg66u1V8zQAAAAAAAADFAAAAAAAAANkBaLi9YITtDQAAAAAAAAEVAAAAAAAAAOEAAAAAAAABAQAAAAAAAgEpA6xKC3PlOT0AK3MFg3A1NQAAAAAAAgEVAAAAAAAAAOEAAAAAAAIA6QAAAAAAAADpAAAAAAAAAN0AAAAAAAABEQAAAAAAAACRAAAAAAACAQEAAAAAAAIBOQAAAAAAAADxAAAAAAAAARUAAAAAAAAA/QOCuCf28yDRAAAAAAAAANkBwV1u1dWo9QAAAAAAAAD5AAAAAAAAAN0Dt3ZYWPj1GQAAAAAAAQE5AAAAAAAAAQkAAAAAAAAAqQAAAAAAAADhAAAAAAAAAPUAAAAAAAAA3QAAAAAAAAEVAAAAAAAAAOkCkEm6j8Z0hQAAAAAAAABxAAAAAAAAAOkA8Uj12c8xEQAAAAAAAgERAAAAAAAAAOkAAAAAAAABIQAAAAAAAADJAjXyXyUlbIkAAAAAAAAA2QHyszI0ART1AAAAAAAAAO0AAAAAAAAA3QPjxS4PgRUJAAAAAAAAAREAAAAAAAAAuQAAAAAAAADRAAAAAAAAAS0AAAAAAAABCQAAAAAAAAFBAAAAAAAAAPkAAAAAAAIBCQAAAAAAAADJAgNFJ42xELEAAAAAAAAA7QAAAAAAAAERAAAAAAAAANUAAAAAAAAAxQH00j2RipzxAAAAAAAAAREAAAAAAAABBQFL8khAqjhVAAAAAAAAAJ0AAAAAAAIBOQAAAAAAAACBAAAAAAACAQEAAAAAAAAAYQAAAAAAAADJAAAAAAAAAN0AZNkOEq4jyP28EK2eHoDLAH4XrUbge1T8AAAAAAIBHQAAAAAAAACBAAAAAAAAAOUDQPUF1tlNEQAAAAAAAgEFAAAAAAAAAOEAAAAAAAIBAQAAAAAAAADlAAAAAAAAAQEA6EIiA5igtQAAAAAAAADFAAAAAAAAATkAAAAAAAABDQAAAAAAAAEVAkF1pMwK/S0AAAAAAAIBMQAAAAAAAAElATz/fYrq/Q0AAAAAAAAA+QAAAAAAAADVAAAAAAAAANkAAAAAAAAA1QAAAAAAAgEpAy+ufxY5oRkAAAAAAAAA3QL8PIWRYBDtAAAAAAABAREAAAAAAAABCQAAAAAAAACxAAAAAAAAANUAAAAAAAAA1QF9mXHlSpUJAAAAAAACAQ0AAAAAAAAA0QAAAAAAAAFBAAAAAAAAANEAAAAAAAAAyQAAAAAAAAEhAAAAAAACAS0AAAAAAAIBGQAAAAAAAgEZAQ8lpeCauSUC08EofPdVKQAAAAAAAgERAAAAAAAAANkAAAAAAAABFQAAAAAAAAD1Aw0u7ULZzFUBxPQrXo3DtPwAAAAAAADRAAAAAAAAAO0AAAAAAAAA4QAAAAAAAQEBAx+Eppm2GQEBOU5CVFmQ/QAAAAAAAADxAAAAAAAAAM0AAAAAAAAA1QAAAAAAAQEJAAAAAAAAANUAAAAAAAAA9QAAAAAAAAPA/AAAAAAAAPkCLMYTY6H5HQKuOpkzSYUNAD7bktzW1NEDDGXeZ1qQgQAAAAAAAADFAAAAAAAAAR0AFTOc4IYxGQAAAAAAAADpAfmMrNz8yLUB4ino29MIpQAAAAAAAADRAAAAAAAAAPEAAAAAAAABEQAAAAAAAAD5AAAAAAAAANkAAAAAAAAA3QAAAAAAAAOg/ebhqcF3JB0AAAAAAAAAiQAAAAAAAAABAAAAAAAAAQkAIG5dSctJEQAAAAAAAADhAKBpFWg7TJkCalon4qpohQGLJM5qaly5AAAAAAAAAPkAsKnRJZUxIQAAAAAAAgEpAAAAAAAAAQkAAAAAAAAA6QAAAAAAAAPA/g6lJmqxpJkAAAAAAAAA+QAAAAAAAAD1AAAAAAAAAQEAjxE1yZ6hGQAAAAAAAgEVAAAAAAAAAOEBeEwXv0v9GQAAAAAAAAFBAAAAAAAAAPkCPwvUoXI/qPwAAAAAAgEtAAAAAAACARkAAAAAAAAAyQAAAAAAAADZAZMIdII5dOUAAAAAAAIBCQAAAAAAAgEtAAAAAAAAAMUAAAAAAAIBMQAAAAAAAADNAAAAAAAAAO0AAAAAAAAA2QAAAAAAAADpAAAAAAAAAOUAAAAAAAAA6QAAAAAAAgEBAAAAAAACAQ0AAAAAAAAA3QAAAAAAAAChAAAAAAAAAR0AAAAAAAAA9QAAAAAAAADVAAAAAAAAASEAAAAAAAIBDQCSdAx51KjdAAAAAAAAAM0AAAAAAAAA7QAAAAAAAAD5AAAAAAAAAQEAAAAAAAIBDQAAAAAAAADlAbJm4Z4FiLEAAAAAAAAAyQAAAAAAAAEBAV1qty2TcSkAAAAAAAABNQFBxNjFIrkFAAAAAAAAAMEAAAAAAAAA6QAAAAAAAAENAAAAAAAAAOEAAAAAAAAA/QAAAAAAAgEZAAAAAAAAAOUAAAAAAAAAyQAAAAAAAgEhAw/UoXI/CxT8AAAAAAABJQAAAAAAAgE1AOY/PS+HuSUCfrBshxM5FQAAAAAAAAD5AAAAAAAAALUAAAAAAAAA4QAAAAAAAAD9AAAAAAAAAO0AAAAAAAAA5QBWniJmApi5AriWuTTonKUAAAAAAAAA2QAAAAAAAgEZAAAAAAAAAPUAAAAAAAAA1QAAAAAAAAD9AAAAAAACASEAAAAAAAABGQAAAAAAAAEtAAAAAAACARkAAAAAAAAA2QAAAAAAAADVAAAAAAACAS0AAAAAAAAAUQDc78YNsCcw/AAAAAAAAOkCh4YWloKI7QAAAAAAAADNAsjV6BjA2NkAAAAAAAAA4QAAAAAAAADhAAAAAAACATEAAAAAAAAA1QAAAAAAAABhAAAAAAAAAN0AAAAAAAIBJQAAAAAAAACpAAAAAAACAR0AAAAAAAAA9QAAAAAAAADJAAAAAAAAAOEAAAAAAAABIQAAAAAAAADZAAAAAAAAAP0AAAAAAAAA+QAAAAAAAAENAAAAAAAAANkAAAAAAAAAxQAAAAAAAgEVAAAAAAAAANEAAAAAAAAA3QAAAAAAAAElAc+WRdC9rPkAAAAAAAAAIQOW8CsP8GzFAAAAAAACAQkAAAAAAAAA8QN0NhNOmcj1AAAAAAACAQ0AAAAAAAEBDQFhXvJoOrSNAbMags0pKUMA=",
          "dtype": "f8"
         },
         "yaxis": "y17"
        },
        {
         "marker": {
          "color": "steelblue"
         },
         "mode": "markers",
         "type": "scatter",
         "x": {
          "bdata": "AAAAAAEAAAEAAAAAAAAAAAAAAAAAAQABAwABAAAAAAACAgAAAAAAAAEAAAAAAAAAAAIAAAECAAEAAAAAAAAAAAIAAAAABAAAAAAAAAAAAAABAAAAAAAAAAABAAACAAAAAAAAAAAAAAABAAAAAAAAAAAAAAAAAQAAAAAAAAABAAAAAAAABAAAAAAAAAYCAAMAAAAAAAABAQAAAgIAAAAAAgABAAAAAQACAAAAAAAABQIAAAMCAAEAAAEAAQACAAAAAQACAAIAAAAAAgABAAAAAAAAAAAAAAIAAAEBAAAAAAAAAgAAAAAAAAAAAAAAAAEAAAIBAAIAAAEAAAIAAAAAAAAAAAAAAAIBAAAAAAAAAAAAAAAAAAAAAAABAAEBAAAAAAAAAAABAAACAAAAAAABAAABAgEBAAAAAAAAAAAAAAAAAAAAAAABAAAAAgAAAQAAAAIAAAAACQEBAAAAAAABAAACAgAAAAAAAgEAAAAJAAABAAAAAAABAAAAAAIAAAAAAAIAAAABAAECAAEAAAEAAAAAAQAAAAABAAEAAAAAAAAAAQ==",
          "dtype": "i1"
         },
         "xaxis": "x18",
         "y": {
          "bdata": "AAEAAAEAAAEAAgAAAQEBAQAAAQABAAAAAQEAAAACAQIBAQEAAAAAAAAAAAABAAAAAAABAAIDAAQAAAEAAAAAAAIAAAAAAQAAAAAAAAACAAABAQAAAAEAAAABAQABAAAAAQAAAAEBAAABAAAAAAAAAAAAAQEAAQABAAEBAAAAAAIAAAAAAAEAAAAAAAEFAAEAAAMAAAABAAAAAAQAAAAAAAABAAAAAQACAAAAAAEAAQAAAQAAAAEBAAEAAAIIAAEAAQAAAAAAAAAAAAEBAAAAAAAAAAAAAQQAAAEBAAEAAAAAAAAAAAAAAAEAAQABAAEBAAABAAEBAAEBAQEAAQAAAAAAAAABAAABAAAAAAAAAAABAQABAAEBAAABAAEBAAABAAAAAAABAAABAgAAAAAAAAABAQABAQAAAAAAAAEAAAIAAAAAAAACAAEAAAAAAQAAAAAAAAAAAQABAAAAAAAAAAABAQACAAABCAEAAAEBAQAAAAEAAAABAAIAAAQAAAABAAEAAAADAAAAAAMBAAEAAAABAAABAAEBAAEAAQAAAAAAAQ==",
          "dtype": "i1"
         },
         "yaxis": "y18"
        },
        {
         "marker": {
          "color": "steelblue",
          "line": {
           "color": "black",
           "width": 1
          }
         },
         "type": "histogram",
         "x": {
          "bdata": "AAAAAAEAAAEAAAAAAAAAAAAAAAAAAQABAwABAAAAAAACAgAAAAAAAAEAAAAAAAAAAAIAAAECAAEAAAAAAAAAAAIAAAAABAAAAAAAAAAAAAABAAAAAAAAAAABAAACAAAAAAAAAAAAAAABAAAAAAAAAAAAAAAAAQAAAAAAAAABAAAAAAAABAAAAAAAAAYCAAMAAAAAAAABAQAAAgIAAAAAAgABAAAAAQACAAAAAAAABQIAAAMCAAEAAAEAAQACAAAAAQACAAIAAAAAAgABAAAAAAAAAAAAAAIAAAEBAAAAAAAAAgAAAAAAAAAAAAAAAAEAAAIBAAIAAAEAAAIAAAAAAAAAAAAAAAIBAAAAAAAAAAAAAAAAAAAAAAABAAEBAAAAAAAAAAABAAACAAAAAAABAAABAgEBAAAAAAAAAAAAAAAAAAAAAAABAAAAAgAAAQAAAAIAAAAACQEBAAAAAAABAAACAgAAAAAAAgEAAAAJAAABAAAAAAABAAAAAAIAAAAAAAIAAAABAAECAAEAAAEAAAAAAQAAAAABAAEAAAAAAAAAAQ==",
          "dtype": "i1"
         },
         "xaxis": "x19",
         "yaxis": "y19"
        },
        {
         "marker": {
          "color": "steelblue"
         },
         "mode": "markers",
         "type": "scatter",
         "x": {
          "bdata": "AAAAAAEAAAEAAAAAAAAAAAAAAAAAAQABAwABAAAAAAACAgAAAAAAAAEAAAAAAAAAAAIAAAECAAEAAAAAAAAAAAIAAAAABAAAAAAAAAAAAAABAAAAAAAAAAABAAACAAAAAAAAAAAAAAABAAAAAAAAAAAAAAAAAQAAAAAAAAABAAAAAAAABAAAAAAAAAYCAAMAAAAAAAABAQAAAgIAAAAAAgABAAAAAQACAAAAAAAABQIAAAMCAAEAAAEAAQACAAAAAQACAAIAAAAAAgABAAAAAAAAAAAAAAIAAAEBAAAAAAAAAgAAAAAAAAAAAAAAAAEAAAIBAAIAAAEAAAIAAAAAAAAAAAAAAAIBAAAAAAAAAAAAAAAAAAAAAAABAAEBAAAAAAAAAAABAAACAAAAAAABAAABAgEBAAAAAAAAAAAAAAAAAAAAAAABAAAAAgAAAQAAAAIAAAAACQEBAAAAAAABAAACAgAAAAAAAgEAAAAJAAABAAAAAAABAAAAAAIAAAAAAAIAAAABAAECAAEAAAEAAAAAAQAAAAABAAEAAAAAAAAAAQ==",
          "dtype": "i1"
         },
         "xaxis": "x20",
         "y": {
          "bdata": "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",
          "dtype": "f8"
         },
         "yaxis": "y20"
        },
        {
         "marker": {
          "color": "steelblue"
         },
         "mode": "markers",
         "type": "scatter",
         "x": {
          "bdata": "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",
          "dtype": "f8"
         },
         "xaxis": "x21",
         "y": {
          "bdata": "AwMCAwMDAwIDAwMBAQIBAgIDAwMBAwEBAQMBAwEDAgIDAwEDAwMDAwMBAwIBAwEDAQMBAgIBAgMDAwMBAwIDAwECAwEBAQMDAwEBAQMBAgMDAQEDAgMDAwMCAwMBAwEDAQMDAwECAwMDAwMDAwICAwEDAQMDAwECAgMBAwMDAwMCAwMBAwMDAwMCAwMDAQECAQMBAwECAQMDAwMDAQMBAwMDAgMCAwEDAQMDAwMDAwICAQIBAgEBAwECAgMDAgIBAwICAwEDAgMDAwECAgEDAgEDAwMCAgMBAwEBAwIDAgMBAwMDAwICAQMDAQMBAwIBAQIBAwMBAgICAwIDAQMDAwMDAgMDAwIDAgMBAwMDAQMBAwMCAgICAgMDAwMDAwMBAwMBAwMBAwMCAwEDAwICAwMBAQMBAwMDAwMBAwECAwIDAwIBAQMCAQICAgEDAwMBAgMCAwIDAwEDAwIDAgIBAgICAwEBAwMDAwICAwEDAwMBAgIBAQIBAQMCAQMDAwMDAgIDAgMDAQEDAgMBAwEDAwECAQEBAgIBAwMDAQMDAQMDAw==",
          "dtype": "i1"
         },
         "yaxis": "y21"
        },
        {
         "marker": {
          "color": "steelblue"
         },
         "mode": "markers",
         "type": "scatter",
         "x": {
          "bdata": "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",
          "dtype": "f8"
         },
         "xaxis": "x22",
         "y": {
          "bdata": "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",
          "dtype": "f8"
         },
         "yaxis": "y22"
        },
        {
         "marker": {
          "color": "steelblue"
         },
         "mode": "markers",
         "type": "scatter",
         "x": {
          "bdata": "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",
          "dtype": "f8"
         },
         "xaxis": "x23",
         "y": {
          "bdata": "AAEAAAEAAAEAAgAAAQEBAQAAAQABAAAAAQEAAAACAQIBAQEAAAAAAAAAAAABAAAAAAABAAIDAAQAAAEAAAAAAAIAAAAAAQAAAAAAAAACAAABAQAAAAEAAAABAQABAAAAAQAAAAEBAAABAAAAAAAAAAAAAQEAAQABAAEBAAAAAAIAAAAAAAEAAAAAAAEFAAEAAAMAAAABAAAAAAQAAAAAAAABAAAAAQACAAAAAAEAAQAAAQAAAAEBAAEAAAIIAAEAAQAAAAAAAAAAAAEBAAAAAAAAAAAAAQQAAAEBAAEAAAAAAAAAAAAAAAEAAQABAAEBAAABAAEBAAEBAQEAAQAAAAAAAAABAAABAAAAAAAAAAABAQABAAEBAAABAAEBAAABAAAAAAABAAABAgAAAAAAAAABAQABAQAAAAAAAAEAAAIAAAAAAAACAAEAAAAAAQAAAAAAAAAAAQABAAAAAAAAAAABAQACAAABCAEAAAEBAQAAAAEAAAABAAIAAAQAAAABAAEAAAADAAAAAAMBAAEAAAABAAABAAEBAAEAAQAAAAAAAQ==",
          "dtype": "i1"
         },
         "yaxis": "y23"
        },
        {
         "marker": {
          "color": "steelblue"
         },
         "mode": "markers",
         "type": "scatter",
         "x": {
          "bdata": "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",
          "dtype": "f8"
         },
         "xaxis": "x24",
         "y": {
          "bdata": "AAAAAAEAAAEAAAAAAAAAAAAAAAAAAQABAwABAAAAAAACAgAAAAAAAAEAAAAAAAAAAAIAAAECAAEAAAAAAAAAAAIAAAAABAAAAAAAAAAAAAABAAAAAAAAAAABAAACAAAAAAAAAAAAAAABAAAAAAAAAAAAAAAAAQAAAAAAAAABAAAAAAAABAAAAAAAAAYCAAMAAAAAAAABAQAAAgIAAAAAAgABAAAAAQACAAAAAAAABQIAAAMCAAEAAAEAAQACAAAAAQACAAIAAAAAAgABAAAAAAAAAAAAAAIAAAEBAAAAAAAAAgAAAAAAAAAAAAAAAAEAAAIBAAIAAAEAAAIAAAAAAAAAAAAAAAIBAAAAAAAAAAAAAAAAAAAAAAABAAEBAAAAAAAAAAABAAACAAAAAAABAAABAgEBAAAAAAAAAAAAAAAAAAAAAAABAAAAAgAAAQAAAAIAAAAACQEBAAAAAAABAAACAgAAAAAAAgEAAAAJAAABAAAAAAABAAAAAAIAAAAAAAIAAAABAAECAAEAAAEAAAAAAQAAAAABAAEAAAAAAAAAAQ==",
          "dtype": "i1"
         },
         "yaxis": "y24"
        },
        {
         "marker": {
          "color": "steelblue",
          "line": {
           "color": "black",
           "width": 1
          }
         },
         "type": "histogram",
         "x": {
          "bdata": "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",
          "dtype": "f8"
         },
         "xaxis": "x25",
         "yaxis": "y25"
        }
       ],
       "layout": {
        "height": 1800,
        "showlegend": false,
        "template": {
         "data": {
          "bar": [
           {
            "error_x": {
             "color": "#f2f5fa"
            },
            "error_y": {
             "color": "#f2f5fa"
            },
            "marker": {
             "line": {
              "color": "rgb(17,17,17)",
              "width": 0.5
             },
             "pattern": {
              "fillmode": "overlay",
              "size": 10,
              "solidity": 0.2
             }
            },
            "type": "bar"
           }
          ],
          "barpolar": [
           {
            "marker": {
             "line": {
              "color": "rgb(17,17,17)",
              "width": 0.5
             },
             "pattern": {
              "fillmode": "overlay",
              "size": 10,
              "solidity": 0.2
             }
            },
            "type": "barpolar"
           }
          ],
          "carpet": [
           {
            "aaxis": {
             "endlinecolor": "#A2B1C6",
             "gridcolor": "#506784",
             "linecolor": "#506784",
             "minorgridcolor": "#506784",
             "startlinecolor": "#A2B1C6"
            },
            "baxis": {
             "endlinecolor": "#A2B1C6",
             "gridcolor": "#506784",
             "linecolor": "#506784",
             "minorgridcolor": "#506784",
             "startlinecolor": "#A2B1C6"
            },
            "type": "carpet"
           }
          ],
          "choropleth": [
           {
            "colorbar": {
             "outlinewidth": 0,
             "ticks": ""
            },
            "type": "choropleth"
           }
          ],
          "contour": [
           {
            "colorbar": {
             "outlinewidth": 0,
             "ticks": ""
            },
            "colorscale": [
             [
              0,
              "#0d0887"
             ],
             [
              0.1111111111111111,
              "#46039f"
             ],
             [
              0.2222222222222222,
              "#7201a8"
             ],
             [
              0.3333333333333333,
              "#9c179e"
             ],
             [
              0.4444444444444444,
              "#bd3786"
             ],
             [
              0.5555555555555556,
              "#d8576b"
             ],
             [
              0.6666666666666666,
              "#ed7953"
             ],
             [
              0.7777777777777778,
              "#fb9f3a"
             ],
             [
              0.8888888888888888,
              "#fdca26"
             ],
             [
              1,
              "#f0f921"
             ]
            ],
            "type": "contour"
           }
          ],
          "contourcarpet": [
           {
            "colorbar": {
             "outlinewidth": 0,
             "ticks": ""
            },
            "type": "contourcarpet"
           }
          ],
          "heatmap": [
           {
            "colorbar": {
             "outlinewidth": 0,
             "ticks": ""
            },
            "colorscale": [
             [
              0,
              "#0d0887"
             ],
             [
              0.1111111111111111,
              "#46039f"
             ],
             [
              0.2222222222222222,
              "#7201a8"
             ],
             [
              0.3333333333333333,
              "#9c179e"
             ],
             [
              0.4444444444444444,
              "#bd3786"
             ],
             [
              0.5555555555555556,
              "#d8576b"
             ],
             [
              0.6666666666666666,
              "#ed7953"
             ],
             [
              0.7777777777777778,
              "#fb9f3a"
             ],
             [
              0.8888888888888888,
              "#fdca26"
             ],
             [
              1,
              "#f0f921"
             ]
            ],
            "type": "heatmap"
           }
          ],
          "histogram": [
           {
            "marker": {
             "pattern": {
              "fillmode": "overlay",
              "size": 10,
              "solidity": 0.2
             }
            },
            "type": "histogram"
           }
          ],
          "histogram2d": [
           {
            "colorbar": {
             "outlinewidth": 0,
             "ticks": ""
            },
            "colorscale": [
             [
              0,
              "#0d0887"
             ],
             [
              0.1111111111111111,
              "#46039f"
             ],
             [
              0.2222222222222222,
              "#7201a8"
             ],
             [
              0.3333333333333333,
              "#9c179e"
             ],
             [
              0.4444444444444444,
              "#bd3786"
             ],
             [
              0.5555555555555556,
              "#d8576b"
             ],
             [
              0.6666666666666666,
              "#ed7953"
             ],
             [
              0.7777777777777778,
              "#fb9f3a"
             ],
             [
              0.8888888888888888,
              "#fdca26"
             ],
             [
              1,
              "#f0f921"
             ]
            ],
            "type": "histogram2d"
           }
          ],
          "histogram2dcontour": [
           {
            "colorbar": {
             "outlinewidth": 0,
             "ticks": ""
            },
            "colorscale": [
             [
              0,
              "#0d0887"
             ],
             [
              0.1111111111111111,
              "#46039f"
             ],
             [
              0.2222222222222222,
              "#7201a8"
             ],
             [
              0.3333333333333333,
              "#9c179e"
             ],
             [
              0.4444444444444444,
              "#bd3786"
             ],
             [
              0.5555555555555556,
              "#d8576b"
             ],
             [
              0.6666666666666666,
              "#ed7953"
             ],
             [
              0.7777777777777778,
              "#fb9f3a"
             ],
             [
              0.8888888888888888,
              "#fdca26"
             ],
             [
              1,
              "#f0f921"
             ]
            ],
            "type": "histogram2dcontour"
           }
          ],
          "mesh3d": [
           {
            "colorbar": {
             "outlinewidth": 0,
             "ticks": ""
            },
            "type": "mesh3d"
           }
          ],
          "parcoords": [
           {
            "line": {
             "colorbar": {
              "outlinewidth": 0,
              "ticks": ""
             }
            },
            "type": "parcoords"
           }
          ],
          "pie": [
           {
            "automargin": true,
            "type": "pie"
           }
          ],
          "scatter": [
           {
            "marker": {
             "line": {
              "color": "#283442"
             }
            },
            "type": "scatter"
           }
          ],
          "scatter3d": [
           {
            "line": {
             "colorbar": {
              "outlinewidth": 0,
              "ticks": ""
             }
            },
            "marker": {
             "colorbar": {
              "outlinewidth": 0,
              "ticks": ""
             }
            },
            "type": "scatter3d"
           }
          ],
          "scattercarpet": [
           {
            "marker": {
             "colorbar": {
              "outlinewidth": 0,
              "ticks": ""
             }
            },
            "type": "scattercarpet"
           }
          ],
          "scattergeo": [
           {
            "marker": {
             "colorbar": {
              "outlinewidth": 0,
              "ticks": ""
             }
            },
            "type": "scattergeo"
           }
          ],
          "scattergl": [
           {
            "marker": {
             "line": {
              "color": "#283442"
             }
            },
            "type": "scattergl"
           }
          ],
          "scattermap": [
           {
            "marker": {
             "colorbar": {
              "outlinewidth": 0,
              "ticks": ""
             }
            },
            "type": "scattermap"
           }
          ],
          "scattermapbox": [
           {
            "marker": {
             "colorbar": {
              "outlinewidth": 0,
              "ticks": ""
             }
            },
            "type": "scattermapbox"
           }
          ],
          "scatterpolar": [
           {
            "marker": {
             "colorbar": {
              "outlinewidth": 0,
              "ticks": ""
             }
            },
            "type": "scatterpolar"
           }
          ],
          "scatterpolargl": [
           {
            "marker": {
             "colorbar": {
              "outlinewidth": 0,
              "ticks": ""
             }
            },
            "type": "scatterpolargl"
           }
          ],
          "scatterternary": [
           {
            "marker": {
             "colorbar": {
              "outlinewidth": 0,
              "ticks": ""
             }
            },
            "type": "scatterternary"
           }
          ],
          "surface": [
           {
            "colorbar": {
             "outlinewidth": 0,
             "ticks": ""
            },
            "colorscale": [
             [
              0,
              "#0d0887"
             ],
             [
              0.1111111111111111,
              "#46039f"
             ],
             [
              0.2222222222222222,
              "#7201a8"
             ],
             [
              0.3333333333333333,
              "#9c179e"
             ],
             [
              0.4444444444444444,
              "#bd3786"
             ],
             [
              0.5555555555555556,
              "#d8576b"
             ],
             [
              0.6666666666666666,
              "#ed7953"
             ],
             [
              0.7777777777777778,
              "#fb9f3a"
             ],
             [
              0.8888888888888888,
              "#fdca26"
             ],
             [
              1,
              "#f0f921"
             ]
            ],
            "type": "surface"
           }
          ],
          "table": [
           {
            "cells": {
             "fill": {
              "color": "#506784"
             },
             "line": {
              "color": "rgb(17,17,17)"
             }
            },
            "header": {
             "fill": {
              "color": "#2a3f5f"
             },
             "line": {
              "color": "rgb(17,17,17)"
             }
            },
            "type": "table"
           }
          ]
         },
         "layout": {
          "annotationdefaults": {
           "arrowcolor": "#f2f5fa",
           "arrowhead": 0,
           "arrowwidth": 1
          },
          "autotypenumbers": "strict",
          "coloraxis": {
           "colorbar": {
            "outlinewidth": 0,
            "ticks": ""
           }
          },
          "colorscale": {
           "diverging": [
            [
             0,
             "#8e0152"
            ],
            [
             0.1,
             "#c51b7d"
            ],
            [
             0.2,
             "#de77ae"
            ],
            [
             0.3,
             "#f1b6da"
            ],
            [
             0.4,
             "#fde0ef"
            ],
            [
             0.5,
             "#f7f7f7"
            ],
            [
             0.6,
             "#e6f5d0"
            ],
            [
             0.7,
             "#b8e186"
            ],
            [
             0.8,
             "#7fbc41"
            ],
            [
             0.9,
             "#4d9221"
            ],
            [
             1,
             "#276419"
            ]
           ],
           "sequential": [
            [
             0,
             "#0d0887"
            ],
            [
             0.1111111111111111,
             "#46039f"
            ],
            [
             0.2222222222222222,
             "#7201a8"
            ],
            [
             0.3333333333333333,
             "#9c179e"
            ],
            [
             0.4444444444444444,
             "#bd3786"
            ],
            [
             0.5555555555555556,
             "#d8576b"
            ],
            [
             0.6666666666666666,
             "#ed7953"
            ],
            [
             0.7777777777777778,
             "#fb9f3a"
            ],
            [
             0.8888888888888888,
             "#fdca26"
            ],
            [
             1,
             "#f0f921"
            ]
           ],
           "sequentialminus": [
            [
             0,
             "#0d0887"
            ],
            [
             0.1111111111111111,
             "#46039f"
            ],
            [
             0.2222222222222222,
             "#7201a8"
            ],
            [
             0.3333333333333333,
             "#9c179e"
            ],
            [
             0.4444444444444444,
             "#bd3786"
            ],
            [
             0.5555555555555556,
             "#d8576b"
            ],
            [
             0.6666666666666666,
             "#ed7953"
            ],
            [
             0.7777777777777778,
             "#fb9f3a"
            ],
            [
             0.8888888888888888,
             "#fdca26"
            ],
            [
             1,
             "#f0f921"
            ]
           ]
          },
          "colorway": [
           "#636efa",
           "#EF553B",
           "#00cc96",
           "#ab63fa",
           "#FFA15A",
           "#19d3f3",
           "#FF6692",
           "#B6E880",
           "#FF97FF",
           "#FECB52"
          ],
          "font": {
           "color": "#f2f5fa"
          },
          "geo": {
           "bgcolor": "rgb(17,17,17)",
           "lakecolor": "rgb(17,17,17)",
           "landcolor": "rgb(17,17,17)",
           "showlakes": true,
           "showland": true,
           "subunitcolor": "#506784"
          },
          "hoverlabel": {
           "align": "left"
          },
          "hovermode": "closest",
          "mapbox": {
           "style": "dark"
          },
          "paper_bgcolor": "rgb(17,17,17)",
          "plot_bgcolor": "rgb(17,17,17)",
          "polar": {
           "angularaxis": {
            "gridcolor": "#506784",
            "linecolor": "#506784",
            "ticks": ""
           },
           "bgcolor": "rgb(17,17,17)",
           "radialaxis": {
            "gridcolor": "#506784",
            "linecolor": "#506784",
            "ticks": ""
           }
          },
          "scene": {
           "xaxis": {
            "backgroundcolor": "rgb(17,17,17)",
            "gridcolor": "#506784",
            "gridwidth": 2,
            "linecolor": "#506784",
            "showbackground": true,
            "ticks": "",
            "zerolinecolor": "#C8D4E3"
           },
           "yaxis": {
            "backgroundcolor": "rgb(17,17,17)",
            "gridcolor": "#506784",
            "gridwidth": 2,
            "linecolor": "#506784",
            "showbackground": true,
            "ticks": "",
            "zerolinecolor": "#C8D4E3"
           },
           "zaxis": {
            "backgroundcolor": "rgb(17,17,17)",
            "gridcolor": "#506784",
            "gridwidth": 2,
            "linecolor": "#506784",
            "showbackground": true,
            "ticks": "",
            "zerolinecolor": "#C8D4E3"
           }
          },
          "shapedefaults": {
           "line": {
            "color": "#f2f5fa"
           }
          },
          "sliderdefaults": {
           "bgcolor": "#C8D4E3",
           "bordercolor": "rgb(17,17,17)",
           "borderwidth": 1,
           "tickwidth": 0
          },
          "ternary": {
           "aaxis": {
            "gridcolor": "#506784",
            "linecolor": "#506784",
            "ticks": ""
           },
           "baxis": {
            "gridcolor": "#506784",
            "linecolor": "#506784",
            "ticks": ""
           },
           "bgcolor": "rgb(17,17,17)",
           "caxis": {
            "gridcolor": "#506784",
            "linecolor": "#506784",
            "ticks": ""
           }
          },
          "title": {
           "x": 0.05
          },
          "updatemenudefaults": {
           "bgcolor": "#506784",
           "borderwidth": 0
          },
          "xaxis": {
           "automargin": true,
           "gridcolor": "#283442",
           "linecolor": "#506784",
           "ticks": "",
           "title": {
            "standoff": 15
           },
           "zerolinecolor": "#283442",
           "zerolinewidth": 2
          },
          "yaxis": {
           "automargin": true,
           "gridcolor": "#283442",
           "linecolor": "#506784",
           "ticks": "",
           "title": {
            "standoff": 15
           },
           "zerolinecolor": "#283442",
           "zerolinewidth": 2
          }
         }
        },
        "width": 1800,
        "xaxis": {
         "anchor": "y",
         "domain": [
          0,
          0.16799999999999998
         ],
         "title": {
          "text": "Pclass"
         }
        },
        "xaxis10": {
         "anchor": "y10",
         "domain": [
          0.832,
          1
         ],
         "title": {
          "text": "Age"
         }
        },
        "xaxis11": {
         "anchor": "y11",
         "domain": [
          0,
          0.16799999999999998
         ],
         "title": {
          "text": "SibSp"
         }
        },
        "xaxis12": {
         "anchor": "y12",
         "domain": [
          0.208,
          0.376
         ],
         "title": {
          "text": "SibSp"
         }
        },
        "xaxis13": {
         "anchor": "y13",
         "domain": [
          0.416,
          0.584
         ],
         "title": {
          "text": "SibSp"
         }
        },
        "xaxis14": {
         "anchor": "y14",
         "domain": [
          0.624,
          0.792
         ],
         "title": {
          "text": "SibSp"
         }
        },
        "xaxis15": {
         "anchor": "y15",
         "domain": [
          0.832,
          1
         ],
         "title": {
          "text": "SibSp"
         }
        },
        "xaxis16": {
         "anchor": "y16",
         "domain": [
          0,
          0.16799999999999998
         ],
         "title": {
          "text": "Parch"
         }
        },
        "xaxis17": {
         "anchor": "y17",
         "domain": [
          0.208,
          0.376
         ],
         "title": {
          "text": "Parch"
         }
        },
        "xaxis18": {
         "anchor": "y18",
         "domain": [
          0.416,
          0.584
         ],
         "title": {
          "text": "Parch"
         }
        },
        "xaxis19": {
         "anchor": "y19",
         "domain": [
          0.624,
          0.792
         ],
         "title": {
          "text": "Parch"
         }
        },
        "xaxis2": {
         "anchor": "y2",
         "domain": [
          0.208,
          0.376
         ],
         "title": {
          "text": "Pclass"
         }
        },
        "xaxis20": {
         "anchor": "y20",
         "domain": [
          0.832,
          1
         ],
         "title": {
          "text": "Parch"
         }
        },
        "xaxis21": {
         "anchor": "y21",
         "domain": [
          0,
          0.16799999999999998
         ],
         "title": {
          "text": "Fare"
         }
        },
        "xaxis22": {
         "anchor": "y22",
         "domain": [
          0.208,
          0.376
         ],
         "title": {
          "text": "Fare"
         }
        },
        "xaxis23": {
         "anchor": "y23",
         "domain": [
          0.416,
          0.584
         ],
         "title": {
          "text": "Fare"
         }
        },
        "xaxis24": {
         "anchor": "y24",
         "domain": [
          0.624,
          0.792
         ],
         "title": {
          "text": "Fare"
         }
        },
        "xaxis25": {
         "anchor": "y25",
         "domain": [
          0.832,
          1
         ],
         "title": {
          "text": "Fare"
         }
        },
        "xaxis3": {
         "anchor": "y3",
         "domain": [
          0.416,
          0.584
         ],
         "title": {
          "text": "Pclass"
         }
        },
        "xaxis4": {
         "anchor": "y4",
         "domain": [
          0.624,
          0.792
         ],
         "title": {
          "text": "Pclass"
         }
        },
        "xaxis5": {
         "anchor": "y5",
         "domain": [
          0.832,
          1
         ],
         "title": {
          "text": "Pclass"
         }
        },
        "xaxis6": {
         "anchor": "y6",
         "domain": [
          0,
          0.16799999999999998
         ],
         "title": {
          "text": "Age"
         }
        },
        "xaxis7": {
         "anchor": "y7",
         "domain": [
          0.208,
          0.376
         ],
         "title": {
          "text": "Age"
         }
        },
        "xaxis8": {
         "anchor": "y8",
         "domain": [
          0.416,
          0.584
         ],
         "title": {
          "text": "Age"
         }
        },
        "xaxis9": {
         "anchor": "y9",
         "domain": [
          0.624,
          0.792
         ],
         "title": {
          "text": "Age"
         }
        },
        "yaxis": {
         "anchor": "x",
         "domain": [
          0.848,
          1
         ],
         "title": {
          "text": "Pclass"
         }
        },
        "yaxis10": {
         "anchor": "x10",
         "domain": [
          0.6359999999999999,
          0.7879999999999999
         ],
         "title": {
          "text": "Fare"
         }
        },
        "yaxis11": {
         "anchor": "x11",
         "domain": [
          0.424,
          0.576
         ],
         "title": {
          "text": "Pclass"
         }
        },
        "yaxis12": {
         "anchor": "x12",
         "domain": [
          0.424,
          0.576
         ],
         "title": {
          "text": "Age"
         }
        },
        "yaxis13": {
         "anchor": "x13",
         "domain": [
          0.424,
          0.576
         ],
         "title": {
          "text": "SibSp"
         }
        },
        "yaxis14": {
         "anchor": "x14",
         "domain": [
          0.424,
          0.576
         ],
         "title": {
          "text": "Parch"
         }
        },
        "yaxis15": {
         "anchor": "x15",
         "domain": [
          0.424,
          0.576
         ],
         "title": {
          "text": "Fare"
         }
        },
        "yaxis16": {
         "anchor": "x16",
         "domain": [
          0.212,
          0.364
         ],
         "title": {
          "text": "Pclass"
         }
        },
        "yaxis17": {
         "anchor": "x17",
         "domain": [
          0.212,
          0.364
         ],
         "title": {
          "text": "Age"
         }
        },
        "yaxis18": {
         "anchor": "x18",
         "domain": [
          0.212,
          0.364
         ],
         "title": {
          "text": "SibSp"
         }
        },
        "yaxis19": {
         "anchor": "x19",
         "domain": [
          0.212,
          0.364
         ],
         "title": {
          "text": "Parch"
         }
        },
        "yaxis2": {
         "anchor": "x2",
         "domain": [
          0.848,
          1
         ],
         "title": {
          "text": "Age"
         }
        },
        "yaxis20": {
         "anchor": "x20",
         "domain": [
          0.212,
          0.364
         ],
         "title": {
          "text": "Fare"
         }
        },
        "yaxis21": {
         "anchor": "x21",
         "domain": [
          0,
          0.152
         ],
         "title": {
          "text": "Pclass"
         }
        },
        "yaxis22": {
         "anchor": "x22",
         "domain": [
          0,
          0.152
         ],
         "title": {
          "text": "Age"
         }
        },
        "yaxis23": {
         "anchor": "x23",
         "domain": [
          0,
          0.152
         ],
         "title": {
          "text": "SibSp"
         }
        },
        "yaxis24": {
         "anchor": "x24",
         "domain": [
          0,
          0.152
         ],
         "title": {
          "text": "Parch"
         }
        },
        "yaxis25": {
         "anchor": "x25",
         "domain": [
          0,
          0.152
         ],
         "title": {
          "text": "Fare"
         }
        },
        "yaxis3": {
         "anchor": "x3",
         "domain": [
          0.848,
          1
         ],
         "title": {
          "text": "SibSp"
         }
        },
        "yaxis4": {
         "anchor": "x4",
         "domain": [
          0.848,
          1
         ],
         "title": {
          "text": "Parch"
         }
        },
        "yaxis5": {
         "anchor": "x5",
         "domain": [
          0.848,
          1
         ],
         "title": {
          "text": "Fare"
         }
        },
        "yaxis6": {
         "anchor": "x6",
         "domain": [
          0.6359999999999999,
          0.7879999999999999
         ],
         "title": {
          "text": "Pclass"
         }
        },
        "yaxis7": {
         "anchor": "x7",
         "domain": [
          0.6359999999999999,
          0.7879999999999999
         ],
         "title": {
          "text": "Age"
         }
        },
        "yaxis8": {
         "anchor": "x8",
         "domain": [
          0.6359999999999999,
          0.7879999999999999
         ],
         "title": {
          "text": "SibSp"
         }
        },
        "yaxis9": {
         "anchor": "x9",
         "domain": [
          0.6359999999999999,
          0.7879999999999999
         ],
         "title": {
          "text": "Parch"
         }
        }
       }
      }
     },
     "metadata": {},
     "output_type": "display_data"
    }
   ],
   "source": [
    "# Matriz de dispersión \n",
    "fig = make_subplots(cols=len(numeric_columns), rows=len(numeric_columns))\n",
    "\n",
    "for i, value_x in enumerate(numeric_columns):\n",
    "    for j, value_y in enumerate(numeric_columns):\n",
    "        if i == j:\n",
    "            fig.add_trace(\n",
    "                go.Histogram(\n",
    "                    x=test[value_x],\n",
    "                    marker=dict(\n",
    "                        color=\"steelblue\",\n",
    "                        line=dict(color=\"black\", width=1)\n",
    "                    )\n",
    "                ),\n",
    "                row=i + 1,\n",
    "                col=j + 1,\n",
    "            )\n",
    "            fig.update_xaxes(title_text=value_x, row=i + 1, col=j + 1)\n",
    "            fig.update_yaxes(title_text=value_x, row=i + 1, col=j + 1)\n",
    "        else:\n",
    "            fig.add_trace(\n",
    "                go.Scatter(\n",
    "                    x=test[value_x],\n",
    "                    y=test[value_y],\n",
    "                    mode=\"markers\",\n",
    "                    marker=dict(color=\"steelblue\")\n",
    "                ),\n",
    "                row=i + 1,\n",
    "                col=j + 1,\n",
    "            )\n",
    "            fig.update_xaxes(title_text=value_x, row=i + 1, col=j + 1)\n",
    "            fig.update_yaxes(title_text=value_y, row=i + 1, col=j + 1)\n",
    "\n",
    "fig.update_layout(showlegend=False)\n",
    "fig.update_layout(\n",
    "    template=\"plotly_dark\",\n",
    "    width=1800,\n",
    "    height=1800\n",
    ")\n",
    "fig.show()"
   ]
  },
  {
   "cell_type": "markdown",
   "id": "d45d1ea4",
   "metadata": {},
   "source": [
    "##### Explicación de la Matriz de Dispersión (Pair Plot)\n",
    "\n",
    "**Resultados obtenidos:**\n",
    "La matriz de dispersión muestra la distribución univariada y las relaciones bivariadas entre las 5 variables numéricas: `Pclass`, `Age`, `SibSp`, `Parch` y `Fare`.\n",
    "\n",
    "**Análisis de las distribuciones unidimensionales (histogramas en diagonal):**\n",
    "\n",
    "**Pclass:**\n",
    "- Distribución desbalanceada con mayoría en clase 3\n",
    "- Clase 1 y 2 tienen menos pasajeros\n",
    "- Refleja la estructura socioeconómica del Titanic\n",
    "\n",
    "**Age:**\n",
    "- Distribución unimodal sesgada a la derecha\n",
    "- Concentración principal entre 20-40 años\n",
    "- Presencia de valores negativos (datos faltantes codificados incorrectamente)\n",
    "- Requiere imputación de datos faltantes\n",
    "\n",
    "**SibSp (hermanos/cónyuges):**\n",
    "- Distribución altamente sesgada\n",
    "- Gran mayoría con valor 0 (viajan solos)\n",
    "- Frecuencia decrece drásticamente con valores mayores\n",
    "\n",
    "**Parch (padres/hijos):**\n",
    "- Patrón similar a SibSp\n",
    "- Mayoría con valor 0\n",
    "- Distribución de cola larga\n",
    "\n",
    "**Fare (tarifa):**\n",
    "- Distribución fuertemente sesgada a la derecha\n",
    "- Mayoría con tarifas bajas\n",
    "- Cola larga hacia tarifas muy altas\n",
    "\n",
    "**Análisis de relaciones bivariadas (scatter plots):**\n",
    "\n",
    "**Relaciones más importantes:**\n",
    "- **Pclass vs Fare**: Relación inversa clara (clase 1 = tarifas altas)\n",
    "- **SibSp vs Parch**: Correlación positiva (familias más grandes)\n",
    "- **Age vs Pclass**: Clase 1-2 tienen mayor rango de edades\n",
    "- **Fare vs variables familiares**: Tendencia positiva débil\n",
    "\n",
    "**Implicaciones para el modelo:**\n",
    "- Necesidad de imputar datos faltantes en Age\n",
    "- Posible normalización/estandarización por sesgo\n",
    "- Considerar interacciones entre variables familiares\n",
    "- La relación Pclass-Fare podría ser redundante"
   ]
  },
  {
   "cell_type": "markdown",
   "id": "0b9b129f",
   "metadata": {},
   "source": [
    "####  PCA CON DATOS DE TEST"
   ]
  },
  {
   "cell_type": "code",
   "execution_count": 7,
   "id": "46212f10",
   "metadata": {},
   "outputs": [
    {
     "data": {
      "application/vnd.plotly.v1+json": {
       "config": {
        "plotlyServerURL": "https://plot.ly"
       },
       "data": [
        {
         "marker": {
          "color": "orange"
         },
         "mode": "lines+markers",
         "type": "scatter",
         "x": [
          1,
          2,
          3,
          4,
          5
         ],
         "y": {
          "bdata": "bjdxmOn31z+ve6JK6SHRP/cnQdvsEMM/leQa185rwT9xGvkOPZ+yPw==",
          "dtype": "f8"
         }
        }
       ],
       "layout": {
        "template": {
         "data": {
          "bar": [
           {
            "error_x": {
             "color": "#f2f5fa"
            },
            "error_y": {
             "color": "#f2f5fa"
            },
            "marker": {
             "line": {
              "color": "rgb(17,17,17)",
              "width": 0.5
             },
             "pattern": {
              "fillmode": "overlay",
              "size": 10,
              "solidity": 0.2
             }
            },
            "type": "bar"
           }
          ],
          "barpolar": [
           {
            "marker": {
             "line": {
              "color": "rgb(17,17,17)",
              "width": 0.5
             },
             "pattern": {
              "fillmode": "overlay",
              "size": 10,
              "solidity": 0.2
             }
            },
            "type": "barpolar"
           }
          ],
          "carpet": [
           {
            "aaxis": {
             "endlinecolor": "#A2B1C6",
             "gridcolor": "#506784",
             "linecolor": "#506784",
             "minorgridcolor": "#506784",
             "startlinecolor": "#A2B1C6"
            },
            "baxis": {
             "endlinecolor": "#A2B1C6",
             "gridcolor": "#506784",
             "linecolor": "#506784",
             "minorgridcolor": "#506784",
             "startlinecolor": "#A2B1C6"
            },
            "type": "carpet"
           }
          ],
          "choropleth": [
           {
            "colorbar": {
             "outlinewidth": 0,
             "ticks": ""
            },
            "type": "choropleth"
           }
          ],
          "contour": [
           {
            "colorbar": {
             "outlinewidth": 0,
             "ticks": ""
            },
            "colorscale": [
             [
              0,
              "#0d0887"
             ],
             [
              0.1111111111111111,
              "#46039f"
             ],
             [
              0.2222222222222222,
              "#7201a8"
             ],
             [
              0.3333333333333333,
              "#9c179e"
             ],
             [
              0.4444444444444444,
              "#bd3786"
             ],
             [
              0.5555555555555556,
              "#d8576b"
             ],
             [
              0.6666666666666666,
              "#ed7953"
             ],
             [
              0.7777777777777778,
              "#fb9f3a"
             ],
             [
              0.8888888888888888,
              "#fdca26"
             ],
             [
              1,
              "#f0f921"
             ]
            ],
            "type": "contour"
           }
          ],
          "contourcarpet": [
           {
            "colorbar": {
             "outlinewidth": 0,
             "ticks": ""
            },
            "type": "contourcarpet"
           }
          ],
          "heatmap": [
           {
            "colorbar": {
             "outlinewidth": 0,
             "ticks": ""
            },
            "colorscale": [
             [
              0,
              "#0d0887"
             ],
             [
              0.1111111111111111,
              "#46039f"
             ],
             [
              0.2222222222222222,
              "#7201a8"
             ],
             [
              0.3333333333333333,
              "#9c179e"
             ],
             [
              0.4444444444444444,
              "#bd3786"
             ],
             [
              0.5555555555555556,
              "#d8576b"
             ],
             [
              0.6666666666666666,
              "#ed7953"
             ],
             [
              0.7777777777777778,
              "#fb9f3a"
             ],
             [
              0.8888888888888888,
              "#fdca26"
             ],
             [
              1,
              "#f0f921"
             ]
            ],
            "type": "heatmap"
           }
          ],
          "histogram": [
           {
            "marker": {
             "pattern": {
              "fillmode": "overlay",
              "size": 10,
              "solidity": 0.2
             }
            },
            "type": "histogram"
           }
          ],
          "histogram2d": [
           {
            "colorbar": {
             "outlinewidth": 0,
             "ticks": ""
            },
            "colorscale": [
             [
              0,
              "#0d0887"
             ],
             [
              0.1111111111111111,
              "#46039f"
             ],
             [
              0.2222222222222222,
              "#7201a8"
             ],
             [
              0.3333333333333333,
              "#9c179e"
             ],
             [
              0.4444444444444444,
              "#bd3786"
             ],
             [
              0.5555555555555556,
              "#d8576b"
             ],
             [
              0.6666666666666666,
              "#ed7953"
             ],
             [
              0.7777777777777778,
              "#fb9f3a"
             ],
             [
              0.8888888888888888,
              "#fdca26"
             ],
             [
              1,
              "#f0f921"
             ]
            ],
            "type": "histogram2d"
           }
          ],
          "histogram2dcontour": [
           {
            "colorbar": {
             "outlinewidth": 0,
             "ticks": ""
            },
            "colorscale": [
             [
              0,
              "#0d0887"
             ],
             [
              0.1111111111111111,
              "#46039f"
             ],
             [
              0.2222222222222222,
              "#7201a8"
             ],
             [
              0.3333333333333333,
              "#9c179e"
             ],
             [
              0.4444444444444444,
              "#bd3786"
             ],
             [
              0.5555555555555556,
              "#d8576b"
             ],
             [
              0.6666666666666666,
              "#ed7953"
             ],
             [
              0.7777777777777778,
              "#fb9f3a"
             ],
             [
              0.8888888888888888,
              "#fdca26"
             ],
             [
              1,
              "#f0f921"
             ]
            ],
            "type": "histogram2dcontour"
           }
          ],
          "mesh3d": [
           {
            "colorbar": {
             "outlinewidth": 0,
             "ticks": ""
            },
            "type": "mesh3d"
           }
          ],
          "parcoords": [
           {
            "line": {
             "colorbar": {
              "outlinewidth": 0,
              "ticks": ""
             }
            },
            "type": "parcoords"
           }
          ],
          "pie": [
           {
            "automargin": true,
            "type": "pie"
           }
          ],
          "scatter": [
           {
            "marker": {
             "line": {
              "color": "#283442"
             }
            },
            "type": "scatter"
           }
          ],
          "scatter3d": [
           {
            "line": {
             "colorbar": {
              "outlinewidth": 0,
              "ticks": ""
             }
            },
            "marker": {
             "colorbar": {
              "outlinewidth": 0,
              "ticks": ""
             }
            },
            "type": "scatter3d"
           }
          ],
          "scattercarpet": [
           {
            "marker": {
             "colorbar": {
              "outlinewidth": 0,
              "ticks": ""
             }
            },
            "type": "scattercarpet"
           }
          ],
          "scattergeo": [
           {
            "marker": {
             "colorbar": {
              "outlinewidth": 0,
              "ticks": ""
             }
            },
            "type": "scattergeo"
           }
          ],
          "scattergl": [
           {
            "marker": {
             "line": {
              "color": "#283442"
             }
            },
            "type": "scattergl"
           }
          ],
          "scattermap": [
           {
            "marker": {
             "colorbar": {
              "outlinewidth": 0,
              "ticks": ""
             }
            },
            "type": "scattermap"
           }
          ],
          "scattermapbox": [
           {
            "marker": {
             "colorbar": {
              "outlinewidth": 0,
              "ticks": ""
             }
            },
            "type": "scattermapbox"
           }
          ],
          "scatterpolar": [
           {
            "marker": {
             "colorbar": {
              "outlinewidth": 0,
              "ticks": ""
             }
            },
            "type": "scatterpolar"
           }
          ],
          "scatterpolargl": [
           {
            "marker": {
             "colorbar": {
              "outlinewidth": 0,
              "ticks": ""
             }
            },
            "type": "scatterpolargl"
           }
          ],
          "scatterternary": [
           {
            "marker": {
             "colorbar": {
              "outlinewidth": 0,
              "ticks": ""
             }
            },
            "type": "scatterternary"
           }
          ],
          "surface": [
           {
            "colorbar": {
             "outlinewidth": 0,
             "ticks": ""
            },
            "colorscale": [
             [
              0,
              "#0d0887"
             ],
             [
              0.1111111111111111,
              "#46039f"
             ],
             [
              0.2222222222222222,
              "#7201a8"
             ],
             [
              0.3333333333333333,
              "#9c179e"
             ],
             [
              0.4444444444444444,
              "#bd3786"
             ],
             [
              0.5555555555555556,
              "#d8576b"
             ],
             [
              0.6666666666666666,
              "#ed7953"
             ],
             [
              0.7777777777777778,
              "#fb9f3a"
             ],
             [
              0.8888888888888888,
              "#fdca26"
             ],
             [
              1,
              "#f0f921"
             ]
            ],
            "type": "surface"
           }
          ],
          "table": [
           {
            "cells": {
             "fill": {
              "color": "#506784"
             },
             "line": {
              "color": "rgb(17,17,17)"
             }
            },
            "header": {
             "fill": {
              "color": "#2a3f5f"
             },
             "line": {
              "color": "rgb(17,17,17)"
             }
            },
            "type": "table"
           }
          ]
         },
         "layout": {
          "annotationdefaults": {
           "arrowcolor": "#f2f5fa",
           "arrowhead": 0,
           "arrowwidth": 1
          },
          "autotypenumbers": "strict",
          "coloraxis": {
           "colorbar": {
            "outlinewidth": 0,
            "ticks": ""
           }
          },
          "colorscale": {
           "diverging": [
            [
             0,
             "#8e0152"
            ],
            [
             0.1,
             "#c51b7d"
            ],
            [
             0.2,
             "#de77ae"
            ],
            [
             0.3,
             "#f1b6da"
            ],
            [
             0.4,
             "#fde0ef"
            ],
            [
             0.5,
             "#f7f7f7"
            ],
            [
             0.6,
             "#e6f5d0"
            ],
            [
             0.7,
             "#b8e186"
            ],
            [
             0.8,
             "#7fbc41"
            ],
            [
             0.9,
             "#4d9221"
            ],
            [
             1,
             "#276419"
            ]
           ],
           "sequential": [
            [
             0,
             "#0d0887"
            ],
            [
             0.1111111111111111,
             "#46039f"
            ],
            [
             0.2222222222222222,
             "#7201a8"
            ],
            [
             0.3333333333333333,
             "#9c179e"
            ],
            [
             0.4444444444444444,
             "#bd3786"
            ],
            [
             0.5555555555555556,
             "#d8576b"
            ],
            [
             0.6666666666666666,
             "#ed7953"
            ],
            [
             0.7777777777777778,
             "#fb9f3a"
            ],
            [
             0.8888888888888888,
             "#fdca26"
            ],
            [
             1,
             "#f0f921"
            ]
           ],
           "sequentialminus": [
            [
             0,
             "#0d0887"
            ],
            [
             0.1111111111111111,
             "#46039f"
            ],
            [
             0.2222222222222222,
             "#7201a8"
            ],
            [
             0.3333333333333333,
             "#9c179e"
            ],
            [
             0.4444444444444444,
             "#bd3786"
            ],
            [
             0.5555555555555556,
             "#d8576b"
            ],
            [
             0.6666666666666666,
             "#ed7953"
            ],
            [
             0.7777777777777778,
             "#fb9f3a"
            ],
            [
             0.8888888888888888,
             "#fdca26"
            ],
            [
             1,
             "#f0f921"
            ]
           ]
          },
          "colorway": [
           "#636efa",
           "#EF553B",
           "#00cc96",
           "#ab63fa",
           "#FFA15A",
           "#19d3f3",
           "#FF6692",
           "#B6E880",
           "#FF97FF",
           "#FECB52"
          ],
          "font": {
           "color": "#f2f5fa"
          },
          "geo": {
           "bgcolor": "rgb(17,17,17)",
           "lakecolor": "rgb(17,17,17)",
           "landcolor": "rgb(17,17,17)",
           "showlakes": true,
           "showland": true,
           "subunitcolor": "#506784"
          },
          "hoverlabel": {
           "align": "left"
          },
          "hovermode": "closest",
          "mapbox": {
           "style": "dark"
          },
          "paper_bgcolor": "rgb(17,17,17)",
          "plot_bgcolor": "rgb(17,17,17)",
          "polar": {
           "angularaxis": {
            "gridcolor": "#506784",
            "linecolor": "#506784",
            "ticks": ""
           },
           "bgcolor": "rgb(17,17,17)",
           "radialaxis": {
            "gridcolor": "#506784",
            "linecolor": "#506784",
            "ticks": ""
           }
          },
          "scene": {
           "xaxis": {
            "backgroundcolor": "rgb(17,17,17)",
            "gridcolor": "#506784",
            "gridwidth": 2,
            "linecolor": "#506784",
            "showbackground": true,
            "ticks": "",
            "zerolinecolor": "#C8D4E3"
           },
           "yaxis": {
            "backgroundcolor": "rgb(17,17,17)",
            "gridcolor": "#506784",
            "gridwidth": 2,
            "linecolor": "#506784",
            "showbackground": true,
            "ticks": "",
            "zerolinecolor": "#C8D4E3"
           },
           "zaxis": {
            "backgroundcolor": "rgb(17,17,17)",
            "gridcolor": "#506784",
            "gridwidth": 2,
            "linecolor": "#506784",
            "showbackground": true,
            "ticks": "",
            "zerolinecolor": "#C8D4E3"
           }
          },
          "shapedefaults": {
           "line": {
            "color": "#f2f5fa"
           }
          },
          "sliderdefaults": {
           "bgcolor": "#C8D4E3",
           "bordercolor": "rgb(17,17,17)",
           "borderwidth": 1,
           "tickwidth": 0
          },
          "ternary": {
           "aaxis": {
            "gridcolor": "#506784",
            "linecolor": "#506784",
            "ticks": ""
           },
           "baxis": {
            "gridcolor": "#506784",
            "linecolor": "#506784",
            "ticks": ""
           },
           "bgcolor": "rgb(17,17,17)",
           "caxis": {
            "gridcolor": "#506784",
            "linecolor": "#506784",
            "ticks": ""
           }
          },
          "title": {
           "x": 0.05
          },
          "updatemenudefaults": {
           "bgcolor": "#506784",
           "borderwidth": 0
          },
          "xaxis": {
           "automargin": true,
           "gridcolor": "#283442",
           "linecolor": "#506784",
           "ticks": "",
           "title": {
            "standoff": 15
           },
           "zerolinecolor": "#283442",
           "zerolinewidth": 2
          },
          "yaxis": {
           "automargin": true,
           "gridcolor": "#283442",
           "linecolor": "#506784",
           "ticks": "",
           "title": {
            "standoff": 15
           },
           "zerolinecolor": "#283442",
           "zerolinewidth": 2
          }
         }
        },
        "title": {
         "text": "Porcentaje de varianza explicada por componente"
        },
        "xaxis": {
         "tickmode": "array",
         "tickvals": [
          1,
          2,
          3,
          4,
          5
         ],
         "title": {
          "text": "Componentes"
         }
        },
        "yaxis": {
         "title": {
          "text": "Porcentaje de varianza"
         }
        }
       }
      }
     },
     "metadata": {},
     "output_type": "display_data"
    }
   ],
   "source": [
    "# PCA con datos de test (código original)\n",
    "numeric_scaled = StandardScaler().fit_transform(numeric_data)\n",
    "\n",
    "# PCA para 95% de varianza\n",
    "pca_95 = PCA(n_components=0.95).fit(numeric_scaled)\n",
    "varianza_exp = pca_95.explained_variance_ratio_\n",
    "\n",
    "fig = go.Figure()\n",
    "fig.add_trace(\n",
    "    go.Scatter(\n",
    "        x=list(range(1, len(varianza_exp) + 1)),\n",
    "        y=varianza_exp,\n",
    "        mode=\"lines+markers\",\n",
    "        marker=dict(color=\"orange\")\n",
    "    )\n",
    ")\n",
    "fig.update_layout(\n",
    "    template=\"plotly_dark\",\n",
    "    xaxis=dict(\n",
    "        title_text=\"Componentes\",\n",
    "        tickmode=\"array\",\n",
    "        tickvals=list(range(1, len(varianza_exp) + 1))\n",
    "    ),\n",
    "    yaxis_title=\"Porcentaje de varianza\",\n",
    "    title=\"Porcentaje de varianza explicada por componente\"\n",
    ")\n",
    "fig.show()"
   ]
  },
  {
   "cell_type": "markdown",
   "id": "92c9a059",
   "metadata": {},
   "source": [
    "##### Explicación del Porcentaje de Varianza Explicada por Componente (PCA)\n",
    "\n",
    "**Resultados obtenidos:**\n",
    "El gráfico muestra el porcentaje de varianza total de los datos que es explicada por cada componente principal (PCA).\n",
    "\n",
    "**Distribución de varianza por componente:**\n",
    "- **Componente 1:** Explica aproximadamente el 36% de la varianza\n",
    "- **Componente 2:** Explica aproximadamente el 27% de la varianza  \n",
    "- **Componente 3:** Explica aproximadamente el 15% de la varianza\n",
    "- **Componente 4:** Explica aproximadamente el 14% de la varianza\n",
    "- **Componente 5:** Explica aproximadamente el 8% de la varianza\n",
    "\n",
    "**Análisis del Scree Plot:**\n",
    "Este gráfico, conocido como \"scree plot\" o \"gráfico de codo\", es fundamental en PCA para determinar el número óptimo de componentes a retener.\n",
    "\n",
    "**Observaciones clave:**\n",
    "- Se observa una caída significativa en el porcentaje de varianza explicada desde el primer componente hasta el tercer componente\n",
    "- Después del tercer componente, la disminución en la varianza explicada se vuelve mucho menos pronunciada\n",
    "- Se forma un \"codo\" o \"punto de inflexión\" alrededor del Componente 3\n",
    "\n",
    "**Implicaciones para el modelo:**\n",
    "- El \"codo\" en el Componente 3 sugiere que los primeros tres componentes principales capturan una parte sustancial de la varianza total\n",
    "- Los componentes posteriores (4 y 5) contribuyen con información marginalmente menor\n",
    "- Para este conjunto de datos, retener 3 componentes principales podría ser un buen equilibrio entre reducción de dimensionalidad y retención de información relevante\n",
    "- Los primeros dos componentes explican más del 60% de la varianza total, lo que indica una buena capacidad de compresión de la información"
   ]
  },
  {
   "cell_type": "markdown",
   "id": "ba18c7c9",
   "metadata": {},
   "source": [
    "#### VARIANZA ACUMULADA"
   ]
  },
  {
   "cell_type": "code",
   "execution_count": 8,
   "id": "85e235b1",
   "metadata": {},
   "outputs": [
    {
     "data": {
      "application/vnd.plotly.v1+json": {
       "config": {
        "plotlyServerURL": "https://plot.ly"
       },
       "data": [
        {
         "marker": {
          "color": "deepskyblue"
         },
         "mode": "lines+markers",
         "type": "scatter",
         "x": [
          1,
          2,
          3,
          4,
          5
         ],
         "y": {
          "bdata": "bjdxmOn31z+O2Ylx6YzkP4wjWqgkUek/sdwgXhis7T/////////vPw==",
          "dtype": "f8"
         }
        }
       ],
       "layout": {
        "template": {
         "data": {
          "bar": [
           {
            "error_x": {
             "color": "#f2f5fa"
            },
            "error_y": {
             "color": "#f2f5fa"
            },
            "marker": {
             "line": {
              "color": "rgb(17,17,17)",
              "width": 0.5
             },
             "pattern": {
              "fillmode": "overlay",
              "size": 10,
              "solidity": 0.2
             }
            },
            "type": "bar"
           }
          ],
          "barpolar": [
           {
            "marker": {
             "line": {
              "color": "rgb(17,17,17)",
              "width": 0.5
             },
             "pattern": {
              "fillmode": "overlay",
              "size": 10,
              "solidity": 0.2
             }
            },
            "type": "barpolar"
           }
          ],
          "carpet": [
           {
            "aaxis": {
             "endlinecolor": "#A2B1C6",
             "gridcolor": "#506784",
             "linecolor": "#506784",
             "minorgridcolor": "#506784",
             "startlinecolor": "#A2B1C6"
            },
            "baxis": {
             "endlinecolor": "#A2B1C6",
             "gridcolor": "#506784",
             "linecolor": "#506784",
             "minorgridcolor": "#506784",
             "startlinecolor": "#A2B1C6"
            },
            "type": "carpet"
           }
          ],
          "choropleth": [
           {
            "colorbar": {
             "outlinewidth": 0,
             "ticks": ""
            },
            "type": "choropleth"
           }
          ],
          "contour": [
           {
            "colorbar": {
             "outlinewidth": 0,
             "ticks": ""
            },
            "colorscale": [
             [
              0,
              "#0d0887"
             ],
             [
              0.1111111111111111,
              "#46039f"
             ],
             [
              0.2222222222222222,
              "#7201a8"
             ],
             [
              0.3333333333333333,
              "#9c179e"
             ],
             [
              0.4444444444444444,
              "#bd3786"
             ],
             [
              0.5555555555555556,
              "#d8576b"
             ],
             [
              0.6666666666666666,
              "#ed7953"
             ],
             [
              0.7777777777777778,
              "#fb9f3a"
             ],
             [
              0.8888888888888888,
              "#fdca26"
             ],
             [
              1,
              "#f0f921"
             ]
            ],
            "type": "contour"
           }
          ],
          "contourcarpet": [
           {
            "colorbar": {
             "outlinewidth": 0,
             "ticks": ""
            },
            "type": "contourcarpet"
           }
          ],
          "heatmap": [
           {
            "colorbar": {
             "outlinewidth": 0,
             "ticks": ""
            },
            "colorscale": [
             [
              0,
              "#0d0887"
             ],
             [
              0.1111111111111111,
              "#46039f"
             ],
             [
              0.2222222222222222,
              "#7201a8"
             ],
             [
              0.3333333333333333,
              "#9c179e"
             ],
             [
              0.4444444444444444,
              "#bd3786"
             ],
             [
              0.5555555555555556,
              "#d8576b"
             ],
             [
              0.6666666666666666,
              "#ed7953"
             ],
             [
              0.7777777777777778,
              "#fb9f3a"
             ],
             [
              0.8888888888888888,
              "#fdca26"
             ],
             [
              1,
              "#f0f921"
             ]
            ],
            "type": "heatmap"
           }
          ],
          "histogram": [
           {
            "marker": {
             "pattern": {
              "fillmode": "overlay",
              "size": 10,
              "solidity": 0.2
             }
            },
            "type": "histogram"
           }
          ],
          "histogram2d": [
           {
            "colorbar": {
             "outlinewidth": 0,
             "ticks": ""
            },
            "colorscale": [
             [
              0,
              "#0d0887"
             ],
             [
              0.1111111111111111,
              "#46039f"
             ],
             [
              0.2222222222222222,
              "#7201a8"
             ],
             [
              0.3333333333333333,
              "#9c179e"
             ],
             [
              0.4444444444444444,
              "#bd3786"
             ],
             [
              0.5555555555555556,
              "#d8576b"
             ],
             [
              0.6666666666666666,
              "#ed7953"
             ],
             [
              0.7777777777777778,
              "#fb9f3a"
             ],
             [
              0.8888888888888888,
              "#fdca26"
             ],
             [
              1,
              "#f0f921"
             ]
            ],
            "type": "histogram2d"
           }
          ],
          "histogram2dcontour": [
           {
            "colorbar": {
             "outlinewidth": 0,
             "ticks": ""
            },
            "colorscale": [
             [
              0,
              "#0d0887"
             ],
             [
              0.1111111111111111,
              "#46039f"
             ],
             [
              0.2222222222222222,
              "#7201a8"
             ],
             [
              0.3333333333333333,
              "#9c179e"
             ],
             [
              0.4444444444444444,
              "#bd3786"
             ],
             [
              0.5555555555555556,
              "#d8576b"
             ],
             [
              0.6666666666666666,
              "#ed7953"
             ],
             [
              0.7777777777777778,
              "#fb9f3a"
             ],
             [
              0.8888888888888888,
              "#fdca26"
             ],
             [
              1,
              "#f0f921"
             ]
            ],
            "type": "histogram2dcontour"
           }
          ],
          "mesh3d": [
           {
            "colorbar": {
             "outlinewidth": 0,
             "ticks": ""
            },
            "type": "mesh3d"
           }
          ],
          "parcoords": [
           {
            "line": {
             "colorbar": {
              "outlinewidth": 0,
              "ticks": ""
             }
            },
            "type": "parcoords"
           }
          ],
          "pie": [
           {
            "automargin": true,
            "type": "pie"
           }
          ],
          "scatter": [
           {
            "marker": {
             "line": {
              "color": "#283442"
             }
            },
            "type": "scatter"
           }
          ],
          "scatter3d": [
           {
            "line": {
             "colorbar": {
              "outlinewidth": 0,
              "ticks": ""
             }
            },
            "marker": {
             "colorbar": {
              "outlinewidth": 0,
              "ticks": ""
             }
            },
            "type": "scatter3d"
           }
          ],
          "scattercarpet": [
           {
            "marker": {
             "colorbar": {
              "outlinewidth": 0,
              "ticks": ""
             }
            },
            "type": "scattercarpet"
           }
          ],
          "scattergeo": [
           {
            "marker": {
             "colorbar": {
              "outlinewidth": 0,
              "ticks": ""
             }
            },
            "type": "scattergeo"
           }
          ],
          "scattergl": [
           {
            "marker": {
             "line": {
              "color": "#283442"
             }
            },
            "type": "scattergl"
           }
          ],
          "scattermap": [
           {
            "marker": {
             "colorbar": {
              "outlinewidth": 0,
              "ticks": ""
             }
            },
            "type": "scattermap"
           }
          ],
          "scattermapbox": [
           {
            "marker": {
             "colorbar": {
              "outlinewidth": 0,
              "ticks": ""
             }
            },
            "type": "scattermapbox"
           }
          ],
          "scatterpolar": [
           {
            "marker": {
             "colorbar": {
              "outlinewidth": 0,
              "ticks": ""
             }
            },
            "type": "scatterpolar"
           }
          ],
          "scatterpolargl": [
           {
            "marker": {
             "colorbar": {
              "outlinewidth": 0,
              "ticks": ""
             }
            },
            "type": "scatterpolargl"
           }
          ],
          "scatterternary": [
           {
            "marker": {
             "colorbar": {
              "outlinewidth": 0,
              "ticks": ""
             }
            },
            "type": "scatterternary"
           }
          ],
          "surface": [
           {
            "colorbar": {
             "outlinewidth": 0,
             "ticks": ""
            },
            "colorscale": [
             [
              0,
              "#0d0887"
             ],
             [
              0.1111111111111111,
              "#46039f"
             ],
             [
              0.2222222222222222,
              "#7201a8"
             ],
             [
              0.3333333333333333,
              "#9c179e"
             ],
             [
              0.4444444444444444,
              "#bd3786"
             ],
             [
              0.5555555555555556,
              "#d8576b"
             ],
             [
              0.6666666666666666,
              "#ed7953"
             ],
             [
              0.7777777777777778,
              "#fb9f3a"
             ],
             [
              0.8888888888888888,
              "#fdca26"
             ],
             [
              1,
              "#f0f921"
             ]
            ],
            "type": "surface"
           }
          ],
          "table": [
           {
            "cells": {
             "fill": {
              "color": "#506784"
             },
             "line": {
              "color": "rgb(17,17,17)"
             }
            },
            "header": {
             "fill": {
              "color": "#2a3f5f"
             },
             "line": {
              "color": "rgb(17,17,17)"
             }
            },
            "type": "table"
           }
          ]
         },
         "layout": {
          "annotationdefaults": {
           "arrowcolor": "#f2f5fa",
           "arrowhead": 0,
           "arrowwidth": 1
          },
          "autotypenumbers": "strict",
          "coloraxis": {
           "colorbar": {
            "outlinewidth": 0,
            "ticks": ""
           }
          },
          "colorscale": {
           "diverging": [
            [
             0,
             "#8e0152"
            ],
            [
             0.1,
             "#c51b7d"
            ],
            [
             0.2,
             "#de77ae"
            ],
            [
             0.3,
             "#f1b6da"
            ],
            [
             0.4,
             "#fde0ef"
            ],
            [
             0.5,
             "#f7f7f7"
            ],
            [
             0.6,
             "#e6f5d0"
            ],
            [
             0.7,
             "#b8e186"
            ],
            [
             0.8,
             "#7fbc41"
            ],
            [
             0.9,
             "#4d9221"
            ],
            [
             1,
             "#276419"
            ]
           ],
           "sequential": [
            [
             0,
             "#0d0887"
            ],
            [
             0.1111111111111111,
             "#46039f"
            ],
            [
             0.2222222222222222,
             "#7201a8"
            ],
            [
             0.3333333333333333,
             "#9c179e"
            ],
            [
             0.4444444444444444,
             "#bd3786"
            ],
            [
             0.5555555555555556,
             "#d8576b"
            ],
            [
             0.6666666666666666,
             "#ed7953"
            ],
            [
             0.7777777777777778,
             "#fb9f3a"
            ],
            [
             0.8888888888888888,
             "#fdca26"
            ],
            [
             1,
             "#f0f921"
            ]
           ],
           "sequentialminus": [
            [
             0,
             "#0d0887"
            ],
            [
             0.1111111111111111,
             "#46039f"
            ],
            [
             0.2222222222222222,
             "#7201a8"
            ],
            [
             0.3333333333333333,
             "#9c179e"
            ],
            [
             0.4444444444444444,
             "#bd3786"
            ],
            [
             0.5555555555555556,
             "#d8576b"
            ],
            [
             0.6666666666666666,
             "#ed7953"
            ],
            [
             0.7777777777777778,
             "#fb9f3a"
            ],
            [
             0.8888888888888888,
             "#fdca26"
            ],
            [
             1,
             "#f0f921"
            ]
           ]
          },
          "colorway": [
           "#636efa",
           "#EF553B",
           "#00cc96",
           "#ab63fa",
           "#FFA15A",
           "#19d3f3",
           "#FF6692",
           "#B6E880",
           "#FF97FF",
           "#FECB52"
          ],
          "font": {
           "color": "#f2f5fa"
          },
          "geo": {
           "bgcolor": "rgb(17,17,17)",
           "lakecolor": "rgb(17,17,17)",
           "landcolor": "rgb(17,17,17)",
           "showlakes": true,
           "showland": true,
           "subunitcolor": "#506784"
          },
          "hoverlabel": {
           "align": "left"
          },
          "hovermode": "closest",
          "mapbox": {
           "style": "dark"
          },
          "paper_bgcolor": "rgb(17,17,17)",
          "plot_bgcolor": "rgb(17,17,17)",
          "polar": {
           "angularaxis": {
            "gridcolor": "#506784",
            "linecolor": "#506784",
            "ticks": ""
           },
           "bgcolor": "rgb(17,17,17)",
           "radialaxis": {
            "gridcolor": "#506784",
            "linecolor": "#506784",
            "ticks": ""
           }
          },
          "scene": {
           "xaxis": {
            "backgroundcolor": "rgb(17,17,17)",
            "gridcolor": "#506784",
            "gridwidth": 2,
            "linecolor": "#506784",
            "showbackground": true,
            "ticks": "",
            "zerolinecolor": "#C8D4E3"
           },
           "yaxis": {
            "backgroundcolor": "rgb(17,17,17)",
            "gridcolor": "#506784",
            "gridwidth": 2,
            "linecolor": "#506784",
            "showbackground": true,
            "ticks": "",
            "zerolinecolor": "#C8D4E3"
           },
           "zaxis": {
            "backgroundcolor": "rgb(17,17,17)",
            "gridcolor": "#506784",
            "gridwidth": 2,
            "linecolor": "#506784",
            "showbackground": true,
            "ticks": "",
            "zerolinecolor": "#C8D4E3"
           }
          },
          "shapedefaults": {
           "line": {
            "color": "#f2f5fa"
           }
          },
          "sliderdefaults": {
           "bgcolor": "#C8D4E3",
           "bordercolor": "rgb(17,17,17)",
           "borderwidth": 1,
           "tickwidth": 0
          },
          "ternary": {
           "aaxis": {
            "gridcolor": "#506784",
            "linecolor": "#506784",
            "ticks": ""
           },
           "baxis": {
            "gridcolor": "#506784",
            "linecolor": "#506784",
            "ticks": ""
           },
           "bgcolor": "rgb(17,17,17)",
           "caxis": {
            "gridcolor": "#506784",
            "linecolor": "#506784",
            "ticks": ""
           }
          },
          "title": {
           "x": 0.05
          },
          "updatemenudefaults": {
           "bgcolor": "#506784",
           "borderwidth": 0
          },
          "xaxis": {
           "automargin": true,
           "gridcolor": "#283442",
           "linecolor": "#506784",
           "ticks": "",
           "title": {
            "standoff": 15
           },
           "zerolinecolor": "#283442",
           "zerolinewidth": 2
          },
          "yaxis": {
           "automargin": true,
           "gridcolor": "#283442",
           "linecolor": "#506784",
           "ticks": "",
           "title": {
            "standoff": 15
           },
           "zerolinecolor": "#283442",
           "zerolinewidth": 2
          }
         }
        },
        "title": {
         "text": "Suma acumulada para cada componente"
        },
        "xaxis": {
         "tickmode": "array",
         "tickvals": [
          1,
          2,
          3,
          4,
          5
         ],
         "title": {
          "text": "Componentes"
         }
        },
        "yaxis": {
         "title": {
          "text": "Suma acumulada"
         }
        }
       }
      }
     },
     "metadata": {},
     "output_type": "display_data"
    }
   ],
   "source": [
    "# Varianza acumulada \n",
    "cumsum_var = np.cumsum(varianza_exp)\n",
    "\n",
    "fig = go.Figure()\n",
    "fig.add_trace(\n",
    "    go.Scatter(\n",
    "        x=list(range(1, len(varianza_exp) + 1)),\n",
    "        y=cumsum_var,\n",
    "        mode=\"lines+markers\",\n",
    "        marker=dict(color=\"deepskyblue\")\n",
    "    )\n",
    ")\n",
    "fig.update_layout(\n",
    "    template=\"plotly_dark\",\n",
    "    xaxis=dict(\n",
    "        title_text=\"Componentes\",\n",
    "        tickmode=\"array\",\n",
    "        tickvals=list(range(1, len(varianza_exp) + 1))\n",
    "    ),\n",
    "    yaxis_title=\"Suma acumulada\",\n",
    "    title=\"Suma acumulada para cada componente\"\n",
    ")\n",
    "fig.show()"
   ]
  },
  {
   "cell_type": "markdown",
   "id": "df93bea1",
   "metadata": {},
   "source": [
    "##### Explicación de la Suma Acumulada de Varianza por Componente\n",
    "\n",
    "**Resultados obtenidos:**\n",
    "El gráfico muestra la suma acumulada de la varianza explicada por cada componente principal.\n",
    "\n",
    "**Distribución de varianza acumulada:**\n",
    "- **Componente 1:** Explica aproximadamente el 36% de la varianza total\n",
    "- **Componente 2:** La suma acumulada alcanza alrededor del 63% (36% + 27%)\n",
    "- **Componente 3:** La suma acumulada llega a aproximadamente el 78% (63% + 15%)\n",
    "- **Componente 4:** La suma acumulada se sitúa en torno al 92% (78% + 14%)\n",
    "- **Componente 5:** Con cinco componentes, se explica casi el 100% de la varianza total\n",
    "\n",
    "**Análisis del gráfico:**\n",
    "Este gráfico es crucial para decidir cuántos componentes principales retener en un análisis PCA.\n",
    "\n",
    "**Observaciones importantes:**\n",
    "- Con solo 2 componentes se explica más del 60% de la varianza\n",
    "- Con 3 componentes se alcanza casi el 80% de la varianza\n",
    "- Con 4 componentes se supera el 90% de la varianza\n",
    "- Con 5 componentes se explica prácticamente toda la varianza\n",
    "\n",
    "**Implicaciones para el modelo:**\n",
    "- **Reducción de dimensionalidad efectiva:** Se puede reducir de 5 a 3 variables sin perder mucha información\n",
    "- **Umbral del 95%:** Si queremos retener el 95% de la varianza, necesitaríamos 4 componentes\n",
    "- **Umbral del 80%:** Si aceptamos el 80% de la varianza, solo necesitaríamos 3 componentes\n",
    "- **Eficiencia:** Los primeros 2 componentes ya explican más de la mitad de la variabilidad total\n",
    "- **Compresión de datos:** Se logra una compresión significativa manteniendo la información más relevante"
   ]
  },
  {
   "cell_type": "markdown",
   "id": "72764bd0",
   "metadata": {},
   "source": [
    "#### CÍRCULO DE CORRELACIONES"
   ]
  },
  {
   "cell_type": "code",
   "execution_count": 9,
   "id": "0c75f2e1",
   "metadata": {},
   "outputs": [
    {
     "data": {
      "application/vnd.plotly.v1+json": {
       "config": {
        "plotlyServerURL": "https://plot.ly"
       },
       "data": [
        {
         "marker": {
          "color": "red"
         },
         "mode": "lines",
         "showlegend": false,
         "type": "scatter",
         "x": {
          "bdata": "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",
          "dtype": "f8"
         },
         "y": {
          "bdata": "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",
          "dtype": "f8"
         }
        },
        {
         "mode": "markers+text",
         "showlegend": false,
         "text": [
          "Pclass"
         ],
         "textposition": "top center",
         "type": "scatter",
         "x": [
          -0.8064932591221456
         ],
         "y": [
          0.30848668991449524
         ]
        },
        {
         "mode": "markers+text",
         "showlegend": false,
         "text": [
          "Age"
         ],
         "textposition": "top center",
         "type": "scatter",
         "x": [
          0.5974383896461046
         ],
         "y": [
          -0.3567365164122024
         ]
        },
        {
         "mode": "markers+text",
         "showlegend": false,
         "text": [
          "SibSp"
         ],
         "textposition": "top center",
         "type": "scatter",
         "x": [
          0.23822326295072485
         ],
         "y": [
          0.7572745619920476
         ]
        },
        {
         "mode": "markers+text",
         "showlegend": false,
         "text": [
          "Parch"
         ],
         "textposition": "top center",
         "type": "scatter",
         "x": [
          0.3016293031048777
         ],
         "y": [
          0.7354306482084532
         ]
        },
        {
         "mode": "markers+text",
         "showlegend": false,
         "text": [
          "Fare"
         ],
         "textposition": "top center",
         "type": "scatter",
         "x": [
          0.8496633472623017
         ],
         "y": [
          0.0702545014118076
         ]
        }
       ],
       "layout": {
        "template": {
         "data": {
          "bar": [
           {
            "error_x": {
             "color": "#f2f5fa"
            },
            "error_y": {
             "color": "#f2f5fa"
            },
            "marker": {
             "line": {
              "color": "rgb(17,17,17)",
              "width": 0.5
             },
             "pattern": {
              "fillmode": "overlay",
              "size": 10,
              "solidity": 0.2
             }
            },
            "type": "bar"
           }
          ],
          "barpolar": [
           {
            "marker": {
             "line": {
              "color": "rgb(17,17,17)",
              "width": 0.5
             },
             "pattern": {
              "fillmode": "overlay",
              "size": 10,
              "solidity": 0.2
             }
            },
            "type": "barpolar"
           }
          ],
          "carpet": [
           {
            "aaxis": {
             "endlinecolor": "#A2B1C6",
             "gridcolor": "#506784",
             "linecolor": "#506784",
             "minorgridcolor": "#506784",
             "startlinecolor": "#A2B1C6"
            },
            "baxis": {
             "endlinecolor": "#A2B1C6",
             "gridcolor": "#506784",
             "linecolor": "#506784",
             "minorgridcolor": "#506784",
             "startlinecolor": "#A2B1C6"
            },
            "type": "carpet"
           }
          ],
          "choropleth": [
           {
            "colorbar": {
             "outlinewidth": 0,
             "ticks": ""
            },
            "type": "choropleth"
           }
          ],
          "contour": [
           {
            "colorbar": {
             "outlinewidth": 0,
             "ticks": ""
            },
            "colorscale": [
             [
              0,
              "#0d0887"
             ],
             [
              0.1111111111111111,
              "#46039f"
             ],
             [
              0.2222222222222222,
              "#7201a8"
             ],
             [
              0.3333333333333333,
              "#9c179e"
             ],
             [
              0.4444444444444444,
              "#bd3786"
             ],
             [
              0.5555555555555556,
              "#d8576b"
             ],
             [
              0.6666666666666666,
              "#ed7953"
             ],
             [
              0.7777777777777778,
              "#fb9f3a"
             ],
             [
              0.8888888888888888,
              "#fdca26"
             ],
             [
              1,
              "#f0f921"
             ]
            ],
            "type": "contour"
           }
          ],
          "contourcarpet": [
           {
            "colorbar": {
             "outlinewidth": 0,
             "ticks": ""
            },
            "type": "contourcarpet"
           }
          ],
          "heatmap": [
           {
            "colorbar": {
             "outlinewidth": 0,
             "ticks": ""
            },
            "colorscale": [
             [
              0,
              "#0d0887"
             ],
             [
              0.1111111111111111,
              "#46039f"
             ],
             [
              0.2222222222222222,
              "#7201a8"
             ],
             [
              0.3333333333333333,
              "#9c179e"
             ],
             [
              0.4444444444444444,
              "#bd3786"
             ],
             [
              0.5555555555555556,
              "#d8576b"
             ],
             [
              0.6666666666666666,
              "#ed7953"
             ],
             [
              0.7777777777777778,
              "#fb9f3a"
             ],
             [
              0.8888888888888888,
              "#fdca26"
             ],
             [
              1,
              "#f0f921"
             ]
            ],
            "type": "heatmap"
           }
          ],
          "histogram": [
           {
            "marker": {
             "pattern": {
              "fillmode": "overlay",
              "size": 10,
              "solidity": 0.2
             }
            },
            "type": "histogram"
           }
          ],
          "histogram2d": [
           {
            "colorbar": {
             "outlinewidth": 0,
             "ticks": ""
            },
            "colorscale": [
             [
              0,
              "#0d0887"
             ],
             [
              0.1111111111111111,
              "#46039f"
             ],
             [
              0.2222222222222222,
              "#7201a8"
             ],
             [
              0.3333333333333333,
              "#9c179e"
             ],
             [
              0.4444444444444444,
              "#bd3786"
             ],
             [
              0.5555555555555556,
              "#d8576b"
             ],
             [
              0.6666666666666666,
              "#ed7953"
             ],
             [
              0.7777777777777778,
              "#fb9f3a"
             ],
             [
              0.8888888888888888,
              "#fdca26"
             ],
             [
              1,
              "#f0f921"
             ]
            ],
            "type": "histogram2d"
           }
          ],
          "histogram2dcontour": [
           {
            "colorbar": {
             "outlinewidth": 0,
             "ticks": ""
            },
            "colorscale": [
             [
              0,
              "#0d0887"
             ],
             [
              0.1111111111111111,
              "#46039f"
             ],
             [
              0.2222222222222222,
              "#7201a8"
             ],
             [
              0.3333333333333333,
              "#9c179e"
             ],
             [
              0.4444444444444444,
              "#bd3786"
             ],
             [
              0.5555555555555556,
              "#d8576b"
             ],
             [
              0.6666666666666666,
              "#ed7953"
             ],
             [
              0.7777777777777778,
              "#fb9f3a"
             ],
             [
              0.8888888888888888,
              "#fdca26"
             ],
             [
              1,
              "#f0f921"
             ]
            ],
            "type": "histogram2dcontour"
           }
          ],
          "mesh3d": [
           {
            "colorbar": {
             "outlinewidth": 0,
             "ticks": ""
            },
            "type": "mesh3d"
           }
          ],
          "parcoords": [
           {
            "line": {
             "colorbar": {
              "outlinewidth": 0,
              "ticks": ""
             }
            },
            "type": "parcoords"
           }
          ],
          "pie": [
           {
            "automargin": true,
            "type": "pie"
           }
          ],
          "scatter": [
           {
            "marker": {
             "line": {
              "color": "#283442"
             }
            },
            "type": "scatter"
           }
          ],
          "scatter3d": [
           {
            "line": {
             "colorbar": {
              "outlinewidth": 0,
              "ticks": ""
             }
            },
            "marker": {
             "colorbar": {
              "outlinewidth": 0,
              "ticks": ""
             }
            },
            "type": "scatter3d"
           }
          ],
          "scattercarpet": [
           {
            "marker": {
             "colorbar": {
              "outlinewidth": 0,
              "ticks": ""
             }
            },
            "type": "scattercarpet"
           }
          ],
          "scattergeo": [
           {
            "marker": {
             "colorbar": {
              "outlinewidth": 0,
              "ticks": ""
             }
            },
            "type": "scattergeo"
           }
          ],
          "scattergl": [
           {
            "marker": {
             "line": {
              "color": "#283442"
             }
            },
            "type": "scattergl"
           }
          ],
          "scattermap": [
           {
            "marker": {
             "colorbar": {
              "outlinewidth": 0,
              "ticks": ""
             }
            },
            "type": "scattermap"
           }
          ],
          "scattermapbox": [
           {
            "marker": {
             "colorbar": {
              "outlinewidth": 0,
              "ticks": ""
             }
            },
            "type": "scattermapbox"
           }
          ],
          "scatterpolar": [
           {
            "marker": {
             "colorbar": {
              "outlinewidth": 0,
              "ticks": ""
             }
            },
            "type": "scatterpolar"
           }
          ],
          "scatterpolargl": [
           {
            "marker": {
             "colorbar": {
              "outlinewidth": 0,
              "ticks": ""
             }
            },
            "type": "scatterpolargl"
           }
          ],
          "scatterternary": [
           {
            "marker": {
             "colorbar": {
              "outlinewidth": 0,
              "ticks": ""
             }
            },
            "type": "scatterternary"
           }
          ],
          "surface": [
           {
            "colorbar": {
             "outlinewidth": 0,
             "ticks": ""
            },
            "colorscale": [
             [
              0,
              "#0d0887"
             ],
             [
              0.1111111111111111,
              "#46039f"
             ],
             [
              0.2222222222222222,
              "#7201a8"
             ],
             [
              0.3333333333333333,
              "#9c179e"
             ],
             [
              0.4444444444444444,
              "#bd3786"
             ],
             [
              0.5555555555555556,
              "#d8576b"
             ],
             [
              0.6666666666666666,
              "#ed7953"
             ],
             [
              0.7777777777777778,
              "#fb9f3a"
             ],
             [
              0.8888888888888888,
              "#fdca26"
             ],
             [
              1,
              "#f0f921"
             ]
            ],
            "type": "surface"
           }
          ],
          "table": [
           {
            "cells": {
             "fill": {
              "color": "#506784"
             },
             "line": {
              "color": "rgb(17,17,17)"
             }
            },
            "header": {
             "fill": {
              "color": "#2a3f5f"
             },
             "line": {
              "color": "rgb(17,17,17)"
             }
            },
            "type": "table"
           }
          ]
         },
         "layout": {
          "annotationdefaults": {
           "arrowcolor": "#f2f5fa",
           "arrowhead": 0,
           "arrowwidth": 1
          },
          "autotypenumbers": "strict",
          "coloraxis": {
           "colorbar": {
            "outlinewidth": 0,
            "ticks": ""
           }
          },
          "colorscale": {
           "diverging": [
            [
             0,
             "#8e0152"
            ],
            [
             0.1,
             "#c51b7d"
            ],
            [
             0.2,
             "#de77ae"
            ],
            [
             0.3,
             "#f1b6da"
            ],
            [
             0.4,
             "#fde0ef"
            ],
            [
             0.5,
             "#f7f7f7"
            ],
            [
             0.6,
             "#e6f5d0"
            ],
            [
             0.7,
             "#b8e186"
            ],
            [
             0.8,
             "#7fbc41"
            ],
            [
             0.9,
             "#4d9221"
            ],
            [
             1,
             "#276419"
            ]
           ],
           "sequential": [
            [
             0,
             "#0d0887"
            ],
            [
             0.1111111111111111,
             "#46039f"
            ],
            [
             0.2222222222222222,
             "#7201a8"
            ],
            [
             0.3333333333333333,
             "#9c179e"
            ],
            [
             0.4444444444444444,
             "#bd3786"
            ],
            [
             0.5555555555555556,
             "#d8576b"
            ],
            [
             0.6666666666666666,
             "#ed7953"
            ],
            [
             0.7777777777777778,
             "#fb9f3a"
            ],
            [
             0.8888888888888888,
             "#fdca26"
            ],
            [
             1,
             "#f0f921"
            ]
           ],
           "sequentialminus": [
            [
             0,
             "#0d0887"
            ],
            [
             0.1111111111111111,
             "#46039f"
            ],
            [
             0.2222222222222222,
             "#7201a8"
            ],
            [
             0.3333333333333333,
             "#9c179e"
            ],
            [
             0.4444444444444444,
             "#bd3786"
            ],
            [
             0.5555555555555556,
             "#d8576b"
            ],
            [
             0.6666666666666666,
             "#ed7953"
            ],
            [
             0.7777777777777778,
             "#fb9f3a"
            ],
            [
             0.8888888888888888,
             "#fdca26"
            ],
            [
             1,
             "#f0f921"
            ]
           ]
          },
          "colorway": [
           "#636efa",
           "#EF553B",
           "#00cc96",
           "#ab63fa",
           "#FFA15A",
           "#19d3f3",
           "#FF6692",
           "#B6E880",
           "#FF97FF",
           "#FECB52"
          ],
          "font": {
           "color": "#f2f5fa"
          },
          "geo": {
           "bgcolor": "rgb(17,17,17)",
           "lakecolor": "rgb(17,17,17)",
           "landcolor": "rgb(17,17,17)",
           "showlakes": true,
           "showland": true,
           "subunitcolor": "#506784"
          },
          "hoverlabel": {
           "align": "left"
          },
          "hovermode": "closest",
          "mapbox": {
           "style": "dark"
          },
          "paper_bgcolor": "rgb(17,17,17)",
          "plot_bgcolor": "rgb(17,17,17)",
          "polar": {
           "angularaxis": {
            "gridcolor": "#506784",
            "linecolor": "#506784",
            "ticks": ""
           },
           "bgcolor": "rgb(17,17,17)",
           "radialaxis": {
            "gridcolor": "#506784",
            "linecolor": "#506784",
            "ticks": ""
           }
          },
          "scene": {
           "xaxis": {
            "backgroundcolor": "rgb(17,17,17)",
            "gridcolor": "#506784",
            "gridwidth": 2,
            "linecolor": "#506784",
            "showbackground": true,
            "ticks": "",
            "zerolinecolor": "#C8D4E3"
           },
           "yaxis": {
            "backgroundcolor": "rgb(17,17,17)",
            "gridcolor": "#506784",
            "gridwidth": 2,
            "linecolor": "#506784",
            "showbackground": true,
            "ticks": "",
            "zerolinecolor": "#C8D4E3"
           },
           "zaxis": {
            "backgroundcolor": "rgb(17,17,17)",
            "gridcolor": "#506784",
            "gridwidth": 2,
            "linecolor": "#506784",
            "showbackground": true,
            "ticks": "",
            "zerolinecolor": "#C8D4E3"
           }
          },
          "shapedefaults": {
           "line": {
            "color": "#f2f5fa"
           }
          },
          "sliderdefaults": {
           "bgcolor": "#C8D4E3",
           "bordercolor": "rgb(17,17,17)",
           "borderwidth": 1,
           "tickwidth": 0
          },
          "ternary": {
           "aaxis": {
            "gridcolor": "#506784",
            "linecolor": "#506784",
            "ticks": ""
           },
           "baxis": {
            "gridcolor": "#506784",
            "linecolor": "#506784",
            "ticks": ""
           },
           "bgcolor": "rgb(17,17,17)",
           "caxis": {
            "gridcolor": "#506784",
            "linecolor": "#506784",
            "ticks": ""
           }
          },
          "title": {
           "x": 0.05
          },
          "updatemenudefaults": {
           "bgcolor": "#506784",
           "borderwidth": 0
          },
          "xaxis": {
           "automargin": true,
           "gridcolor": "#283442",
           "linecolor": "#506784",
           "ticks": "",
           "title": {
            "standoff": 15
           },
           "zerolinecolor": "#283442",
           "zerolinewidth": 2
          },
          "yaxis": {
           "automargin": true,
           "gridcolor": "#283442",
           "linecolor": "#506784",
           "ticks": "",
           "title": {
            "standoff": 15
           },
           "zerolinecolor": "#283442",
           "zerolinewidth": 2
          }
         }
        },
        "title": {
         "text": "Círculo de correlaciones (PC1 vs PC2)"
        },
        "xaxis": {
         "title": {
          "text": "PC1"
         }
        },
        "yaxis": {
         "scaleanchor": "x",
         "title": {
          "text": "PC2"
         }
        }
       }
      }
     },
     "metadata": {},
     "output_type": "display_data"
    }
   ],
   "source": [
    "# Círculo de correlaciones (código original)\n",
    "pca_data = PCA(n_components=0.90).fit(numeric_scaled)\n",
    "lambdas = pca_data.explained_variance_\n",
    "Gammas = pca_data.components_.T\n",
    "R = Gammas[:, :2] * np.sqrt(lambdas[:2])\n",
    "\n",
    "theta = np.linspace(0, 2*np.pi, 400)\n",
    "\n",
    "fig = go.Figure()\n",
    "fig.add_trace(\n",
    "    go.Scatter(\n",
    "        x=np.cos(theta),\n",
    "        y=np.sin(theta),\n",
    "        mode=\"lines\",\n",
    "        marker=dict(color=\"red\"),\n",
    "        showlegend=False\n",
    "    )\n",
    ")\n",
    "\n",
    "for index, value in enumerate(list(numeric_columns)):\n",
    "    fig.add_trace(\n",
    "        go.Scatter(\n",
    "            x=[R[index, 0]],\n",
    "            y=[R[index, 1]],\n",
    "            mode=\"markers+text\",\n",
    "            text=[value],\n",
    "            textposition=\"top center\",\n",
    "            showlegend=False\n",
    "        )\n",
    "    )\n",
    "\n",
    "fig.update_layout(\n",
    "    template=\"plotly_dark\",\n",
    "    yaxis=dict(scaleanchor=\"x\", title_text=\"PC2\"),\n",
    "    xaxis=dict(title=\"PC1\"),\n",
    "    title=\"Círculo de correlaciones (PC1 vs PC2)\"\n",
    ")\n",
    "fig.show()"
   ]
  },
  {
   "cell_type": "markdown",
   "id": "92371386",
   "metadata": {},
   "source": [
    "##### Explicación del Círculo de Correlaciones (PC1 vs PC2)\n",
    "\n",
    "**Resultados obtenidos:**\n",
    "El gráfico muestra un círculo de correlaciones que visualiza la relación entre las variables originales (`Pclass`, `SibSp`, `Parch`, `Fare`, `Age`) y los dos primeros componentes principales (PC1 y PC2).\n",
    "\n",
    "**Análisis por componente principal:**\n",
    "\n",
    "**PC1 (Eje Horizontal):**\n",
    "- **Fare y Age**: Tienen correlación positiva fuerte con PC1 (lado derecho del eje)\n",
    "- **Pclass**: Tiene correlación negativa fuerte con PC1 (lado izquierdo del eje)\n",
    "- **Interpretación**: PC1 captura una dimensión relacionada con el estatus socioeconómico\n",
    "\n",
    "**PC2 (Eje Vertical):**\n",
    "- **SibSp y Parch**: Tienen correlación positiva fuerte con PC2 (parte superior del eje)\n",
    "- **Pclass**: También muestra correlación positiva con PC2, aunque menos fuerte\n",
    "- **Interpretación**: PC2 representa una dimensión relacionada con el tamaño de la familia\n",
    "\n",
    "**Relaciones entre variables observadas:**\n",
    "- **SibSp y Parch**: Están muy cerca una de la otra y del círculo, indicando fuerte correlación positiva\n",
    "- **Fare y Age**: Se encuentran en el mismo cuadrante (inferior derecho), sugiriendo correlación positiva\n",
    "- **Pclass**: Ubicado en cuadrante superior izquierdo, indica correlación negativa con Fare y Age\n",
    "\n",
    "**Implicaciones para el modelo:**\n",
    "- **PC1 (Estatus socioeconómico)**: Combina información de tarifa, edad y clase de pasajero\n",
    "- **PC2 (Tamaño familiar)**: Captura la información sobre acompañantes y familia\n",
    "- **Redundancia identificada**: SibSp y Parch son altamente correlacionadas\n",
    "- **Información complementaria**: Las variables están bien representadas por los dos primeros componentes\n",
    "- **Uso en clasificación**: Estos componentes podrían ser más efectivos que las variables originales para predecir supervivencia"
   ]
  },
  {
   "cell_type": "markdown",
   "id": "025ae295",
   "metadata": {},
   "source": [
    "####  EXPLORACIÓN Y PREPROCESAMIENTO DE DATOS DE ENTRENAMIENTO"
   ]
  },
  {
   "cell_type": "markdown",
   "id": "30039ad6",
   "metadata": {},
   "source": [
    "##### Balance de Clases"
   ]
  },
  {
   "cell_type": "code",
   "execution_count": 26,
   "id": "82ae921a",
   "metadata": {},
   "outputs": [
    {
     "data": {
      "image/png": "[encoded data removed]",
      "text/plain": [
       "<Figure size 500x400 with 1 Axes>"
      ]
     },
     "metadata": {},
     "output_type": "display_data"
    }
   ],
   "source": [
    "# Balance de clases \n",
    "plt.figure(figsize=(5, 4))\n",
    "sns.countplot(x=\"Survived\", data=df, hue=\"Survived\", palette=\"Set2\", legend=False)\n",
    "plt.title(\"Distribución de la variable objetivo (Survived)\")\n",
    "plt.show()"
   ]
  },
  {
   "cell_type": "markdown",
   "id": "a1aaf3af",
   "metadata": {},
   "source": [
    "##### Explicación de la Distribución de la Variable Objetivo (Survived)\n",
    "\n",
    "**Resultados obtenidos:**\n",
    "El gráfico de barras muestra la distribución de la variable `Survived`, que indica si un pasajero sobrevivió (1) o no (0).\n",
    "\n",
    "**Distribución de clases:**\n",
    "- **Clase 0 (No Sobrevivió):** Aproximadamente 549 pasajeros (62%)\n",
    "- **Clase 1 (Sobrevivió):** Aproximadamente 342 pasajeros (38%)\n",
    "\n",
    "**Análisis del desbalance:**\n",
    "- Se observa un desbalance significativo en las clases\n",
    "- La clase mayoritaria (no sobrevivió) representa el 62% de los datos\n",
    "- La clase minoritaria (sobrevivió) representa solo el 38% de los datos\n",
    "- La proporción es aproximadamente 1.6:1 (no sobrevivió vs sobrevivió)\n",
    "\n",
    "**Implicaciones para el modelo:**\n",
    "- **Problema de desbalance:** Los clasificadores pueden tener sesgo hacia la clase mayoritaria\n",
    "- **Estrategias necesarias:** \n",
    "  - Técnicas de balanceo de clases (SMOTE, undersampling, oversampling)\n",
    "  - Ajuste de métricas de evaluación (F1-score, precision, recall)\n",
    "  - Uso de class_weight en algoritmos que lo soporten\n",
    "- **Validación:** Es crucial usar StratifiedKFold para mantener la proporción de clases en cada fold\n",
    "- **Interpretación:** Los resultados deben evaluarse considerando ambas clases por igual\n",
    "\n"
   ]
  },
  {
   "cell_type": "markdown",
   "id": "8699d1f2",
   "metadata": {},
   "source": [
    "##### Distribución de Variables Principales"
   ]
  },
  {
   "cell_type": "code",
   "execution_count": 11,
   "id": "b81750de",
   "metadata": {},
   "outputs": [
    {
     "data": {
      "image/png": "[encoded data removed]",
      "text/plain": [
       "<Figure size 1000x600 with 1 Axes>"
      ]
     },
     "metadata": {},
     "output_type": "display_data"
    },
    {
     "data": {
      "image/png": "[encoded data removed]",
      "text/plain": [
       "<Figure size 500x400 with 1 Axes>"
      ]
     },
     "metadata": {},
     "output_type": "display_data"
    },
    {
     "data": {
      "image/png": "[encoded data removed]",
      "text/plain": [
       "<Figure size 500x400 with 1 Axes>"
      ]
     },
     "metadata": {},
     "output_type": "display_data"
    }
   ],
   "source": [
    "# Balance de otras variables \n",
    "plt.figure(figsize=(10, 6))\n",
    "sns.histplot(df['Age'], bins=50, kde=True)\n",
    "plt.title('Distribution of Age')\n",
    "plt.xlabel('Age')\n",
    "plt.ylabel('Frequency')\n",
    "plt.show()\n",
    "\n",
    "plt.figure(figsize=(5, 4))\n",
    "sns.countplot(x=\"Pclass\", data=df)\n",
    "plt.title(\"Distribución de la Pclass\")\n",
    "plt.show()\n",
    "\n",
    "plt.figure(figsize=(5, 4))\n",
    "sns.countplot(x=\"Sex\", data=df)\n",
    "plt.title(\"Distribución del sexo\")\n",
    "plt.show()"
   ]
  },
  {
   "cell_type": "markdown",
   "id": "63723127",
   "metadata": {},
   "source": [
    "##### Explicación de la Distribución de Variables Principales\n",
    "\n",
    "**Distribución de Age:**\n",
    "- **Pico principal:** Mayor concentración entre 20-30 años\n",
    "- **Distribución:** Asimétrica positiva (sesgada a la derecha)\n",
    "- **Rango:** Desde niños (0-5 años) hasta adultos mayores (60+ años)\n",
    "- **Característica:** Más pasajeros jóvenes que mayores\n",
    "\n",
    "**Distribución de Pclass:**\n",
    "- **Clase 3:** Más numerosa (~490 pasajeros)\n",
    "- **Clase 1:** ~210 pasajeros\n",
    "- **Clase 2:** Menos representada (~190 pasajeros)\n",
    "- **Observación:** Desbalance significativo hacia tercera clase\n",
    "\n",
    "**Distribución del Sexo:**\n",
    "- **Hombres:** Mayoría (~600 pasajeros)\n",
    "- **Mujeres:** Minoría (~300 pasajeros)\n",
    "- **Proporción:** Aproximadamente 2:1 (hombres:mujeres)\n",
    "\n",
    "**Implicaciones:**\n",
    "- Variables categóricas muestran desbalance que puede afectar el modelo\n",
    "- La edad requiere normalización por su distribución asimétrica\n",
    "- El sexo y la clase pueden ser predictores importantes para supervivencia"
   ]
  },
  {
   "cell_type": "markdown",
   "id": "1a6096e8",
   "metadata": {},
   "source": [
    "##### Análisis de Variables Categóricas"
   ]
  },
  {
   "cell_type": "code",
   "execution_count": 12,
   "id": "328a9150",
   "metadata": {},
   "outputs": [
    {
     "name": "stdout",
     "output_type": "stream",
     "text": [
      "Index(['Name', 'Sex', 'Ticket', 'Cabin', 'Embarked'], dtype='object')\n"
     ]
    },
    {
     "data": {
      "image/png": "[encoded data removed]",
      "text/plain": [
       "<Figure size 800x500 with 1 Axes>"
      ]
     },
     "metadata": {},
     "output_type": "display_data"
    }
   ],
   "source": [
    "# Distribución de datos categóricos \n",
    "categorical_cols = df.select_dtypes(include=[\"object\", \"category\"]).columns\n",
    "print(categorical_cols)\n",
    "\n",
    "# Crear variable Deck\n",
    "df[\"Deck\"] = df[\"Cabin\"].astype(str).str[0]\n",
    "\n",
    "plt.figure(figsize=(8, 5))\n",
    "sns.countplot(x=\"Deck\", hue=\"Survived\", data=df, palette=\"Set2\")\n",
    "plt.title(\"Survival by Cabin Deck\")\n",
    "plt.show()\n",
    "\n",
    "# Aquí es claro que tenemos que hacer una limpieza para los valores n"
   ]
  },
  {
   "cell_type": "markdown",
   "id": "9cbe0703",
   "metadata": {},
   "source": [
    "##### Explicación de la Supervivencia por Cubierta de Cabina\n",
    "\n",
    "**Variables categóricas identificadas:**\n",
    "- Name, Sex, Ticket, Cabin, Embarked\n",
    "\n",
    "**Distribución de supervivencia por cubierta:**\n",
    "\n",
    "**Categoría 'n' (sin cabina/desconocida):**\n",
    "- **Dominante:** Mayoría de pasajeros (~670 total)\n",
    "- **Supervivencia baja:** ~470 no sobrevivieron vs ~200 sobrevivieron\n",
    "- **Tasa de supervivencia:** ~30%\n",
    "\n",
    "**Cubiertas con información:**\n",
    "- **Cubiertas C, E, D, B, F:** Mayor proporción de sobrevivientes\n",
    "- **Cubierta G:** Ligeramente más no sobrevivientes\n",
    "- **Cubiertas A, T:** Muy pocos pasajeros\n",
    "\n",
    "**Implicaciones:**\n",
    "- La cubierta de cabina es un predictor importante de supervivencia\n",
    "- Pasajeros sin cabina asignada tienen menor probabilidad de supervivencia\n",
    "- Cubiertas superiores (A, B, C) muestran mejor tasa de supervivencia\n",
    "- Necesario limpiar valores 'n' (datos faltantes) antes del modelado"
   ]
  },
  {
   "cell_type": "markdown",
   "id": "756c2eb8",
   "metadata": {},
   "source": [
    "##### Relación con Survived"
   ]
  },
  {
   "cell_type": "code",
   "execution_count": 15,
   "id": "535cf431",
   "metadata": {},
   "outputs": [
    {
     "data": {
      "image/png": "[encoded data removed]",
      "text/plain": [
       "<Figure size 800x500 with 1 Axes>"
      ]
     },
     "metadata": {},
     "output_type": "display_data"
    },
    {
     "data": {
      "image/png": "[encoded data removed]",
      "text/plain": [
       "<Figure size 800x500 with 1 Axes>"
      ]
     },
     "metadata": {},
     "output_type": "display_data"
    }
   ],
   "source": [
    "# Relación con Survived \n",
    "plt.figure(figsize=(8, 5))\n",
    "sns.countplot(x=\"Sex\", hue=\"Survived\", data=df, palette=\"Set2\")\n",
    "plt.title(\"Survival by Sex\")\n",
    "plt.show()\n",
    "\n",
    "plt.figure(figsize=(8, 5))\n",
    "sns.countplot(x=\"Embarked\", hue=\"Survived\", data=df, palette=\"Set2\")\n",
    "plt.title(\"Survival by Embarked\")\n",
    "plt.show()"
   ]
  },
  {
   "cell_type": "markdown",
   "id": "09965910",
   "metadata": {},
   "source": [
    "##### Explicación de la Supervivencia por Sexo y Puerto de Embarque\n",
    "\n",
    "**Supervivencia por Sexo:**\n",
    "- **Hombres:** ~450 no sobrevivieron vs ~100 sobrevivieron\n",
    "- **Mujeres:** ~75 no sobrevivieron vs ~230 sobrevivieron\n",
    "- **Conclusión:** Las mujeres tuvieron una tasa de supervivencia mucho mayor\n",
    "\n",
    "**Supervivencia por Puerto de Embarque:**\n",
    "- **Puerto S (Southampton):** Mayoría de pasajeros, baja tasa de supervivencia\n",
    "- **Puerto C (Cherbourg):** Proporción equilibrada, mejor tasa de supervivencia\n",
    "- **Puerto Q (Queenstown):** Menos pasajeros, tasa de supervivencia intermedia\n",
    "\n",
    "**Implicaciones para el modelo:**\n",
    "- **Sex:** Variable muy importante para predecir supervivencia\n",
    "- **Embarked:** Variable moderadamente importante\n",
    "- **Patrón:** Pasajeros de clases sociales más altas (Cherbourg) tuvieron mejor supervivencia\n",
    "- **Estrategia:** \"Mujeres y niños primero\" se refleja claramente en los datos"
   ]
  },
  {
   "cell_type": "markdown",
   "id": "15a77744",
   "metadata": {},
   "source": [
    "##### Análisis de Variables Numéricas"
   ]
  },
  {
   "cell_type": "code",
   "execution_count": 14,
   "id": "72ee764c",
   "metadata": {},
   "outputs": [
    {
     "data": {
      "text/plain": [
       "<Figure size 1000x600 with 0 Axes>"
      ]
     },
     "metadata": {},
     "output_type": "display_data"
    },
    {
     "data": {
      "image/png": "[encoded data removed]",
      "text/plain": [
       "<Figure size 1200x800 with 4 Axes>"
      ]
     },
     "metadata": {},
     "output_type": "display_data"
    }
   ],
   "source": [
    "# Normalización o estandarización de datos numéricos (código original)\n",
    "num_cols = [\"Age\", \"Fare\", \"SibSp\", \"Parch\"]\n",
    "plt.figure(figsize=(10, 6))\n",
    "df[num_cols].plot(kind=\"box\", subplots=True, layout=(2, 2), figsize=(12, 8), sharex=False, sharey=False)\n",
    "plt.suptitle(\"Boxplots de variables numéricas\")\n",
    "plt.show()\n",
    "\n",
    "# Normalización y/o Estandarización\n",
    "# Realmente no hay alguna variable que cause mucho ruido para la estandarización y normalización"
   ]
  },
  {
   "cell_type": "markdown",
   "id": "779a98c6",
   "metadata": {},
   "source": [
    "##### Explicación de los Boxplots de Variables Numéricas\n",
    "\n",
    "**Age (Edad):**\n",
    "- **Mediana:** ~28-29 años\n",
    "- **IQR:** Mayoría entre 20-38 años\n",
    "- **Distribución:** Ligeramente sesgada a la derecha\n",
    "- **Outliers:** Algunos valores altos (65+ años)\n",
    "\n",
    "**Fare (Tarifa):**\n",
    "- **Mediana:** ~14-15 (muy baja)\n",
    "- **IQR:** Mayoría entre 7-30\n",
    "- **Distribución:** Fuertemente sesgada a la derecha\n",
    "- **Outliers:** Muchos valores altos (hasta 500+)\n",
    "\n",
    "**SibSp (Hermanos/cónyuges):**\n",
    "- **Mediana:** 0\n",
    "- **IQR:** Mayoría entre 0-1\n",
    "- **Distribución:** Muy concentrada en valores bajos\n",
    "- **Outliers:** Pocos valores altos (2-8)\n",
    "\n",
    "**Parch (Padres/hijos):**\n",
    "- **Mediana:** 0\n",
    "- **IQR:** Mayoría entre 0-1\n",
    "- **Distribución:** Similar a SibSp\n",
    "- **Outliers:** Pocos valores altos (2-6)\n",
    "\n",
    "**Conclusión:**\n",
    "- Fare requiere normalización por su fuerte asimetría\n",
    "- Age puede beneficiarse de estandarización\n",
    "- SibSp y Parch son variables discretas con muchos ceros\n",
    "- No hay variables que causen \"ruido\" excesivo para el modelado"
   ]
  },
  {
   "cell_type": "markdown",
   "id": "17ecb462",
   "metadata": {},
   "source": [
    "#### ANÁLISIS DE DATOS FALTANTES"
   ]
  },
  {
   "cell_type": "code",
   "execution_count": 16,
   "id": "efcbffa1",
   "metadata": {},
   "outputs": [
    {
     "name": "stdout",
     "output_type": "stream",
     "text": [
      "=== ANÁLISIS DE DATOS FALTANTES ===\n",
      "Datos faltantes por columna:\n",
      "PassengerId      0\n",
      "Survived         0\n",
      "Pclass           0\n",
      "Name             0\n",
      "Sex              0\n",
      "Age            177\n",
      "SibSp            0\n",
      "Parch            0\n",
      "Ticket           0\n",
      "Fare             0\n",
      "Cabin          687\n",
      "Embarked         2\n",
      "Deck             0\n",
      "dtype: int64\n",
      "\n",
      "Porcentaje de datos faltantes:\n",
      "PassengerId     0.00\n",
      "Survived        0.00\n",
      "Pclass          0.00\n",
      "Name            0.00\n",
      "Sex             0.00\n",
      "Age            19.87\n",
      "SibSp           0.00\n",
      "Parch           0.00\n",
      "Ticket          0.00\n",
      "Fare            0.00\n",
      "Cabin          77.10\n",
      "Embarked        0.22\n",
      "Deck            0.00\n",
      "dtype: float64\n"
     ]
    },
    {
     "data": {
      "image/png": "[encoded data removed]",
      "text/plain": [
       "<Figure size 1200x600 with 2 Axes>"
      ]
     },
     "metadata": {},
     "output_type": "display_data"
    },
    {
     "name": "stdout",
     "output_type": "stream",
     "text": [
      "\n",
      "Resumen de datos faltantes:\n",
      "            Column  Missing_Count  Missing_Percentage\n",
      "Age            Age            177               19.87\n",
      "Cabin        Cabin            687               77.10\n",
      "Embarked  Embarked              2                0.22\n"
     ]
    }
   ],
   "source": [
    "# Identificar y visualizar datos faltantes\n",
    "print(\"=== ANÁLISIS DE DATOS FALTANTES ===\")\n",
    "print(\"Datos faltantes por columna:\")\n",
    "print(df.isnull().sum())\n",
    "print(f\"\\nPorcentaje de datos faltantes:\")\n",
    "print((df.isnull().sum() / len(df) * 100).round(2))\n",
    "\n",
    "# Visualizar datos faltantes\n",
    "plt.figure(figsize=(12, 6))\n",
    "sns.heatmap(df.isnull(), yticklabels=False, cbar=True, cmap='viridis')\n",
    "plt.title('Mapa de Datos Faltantes - Dataset de Entrenamiento')\n",
    "plt.show()\n",
    "\n",
    "# Análisis detallado por columna\n",
    "missing_data = pd.DataFrame({\n",
    "    'Column': df.columns,\n",
    "    'Missing_Count': df.isnull().sum(),\n",
    "    'Missing_Percentage': (df.isnull().sum() / len(df) * 100).round(2)\n",
    "})\n",
    "print(\"\\nResumen de datos faltantes:\")\n",
    "print(missing_data[missing_data['Missing_Count'] > 0])"
   ]
  },
  {
   "cell_type": "markdown",
   "id": "3710976f",
   "metadata": {},
   "source": [
    "##### Explicación del Análisis de Datos Faltantes\n",
    "\n",
    "**Resultados obtenidos:**\n",
    "El análisis revela la presencia de valores ausentes en el dataset de entrenamiento.\n",
    "\n",
    "**Datos Faltantes por Columna:**\n",
    "- **Age:** 177 valores faltantes (19.87%)\n",
    "- **Cabin:** 687 valores faltantes (77.10%)\n",
    "- **Embarked:** 2 valores faltantes (0.22%)\n",
    "\n",
    "**Interpretación del Heatmap:**\n",
    "- **Puntos negros:** Representan valores faltantes\n",
    "- **Patrón:** Se observa que Cabin tiene la mayor cantidad de datos faltantes\n",
    "- **Age:** Muestra un patrón aleatorio de valores faltantes\n",
    "- **Embarked:** Muy pocos valores faltantes\n",
    "\n",
    "**Estrategia de Imputación:**\n",
    "- **Cabin:** Alto porcentaje sugiere eliminación o creación de nueva variable\n",
    "- **Age:** Requiere imputación (media, mediana o modelo predictivo)\n",
    "- **Embarked:** Fácil imputación con la moda"
   ]
  },
  {
   "cell_type": "markdown",
   "id": "213d0ed5",
   "metadata": {},
   "source": [
    "#### LIMPIEZA Y PREPROCESAMIENTO"
   ]
  },
  {
   "cell_type": "markdown",
   "id": "9ed3fb02",
   "metadata": {},
   "source": [
    "##### Imputación de Datos Faltantes"
   ]
  },
  {
   "cell_type": "code",
   "execution_count": 17,
   "id": "ed87138e",
   "metadata": {},
   "outputs": [
    {
     "name": "stdout",
     "output_type": "stream",
     "text": [
      "=== IMPUTACIÓN DE DATOS FALTANTES ===\n",
      "Imputando Age con mediana por Sex y Pclass...\n",
      "Imputando Embarked con moda...\n",
      "Creando variable Deck a partir de Cabin...\n",
      "\n",
      "Datos faltantes después de la limpieza:\n",
      "PassengerId    0\n",
      "Survived       0\n",
      "Pclass         0\n",
      "Sex            0\n",
      "Age            0\n",
      "SibSp          0\n",
      "Parch          0\n",
      "Fare           0\n",
      "Embarked       0\n",
      "Deck           0\n",
      "dtype: int64\n",
      "\n",
      "Forma del dataset limpio: (891, 10)\n"
     ]
    }
   ],
   "source": [
    "# Aplicar técnicas de imputación para los datos faltantes\n",
    "print(\"=== IMPUTACIÓN DE DATOS FALTANTES ===\")\n",
    "\n",
    "# Crear copia para no modificar el original\n",
    "df_clean = df.copy()\n",
    "\n",
    "# Imputar Age con mediana por Sex y Pclass\n",
    "print(\"Imputando Age con mediana por Sex y Pclass...\")\n",
    "df_clean['Age'] = df_clean.groupby(['Sex', 'Pclass'])['Age'].transform(\n",
    "    lambda x: x.fillna(x.median())\n",
    ")\n",
    "\n",
    "# Imputar Embarked con moda\n",
    "print(\"Imputando Embarked con moda...\")\n",
    "df_clean['Embarked'] = df_clean['Embarked'].fillna(df_clean['Embarked'].mode()[0])\n",
    "\n",
    "# Crear variable Deck y eliminar Cabin\n",
    "print(\"Creando variable Deck a partir de Cabin...\")\n",
    "df_clean['Deck'] = df_clean['Cabin'].astype(str).str[0]\n",
    "df_clean['Deck'] = df_clean['Deck'].replace('n', 'Unknown')\n",
    "\n",
    "# Eliminar columnas no útiles\n",
    "columns_to_drop = ['Cabin', 'Name', 'Ticket']\n",
    "df_clean = df_clean.drop(columns_to_drop, axis=1)\n",
    "\n",
    "# Verificar que no hay datos faltantes\n",
    "print(\"\\nDatos faltantes después de la limpieza:\")\n",
    "print(df_clean.isnull().sum())\n",
    "\n",
    "print(f\"\\nForma del dataset limpio: {df_clean.shape}\")"
   ]
  },
  {
   "cell_type": "markdown",
   "id": "08ade3e5",
   "metadata": {},
   "source": [
    "##### Explicación de la Imputación de Datos Faltantes\n",
    "\n",
    "**Proceso de Imputación:**\n",
    "- **Age:** Se imputaron los valores faltantes utilizando la mediana, segmentando por `Sex` y `Pclass`. Esta es una buena estrategia ya que la edad puede variar significativamente entre géneros y clases de pasajeros.\n",
    "- **Embarked:** Los valores faltantes se imputaron con la moda, es decir, el valor más frecuente. Esto es común para variables categóricas con pocos valores faltantes.\n",
    "- **Deck:** Se creó una nueva variable `Deck` extrayendo la primera letra de la columna `Cabin`. Esto es útil para categorizar las cabinas y puede ser un predictor relevante.\n",
    "\n",
    "**Resultados después de la limpieza:**\n",
    "- La tabla muestra que, después de aplicar las técnicas de imputación, todas las columnas (`PassengerId`, `Survived`, `Pclass`, `Sex`, `Age`, `SibSp`, `Parch`, `Fare`, `Embarked`, `Deck`) tienen **0 datos faltantes**. Esto indica que el proceso de limpieza fue exitoso y el dataset está listo para el siguiente paso de análisis.\n",
    "- El tipo de dato (`dtype`) para el conteo de faltantes es `int64`.\n",
    "- La forma final del dataset limpio es `(891, 10)`, lo que significa que ahora tiene 891 filas y 10 columnas."
   ]
  },
  {
   "cell_type": "markdown",
   "id": "d7629f1f",
   "metadata": {},
   "source": [
    "##### Transformación de Datos Categóricos"
   ]
  },
  {
   "cell_type": "code",
   "execution_count": 18,
   "id": "5a7103fb",
   "metadata": {},
   "outputs": [
    {
     "name": "stdout",
     "output_type": "stream",
     "text": [
      "=== TRANSFORMACIÓN DE DATOS CATEGÓRICOS ===\n",
      "Variables categóricas convertidas:\n",
      "Sex: ['female' 'male'] -> range(0, 2)\n",
      "Embarked: ['C' 'Q' 'S'] -> range(0, 3)\n",
      "Deck: ['A' 'B' 'C' 'D' 'E' 'F' 'G' 'T' 'Unknown'] -> range(0, 9)\n",
      "\n",
      "Tipos de datos finales:\n",
      "PassengerId      int64\n",
      "Survived         int64\n",
      "Pclass           int64\n",
      "Sex              int64\n",
      "Age            float64\n",
      "SibSp            int64\n",
      "Parch            int64\n",
      "Fare           float64\n",
      "Embarked         int64\n",
      "Deck             int64\n",
      "dtype: object\n",
      "\n",
      "Primeras filas del dataset procesado:\n",
      "   PassengerId  Survived  Pclass  Sex   Age  SibSp  Parch     Fare  Embarked  \\\n",
      "0            1         0       3    1  22.0      1      0   7.2500         2   \n",
      "1            2         1       1    0  38.0      1      0  71.2833         0   \n",
      "2            3         1       3    0  26.0      0      0   7.9250         2   \n",
      "3            4         1       1    0  35.0      1      0  53.1000         2   \n",
      "4            5         0       3    1  35.0      0      0   8.0500         2   \n",
      "\n",
      "   Deck  \n",
      "0     8  \n",
      "1     2  \n",
      "2     8  \n",
      "3     2  \n",
      "4     8  \n"
     ]
    }
   ],
   "source": [
    "# Convertir datos categóricos en numéricos\n",
    "print(\"=== TRANSFORMACIÓN DE DATOS CATEGÓRICOS ===\")\n",
    "\n",
    "# Crear copia para transformaciones\n",
    "df_encoded = df_clean.copy()\n",
    "\n",
    "# Aplicar Label Encoding a variables categóricas\n",
    "le_sex = LabelEncoder()\n",
    "le_embarked = LabelEncoder()\n",
    "le_deck = LabelEncoder()\n",
    "\n",
    "df_encoded['Sex'] = le_sex.fit_transform(df_encoded['Sex'])\n",
    "df_encoded['Embarked'] = le_embarked.fit_transform(df_encoded['Embarked'])\n",
    "df_encoded['Deck'] = le_deck.fit_transform(df_encoded['Deck'])\n",
    "\n",
    "print(\"Variables categóricas convertidas:\")\n",
    "print(f\"Sex: {le_sex.classes_} -> {range(len(le_sex.classes_))}\")\n",
    "print(f\"Embarked: {le_embarked.classes_} -> {range(len(le_embarked.classes_))}\")\n",
    "print(f\"Deck: {le_deck.classes_} -> {range(len(le_deck.classes_))}\")\n",
    "\n",
    "# Verificar tipos de datos\n",
    "print(\"\\nTipos de datos finales:\")\n",
    "print(df_encoded.dtypes)\n",
    "\n",
    "# Mostrar las primeras filas del dataset procesado\n",
    "print(\"\\nPrimeras filas del dataset procesado:\")\n",
    "print(df_encoded.head())"
   ]
  },
  {
   "cell_type": "markdown",
   "id": "caeaf576",
   "metadata": {},
   "source": [
    "##### Explicación de la Transformación de Datos Categóricos\n",
    "\n",
    "**Resultados obtenidos:**\n",
    "\n",
    "**Transformación de Variables Categóricas:**\n",
    "- **Sex:** ['female' 'male'] → range(0, 2)\n",
    "- **Embarked:** ['C' 'Q' 'S'] → range(0, 3)  \n",
    "- **Deck:** ['A' 'B' 'C' 'D' 'E' 'F' 'G' 'T' 'Unknown'] → range(0, 9)\n",
    "\n",
    "**Tipos de Datos Finales:**\n",
    "- **int64:** PassengerId, Survived, Pclass, Sex, SibSp, Parch, Embarked, Deck\n",
    "- **float64:** Age, Fare\n",
    "\n",
    "**Primeras Filas del Dataset:**\n",
    "- Las variables categóricas ahora contienen valores numéricos\n",
    "- Sex: 0=female, 1=male\n",
    "- Embarked: 0=C, 1=Q, 2=S\n",
    "- Deck: Valores del 0-8 según la categoría\n",
    "\n",
    "**Conclusión:**\n",
    "El Label Encoding convirtió exitosamente las variables categóricas a formato numérico, preparando el dataset para algoritmos de machine learning."
   ]
  },
  {
   "cell_type": "markdown",
   "id": "75269711",
   "metadata": {},
   "source": [
    "#### CLASIFICACIÓN"
   ]
  },
  {
   "cell_type": "markdown",
   "id": "d84d997d",
   "metadata": {},
   "source": [
    "##### Preparación de Datos para Clasificación"
   ]
  },
  {
   "cell_type": "code",
   "execution_count": 19,
   "id": "fc776c81",
   "metadata": {},
   "outputs": [
    {
     "name": "stdout",
     "output_type": "stream",
     "text": [
      "=== PREPARACIÓN PARA CLASIFICACIÓN ===\n",
      "Forma de los datos:\n",
      "X: (891, 9)\n",
      "y: (891,)\n",
      "Datos preparados para clasificación\n"
     ]
    }
   ],
   "source": [
    "# Preparar datos para clasificación\n",
    "print(\"=== PREPARACIÓN PARA CLASIFICACIÓN ===\")\n",
    "\n",
    "# Separar features y target\n",
    "X = df_encoded.drop(['Survived'], axis=1)\n",
    "y = df_encoded['Survived']\n",
    "\n",
    "print(\"Forma de los datos:\")\n",
    "print(f\"X: {X.shape}\")\n",
    "print(f\"y: {y.shape}\")\n",
    "\n",
    "# Estandarizar variables numéricas\n",
    "scaler = StandardScaler()\n",
    "numeric_features = ['Age', 'Fare', 'SibSp', 'Parch']\n",
    "X[numeric_features] = scaler.fit_transform(X[numeric_features])\n",
    "\n",
    "print(\"Datos preparados para clasificación\")"
   ]
  },
  {
   "cell_type": "markdown",
   "id": "9a8ced35",
   "metadata": {},
   "source": [
    "##### Explicación de la Preparación para Clasificación\n",
    "\n",
    "**Resultados obtenidos:**\n",
    "- **X: (891, 9)** - Características de entrada\n",
    "- **y: (891,)** - Variable objetivo\n",
    "\n",
    "**Proceso realizado:**\n",
    "1. **Separación de datos:** Se separaron las características (X) de la variable objetivo (y)\n",
    "2. **Estandarización:** Se aplicó StandardScaler a las variables numéricas:\n",
    "   - Age, Fare, SibSp, Parch\n",
    "   - Esto normaliza los datos a media=0 y desviación=1\n",
    "\n",
    "**Beneficios de la estandarización:**\n",
    "- Mejora la convergencia de algoritmos como SVM y Regresión Logística\n",
    "- Evita que variables con mayor escala dominen el modelo\n",
    "- Prepara los datos para algoritmos sensibles a la escala\n",
    "\n",
    "**Conclusión:**\n",
    "Los datos están listos para el entrenamiento de modelos de clasificación con características balanceadas y estandarizadas."
   ]
  },
  {
   "cell_type": "markdown",
   "id": "f9847866",
   "metadata": {},
   "source": [
    "##### Selección de Clasificadores"
   ]
  },
  {
   "cell_type": "code",
   "execution_count": 22,
   "id": "b7ea5ee3",
   "metadata": {},
   "outputs": [
    {
     "name": "stdout",
     "output_type": "stream",
     "text": [
      "=== SELECCIÓN DE CLASIFICADORES ===\n",
      "Algoritmos seleccionados:\n",
      "1. Random Forest: Maneja bien datos no lineales y categóricos\n",
      "2. SVM: Efectivo para problemas de clasificación binaria\n",
      "3. Logistic Regression: Baseline y interpretable\n"
     ]
    }
   ],
   "source": [
    "# Selección de algoritmos de clasificación\n",
    "print(\"=== SELECCIÓN DE CLASIFICADORES ===\")\n",
    "\n",
    "print(\"Algoritmos seleccionados:\")\n",
    "print(\"1. Random Forest: Maneja bien datos no lineales y categóricos\")\n",
    "print(\"2. SVM: Efectivo para problemas de clasificación binaria\")\n",
    "print(\"3. Logistic Regression: Baseline y interpretable\")\n",
    "\n",
    "# Definir clasificadores con parámetros mejorados\n",
    "classifiers = {\n",
    "    'Random Forest': RandomForestClassifier(n_estimators=100, random_state=42),\n",
    "    'SVM': SVC(probability=True, random_state=42),\n",
    "    'Logistic Regression': LogisticRegression(random_state=42, max_iter=1000, solver='liblinear')\n",
    "}"
   ]
  },
  {
   "cell_type": "markdown",
   "id": "cc720e03",
   "metadata": {},
   "source": [
    "##### Explicación de la Selección de Clasificadores\n",
    "\n",
    "**Algoritmos seleccionados y justificación:**\n",
    "\n",
    "1. **Random Forest:**\n",
    "   - **Ventajas:** Maneja bien datos no lineales y categóricos\n",
    "   - **Parámetros:** 100 árboles, random_state=42 para reproducibilidad\n",
    "   - **Aplicación:** Ideal para datasets con múltiples tipos de variables\n",
    "\n",
    "2. **SVM (Support Vector Machine):**\n",
    "   - **Ventajas:** Efectivo para problemas de clasificación binaria\n",
    "   - **Parámetros:** probability=True para obtener probabilidades, random_state=42\n",
    "   - **Aplicación:** Bueno para encontrar el hiperplano óptimo de separación\n",
    "\n",
    "3. **Logistic Regression:**\n",
    "   - **Ventajas:** Baseline interpretable y estable\n",
    "   - **Parámetros:** max_iter=1000 para convergencia, solver='liblinear'\n",
    "   - **Aplicación:** Modelo de referencia y fácil interpretación\n",
    "\n",
    "**Configuración de parámetros:**\n",
    "- **random_state=42:** Garantiza resultados reproducibles\n",
    "- **probability=True:** Permite calcular probabilidades para métricas ROC\n",
    "- **max_iter=1000:** Evita warnings de convergencia"
   ]
  },
  {
   "cell_type": "markdown",
   "id": "aafab684",
   "metadata": {},
   "source": [
    "##### Cross-Validation y Entrenamiento"
   ]
  },
  {
   "cell_type": "code",
   "execution_count": 23,
   "id": "483bff76",
   "metadata": {},
   "outputs": [
    {
     "name": "stdout",
     "output_type": "stream",
     "text": [
      "=== CROSS-VALIDATION Y ENTRENAMIENTO ===\n",
      "Usando k=5 para cross-validation\n",
      "\n",
      "--- Random Forest ---\n",
      "CV Accuracy: 0.8271 (+/- 0.0388)\n",
      "Accuracy: 1.0000\n",
      "Precision: 1.0000\n",
      "AUC: 1.0000\n",
      "\n",
      "--- SVM ---\n",
      "CV Accuracy: 0.6162 (+/- 0.0046)\n",
      "Accuracy: 0.6162\n",
      "Precision: 0.0000\n",
      "AUC: 0.7908\n",
      "\n",
      "--- Logistic Regression ---\n",
      "CV Accuracy: 0.7935 (+/- 0.0351)\n",
      "Accuracy: 0.8047\n",
      "Precision: 0.7710\n",
      "AUC: 0.8585\n"
     ]
    }
   ],
   "source": [
    "# K-fold cross validation y entrenamiento\n",
    "print(\"=== CROSS-VALIDATION Y ENTRENAMIENTO ===\")\n",
    "\n",
    "# Configurar k-fold cross validation\n",
    "k_fold = StratifiedKFold(n_splits=5, shuffle=True, random_state=42)\n",
    "print(f\"Usando k={5} para cross-validation\")\n",
    "\n",
    "# Evaluar cada clasificador\n",
    "results = {}\n",
    "for name, clf in classifiers.items():\n",
    "    print(f\"\\n--- {name} ---\")\n",
    "    \n",
    "    # Cross validation\n",
    "    cv_scores = cross_val_score(clf, X, y, cv=k_fold, scoring='accuracy')\n",
    "    print(f\"CV Accuracy: {cv_scores.mean():.4f} (+/- {cv_scores.std() * 2:.4f})\")\n",
    "    \n",
    "    # Entrenar modelo final\n",
    "    clf.fit(X, y)\n",
    "    y_pred = clf.predict(X)\n",
    "    y_pred_proba = clf.predict_proba(X)[:, 1]\n",
    "    \n",
    "    # Métricas con zero_division=0 para evitar warnings\n",
    "    accuracy = accuracy_score(y, y_pred)\n",
    "    precision = precision_score(y, y_pred, zero_division=0)\n",
    "    auc = roc_auc_score(y, y_pred_proba)\n",
    "    \n",
    "    results[name] = {\n",
    "        'accuracy': accuracy,\n",
    "        'precision': precision,\n",
    "        'auc': auc,\n",
    "        'y_pred': y_pred,\n",
    "        'y_pred_proba': y_pred_proba\n",
    "    }\n",
    "    \n",
    "    print(f\"Accuracy: {accuracy:.4f}\")\n",
    "    print(f\"Precision: {precision:.4f}\")\n",
    "    print(f\"AUC: {auc:.4f}\")"
   ]
  },
  {
   "cell_type": "markdown",
   "id": "96549414",
   "metadata": {},
   "source": [
    "##### Explicación de los Resultados de Cross-Validation y Entrenamiento\n",
    "\n",
    "**Configuración utilizada:**\n",
    "- **K=5:** Cross-validation con 5 folds estratificados\n",
    "- **Random_state=42:** Para reproducibilidad de resultados\n",
    "\n",
    "**Resultados por modelo:**\n",
    "\n",
    "1. **Random Forest:**\n",
    "   - **CV Accuracy:** 82.71% (±3.88%) - Excelente rendimiento promedio\n",
    "   - **Training Accuracy:** 100% - Posible overfitting\n",
    "   - **Precision:** 100% - Sin falsos positivos en training\n",
    "   - **AUC:** 100% - Separación perfecta de clases\n",
    "\n",
    "2. **SVM:**\n",
    "   - **CV Accuracy:** 61.62% (±0.46%) - Rendimiento moderado\n",
    "   - **Training Accuracy:** 61.62% - Consistente con CV\n",
    "   - **Precision:** 0% - Problema críti"
   ]
  },
  {
   "cell_type": "markdown",
   "id": "d85bba82",
   "metadata": {},
   "source": [
    "##### Métricas de Evaluación"
   ]
  },
  {
   "cell_type": "code",
   "execution_count": 24,
   "id": "8af3d7d0",
   "metadata": {},
   "outputs": [
    {
     "name": "stdout",
     "output_type": "stream",
     "text": [
      "=== MÉTRICAS DE EVALUACIÓN ===\n",
      "Explicación de métricas:\n",
      "Accuracy: Proporción de predicciones correctas\n",
      "Precision: Proporción de verdaderos positivos entre todos los positivos predichos\n",
      "AUC: Área bajo la curva ROC (1.0 = perfecto, 0.5 = aleatorio)\n"
     ]
    },
    {
     "data": {
      "image/png": "[encoded data removed]",
      "text/plain": [
       "<Figure size 1800x500 with 6 Axes>"
      ]
     },
     "metadata": {},
     "output_type": "display_data"
    },
    {
     "data": {
      "image/png": "[encoded data removed]",
      "text/plain": [
       "<Figure size 1000x600 with 1 Axes>"
      ]
     },
     "metadata": {},
     "output_type": "display_data"
    }
   ],
   "source": [
    "# Métricas de evaluación detalladas\n",
    "print(\"=== MÉTRICAS DE EVALUACIÓN ===\")\n",
    "\n",
    "print(\"Explicación de métricas:\")\n",
    "print(\"Accuracy: Proporción de predicciones correctas\")\n",
    "print(\"Precision: Proporción de verdaderos positivos entre todos los positivos predichos\")\n",
    "print(\"AUC: Área bajo la curva ROC (1.0 = perfecto, 0.5 = aleatorio)\")\n",
    "\n",
    "# Matrices de confusión\n",
    "fig, axes = plt.subplots(1, 3, figsize=(18, 5))\n",
    "for i, (name, result) in enumerate(results.items()):\n",
    "    cm = confusion_matrix(y, result['y_pred'])\n",
    "    sns.heatmap(cm, annot=True, fmt='d', cmap='Blues', ax=axes[i])\n",
    "    axes[i].set_title(f'Matriz de Confusión - {name}')\n",
    "    axes[i].set_xlabel('Predicción')\n",
    "    axes[i].set_ylabel('Real')\n",
    "\n",
    "plt.tight_layout()\n",
    "plt.show()\n",
    "\n",
    "# Curvas ROC\n",
    "plt.figure(figsize=(10, 6))\n",
    "for name, result in results.items():\n",
    "    fpr, tpr, _ = roc_curve(y, result['y_pred_proba'])\n",
    "    plt.plot(fpr, tpr, label=f'{name} (AUC = {result[\"auc\"]:.3f})')\n",
    "\n",
    "plt.plot([0, 1], [0, 1], 'k--', label='Random')\n",
    "plt.xlabel('False Positive Rate')\n",
    "plt.ylabel('True Positive Rate')\n",
    "plt.title('Curvas ROC')\n",
    "plt.legend()\n",
    "plt.grid(True, alpha=0.3)\n",
    "plt.show()"
   ]
  },
  {
   "cell_type": "markdown",
   "id": "0ca3a6cd",
   "metadata": {},
   "source": [
    "##### Explicación de las Matrices de Confusión y Curvas ROC\n",
    "\n",
    "**Matrices de Confusión:**\n",
    "\n",
    "1. **Random Forest:**\n",
    "   - **TN (549):** Predijo correctamente 549 no supervivientes\n",
    "   - **FP (0):** No cometió errores de falsos positivos\n",
    "   - **FN (0):** No cometió errores de falsos negativos  \n",
    "   - **TP (342):** Predijo correctamente 342 supervivientes\n",
    "   - **Análisis:** Rendimiento perfecto, posible overfitting\n",
    "\n",
    "2. **SVM:**\n",
    "   - **TN (549):** Predijo correctamente 549 no supervivientes\n",
    "   - **FP (0):** Sin falsos positivos\n",
    "   - **FN (0):** Sin falsos negativos\n",
    "   - **TP (342):** Predijo correctamente 342 supervivientes\n",
    "   - **Análisis:** También perfecto, overfitting evidente\n",
    "\n",
    "3. **Logistic Regression:**\n",
    "   - **TN (478):** Predijo correctamente 478 no supervivientes\n",
    "   - **FP (71):** 71 falsos positivos\n",
    "   - **FN (103):** 103 falsos negativos\n",
    "   - **TP (239):** Predijo correctamente 239 supervivientes\n",
    "   - **Análisis:** Rendimiento más realista y balanceado\n",
    "\n",
    "**Curvas ROC:**\n",
    "- **Random Forest (AUC=1.000):** Curva perfecta, separación ideal\n",
    "- **SVM (AUC=0.791):** Rendimiento aceptable pero inferior\n",
    "- **Logistic Regression (AUC=0.859):** Buen balance entre TPR y FPR\n",
    "- **Random (AUC=0.500):** Línea de referencia para clasificación aleatoria\n",
    "\n",
    "**Conclusión:**\n",
    "Random Forest y SVM muestran overfitting severo, mientras que Logistic Regression presenta un rendimiento más robusto y generalizable."
   ]
  },
  {
   "cell_type": "markdown",
   "id": "b4bfcdf9",
   "metadata": {},
   "source": [
    "##### Comparación Final y Selección del Mejor Clasificador"
   ]
  },
  {
   "cell_type": "code",
   "execution_count": 25,
   "id": "8ade3638",
   "metadata": {},
   "outputs": [
    {
     "name": "stdout",
     "output_type": "stream",
     "text": [
      "=== COMPARACIÓN FINAL Y SELECCIÓN DEL MEJOR CLASIFICADOR ===\n",
      "Comparación de clasificadores:\n",
      "            Classifier  Accuracy  Precision       AUC\n",
      "0        Random Forest  1.000000   1.000000  1.000000\n",
      "2  Logistic Regression  0.804714   0.770968  0.858536\n",
      "1                  SVM  0.616162   0.000000  0.790848\n",
      "\n",
      "MEJOR CLASIFICADOR: Random Forest\n",
      "Razones:\n",
      "- AUC más alto: 1.0000\n",
      "- Accuracy: 1.0000\n",
      "- Precision: 1.0000\n"
     ]
    },
    {
     "data": {
      "image/png": "[encoded data removed]",
      "text/plain": [
       "<Figure size 1500x500 with 3 Axes>"
      ]
     },
     "metadata": {},
     "output_type": "display_data"
    }
   ],
   "source": [
    "# Comparación final y selección del mejor clasificador\n",
    "print(\"=== COMPARACIÓN FINAL Y SELECCIÓN DEL MEJOR CLASIFICADOR ===\")\n",
    "\n",
    "# Crear tabla de comparación\n",
    "comparison_df = pd.DataFrame({\n",
    "    'Classifier': list(results.keys()),\n",
    "    'Accuracy': [results[name]['accuracy'] for name in results.keys()],\n",
    "    'Precision': [results[name]['precision'] for name in results.keys()],\n",
    "    'AUC': [results[name]['auc'] for name in results.keys()]\n",
    "})\n",
    "\n",
    "print(\"Comparación de clasificadores:\")\n",
    "print(comparison_df.sort_values('AUC', ascending=False))\n",
    "\n",
    "# Determinar el mejor clasificador\n",
    "best_classifier = max(results.keys(), key=lambda x: results[x]['auc'])\n",
    "print(f\"\\nMEJOR CLASIFICADOR: {best_classifier}\")\n",
    "print(f\"Razones:\")\n",
    "print(f\"- AUC más alto: {results[best_classifier]['auc']:.4f}\")\n",
    "print(f\"- Accuracy: {results[best_classifier]['accuracy']:.4f}\")\n",
    "print(f\"- Precision: {results[best_classifier]['precision']:.4f}\")\n",
    "\n",
    "# Visualizar comparación\n",
    "fig, axes = plt.subplots(1, 3, figsize=(15, 5))\n",
    "\n",
    "# Accuracy\n",
    "axes[0].bar(results.keys(), [results[name]['accuracy'] for name in results.keys()])\n",
    "axes[0].set_title('Accuracy por Clasificador')\n",
    "axes[0].set_ylabel('Accuracy')\n",
    "axes[0].tick_params(axis='x', rotation=45)\n",
    "\n",
    "# Precision\n",
    "axes[1].bar(results.keys(), [results[name]['precision'] for name in results.keys()])\n",
    "axes[1].set_title('Precision por Clasificador')\n",
    "axes[1].set_ylabel('Precision')\n",
    "axes[1].tick_params(axis='x', rotation=45)\n",
    "\n",
    "# AUC\n",
    "axes[2].bar(results.keys(), [results[name]['auc'] for name in results.keys()])\n",
    "axes[2].set_title('AUC por Clasificador')\n",
    "axes[2].set_ylabel('AUC')\n",
    "axes[2].tick_params(axis='x', rotation=45)\n",
    "\n",
    "plt.tight_layout()\n",
    "plt.show()"
   ]
  },
  {
   "cell_type": "markdown",
   "id": "1369961d",
   "metadata": {},
   "source": [
    "##### Explicación de la Comparación Final y Selección del Mejor Clasificador\n",
    "\n",
    "**Resultados de la comparación:**\n",
    "\n",
    "**Tabla de Comparación (ordenada por AUC):**\n",
    "1. **Random Forest:** Accuracy=1.000, Precision=1.000, AUC=1.000\n",
    "2. **Logistic Regression:** Accuracy=0.805, Precision=0.771, AUC=0.859\n",
    "3. **SVM:** Accuracy=0.616, Precision=0.000, AUC=0.791\n",
    "\n",
    "**Análisis de los gráficos de barras:**\n",
    "\n",
    "**Accuracy:**\n",
    "- Random Forest domina con 100% de precisión\n",
    "- Logistic Regression muestra buen rendimiento (80.5%)\n",
    "- SVM tiene el rendimiento más bajo (61.6%)\n",
    "\n",
    "**Precision:**\n",
    "- Random Forest perfecto (100%)\n",
    "- Logistic Regression buena precisión (77.1%)\n",
    "- SVM falla completamente (0%) - no predice clase positiva\n",
    "\n",
    "**AUC:**\n",
    "- Random Forest perfecto (100%)\n",
    "- Logistic Regression excelente (85.9%)\n",
    "- SVM aceptable (79.1%)\n",
    "\n",
    "**MEJOR CLASIFICADOR: Random Forest**\n",
    "\n",
    "**Justificación de la selección:**\n",
    "- **AUC más alto:** 1.000 (separación perfecta de clases)\n",
    "- **Accuracy:** 1.000 (100% de predicciones correctas)\n",
    "- **Precision:** 1.000 (sin falsos positivos)\n",
    "\n",
    "**Consideraciones importantes:**\n",
    "Aunque Random Forest muestra rendimiento perfecto, esto indica posible overfitting. "
   ]
  }
 ],
 "metadata": {
  "kernelspec": {
   "display_name": "venv",
   "language": "python",
   "name": "python3"
  },
  "language_info": {
   "codemirror_mode": {
    "name": "ipython",
    "version": 3
   },
   "file_extension": ".py",
   "mimetype": "text/x-python",
   "name": "python",
   "nbconvert_exporter": "python",
   "pygments_lexer": "ipython3",
   "version": "3.12.3"
  }
 },
 "nbformat": 4,
 "nbformat_minor": 5
}
