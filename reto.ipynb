{
 "cells": [
  {
   "cell_type": "code",
   "execution_count": 60,
   "metadata": {},
   "outputs": [],
   "source": [
    "import plotly.graph_objects as go\n",
    "from plotly.subplots import make_subplots\n",
    "from sklearn.preprocessing import StandardScaler\n",
    "from sklearn.decomposition import PCA\n",
    "import pandas as pd\n",
    "import numpy as np\n",
    "import seaborn as sns"
   ]
  },
  {
   "cell_type": "code",
   "execution_count": 30,
   "metadata": {},
   "outputs": [],
   "source": [
    "test = pd.read_csv(\"test.csv\")"
   ]
  },
  {
   "cell_type": "code",
   "execution_count": 31,
   "metadata": {},
   "outputs": [
    {
     "name": "stderr",
     "output_type": "stream",
     "text": [
      "/var/folders/kq/cr8_7m35061_9x__y1mlsxyc0000gn/T/ipykernel_83435/1905089044.py:1: FutureWarning:\n",
      "\n",
      "DataFrame.interpolate with object dtype is deprecated and will raise in a future version. Call obj.infer_objects(copy=False) before interpolating instead.\n",
      "\n"
     ]
    }
   ],
   "source": [
    "test.interpolate(method = \"spline\", order = 3, inplace=True)"
   ]
  },
  {
   "cell_type": "code",
   "execution_count": 32,
   "metadata": {},
   "outputs": [],
   "source": [
    "numeric_data = test.select_dtypes(include = [\"float64\", \"int64\"])\n",
    "numeric_columns = [column for column in numeric_data.columns if column != \"PassengerId\"]\n",
    "numeric_data = numeric_data[numeric_columns]"
   ]
  },
  {
   "cell_type": "code",
   "execution_count": 33,
   "metadata": {},
   "outputs": [
    {
     "data": {
      "application/vnd.plotly.v1+json": {
       "config": {
        "plotlyServerURL": "https://plot.ly"
       },
       "data": [
        {
         "colorscale": [
          [
           0,
           "rgb(5,48,97)"
          ],
          [
           0.1,
           "rgb(33,102,172)"
          ],
          [
           0.2,
           "rgb(67,147,195)"
          ],
          [
           0.3,
           "rgb(146,197,222)"
          ],
          [
           0.4,
           "rgb(209,229,240)"
          ],
          [
           0.5,
           "rgb(247,247,247)"
          ],
          [
           0.6,
           "rgb(253,219,199)"
          ],
          [
           0.7,
           "rgb(244,165,130)"
          ],
          [
           0.8,
           "rgb(214,96,77)"
          ],
          [
           0.9,
           "rgb(178,24,43)"
          ],
          [
           1,
           "rgb(103,0,31)"
          ]
         ],
         "text": {
          "bdata": "AAAAAAAA8D8T8Q6mjGbXv8qGXV0NzlE/4+msG4Arkz+g7bvObn/ivxPxDqaMZte/AAAAAAAA8D9Na2IxRBGqv5Mo/pgoXI8/sbKjCIWe0T/Khl1dDc5RP01rYjFEEaq/AAAAAAAA8D8kZjJQKaTTP6mLTHwXFcY/4+msG4Arkz+TKP6YKFyPPyRmMlAppNM/AAAAAAAA8D+callWvYfNP6Dtu85uf+K/sbKjCIWe0T+pi0x8FxXGP5xqWVa9h80/AAAAAAAA8D8=",
          "dtype": "f8",
          "shape": "5, 5"
         },
         "textfont": {
          "size": 14
         },
         "texttemplate": "%{text:.2f}",
         "type": "heatmap",
         "x": [
          "Pclass",
          "Age",
          "SibSp",
          "Parch",
          "Fare"
         ],
         "y": [
          "Pclass",
          "Age",
          "SibSp",
          "Parch",
          "Fare"
         ],
         "z": {
          "bdata": "AAAAAAAA8D8T8Q6mjGbXv8qGXV0NzlE/4+msG4Arkz+g7bvObn/ivxPxDqaMZte/AAAAAAAA8D9Na2IxRBGqv5Mo/pgoXI8/sbKjCIWe0T/Khl1dDc5RP01rYjFEEaq/AAAAAAAA8D8kZjJQKaTTP6mLTHwXFcY/4+msG4Arkz+TKP6YKFyPPyRmMlAppNM/AAAAAAAA8D+callWvYfNP6Dtu85uf+K/sbKjCIWe0T+pi0x8FxXGP5xqWVa9h80/AAAAAAAA8D8=",
          "dtype": "f8",
          "shape": "5, 5"
         }
        }
       ],
       "layout": {
        "template": {
         "data": {
          "bar": [
           {
            "error_x": {
             "color": "#f2f5fa"
            },
            "error_y": {
             "color": "#f2f5fa"
            },
            "marker": {
             "line": {
              "color": "rgb(17,17,17)",
              "width": 0.5
             },
             "pattern": {
              "fillmode": "overlay",
              "size": 10,
              "solidity": 0.2
             }
            },
            "type": "bar"
           }
          ],
          "barpolar": [
           {
            "marker": {
             "line": {
              "color": "rgb(17,17,17)",
              "width": 0.5
             },
             "pattern": {
              "fillmode": "overlay",
              "size": 10,
              "solidity": 0.2
             }
            },
            "type": "barpolar"
           }
          ],
          "carpet": [
           {
            "aaxis": {
             "endlinecolor": "#A2B1C6",
             "gridcolor": "#506784",
             "linecolor": "#506784",
             "minorgridcolor": "#506784",
             "startlinecolor": "#A2B1C6"
            },
            "baxis": {
             "endlinecolor": "#A2B1C6",
             "gridcolor": "#506784",
             "linecolor": "#506784",
             "minorgridcolor": "#506784",
             "startlinecolor": "#A2B1C6"
            },
            "type": "carpet"
           }
          ],
          "choropleth": [
           {
            "colorbar": {
             "outlinewidth": 0,
             "ticks": ""
            },
            "type": "choropleth"
           }
          ],
          "contour": [
           {
            "colorbar": {
             "outlinewidth": 0,
             "ticks": ""
            },
            "colorscale": [
             [
              0,
              "#0d0887"
             ],
             [
              0.1111111111111111,
              "#46039f"
             ],
             [
              0.2222222222222222,
              "#7201a8"
             ],
             [
              0.3333333333333333,
              "#9c179e"
             ],
             [
              0.4444444444444444,
              "#bd3786"
             ],
             [
              0.5555555555555556,
              "#d8576b"
             ],
             [
              0.6666666666666666,
              "#ed7953"
             ],
             [
              0.7777777777777778,
              "#fb9f3a"
             ],
             [
              0.8888888888888888,
              "#fdca26"
             ],
             [
              1,
              "#f0f921"
             ]
            ],
            "type": "contour"
           }
          ],
          "contourcarpet": [
           {
            "colorbar": {
             "outlinewidth": 0,
             "ticks": ""
            },
            "type": "contourcarpet"
           }
          ],
          "heatmap": [
           {
            "colorbar": {
             "outlinewidth": 0,
             "ticks": ""
            },
            "colorscale": [
             [
              0,
              "#0d0887"
             ],
             [
              0.1111111111111111,
              "#46039f"
             ],
             [
              0.2222222222222222,
              "#7201a8"
             ],
             [
              0.3333333333333333,
              "#9c179e"
             ],
             [
              0.4444444444444444,
              "#bd3786"
             ],
             [
              0.5555555555555556,
              "#d8576b"
             ],
             [
              0.6666666666666666,
              "#ed7953"
             ],
             [
              0.7777777777777778,
              "#fb9f3a"
             ],
             [
              0.8888888888888888,
              "#fdca26"
             ],
             [
              1,
              "#f0f921"
             ]
            ],
            "type": "heatmap"
           }
          ],
          "histogram": [
           {
            "marker": {
             "pattern": {
              "fillmode": "overlay",
              "size": 10,
              "solidity": 0.2
             }
            },
            "type": "histogram"
           }
          ],
          "histogram2d": [
           {
            "colorbar": {
             "outlinewidth": 0,
             "ticks": ""
            },
            "colorscale": [
             [
              0,
              "#0d0887"
             ],
             [
              0.1111111111111111,
              "#46039f"
             ],
             [
              0.2222222222222222,
              "#7201a8"
             ],
             [
              0.3333333333333333,
              "#9c179e"
             ],
             [
              0.4444444444444444,
              "#bd3786"
             ],
             [
              0.5555555555555556,
              "#d8576b"
             ],
             [
              0.6666666666666666,
              "#ed7953"
             ],
             [
              0.7777777777777778,
              "#fb9f3a"
             ],
             [
              0.8888888888888888,
              "#fdca26"
             ],
             [
              1,
              "#f0f921"
             ]
            ],
            "type": "histogram2d"
           }
          ],
          "histogram2dcontour": [
           {
            "colorbar": {
             "outlinewidth": 0,
             "ticks": ""
            },
            "colorscale": [
             [
              0,
              "#0d0887"
             ],
             [
              0.1111111111111111,
              "#46039f"
             ],
             [
              0.2222222222222222,
              "#7201a8"
             ],
             [
              0.3333333333333333,
              "#9c179e"
             ],
             [
              0.4444444444444444,
              "#bd3786"
             ],
             [
              0.5555555555555556,
              "#d8576b"
             ],
             [
              0.6666666666666666,
              "#ed7953"
             ],
             [
              0.7777777777777778,
              "#fb9f3a"
             ],
             [
              0.8888888888888888,
              "#fdca26"
             ],
             [
              1,
              "#f0f921"
             ]
            ],
            "type": "histogram2dcontour"
           }
          ],
          "mesh3d": [
           {
            "colorbar": {
             "outlinewidth": 0,
             "ticks": ""
            },
            "type": "mesh3d"
           }
          ],
          "parcoords": [
           {
            "line": {
             "colorbar": {
              "outlinewidth": 0,
              "ticks": ""
             }
            },
            "type": "parcoords"
           }
          ],
          "pie": [
           {
            "automargin": true,
            "type": "pie"
           }
          ],
          "scatter": [
           {
            "marker": {
             "line": {
              "color": "#283442"
             }
            },
            "type": "scatter"
           }
          ],
          "scatter3d": [
           {
            "line": {
             "colorbar": {
              "outlinewidth": 0,
              "ticks": ""
             }
            },
            "marker": {
             "colorbar": {
              "outlinewidth": 0,
              "ticks": ""
             }
            },
            "type": "scatter3d"
           }
          ],
          "scattercarpet": [
           {
            "marker": {
             "colorbar": {
              "outlinewidth": 0,
              "ticks": ""
             }
            },
            "type": "scattercarpet"
           }
          ],
          "scattergeo": [
           {
            "marker": {
             "colorbar": {
              "outlinewidth": 0,
              "ticks": ""
             }
            },
            "type": "scattergeo"
           }
          ],
          "scattergl": [
           {
            "marker": {
             "line": {
              "color": "#283442"
             }
            },
            "type": "scattergl"
           }
          ],
          "scattermap": [
           {
            "marker": {
             "colorbar": {
              "outlinewidth": 0,
              "ticks": ""
             }
            },
            "type": "scattermap"
           }
          ],
          "scattermapbox": [
           {
            "marker": {
             "colorbar": {
              "outlinewidth": 0,
              "ticks": ""
             }
            },
            "type": "scattermapbox"
           }
          ],
          "scatterpolar": [
           {
            "marker": {
             "colorbar": {
              "outlinewidth": 0,
              "ticks": ""
             }
            },
            "type": "scatterpolar"
           }
          ],
          "scatterpolargl": [
           {
            "marker": {
             "colorbar": {
              "outlinewidth": 0,
              "ticks": ""
             }
            },
            "type": "scatterpolargl"
           }
          ],
          "scatterternary": [
           {
            "marker": {
             "colorbar": {
              "outlinewidth": 0,
              "ticks": ""
             }
            },
            "type": "scatterternary"
           }
          ],
          "surface": [
           {
            "colorbar": {
             "outlinewidth": 0,
             "ticks": ""
            },
            "colorscale": [
             [
              0,
              "#0d0887"
             ],
             [
              0.1111111111111111,
              "#46039f"
             ],
             [
              0.2222222222222222,
              "#7201a8"
             ],
             [
              0.3333333333333333,
              "#9c179e"
             ],
             [
              0.4444444444444444,
              "#bd3786"
             ],
             [
              0.5555555555555556,
              "#d8576b"
             ],
             [
              0.6666666666666666,
              "#ed7953"
             ],
             [
              0.7777777777777778,
              "#fb9f3a"
             ],
             [
              0.8888888888888888,
              "#fdca26"
             ],
             [
              1,
              "#f0f921"
             ]
            ],
            "type": "surface"
           }
          ],
          "table": [
           {
            "cells": {
             "fill": {
              "color": "#506784"
             },
             "line": {
              "color": "rgb(17,17,17)"
             }
            },
            "header": {
             "fill": {
              "color": "#2a3f5f"
             },
             "line": {
              "color": "rgb(17,17,17)"
             }
            },
            "type": "table"
           }
          ]
         },
         "layout": {
          "annotationdefaults": {
           "arrowcolor": "#f2f5fa",
           "arrowhead": 0,
           "arrowwidth": 1
          },
          "autotypenumbers": "strict",
          "coloraxis": {
           "colorbar": {
            "outlinewidth": 0,
            "ticks": ""
           }
          },
          "colorscale": {
           "diverging": [
            [
             0,
             "#8e0152"
            ],
            [
             0.1,
             "#c51b7d"
            ],
            [
             0.2,
             "#de77ae"
            ],
            [
             0.3,
             "#f1b6da"
            ],
            [
             0.4,
             "#fde0ef"
            ],
            [
             0.5,
             "#f7f7f7"
            ],
            [
             0.6,
             "#e6f5d0"
            ],
            [
             0.7,
             "#b8e186"
            ],
            [
             0.8,
             "#7fbc41"
            ],
            [
             0.9,
             "#4d9221"
            ],
            [
             1,
             "#276419"
            ]
           ],
           "sequential": [
            [
             0,
             "#0d0887"
            ],
            [
             0.1111111111111111,
             "#46039f"
            ],
            [
             0.2222222222222222,
             "#7201a8"
            ],
            [
             0.3333333333333333,
             "#9c179e"
            ],
            [
             0.4444444444444444,
             "#bd3786"
            ],
            [
             0.5555555555555556,
             "#d8576b"
            ],
            [
             0.6666666666666666,
             "#ed7953"
            ],
            [
             0.7777777777777778,
             "#fb9f3a"
            ],
            [
             0.8888888888888888,
             "#fdca26"
            ],
            [
             1,
             "#f0f921"
            ]
           ],
           "sequentialminus": [
            [
             0,
             "#0d0887"
            ],
            [
             0.1111111111111111,
             "#46039f"
            ],
            [
             0.2222222222222222,
             "#7201a8"
            ],
            [
             0.3333333333333333,
             "#9c179e"
            ],
            [
             0.4444444444444444,
             "#bd3786"
            ],
            [
             0.5555555555555556,
             "#d8576b"
            ],
            [
             0.6666666666666666,
             "#ed7953"
            ],
            [
             0.7777777777777778,
             "#fb9f3a"
            ],
            [
             0.8888888888888888,
             "#fdca26"
            ],
            [
             1,
             "#f0f921"
            ]
           ]
          },
          "colorway": [
           "#636efa",
           "#EF553B",
           "#00cc96",
           "#ab63fa",
           "#FFA15A",
           "#19d3f3",
           "#FF6692",
           "#B6E880",
           "#FF97FF",
           "#FECB52"
          ],
          "font": {
           "color": "#f2f5fa"
          },
          "geo": {
           "bgcolor": "rgb(17,17,17)",
           "lakecolor": "rgb(17,17,17)",
           "landcolor": "rgb(17,17,17)",
           "showlakes": true,
           "showland": true,
           "subunitcolor": "#506784"
          },
          "hoverlabel": {
           "align": "left"
          },
          "hovermode": "closest",
          "mapbox": {
           "style": "dark"
          },
          "paper_bgcolor": "rgb(17,17,17)",
          "plot_bgcolor": "rgb(17,17,17)",
          "polar": {
           "angularaxis": {
            "gridcolor": "#506784",
            "linecolor": "#506784",
            "ticks": ""
           },
           "bgcolor": "rgb(17,17,17)",
           "radialaxis": {
            "gridcolor": "#506784",
            "linecolor": "#506784",
            "ticks": ""
           }
          },
          "scene": {
           "xaxis": {
            "backgroundcolor": "rgb(17,17,17)",
            "gridcolor": "#506784",
            "gridwidth": 2,
            "linecolor": "#506784",
            "showbackground": true,
            "ticks": "",
            "zerolinecolor": "#C8D4E3"
           },
           "yaxis": {
            "backgroundcolor": "rgb(17,17,17)",
            "gridcolor": "#506784",
            "gridwidth": 2,
            "linecolor": "#506784",
            "showbackground": true,
            "ticks": "",
            "zerolinecolor": "#C8D4E3"
           },
           "zaxis": {
            "backgroundcolor": "rgb(17,17,17)",
            "gridcolor": "#506784",
            "gridwidth": 2,
            "linecolor": "#506784",
            "showbackground": true,
            "ticks": "",
            "zerolinecolor": "#C8D4E3"
           }
          },
          "shapedefaults": {
           "line": {
            "color": "#f2f5fa"
           }
          },
          "sliderdefaults": {
           "bgcolor": "#C8D4E3",
           "bordercolor": "rgb(17,17,17)",
           "borderwidth": 1,
           "tickwidth": 0
          },
          "ternary": {
           "aaxis": {
            "gridcolor": "#506784",
            "linecolor": "#506784",
            "ticks": ""
           },
           "baxis": {
            "gridcolor": "#506784",
            "linecolor": "#506784",
            "ticks": ""
           },
           "bgcolor": "rgb(17,17,17)",
           "caxis": {
            "gridcolor": "#506784",
            "linecolor": "#506784",
            "ticks": ""
           }
          },
          "title": {
           "x": 0.05
          },
          "updatemenudefaults": {
           "bgcolor": "#506784",
           "borderwidth": 0
          },
          "xaxis": {
           "automargin": true,
           "gridcolor": "#283442",
           "linecolor": "#506784",
           "ticks": "",
           "title": {
            "standoff": 15
           },
           "zerolinecolor": "#283442",
           "zerolinewidth": 2
          },
          "yaxis": {
           "automargin": true,
           "gridcolor": "#283442",
           "linecolor": "#506784",
           "ticks": "",
           "title": {
            "standoff": 15
           },
           "zerolinecolor": "#283442",
           "zerolinewidth": 2
          }
         }
        },
        "title": {
         "text": "Matriz de correlación para la base de datos"
        }
       }
      }
     },
     "metadata": {},
     "output_type": "display_data"
    }
   ],
   "source": [
    "corr_data = numeric_data.corr()\n",
    "\n",
    "fig = go.Figure()\n",
    "\n",
    "fig.add_trace(\n",
    "    go.Heatmap(\n",
    "        z = corr_data,\n",
    "        x = numeric_columns,\n",
    "        y = numeric_columns,\n",
    "        text = corr_data.values,\n",
    "        texttemplate=\"%{text:.2f}\",\n",
    "        colorscale=\"RdBu_r\",\n",
    "        textfont = dict(\n",
    "            size = 14\n",
    "        )\n",
    "    )\n",
    ")\n",
    "\n",
    "fig.update_layout(\n",
    "    template = \"plotly_dark\",\n",
    "    title_text = \"Matriz de correlación para la base de datos\"\n",
    ")\n",
    "\n",
    "fig.show()"
   ]
  },
  {
   "cell_type": "code",
   "execution_count": 34,
   "metadata": {},
   "outputs": [
    {
     "data": {
      "application/vnd.plotly.v1+json": {
       "config": {
        "plotlyServerURL": "https://plot.ly"
       },
       "data": [
        {
         "marker": {
          "color": "steelblue",
          "line": {
           "color": "black",
           "width": 1
          }
         },
         "type": "histogram",
         "x": {
          "bdata": "AwMCAwMDAwIDAwMBAQIBAgIDAwMBAwEBAQMBAwEDAgIDAwEDAwMDAwMBAwIBAwEDAQMBAgIBAgMDAwMBAwIDAwECAwEBAQMDAwEBAQMBAgMDAQEDAgMDAwMCAwMBAwEDAQMDAwECAwMDAwMDAwICAwEDAQMDAwECAgMBAwMDAwMCAwMBAwMDAwMCAwMDAQECAQMBAwECAQMDAwMDAQMBAwMDAgMCAwEDAQMDAwMDAwICAQIBAgEBAwECAgMDAgIBAwICAwEDAgMDAwECAgEDAgEDAwMCAgMBAwEBAwIDAgMBAwMDAwICAQMDAQMBAwIBAQIBAwMBAgICAwIDAQMDAwMDAgMDAwIDAgMBAwMDAQMBAwMCAgICAgMDAwMDAwMBAwMBAwMBAwMCAwEDAwICAwMBAQMBAwMDAwMBAwECAwIDAwIBAQMCAQICAgEDAwMBAgMCAwIDAwEDAwIDAgIBAgICAwEBAwMDAwICAwEDAwMBAgIBAQIBAQMCAQMDAwMDAgIDAgMDAQEDAgMBAwEDAwECAQEBAgIBAwMDAQMDAQMDAw==",
          "dtype": "i1"
         },
         "xaxis": "x",
         "yaxis": "y"
        },
        {
         "marker": {
          "color": "steelblue"
         },
         "mode": "markers",
         "type": "scatter",
         "x": {
          "bdata": "AwMCAwMDAwIDAwMBAQIBAgIDAwMBAwEBAQMBAwEDAgIDAwEDAwMDAwMBAwIBAwEDAQMBAgIBAgMDAwMBAwIDAwECAwEBAQMDAwEBAQMBAgMDAQEDAgMDAwMCAwMBAwEDAQMDAwECAwMDAwMDAwICAwEDAQMDAwECAgMBAwMDAwMCAwMBAwMDAwMCAwMDAQECAQMBAwECAQMDAwMDAQMBAwMDAgMCAwEDAQMDAwMDAwICAQIBAgEBAwECAgMDAgIBAwICAwEDAgMDAwECAgEDAgEDAwMCAgMBAwEBAwIDAgMBAwMDAwICAQMDAQMBAwIBAQIBAwMBAgICAwIDAQMDAwMDAgMDAwIDAgMBAwMDAQMBAwMCAgICAgMDAwMDAwMBAwMBAwMBAwMCAwEDAwICAwMBAQMBAwMDAwMBAwECAwIDAwIBAQMCAQICAgEDAwMBAgMCAwIDAwEDAwIDAgIBAgICAwEBAwMDAwICAwEDAwMBAgIBAQIBAQMCAQMDAwMDAgIDAgMDAQEDAgMBAwEDAwECAQEBAgIBAwMDAQMDAQMDAw==",
          "dtype": "i1"
         },
         "xaxis": "x2",
         "y": {
          "bdata": "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",
          "dtype": "f8"
         },
         "yaxis": "y2"
        },
        {
         "marker": {
          "color": "steelblue"
         },
         "mode": "markers",
         "type": "scatter",
         "x": {
          "bdata": "AwMCAwMDAwIDAwMBAQIBAgIDAwMBAwEBAQMBAwEDAgIDAwEDAwMDAwMBAwIBAwEDAQMBAgIBAgMDAwMBAwIDAwECAwEBAQMDAwEBAQMBAgMDAQEDAgMDAwMCAwMBAwEDAQMDAwECAwMDAwMDAwICAwEDAQMDAwECAgMBAwMDAwMCAwMBAwMDAwMCAwMDAQECAQMBAwECAQMDAwMDAQMBAwMDAgMCAwEDAQMDAwMDAwICAQIBAgEBAwECAgMDAgIBAwICAwEDAgMDAwECAgEDAgEDAwMCAgMBAwEBAwIDAgMBAwMDAwICAQMDAQMBAwIBAQIBAwMBAgICAwIDAQMDAwMDAgMDAwIDAgMBAwMDAQMBAwMCAgICAgMDAwMDAwMBAwMBAwMBAwMCAwEDAwICAwMBAQMBAwMDAwMBAwECAwIDAwIBAQMCAQICAgEDAwMBAgMCAwIDAwEDAwIDAgIBAgICAwEBAwMDAwICAwEDAwMBAgIBAQIBAQMCAQMDAwMDAgIDAgMDAQEDAgMBAwEDAwECAQEBAgIBAwMDAQMDAQMDAw==",
          "dtype": "i1"
         },
         "xaxis": "x3",
         "y": {
          "bdata": "AAEAAAEAAAEAAgAAAQEBAQAAAQABAAAAAQEAAAACAQIBAQEAAAAAAAAAAAABAAAAAAABAAIDAAQAAAEAAAAAAAIAAAAAAQAAAAAAAAACAAABAQAAAAEAAAABAQABAAAAAQAAAAEBAAABAAAAAAAAAAAAAQEAAQABAAEBAAAAAAIAAAAAAAEAAAAAAAEFAAEAAAMAAAABAAAAAAQAAAAAAAABAAAAAQACAAAAAAEAAQAAAQAAAAEBAAEAAAIIAAEAAQAAAAAAAAAAAAEBAAAAAAAAAAAAAQQAAAEBAAEAAAAAAAAAAAAAAAEAAQABAAEBAAABAAEBAAEBAQEAAQAAAAAAAAABAAABAAAAAAAAAAABAQABAAEBAAABAAEBAAABAAAAAAABAAABAgAAAAAAAAABAQABAQAAAAAAAAEAAAIAAAAAAAACAAEAAAAAAQAAAAAAAAAAAQABAAAAAAAAAAABAQACAAABCAEAAAEBAQAAAAEAAAABAAIAAAQAAAABAAEAAAADAAAAAAMBAAEAAAABAAABAAEBAAEAAQAAAAAAAQ==",
          "dtype": "i1"
         },
         "yaxis": "y3"
        },
        {
         "marker": {
          "color": "steelblue"
         },
         "mode": "markers",
         "type": "scatter",
         "x": {
          "bdata": "AwMCAwMDAwIDAwMBAQIBAgIDAwMBAwEBAQMBAwEDAgIDAwEDAwMDAwMBAwIBAwEDAQMBAgIBAgMDAwMBAwIDAwECAwEBAQMDAwEBAQMBAgMDAQEDAgMDAwMCAwMBAwEDAQMDAwECAwMDAwMDAwICAwEDAQMDAwECAgMBAwMDAwMCAwMBAwMDAwMCAwMDAQECAQMBAwECAQMDAwMDAQMBAwMDAgMCAwEDAQMDAwMDAwICAQIBAgEBAwECAgMDAgIBAwICAwEDAgMDAwECAgEDAgEDAwMCAgMBAwEBAwIDAgMBAwMDAwICAQMDAQMBAwIBAQIBAwMBAgICAwIDAQMDAwMDAgMDAwIDAgMBAwMDAQMBAwMCAgICAgMDAwMDAwMBAwMBAwMBAwMCAwEDAwICAwMBAQMBAwMDAwMBAwECAwIDAwIBAQMCAQICAgEDAwMBAgMCAwIDAwEDAwIDAgIBAgICAwEBAwMDAwICAwEDAwMBAgIBAQIBAQMCAQMDAwMDAgIDAgMDAQEDAgMBAwEDAwECAQEBAgIBAwMDAQMDAQMDAw==",
          "dtype": "i1"
         },
         "xaxis": "x4",
         "y": {
          "bdata": "AAAAAAEAAAEAAAAAAAAAAAAAAAAAAQABAwABAAAAAAACAgAAAAAAAAEAAAAAAAAAAAIAAAECAAEAAAAAAAAAAAIAAAAABAAAAAAAAAAAAAABAAAAAAAAAAABAAACAAAAAAAAAAAAAAABAAAAAAAAAAAAAAAAAQAAAAAAAAABAAAAAAAABAAAAAAAAAYCAAMAAAAAAAABAQAAAgIAAAAAAgABAAAAAQACAAAAAAAABQIAAAMCAAEAAAEAAQACAAAAAQACAAIAAAAAAgABAAAAAAAAAAAAAAIAAAEBAAAAAAAAAgAAAAAAAAAAAAAAAAEAAAIBAAIAAAEAAAIAAAAAAAAAAAAAAAIBAAAAAAAAAAAAAAAAAAAAAAABAAEBAAAAAAAAAAABAAACAAAAAAABAAABAgEBAAAAAAAAAAAAAAAAAAAAAAABAAAAAgAAAQAAAAIAAAAACQEBAAAAAAABAAACAgAAAAAAAgEAAAAJAAABAAAAAAABAAAAAAIAAAAAAAIAAAABAAECAAEAAAEAAAAAAQAAAAABAAEAAAAAAAAAAQ==",
          "dtype": "i1"
         },
         "yaxis": "y4"
        },
        {
         "marker": {
          "color": "steelblue"
         },
         "mode": "markers",
         "type": "scatter",
         "x": {
          "bdata": "AwMCAwMDAwIDAwMBAQIBAgIDAwMBAwEBAQMBAwEDAgIDAwEDAwMDAwMBAwIBAwEDAQMBAgIBAgMDAwMBAwIDAwECAwEBAQMDAwEBAQMBAgMDAQEDAgMDAwMCAwMBAwEDAQMDAwECAwMDAwMDAwICAwEDAQMDAwECAgMBAwMDAwMCAwMBAwMDAwMCAwMDAQECAQMBAwECAQMDAwMDAQMBAwMDAgMCAwEDAQMDAwMDAwICAQIBAgEBAwECAgMDAgIBAwICAwEDAgMDAwECAgEDAgEDAwMCAgMBAwEBAwIDAgMBAwMDAwICAQMDAQMBAwIBAQIBAwMBAgICAwIDAQMDAwMDAgMDAwIDAgMBAwMDAQMBAwMCAgICAgMDAwMDAwMBAwMBAwMBAwMCAwEDAwICAwMBAQMBAwMDAwMBAwECAwIDAwIBAQMCAQICAgEDAwMBAgMCAwIDAwEDAwIDAgIBAgICAwEBAwMDAwICAwEDAwMBAgIBAQIBAQMCAQMDAwMDAgIDAgMDAQEDAgMBAwEDAwECAQEBAgIBAwMDAQMDAQMDAw==",
          "dtype": "i1"
         },
         "xaxis": "x5",
         "y": {
          "bdata": "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",
          "dtype": "f8"
         },
         "yaxis": "y5"
        },
        {
         "marker": {
          "color": "steelblue"
         },
         "mode": "markers",
         "type": "scatter",
         "x": {
          "bdata": "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",
          "dtype": "f8"
         },
         "xaxis": "x6",
         "y": {
          "bdata": "AwMCAwMDAwIDAwMBAQIBAgIDAwMBAwEBAQMBAwEDAgIDAwEDAwMDAwMBAwIBAwEDAQMBAgIBAgMDAwMBAwIDAwECAwEBAQMDAwEBAQMBAgMDAQEDAgMDAwMCAwMBAwEDAQMDAwECAwMDAwMDAwICAwEDAQMDAwECAgMBAwMDAwMCAwMBAwMDAwMCAwMDAQECAQMBAwECAQMDAwMDAQMBAwMDAgMCAwEDAQMDAwMDAwICAQIBAgEBAwECAgMDAgIBAwICAwEDAgMDAwECAgEDAgEDAwMCAgMBAwEBAwIDAgMBAwMDAwICAQMDAQMBAwIBAQIBAwMBAgICAwIDAQMDAwMDAgMDAwIDAgMBAwMDAQMBAwMCAgICAgMDAwMDAwMBAwMBAwMBAwMCAwEDAwICAwMBAQMBAwMDAwMBAwECAwIDAwIBAQMCAQICAgEDAwMBAgMCAwIDAwEDAwIDAgIBAgICAwEBAwMDAwICAwEDAwMBAgIBAQIBAQMCAQMDAwMDAgIDAgMDAQEDAgMBAwEDAwECAQEBAgIBAwMDAQMDAQMDAw==",
          "dtype": "i1"
         },
         "yaxis": "y6"
        },
        {
         "marker": {
          "color": "steelblue",
          "line": {
           "color": "black",
           "width": 1
          }
         },
         "type": "histogram",
         "x": {
          "bdata": "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",
          "dtype": "f8"
         },
         "xaxis": "x7",
         "yaxis": "y7"
        },
        {
         "marker": {
          "color": "steelblue"
         },
         "mode": "markers",
         "type": "scatter",
         "x": {
          "bdata": "AAAAAABAQUAAAAAAAIBHQAAAAAAAAE9AAAAAAAAAO0AAAAAAAAA2QAAAAAAAACxAAAAAAAAAPkAAAAAAAAA6QAAAAAAAADJAAAAAAAAANUDv+IcAeWRFQAAAAAAAAEdAAAAAAAAAN0AAAAAAAIBPQAAAAAAAgEdAAAAAAAAAOEAAAAAAAIBBQAAAAAAAADVAAAAAAAAAO0AAAAAAAIBGQAAAAAAAgEtAAAAAAAAAIkD2TrE7K/cAwAAAAAAAADVAAAAAAAAASEAAAAAAAABJQAAAAAAAADZAAAAAAACANkAAAAAAAIBEQFLihglxi0xAAAAAAAAASUAAAAAAAAA4QAAAAAAAgEBAfr4Z7bMpQkAAAAAAAAA+QAAAAAAAgDJAb1ayLOagMUAAAAAAAAA1QAAAAAAAADlAKQCS0CLcQEAAAAAAAIBDQG2k/E5vwkVAAAAAAACAREAAAAAAAAA+QAAAAAAAgEZAAAAAAAAAOUAAAAAAAIBGQEu1IRfFXE9AAAAAAAAATkAAAAAAAABCQAAAAAAAADhAAAAAAAAAO0AAAAAAAAA0QAAAAAAAADxA13W+W6iRLUAAAAAAAAAkQAAAAAAAgEFAAAAAAAAAOUDZbHRujB1AQAAAAAAAAEJAAAAAAAAAMUAAAAAAAABAQAAAAAAAADJAAAAAAAAANkAAAAAAAAAqQGzYBWTGexJAAAAAAAAAMkAAAAAAAIBHQAAAAAAAAD9AAAAAAAAATkAAAAAAAAA4QAAAAAAAADVAAAAAAAAAPUAAAAAAAIA8QAAAAAAAgEFAAAAAAABAQEClebD2cB9JQAAAAAAAgEtAAAAAAAAAPkAAAAAAAAA4QAAAAAAAABhAAAAAAADAUEAAAAAAAIBIQLFJcwJOmzpAGQVKl3+/N0C5UF6O0kk8QAAAAAAAADtAAAAAAAAAMkBvLE1Q9YwGQAAAAAAAAABAAAAAAAAANkDEE1qsld07QAAAAAAAADtA0giQPAONPUAAAAAAAAA5QAAAAAAAADlAAAAAAAAAU0AAAAAAAAA9QAAAAAAAADRAAAAAAACAQEAAAAAAAIBFQAAAAAAAADtABizryNdnOEAAAAAAAAA6QAAAAAAAADBAAAAAAAAAPEAAAAAAAAA1QD5Vl1xAAS1AzXQbaWzZIUAAAAAAAIAyQAAAAAAAgERACVVrthjUSUAAAAAAAABCQAAAAAAAgDJAAAAAAACAT0AAAAAAAAAyQNV4eAkKZSrAAAAAAAAA8D8AAAAAAABCQAAAAAAAAD1AAAAAAAAAKEBkgRspcS41QAAAAAAAgEFAAAAAAAAAPEBQg66u1V8zQAAAAAAAADFAAAAAAAAANkBaLi9YITtDQAAAAAAAAEVAAAAAAAAAOEAAAAAAAABAQAAAAAAAgEpA6xKC3PlOT0AK3MFg3A1NQAAAAAAAgEVAAAAAAAAAOEAAAAAAAIA6QAAAAAAAADpAAAAAAAAAN0AAAAAAAABEQAAAAAAAACRAAAAAAACAQEAAAAAAAIBOQAAAAAAAADxAAAAAAAAARUAAAAAAAAA/QOCuCf28yDRAAAAAAAAANkBwV1u1dWo9QAAAAAAAAD5AAAAAAAAAN0Dt3ZYWPj1GQAAAAAAAQE5AAAAAAAAAQkAAAAAAAAAqQAAAAAAAADhAAAAAAAAAPUAAAAAAAAA3QAAAAAAAAEVAAAAAAAAAOkCkEm6j8Z0hQAAAAAAAABxAAAAAAAAAOkA8Uj12c8xEQAAAAAAAgERAAAAAAAAAOkAAAAAAAABIQAAAAAAAADJAjXyXyUlbIkAAAAAAAAA2QHyszI0ART1AAAAAAAAAO0AAAAAAAAA3QPjxS4PgRUJAAAAAAAAAREAAAAAAAAAuQAAAAAAAADRAAAAAAAAAS0AAAAAAAABCQAAAAAAAAFBAAAAAAAAAPkAAAAAAAIBCQAAAAAAAADJAgNFJ42xELEAAAAAAAAA7QAAAAAAAAERAAAAAAAAANUAAAAAAAAAxQH00j2RipzxAAAAAAAAAREAAAAAAAABBQFL8khAqjhVAAAAAAAAAJ0AAAAAAAIBOQAAAAAAAACBAAAAAAACAQEAAAAAAAAAYQAAAAAAAADJAAAAAAAAAN0AZNkOEq4jyP28EK2eHoDLAH4XrUbge1T8AAAAAAIBHQAAAAAAAACBAAAAAAAAAOUDQPUF1tlNEQAAAAAAAgEFAAAAAAAAAOEAAAAAAAIBAQAAAAAAAADlAAAAAAAAAQEA6EIiA5igtQAAAAAAAADFAAAAAAAAATkAAAAAAAABDQAAAAAAAAEVAkF1pMwK/S0AAAAAAAIBMQAAAAAAAAElATz/fYrq/Q0AAAAAAAAA+QAAAAAAAADVAAAAAAAAANkAAAAAAAAA1QAAAAAAAgEpAy+ufxY5oRkAAAAAAAAA3QL8PIWRYBDtAAAAAAABAREAAAAAAAABCQAAAAAAAACxAAAAAAAAANUAAAAAAAAA1QF9mXHlSpUJAAAAAAACAQ0AAAAAAAAA0QAAAAAAAAFBAAAAAAAAANEAAAAAAAAAyQAAAAAAAAEhAAAAAAACAS0AAAAAAAIBGQAAAAAAAgEZAQ8lpeCauSUC08EofPdVKQAAAAAAAgERAAAAAAAAANkAAAAAAAABFQAAAAAAAAD1Aw0u7ULZzFUBxPQrXo3DtPwAAAAAAADRAAAAAAAAAO0AAAAAAAAA4QAAAAAAAQEBAx+Eppm2GQEBOU5CVFmQ/QAAAAAAAADxAAAAAAAAAM0AAAAAAAAA1QAAAAAAAQEJAAAAAAAAANUAAAAAAAAA9QAAAAAAAAPA/AAAAAAAAPkCLMYTY6H5HQKuOpkzSYUNAD7bktzW1NEDDGXeZ1qQgQAAAAAAAADFAAAAAAAAAR0AFTOc4IYxGQAAAAAAAADpAfmMrNz8yLUB4ino29MIpQAAAAAAAADRAAAAAAAAAPEAAAAAAAABEQAAAAAAAAD5AAAAAAAAANkAAAAAAAAA3QAAAAAAAAOg/ebhqcF3JB0AAAAAAAAAiQAAAAAAAAABAAAAAAAAAQkAIG5dSctJEQAAAAAAAADhAKBpFWg7TJkCalon4qpohQGLJM5qaly5AAAAAAAAAPkAsKnRJZUxIQAAAAAAAgEpAAAAAAAAAQkAAAAAAAAA6QAAAAAAAAPA/g6lJmqxpJkAAAAAAAAA+QAAAAAAAAD1AAAAAAAAAQEAjxE1yZ6hGQAAAAAAAgEVAAAAAAAAAOEBeEwXv0v9GQAAAAAAAAFBAAAAAAAAAPkCPwvUoXI/qPwAAAAAAgEtAAAAAAACARkAAAAAAAAAyQAAAAAAAADZAZMIdII5dOUAAAAAAAIBCQAAAAAAAgEtAAAAAAAAAMUAAAAAAAIBMQAAAAAAAADNAAAAAAAAAO0AAAAAAAAA2QAAAAAAAADpAAAAAAAAAOUAAAAAAAAA6QAAAAAAAgEBAAAAAAACAQ0AAAAAAAAA3QAAAAAAAAChAAAAAAAAAR0AAAAAAAAA9QAAAAAAAADVAAAAAAAAASEAAAAAAAIBDQCSdAx51KjdAAAAAAAAAM0AAAAAAAAA7QAAAAAAAAD5AAAAAAAAAQEAAAAAAAIBDQAAAAAAAADlAbJm4Z4FiLEAAAAAAAAAyQAAAAAAAAEBAV1qty2TcSkAAAAAAAABNQFBxNjFIrkFAAAAAAAAAMEAAAAAAAAA6QAAAAAAAAENAAAAAAAAAOEAAAAAAAAA/QAAAAAAAgEZAAAAAAAAAOUAAAAAAAAAyQAAAAAAAgEhAw/UoXI/CxT8AAAAAAABJQAAAAAAAgE1AOY/PS+HuSUCfrBshxM5FQAAAAAAAAD5AAAAAAAAALUAAAAAAAAA4QAAAAAAAAD9AAAAAAAAAO0AAAAAAAAA5QBWniJmApi5AriWuTTonKUAAAAAAAAA2QAAAAAAAgEZAAAAAAAAAPUAAAAAAAAA1QAAAAAAAAD9AAAAAAACASEAAAAAAAABGQAAAAAAAAEtAAAAAAACARkAAAAAAAAA2QAAAAAAAADVAAAAAAACAS0AAAAAAAAAUQDc78YNsCcw/AAAAAAAAOkCh4YWloKI7QAAAAAAAADNAsjV6BjA2NkAAAAAAAAA4QAAAAAAAADhAAAAAAACATEAAAAAAAAA1QAAAAAAAABhAAAAAAAAAN0AAAAAAAIBJQAAAAAAAACpAAAAAAACAR0AAAAAAAAA9QAAAAAAAADJAAAAAAAAAOEAAAAAAAABIQAAAAAAAADZAAAAAAAAAP0AAAAAAAAA+QAAAAAAAAENAAAAAAAAANkAAAAAAAAAxQAAAAAAAgEVAAAAAAAAANEAAAAAAAAA3QAAAAAAAAElAc+WRdC9rPkAAAAAAAAAIQOW8CsP8GzFAAAAAAACAQkAAAAAAAAA8QN0NhNOmcj1AAAAAAACAQ0AAAAAAAEBDQFhXvJoOrSNAbMags0pKUMA=",
          "dtype": "f8"
         },
         "xaxis": "x8",
         "y": {
          "bdata": "AAEAAAEAAAEAAgAAAQEBAQAAAQABAAAAAQEAAAACAQIBAQEAAAAAAAAAAAABAAAAAAABAAIDAAQAAAEAAAAAAAIAAAAAAQAAAAAAAAACAAABAQAAAAEAAAABAQABAAAAAQAAAAEBAAABAAAAAAAAAAAAAQEAAQABAAEBAAAAAAIAAAAAAAEAAAAAAAEFAAEAAAMAAAABAAAAAAQAAAAAAAABAAAAAQACAAAAAAEAAQAAAQAAAAEBAAEAAAIIAAEAAQAAAAAAAAAAAAEBAAAAAAAAAAAAAQQAAAEBAAEAAAAAAAAAAAAAAAEAAQABAAEBAAABAAEBAAEBAQEAAQAAAAAAAAABAAABAAAAAAAAAAABAQABAAEBAAABAAEBAAABAAAAAAABAAABAgAAAAAAAAABAQABAQAAAAAAAAEAAAIAAAAAAAACAAEAAAAAAQAAAAAAAAAAAQABAAAAAAAAAAABAQACAAABCAEAAAEBAQAAAAEAAAABAAIAAAQAAAABAAEAAAADAAAAAAMBAAEAAAABAAABAAEBAAEAAQAAAAAAAQ==",
          "dtype": "i1"
         },
         "yaxis": "y8"
        },
        {
         "marker": {
          "color": "steelblue"
         },
         "mode": "markers",
         "type": "scatter",
         "x": {
          "bdata": "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",
          "dtype": "f8"
         },
         "xaxis": "x9",
         "y": {
          "bdata": "AAAAAAEAAAEAAAAAAAAAAAAAAAAAAQABAwABAAAAAAACAgAAAAAAAAEAAAAAAAAAAAIAAAECAAEAAAAAAAAAAAIAAAAABAAAAAAAAAAAAAABAAAAAAAAAAABAAACAAAAAAAAAAAAAAABAAAAAAAAAAAAAAAAAQAAAAAAAAABAAAAAAAABAAAAAAAAAYCAAMAAAAAAAABAQAAAgIAAAAAAgABAAAAAQACAAAAAAAABQIAAAMCAAEAAAEAAQACAAAAAQACAAIAAAAAAgABAAAAAAAAAAAAAAIAAAEBAAAAAAAAAgAAAAAAAAAAAAAAAAEAAAIBAAIAAAEAAAIAAAAAAAAAAAAAAAIBAAAAAAAAAAAAAAAAAAAAAAABAAEBAAAAAAAAAAABAAACAAAAAAABAAABAgEBAAAAAAAAAAAAAAAAAAAAAAABAAAAAgAAAQAAAAIAAAAACQEBAAAAAAABAAACAgAAAAAAAgEAAAAJAAABAAAAAAABAAAAAAIAAAAAAAIAAAABAAECAAEAAAEAAAAAAQAAAAABAAEAAAAAAAAAAQ==",
          "dtype": "i1"
         },
         "yaxis": "y9"
        },
        {
         "marker": {
          "color": "steelblue"
         },
         "mode": "markers",
         "type": "scatter",
         "x": {
          "bdata": "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",
          "dtype": "f8"
         },
         "xaxis": "x10",
         "y": {
          "bdata": "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",
          "dtype": "f8"
         },
         "yaxis": "y10"
        },
        {
         "marker": {
          "color": "steelblue"
         },
         "mode": "markers",
         "type": "scatter",
         "x": {
          "bdata": "AAEAAAEAAAEAAgAAAQEBAQAAAQABAAAAAQEAAAACAQIBAQEAAAAAAAAAAAABAAAAAAABAAIDAAQAAAEAAAAAAAIAAAAAAQAAAAAAAAACAAABAQAAAAEAAAABAQABAAAAAQAAAAEBAAABAAAAAAAAAAAAAQEAAQABAAEBAAAAAAIAAAAAAAEAAAAAAAEFAAEAAAMAAAABAAAAAAQAAAAAAAABAAAAAQACAAAAAAEAAQAAAQAAAAEBAAEAAAIIAAEAAQAAAAAAAAAAAAEBAAAAAAAAAAAAAQQAAAEBAAEAAAAAAAAAAAAAAAEAAQABAAEBAAABAAEBAAEBAQEAAQAAAAAAAAABAAABAAAAAAAAAAABAQABAAEBAAABAAEBAAABAAAAAAABAAABAgAAAAAAAAABAQABAQAAAAAAAAEAAAIAAAAAAAACAAEAAAAAAQAAAAAAAAAAAQABAAAAAAAAAAABAQACAAABCAEAAAEBAQAAAAEAAAABAAIAAAQAAAABAAEAAAADAAAAAAMBAAEAAAABAAABAAEBAAEAAQAAAAAAAQ==",
          "dtype": "i1"
         },
         "xaxis": "x11",
         "y": {
          "bdata": "AwMCAwMDAwIDAwMBAQIBAgIDAwMBAwEBAQMBAwEDAgIDAwEDAwMDAwMBAwIBAwEDAQMBAgIBAgMDAwMBAwIDAwECAwEBAQMDAwEBAQMBAgMDAQEDAgMDAwMCAwMBAwEDAQMDAwECAwMDAwMDAwICAwEDAQMDAwECAgMBAwMDAwMCAwMBAwMDAwMCAwMDAQECAQMBAwECAQMDAwMDAQMBAwMDAgMCAwEDAQMDAwMDAwICAQIBAgEBAwECAgMDAgIBAwICAwEDAgMDAwECAgEDAgEDAwMCAgMBAwEBAwIDAgMBAwMDAwICAQMDAQMBAwIBAQIBAwMBAgICAwIDAQMDAwMDAgMDAwIDAgMBAwMDAQMBAwMCAgICAgMDAwMDAwMBAwMBAwMBAwMCAwEDAwICAwMBAQMBAwMDAwMBAwECAwIDAwIBAQMCAQICAgEDAwMBAgMCAwIDAwEDAwIDAgIBAgICAwEBAwMDAwICAwEDAwMBAgIBAQIBAQMCAQMDAwMDAgIDAgMDAQEDAgMBAwEDAwECAQEBAgIBAwMDAQMDAQMDAw==",
          "dtype": "i1"
         },
         "yaxis": "y11"
        },
        {
         "marker": {
          "color": "steelblue"
         },
         "mode": "markers",
         "type": "scatter",
         "x": {
          "bdata": "AAEAAAEAAAEAAgAAAQEBAQAAAQABAAAAAQEAAAACAQIBAQEAAAAAAAAAAAABAAAAAAABAAIDAAQAAAEAAAAAAAIAAAAAAQAAAAAAAAACAAABAQAAAAEAAAABAQABAAAAAQAAAAEBAAABAAAAAAAAAAAAAQEAAQABAAEBAAAAAAIAAAAAAAEAAAAAAAEFAAEAAAMAAAABAAAAAAQAAAAAAAABAAAAAQACAAAAAAEAAQAAAQAAAAEBAAEAAAIIAAEAAQAAAAAAAAAAAAEBAAAAAAAAAAAAAQQAAAEBAAEAAAAAAAAAAAAAAAEAAQABAAEBAAABAAEBAAEBAQEAAQAAAAAAAAABAAABAAAAAAAAAAABAQABAAEBAAABAAEBAAABAAAAAAABAAABAgAAAAAAAAABAQABAQAAAAAAAAEAAAIAAAAAAAACAAEAAAAAAQAAAAAAAAAAAQABAAAAAAAAAAABAQACAAABCAEAAAEBAQAAAAEAAAABAAIAAAQAAAABAAEAAAADAAAAAAMBAAEAAAABAAABAAEBAAEAAQAAAAAAAQ==",
          "dtype": "i1"
         },
         "xaxis": "x12",
         "y": {
          "bdata": "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",
          "dtype": "f8"
         },
         "yaxis": "y12"
        },
        {
         "marker": {
          "color": "steelblue",
          "line": {
           "color": "black",
           "width": 1
          }
         },
         "type": "histogram",
         "x": {
          "bdata": "AAEAAAEAAAEAAgAAAQEBAQAAAQABAAAAAQEAAAACAQIBAQEAAAAAAAAAAAABAAAAAAABAAIDAAQAAAEAAAAAAAIAAAAAAQAAAAAAAAACAAABAQAAAAEAAAABAQABAAAAAQAAAAEBAAABAAAAAAAAAAAAAQEAAQABAAEBAAAAAAIAAAAAAAEAAAAAAAEFAAEAAAMAAAABAAAAAAQAAAAAAAABAAAAAQACAAAAAAEAAQAAAQAAAAEBAAEAAAIIAAEAAQAAAAAAAAAAAAEBAAAAAAAAAAAAAQQAAAEBAAEAAAAAAAAAAAAAAAEAAQABAAEBAAABAAEBAAEBAQEAAQAAAAAAAAABAAABAAAAAAAAAAABAQABAAEBAAABAAEBAAABAAAAAAABAAABAgAAAAAAAAABAQABAQAAAAAAAAEAAAIAAAAAAAACAAEAAAAAAQAAAAAAAAAAAQABAAAAAAAAAAABAQACAAABCAEAAAEBAQAAAAEAAAABAAIAAAQAAAABAAEAAAADAAAAAAMBAAEAAAABAAABAAEBAAEAAQAAAAAAAQ==",
          "dtype": "i1"
         },
         "xaxis": "x13",
         "yaxis": "y13"
        },
        {
         "marker": {
          "color": "steelblue"
         },
         "mode": "markers",
         "type": "scatter",
         "x": {
          "bdata": "AAEAAAEAAAEAAgAAAQEBAQAAAQABAAAAAQEAAAACAQIBAQEAAAAAAAAAAAABAAAAAAABAAIDAAQAAAEAAAAAAAIAAAAAAQAAAAAAAAACAAABAQAAAAEAAAABAQABAAAAAQAAAAEBAAABAAAAAAAAAAAAAQEAAQABAAEBAAAAAAIAAAAAAAEAAAAAAAEFAAEAAAMAAAABAAAAAAQAAAAAAAABAAAAAQACAAAAAAEAAQAAAQAAAAEBAAEAAAIIAAEAAQAAAAAAAAAAAAEBAAAAAAAAAAAAAQQAAAEBAAEAAAAAAAAAAAAAAAEAAQABAAEBAAABAAEBAAEBAQEAAQAAAAAAAAABAAABAAAAAAAAAAABAQABAAEBAAABAAEBAAABAAAAAAABAAABAgAAAAAAAAABAQABAQAAAAAAAAEAAAIAAAAAAAACAAEAAAAAAQAAAAAAAAAAAQABAAAAAAAAAAABAQACAAABCAEAAAEBAQAAAAEAAAABAAIAAAQAAAABAAEAAAADAAAAAAMBAAEAAAABAAABAAEBAAEAAQAAAAAAAQ==",
          "dtype": "i1"
         },
         "xaxis": "x14",
         "y": {
          "bdata": "AAAAAAEAAAEAAAAAAAAAAAAAAAAAAQABAwABAAAAAAACAgAAAAAAAAEAAAAAAAAAAAIAAAECAAEAAAAAAAAAAAIAAAAABAAAAAAAAAAAAAABAAAAAAAAAAABAAACAAAAAAAAAAAAAAABAAAAAAAAAAAAAAAAAQAAAAAAAAABAAAAAAAABAAAAAAAAAYCAAMAAAAAAAABAQAAAgIAAAAAAgABAAAAAQACAAAAAAAABQIAAAMCAAEAAAEAAQACAAAAAQACAAIAAAAAAgABAAAAAAAAAAAAAAIAAAEBAAAAAAAAAgAAAAAAAAAAAAAAAAEAAAIBAAIAAAEAAAIAAAAAAAAAAAAAAAIBAAAAAAAAAAAAAAAAAAAAAAABAAEBAAAAAAAAAAABAAACAAAAAAABAAABAgEBAAAAAAAAAAAAAAAAAAAAAAABAAAAAgAAAQAAAAIAAAAACQEBAAAAAAABAAACAgAAAAAAAgEAAAAJAAABAAAAAAABAAAAAAIAAAAAAAIAAAABAAECAAEAAAEAAAAAAQAAAAABAAEAAAAAAAAAAQ==",
          "dtype": "i1"
         },
         "yaxis": "y14"
        },
        {
         "marker": {
          "color": "steelblue"
         },
         "mode": "markers",
         "type": "scatter",
         "x": {
          "bdata": "AAEAAAEAAAEAAgAAAQEBAQAAAQABAAAAAQEAAAACAQIBAQEAAAAAAAAAAAABAAAAAAABAAIDAAQAAAEAAAAAAAIAAAAAAQAAAAAAAAACAAABAQAAAAEAAAABAQABAAAAAQAAAAEBAAABAAAAAAAAAAAAAQEAAQABAAEBAAAAAAIAAAAAAAEAAAAAAAEFAAEAAAMAAAABAAAAAAQAAAAAAAABAAAAAQACAAAAAAEAAQAAAQAAAAEBAAEAAAIIAAEAAQAAAAAAAAAAAAEBAAAAAAAAAAAAAQQAAAEBAAEAAAAAAAAAAAAAAAEAAQABAAEBAAABAAEBAAEBAQEAAQAAAAAAAAABAAABAAAAAAAAAAABAQABAAEBAAABAAEBAAABAAAAAAABAAABAgAAAAAAAAABAQABAQAAAAAAAAEAAAIAAAAAAAACAAEAAAAAAQAAAAAAAAAAAQABAAAAAAAAAAABAQACAAABCAEAAAEBAQAAAAEAAAABAAIAAAQAAAABAAEAAAADAAAAAAMBAAEAAAABAAABAAEBAAEAAQAAAAAAAQ==",
          "dtype": "i1"
         },
         "xaxis": "x15",
         "y": {
          "bdata": "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",
          "dtype": "f8"
         },
         "yaxis": "y15"
        },
        {
         "marker": {
          "color": "steelblue"
         },
         "mode": "markers",
         "type": "scatter",
         "x": {
          "bdata": "AAAAAAEAAAEAAAAAAAAAAAAAAAAAAQABAwABAAAAAAACAgAAAAAAAAEAAAAAAAAAAAIAAAECAAEAAAAAAAAAAAIAAAAABAAAAAAAAAAAAAABAAAAAAAAAAABAAACAAAAAAAAAAAAAAABAAAAAAAAAAAAAAAAAQAAAAAAAAABAAAAAAAABAAAAAAAAAYCAAMAAAAAAAABAQAAAgIAAAAAAgABAAAAAQACAAAAAAAABQIAAAMCAAEAAAEAAQACAAAAAQACAAIAAAAAAgABAAAAAAAAAAAAAAIAAAEBAAAAAAAAAgAAAAAAAAAAAAAAAAEAAAIBAAIAAAEAAAIAAAAAAAAAAAAAAAIBAAAAAAAAAAAAAAAAAAAAAAABAAEBAAAAAAAAAAABAAACAAAAAAABAAABAgEBAAAAAAAAAAAAAAAAAAAAAAABAAAAAgAAAQAAAAIAAAAACQEBAAAAAAABAAACAgAAAAAAAgEAAAAJAAABAAAAAAABAAAAAAIAAAAAAAIAAAABAAECAAEAAAEAAAAAAQAAAAABAAEAAAAAAAAAAQ==",
          "dtype": "i1"
         },
         "xaxis": "x16",
         "y": {
          "bdata": "AwMCAwMDAwIDAwMBAQIBAgIDAwMBAwEBAQMBAwEDAgIDAwEDAwMDAwMBAwIBAwEDAQMBAgIBAgMDAwMBAwIDAwECAwEBAQMDAwEBAQMBAgMDAQEDAgMDAwMCAwMBAwEDAQMDAwECAwMDAwMDAwICAwEDAQMDAwECAgMBAwMDAwMCAwMBAwMDAwMCAwMDAQECAQMBAwECAQMDAwMDAQMBAwMDAgMCAwEDAQMDAwMDAwICAQIBAgEBAwECAgMDAgIBAwICAwEDAgMDAwECAgEDAgEDAwMCAgMBAwEBAwIDAgMBAwMDAwICAQMDAQMBAwIBAQIBAwMBAgICAwIDAQMDAwMDAgMDAwIDAgMBAwMDAQMBAwMCAgICAgMDAwMDAwMBAwMBAwMBAwMCAwEDAwICAwMBAQMBAwMDAwMBAwECAwIDAwIBAQMCAQICAgEDAwMBAgMCAwIDAwEDAwIDAgIBAgICAwEBAwMDAwICAwEDAwMBAgIBAQIBAQMCAQMDAwMDAgIDAgMDAQEDAgMBAwEDAwECAQEBAgIBAwMDAQMDAQMDAw==",
          "dtype": "i1"
         },
         "yaxis": "y16"
        },
        {
         "marker": {
          "color": "steelblue"
         },
         "mode": "markers",
         "type": "scatter",
         "x": {
          "bdata": "AAAAAAEAAAEAAAAAAAAAAAAAAAAAAQABAwABAAAAAAACAgAAAAAAAAEAAAAAAAAAAAIAAAECAAEAAAAAAAAAAAIAAAAABAAAAAAAAAAAAAABAAAAAAAAAAABAAACAAAAAAAAAAAAAAABAAAAAAAAAAAAAAAAAQAAAAAAAAABAAAAAAAABAAAAAAAAAYCAAMAAAAAAAABAQAAAgIAAAAAAgABAAAAAQACAAAAAAAABQIAAAMCAAEAAAEAAQACAAAAAQACAAIAAAAAAgABAAAAAAAAAAAAAAIAAAEBAAAAAAAAAgAAAAAAAAAAAAAAAAEAAAIBAAIAAAEAAAIAAAAAAAAAAAAAAAIBAAAAAAAAAAAAAAAAAAAAAAABAAEBAAAAAAAAAAABAAACAAAAAAABAAABAgEBAAAAAAAAAAAAAAAAAAAAAAABAAAAAgAAAQAAAAIAAAAACQEBAAAAAAABAAACAgAAAAAAAgEAAAAJAAABAAAAAAABAAAAAAIAAAAAAAIAAAABAAECAAEAAAEAAAAAAQAAAAABAAEAAAAAAAAAAQ==",
          "dtype": "i1"
         },
         "xaxis": "x17",
         "y": {
          "bdata": "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",
          "dtype": "f8"
         },
         "yaxis": "y17"
        },
        {
         "marker": {
          "color": "steelblue"
         },
         "mode": "markers",
         "type": "scatter",
         "x": {
          "bdata": "AAAAAAEAAAEAAAAAAAAAAAAAAAAAAQABAwABAAAAAAACAgAAAAAAAAEAAAAAAAAAAAIAAAECAAEAAAAAAAAAAAIAAAAABAAAAAAAAAAAAAABAAAAAAAAAAABAAACAAAAAAAAAAAAAAABAAAAAAAAAAAAAAAAAQAAAAAAAAABAAAAAAAABAAAAAAAAAYCAAMAAAAAAAABAQAAAgIAAAAAAgABAAAAAQACAAAAAAAABQIAAAMCAAEAAAEAAQACAAAAAQACAAIAAAAAAgABAAAAAAAAAAAAAAIAAAEBAAAAAAAAAgAAAAAAAAAAAAAAAAEAAAIBAAIAAAEAAAIAAAAAAAAAAAAAAAIBAAAAAAAAAAAAAAAAAAAAAAABAAEBAAAAAAAAAAABAAACAAAAAAABAAABAgEBAAAAAAAAAAAAAAAAAAAAAAABAAAAAgAAAQAAAAIAAAAACQEBAAAAAAABAAACAgAAAAAAAgEAAAAJAAABAAAAAAABAAAAAAIAAAAAAAIAAAABAAECAAEAAAEAAAAAAQAAAAABAAEAAAAAAAAAAQ==",
          "dtype": "i1"
         },
         "xaxis": "x18",
         "y": {
          "bdata": "AAEAAAEAAAEAAgAAAQEBAQAAAQABAAAAAQEAAAACAQIBAQEAAAAAAAAAAAABAAAAAAABAAIDAAQAAAEAAAAAAAIAAAAAAQAAAAAAAAACAAABAQAAAAEAAAABAQABAAAAAQAAAAEBAAABAAAAAAAAAAAAAQEAAQABAAEBAAAAAAIAAAAAAAEAAAAAAAEFAAEAAAMAAAABAAAAAAQAAAAAAAABAAAAAQACAAAAAAEAAQAAAQAAAAEBAAEAAAIIAAEAAQAAAAAAAAAAAAEBAAAAAAAAAAAAAQQAAAEBAAEAAAAAAAAAAAAAAAEAAQABAAEBAAABAAEBAAEBAQEAAQAAAAAAAAABAAABAAAAAAAAAAABAQABAAEBAAABAAEBAAABAAAAAAABAAABAgAAAAAAAAABAQABAQAAAAAAAAEAAAIAAAAAAAACAAEAAAAAAQAAAAAAAAAAAQABAAAAAAAAAAABAQACAAABCAEAAAEBAQAAAAEAAAABAAIAAAQAAAABAAEAAAADAAAAAAMBAAEAAAABAAABAAEBAAEAAQAAAAAAAQ==",
          "dtype": "i1"
         },
         "yaxis": "y18"
        },
        {
         "marker": {
          "color": "steelblue",
          "line": {
           "color": "black",
           "width": 1
          }
         },
         "type": "histogram",
         "x": {
          "bdata": "AAAAAAEAAAEAAAAAAAAAAAAAAAAAAQABAwABAAAAAAACAgAAAAAAAAEAAAAAAAAAAAIAAAECAAEAAAAAAAAAAAIAAAAABAAAAAAAAAAAAAABAAAAAAAAAAABAAACAAAAAAAAAAAAAAABAAAAAAAAAAAAAAAAAQAAAAAAAAABAAAAAAAABAAAAAAAAAYCAAMAAAAAAAABAQAAAgIAAAAAAgABAAAAAQACAAAAAAAABQIAAAMCAAEAAAEAAQACAAAAAQACAAIAAAAAAgABAAAAAAAAAAAAAAIAAAEBAAAAAAAAAgAAAAAAAAAAAAAAAAEAAAIBAAIAAAEAAAIAAAAAAAAAAAAAAAIBAAAAAAAAAAAAAAAAAAAAAAABAAEBAAAAAAAAAAABAAACAAAAAAABAAABAgEBAAAAAAAAAAAAAAAAAAAAAAABAAAAAgAAAQAAAAIAAAAACQEBAAAAAAABAAACAgAAAAAAAgEAAAAJAAABAAAAAAABAAAAAAIAAAAAAAIAAAABAAECAAEAAAEAAAAAAQAAAAABAAEAAAAAAAAAAQ==",
          "dtype": "i1"
         },
         "xaxis": "x19",
         "yaxis": "y19"
        },
        {
         "marker": {
          "color": "steelblue"
         },
         "mode": "markers",
         "type": "scatter",
         "x": {
          "bdata": "AAAAAAEAAAEAAAAAAAAAAAAAAAAAAQABAwABAAAAAAACAgAAAAAAAAEAAAAAAAAAAAIAAAECAAEAAAAAAAAAAAIAAAAABAAAAAAAAAAAAAABAAAAAAAAAAABAAACAAAAAAAAAAAAAAABAAAAAAAAAAAAAAAAAQAAAAAAAAABAAAAAAAABAAAAAAAAAYCAAMAAAAAAAABAQAAAgIAAAAAAgABAAAAAQACAAAAAAAABQIAAAMCAAEAAAEAAQACAAAAAQACAAIAAAAAAgABAAAAAAAAAAAAAAIAAAEBAAAAAAAAAgAAAAAAAAAAAAAAAAEAAAIBAAIAAAEAAAIAAAAAAAAAAAAAAAIBAAAAAAAAAAAAAAAAAAAAAAABAAEBAAAAAAAAAAABAAACAAAAAAABAAABAgEBAAAAAAAAAAAAAAAAAAAAAAABAAAAAgAAAQAAAAIAAAAACQEBAAAAAAABAAACAgAAAAAAAgEAAAAJAAABAAAAAAABAAAAAAIAAAAAAAIAAAABAAECAAEAAAEAAAAAAQAAAAABAAEAAAAAAAAAAQ==",
          "dtype": "i1"
         },
         "xaxis": "x20",
         "y": {
          "bdata": "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",
          "dtype": "f8"
         },
         "yaxis": "y20"
        },
        {
         "marker": {
          "color": "steelblue"
         },
         "mode": "markers",
         "type": "scatter",
         "x": {
          "bdata": "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",
          "dtype": "f8"
         },
         "xaxis": "x21",
         "y": {
          "bdata": "AwMCAwMDAwIDAwMBAQIBAgIDAwMBAwEBAQMBAwEDAgIDAwEDAwMDAwMBAwIBAwEDAQMBAgIBAgMDAwMBAwIDAwECAwEBAQMDAwEBAQMBAgMDAQEDAgMDAwMCAwMBAwEDAQMDAwECAwMDAwMDAwICAwEDAQMDAwECAgMBAwMDAwMCAwMBAwMDAwMCAwMDAQECAQMBAwECAQMDAwMDAQMBAwMDAgMCAwEDAQMDAwMDAwICAQIBAgEBAwECAgMDAgIBAwICAwEDAgMDAwECAgEDAgEDAwMCAgMBAwEBAwIDAgMBAwMDAwICAQMDAQMBAwIBAQIBAwMBAgICAwIDAQMDAwMDAgMDAwIDAgMBAwMDAQMBAwMCAgICAgMDAwMDAwMBAwMBAwMBAwMCAwEDAwICAwMBAQMBAwMDAwMBAwECAwIDAwIBAQMCAQICAgEDAwMBAgMCAwIDAwEDAwIDAgIBAgICAwEBAwMDAwICAwEDAwMBAgIBAQIBAQMCAQMDAwMDAgIDAgMDAQEDAgMBAwEDAwECAQEBAgIBAwMDAQMDAQMDAw==",
          "dtype": "i1"
         },
         "yaxis": "y21"
        },
        {
         "marker": {
          "color": "steelblue"
         },
         "mode": "markers",
         "type": "scatter",
         "x": {
          "bdata": "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",
          "dtype": "f8"
         },
         "xaxis": "x22",
         "y": {
          "bdata": "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",
          "dtype": "f8"
         },
         "yaxis": "y22"
        },
        {
         "marker": {
          "color": "steelblue"
         },
         "mode": "markers",
         "type": "scatter",
         "x": {
          "bdata": "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",
          "dtype": "f8"
         },
         "xaxis": "x23",
         "y": {
          "bdata": "AAEAAAEAAAEAAgAAAQEBAQAAAQABAAAAAQEAAAACAQIBAQEAAAAAAAAAAAABAAAAAAABAAIDAAQAAAEAAAAAAAIAAAAAAQAAAAAAAAACAAABAQAAAAEAAAABAQABAAAAAQAAAAEBAAABAAAAAAAAAAAAAQEAAQABAAEBAAAAAAIAAAAAAAEAAAAAAAEFAAEAAAMAAAABAAAAAAQAAAAAAAABAAAAAQACAAAAAAEAAQAAAQAAAAEBAAEAAAIIAAEAAQAAAAAAAAAAAAEBAAAAAAAAAAAAAQQAAAEBAAEAAAAAAAAAAAAAAAEAAQABAAEBAAABAAEBAAEBAQEAAQAAAAAAAAABAAABAAAAAAAAAAABAQABAAEBAAABAAEBAAABAAAAAAABAAABAgAAAAAAAAABAQABAQAAAAAAAAEAAAIAAAAAAAACAAEAAAAAAQAAAAAAAAAAAQABAAAAAAAAAAABAQACAAABCAEAAAEBAQAAAAEAAAABAAIAAAQAAAABAAEAAAADAAAAAAMBAAEAAAABAAABAAEBAAEAAQAAAAAAAQ==",
          "dtype": "i1"
         },
         "yaxis": "y23"
        },
        {
         "marker": {
          "color": "steelblue"
         },
         "mode": "markers",
         "type": "scatter",
         "x": {
          "bdata": "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",
          "dtype": "f8"
         },
         "xaxis": "x24",
         "y": {
          "bdata": "AAAAAAEAAAEAAAAAAAAAAAAAAAAAAQABAwABAAAAAAACAgAAAAAAAAEAAAAAAAAAAAIAAAECAAEAAAAAAAAAAAIAAAAABAAAAAAAAAAAAAABAAAAAAAAAAABAAACAAAAAAAAAAAAAAABAAAAAAAAAAAAAAAAAQAAAAAAAAABAAAAAAAABAAAAAAAAAYCAAMAAAAAAAABAQAAAgIAAAAAAgABAAAAAQACAAAAAAAABQIAAAMCAAEAAAEAAQACAAAAAQACAAIAAAAAAgABAAAAAAAAAAAAAAIAAAEBAAAAAAAAAgAAAAAAAAAAAAAAAAEAAAIBAAIAAAEAAAIAAAAAAAAAAAAAAAIBAAAAAAAAAAAAAAAAAAAAAAABAAEBAAAAAAAAAAABAAACAAAAAAABAAABAgEBAAAAAAAAAAAAAAAAAAAAAAABAAAAAgAAAQAAAAIAAAAACQEBAAAAAAABAAACAgAAAAAAAgEAAAAJAAABAAAAAAABAAAAAAIAAAAAAAIAAAABAAECAAEAAAEAAAAAAQAAAAABAAEAAAAAAAAAAQ==",
          "dtype": "i1"
         },
         "yaxis": "y24"
        },
        {
         "marker": {
          "color": "steelblue",
          "line": {
           "color": "black",
           "width": 1
          }
         },
         "type": "histogram",
         "x": {
          "bdata": "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",
          "dtype": "f8"
         },
         "xaxis": "x25",
         "yaxis": "y25"
        }
       ],
       "layout": {
        "height": 1800,
        "showlegend": false,
        "template": {
         "data": {
          "bar": [
           {
            "error_x": {
             "color": "#f2f5fa"
            },
            "error_y": {
             "color": "#f2f5fa"
            },
            "marker": {
             "line": {
              "color": "rgb(17,17,17)",
              "width": 0.5
             },
             "pattern": {
              "fillmode": "overlay",
              "size": 10,
              "solidity": 0.2
             }
            },
            "type": "bar"
           }
          ],
          "barpolar": [
           {
            "marker": {
             "line": {
              "color": "rgb(17,17,17)",
              "width": 0.5
             },
             "pattern": {
              "fillmode": "overlay",
              "size": 10,
              "solidity": 0.2
             }
            },
            "type": "barpolar"
           }
          ],
          "carpet": [
           {
            "aaxis": {
             "endlinecolor": "#A2B1C6",
             "gridcolor": "#506784",
             "linecolor": "#506784",
             "minorgridcolor": "#506784",
             "startlinecolor": "#A2B1C6"
            },
            "baxis": {
             "endlinecolor": "#A2B1C6",
             "gridcolor": "#506784",
             "linecolor": "#506784",
             "minorgridcolor": "#506784",
             "startlinecolor": "#A2B1C6"
            },
            "type": "carpet"
           }
          ],
          "choropleth": [
           {
            "colorbar": {
             "outlinewidth": 0,
             "ticks": ""
            },
            "type": "choropleth"
           }
          ],
          "contour": [
           {
            "colorbar": {
             "outlinewidth": 0,
             "ticks": ""
            },
            "colorscale": [
             [
              0,
              "#0d0887"
             ],
             [
              0.1111111111111111,
              "#46039f"
             ],
             [
              0.2222222222222222,
              "#7201a8"
             ],
             [
              0.3333333333333333,
              "#9c179e"
             ],
             [
              0.4444444444444444,
              "#bd3786"
             ],
             [
              0.5555555555555556,
              "#d8576b"
             ],
             [
              0.6666666666666666,
              "#ed7953"
             ],
             [
              0.7777777777777778,
              "#fb9f3a"
             ],
             [
              0.8888888888888888,
              "#fdca26"
             ],
             [
              1,
              "#f0f921"
             ]
            ],
            "type": "contour"
           }
          ],
          "contourcarpet": [
           {
            "colorbar": {
             "outlinewidth": 0,
             "ticks": ""
            },
            "type": "contourcarpet"
           }
          ],
          "heatmap": [
           {
            "colorbar": {
             "outlinewidth": 0,
             "ticks": ""
            },
            "colorscale": [
             [
              0,
              "#0d0887"
             ],
             [
              0.1111111111111111,
              "#46039f"
             ],
             [
              0.2222222222222222,
              "#7201a8"
             ],
             [
              0.3333333333333333,
              "#9c179e"
             ],
             [
              0.4444444444444444,
              "#bd3786"
             ],
             [
              0.5555555555555556,
              "#d8576b"
             ],
             [
              0.6666666666666666,
              "#ed7953"
             ],
             [
              0.7777777777777778,
              "#fb9f3a"
             ],
             [
              0.8888888888888888,
              "#fdca26"
             ],
             [
              1,
              "#f0f921"
             ]
            ],
            "type": "heatmap"
           }
          ],
          "histogram": [
           {
            "marker": {
             "pattern": {
              "fillmode": "overlay",
              "size": 10,
              "solidity": 0.2
             }
            },
            "type": "histogram"
           }
          ],
          "histogram2d": [
           {
            "colorbar": {
             "outlinewidth": 0,
             "ticks": ""
            },
            "colorscale": [
             [
              0,
              "#0d0887"
             ],
             [
              0.1111111111111111,
              "#46039f"
             ],
             [
              0.2222222222222222,
              "#7201a8"
             ],
             [
              0.3333333333333333,
              "#9c179e"
             ],
             [
              0.4444444444444444,
              "#bd3786"
             ],
             [
              0.5555555555555556,
              "#d8576b"
             ],
             [
              0.6666666666666666,
              "#ed7953"
             ],
             [
              0.7777777777777778,
              "#fb9f3a"
             ],
             [
              0.8888888888888888,
              "#fdca26"
             ],
             [
              1,
              "#f0f921"
             ]
            ],
            "type": "histogram2d"
           }
          ],
          "histogram2dcontour": [
           {
            "colorbar": {
             "outlinewidth": 0,
             "ticks": ""
            },
            "colorscale": [
             [
              0,
              "#0d0887"
             ],
             [
              0.1111111111111111,
              "#46039f"
             ],
             [
              0.2222222222222222,
              "#7201a8"
             ],
             [
              0.3333333333333333,
              "#9c179e"
             ],
             [
              0.4444444444444444,
              "#bd3786"
             ],
             [
              0.5555555555555556,
              "#d8576b"
             ],
             [
              0.6666666666666666,
              "#ed7953"
             ],
             [
              0.7777777777777778,
              "#fb9f3a"
             ],
             [
              0.8888888888888888,
              "#fdca26"
             ],
             [
              1,
              "#f0f921"
             ]
            ],
            "type": "histogram2dcontour"
           }
          ],
          "mesh3d": [
           {
            "colorbar": {
             "outlinewidth": 0,
             "ticks": ""
            },
            "type": "mesh3d"
           }
          ],
          "parcoords": [
           {
            "line": {
             "colorbar": {
              "outlinewidth": 0,
              "ticks": ""
             }
            },
            "type": "parcoords"
           }
          ],
          "pie": [
           {
            "automargin": true,
            "type": "pie"
           }
          ],
          "scatter": [
           {
            "marker": {
             "line": {
              "color": "#283442"
             }
            },
            "type": "scatter"
           }
          ],
          "scatter3d": [
           {
            "line": {
             "colorbar": {
              "outlinewidth": 0,
              "ticks": ""
             }
            },
            "marker": {
             "colorbar": {
              "outlinewidth": 0,
              "ticks": ""
             }
            },
            "type": "scatter3d"
           }
          ],
          "scattercarpet": [
           {
            "marker": {
             "colorbar": {
              "outlinewidth": 0,
              "ticks": ""
             }
            },
            "type": "scattercarpet"
           }
          ],
          "scattergeo": [
           {
            "marker": {
             "colorbar": {
              "outlinewidth": 0,
              "ticks": ""
             }
            },
            "type": "scattergeo"
           }
          ],
          "scattergl": [
           {
            "marker": {
             "line": {
              "color": "#283442"
             }
            },
            "type": "scattergl"
           }
          ],
          "scattermap": [
           {
            "marker": {
             "colorbar": {
              "outlinewidth": 0,
              "ticks": ""
             }
            },
            "type": "scattermap"
           }
          ],
          "scattermapbox": [
           {
            "marker": {
             "colorbar": {
              "outlinewidth": 0,
              "ticks": ""
             }
            },
            "type": "scattermapbox"
           }
          ],
          "scatterpolar": [
           {
            "marker": {
             "colorbar": {
              "outlinewidth": 0,
              "ticks": ""
             }
            },
            "type": "scatterpolar"
           }
          ],
          "scatterpolargl": [
           {
            "marker": {
             "colorbar": {
              "outlinewidth": 0,
              "ticks": ""
             }
            },
            "type": "scatterpolargl"
           }
          ],
          "scatterternary": [
           {
            "marker": {
             "colorbar": {
              "outlinewidth": 0,
              "ticks": ""
             }
            },
            "type": "scatterternary"
           }
          ],
          "surface": [
           {
            "colorbar": {
             "outlinewidth": 0,
             "ticks": ""
            },
            "colorscale": [
             [
              0,
              "#0d0887"
             ],
             [
              0.1111111111111111,
              "#46039f"
             ],
             [
              0.2222222222222222,
              "#7201a8"
             ],
             [
              0.3333333333333333,
              "#9c179e"
             ],
             [
              0.4444444444444444,
              "#bd3786"
             ],
             [
              0.5555555555555556,
              "#d8576b"
             ],
             [
              0.6666666666666666,
              "#ed7953"
             ],
             [
              0.7777777777777778,
              "#fb9f3a"
             ],
             [
              0.8888888888888888,
              "#fdca26"
             ],
             [
              1,
              "#f0f921"
             ]
            ],
            "type": "surface"
           }
          ],
          "table": [
           {
            "cells": {
             "fill": {
              "color": "#506784"
             },
             "line": {
              "color": "rgb(17,17,17)"
             }
            },
            "header": {
             "fill": {
              "color": "#2a3f5f"
             },
             "line": {
              "color": "rgb(17,17,17)"
             }
            },
            "type": "table"
           }
          ]
         },
         "layout": {
          "annotationdefaults": {
           "arrowcolor": "#f2f5fa",
           "arrowhead": 0,
           "arrowwidth": 1
          },
          "autotypenumbers": "strict",
          "coloraxis": {
           "colorbar": {
            "outlinewidth": 0,
            "ticks": ""
           }
          },
          "colorscale": {
           "diverging": [
            [
             0,
             "#8e0152"
            ],
            [
             0.1,
             "#c51b7d"
            ],
            [
             0.2,
             "#de77ae"
            ],
            [
             0.3,
             "#f1b6da"
            ],
            [
             0.4,
             "#fde0ef"
            ],
            [
             0.5,
             "#f7f7f7"
            ],
            [
             0.6,
             "#e6f5d0"
            ],
            [
             0.7,
             "#b8e186"
            ],
            [
             0.8,
             "#7fbc41"
            ],
            [
             0.9,
             "#4d9221"
            ],
            [
             1,
             "#276419"
            ]
           ],
           "sequential": [
            [
             0,
             "#0d0887"
            ],
            [
             0.1111111111111111,
             "#46039f"
            ],
            [
             0.2222222222222222,
             "#7201a8"
            ],
            [
             0.3333333333333333,
             "#9c179e"
            ],
            [
             0.4444444444444444,
             "#bd3786"
            ],
            [
             0.5555555555555556,
             "#d8576b"
            ],
            [
             0.6666666666666666,
             "#ed7953"
            ],
            [
             0.7777777777777778,
             "#fb9f3a"
            ],
            [
             0.8888888888888888,
             "#fdca26"
            ],
            [
             1,
             "#f0f921"
            ]
           ],
           "sequentialminus": [
            [
             0,
             "#0d0887"
            ],
            [
             0.1111111111111111,
             "#46039f"
            ],
            [
             0.2222222222222222,
             "#7201a8"
            ],
            [
             0.3333333333333333,
             "#9c179e"
            ],
            [
             0.4444444444444444,
             "#bd3786"
            ],
            [
             0.5555555555555556,
             "#d8576b"
            ],
            [
             0.6666666666666666,
             "#ed7953"
            ],
            [
             0.7777777777777778,
             "#fb9f3a"
            ],
            [
             0.8888888888888888,
             "#fdca26"
            ],
            [
             1,
             "#f0f921"
            ]
           ]
          },
          "colorway": [
           "#636efa",
           "#EF553B",
           "#00cc96",
           "#ab63fa",
           "#FFA15A",
           "#19d3f3",
           "#FF6692",
           "#B6E880",
           "#FF97FF",
           "#FECB52"
          ],
          "font": {
           "color": "#f2f5fa"
          },
          "geo": {
           "bgcolor": "rgb(17,17,17)",
           "lakecolor": "rgb(17,17,17)",
           "landcolor": "rgb(17,17,17)",
           "showlakes": true,
           "showland": true,
           "subunitcolor": "#506784"
          },
          "hoverlabel": {
           "align": "left"
          },
          "hovermode": "closest",
          "mapbox": {
           "style": "dark"
          },
          "paper_bgcolor": "rgb(17,17,17)",
          "plot_bgcolor": "rgb(17,17,17)",
          "polar": {
           "angularaxis": {
            "gridcolor": "#506784",
            "linecolor": "#506784",
            "ticks": ""
           },
           "bgcolor": "rgb(17,17,17)",
           "radialaxis": {
            "gridcolor": "#506784",
            "linecolor": "#506784",
            "ticks": ""
           }
          },
          "scene": {
           "xaxis": {
            "backgroundcolor": "rgb(17,17,17)",
            "gridcolor": "#506784",
            "gridwidth": 2,
            "linecolor": "#506784",
            "showbackground": true,
            "ticks": "",
            "zerolinecolor": "#C8D4E3"
           },
           "yaxis": {
            "backgroundcolor": "rgb(17,17,17)",
            "gridcolor": "#506784",
            "gridwidth": 2,
            "linecolor": "#506784",
            "showbackground": true,
            "ticks": "",
            "zerolinecolor": "#C8D4E3"
           },
           "zaxis": {
            "backgroundcolor": "rgb(17,17,17)",
            "gridcolor": "#506784",
            "gridwidth": 2,
            "linecolor": "#506784",
            "showbackground": true,
            "ticks": "",
            "zerolinecolor": "#C8D4E3"
           }
          },
          "shapedefaults": {
           "line": {
            "color": "#f2f5fa"
           }
          },
          "sliderdefaults": {
           "bgcolor": "#C8D4E3",
           "bordercolor": "rgb(17,17,17)",
           "borderwidth": 1,
           "tickwidth": 0
          },
          "ternary": {
           "aaxis": {
            "gridcolor": "#506784",
            "linecolor": "#506784",
            "ticks": ""
           },
           "baxis": {
            "gridcolor": "#506784",
            "linecolor": "#506784",
            "ticks": ""
           },
           "bgcolor": "rgb(17,17,17)",
           "caxis": {
            "gridcolor": "#506784",
            "linecolor": "#506784",
            "ticks": ""
           }
          },
          "title": {
           "x": 0.05
          },
          "updatemenudefaults": {
           "bgcolor": "#506784",
           "borderwidth": 0
          },
          "xaxis": {
           "automargin": true,
           "gridcolor": "#283442",
           "linecolor": "#506784",
           "ticks": "",
           "title": {
            "standoff": 15
           },
           "zerolinecolor": "#283442",
           "zerolinewidth": 2
          },
          "yaxis": {
           "automargin": true,
           "gridcolor": "#283442",
           "linecolor": "#506784",
           "ticks": "",
           "title": {
            "standoff": 15
           },
           "zerolinecolor": "#283442",
           "zerolinewidth": 2
          }
         }
        },
        "width": 1800,
        "xaxis": {
         "anchor": "y",
         "domain": [
          0,
          0.16799999999999998
         ],
         "title": {
          "text": "Pclass"
         }
        },
        "xaxis10": {
         "anchor": "y10",
         "domain": [
          0.832,
          1
         ],
         "title": {
          "text": "Age"
         }
        },
        "xaxis11": {
         "anchor": "y11",
         "domain": [
          0,
          0.16799999999999998
         ],
         "title": {
          "text": "SibSp"
         }
        },
        "xaxis12": {
         "anchor": "y12",
         "domain": [
          0.208,
          0.376
         ],
         "title": {
          "text": "SibSp"
         }
        },
        "xaxis13": {
         "anchor": "y13",
         "domain": [
          0.416,
          0.584
         ],
         "title": {
          "text": "SibSp"
         }
        },
        "xaxis14": {
         "anchor": "y14",
         "domain": [
          0.624,
          0.792
         ],
         "title": {
          "text": "SibSp"
         }
        },
        "xaxis15": {
         "anchor": "y15",
         "domain": [
          0.832,
          1
         ],
         "title": {
          "text": "SibSp"
         }
        },
        "xaxis16": {
         "anchor": "y16",
         "domain": [
          0,
          0.16799999999999998
         ],
         "title": {
          "text": "Parch"
         }
        },
        "xaxis17": {
         "anchor": "y17",
         "domain": [
          0.208,
          0.376
         ],
         "title": {
          "text": "Parch"
         }
        },
        "xaxis18": {
         "anchor": "y18",
         "domain": [
          0.416,
          0.584
         ],
         "title": {
          "text": "Parch"
         }
        },
        "xaxis19": {
         "anchor": "y19",
         "domain": [
          0.624,
          0.792
         ],
         "title": {
          "text": "Parch"
         }
        },
        "xaxis2": {
         "anchor": "y2",
         "domain": [
          0.208,
          0.376
         ],
         "title": {
          "text": "Pclass"
         }
        },
        "xaxis20": {
         "anchor": "y20",
         "domain": [
          0.832,
          1
         ],
         "title": {
          "text": "Parch"
         }
        },
        "xaxis21": {
         "anchor": "y21",
         "domain": [
          0,
          0.16799999999999998
         ],
         "title": {
          "text": "Fare"
         }
        },
        "xaxis22": {
         "anchor": "y22",
         "domain": [
          0.208,
          0.376
         ],
         "title": {
          "text": "Fare"
         }
        },
        "xaxis23": {
         "anchor": "y23",
         "domain": [
          0.416,
          0.584
         ],
         "title": {
          "text": "Fare"
         }
        },
        "xaxis24": {
         "anchor": "y24",
         "domain": [
          0.624,
          0.792
         ],
         "title": {
          "text": "Fare"
         }
        },
        "xaxis25": {
         "anchor": "y25",
         "domain": [
          0.832,
          1
         ],
         "title": {
          "text": "Fare"
         }
        },
        "xaxis3": {
         "anchor": "y3",
         "domain": [
          0.416,
          0.584
         ],
         "title": {
          "text": "Pclass"
         }
        },
        "xaxis4": {
         "anchor": "y4",
         "domain": [
          0.624,
          0.792
         ],
         "title": {
          "text": "Pclass"
         }
        },
        "xaxis5": {
         "anchor": "y5",
         "domain": [
          0.832,
          1
         ],
         "title": {
          "text": "Pclass"
         }
        },
        "xaxis6": {
         "anchor": "y6",
         "domain": [
          0,
          0.16799999999999998
         ],
         "title": {
          "text": "Age"
         }
        },
        "xaxis7": {
         "anchor": "y7",
         "domain": [
          0.208,
          0.376
         ],
         "title": {
          "text": "Age"
         }
        },
        "xaxis8": {
         "anchor": "y8",
         "domain": [
          0.416,
          0.584
         ],
         "title": {
          "text": "Age"
         }
        },
        "xaxis9": {
         "anchor": "y9",
         "domain": [
          0.624,
          0.792
         ],
         "title": {
          "text": "Age"
         }
        },
        "yaxis": {
         "anchor": "x",
         "domain": [
          0.848,
          1
         ],
         "title": {
          "text": "Pclass"
         }
        },
        "yaxis10": {
         "anchor": "x10",
         "domain": [
          0.6359999999999999,
          0.7879999999999999
         ],
         "title": {
          "text": "Fare"
         }
        },
        "yaxis11": {
         "anchor": "x11",
         "domain": [
          0.424,
          0.576
         ],
         "title": {
          "text": "Pclass"
         }
        },
        "yaxis12": {
         "anchor": "x12",
         "domain": [
          0.424,
          0.576
         ],
         "title": {
          "text": "Age"
         }
        },
        "yaxis13": {
         "anchor": "x13",
         "domain": [
          0.424,
          0.576
         ],
         "title": {
          "text": "SibSp"
         }
        },
        "yaxis14": {
         "anchor": "x14",
         "domain": [
          0.424,
          0.576
         ],
         "title": {
          "text": "Parch"
         }
        },
        "yaxis15": {
         "anchor": "x15",
         "domain": [
          0.424,
          0.576
         ],
         "title": {
          "text": "Fare"
         }
        },
        "yaxis16": {
         "anchor": "x16",
         "domain": [
          0.212,
          0.364
         ],
         "title": {
          "text": "Pclass"
         }
        },
        "yaxis17": {
         "anchor": "x17",
         "domain": [
          0.212,
          0.364
         ],
         "title": {
          "text": "Age"
         }
        },
        "yaxis18": {
         "anchor": "x18",
         "domain": [
          0.212,
          0.364
         ],
         "title": {
          "text": "SibSp"
         }
        },
        "yaxis19": {
         "anchor": "x19",
         "domain": [
          0.212,
          0.364
         ],
         "title": {
          "text": "Parch"
         }
        },
        "yaxis2": {
         "anchor": "x2",
         "domain": [
          0.848,
          1
         ],
         "title": {
          "text": "Age"
         }
        },
        "yaxis20": {
         "anchor": "x20",
         "domain": [
          0.212,
          0.364
         ],
         "title": {
          "text": "Fare"
         }
        },
        "yaxis21": {
         "anchor": "x21",
         "domain": [
          0,
          0.152
         ],
         "title": {
          "text": "Pclass"
         }
        },
        "yaxis22": {
         "anchor": "x22",
         "domain": [
          0,
          0.152
         ],
         "title": {
          "text": "Age"
         }
        },
        "yaxis23": {
         "anchor": "x23",
         "domain": [
          0,
          0.152
         ],
         "title": {
          "text": "SibSp"
         }
        },
        "yaxis24": {
         "anchor": "x24",
         "domain": [
          0,
          0.152
         ],
         "title": {
          "text": "Parch"
         }
        },
        "yaxis25": {
         "anchor": "x25",
         "domain": [
          0,
          0.152
         ],
         "title": {
          "text": "Fare"
         }
        },
        "yaxis3": {
         "anchor": "x3",
         "domain": [
          0.848,
          1
         ],
         "title": {
          "text": "SibSp"
         }
        },
        "yaxis4": {
         "anchor": "x4",
         "domain": [
          0.848,
          1
         ],
         "title": {
          "text": "Parch"
         }
        },
        "yaxis5": {
         "anchor": "x5",
         "domain": [
          0.848,
          1
         ],
         "title": {
          "text": "Fare"
         }
        },
        "yaxis6": {
         "anchor": "x6",
         "domain": [
          0.6359999999999999,
          0.7879999999999999
         ],
         "title": {
          "text": "Pclass"
         }
        },
        "yaxis7": {
         "anchor": "x7",
         "domain": [
          0.6359999999999999,
          0.7879999999999999
         ],
         "title": {
          "text": "Age"
         }
        },
        "yaxis8": {
         "anchor": "x8",
         "domain": [
          0.6359999999999999,
          0.7879999999999999
         ],
         "title": {
          "text": "SibSp"
         }
        },
        "yaxis9": {
         "anchor": "x9",
         "domain": [
          0.6359999999999999,
          0.7879999999999999
         ],
         "title": {
          "text": "Parch"
         }
        }
       }
      }
     },
     "metadata": {},
     "output_type": "display_data"
    }
   ],
   "source": [
    "fig = make_subplots(cols = len(numeric_columns), rows = len(numeric_columns))\n",
    "\n",
    "\n",
    "\n",
    "for i, value_x in enumerate(numeric_columns):\n",
    "    for j, value_y in enumerate(numeric_columns):\n",
    "        if i == j:\n",
    "            fig.add_trace(\n",
    "                go.Histogram(\n",
    "                    x = test[value_x],\n",
    "                    marker = dict(\n",
    "                        color = \"steelblue\",\n",
    "                        line = dict(\n",
    "                            color = \"black\",\n",
    "                            width = 1\n",
    "                        )\n",
    "                    )\n",
    "                ),\n",
    "                row = i + 1,\n",
    "                col = j + 1,\n",
    "            )\n",
    "\n",
    "            fig.update_xaxes(\n",
    "                title_text = value_x,\n",
    "                row = i + 1,\n",
    "                col = j + 1\n",
    "            )\n",
    "\n",
    "            fig.update_yaxes(\n",
    "                title_text = value_x,\n",
    "                row = i + 1,\n",
    "                col = j + 1\n",
    "            )\n",
    "        else:\n",
    "            fig.add_trace(\n",
    "                go.Scatter(\n",
    "                    x = test[value_x],\n",
    "                    y = test[value_y],\n",
    "                    mode = \"markers\",\n",
    "                    marker = dict(\n",
    "                        color = \"steelblue\"\n",
    "                    )\n",
    "                ),\n",
    "                row = i + 1,\n",
    "                col = j + 1,\n",
    "            )\n",
    "\n",
    "            fig.update_xaxes(\n",
    "                title_text = value_x,\n",
    "                row = i + 1,\n",
    "                col = j + 1\n",
    "            )\n",
    "\n",
    "            fig.update_yaxes(\n",
    "                title_text = value_y,\n",
    "                row = i + 1,\n",
    "                col = j + 1\n",
    "            )\n",
    "\n",
    "fig.update_layout(\n",
    "    showlegend = False\n",
    ")\n",
    "\n",
    "fig.update_layout(\n",
    "    template = \"plotly_dark\",\n",
    "    width = 1800,\n",
    "    height = 1800\n",
    ")\n",
    "\n",
    "fig.show()"
   ]
  },
  {
   "cell_type": "code",
   "execution_count": 53,
   "metadata": {},
   "outputs": [],
   "source": [
    "numeric_scaled = StandardScaler().fit_transform(numeric_data)"
   ]
  },
  {
   "cell_type": "code",
   "execution_count": 64,
   "metadata": {},
   "outputs": [
    {
     "data": {
      "application/vnd.plotly.v1+json": {
       "config": {
        "plotlyServerURL": "https://plot.ly"
       },
       "data": [
        {
         "marker": {
          "color": "orange"
         },
         "mode": "lines+markers",
         "type": "scatter",
         "x": [
          1,
          2,
          3,
          4,
          5
         ],
         "y": {
          "bdata": "bjdxmOn31z+ve6JK6SHRP/cnQdvsEMM/leQa185rwT9xGvkOPZ+yPw==",
          "dtype": "f8"
         }
        }
       ],
       "layout": {
        "template": {
         "data": {
          "bar": [
           {
            "error_x": {
             "color": "#f2f5fa"
            },
            "error_y": {
             "color": "#f2f5fa"
            },
            "marker": {
             "line": {
              "color": "rgb(17,17,17)",
              "width": 0.5
             },
             "pattern": {
              "fillmode": "overlay",
              "size": 10,
              "solidity": 0.2
             }
            },
            "type": "bar"
           }
          ],
          "barpolar": [
           {
            "marker": {
             "line": {
              "color": "rgb(17,17,17)",
              "width": 0.5
             },
             "pattern": {
              "fillmode": "overlay",
              "size": 10,
              "solidity": 0.2
             }
            },
            "type": "barpolar"
           }
          ],
          "carpet": [
           {
            "aaxis": {
             "endlinecolor": "#A2B1C6",
             "gridcolor": "#506784",
             "linecolor": "#506784",
             "minorgridcolor": "#506784",
             "startlinecolor": "#A2B1C6"
            },
            "baxis": {
             "endlinecolor": "#A2B1C6",
             "gridcolor": "#506784",
             "linecolor": "#506784",
             "minorgridcolor": "#506784",
             "startlinecolor": "#A2B1C6"
            },
            "type": "carpet"
           }
          ],
          "choropleth": [
           {
            "colorbar": {
             "outlinewidth": 0,
             "ticks": ""
            },
            "type": "choropleth"
           }
          ],
          "contour": [
           {
            "colorbar": {
             "outlinewidth": 0,
             "ticks": ""
            },
            "colorscale": [
             [
              0,
              "#0d0887"
             ],
             [
              0.1111111111111111,
              "#46039f"
             ],
             [
              0.2222222222222222,
              "#7201a8"
             ],
             [
              0.3333333333333333,
              "#9c179e"
             ],
             [
              0.4444444444444444,
              "#bd3786"
             ],
             [
              0.5555555555555556,
              "#d8576b"
             ],
             [
              0.6666666666666666,
              "#ed7953"
             ],
             [
              0.7777777777777778,
              "#fb9f3a"
             ],
             [
              0.8888888888888888,
              "#fdca26"
             ],
             [
              1,
              "#f0f921"
             ]
            ],
            "type": "contour"
           }
          ],
          "contourcarpet": [
           {
            "colorbar": {
             "outlinewidth": 0,
             "ticks": ""
            },
            "type": "contourcarpet"
           }
          ],
          "heatmap": [
           {
            "colorbar": {
             "outlinewidth": 0,
             "ticks": ""
            },
            "colorscale": [
             [
              0,
              "#0d0887"
             ],
             [
              0.1111111111111111,
              "#46039f"
             ],
             [
              0.2222222222222222,
              "#7201a8"
             ],
             [
              0.3333333333333333,
              "#9c179e"
             ],
             [
              0.4444444444444444,
              "#bd3786"
             ],
             [
              0.5555555555555556,
              "#d8576b"
             ],
             [
              0.6666666666666666,
              "#ed7953"
             ],
             [
              0.7777777777777778,
              "#fb9f3a"
             ],
             [
              0.8888888888888888,
              "#fdca26"
             ],
             [
              1,
              "#f0f921"
             ]
            ],
            "type": "heatmap"
           }
          ],
          "histogram": [
           {
            "marker": {
             "pattern": {
              "fillmode": "overlay",
              "size": 10,
              "solidity": 0.2
             }
            },
            "type": "histogram"
           }
          ],
          "histogram2d": [
           {
            "colorbar": {
             "outlinewidth": 0,
             "ticks": ""
            },
            "colorscale": [
             [
              0,
              "#0d0887"
             ],
             [
              0.1111111111111111,
              "#46039f"
             ],
             [
              0.2222222222222222,
              "#7201a8"
             ],
             [
              0.3333333333333333,
              "#9c179e"
             ],
             [
              0.4444444444444444,
              "#bd3786"
             ],
             [
              0.5555555555555556,
              "#d8576b"
             ],
             [
              0.6666666666666666,
              "#ed7953"
             ],
             [
              0.7777777777777778,
              "#fb9f3a"
             ],
             [
              0.8888888888888888,
              "#fdca26"
             ],
             [
              1,
              "#f0f921"
             ]
            ],
            "type": "histogram2d"
           }
          ],
          "histogram2dcontour": [
           {
            "colorbar": {
             "outlinewidth": 0,
             "ticks": ""
            },
            "colorscale": [
             [
              0,
              "#0d0887"
             ],
             [
              0.1111111111111111,
              "#46039f"
             ],
             [
              0.2222222222222222,
              "#7201a8"
             ],
             [
              0.3333333333333333,
              "#9c179e"
             ],
             [
              0.4444444444444444,
              "#bd3786"
             ],
             [
              0.5555555555555556,
              "#d8576b"
             ],
             [
              0.6666666666666666,
              "#ed7953"
             ],
             [
              0.7777777777777778,
              "#fb9f3a"
             ],
             [
              0.8888888888888888,
              "#fdca26"
             ],
             [
              1,
              "#f0f921"
             ]
            ],
            "type": "histogram2dcontour"
           }
          ],
          "mesh3d": [
           {
            "colorbar": {
             "outlinewidth": 0,
             "ticks": ""
            },
            "type": "mesh3d"
           }
          ],
          "parcoords": [
           {
            "line": {
             "colorbar": {
              "outlinewidth": 0,
              "ticks": ""
             }
            },
            "type": "parcoords"
           }
          ],
          "pie": [
           {
            "automargin": true,
            "type": "pie"
           }
          ],
          "scatter": [
           {
            "marker": {
             "line": {
              "color": "#283442"
             }
            },
            "type": "scatter"
           }
          ],
          "scatter3d": [
           {
            "line": {
             "colorbar": {
              "outlinewidth": 0,
              "ticks": ""
             }
            },
            "marker": {
             "colorbar": {
              "outlinewidth": 0,
              "ticks": ""
             }
            },
            "type": "scatter3d"
           }
          ],
          "scattercarpet": [
           {
            "marker": {
             "colorbar": {
              "outlinewidth": 0,
              "ticks": ""
             }
            },
            "type": "scattercarpet"
           }
          ],
          "scattergeo": [
           {
            "marker": {
             "colorbar": {
              "outlinewidth": 0,
              "ticks": ""
             }
            },
            "type": "scattergeo"
           }
          ],
          "scattergl": [
           {
            "marker": {
             "line": {
              "color": "#283442"
             }
            },
            "type": "scattergl"
           }
          ],
          "scattermap": [
           {
            "marker": {
             "colorbar": {
              "outlinewidth": 0,
              "ticks": ""
             }
            },
            "type": "scattermap"
           }
          ],
          "scattermapbox": [
           {
            "marker": {
             "colorbar": {
              "outlinewidth": 0,
              "ticks": ""
             }
            },
            "type": "scattermapbox"
           }
          ],
          "scatterpolar": [
           {
            "marker": {
             "colorbar": {
              "outlinewidth": 0,
              "ticks": ""
             }
            },
            "type": "scatterpolar"
           }
          ],
          "scatterpolargl": [
           {
            "marker": {
             "colorbar": {
              "outlinewidth": 0,
              "ticks": ""
             }
            },
            "type": "scatterpolargl"
           }
          ],
          "scatterternary": [
           {
            "marker": {
             "colorbar": {
              "outlinewidth": 0,
              "ticks": ""
             }
            },
            "type": "scatterternary"
           }
          ],
          "surface": [
           {
            "colorbar": {
             "outlinewidth": 0,
             "ticks": ""
            },
            "colorscale": [
             [
              0,
              "#0d0887"
             ],
             [
              0.1111111111111111,
              "#46039f"
             ],
             [
              0.2222222222222222,
              "#7201a8"
             ],
             [
              0.3333333333333333,
              "#9c179e"
             ],
             [
              0.4444444444444444,
              "#bd3786"
             ],
             [
              0.5555555555555556,
              "#d8576b"
             ],
             [
              0.6666666666666666,
              "#ed7953"
             ],
             [
              0.7777777777777778,
              "#fb9f3a"
             ],
             [
              0.8888888888888888,
              "#fdca26"
             ],
             [
              1,
              "#f0f921"
             ]
            ],
            "type": "surface"
           }
          ],
          "table": [
           {
            "cells": {
             "fill": {
              "color": "#506784"
             },
             "line": {
              "color": "rgb(17,17,17)"
             }
            },
            "header": {
             "fill": {
              "color": "#2a3f5f"
             },
             "line": {
              "color": "rgb(17,17,17)"
             }
            },
            "type": "table"
           }
          ]
         },
         "layout": {
          "annotationdefaults": {
           "arrowcolor": "#f2f5fa",
           "arrowhead": 0,
           "arrowwidth": 1
          },
          "autotypenumbers": "strict",
          "coloraxis": {
           "colorbar": {
            "outlinewidth": 0,
            "ticks": ""
           }
          },
          "colorscale": {
           "diverging": [
            [
             0,
             "#8e0152"
            ],
            [
             0.1,
             "#c51b7d"
            ],
            [
             0.2,
             "#de77ae"
            ],
            [
             0.3,
             "#f1b6da"
            ],
            [
             0.4,
             "#fde0ef"
            ],
            [
             0.5,
             "#f7f7f7"
            ],
            [
             0.6,
             "#e6f5d0"
            ],
            [
             0.7,
             "#b8e186"
            ],
            [
             0.8,
             "#7fbc41"
            ],
            [
             0.9,
             "#4d9221"
            ],
            [
             1,
             "#276419"
            ]
           ],
           "sequential": [
            [
             0,
             "#0d0887"
            ],
            [
             0.1111111111111111,
             "#46039f"
            ],
            [
             0.2222222222222222,
             "#7201a8"
            ],
            [
             0.3333333333333333,
             "#9c179e"
            ],
            [
             0.4444444444444444,
             "#bd3786"
            ],
            [
             0.5555555555555556,
             "#d8576b"
            ],
            [
             0.6666666666666666,
             "#ed7953"
            ],
            [
             0.7777777777777778,
             "#fb9f3a"
            ],
            [
             0.8888888888888888,
             "#fdca26"
            ],
            [
             1,
             "#f0f921"
            ]
           ],
           "sequentialminus": [
            [
             0,
             "#0d0887"
            ],
            [
             0.1111111111111111,
             "#46039f"
            ],
            [
             0.2222222222222222,
             "#7201a8"
            ],
            [
             0.3333333333333333,
             "#9c179e"
            ],
            [
             0.4444444444444444,
             "#bd3786"
            ],
            [
             0.5555555555555556,
             "#d8576b"
            ],
            [
             0.6666666666666666,
             "#ed7953"
            ],
            [
             0.7777777777777778,
             "#fb9f3a"
            ],
            [
             0.8888888888888888,
             "#fdca26"
            ],
            [
             1,
             "#f0f921"
            ]
           ]
          },
          "colorway": [
           "#636efa",
           "#EF553B",
           "#00cc96",
           "#ab63fa",
           "#FFA15A",
           "#19d3f3",
           "#FF6692",
           "#B6E880",
           "#FF97FF",
           "#FECB52"
          ],
          "font": {
           "color": "#f2f5fa"
          },
          "geo": {
           "bgcolor": "rgb(17,17,17)",
           "lakecolor": "rgb(17,17,17)",
           "landcolor": "rgb(17,17,17)",
           "showlakes": true,
           "showland": true,
           "subunitcolor": "#506784"
          },
          "hoverlabel": {
           "align": "left"
          },
          "hovermode": "closest",
          "mapbox": {
           "style": "dark"
          },
          "paper_bgcolor": "rgb(17,17,17)",
          "plot_bgcolor": "rgb(17,17,17)",
          "polar": {
           "angularaxis": {
            "gridcolor": "#506784",
            "linecolor": "#506784",
            "ticks": ""
           },
           "bgcolor": "rgb(17,17,17)",
           "radialaxis": {
            "gridcolor": "#506784",
            "linecolor": "#506784",
            "ticks": ""
           }
          },
          "scene": {
           "xaxis": {
            "backgroundcolor": "rgb(17,17,17)",
            "gridcolor": "#506784",
            "gridwidth": 2,
            "linecolor": "#506784",
            "showbackground": true,
            "ticks": "",
            "zerolinecolor": "#C8D4E3"
           },
           "yaxis": {
            "backgroundcolor": "rgb(17,17,17)",
            "gridcolor": "#506784",
            "gridwidth": 2,
            "linecolor": "#506784",
            "showbackground": true,
            "ticks": "",
            "zerolinecolor": "#C8D4E3"
           },
           "zaxis": {
            "backgroundcolor": "rgb(17,17,17)",
            "gridcolor": "#506784",
            "gridwidth": 2,
            "linecolor": "#506784",
            "showbackground": true,
            "ticks": "",
            "zerolinecolor": "#C8D4E3"
           }
          },
          "shapedefaults": {
           "line": {
            "color": "#f2f5fa"
           }
          },
          "sliderdefaults": {
           "bgcolor": "#C8D4E3",
           "bordercolor": "rgb(17,17,17)",
           "borderwidth": 1,
           "tickwidth": 0
          },
          "ternary": {
           "aaxis": {
            "gridcolor": "#506784",
            "linecolor": "#506784",
            "ticks": ""
           },
           "baxis": {
            "gridcolor": "#506784",
            "linecolor": "#506784",
            "ticks": ""
           },
           "bgcolor": "rgb(17,17,17)",
           "caxis": {
            "gridcolor": "#506784",
            "linecolor": "#506784",
            "ticks": ""
           }
          },
          "title": {
           "x": 0.05
          },
          "updatemenudefaults": {
           "bgcolor": "#506784",
           "borderwidth": 0
          },
          "xaxis": {
           "automargin": true,
           "gridcolor": "#283442",
           "linecolor": "#506784",
           "ticks": "",
           "title": {
            "standoff": 15
           },
           "zerolinecolor": "#283442",
           "zerolinewidth": 2
          },
          "yaxis": {
           "automargin": true,
           "gridcolor": "#283442",
           "linecolor": "#506784",
           "ticks": "",
           "title": {
            "standoff": 15
           },
           "zerolinecolor": "#283442",
           "zerolinewidth": 2
          }
         }
        },
        "title": {
         "text": "Porcentaje de varianza explicada por componente"
        },
        "xaxis": {
         "tickmode": "array",
         "tickvals": [
          1,
          2,
          3,
          4,
          5
         ],
         "title": {
          "text": "Componentes"
         }
        },
        "yaxis": {
         "title": {
          "text": "Porcentaje de varianza"
         }
        }
       }
      }
     },
     "metadata": {},
     "output_type": "display_data"
    }
   ],
   "source": [
    "pca_95 = PCA(n_components=0.95).fit(numeric_scaled)\n",
    "varianza_exp = pca_95.explained_variance_ratio_\n",
    "fig = go.Figure()\n",
    "\n",
    "fig.add_trace(\n",
    "    go.Scatter(\n",
    "        x = list(range(1,len(varianza_exp) + 1)),\n",
    "        y = varianza_exp ,\n",
    "        mode = \"lines+markers\",\n",
    "        marker = dict(\n",
    "            color = \"orange\"\n",
    "        )\n",
    "    )\n",
    ")\n",
    "\n",
    "fig.update_layout(\n",
    "    template = \"plotly_dark\",\n",
    "    xaxis = dict(\n",
    "        title_text = \"Componentes\",\n",
    "        tickmode = \"array\",\n",
    "        tickvals = list(range(1,len(varianza_exp)+1))\n",
    "\n",
    "    ),\n",
    "    yaxis_title = \"Porcentaje de varianza\",\n",
    "    title = \"Porcentaje de varianza explicada por componente\"\n",
    ")\n",
    "\n",
    "fig.show()"
   ]
  },
  {
   "cell_type": "code",
   "execution_count": 66,
   "metadata": {},
   "outputs": [
    {
     "data": {
      "application/vnd.plotly.v1+json": {
       "config": {
        "plotlyServerURL": "https://plot.ly"
       },
       "data": [
        {
         "marker": {
          "color": "deepskyblue"
         },
         "mode": "lines+markers",
         "type": "scatter",
         "x": [
          1,
          2,
          3,
          4,
          5
         ],
         "y": {
          "bdata": "bjdxmOn31z+O2Ylx6YzkP4wjWqgkUek/sdwgXhis7T/////////vPw==",
          "dtype": "f8"
         }
        }
       ],
       "layout": {
        "template": {
         "data": {
          "bar": [
           {
            "error_x": {
             "color": "#f2f5fa"
            },
            "error_y": {
             "color": "#f2f5fa"
            },
            "marker": {
             "line": {
              "color": "rgb(17,17,17)",
              "width": 0.5
             },
             "pattern": {
              "fillmode": "overlay",
              "size": 10,
              "solidity": 0.2
             }
            },
            "type": "bar"
           }
          ],
          "barpolar": [
           {
            "marker": {
             "line": {
              "color": "rgb(17,17,17)",
              "width": 0.5
             },
             "pattern": {
              "fillmode": "overlay",
              "size": 10,
              "solidity": 0.2
             }
            },
            "type": "barpolar"
           }
          ],
          "carpet": [
           {
            "aaxis": {
             "endlinecolor": "#A2B1C6",
             "gridcolor": "#506784",
             "linecolor": "#506784",
             "minorgridcolor": "#506784",
             "startlinecolor": "#A2B1C6"
            },
            "baxis": {
             "endlinecolor": "#A2B1C6",
             "gridcolor": "#506784",
             "linecolor": "#506784",
             "minorgridcolor": "#506784",
             "startlinecolor": "#A2B1C6"
            },
            "type": "carpet"
           }
          ],
          "choropleth": [
           {
            "colorbar": {
             "outlinewidth": 0,
             "ticks": ""
            },
            "type": "choropleth"
           }
          ],
          "contour": [
           {
            "colorbar": {
             "outlinewidth": 0,
             "ticks": ""
            },
            "colorscale": [
             [
              0,
              "#0d0887"
             ],
             [
              0.1111111111111111,
              "#46039f"
             ],
             [
              0.2222222222222222,
              "#7201a8"
             ],
             [
              0.3333333333333333,
              "#9c179e"
             ],
             [
              0.4444444444444444,
              "#bd3786"
             ],
             [
              0.5555555555555556,
              "#d8576b"
             ],
             [
              0.6666666666666666,
              "#ed7953"
             ],
             [
              0.7777777777777778,
              "#fb9f3a"
             ],
             [
              0.8888888888888888,
              "#fdca26"
             ],
             [
              1,
              "#f0f921"
             ]
            ],
            "type": "contour"
           }
          ],
          "contourcarpet": [
           {
            "colorbar": {
             "outlinewidth": 0,
             "ticks": ""
            },
            "type": "contourcarpet"
           }
          ],
          "heatmap": [
           {
            "colorbar": {
             "outlinewidth": 0,
             "ticks": ""
            },
            "colorscale": [
             [
              0,
              "#0d0887"
             ],
             [
              0.1111111111111111,
              "#46039f"
             ],
             [
              0.2222222222222222,
              "#7201a8"
             ],
             [
              0.3333333333333333,
              "#9c179e"
             ],
             [
              0.4444444444444444,
              "#bd3786"
             ],
             [
              0.5555555555555556,
              "#d8576b"
             ],
             [
              0.6666666666666666,
              "#ed7953"
             ],
             [
              0.7777777777777778,
              "#fb9f3a"
             ],
             [
              0.8888888888888888,
              "#fdca26"
             ],
             [
              1,
              "#f0f921"
             ]
            ],
            "type": "heatmap"
           }
          ],
          "histogram": [
           {
            "marker": {
             "pattern": {
              "fillmode": "overlay",
              "size": 10,
              "solidity": 0.2
             }
            },
            "type": "histogram"
           }
          ],
          "histogram2d": [
           {
            "colorbar": {
             "outlinewidth": 0,
             "ticks": ""
            },
            "colorscale": [
             [
              0,
              "#0d0887"
             ],
             [
              0.1111111111111111,
              "#46039f"
             ],
             [
              0.2222222222222222,
              "#7201a8"
             ],
             [
              0.3333333333333333,
              "#9c179e"
             ],
             [
              0.4444444444444444,
              "#bd3786"
             ],
             [
              0.5555555555555556,
              "#d8576b"
             ],
             [
              0.6666666666666666,
              "#ed7953"
             ],
             [
              0.7777777777777778,
              "#fb9f3a"
             ],
             [
              0.8888888888888888,
              "#fdca26"
             ],
             [
              1,
              "#f0f921"
             ]
            ],
            "type": "histogram2d"
           }
          ],
          "histogram2dcontour": [
           {
            "colorbar": {
             "outlinewidth": 0,
             "ticks": ""
            },
            "colorscale": [
             [
              0,
              "#0d0887"
             ],
             [
              0.1111111111111111,
              "#46039f"
             ],
             [
              0.2222222222222222,
              "#7201a8"
             ],
             [
              0.3333333333333333,
              "#9c179e"
             ],
             [
              0.4444444444444444,
              "#bd3786"
             ],
             [
              0.5555555555555556,
              "#d8576b"
             ],
             [
              0.6666666666666666,
              "#ed7953"
             ],
             [
              0.7777777777777778,
              "#fb9f3a"
             ],
             [
              0.8888888888888888,
              "#fdca26"
             ],
             [
              1,
              "#f0f921"
             ]
            ],
            "type": "histogram2dcontour"
           }
          ],
          "mesh3d": [
           {
            "colorbar": {
             "outlinewidth": 0,
             "ticks": ""
            },
            "type": "mesh3d"
           }
          ],
          "parcoords": [
           {
            "line": {
             "colorbar": {
              "outlinewidth": 0,
              "ticks": ""
             }
            },
            "type": "parcoords"
           }
          ],
          "pie": [
           {
            "automargin": true,
            "type": "pie"
           }
          ],
          "scatter": [
           {
            "marker": {
             "line": {
              "color": "#283442"
             }
            },
            "type": "scatter"
           }
          ],
          "scatter3d": [
           {
            "line": {
             "colorbar": {
              "outlinewidth": 0,
              "ticks": ""
             }
            },
            "marker": {
             "colorbar": {
              "outlinewidth": 0,
              "ticks": ""
             }
            },
            "type": "scatter3d"
           }
          ],
          "scattercarpet": [
           {
            "marker": {
             "colorbar": {
              "outlinewidth": 0,
              "ticks": ""
             }
            },
            "type": "scattercarpet"
           }
          ],
          "scattergeo": [
           {
            "marker": {
             "colorbar": {
              "outlinewidth": 0,
              "ticks": ""
             }
            },
            "type": "scattergeo"
           }
          ],
          "scattergl": [
           {
            "marker": {
             "line": {
              "color": "#283442"
             }
            },
            "type": "scattergl"
           }
          ],
          "scattermap": [
           {
            "marker": {
             "colorbar": {
              "outlinewidth": 0,
              "ticks": ""
             }
            },
            "type": "scattermap"
           }
          ],
          "scattermapbox": [
           {
            "marker": {
             "colorbar": {
              "outlinewidth": 0,
              "ticks": ""
             }
            },
            "type": "scattermapbox"
           }
          ],
          "scatterpolar": [
           {
            "marker": {
             "colorbar": {
              "outlinewidth": 0,
              "ticks": ""
             }
            },
            "type": "scatterpolar"
           }
          ],
          "scatterpolargl": [
           {
            "marker": {
             "colorbar": {
              "outlinewidth": 0,
              "ticks": ""
             }
            },
            "type": "scatterpolargl"
           }
          ],
          "scatterternary": [
           {
            "marker": {
             "colorbar": {
              "outlinewidth": 0,
              "ticks": ""
             }
            },
            "type": "scatterternary"
           }
          ],
          "surface": [
           {
            "colorbar": {
             "outlinewidth": 0,
             "ticks": ""
            },
            "colorscale": [
             [
              0,
              "#0d0887"
             ],
             [
              0.1111111111111111,
              "#46039f"
             ],
             [
              0.2222222222222222,
              "#7201a8"
             ],
             [
              0.3333333333333333,
              "#9c179e"
             ],
             [
              0.4444444444444444,
              "#bd3786"
             ],
             [
              0.5555555555555556,
              "#d8576b"
             ],
             [
              0.6666666666666666,
              "#ed7953"
             ],
             [
              0.7777777777777778,
              "#fb9f3a"
             ],
             [
              0.8888888888888888,
              "#fdca26"
             ],
             [
              1,
              "#f0f921"
             ]
            ],
            "type": "surface"
           }
          ],
          "table": [
           {
            "cells": {
             "fill": {
              "color": "#506784"
             },
             "line": {
              "color": "rgb(17,17,17)"
             }
            },
            "header": {
             "fill": {
              "color": "#2a3f5f"
             },
             "line": {
              "color": "rgb(17,17,17)"
             }
            },
            "type": "table"
           }
          ]
         },
         "layout": {
          "annotationdefaults": {
           "arrowcolor": "#f2f5fa",
           "arrowhead": 0,
           "arrowwidth": 1
          },
          "autotypenumbers": "strict",
          "coloraxis": {
           "colorbar": {
            "outlinewidth": 0,
            "ticks": ""
           }
          },
          "colorscale": {
           "diverging": [
            [
             0,
             "#8e0152"
            ],
            [
             0.1,
             "#c51b7d"
            ],
            [
             0.2,
             "#de77ae"
            ],
            [
             0.3,
             "#f1b6da"
            ],
            [
             0.4,
             "#fde0ef"
            ],
            [
             0.5,
             "#f7f7f7"
            ],
            [
             0.6,
             "#e6f5d0"
            ],
            [
             0.7,
             "#b8e186"
            ],
            [
             0.8,
             "#7fbc41"
            ],
            [
             0.9,
             "#4d9221"
            ],
            [
             1,
             "#276419"
            ]
           ],
           "sequential": [
            [
             0,
             "#0d0887"
            ],
            [
             0.1111111111111111,
             "#46039f"
            ],
            [
             0.2222222222222222,
             "#7201a8"
            ],
            [
             0.3333333333333333,
             "#9c179e"
            ],
            [
             0.4444444444444444,
             "#bd3786"
            ],
            [
             0.5555555555555556,
             "#d8576b"
            ],
            [
             0.6666666666666666,
             "#ed7953"
            ],
            [
             0.7777777777777778,
             "#fb9f3a"
            ],
            [
             0.8888888888888888,
             "#fdca26"
            ],
            [
             1,
             "#f0f921"
            ]
           ],
           "sequentialminus": [
            [
             0,
             "#0d0887"
            ],
            [
             0.1111111111111111,
             "#46039f"
            ],
            [
             0.2222222222222222,
             "#7201a8"
            ],
            [
             0.3333333333333333,
             "#9c179e"
            ],
            [
             0.4444444444444444,
             "#bd3786"
            ],
            [
             0.5555555555555556,
             "#d8576b"
            ],
            [
             0.6666666666666666,
             "#ed7953"
            ],
            [
             0.7777777777777778,
             "#fb9f3a"
            ],
            [
             0.8888888888888888,
             "#fdca26"
            ],
            [
             1,
             "#f0f921"
            ]
           ]
          },
          "colorway": [
           "#636efa",
           "#EF553B",
           "#00cc96",
           "#ab63fa",
           "#FFA15A",
           "#19d3f3",
           "#FF6692",
           "#B6E880",
           "#FF97FF",
           "#FECB52"
          ],
          "font": {
           "color": "#f2f5fa"
          },
          "geo": {
           "bgcolor": "rgb(17,17,17)",
           "lakecolor": "rgb(17,17,17)",
           "landcolor": "rgb(17,17,17)",
           "showlakes": true,
           "showland": true,
           "subunitcolor": "#506784"
          },
          "hoverlabel": {
           "align": "left"
          },
          "hovermode": "closest",
          "mapbox": {
           "style": "dark"
          },
          "paper_bgcolor": "rgb(17,17,17)",
          "plot_bgcolor": "rgb(17,17,17)",
          "polar": {
           "angularaxis": {
            "gridcolor": "#506784",
            "linecolor": "#506784",
            "ticks": ""
           },
           "bgcolor": "rgb(17,17,17)",
           "radialaxis": {
            "gridcolor": "#506784",
            "linecolor": "#506784",
            "ticks": ""
           }
          },
          "scene": {
           "xaxis": {
            "backgroundcolor": "rgb(17,17,17)",
            "gridcolor": "#506784",
            "gridwidth": 2,
            "linecolor": "#506784",
            "showbackground": true,
            "ticks": "",
            "zerolinecolor": "#C8D4E3"
           },
           "yaxis": {
            "backgroundcolor": "rgb(17,17,17)",
            "gridcolor": "#506784",
            "gridwidth": 2,
            "linecolor": "#506784",
            "showbackground": true,
            "ticks": "",
            "zerolinecolor": "#C8D4E3"
           },
           "zaxis": {
            "backgroundcolor": "rgb(17,17,17)",
            "gridcolor": "#506784",
            "gridwidth": 2,
            "linecolor": "#506784",
            "showbackground": true,
            "ticks": "",
            "zerolinecolor": "#C8D4E3"
           }
          },
          "shapedefaults": {
           "line": {
            "color": "#f2f5fa"
           }
          },
          "sliderdefaults": {
           "bgcolor": "#C8D4E3",
           "bordercolor": "rgb(17,17,17)",
           "borderwidth": 1,
           "tickwidth": 0
          },
          "ternary": {
           "aaxis": {
            "gridcolor": "#506784",
            "linecolor": "#506784",
            "ticks": ""
           },
           "baxis": {
            "gridcolor": "#506784",
            "linecolor": "#506784",
            "ticks": ""
           },
           "bgcolor": "rgb(17,17,17)",
           "caxis": {
            "gridcolor": "#506784",
            "linecolor": "#506784",
            "ticks": ""
           }
          },
          "title": {
           "x": 0.05
          },
          "updatemenudefaults": {
           "bgcolor": "#506784",
           "borderwidth": 0
          },
          "xaxis": {
           "automargin": true,
           "gridcolor": "#283442",
           "linecolor": "#506784",
           "ticks": "",
           "title": {
            "standoff": 15
           },
           "zerolinecolor": "#283442",
           "zerolinewidth": 2
          },
          "yaxis": {
           "automargin": true,
           "gridcolor": "#283442",
           "linecolor": "#506784",
           "ticks": "",
           "title": {
            "standoff": 15
           },
           "zerolinecolor": "#283442",
           "zerolinewidth": 2
          }
         }
        },
        "title": {
         "text": "Suma acumulada para cada componente"
        },
        "xaxis": {
         "tickmode": "array",
         "tickvals": [
          1,
          2,
          3,
          4,
          5
         ],
         "title": {
          "text": "Componentes"
         }
        },
        "yaxis": {
         "title": {
          "text": "Suma acumulada"
         }
        }
       }
      }
     },
     "metadata": {},
     "output_type": "display_data"
    }
   ],
   "source": [
    "cumsum_var = np.cumsum(varianza_exp)\n",
    "\n",
    "fig = go.Figure()\n",
    "fig.add_trace(\n",
    "    go.Scatter(\n",
    "        x = list(range(1,len(varianza_exp) +1)),\n",
    "        y = cumsum_var,\n",
    "        mode = \"lines+markers\",\n",
    "        marker = dict(\n",
    "            color = \"deepskyblue\"\n",
    "        )\n",
    "    )\n",
    ")\n",
    "\n",
    "fig.update_layout(\n",
    "    template = \"plotly_dark\",\n",
    "    xaxis = dict(\n",
    "        title_text = \"Componentes\",\n",
    "        tickmode = \"array\",\n",
    "        tickvals = list(range(1,len(varianza_exp) +1))\n",
    "    ),\n",
    "    yaxis_title = \"Suma acumulada\",\n",
    "    title = \"Suma acumulada para cada componente\"\n",
    ")"
   ]
  },
  {
   "cell_type": "code",
   "execution_count": 68,
   "metadata": {},
   "outputs": [],
   "source": [
    "pca_data = PCA(n_components=0.90).fit(numeric_scaled)\n",
    "lambdas = pca_data.explained_variance_\n",
    "Gammas = pca_data.components_.T\n",
    "R = Gammas[:, :2] * np.sqrt(lambdas[:2])\n",
    "\n",
    "theta = np.linspace(0, 2*np.pi,400)"
   ]
  },
  {
   "cell_type": "code",
   "execution_count": 81,
   "metadata": {},
   "outputs": [
    {
     "data": {
      "application/vnd.plotly.v1+json": {
       "config": {
        "plotlyServerURL": "https://plot.ly"
       },
       "data": [
        {
         "marker": {
          "color": "red"
         },
         "mode": "lines",
         "showlegend": false,
         "type": "scatter",
         "x": {
          "bdata": "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",
          "dtype": "f8"
         },
         "y": {
          "bdata": "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",
          "dtype": "f8"
         }
        },
        {
         "mode": "markers+text",
         "showlegend": false,
         "text": [
          "Pclass"
         ],
         "textposition": "top center",
         "type": "scatter",
         "x": [
          -0.8064932591221456
         ],
         "y": [
          0.30848668991449524
         ]
        },
        {
         "mode": "markers+text",
         "showlegend": false,
         "text": [
          "Age"
         ],
         "textposition": "top center",
         "type": "scatter",
         "x": [
          0.5974383896461046
         ],
         "y": [
          -0.3567365164122024
         ]
        },
        {
         "mode": "markers+text",
         "showlegend": false,
         "text": [
          "SibSp"
         ],
         "textposition": "top center",
         "type": "scatter",
         "x": [
          0.23822326295072485
         ],
         "y": [
          0.7572745619920476
         ]
        },
        {
         "mode": "markers+text",
         "showlegend": false,
         "text": [
          "Parch"
         ],
         "textposition": "top center",
         "type": "scatter",
         "x": [
          0.3016293031048777
         ],
         "y": [
          0.7354306482084532
         ]
        },
        {
         "mode": "markers+text",
         "showlegend": false,
         "text": [
          "Fare"
         ],
         "textposition": "top center",
         "type": "scatter",
         "x": [
          0.8496633472623017
         ],
         "y": [
          0.0702545014118076
         ]
        }
       ],
       "layout": {
        "template": {
         "data": {
          "bar": [
           {
            "error_x": {
             "color": "#f2f5fa"
            },
            "error_y": {
             "color": "#f2f5fa"
            },
            "marker": {
             "line": {
              "color": "rgb(17,17,17)",
              "width": 0.5
             },
             "pattern": {
              "fillmode": "overlay",
              "size": 10,
              "solidity": 0.2
             }
            },
            "type": "bar"
           }
          ],
          "barpolar": [
           {
            "marker": {
             "line": {
              "color": "rgb(17,17,17)",
              "width": 0.5
             },
             "pattern": {
              "fillmode": "overlay",
              "size": 10,
              "solidity": 0.2
             }
            },
            "type": "barpolar"
           }
          ],
          "carpet": [
           {
            "aaxis": {
             "endlinecolor": "#A2B1C6",
             "gridcolor": "#506784",
             "linecolor": "#506784",
             "minorgridcolor": "#506784",
             "startlinecolor": "#A2B1C6"
            },
            "baxis": {
             "endlinecolor": "#A2B1C6",
             "gridcolor": "#506784",
             "linecolor": "#506784",
             "minorgridcolor": "#506784",
             "startlinecolor": "#A2B1C6"
            },
            "type": "carpet"
           }
          ],
          "choropleth": [
           {
            "colorbar": {
             "outlinewidth": 0,
             "ticks": ""
            },
            "type": "choropleth"
           }
          ],
          "contour": [
           {
            "colorbar": {
             "outlinewidth": 0,
             "ticks": ""
            },
            "colorscale": [
             [
              0,
              "#0d0887"
             ],
             [
              0.1111111111111111,
              "#46039f"
             ],
             [
              0.2222222222222222,
              "#7201a8"
             ],
             [
              0.3333333333333333,
              "#9c179e"
             ],
             [
              0.4444444444444444,
              "#bd3786"
             ],
             [
              0.5555555555555556,
              "#d8576b"
             ],
             [
              0.6666666666666666,
              "#ed7953"
             ],
             [
              0.7777777777777778,
              "#fb9f3a"
             ],
             [
              0.8888888888888888,
              "#fdca26"
             ],
             [
              1,
              "#f0f921"
             ]
            ],
            "type": "contour"
           }
          ],
          "contourcarpet": [
           {
            "colorbar": {
             "outlinewidth": 0,
             "ticks": ""
            },
            "type": "contourcarpet"
           }
          ],
          "heatmap": [
           {
            "colorbar": {
             "outlinewidth": 0,
             "ticks": ""
            },
            "colorscale": [
             [
              0,
              "#0d0887"
             ],
             [
              0.1111111111111111,
              "#46039f"
             ],
             [
              0.2222222222222222,
              "#7201a8"
             ],
             [
              0.3333333333333333,
              "#9c179e"
             ],
             [
              0.4444444444444444,
              "#bd3786"
             ],
             [
              0.5555555555555556,
              "#d8576b"
             ],
             [
              0.6666666666666666,
              "#ed7953"
             ],
             [
              0.7777777777777778,
              "#fb9f3a"
             ],
             [
              0.8888888888888888,
              "#fdca26"
             ],
             [
              1,
              "#f0f921"
             ]
            ],
            "type": "heatmap"
           }
          ],
          "histogram": [
           {
            "marker": {
             "pattern": {
              "fillmode": "overlay",
              "size": 10,
              "solidity": 0.2
             }
            },
            "type": "histogram"
           }
          ],
          "histogram2d": [
           {
            "colorbar": {
             "outlinewidth": 0,
             "ticks": ""
            },
            "colorscale": [
             [
              0,
              "#0d0887"
             ],
             [
              0.1111111111111111,
              "#46039f"
             ],
             [
              0.2222222222222222,
              "#7201a8"
             ],
             [
              0.3333333333333333,
              "#9c179e"
             ],
             [
              0.4444444444444444,
              "#bd3786"
             ],
             [
              0.5555555555555556,
              "#d8576b"
             ],
             [
              0.6666666666666666,
              "#ed7953"
             ],
             [
              0.7777777777777778,
              "#fb9f3a"
             ],
             [
              0.8888888888888888,
              "#fdca26"
             ],
             [
              1,
              "#f0f921"
             ]
            ],
            "type": "histogram2d"
           }
          ],
          "histogram2dcontour": [
           {
            "colorbar": {
             "outlinewidth": 0,
             "ticks": ""
            },
            "colorscale": [
             [
              0,
              "#0d0887"
             ],
             [
              0.1111111111111111,
              "#46039f"
             ],
             [
              0.2222222222222222,
              "#7201a8"
             ],
             [
              0.3333333333333333,
              "#9c179e"
             ],
             [
              0.4444444444444444,
              "#bd3786"
             ],
             [
              0.5555555555555556,
              "#d8576b"
             ],
             [
              0.6666666666666666,
              "#ed7953"
             ],
             [
              0.7777777777777778,
              "#fb9f3a"
             ],
             [
              0.8888888888888888,
              "#fdca26"
             ],
             [
              1,
              "#f0f921"
             ]
            ],
            "type": "histogram2dcontour"
           }
          ],
          "mesh3d": [
           {
            "colorbar": {
             "outlinewidth": 0,
             "ticks": ""
            },
            "type": "mesh3d"
           }
          ],
          "parcoords": [
           {
            "line": {
             "colorbar": {
              "outlinewidth": 0,
              "ticks": ""
             }
            },
            "type": "parcoords"
           }
          ],
          "pie": [
           {
            "automargin": true,
            "type": "pie"
           }
          ],
          "scatter": [
           {
            "marker": {
             "line": {
              "color": "#283442"
             }
            },
            "type": "scatter"
           }
          ],
          "scatter3d": [
           {
            "line": {
             "colorbar": {
              "outlinewidth": 0,
              "ticks": ""
             }
            },
            "marker": {
             "colorbar": {
              "outlinewidth": 0,
              "ticks": ""
             }
            },
            "type": "scatter3d"
           }
          ],
          "scattercarpet": [
           {
            "marker": {
             "colorbar": {
              "outlinewidth": 0,
              "ticks": ""
             }
            },
            "type": "scattercarpet"
           }
          ],
          "scattergeo": [
           {
            "marker": {
             "colorbar": {
              "outlinewidth": 0,
              "ticks": ""
             }
            },
            "type": "scattergeo"
           }
          ],
          "scattergl": [
           {
            "marker": {
             "line": {
              "color": "#283442"
             }
            },
            "type": "scattergl"
           }
          ],
          "scattermap": [
           {
            "marker": {
             "colorbar": {
              "outlinewidth": 0,
              "ticks": ""
             }
            },
            "type": "scattermap"
           }
          ],
          "scattermapbox": [
           {
            "marker": {
             "colorbar": {
              "outlinewidth": 0,
              "ticks": ""
             }
            },
            "type": "scattermapbox"
           }
          ],
          "scatterpolar": [
           {
            "marker": {
             "colorbar": {
              "outlinewidth": 0,
              "ticks": ""
             }
            },
            "type": "scatterpolar"
           }
          ],
          "scatterpolargl": [
           {
            "marker": {
             "colorbar": {
              "outlinewidth": 0,
              "ticks": ""
             }
            },
            "type": "scatterpolargl"
           }
          ],
          "scatterternary": [
           {
            "marker": {
             "colorbar": {
              "outlinewidth": 0,
              "ticks": ""
             }
            },
            "type": "scatterternary"
           }
          ],
          "surface": [
           {
            "colorbar": {
             "outlinewidth": 0,
             "ticks": ""
            },
            "colorscale": [
             [
              0,
              "#0d0887"
             ],
             [
              0.1111111111111111,
              "#46039f"
             ],
             [
              0.2222222222222222,
              "#7201a8"
             ],
             [
              0.3333333333333333,
              "#9c179e"
             ],
             [
              0.4444444444444444,
              "#bd3786"
             ],
             [
              0.5555555555555556,
              "#d8576b"
             ],
             [
              0.6666666666666666,
              "#ed7953"
             ],
             [
              0.7777777777777778,
              "#fb9f3a"
             ],
             [
              0.8888888888888888,
              "#fdca26"
             ],
             [
              1,
              "#f0f921"
             ]
            ],
            "type": "surface"
           }
          ],
          "table": [
           {
            "cells": {
             "fill": {
              "color": "#506784"
             },
             "line": {
              "color": "rgb(17,17,17)"
             }
            },
            "header": {
             "fill": {
              "color": "#2a3f5f"
             },
             "line": {
              "color": "rgb(17,17,17)"
             }
            },
            "type": "table"
           }
          ]
         },
         "layout": {
          "annotationdefaults": {
           "arrowcolor": "#f2f5fa",
           "arrowhead": 0,
           "arrowwidth": 1
          },
          "autotypenumbers": "strict",
          "coloraxis": {
           "colorbar": {
            "outlinewidth": 0,
            "ticks": ""
           }
          },
          "colorscale": {
           "diverging": [
            [
             0,
             "#8e0152"
            ],
            [
             0.1,
             "#c51b7d"
            ],
            [
             0.2,
             "#de77ae"
            ],
            [
             0.3,
             "#f1b6da"
            ],
            [
             0.4,
             "#fde0ef"
            ],
            [
             0.5,
             "#f7f7f7"
            ],
            [
             0.6,
             "#e6f5d0"
            ],
            [
             0.7,
             "#b8e186"
            ],
            [
             0.8,
             "#7fbc41"
            ],
            [
             0.9,
             "#4d9221"
            ],
            [
             1,
             "#276419"
            ]
           ],
           "sequential": [
            [
             0,
             "#0d0887"
            ],
            [
             0.1111111111111111,
             "#46039f"
            ],
            [
             0.2222222222222222,
             "#7201a8"
            ],
            [
             0.3333333333333333,
             "#9c179e"
            ],
            [
             0.4444444444444444,
             "#bd3786"
            ],
            [
             0.5555555555555556,
             "#d8576b"
            ],
            [
             0.6666666666666666,
             "#ed7953"
            ],
            [
             0.7777777777777778,
             "#fb9f3a"
            ],
            [
             0.8888888888888888,
             "#fdca26"
            ],
            [
             1,
             "#f0f921"
            ]
           ],
           "sequentialminus": [
            [
             0,
             "#0d0887"
            ],
            [
             0.1111111111111111,
             "#46039f"
            ],
            [
             0.2222222222222222,
             "#7201a8"
            ],
            [
             0.3333333333333333,
             "#9c179e"
            ],
            [
             0.4444444444444444,
             "#bd3786"
            ],
            [
             0.5555555555555556,
             "#d8576b"
            ],
            [
             0.6666666666666666,
             "#ed7953"
            ],
            [
             0.7777777777777778,
             "#fb9f3a"
            ],
            [
             0.8888888888888888,
             "#fdca26"
            ],
            [
             1,
             "#f0f921"
            ]
           ]
          },
          "colorway": [
           "#636efa",
           "#EF553B",
           "#00cc96",
           "#ab63fa",
           "#FFA15A",
           "#19d3f3",
           "#FF6692",
           "#B6E880",
           "#FF97FF",
           "#FECB52"
          ],
          "font": {
           "color": "#f2f5fa"
          },
          "geo": {
           "bgcolor": "rgb(17,17,17)",
           "lakecolor": "rgb(17,17,17)",
           "landcolor": "rgb(17,17,17)",
           "showlakes": true,
           "showland": true,
           "subunitcolor": "#506784"
          },
          "hoverlabel": {
           "align": "left"
          },
          "hovermode": "closest",
          "mapbox": {
           "style": "dark"
          },
          "paper_bgcolor": "rgb(17,17,17)",
          "plot_bgcolor": "rgb(17,17,17)",
          "polar": {
           "angularaxis": {
            "gridcolor": "#506784",
            "linecolor": "#506784",
            "ticks": ""
           },
           "bgcolor": "rgb(17,17,17)",
           "radialaxis": {
            "gridcolor": "#506784",
            "linecolor": "#506784",
            "ticks": ""
           }
          },
          "scene": {
           "xaxis": {
            "backgroundcolor": "rgb(17,17,17)",
            "gridcolor": "#506784",
            "gridwidth": 2,
            "linecolor": "#506784",
            "showbackground": true,
            "ticks": "",
            "zerolinecolor": "#C8D4E3"
           },
           "yaxis": {
            "backgroundcolor": "rgb(17,17,17)",
            "gridcolor": "#506784",
            "gridwidth": 2,
            "linecolor": "#506784",
            "showbackground": true,
            "ticks": "",
            "zerolinecolor": "#C8D4E3"
           },
           "zaxis": {
            "backgroundcolor": "rgb(17,17,17)",
            "gridcolor": "#506784",
            "gridwidth": 2,
            "linecolor": "#506784",
            "showbackground": true,
            "ticks": "",
            "zerolinecolor": "#C8D4E3"
           }
          },
          "shapedefaults": {
           "line": {
            "color": "#f2f5fa"
           }
          },
          "sliderdefaults": {
           "bgcolor": "#C8D4E3",
           "bordercolor": "rgb(17,17,17)",
           "borderwidth": 1,
           "tickwidth": 0
          },
          "ternary": {
           "aaxis": {
            "gridcolor": "#506784",
            "linecolor": "#506784",
            "ticks": ""
           },
           "baxis": {
            "gridcolor": "#506784",
            "linecolor": "#506784",
            "ticks": ""
           },
           "bgcolor": "rgb(17,17,17)",
           "caxis": {
            "gridcolor": "#506784",
            "linecolor": "#506784",
            "ticks": ""
           }
          },
          "title": {
           "x": 0.05
          },
          "updatemenudefaults": {
           "bgcolor": "#506784",
           "borderwidth": 0
          },
          "xaxis": {
           "automargin": true,
           "gridcolor": "#283442",
           "linecolor": "#506784",
           "ticks": "",
           "title": {
            "standoff": 15
           },
           "zerolinecolor": "#283442",
           "zerolinewidth": 2
          },
          "yaxis": {
           "automargin": true,
           "gridcolor": "#283442",
           "linecolor": "#506784",
           "ticks": "",
           "title": {
            "standoff": 15
           },
           "zerolinecolor": "#283442",
           "zerolinewidth": 2
          }
         }
        },
        "title": {
         "text": "Círculo de correlaciones (PC1 vs PC2)"
        },
        "xaxis": {
         "title": {
          "text": "PC1"
         }
        },
        "yaxis": {
         "scaleanchor": "x",
         "title": {
          "text": "PC2"
         }
        }
       }
      }
     },
     "metadata": {},
     "output_type": "display_data"
    }
   ],
   "source": [
    "fig = go.Figure()\n",
    "\n",
    "fig.add_trace(\n",
    "    go.Scatter(\n",
    "        x = np.cos(theta),\n",
    "        y = np.sin(theta),\n",
    "        mode = \"lines\",\n",
    "        marker = dict(\n",
    "            color = \"red\"\n",
    "        ),\n",
    "        showlegend=False\n",
    "    )\n",
    ")\n",
    "\n",
    "for index, value in enumerate(list(numeric_columns)):\n",
    "    fig.add_trace(\n",
    "        go.Scatter(\n",
    "            x = [R[index,0]],\n",
    "            y = [R[index,1]],\n",
    "            mode = \"markers+text\",\n",
    "            text = [value],\n",
    "            textposition=\"top center\",\n",
    "            showlegend=False\n",
    "        )\n",
    "    )\n",
    "\n",
    "fig.update_layout(\n",
    "    template = \"plotly_dark\",\n",
    "    yaxis = dict(\n",
    "        scaleanchor= \"x\",\n",
    "        title_text = \"PC2\"\n",
    "    ),\n",
    "    xaxis = dict(\n",
    "        title = \"PC1\"\n",
    "    ),\n",
    "    title = \"Círculo de correlaciones (PC1 vs PC2)\"\n",
    ")"
   ]
  }
 ],
 "metadata": {
  "kernelspec": {
   "display_name": "Python 3",
   "language": "python",
   "name": "python3"
  },
  "language_info": {
   "codemirror_mode": {
    "name": "ipython",
    "version": 3
   },
   "file_extension": ".py",
   "mimetype": "text/x-python",
   "name": "python",
   "nbconvert_exporter": "python",
   "pygments_lexer": "ipython3",
   "version": "3.13.5"
  }
 },
 "nbformat": 4,
 "nbformat_minor": 2
}
