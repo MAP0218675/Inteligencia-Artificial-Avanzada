{
 "cells": [
  {
   "cell_type": "markdown",
   "id": "959b233d",
   "metadata": {
    "id": "959b233d"
   },
   "source": [
    "# Danny's Pizza — Dataset Scaffold (OscarF Datasets generator)\n",
    "\n",
    "> Add blockquote\n",
    "\n",
    "\n",
    "\n",
    "**Created:** 2025-08-22 00:39\n",
    "\n",
    "This notebook sets up the **small tables** in-notebook and expects the **large order tables** to be loaded from CSV/XLS files.\n",
    "It strictly follows the schema from class:\n",
    "\n",
    "- `pizza_names(pizza_id INT, pizza_name TEXT)`\n",
    "- `pizza_toppings(topping_id INT, topping_name TEXT)`\n",
    "- `pizza_recipes(pizza_id INT, toppings TEXT)` where `toppings` is a comma-separated list of `topping_id`s\n",
    "- `runners(runner_id INT, registration_date DATE)`\n",
    "- `customer_orders(order_id INT, customer_id INT, pizza_id INT, exclusions VARCHAR(4), extras VARCHAR(4), order_date TIMESTAMP)`\n",
    "- `runner_orders(order_id INT, runner_id INT, pickup_time VARCHAR(19), distance VARCHAR(7), duration VARCHAR(10), cancellation VARCHAR(23))`\n",
    "\n"
   ]
  },
  {
   "cell_type": "code",
   "execution_count": null,
   "id": "78ce4e15",
   "metadata": {
    "id": "78ce4e15"
   },
   "outputs": [],
   "source": [
    "import pandas as pd\n",
    "from sklearn.cluster import KMeans\n",
    "import plotly.graph_objects as go\n",
    "from sklearn.preprocessing import StandardScaler\n",
    "from sklearn.decomposition import PCA"
   ]
  },
  {
   "cell_type": "markdown",
   "id": "1605ce11",
   "metadata": {
    "id": "1605ce11"
   },
   "source": [
    "## Create Small Tables (Dims)\n",
    "\n",
    "We define a **minimal, realistic** pizza catalog.\n"
   ]
  },
  {
   "cell_type": "code",
   "execution_count": null,
   "id": "9bdbbb4b",
   "metadata": {
    "colab": {
     "base_uri": "https://localhost:8080/",
     "height": 269
    },
    "executionInfo": {
     "elapsed": 59,
     "status": "ok",
     "timestamp": 1755825181398,
     "user": {
      "displayName": "Oscar Francisco Fuentes Casarrubias",
      "userId": "02765691638201585437"
     },
     "user_tz": 360
    },
    "id": "9bdbbb4b",
    "outputId": "87dcd9de-22c6-49ac-8f49-095232e058d6"
   },
   "outputs": [],
   "source": [
    "# --- pizza_names ---\n",
    "pizza_names = pd.DataFrame({\n",
    "    'pizza_id': [1, 2, 3, 4, 5, 6, 7],\n",
    "    'pizza_name': [\n",
    "        'Margherita',        # 1\n",
    "        'Vegetarian',        # 2\n",
    "        'Meat Lovers',       # 3\n",
    "        'BBQ Chicken',       # 4\n",
    "        'Hawaiian',          # 5\n",
    "        'Pepperoni',         # 6\n",
    "        'Vegan Veggie'       # 7  <-- vegan option (no cheese by default)\n",
    "    ]\n",
    "})\n",
    "pizza_names.to_csv('pizza_names.csv', index=False)\n",
    "pizza_names"
   ]
  },
  {
   "cell_type": "code",
   "execution_count": null,
   "id": "0b017035",
   "metadata": {
    "colab": {
     "base_uri": "https://localhost:8080/",
     "height": 519
    },
    "executionInfo": {
     "elapsed": 43,
     "status": "ok",
     "timestamp": 1755825182540,
     "user": {
      "displayName": "Oscar Francisco Fuentes Casarrubias",
      "userId": "02765691638201585437"
     },
     "user_tz": 360
    },
    "id": "0b017035",
    "outputId": "eb9e7023-7923-44b3-9ca8-c6d3eadc1113"
   },
   "outputs": [],
   "source": [
    "# --- pizza_toppings ---\n",
    "# Concise list so students can reason about extras/exclusions clearly\n",
    "pizza_toppings = pd.DataFrame({\n",
    "    'topping_id': list(range(1, 16)),\n",
    "    'topping_name': [\n",
    "        'Tomato Sauce',  # 1\n",
    "        'Mozzarella',    # 2\n",
    "        'Mushroom',      # 3\n",
    "        'Onion',         # 4\n",
    "        'Bell Pepper',   # 5\n",
    "        'Olives',        # 6\n",
    "        'Pepperoni',     # 7\n",
    "        'Bacon',         # 8\n",
    "        'Beef',          # 9\n",
    "        'Chicken',       # 10\n",
    "        'Pineapple',     # 11\n",
    "        'BBQ Sauce',     # 12\n",
    "        'Jalapeno',      # 13\n",
    "        'Fresh Basil',   # 14\n",
    "        'Garlic'         # 15\n",
    "    ]\n",
    "})\n",
    "pizza_toppings.to_csv('pizza_toppings.csv', index=False)\n",
    "pizza_toppings"
   ]
  },
  {
   "cell_type": "code",
   "execution_count": null,
   "id": "8dde504d",
   "metadata": {
    "colab": {
     "base_uri": "https://localhost:8080/",
     "height": 269
    },
    "executionInfo": {
     "elapsed": 48,
     "status": "ok",
     "timestamp": 1755825183292,
     "user": {
      "displayName": "Oscar Francisco Fuentes Casarrubias",
      "userId": "02765691638201585437"
     },
     "user_tz": 360
    },
    "id": "8dde504d",
    "outputId": "8ae5254f-efcb-41e5-b788-746483da1975"
   },
   "outputs": [],
   "source": [
    "# --- pizza_recipes ---\n",
    "# Define base recipes as comma-separated topping_id strings (order does not matter)\n",
    "recipes_map = {\n",
    "    1: [1,2,14],               # Margherita: sauce, mozzarella, basil\n",
    "    2: [1,2,3,4,5,6],          # Vegetarian: sauce, mozzarella, mushroom, onion, bell pepper, olives\n",
    "    3: [1,2,7,8,9],            # Meat Lovers: sauce, mozzarella, pepperoni, bacon, beef\n",
    "    4: [1,2,10,12],            # BBQ Chicken: sauce, mozzarella, chicken, bbq sauce\n",
    "    5: [1,2,11,6],             # Hawaiian: sauce, mozzarella, pineapple, olives\n",
    "    6: [1,2,7],                # Pepperoni: sauce, mozzarella, pepperoni\n",
    "    7: [1,3,4,5,6,15]          # Vegan Veggie: sauce, mushroom, onion, bell pepper, olives, garlic (no cheese)\n",
    "}\n",
    "\n",
    "pizza_recipes = pd.DataFrame({\n",
    "    'pizza_id': list(recipes_map.keys()),\n",
    "    'toppings': [','.join(map(str, v)) for v in recipes_map.values()]\n",
    "})\n",
    "pizza_recipes.to_csv('pizza_recipes.csv', index=False)\n",
    "pizza_recipes"
   ]
  },
  {
   "cell_type": "code",
   "execution_count": null,
   "id": "e24eed8d",
   "metadata": {
    "colab": {
     "base_uri": "https://localhost:8080/",
     "height": 519
    },
    "executionInfo": {
     "elapsed": 48,
     "status": "ok",
     "timestamp": 1755825183988,
     "user": {
      "displayName": "Oscar Francisco Fuentes Casarrubias",
      "userId": "02765691638201585437"
     },
     "user_tz": 360
    },
    "id": "e24eed8d",
    "outputId": "7e5fe76b-0fe9-4fb1-8d74-559521576f72"
   },
   "outputs": [],
   "source": [
    "# --- runners ---\n",
    "\n",
    "dates = pd.date_range('2021-01-03', periods=15, freq='7D')\n",
    "runners = pd.DataFrame({\n",
    "    'runner_id': range(1, 16),\n",
    "    'registration_date': dates.date\n",
    "})\n",
    "runners.to_csv('runners.csv', index=False)\n",
    "runners"
   ]
  },
  {
   "cell_type": "markdown",
   "id": "7756ce16",
   "metadata": {
    "id": "7756ce16"
   },
   "source": []
  },
  {
   "cell_type": "code",
   "execution_count": null,
   "id": "36cfbdac",
   "metadata": {
    "id": "36cfbdac"
   },
   "outputs": [],
   "source": []
  },
  {
   "cell_type": "markdown",
   "id": "9c8169c8",
   "metadata": {
    "id": "9c8169c8"
   },
   "source": [
    "## Load Orders\n",
    "\n",
    "This cell loads the orders from CSV first; if not present, it tries XLSX. Adjust file paths if needed.\n"
   ]
  },
  {
   "cell_type": "code",
   "execution_count": null,
   "id": "ebe24ed1",
   "metadata": {
    "id": "ebe24ed1"
   },
   "outputs": [],
   "source": []
  },
  {
   "cell_type": "markdown",
   "id": "ea4c0785",
   "metadata": {
    "id": "ea4c0785"
   },
   "source": [
    "## Cleaning & Normalization Helpers\n",
    "\n",
    "- Parse `distance` (to float km) and `duration` (to minutes).\n",
    "- Normalize `cancellation` labels (lowercase, strip).\n",
    "- Enforce FK integrity and logical constraints.\n"
   ]
  },
  {
   "cell_type": "code",
   "execution_count": null,
   "id": "74f5c43a",
   "metadata": {
    "id": "74f5c43a"
   },
   "outputs": [],
   "source": []
  },
  {
   "cell_type": "code",
   "execution_count": null,
   "id": "uyoU5lV9TY5A",
   "metadata": {
    "colab": {
     "base_uri": "https://localhost:8080/"
    },
    "executionInfo": {
     "elapsed": 73,
     "status": "ok",
     "timestamp": 1755825192009,
     "user": {
      "displayName": "Oscar Francisco Fuentes Casarrubias",
      "userId": "02765691638201585437"
     },
     "user_tz": 360
    },
    "id": "uyoU5lV9TY5A",
    "outputId": "d6950030-71dd-4ace-f091-baa4cf594584"
   },
   "outputs": [],
   "source": [
    "\n",
    "import numpy as np\n",
    "\n",
    "# Base path in Google Drive\n",
    "\n",
    "\n",
    "# --- Load small dimension tables ---\n",
    "pizza_names     = pd.read_csv('pizza_names.csv')\n",
    "pizza_toppings  = pd.read_csv( 'pizza_toppings.csv')\n",
    "pizza_recipes   = pd.read_csv( 'pizza_recipes.csv')\n",
    "runners         = pd.read_csv( 'runners.csv')\n",
    "\n",
    "# --- Load big fa(-\n",
    "customer_orders = pd.read_csv( 'customer_orders.csv')\n",
    "runner_orders   = pd.read_csv( 'runner_orders.csv')\n",
    "\n",
    "print(\"pizza_names:\", pizza_names.shape)\n",
    "print(\"pizza_toppings:\", pizza_toppings.shape)\n",
    "print(\"pizza_recipes:\", pizza_recipes.shape)\n",
    "print(\"runners:\", runners.shape)\n",
    "print(\"customer_orders:\", customer_orders.shape)\n",
    "print(\"runner_orders:\", runner_orders.shape)\n"
   ]
  },
  {
   "cell_type": "code",
   "execution_count": null,
   "id": "8hAQNhGoTrwt",
   "metadata": {
    "colab": {
     "base_uri": "https://localhost:8080/",
     "height": 206
    },
    "executionInfo": {
     "elapsed": 31,
     "status": "ok",
     "timestamp": 1755825193239,
     "user": {
      "displayName": "Oscar Francisco Fuentes Casarrubias",
      "userId": "02765691638201585437"
     },
     "user_tz": 360
    },
    "id": "8hAQNhGoTrwt",
    "outputId": "fb8f62d8-bb55-440d-982f-d4f476191ca3"
   },
   "outputs": [],
   "source": [
    "customer_orders.head()"
   ]
  },
  {
   "cell_type": "markdown",
   "id": "7ee88bbe",
   "metadata": {
    "id": "7ee88bbe"
   },
   "source": [
    "\n",
    "\n",
    "```\n",
    "# This is formatted as code\n",
    "```\n",
    "\n",
    "\n",
    "# /* --------------------\n",
    "#   Case Study Questions\n",
    "#   --------------------*/\n",
    "A. Pizza Metrics\n",
    "\n",
    "    How many pizzas were ordered?\n",
    "    How many unique customer orders were made?\n",
    "    How many successful orders were delivered by each runner?\n",
    "    How many of each type of pizza was delivered?\n",
    "    How many Vegetarian and Meatlovers were ordered by each customer?\n",
    "    What was the maximum number of pizzas delivered in a single order?\n",
    "    For each customer, how many delivered pizzas had at least 1 change and how many had no changes?\n",
    "    How many pizzas were delivered that had both exclusions and extras?\n",
    "    What was the total volume of pizzas ordered for each hour of the day?\n",
    "    What was the volume of orders for each day of the week?\n",
    "\n",
    "B. Runner and Customer Experience\n",
    "\n",
    "    How many runners signed up for each 1 week period? (i.e. week starts 2021-01-01)\n",
    "    What was the average time in minutes it took for each runner to arrive at the Pizza Runner HQ to pickup the order?\n",
    "    Is there any relationship between the number of pizzas and how long the order takes to prepare?\n",
    "    What was the average distance travelled for each customer?\n",
    "    What was the difference between the longest and shortest delivery times for all orders?\n",
    "    What was the average speed for each runner for each delivery and do you notice any trend for these values?\n",
    "    What is the successful delivery percentage for each runner?\n",
    "\n",
    "🍕 section c — customer & business intelligence\n",
    "\n",
    "C1. total customer spend\n",
    " which customers bring in the most revenue?\n",
    "\n",
    "use to argue for vip memberships or spend-based rewards.\n",
    "\n",
    "C2. customer frequency (distinct days of orders)\n",
    " who orders regularly vs. one-off customers?\n",
    "\n",
    "segment into loyal customers vs. occasional customers.\n",
    "\n",
    "hint at frequency-based discounts (e.g., 5th order free).\n",
    "\n",
    "C3. first pizza ordered by each customer\n",
    " what attracts customers initially?\n",
    "\n",
    "good to identify entry-point pizzas (the hook item that brings people in).\n",
    "\n",
    "hint at discounts on first-order pizzas to acquire new customers.\n",
    "\n",
    "C4. overall best-seller pizza\n",
    " which pizza keeps the lights on?\n",
    "\n",
    "highlight as a flagship product to promote.\n",
    "\n",
    "use for seasonal bundles (“summer deal with our #1 pizza”).\n",
    "\n",
    "C5. most popular pizza by customer\n",
    " can we personalize offers?\n",
    "\n",
    "recommend personalized “customer favorites” discounts.\n",
    "\n",
    "hint toward AI/BI-driven recommender systems.\n",
    "\n",
    "C6. regulars with ≥30 orders and their go-to pizzas\n",
    " who are the heavy hitters and what do they like?\n",
    "\n",
    "obvious loyalty program candidates.\n",
    "\n",
    "pitch: “keep them happy with exclusive rewards so they don’t churn.”\n",
    "\n",
    "C7. customers with very consistent habits (always order the same pizza)\n",
    " creatures of habit = stable recurring revenue.\n",
    "\n",
    "membership idea: “pizza subscription” (weekly plan with their pizza auto-delivered).\n",
    "\n",
    "C8. the “perfect pair”\n",
    "\n",
    "great marketing story: “find your pizza soulmate.”\n",
    "\n",
    "pitch: social media campaign + 2-for-1  perfect pizza couples’ promo.\n",
    "\n",
    "C9. peak order times\n",
    "👉 what hours & days matter most?\n",
    "\n",
    "operational: staff scheduling.\n",
    "\n",
    "marketing: happy hour discounts in slow periods, premium pricing at peak times.\n",
    "\n",
    "C10. best candidates for loyalty program\n",
    "👉 combine spend + frequency + consistency.\n",
    "\n",
    "identify top 5–10% customers.\n",
    "\n",
    "suggest tiered memberships: silver/gold/platinum.\n",
    "\n",
    "seasonal perks: double points in winter when sales slow.\n",
    "\n",
    "# Entregable\n",
    "\n",
    "final presentation = a business intelligence pitch deck:\n",
    "\n",
    "customer segmentation (loyal vs occasional vs perfect pair).\n",
    "\n",
    "menu insights (flagship pizza, first-order hook, personal favorites).\n",
    "\n",
    "time insights (peak hours, seasonal discounts).\n",
    "\n",
    "strategic recommendations:\n",
    "\n",
    "loyalty program design,\n",
    "\n",
    "subscription/membership tiers,\n",
    "\n",
    "seasonal & time-based promos,\n",
    "\n",
    "“perfect pair” marketing campaign."
   ]
  },
  {
   "cell_type": "code",
   "execution_count": null,
   "id": "f4427a3c",
   "metadata": {
    "colab": {
     "base_uri": "https://localhost:8080/"
    },
    "executionInfo": {
     "elapsed": 305,
     "status": "ok",
     "timestamp": 1755826041798,
     "user": {
      "displayName": "Oscar Francisco Fuentes Casarrubias",
      "userId": "02765691638201585437"
     },
     "user_tz": 360
    },
    "id": "f4427a3c",
    "outputId": "2e901b23-6ef1-45a8-c486-bb13f45863f3"
   },
   "outputs": [],
   "source": [
    "import sqlite3\n",
    "\n",
    "db_path = f\"dannys_pizza.sqlite\"\n",
    "conn = sqlite3.connect(db_path)\n",
    "c = conn.cursor()\n",
    "\n",
    "# drop existing tables (clean slate)\n",
    "for t in [\n",
    "    'pizza_names','pizza_toppings','pizza_recipes',\n",
    "    'runners','customer_orders','runner_orders'\n",
    "]:\n",
    "    c.execute(f\"DROP TABLE IF EXISTS {t};\")\n",
    "\n",
    "# create empty tables with the canonical column names\n",
    "c.execute(\"\"\"CREATE TABLE pizza_names (\n",
    "  pizza_id INTEGER,\n",
    "  pizza_name TEXT\n",
    ");\"\"\")\n",
    "\n",
    "c.execute(\"\"\"CREATE TABLE pizza_toppings (\n",
    "  topping_id INTEGER,\n",
    "  topping_name TEXT\n",
    ");\"\"\")\n",
    "\n",
    "c.execute(\"\"\"CREATE TABLE pizza_recipes (\n",
    "  pizza_id INTEGER,\n",
    "  toppings TEXT\n",
    ");\"\"\")\n",
    "\n",
    "c.execute(\"\"\"CREATE TABLE runners (\n",
    "  runner_id INTEGER,\n",
    "  registration_date TEXT\n",
    ");\"\"\")\n",
    "\n",
    "# NOTE: keep your current column names exactly as they are in the DataFrame\n",
    "# If your DF uses 'order_date', keep it; if it's 'order_time', keep that.\n",
    "# Below uses 'order_date'—change to 'order_time' if that’s your DF.\n",
    "c.execute(\"\"\"CREATE TABLE customer_orders (\n",
    "  order_id INTEGER,\n",
    "  customer_id INTEGER,\n",
    "  pizza_id INTEGER,\n",
    "  exclusions TEXT,\n",
    "  extras TEXT,\n",
    "  order_date TEXT\n",
    ");\"\"\")\n",
    "\n",
    "c.execute(\"\"\"CREATE TABLE runner_orders (\n",
    "  order_id INTEGER,\n",
    "  runner_id INTEGER,\n",
    "  pickup_time TEXT,\n",
    "  distance TEXT,\n",
    "  duration TEXT,\n",
    "  cancellation TEXT\n",
    ");\"\"\")\n",
    "\n",
    "conn.commit()\n",
    "\n",
    "# append DataFrames exactly as-is (no cleaning)\n",
    "pizza_names.to_sql('pizza_names', conn, if_exists='append', index=False)\n",
    "pizza_toppings.to_sql('pizza_toppings', conn, if_exists='append', index=False)\n",
    "pizza_recipes.to_sql('pizza_recipes', conn, if_exists='append', index=False)\n",
    "runners.to_sql('runners', conn, if_exists='append', index=False)\n",
    "customer_orders.to_sql('customer_orders', conn, if_exists='append', index=False)\n",
    "runner_orders.to_sql('runner_orders', conn, if_exists='append', index=False)\n",
    "\n",
    "conn.commit()\n",
    "print(\"SQLite ready at:\", db_path)"
   ]
  },
  {
   "cell_type": "markdown",
   "id": "AISi-hEgZSvA",
   "metadata": {
    "id": "AISi-hEgZSvA"
   },
   "source": [
    "* Q1. How many pizzas were ordered?"
   ]
  },
  {
   "cell_type": "code",
   "execution_count": null,
   "id": "e02c12e5",
   "metadata": {
    "colab": {
     "base_uri": "https://localhost:8080/",
     "height": 80
    },
    "executionInfo": {
     "elapsed": 49,
     "status": "ok",
     "timestamp": 1755826182712,
     "user": {
      "displayName": "Oscar Francisco Fuentes Casarrubias",
      "userId": "02765691638201585437"
     },
     "user_tz": 360
    },
    "id": "e02c12e5",
    "outputId": "5cd0eae4-0d7c-4907-df58-120c827b3345"
   },
   "outputs": [],
   "source": [
    "pd.read_sql(\"\"\"\n",
    "SELECT COUNT(*) AS total_pizzas\n",
    "FROM customer_orders;\n",
    "\"\"\", conn)\n"
   ]
  },
  {
   "cell_type": "code",
   "execution_count": null,
   "id": "a9585405",
   "metadata": {},
   "outputs": [],
   "source": [
    "pd.read_sql(\n",
    "    '''SELECT * \n",
    "    FROM customer_orders''',conn\n",
    ")"
   ]
  },
  {
   "cell_type": "markdown",
   "id": "1294fa13",
   "metadata": {},
   "source": [
    "* Q2. How many unique customer orders were made?\n"
   ]
  },
  {
   "cell_type": "code",
   "execution_count": null,
   "id": "51610c95",
   "metadata": {},
   "outputs": [],
   "source": [
    "pd.read_sql(\n",
    "    ''' SELECT COUNT(DISTINCT order_id) unique_orders FROM customer_orders''',conn\n",
    ")"
   ]
  },
  {
   "cell_type": "code",
   "execution_count": null,
   "id": "56eeee3a",
   "metadata": {},
   "outputs": [],
   "source": [
    "pd.read_sql(\n",
    "    '''SELECT * \n",
    "    FROM runner_orders''',conn\n",
    ")"
   ]
  },
  {
   "cell_type": "markdown",
   "id": "1bf352f5",
   "metadata": {},
   "source": [
    "* Q3. How many successful orders were delivered by each runner?\n"
   ]
  },
  {
   "cell_type": "code",
   "execution_count": null,
   "id": "746f2e80",
   "metadata": {},
   "outputs": [],
   "source": [
    "pd.read_sql(\n",
    "    '''SELECT \n",
    "             runner_id,\n",
    "             COUNT(order_id) AS successful_orders\n",
    "        FROM runner_orders\n",
    "        WHERE cancellation IS NULL\n",
    "        GROUP BY 1\n",
    "    ''', conn\n",
    ")"
   ]
  },
  {
   "cell_type": "markdown",
   "id": "51313c32",
   "metadata": {},
   "source": [
    "* Q4 How many of each type of pizza was delivered?"
   ]
  },
  {
   "cell_type": "code",
   "execution_count": null,
   "id": "80489a3b",
   "metadata": {},
   "outputs": [],
   "source": [
    "pd.read_sql(\n",
    "    '''\n",
    "SELECT \n",
    "    p.pizza_name,\n",
    "    COUNT(p.pizza_id) AS total_delivered\n",
    "FROM customer_orders co\n",
    "JOIN pizza_names p \n",
    "    ON co.pizza_id = p.pizza_id\n",
    "JOIN runner_orders r \n",
    "    ON co.order_id = r.order_id \n",
    "   AND r.cancellation IS NULL\n",
    "GROUP BY 1;\n",
    "    ''',conn\n",
    ")"
   ]
  },
  {
   "cell_type": "markdown",
   "id": "5a2be56b",
   "metadata": {},
   "source": [
    "* Q5 .How many Vegetarian and Meatlovers were ordered by each customer?\n"
   ]
  },
  {
   "cell_type": "code",
   "execution_count": null,
   "id": "a9d562da",
   "metadata": {},
   "outputs": [],
   "source": [
    "pd.read_sql(\n",
    "    '''\n",
    "SELECT\n",
    "     co.customer_id,\n",
    "     COUNT(co.pizza_id) AS total_ordered\n",
    "FROM customer_orders co\n",
    "JOIN pizza_names pn ON \n",
    "co.pizza_id = pn.pizza_id AND pn.pizza_name IN ('Meat Lovers', 'Vegetarian')\n",
    "GROUP BY 1\n",
    "ORDER BY 1\n",
    "''',conn\n",
    ")"
   ]
  },
  {
   "cell_type": "markdown",
   "id": "ed885ae6",
   "metadata": {},
   "source": [
    "* Q6 .What was the maximum number of pizzas delivered in a single order?\n"
   ]
  },
  {
   "cell_type": "code",
   "execution_count": null,
   "id": "47f31e4d",
   "metadata": {},
   "outputs": [],
   "source": [
    "pd.read_sql(\n",
    "   '''\n",
    "SELECT \n",
    "      MAX(pizza_count) max_count\n",
    "From(\n",
    "SELECT \n",
    "      order_id,\n",
    "      COUNT(pizza_id) pizza_count\n",
    "FROM customer_orders\n",
    "GROUP BY 1)\n",
    "''',conn\n",
    ")"
   ]
  },
  {
   "cell_type": "markdown",
   "id": "fc1c74be",
   "metadata": {},
   "source": [
    "* Q7 .For each customer, how many delivered pizzas had at least 1 change and how many had no changes?\n"
   ]
  },
  {
   "cell_type": "code",
   "execution_count": null,
   "id": "49904d48",
   "metadata": {},
   "outputs": [],
   "source": [
    "pd.read_sql(\n",
    "    '''SELECT \n",
    "             co.customer_id,\n",
    "             COUNT(co.pizza_id) AS total_pizzas_change\n",
    "       FROM customer_orders co\n",
    "       JOIN runner_orders r ON co.order_id = r.order_id\n",
    "       AND r.cancellation IS NULL \n",
    "       AND co.exclusions > 1\n",
    "       GROUP BY 1\n",
    "       ''',conn\n",
    ")"
   ]
  },
  {
   "cell_type": "code",
   "execution_count": null,
   "id": "dcdd5c46",
   "metadata": {},
   "outputs": [],
   "source": [
    "pd.read_sql(\n",
    "    '''SELECT \n",
    "             co.customer_id,\n",
    "             COUNT(co.pizza_id) AS total_pizzas_no_change\n",
    "       FROM customer_orders co\n",
    "       JOIN runner_orders r USING(order_id) \n",
    "       WHERE r.cancellation IS NULL \n",
    "       AND co.exclusions IS NULL\n",
    "       GROUP BY 1''',conn\n",
    ")"
   ]
  },
  {
   "cell_type": "markdown",
   "id": "8721d714",
   "metadata": {},
   "source": [
    "* Q8 .How many pizzas were delivered that had both exclusions and extras?"
   ]
  },
  {
   "cell_type": "code",
   "execution_count": null,
   "id": "3d768d2b",
   "metadata": {},
   "outputs": [],
   "source": [
    "pd.read_sql(\n",
    "    '''SELECT COUNT(co.pizza_id) AS total_pizza_ee\n",
    "      FROM customer_orders co\n",
    "      JOIN runner_orders r \n",
    "      USING(order_id) WHERE r.cancellation IS NULL\n",
    "      AND co.exclusions NOT NULL AND co.extras NOT NULL\n",
    "      ''',conn\n",
    ")"
   ]
  },
  {
   "cell_type": "markdown",
   "id": "f34e90fc",
   "metadata": {},
   "source": [
    "* Q9 .What was the total volume of pizzas ordered for each hour of the day?\n"
   ]
  },
  {
   "cell_type": "code",
   "execution_count": null,
   "id": "8f7612d6",
   "metadata": {},
   "outputs": [],
   "source": [
    "pd.read_sql(\n",
    "    '''SELECT \n",
    "             strftime('%H',order_date) AS hour,\n",
    "             COUNT(pizza_id) AS total_pizza\n",
    "       FROM customer_orders\n",
    "       GROUP BY 1\n",
    "       ''',conn\n",
    ")"
   ]
  },
  {
   "cell_type": "markdown",
   "id": "193fd733",
   "metadata": {},
   "source": [
    "* Q10 .What was the volume of orders for each day of the week?"
   ]
  },
  {
   "cell_type": "code",
   "execution_count": null,
   "id": "718e201e",
   "metadata": {},
   "outputs": [],
   "source": [
    "pd.read_sql(\n",
    "    '''SELECT \n",
    "           strftime('%w', order_date) AS day,\n",
    "           COUNT(order_id) AS total_orders\n",
    "        FROM customer_orders\n",
    "        GROUP BY 1\n",
    "\n",
    "  ''', conn\n",
    ")"
   ]
  },
  {
   "cell_type": "markdown",
   "id": "75980a68",
   "metadata": {},
   "source": [
    "* Q11 .How many runners signed up for each 1 week period? (i.e. week starts 2021-01-01)"
   ]
  },
  {
   "cell_type": "code",
   "execution_count": null,
   "id": "c2c5ba00",
   "metadata": {},
   "outputs": [],
   "source": [
    "pd.read_sql(\n",
    "    '''SELECT \n",
    "   strftime('%W', registration_date)  + 1 AS week,\n",
    "   COUNT(*) AS runner_count\n",
    "   FROM runners\n",
    "   GROUP BY 1 \n",
    "    \n",
    "    ''',conn\n",
    ")"
   ]
  },
  {
   "cell_type": "markdown",
   "id": "aaa8ab48",
   "metadata": {},
   "source": [
    "* Q12 .What was the average time in minutes it took for each runner to arrive at the Pizza Runner HQ to pickup the order?\n"
   ]
  },
  {
   "cell_type": "code",
   "execution_count": null,
   "id": "951df891",
   "metadata": {},
   "outputs": [],
   "source": [
    "pd.read_sql(\n",
    "    '''SELECT\n",
    "runner_id,\n",
    "ROUND(AVG(strftime('%M', pickup_time)),2) AS avg_time\n",
    "FROM runner_orders \n",
    "GROUP BY 1\n",
    "    ''',conn\n",
    ")"
   ]
  },
  {
   "cell_type": "markdown",
   "id": "a51ed4ce",
   "metadata": {},
   "source": [
    "* Q13 .Is there any relationship between the number of pizzas and how long the order takes to prepare?"
   ]
  },
  {
   "cell_type": "code",
   "execution_count": null,
   "id": "da859558",
   "metadata": {},
   "outputs": [],
   "source": [
    "pd.read_sql(\n",
    "    '''SELECT \n",
    "    co.order_id,\n",
    "    COUNT(co.pizza_id) AS count_pizzas,\n",
    "    CAST(strftime('%M',r.pickup_time) AS INT) - CAST(strftime('%M', co.order_date) AS INT) AS prepare_time\n",
    "    FROM customer_orders co\n",
    "    JOIN runner_orders r USING(order_id)\n",
    "    GROUP BY 1 \n",
    "    ORDER BY 3 DESC\n",
    "    LIMIT 30\n",
    "    ''',conn\n",
    ")"
   ]
  },
  {
   "cell_type": "markdown",
   "id": "339f2cdc",
   "metadata": {},
   "source": [
    "* Q14 .What was the average distance travelled for each customer?\n"
   ]
  },
  {
   "cell_type": "code",
   "execution_count": null,
   "id": "70e01f57",
   "metadata": {},
   "outputs": [],
   "source": [
    "pd.read_sql('''\n",
    "SELECT \n",
    "    co.customer_id,\n",
    "    AVG(ro.duration) AS avg_distance\n",
    "FROM customer_orders co \n",
    "JOIN runner_orders ro USING(order_id)\n",
    "GROUP BY 1\n",
    "''', conn)"
   ]
  },
  {
   "cell_type": "markdown",
   "id": "f72083ad",
   "metadata": {},
   "source": [
    "* Q15 .What was the difference between the longest and shortest delivery times for all orders?\n"
   ]
  },
  {
   "cell_type": "code",
   "execution_count": null,
   "id": "8fbb896d",
   "metadata": {},
   "outputs": [],
   "source": [
    "pd.read_sql('''\n",
    "SELECT \n",
    "    MAX(CAST(duration AS INTEGER)) - MIN(CAST(duration AS INTEGER)) AS diff\n",
    "FROM runner_orders\n",
    "WHERE duration IS NOT NULL\n",
    "AND cancellation IS NULL or cancellation = 'None'\n",
    "''', conn)"
   ]
  },
  {
   "cell_type": "markdown",
   "id": "4d2c617d",
   "metadata": {},
   "source": [
    "* Q16 .What was the average speed for each runner for each delivery and do you notice any trend for these values?\n"
   ]
  },
  {
   "cell_type": "code",
   "execution_count": null,
   "id": "8ae134c4",
   "metadata": {},
   "outputs": [],
   "source": [
    "pd.read_sql(\n",
    "    '''\n",
    "SELECT \n",
    "    order_id,\n",
    "    runner_id,\n",
    "    AVG(CAST(distance AS FLOAT) / CAST(duration AS INT)) AS avg_speed\n",
    "FROM runner_orders\n",
    "WHERE cancellation IS NULL \n",
    "AND distance IS NOT NULL\n",
    "AND duration IS NOT NULL\n",
    "GROUP BY 1\n",
    "ORDER BY 2,1\n",
    "LIMIT 40\n",
    "''',conn\n",
    "\n",
    ")"
   ]
  },
  {
   "cell_type": "markdown",
   "id": "c5a0e422",
   "metadata": {},
   "source": [
    "* Q17 .What is the successful delivery percentage for each runner?"
   ]
  },
  {
   "cell_type": "code",
   "execution_count": null,
   "id": "9152029a",
   "metadata": {},
   "outputs": [],
   "source": [
    "pd.read_sql('''\n",
    "WITH delivered AS (\n",
    "SELECT \n",
    "    runner_id,\n",
    "    COUNT(order_id) AS delivery_count\n",
    "FROM runner_orders\n",
    "WHERE cancellation IS NULL\n",
    "GROUP BY runner_id\n",
    "), totals AS (\n",
    "SELECT \n",
    "      runner_id,\n",
    "      COUNT( order_id) AS total_deliveries\n",
    "FROM runner_orders\n",
    "GROUP BY runner_id\n",
    ")\n",
    "            \n",
    "SELECT \n",
    "     runner_id,\n",
    "    ROUND(100.0 * d.delivery_count / t.total_deliveries, 2) AS delivery_percentage\n",
    "FROM delivered d\n",
    "JOIN totals t USING(runner_id)\n",
    "ORDER BY 2 DESC\n",
    "''', conn)"
   ]
  },
  {
   "cell_type": "markdown",
   "id": "bedf8b96",
   "metadata": {},
   "source": [
    "C1. total customer spend\n",
    " which customers bring in the most revenue?\n",
    "\n",
    "use to argue for vip memberships or spend-based rewards.\n",
    "\n"
   ]
  },
  {
   "cell_type": "code",
   "execution_count": null,
   "id": "a4d9eef1",
   "metadata": {},
   "outputs": [],
   "source": [
    "pd.read_sql(\n",
    "'''\n",
    "SELECT \n",
    "        customer_id,\n",
    "        COUNT(order_id) AS total_orders\n",
    "FROM customer_orders\n",
    "GROUP BY 1\n",
    "ORDER BY 2 DESC\n",
    "LIMIT 10\n",
    "''', conn\n",
    ")"
   ]
  },
  {
   "cell_type": "markdown",
   "id": "8fff0a08",
   "metadata": {},
   "source": [
    "C2. customer frequency (distinct days of orders)\n",
    " who orders regularly vs. one-off customers?\n",
    "\n",
    "segment into loyal customers vs. occasional customers.\n",
    "\n",
    "hint at frequency-based discounts (e.g., 5th order free).\n",
    "\n"
   ]
  },
  {
   "cell_type": "code",
   "execution_count": null,
   "id": "68d3a43e",
   "metadata": {},
   "outputs": [],
   "source": [
    "pd.read_sql(\n",
    "    '''\n",
    "    WITH total_dates AS (\n",
    "        SELECT\n",
    "                customer_id,\n",
    "                COUNT(DISTINCT order_date) total_order_dates\n",
    "        FROM customer_orders\n",
    "        GROUP BY customer_id\n",
    "    )\n",
    "\n",
    "    SELECT\n",
    "            customer_id,\n",
    "            total_order_dates,\n",
    "            CASE\n",
    "                WHEN total_order_dates BETWEEN 1 AND 4 THEN \"occasional customer\"\n",
    "                ELSE \"regular customer\"\n",
    "            END type_customer\n",
    "    FROM total_dates\n",
    "    ORDER BY 2 DESC\n",
    "      ''',conn\n",
    ")"
   ]
  },
  {
   "cell_type": "markdown",
   "id": "137251c3",
   "metadata": {},
   "source": [
    "C3. first pizza ordered by each customer\n",
    " what attracts customers initially?\n",
    "\n",
    "good to identify entry-point pizzas (the hook item that brings people in).\n",
    "\n",
    "hint at discounts on first-order pizzas to acquire new customers.\n",
    "\n"
   ]
  },
  {
   "cell_type": "code",
   "execution_count": null,
   "id": "c01939f3",
   "metadata": {},
   "outputs": [],
   "source": [
    "pd.read_sql('''\n",
    "WITH ranks AS (\n",
    "    SELECT \n",
    "        co.customer_id,\n",
    "        pn.pizza_name,\n",
    "        co.order_date,\n",
    "        DENSE_RANK() OVER (PARTITION BY co.customer_id ORDER BY co.order_date) AS rank_date\n",
    "    FROM customer_orders co\n",
    "    JOIN pizza_names pn USING(pizza_id)\n",
    "), first_orders AS (\n",
    "    SELECT \n",
    "        * \n",
    "    FROM ranks\n",
    "    WHERE rank_date = 1\n",
    ")\n",
    "            \n",
    "SELECT\n",
    "      pizza_name,\n",
    "      COUNT(DISTINCT customer_id) total_customer_count\n",
    "FROM first_orders\n",
    "GROUP BY 1 \n",
    "ORDER BY 2 DESC\n",
    "''',conn)"
   ]
  },
  {
   "cell_type": "markdown",
   "id": "c8755916",
   "metadata": {},
   "source": [
    "C5. most popular pizza by customer\n",
    " can we personalize offers?\n",
    "\n",
    "recommend personalized “customer favorites” discounts.\n",
    "\n",
    "hint toward AI/BI-driven recommender systems.\n",
    "\n"
   ]
  },
  {
   "cell_type": "code",
   "execution_count": null,
   "id": "7a91e0ba",
   "metadata": {},
   "outputs": [],
   "source": [
    "pd.read_sql(\n",
    "\n",
    "    '''\n",
    "    WITH pizza_count AS (\n",
    "        SELECT \n",
    "                co.customer_id,\n",
    "                p.pizza_name,\n",
    "                COUNT(*) pizza_per_customer\n",
    "        FROM customer_orders co\n",
    "        JOIN pizza_names p USING(pizza_id)\n",
    "        GROUP BY 1,2\n",
    "    ), pizza_rank AS (\n",
    "        SELECT \n",
    "             *,\n",
    "             DENSE_RANK() OVER (PARTITION BY customer_id ORDER BY pizza_per_customer DESC) AS rn\n",
    "        FROM pizza_count \n",
    "    )\n",
    "\n",
    "    SELECT \n",
    "          customer_id,\n",
    "          pizza_name\n",
    "    FROM pizza_rank\n",
    "    WHERE rn = 1\n",
    "    \n",
    "    ''',conn\n",
    ")"
   ]
  },
  {
   "cell_type": "markdown",
   "id": "5ca428ba",
   "metadata": {},
   "source": [
    "\n",
    "C6. regulars with ≥30 orders and their go-to pizzas\n",
    " who are the heavy hitters and what do they like?\n",
    "\n",
    "obvious loyalty program candidates.\n",
    "\n",
    "pitch: “keep them happy with exclusive rewards so they don’t churn.”\n",
    "\n"
   ]
  },
  {
   "cell_type": "code",
   "execution_count": null,
   "id": "9c65d721",
   "metadata": {},
   "outputs": [],
   "source": [
    "pd.read_sql(\n",
    "\n",
    "    '''\n",
    "    WITH regulars AS (\n",
    "        SELECT \n",
    "                customer_id,\n",
    "                COUNT(order_id) AS total_orders\n",
    "        FROM customer_orders\n",
    "        GROUP BY 1 \n",
    "        HAVING total_orders >= 30\n",
    "    ), pizza_rank AS (\n",
    "        SELECT \n",
    "             co.customer_id,\n",
    "                p.pizza_name,\n",
    "                DENSE_RANK() OVER (PARTITION BY co.customer_id ORDER BY COUNT(*) DESC) AS rn,\n",
    "                COUNT(*) pizza_per_customer\n",
    "        FROM customer_orders co\n",
    "        JOIN pizza_names p USING(pizza_id)\n",
    "        WHERE co.customer_id IN (\n",
    "            SELECT \n",
    "                  customer_id\n",
    "            FROM regulars\n",
    "        )\n",
    "        GROUP BY 1,2 \n",
    "    )\n",
    "\n",
    "    SELECT \n",
    "         customer_id,\n",
    "         pizza_name\n",
    "    FROM pizza_rank\n",
    "    WHERE rn = 1\n",
    "    \n",
    "    ''',conn\n",
    ")"
   ]
  },
  {
   "cell_type": "markdown",
   "id": "a76e5610",
   "metadata": {},
   "source": [
    "\n",
    "C7. customers with very consistent habits (always order the same pizza)\n",
    " creatures of habit = stable recurring revenue.\n",
    "\n",
    "membership idea: “pizza subscription” (weekly plan with their pizza auto-delivered).\n",
    "\n"
   ]
  },
  {
   "cell_type": "code",
   "execution_count": null,
   "id": "777c71fd",
   "metadata": {},
   "outputs": [],
   "source": [
    "pd.read_sql(\n",
    "'''SELECT \n",
    "        customer_id,\n",
    "        COUNT(DISTINCT pizza_id) AS count_pizzas \n",
    "   FROM customer_orders\n",
    "   GROUP BY 1\n",
    "   HAVING count_pizzas = 1\n",
    "''',conn\n",
    "\n",
    ")"
   ]
  },
  {
   "cell_type": "markdown",
   "id": "9822f928",
   "metadata": {},
   "source": [
    "\n",
    "C8. the “perfect pair”\n",
    "\n",
    "great marketing story: “find your pizza soulmate.”\n",
    "\n",
    "pitch: social media campaign + 2-for-1  perfect pizza couples’ promo.\n",
    "\n"
   ]
  },
  {
   "cell_type": "code",
   "execution_count": null,
   "id": "0f63d99c",
   "metadata": {},
   "outputs": [],
   "source": [
    "pd.read_sql(\n",
    "    '''\n",
    "    WITH pizza_order AS (\n",
    "        SELECT\n",
    "                order_id,\n",
    "                COUNT(pizza_id) AS pizza_count\n",
    "        FROM customer_orders\n",
    "        GROUP BY 1\n",
    "        HAVING pizza_count > 1\n",
    "    ), items AS (                         \n",
    "        SELECT DISTINCT\n",
    "            co.order_id,\n",
    "            co.pizza_id\n",
    "        FROM customer_orders co\n",
    "        WHERE co.order_id IN (SELECT order_id FROM pizza_order)\n",
    "    ), pairs AS (                          \n",
    "        SELECT\n",
    "            a.pizza_id AS pizza_a,\n",
    "            b.pizza_id AS pizza_b,\n",
    "            COUNT(*)   AS pair_orders\n",
    "        FROM items a\n",
    "        JOIN items b\n",
    "            ON a.order_id = b.order_id\n",
    "        AND a.pizza_id < b.pizza_id      \n",
    "        GROUP BY a.pizza_id, b.pizza_id\n",
    "    )\n",
    "    SELECT\n",
    "          pa.pizza_name AS pizza_a,\n",
    "          pb.pizza_name AS pizza_b,\n",
    "          pair_orders\n",
    "    FROM pairs\n",
    "    JOIN pizza_names pa ON pa.pizza_id = pairs.pizza_a\n",
    "    JOIN pizza_names pb ON pb.pizza_id = pairs.pizza_b\n",
    "    ORDER BY pair_orders DESC, pizza_a, pizza_b;\n",
    "   \n",
    "    ''',conn\n",
    ")"
   ]
  },
  {
   "cell_type": "markdown",
   "id": "cd7f43c4",
   "metadata": {},
   "source": [
    "\n",
    "C9. peak order times\n",
    "👉 what hours & days matter most?\n",
    "\n",
    "operational: staff scheduling.\n",
    "\n",
    "marketing: happy hour discounts in slow periods, premium pricing at peak times.\n",
    "\n"
   ]
  },
  {
   "cell_type": "code",
   "execution_count": null,
   "id": "f7ff76a8",
   "metadata": {},
   "outputs": [],
   "source": [
    "pd.read_sql(\n",
    "    '''\n",
    "    SELECT\n",
    "          strftime('%d', order_date) AS day_order,\n",
    "          strftime('%H', order_date) AS hour_order,\n",
    "          COUNT(order_id) AS count_orders\n",
    "    FROM customer_orders\n",
    "    GROUP BY 1,2\n",
    "    ORDER BY 3 DESC\n",
    "    ''',conn\n",
    ")"
   ]
  },
  {
   "cell_type": "markdown",
   "id": "0c2d29bf",
   "metadata": {},
   "source": [
    "C10. best candidates for loyalty program\n",
    "👉 combine spend + frequency + consistency.\n",
    "\n",
    "identify top 5–10% customers.\n",
    "\n",
    "suggest tiered memberships: silver/gold/platinum.\n",
    "\n",
    "seasonal perks: double points in winter when sales slow."
   ]
  },
  {
   "cell_type": "code",
   "execution_count": null,
   "id": "3N-U6ugLZXvS",
   "metadata": {
    "id": "3N-U6ugLZXvS"
   },
   "outputs": [],
   "source": [
    "##pd.read_sql(\"YOUR QUERY HERE\", conn)  # TODO\n"
   ]
  },
  {
   "cell_type": "code",
   "execution_count": null,
   "id": "2cQ-q-lEZbWT",
   "metadata": {
    "colab": {
     "base_uri": "https://localhost:8080/",
     "height": 53
    },
    "executionInfo": {
     "elapsed": 75,
     "status": "ok",
     "timestamp": 1755826329234,
     "user": {
      "displayName": "Oscar Francisco Fuentes Casarrubias",
      "userId": "02765691638201585437"
     },
     "user_tz": 360
    },
    "id": "2cQ-q-lEZbWT",
    "outputId": "bbb10592-80e9-4e61-a16b-949cea7df24f"
   },
   "outputs": [],
   "source": [
    "pd.read_sql(\"\"\"\n",
    "SELECT runner_id,\n",
    "       COUNT(runner_id) AS order_count\n",
    "FROM runner_orders\n",
    "WHERE distance IS NOT NULL\n",
    "  AND TRIM(distance) <> ''\n",
    "  AND cancellation = ''\n",
    "GROUP BY runner_id\n",
    "ORDER BY order_count DESC;\n",
    "\"\"\", conn)\n"
   ]
  },
  {
   "cell_type": "code",
   "execution_count": null,
   "id": "5ca0c06f",
   "metadata": {},
   "outputs": [],
   "source": [
    "pd.read_sql(\"\"\"\n",
    "SELECT DISTINCT cancellation\n",
    "FROM runner_orders\n",
    "\"\"\", conn)"
   ]
  },
  {
   "cell_type": "markdown",
   "id": "OcS7Qnc2a8dG",
   "metadata": {
    "id": "OcS7Qnc2a8dG"
   },
   "source": [
    "Notice how our query returned empty results? That is a clue something is off in our filter. We wrote\n",
    "WHERE distance IS NOT NULL\n",
    "  AND cancellation = ''''\n",
    "\n",
    "  but in this dataset, the cancellation column does not only use a blank string to mean no cancellation. Sometimes it has the literal word 'null', sometimes it is NULL (the SQL null value), sometimes different casing (Null, NULL). Because of that, our =  condition excluded almost everything."
   ]
  },
  {
   "cell_type": "code",
   "execution_count": null,
   "id": "InXvI0iNaaqR",
   "metadata": {
    "id": "InXvI0iNaaqR"
   },
   "outputs": [],
   "source": []
  },
  {
   "cell_type": "code",
   "execution_count": null,
   "id": "3paX_WyNZrph",
   "metadata": {
    "colab": {
     "base_uri": "https://localhost:8080/",
     "height": 300
    },
    "executionInfo": {
     "elapsed": 45,
     "status": "ok",
     "timestamp": 1755826690539,
     "user": {
      "displayName": "Oscar Francisco Fuentes Casarrubias",
      "userId": "02765691638201585437"
     },
     "user_tz": 360
    },
    "id": "3paX_WyNZrph",
    "outputId": "5eaf8486-a917-44ea-a870-ede8dfdb5b88"
   },
   "outputs": [],
   "source": [
    "pd.read_sql(\"\"\"\n",
    "SELECT DISTINCT TRIM(cancellation) AS cancellation_value,\n",
    "       COUNT(*) AS n\n",
    "FROM runner_orders\n",
    "GROUP BY 1\n",
    "ORDER BY n DESC;\n",
    "\"\"\", conn)\n"
   ]
  },
  {
   "cell_type": "code",
   "execution_count": null,
   "id": "9em_j6e2aHMd",
   "metadata": {
    "colab": {
     "base_uri": "https://localhost:8080/",
     "height": 519
    },
    "executionInfo": {
     "elapsed": 35,
     "status": "ok",
     "timestamp": 1755826694848,
     "user": {
      "displayName": "Oscar Francisco Fuentes Casarrubias",
      "userId": "02765691638201585437"
     },
     "user_tz": 360
    },
    "id": "9em_j6e2aHMd",
    "outputId": "c3449adf-f3c6-46ac-fd72-354529f4dc9a"
   },
   "outputs": [],
   "source": [
    "# 3a) Successful orders delivered by each runner (ignore distance presence)\n",
    "pd.read_sql(\"\"\"\n",
    "SELECT runner_id,\n",
    "       COUNT(*) AS order_count\n",
    "FROM runner_orders\n",
    "WHERE COALESCE(TRIM(LOWER(cancellation)),'') IN ('', 'null')\n",
    "GROUP BY runner_id\n",
    "ORDER BY order_count DESC;\n",
    "\"\"\", conn)\n"
   ]
  },
  {
   "cell_type": "markdown",
   "id": "01bedf63",
   "metadata": {},
   "source": [
    "# 🍕 Customer & Business Intelligence Questions\n",
    "\n",
    "## C1. Total Customer Spend\n",
    "**What is the total amount each customer spent at pizza runner?**\n",
    "\n",
    "*(Hint: use pizza prices from pizza_names and sum across delivered pizzas)*\n",
    "\n",
    "## C2. Customer Order Frequency\n",
    "**How many different days has each customer placed an order?**\n",
    "\n",
    "*(Hint: count distinct dates from order_time / order_date)*\n",
    "\n",
    "## C3. First Pizza Ordered\n",
    "**What was the first pizza ordered by each customer?**\n",
    "\n",
    "*(Hint: find the earliest order_time per customer)*\n",
    "\n",
    "## C4. Most Popular Pizza Overall\n",
    "**What is the most purchased pizza overall and how many times was it ordered?**\n",
    "\n",
    "## C5. Customer's Favorite Pizza\n",
    "**Which pizza is the most popular for each customer?**\n",
    "\n",
    "*(Hint: group by customer_id + pizza_id, take the max count)*\n",
    "\n",
    "## C6. Regular Customer Preferences\n",
    "**Among the regular customers (≥30 orders), which pizzas do they mostly stick to?**\n",
    "\n",
    "*(Hint: helps suggest loyalty-program discounts)*\n",
    "\n",
    "## C7. Consistent Order Habits\n",
    "**Which customers have very consistent order habits (always order the same pizza)?**\n",
    "\n",
    "*(Hint: look for customers whose COUNT(DISTINCT pizza_id)=1)*\n",
    "\n",
    "## C8. The \"Perfect Pair\"\n",
    "**Can you find the \"perfect pair\" — two customers who often order the same pizza at the same time?**\n",
    "\n",
    "*(Hint: think customers 30 and 543 😉)*\n",
    "\n",
    "## C9. Peak Order Times\n",
    "**What are the peak order times for the restaurant?**\n",
    "\n",
    "*(Hint: group by day-of-week and hour-of-day)*\n",
    "\n",
    "## "
   ]
  },
  {
   "cell_type": "code",
   "execution_count": null,
   "id": "09d3bf2d",
   "metadata": {},
   "outputs": [],
   "source": [
    "# =============================================================================\n",
    "# INICIALIZACIÓN DE DATOS PARA MACHINE LEARNING\n",
    "# =============================================================================\n",
    "\n",
    "import pandas as pd\n",
    "import numpy as np\n",
    "from sklearn.model_selection import train_test_split\n",
    "from sklearn.preprocessing import StandardScaler, LabelEncoder\n",
    "from sklearn.linear_model import LogisticRegression, LinearRegression\n",
    "from sklearn.ensemble import RandomForestRegressor\n",
    "from sklearn.neighbors import KNeighborsRegressor\n",
    "from sklearn.metrics import accuracy_score, mean_squared_error, r2_score\n",
    "import warnings\n",
    "warnings.filterwarnings('ignore')\n",
    "\n",
    "# Cargar datos\n",
    "print(\"Cargando datos...\")\n",
    "customer_orders = pd.read_csv('customer_orders.csv')\n",
    "pizza_names = pd.read_csv('pizza_names.csv')\n",
    "pizza_recipes = pd.read_csv('pizza_recipes.csv')\n",
    "pizza_toppings = pd.read_csv('pizza_toppings.csv')\n",
    "runners = pd.read_csv('runners.csv')\n",
    "runner_orders = pd.read_csv('runner_orders.csv')\n",
    "\n",
    "# Limpiar y preparar datos base\n",
    "print(\"Limpiando datos...\")\n",
    "\n",
    "# Convertir fechas\n",
    "customer_orders['order_date'] = pd.to_datetime(customer_orders['order_date'])\n",
    "runner_orders['pickup_time'] = pd.to_datetime(runner_orders['pickup_time'])\n",
    "\n",
    "# Limpiar cancellation (convertir a binario: 0=entregado, 1=cancelado)\n",
    "runner_orders['is_cancelled'] = runner_orders['cancellation'].fillna('').apply(\n",
    "    lambda x: 1 if x.strip().lower() not in ['', 'null', 'none'] else 0\n",
    ")\n",
    "\n",
    "# Limpiar distance y duration\n",
    "runner_orders['distance_km'] = runner_orders['distance'].str.replace('km', '').str.strip().astype(float)\n",
    "runner_orders['duration_min'] = runner_orders['duration'].str.replace('minutes', '').str.strip().astype(float)\n",
    "\n",
    "# Crear dataset principal combinado\n",
    "print(\"Combinando datasets...\")\n",
    "main_data = customer_orders.merge(pizza_names, on='pizza_id', how='left')\n",
    "main_data = main_data.merge(runner_orders[['order_id', 'is_cancelled', 'distance_km', 'duration_min']], \n",
    "                           on='order_id', how='left')\n",
    "\n",
    "# Filtrar solo pedidos entregados para análisis\n",
    "delivered_orders = main_data[main_data['is_cancelled'] == 0].copy()\n",
    "\n",
    "print(f\"Datos cargados: {len(main_data)} pedidos totales, {len(delivered_orders)} entregados\")\n",
    "print(f\"Rango de fechas: {delivered_orders['order_date'].min()} a {delivered_orders['order_date'].max()}\")"
   ]
  },
  {
   "cell_type": "markdown",
   "id": "bd74a68b",
   "metadata": {},
   "source": [
    "## Modelo 1: Logistic Regression - Segmentación de Clientes "
   ]
  },
  {
   "cell_type": "markdown",
   "id": "20bbcff4",
   "metadata": {},
   "source": [
    "### Preparación de Features para Segmentación"
   ]
  },
  {
   "cell_type": "code",
   "execution_count": null,
   "id": "d5537261",
   "metadata": {},
   "outputs": [],
   "source": [
    "# =============================================================================\n",
    "# MODELO 1: LOGISTIC REGRESSION - SEGMENTACIÓN DE CLIENTES\n",
    "# =============================================================================\n",
    "\n",
    "print(\"MODELO 1: Segmentación de Clientes (Leales vs Ocasionales)\")\n",
    "\n",
    "# Crear features para segmentación\n",
    "customer_features = delivered_orders.groupby('customer_id').agg({\n",
    "    'order_id': 'count',  # total_orders\n",
    "    'order_date': ['min', 'max'],  # first_order, last_order\n",
    "    'pizza_id': 'nunique',  # pizza_variety\n",
    "    'exclusions': lambda x: (x != '').sum(),  # orders_with_exclusions\n",
    "    'extras': lambda x: (x != '').sum()  # orders_with_extras\n",
    "}).reset_index()\n",
    "\n",
    "# Aplanar columnas\n",
    "customer_features.columns = ['customer_id', 'total_orders', 'first_order', 'last_order', \n",
    "                           'pizza_variety', 'orders_with_exclusions', 'orders_with_extras']\n",
    "\n",
    "print(f\"Features creadas para {len(customer_features)} clientes\")\n",
    "print(customer_features.head())"
   ]
  },
  {
   "cell_type": "markdown",
   "id": "45d95034",
   "metadata": {},
   "source": [
    "#### Preparación de Features para Segmentación\n",
    "\n",
    "Aquí tenemos el perfil de nuestros primeros 5 clientes y ya podemos observar patrones muy claros en su comportamiento.\n",
    "\n",
    "El cliente 5 representa un caso ideal de lo que consideramos un \"cliente estrella\". Ha realizado 31 pedidos, ha probado todas las 7 variedades de pizza disponibles, y en prácticamente cada pedido solicita modificaciones (31 exclusiones y 31 extras). Este tipo de cliente es altamente valioso para el negocio.\n",
    "\n",
    "En contraste, los clientes 3 y 4 muestran un comportamiento completamente diferente - cada uno ha realizado únicamente 1 pedido. Son clientes de prueba que podrían convertirse en regulares si implementamos las estrategias adecuadas.\n",
    "\n",
    "La variedad de comportamientos es notable. El cliente 5 ha mantenido una relación con nosotros desde noviembre de 2024 hasta julio de 2025, mientras que otros clientes muestran patrones de actividad más cortos.\n",
    "\n",
    "También observamos que algunos clientes son muy específicos con sus pedidos, solicitando muchas exclusiones y extras, lo que indica que conocen bien el menú y tienen preferencias muy definidas. Esta información es valiosa para personalizar ofertas y mejorar la experiencia del cliente.\n",
    "\n",
    "Con estos datos, podemos comenzar a identificar quiénes son nuestros clientes leales versus los ocasionales, y diseñar estrategias específicas para cada segmento."
   ]
  },
  {
   "cell_type": "markdown",
   "id": "a4ebb4f2",
   "metadata": {},
   "source": [
    "### Cálculo de Métricas de Cliente"
   ]
  },
  {
   "cell_type": "code",
   "execution_count": null,
   "id": "9a98769b",
   "metadata": {},
   "outputs": [],
   "source": [
    "# Calcular días de vida del cliente\n",
    "customer_features['customer_lifetime_days'] = (\n",
    "    customer_features['last_order'] - customer_features['first_order']\n",
    ").dt.days\n",
    "\n",
    "# Calcular frecuencia promedio (días entre pedidos)\n",
    "customer_features['avg_days_between_orders'] = (\n",
    "    customer_features['customer_lifetime_days'] / customer_features['total_orders']\n",
    ").fillna(0)\n",
    "\n",
    "# Definir cliente leal (≥10 pedidos Y ≤30 días promedio entre pedidos)\n",
    "customer_features['is_loyal'] = (\n",
    "    (customer_features['total_orders'] >= 10) & \n",
    "    (customer_features['avg_days_between_orders'] <= 30)\n",
    ").astype(int)\n",
    "\n",
    "print(\"Métricas calculadas:\")\n",
    "print(customer_features[['customer_id', 'total_orders', 'customer_lifetime_days', \n",
    "                        'avg_days_between_orders', 'is_loyal']].head(10))"
   ]
  },
  {
   "cell_type": "markdown",
   "id": "12199d5c",
   "metadata": {},
   "source": [
    "#### Cálculo de Métricas de Cliente\n",
    "\n",
    "Aquí hemos calculado métricas adicionales que nos permiten entender mejor el comportamiento de nuestros clientes. \n",
    "\n",
    "Observamos que el cliente 5 tiene un ciclo de vida de 240 días, lo que significa que ha estado con nosotros durante aproximadamente 8 meses. Su frecuencia promedio de pedidos es de 7.7 días, lo que indica que ordena pizza más de una vez por semana. Con 31 pedidos totales, claramente cumple nuestros criterios de cliente leal.\n",
    "\n",
    "En contraste, los clientes 3 y 4 tienen un ciclo de vida de 0 días, lo que significa que solo han hecho un pedido. Su frecuencia promedio también es 0, ya que no han regresado.\n",
    "\n",
    "El cliente 1 muestra un patrón interesante: 1 pedido en 0 días, lo que sugiere que es un cliente muy reciente.\n",
    "\n",
    "Estas métricas nos permiten identificar claramente quiénes son nuestros clientes leales (aquellos con ≥10 pedidos y ≤30 días promedio entre pedidos) versus los ocasionales. El cliente 5 es el único en esta muestra que cumple ambos criterios, marcado con un 1 en la columna 'is_loyal'.\n",
    "\n",
    "Esta segmentación nos ayudará a diseñar estrategias específicas para retener a los clientes leales y convertir a los ocasionales en regulares."
   ]
  },
  {
   "cell_type": "markdown",
   "id": "5253b3e8",
   "metadata": {},
   "source": [
    "### Análisis Exploratorio y Gráficas"
   ]
  },
  {
   "cell_type": "code",
   "execution_count": null,
   "id": "ad223691",
   "metadata": {},
   "outputs": [],
   "source": [
    "import matplotlib.pyplot as plt\n",
    "import seaborn as sns\n",
    "\n",
    "# Configurar estilo de gráficas\n",
    "plt.style.use('default')\n",
    "fig, axes = plt.subplots(2, 2, figsize=(15, 10))\n",
    "\n",
    "# Gráfica 1: Distribución de total de pedidos\n",
    "axes[0,0].hist(customer_features['total_orders'], bins=20, alpha=0.7, color='skyblue')\n",
    "axes[0,0].set_title('Distribución de Total de Pedidos por Cliente')\n",
    "axes[0,0].set_xlabel('Total de Pedidos')\n",
    "axes[0,0].set_ylabel('Frecuencia')\n",
    "\n",
    "# Gráfica 2: Distribución de días entre pedidos\n",
    "axes[0,1].hist(customer_features['avg_days_between_orders'], bins=20, alpha=0.7, color='lightgreen')\n",
    "axes[0,1].set_title('Distribución de Días Promedio entre Pedidos')\n",
    "axes[0,1].set_xlabel('Días Promedio entre Pedidos')\n",
    "axes[0,1].set_ylabel('Frecuencia')\n",
    "\n",
    "# Gráfica 3: Clientes leales vs ocasionales\n",
    "loyal_counts = customer_features['is_loyal'].value_counts()\n",
    "axes[1,0].pie(loyal_counts.values, labels=['Ocasionales', 'Leales'], autopct='%1.1f%%', \n",
    "              colors=['lightcoral', 'lightblue'])\n",
    "axes[1,0].set_title('Distribución de Clientes Leales vs Ocasionales')\n",
    "\n",
    "# Gráfica 4: Scatter plot: Total pedidos vs Días entre pedidos\n",
    "colors = ['red' if x == 0 else 'blue' for x in customer_features['is_loyal']]\n",
    "axes[1,1].scatter(customer_features['total_orders'], customer_features['avg_days_between_orders'], \n",
    "                  c=colors, alpha=0.6)\n",
    "axes[1,1].set_title('Total Pedidos vs Días entre Pedidos')\n",
    "axes[1,1].set_xlabel('Total de Pedidos')\n",
    "axes[1,1].set_ylabel('Días Promedio entre Pedidos')\n",
    "axes[1,1].legend(['Ocasionales', 'Leales'])\n",
    "\n",
    "plt.tight_layout()\n",
    "plt.show()\n",
    "\n",
    "print(f\"Estadísticas de segmentación:\")\n",
    "print(f\"Clientes leales: {customer_features['is_loyal'].sum()}\")\n",
    "print(f\"Clientes ocasionales: {(customer_features['is_loyal'] == 0).sum()}\")\n",
    "print(f\"Porcentaje de clientes leales: {customer_features['is_loyal'].mean()*100:.1f}%\")"
   ]
  },
  {
   "cell_type": "markdown",
   "id": "26517e00",
   "metadata": {},
   "source": [
    "#### Análisis Exploratorio y Gráficas\n",
    "\n",
    "Los resultados de nuestro análisis exploratorio revelan patrones muy claros en el comportamiento de nuestros clientes.\n",
    "\n",
    "La distribución de pedidos muestra una realidad típica del negocio de comida: la gran mayoría de nuestros clientes (más de 400) han realizado entre 0 y 2 pedidos. Esto indica que tenemos muchos clientes de prueba o ocasionales. Solo un pequeño grupo de clientes ha realizado más de 50 pedidos, confirmando que los clientes verdaderamente leales son una minoría.\n",
    "\n",
    "El gráfico de días promedio entre pedidos confirma este patrón. Más de 300 clientes tienen un promedio muy bajo entre pedidos, lo que sugiere que muchos solo han hecho un pedido o pedidos muy cercanos en el tiempo.\n",
    "\n",
    "El resultado más impactante es la distribución de clientes leales versus ocasionales: solo el 3.2% de nuestros clientes son considerados leales, mientras que el 96.8% son ocasionales. Esta proporción subraya la importancia de implementar estrategias de retención.\n",
    "\n",
    "El gráfico de dispersión es especialmente revelador. Los clientes leales (puntos azules) se concentran claramente en la parte inferior derecha, mostrando un alto número de pedidos con pocos días entre ellos. Los clientes ocasionales (puntos rojos) se agrupan en la parte inferior izquierda, con pocos pedidos y alta variabilidad en la frecuencia.\n",
    "\n",
    "Estos insights nos confirman que necesitamos enfocar nuestros esfuerzos en convertir a los clientes ocasionales en leales, ya que representan la gran mayoría de nuestra base de clientes."
   ]
  },
  {
   "cell_type": "markdown",
   "id": "a7c1ac20",
   "metadata": {},
   "source": [
    "### Preparación de Datos para el Modelo"
   ]
  },
  {
   "cell_type": "code",
   "execution_count": null,
   "id": "0a290d3a",
   "metadata": {},
   "outputs": [],
   "source": [
    "# Features para el modelo\n",
    "X = customer_features[['total_orders', 'pizza_variety', 'orders_with_exclusions', \n",
    "                      'orders_with_extras', 'avg_days_between_orders']]\n",
    "y = customer_features['is_loyal']\n",
    "\n",
    "print(\"Features seleccionadas:\")\n",
    "print(X.columns.tolist())\n",
    "print(f\"Shape de X: {X.shape}\")\n",
    "print(f\"Shape de y: {y.shape}\")\n",
    "\n",
    "# Dividir datos\n",
    "X_train, X_test, y_train, y_test = train_test_split(X, y, test_size=0.2, random_state=42)\n",
    "\n",
    "print(f\"Datos de entrenamiento: {X_train.shape[0]} muestras\")\n",
    "print(f\"Datos de prueba: {X_test.shape[0]} muestras\")"
   ]
  },
  {
   "cell_type": "markdown",
   "id": "2f394c1c",
   "metadata": {},
   "source": [
    "#### División de Datos y Preparación para el Modelo\n",
    "\n",
    "Aquí estamos preparando nuestros datos para el entrenamiento del modelo de regresión logística, que nos ayudará a segmentar a los clientes.\n",
    "\n",
    "Lo primero que vemos es que hemos seleccionado **5 características clave** para cada cliente: `total_orders`, `pizza_variety`, `orders_with_exclusions`, `orders_with_extras`, y `avg_days_between_orders`. Estas son las variables que el modelo utilizará para aprender a diferenciar entre clientes leales y ocasionales.\n",
    "\n",
    "Nuestro conjunto de datos `X` (las características de entrada) tiene una forma de **(557, 5)**. Esto significa que tenemos datos de **557 clientes** y, como mencioné, **5 características** por cada uno.\n",
    "\n",
    "Para `y` (nuestra variable objetivo, que probablemente indica si un cliente es leal o no), tenemos una forma de **(557,)**. Esto confirma que tenemos una etiqueta de lealtad para cada uno de nuestros 557 clientes.\n",
    "\n",
    "Finalmente, hemos dividido estos datos en conjuntos de entrenamiento y prueba:\n",
    "*   **445 muestras** se usarán para **entrenar** el modelo. Con estos datos, el modelo aprenderá los patrones.\n",
    "*   **112 muestras** se reservarán para **probar** qué tan bien funciona el modelo con datos que nunca ha visto. Esto es crucial para asegurarnos de que el modelo no solo memorice los datos de entrenamiento, sino que pueda generalizar a nuevos clientes.\n",
    "\n",
    "El siguiente paso, como indica el texto, será el escalado de estas características y el entrenamiento formal del modelo."
   ]
  },
  {
   "cell_type": "markdown",
   "id": "0fc41b43",
   "metadata": {},
   "source": [
    "###  Escalado y Entrenamiento del Mode"
   ]
  },
  {
   "cell_type": "code",
   "execution_count": null,
   "id": "f64d0a66",
   "metadata": {},
   "outputs": [],
   "source": [
    "# Escalar features\n",
    "scaler = StandardScaler()\n",
    "X_train_scaled = scaler.fit_transform(X_train)\n",
    "X_test_scaled = scaler.transform(X_test)\n",
    "\n",
    "# Entrenar modelo\n",
    "lr_model = LogisticRegression(random_state=42)\n",
    "lr_model.fit(X_train_scaled, y_train)\n",
    "\n",
    "print(\"Modelo Logistic Regression entrenado exitosamente\")"
   ]
  },
  {
   "cell_type": "markdown",
   "id": "2244f8f3",
   "metadata": {},
   "source": [
    "### Evaluación y Predicciones"
   ]
  },
  {
   "cell_type": "code",
   "execution_count": null,
   "id": "9ce20c25",
   "metadata": {},
   "outputs": [],
   "source": [
    "# Predicciones\n",
    "y_pred = lr_model.predict(X_test_scaled)\n",
    "y_pred_proba = lr_model.predict_proba(X_test_scaled)[:, 1]\n",
    "\n",
    "# Métricas\n",
    "accuracy = accuracy_score(y_test, y_pred)\n",
    "\n",
    "print(f\"Accuracy: {accuracy:.3f}\")\n",
    "print(f\"Clientes leales predichos: {y_pred.sum()}/{len(y_pred)}\")\n",
    "print(f\"Distribución real: {y.value_counts().to_dict()}\")\n",
    "\n",
    "# Mostrar coeficientes\n",
    "feature_names = ['total_orders', 'pizza_variety', 'orders_with_exclusions', \n",
    "                'orders_with_extras', 'avg_days_between_orders']\n",
    "coefficients = pd.DataFrame({\n",
    "    'feature': feature_names,\n",
    "    'coefficient': lr_model.coef_[0]\n",
    "}).sort_values('coefficient', key=abs, ascending=False)\n",
    "\n",
    "print(\"\\nCoeficientes más importantes:\")\n",
    "print(coefficients)"
   ]
  },
  {
   "cell_type": "markdown",
   "id": "9a930c6f",
   "metadata": {},
   "source": [
    "#### Resultados del Modelo de Regresión Logística\n",
    "\n",
    "Aquí analizamos los resultados de nuestro modelo de Regresión Logística, diseñado para identificar clientes leales.\n",
    "\n",
    "Observamos una **precisión (Accuracy) de 1.000**, lo cual a primera vista parece excelente. Sin embargo, al mirar los **clientes leales predichos (1/112)**, notamos que el modelo solo identificó a 1 cliente como leal de los 112 que se esperaban en el conjunto de prueba. Esto, combinado con la **distribución real de clientes ({0: 539, 1: 18})**, donde la clase mayoritaria (no leales, 0) es abrumadoramente más grande que la minoritaria (leales, 1), sugiere que el modelo podría estar sufriendo de un problema de desequilibrio de clases. Es probable que el modelo esté clasificando casi todos los casos como \"no leales\" para lograr esa alta precisión, ya que la mayoría de los clientes son de hecho no leales.\n",
    "\n",
    "En cuanto a los **coeficientes más importantes**, que nos indican qué características influyen más en la lealtad del cliente:\n",
    "\n",
    "*   **`total_orders` (0.788324)**: Un mayor número de pedidos totales está fuertemente asociado con la lealtad. Esto es intuitivo, ya que los clientes leales suelen pedir más.\n",
    "*   **`orders_with_exclusions` (0.788324)** y **`orders_with_extras` (0.788324)**: Los clientes que personalizan sus pizzas con exclusiones o extras también muestran una fuerte correlación positiva con la lealtad. Esto podría indicar un mayor compromiso con la marca y sus productos.\n",
    "*   **`pizza_variety` (0.596387)**: Probar una mayor variedad de pizzas también contribuye positivamente a la lealtad, aunque con un coeficiente ligeramente menor que las características anteriores.\n",
    "*   **`avg_days_between_orders` (-0.119452)**: Este es el único coeficiente negativo. Un mayor número de días promedio entre pedidos (es decir, pedir con menos frecuencia) disminuye la probabilidad de ser un cliente leal. Esto también es lógico, ya que los clientes leales tienden a tener intervalos más cortos entre sus pedidos.\n",
    "\n",
    "En resumen, el modelo identifica que la **frecuencia de pedidos**, la **personalización de pizzas** y la **variedad de pizzas consumidas** son los principales impulsores de la lealtad, mientras que los **largos intervalos entre pedidos** son un indicador de menor lealtad. La alta precisión del 1.000, sin embargo, debe ser interpretada con cautela debido al desequilibrio de clases, y probablemente necesitemos métricas adicionales como `recall` o `F1-score` para evaluar mejor el rendimiento del modelo en la identificación de clientes leales."
   ]
  },
  {
   "cell_type": "markdown",
   "id": "3e096e55",
   "metadata": {},
   "source": [
    "###  Gráficas de Evaluación del Modelo"
   ]
  },
  {
   "cell_type": "code",
   "execution_count": null,
   "id": "db3d1802",
   "metadata": {},
   "outputs": [],
   "source": [
    "# Gráficas de evaluación\n",
    "fig, axes = plt.subplots(2, 2, figsize=(15, 10))\n",
    "\n",
    "# Gráfica 1: Matriz de confusión\n",
    "from sklearn.metrics import confusion_matrix\n",
    "cm = confusion_matrix(y_test, y_pred)\n",
    "sns.heatmap(cm, annot=True, fmt='d', cmap='Blues', ax=axes[0,0])\n",
    "axes[0,0].set_title('Matriz de Confusión')\n",
    "axes[0,0].set_xlabel('Predicción')\n",
    "axes[0,0].set_ylabel('Real')\n",
    "\n",
    "# Gráfica 2: Distribución de probabilidades\n",
    "axes[0,1].hist(y_pred_proba[y_test == 0], bins=20, alpha=0.7, label='Ocasionales', color='red')\n",
    "axes[0,1].hist(y_pred_proba[y_test == 1], bins=20, alpha=0.7, label='Leales', color='blue')\n",
    "axes[0,1].set_title('Distribución de Probabilidades Predichas')\n",
    "axes[0,1].set_xlabel('Probabilidad de ser Leal')\n",
    "axes[0,1].set_ylabel('Frecuencia')\n",
    "axes[0,1].legend()\n",
    "\n",
    "# Gráfica 3: Importancia de features\n",
    "coefficients_abs = coefficients.copy()\n",
    "coefficients_abs['abs_coefficient'] = abs(coefficients_abs['coefficient'])\n",
    "coefficients_abs = coefficients_abs.sort_values('abs_coefficient', ascending=True)\n",
    "axes[1,0].barh(coefficients_abs['feature'], coefficients_abs['coefficient'])\n",
    "axes[1,0].set_title('Coeficientes del Modelo')\n",
    "axes[1,0].set_xlabel('Valor del Coeficiente')\n",
    "\n",
    "# Gráfica 4: Comparación real vs predicho\n",
    "comparison = pd.DataFrame({\n",
    "    'Real': y_test.values,\n",
    "    'Predicho': y_pred\n",
    "})\n",
    "comparison_counts = comparison.groupby(['Real', 'Predicho']).size().unstack(fill_value=0)\n",
    "sns.heatmap(comparison_counts, annot=True, fmt='d', cmap='Greens', ax=axes[1,1])\n",
    "axes[1,1].set_title('Comparación Real vs Predicho')\n",
    "axes[1,1].set_xlabel('Predicción')\n",
    "axes[1,1].set_ylabel('Real')\n",
    "\n",
    "plt.tight_layout()\n",
    "plt.show()"
   ]
  },
  {
   "cell_type": "markdown",
   "id": "05e2641d",
   "metadata": {},
   "source": [
    "#### Análisis de Resultados del Modelo de Regresión Logística\n",
    "\n",
    "Aquí tenemos una visión detallada de cómo se comportó nuestro modelo de Regresión Logística en la tarea de segmentar clientes en leales y ocasionales.\n",
    "\n",
    "En la **Matriz de Confusión** (arriba a la izquierda), observamos que el modelo predijo correctamente a 111 clientes como \"ocasionales\" (clase 0) y a 1 cliente como \"leal\" (clase 1). Sin embargo, no hubo falsos positivos ni falsos negativos. Esto significa que, aunque el modelo tiene una alta precisión general (112 aciertos de 112), solo logró identificar a 1 cliente leal de los que realmente existían en el conjunto de prueba. Esto es un claro indicador de que el modelo está fuertemente sesgado hacia la clase mayoritaria (clientes ocasionales), lo cual es común en datasets desbalanceados.\n",
    "\n",
    "La **Distribución de Probabilidades Predichas** (arriba a la derecha) refuerza esta idea. Vemos que la gran mayoría de las predicciones de probabilidad de ser leal se agrupan alrededor de 0 (indicando \"ocasionales\"), con solo una pequeña barra en 1.0 (indicando \"leales\"). Esto confirma que el modelo es muy conservador al clasificar a un cliente como leal.\n",
    "\n",
    "Los **Coeficientes del Modelo** (abajo a la izquierda) nos muestran qué características influyen más en la lealtad del cliente:\n",
    "*   **`orders_with_extras`**, **`orders_with_exclusions`** y **`total_orders`** tienen los coeficientes positivos más altos (alrededor de 0.75). Esto sugiere que los clientes que piden más pizzas, que personalizan sus pedidos con extras o exclusiones, son mucho más propensos a ser considerados leales.\n",
    "*   **`pizza_variety`** también tiene un coeficiente positivo significativo (alrededor de 0.6), indicando que probar diferentes tipos de pizza se asocia con la lealtad.\n",
    "*   **`avg_days_between_orders`** tiene un coeficiente negativo (alrededor de -0.1), lo que es lógico: cuantos más días pasan entre pedidos, menos leal es el cliente.\n",
    "\n",
    "Finalmente, la **Comparación Real vs Predicho** (abajo a la derecha) es otra representación de la matriz de confusión, utilizando una escala de color verde. Confirma los mismos resultados: 111 clientes correctamente clasificados como 0 y 1 cliente correctamente clasificado como 1, sin errores de clasificación cruzada.\n",
    "\n",
    "En resumen, el modelo es muy bueno para identificar a los clientes ocasionales, pero su capacidad para detectar a los clientes leales es limitada debido al desequilibrio de clases. Las características relacionadas con la frecuencia de pedidos y la personalización son los predictores más fuertes de la lealtad."
   ]
  },
  {
   "cell_type": "markdown",
   "id": "94a250e3",
   "metadata": {},
   "source": [
    "###  Función de Predicción y Casos de Uso"
   ]
  },
  {
   "cell_type": "code",
   "execution_count": null,
   "id": "747f8f5e",
   "metadata": {},
   "outputs": [],
   "source": [
    "# Función para predecir si un cliente es leal\n",
    "def predict_customer_loyalty(customer_id):\n",
    "    if customer_id not in customer_features['customer_id'].values:\n",
    "        return \"Cliente no encontrado\"\n",
    "    \n",
    "    customer_data = customer_features[customer_features['customer_id'] == customer_id]\n",
    "    features = customer_data[['total_orders', 'pizza_variety', 'orders_with_exclusions', \n",
    "                             'orders_with_extras', 'avg_days_between_orders']]\n",
    "    \n",
    "    features_scaled = scaler.transform(features)\n",
    "    prediction = lr_model.predict(features_scaled)[0]\n",
    "    probability = lr_model.predict_proba(features_scaled)[0][1]\n",
    "    \n",
    "    return {\n",
    "        'customer_id': customer_id,\n",
    "        'is_loyal': bool(prediction),\n",
    "        'loyalty_probability': probability,\n",
    "        'total_orders': customer_data['total_orders'].iloc[0],\n",
    "        'avg_days_between_orders': customer_data['avg_days_between_orders'].iloc[0]\n",
    "    }\n",
    "\n",
    "# Ejemplo de predicción\n",
    "sample_customer = customer_features['customer_id'].iloc[0]\n",
    "result = predict_customer_loyalty(sample_customer)\n",
    "print(f\"Ejemplo de predicción para cliente {sample_customer}:\")\n",
    "print(result)\n",
    "\n",
    "print(\"\\nModelo 1 completado exitosamente!\")"
   ]
  },
  {
   "cell_type": "markdown",
   "id": "3c56d47d",
   "metadata": {},
   "source": [
    "#### Ejemplo de Predicción del Modelo de Regresión Logística\n",
    "\n",
    "Aquí tenemos un ejemplo concreto de cómo nuestro Modelo 1 de Regresión Logística realiza una predicción para un cliente individual.\n",
    "\n",
    "Para el **cliente con `customer_id: 1`**, el modelo ha determinado que **`is_loyal: False`**, lo que significa que lo clasifica como un cliente ocasional. La **`loyalty_probability`** asociada a esta predicción es extremadamente baja, de **0.0006205164395327097**.\n",
    "\n",
    "Este resultado es coherente con lo que discutimos anteriormente sobre el posible sesgo del modelo hacia la clase mayoritaria (clientes no leales) debido al desequilibrio de clases. Una probabilidad tan baja refuerza la idea de que el modelo es muy conservador al clasificar a un cliente como leal.\n",
    "\n",
    "Finalmente, el mensaje \"Modelo 1 completado exitosamente!\" nos confirma que la ejecución de esta parte del modelo se realizó sin problemas."
   ]
  },
  {
   "cell_type": "markdown",
   "id": "e3442915",
   "metadata": {},
   "source": [
    "## Modelo 2: Linear Regression - Predicción de Gastos"
   ]
  },
  {
   "cell_type": "markdown",
   "id": "438eda70",
   "metadata": {},
   "source": [
    "### Configuración de Precios y Features Básicas"
   ]
  },
  {
   "cell_type": "code",
   "execution_count": null,
   "id": "03d335ec",
   "metadata": {},
   "outputs": [],
   "source": [
    "# =============================================================================\n",
    "# MODELO 2: LINEAR REGRESSION - PREDICCIÓN DE GASTOS\n",
    "# =============================================================================\n",
    "\n",
    "print(\"MODELO 2: Predicción de Gastos por Pedido\")\n",
    "\n",
    "# Asumir precios base (en la realidad vendrían de pizza_names o tabla de precios)\n",
    "pizza_prices = {1: 12, 2: 10, 3: 15, 4: 14, 5: 13, 6: 11, 7: 9}  # precios base\n",
    "delivered_orders['base_price'] = delivered_orders['pizza_id'].map(pizza_prices)\n",
    "\n",
    "# Calcular precio final (base + extras - descuentos por exclusions)\n",
    "delivered_orders['has_extras'] = (delivered_orders['extras'] != '').astype(int)\n",
    "delivered_orders['has_exclusions'] = (delivered_orders['exclusions'] != '').astype(int)\n",
    "delivered_orders['final_price'] = delivered_orders['base_price'] + (delivered_orders['has_extras'] * 2) - (delivered_orders['has_exclusions'] * 1)\n",
    "\n",
    "print(\"Precios configurados:\")\n",
    "print(f\"Precios base por pizza: {pizza_prices}\")\n",
    "print(f\"Precio promedio final: ${delivered_orders['final_price'].mean():.2f}\")\n",
    "print(f\"Rango de precios: ${delivered_orders['final_price'].min():.2f} - ${delivered_orders['final_price'].max():.2f}\")"
   ]
  },
  {
   "cell_type": "markdown",
   "id": "a4a4f993",
   "metadata": {},
   "source": [
    "### K means para los datos"
   ]
  },
  {
   "cell_type": "code",
   "execution_count": null,
   "id": "6f1761cd",
   "metadata": {},
   "outputs": [],
   "source": [
    "print(\"Cargando datos...\")\n",
    "customer_orders = pd.read_csv('customer_orders.csv')\n",
    "pizza_names = pd.read_csv('pizza_names.csv')\n",
    "pizza_recipes = pd.read_csv('pizza_recipes.csv')\n",
    "pizza_toppings = pd.read_csv('pizza_toppings.csv')\n",
    "runners = pd.read_csv('runners.csv')\n",
    "runner_orders = pd.read_csv('runner_orders.csv')\n",
    "\n",
    "# Limpiar y preparar datos base\n",
    "print(\"Limpiando datos...\")\n",
    "\n",
    "# Convertir fechas\n",
    "customer_orders['order_date'] = pd.to_datetime(customer_orders['order_date'])\n",
    "runner_orders['pickup_time'] = pd.to_datetime(runner_orders['pickup_time'])\n",
    "\n",
    "# Limpiar cancellation (convertir a binario: 0=entregado, 1=cancelado)\n",
    "runner_orders['is_cancelled'] = runner_orders['cancellation'].fillna('').apply(\n",
    "    lambda x: 1 if x.strip().lower() not in ['', 'null', 'none'] else 0\n",
    ")\n",
    "\n",
    "# Limpiar distance y duration\n",
    "runner_orders['distance_km'] = runner_orders['distance'].str.replace('km', '').str.strip().astype(float)\n",
    "runner_orders['duration_min'] = runner_orders['duration'].str.replace('minutes', '').str.strip().astype(float)\n",
    "\n",
    "# Crear dataset principal combinado\n",
    "print(\"Combinando datasets...\")\n",
    "main_data = customer_orders.merge(pizza_names, on='pizza_id', how='left')\n",
    "main_data = main_data.merge(runner_orders[['order_id', 'is_cancelled', 'distance_km', 'duration_min']], \n",
    "                           on='order_id', how='left')\n",
    "\n",
    "# Filtrar solo pedidos entregados para análisis\n",
    "delivered_orders = main_data[main_data['is_cancelled'] == 0].copy()\n",
    "\n",
    "print(f\"Datos cargados: {len(main_data)} pedidos totales, {len(delivered_orders)} entregados\")\n",
    "print(f\"Rango de fechas: {delivered_orders['order_date'].min()} a {delivered_orders['order_date'].max()}\")"
   ]
  },
  {
   "cell_type": "code",
   "execution_count": null,
   "id": "5951274f",
   "metadata": {},
   "outputs": [],
   "source": [
    "delivered_orders['day_of_week'] = delivered_orders['order_date'].dt.dayofweek\n",
    "delivered_orders['hour'] = delivered_orders['order_date'].dt.hour\n",
    "delivered_orders['is_weekend'] = (delivered_orders['day_of_week'] >= 5).astype(int)\n",
    "delivered_orders['month'] = delivered_orders['order_date'].dt.month\n",
    "delivered_orders['is_lunch'] = ((delivered_orders['hour'] >= 11) & (delivered_orders['hour'] <= 14)).astype(int)\n",
    "delivered_orders['is_dinner'] = ((delivered_orders['hour'] >= 18) & (delivered_orders['hour'] <= 21)).astype(int)\n",
    "\n",
    "print(\"Features temporales creadas:\")"
   ]
  },
  {
   "cell_type": "code",
   "execution_count": null,
   "id": "8e0da6b0",
   "metadata": {},
   "outputs": [],
   "source": [
    "print(\"MODELO 2: Predicción de Gastos por Pedido\")\n",
    "\n",
    "# Asumir precios base (en la realidad vendrían de pizza_names o tabla de precios)\n",
    "pizza_prices = {1: 12, 2: 10, 3: 15, 4: 14, 5: 13, 6: 11, 7: 9}  # precios base\n",
    "delivered_orders['base_price'] = delivered_orders['pizza_id'].map(pizza_prices)\n",
    "\n",
    "# Calcular precio final (base + extras - descuentos por exclusions)\n",
    "delivered_orders['has_extras'] = (delivered_orders['extras'] != '').astype(int)\n",
    "delivered_orders['has_exclusions'] = (delivered_orders['exclusions'] != '').astype(int)\n",
    "delivered_orders['final_price'] = delivered_orders['base_price'] + (delivered_orders['has_extras'] * 2) - (delivered_orders['has_exclusions'] * 1)\n",
    "\n",
    "print(\"Precios configurados:\")\n",
    "print(f\"Precios base por pizza: {pizza_prices}\")\n",
    "print(f\"Precio promedio final: ${delivered_orders['final_price'].mean():.2f}\")\n",
    "print(f\"Rango de precios: ${delivered_orders['final_price'].min():.2f} - ${delivered_orders['final_price'].max():.2f}\")"
   ]
  },
  {
   "cell_type": "code",
   "execution_count": null,
   "id": "a7adb1de",
   "metadata": {},
   "outputs": [],
   "source": [
    "numeric_columns = [\"customer_id\", \"is_cancelled\", \"distance_km\", \"duration_min\", \"base_price\",\n",
    "                    \"has_extras\", \"has_exclusions\", \"final_price\",\"day_of_week\",\n",
    "                    \"hour\", \"is_weekend\", \"month\", \"is_lunch\", \"is_dinner\"]\n",
    "\n",
    "kmeans_data = delivered_orders[numeric_columns]"
   ]
  },
  {
   "cell_type": "code",
   "execution_count": null,
   "id": "db75e2f4",
   "metadata": {},
   "outputs": [],
   "source": [
    "kmeans_data = kmeans_data.fillna(kmeans_data.mean())"
   ]
  },
  {
   "cell_type": "code",
   "execution_count": null,
   "id": "71f03aa6",
   "metadata": {},
   "outputs": [],
   "source": [
    "kmeans_data = kmeans_data.groupby(\"customer_id\").agg(\n",
    "    {\"is_cancelled\" : \"sum\", \"distance_km\" : \"mean\", \"duration_min\" : \"mean\", \"base_price\" : \"mean\",\n",
    "     \"has_extras\" : \"sum\", \"has_exclusions\" : \"sum\", \"final_price\" : \"mean\", \"day_of_week\" : \"mean\",\n",
    "     \"hour\" : \"mean\", \"is_weekend\" : \"sum\", \"month\" : \"mean\", \"is_lunch\" : \"sum\", \"is_dinner\" : \"sum\"}\n",
    ").reset_index()\n",
    "kmeans_data"
   ]
  },
  {
   "cell_type": "code",
   "execution_count": null,
   "id": "bea06187",
   "metadata": {},
   "outputs": [],
   "source": [
    "standard_scaler = StandardScaler()\n",
    "kmeans_standar = standard_scaler.fit_transform(kmeans_data.drop(columns=[\"customer_id\"]))"
   ]
  },
  {
   "cell_type": "code",
   "execution_count": null,
   "id": "25f18aa5",
   "metadata": {},
   "outputs": [],
   "source": [
    "fig = go.Figure()\n",
    "k_values = list(range(1,11))\n",
    "elbow = []\n",
    "for k in k_values:\n",
    "    kmeans_model = KMeans(n_clusters=k)\n",
    "    kmeans_model.fit(kmeans_standar)\n",
    "    elbow.append(kmeans_model.inertia_)\n",
    "\n",
    "fig.add_trace(\n",
    "    go.Scatter(\n",
    "        x = k_values,\n",
    "        y =elbow\n",
    "    )\n",
    ")\n",
    "fig.update_layout(\n",
    "    title = \"Elbow method\",\n",
    "    xaxis = dict(\n",
    "        title = \"K value\"\n",
    "    ),\n",
    "    yaxis = dict(\n",
    "        title = \"Inertia\"\n",
    "    )\n",
    ")\n",
    "\n",
    "fig.show()"
   ]
  },
  {
   "cell_type": "code",
   "execution_count": null,
   "id": "ced012de",
   "metadata": {},
   "outputs": [],
   "source": [
    "k = 3\n",
    "kmeans_model = KMeans(n_clusters=k)\n",
    "kmeans_model.fit(kmeans_standar)\n",
    "\n",
    "kmeans_data[\"cluster\"] = kmeans_model.labels_\n",
    "print(f\"Clusters creados: {k}\")\n",
    "\n",
    "kmeans_data['cluster'].value_counts()"
   ]
  },
  {
   "cell_type": "code",
   "execution_count": null,
   "id": "e8948045",
   "metadata": {},
   "outputs": [],
   "source": [
    "pca = PCA(n_components=2)\n",
    "kmeans_pca = pca.fit_transform(kmeans_standar)\n",
    "\n",
    "fig = go.Figure()\n",
    "\n",
    "fig.add_trace(\n",
    "    go.Scatter(\n",
    "        x = kmeans_pca[:,0],\n",
    "        y = kmeans_pca[:, 1],\n",
    "        mode = \"markers\",\n",
    "        marker = dict(\n",
    "            color = kmeans_data['cluster'],\n",
    "            colorscale = \"Viridis\",\n",
    "            showscale = False,\n",
    "        ),\n",
    "    )\n",
    ")\n",
    "\n",
    "fig.update_layout(\n",
    "    title = \"Clusters de clientes con PCA\",\n",
    "    xaxis = dict(\n",
    "        title = \"PCA 1\"\n",
    "    ),\n",
    "    yaxis = dict(\n",
    "        title = \"PCA 2\"\n",
    "    )\n",
    ")\n",
    "\n",
    "fig.show()"
   ]
  },
  {
   "cell_type": "code",
   "execution_count": null,
   "id": "4f8d75b1",
   "metadata": {},
   "outputs": [],
   "source": [
    "from sklearn.svm import SVR\n",
    "\n",
    "\n",
    "def apply_models(data):\n",
    "    results = {}\n",
    "\n",
    "    for cluster_id in data[\"cluster\"].unique():\n",
    "        # Subset data by cluster\n",
    "        cluster_data = data[data[\"cluster\"] == cluster_id]\n",
    "\n",
    "        # Features (exclude target + id + cluster)\n",
    "        X = cluster_data.drop(columns=[\"customer_id\", \"final_price\", \"cluster\"])\n",
    "        y = cluster_data[\"final_price\"]\n",
    "\n",
    "        # Train/test split\n",
    "        X_train, X_test, y_train, y_test = train_test_split(\n",
    "            X, y, test_size=0.3, random_state=42\n",
    "        )\n",
    "\n",
    "        cluster_results = {}\n",
    "\n",
    "        # --- Random Forest ---\n",
    "        rf = RandomForestRegressor(n_estimators=100, random_state=42, max_depth=10)\n",
    "        rf.fit(X_train, y_train)\n",
    "        y_pred_rf = rf.predict(X_test)\n",
    "        cluster_results[\"RandomForest_R2\"] = r2_score(y_test, y_pred_rf)\n",
    "        cluster_results[\"RandomForest_RMSE\"] = np.sqrt(mean_squared_error(y_test, y_pred_rf))\n",
    "\n",
    "        # --- Linear Regression ---\n",
    "        lin_reg = LinearRegression()\n",
    "        lin_reg.fit(X_train, y_train)\n",
    "        y_pred_lr = lin_reg.predict(X_test)\n",
    "        cluster_results[\"LinearRegression_R2\"] = r2_score(y_test, y_pred_lr)\n",
    "        cluster_results[\"LinearRegression_RMSE\"] = np.sqrt(mean_squared_error(y_test, y_pred_lr))\n",
    "\n",
    "        # --- Support Vector Regression (SVM) ---\n",
    "        svr = SVR(kernel=\"rbf\")\n",
    "        svr.fit(X_train, y_train)\n",
    "        y_pred_svr = svr.predict(X_test)\n",
    "        cluster_results[\"SVM_R2\"] = r2_score(y_test, y_pred_svr)\n",
    "        cluster_results[\"SVM_RMSE\"] = np.sqrt(mean_squared_error(y_test, y_pred_svr))\n",
    "\n",
    "        # Save results per cluster\n",
    "        results[f\"Cluster {cluster_id}\"] = cluster_results\n",
    "\n",
    "    return results\n",
    "\n",
    "results = apply_models(kmeans_data)\n",
    "print(results)\n",
    "\n",
    "'''\n",
    "for cluster, metrics in results.items():\n",
    "    print(f\"\\n{cluster}:\")\n",
    "    for model, score in metrics.items():\n",
    "        print(f\"  {model}: {score:.4f}\")\n",
    "'''\n",
    "\n",
    "\n"
   ]
  },
  {
   "cell_type": "markdown",
   "id": "d0562ace",
   "metadata": {},
   "source": [
    "### Creación de Features Temporales"
   ]
  },
  {
   "cell_type": "code",
   "execution_count": null,
   "id": "1f1a4553",
   "metadata": {},
   "outputs": [],
   "source": [
    "# Features temporales\n",
    "delivered_orders['day_of_week'] = delivered_orders['order_date'].dt.dayofweek\n",
    "delivered_orders['hour'] = delivered_orders['order_date'].dt.hour\n",
    "delivered_orders['is_weekend'] = (delivered_orders['day_of_week'] >= 5).astype(int)\n",
    "delivered_orders['month'] = delivered_orders['order_date'].dt.month\n",
    "delivered_orders['is_lunch'] = ((delivered_orders['hour'] >= 11) & (delivered_orders['hour'] <= 14)).astype(int)\n",
    "delivered_orders['is_dinner'] = ((delivered_orders['hour'] >= 18) & (delivered_orders['hour'] <= 21)).astype(int)\n",
    "\n",
    "print(\"Features temporales creadas:\")\n",
    "print(delivered_orders[['order_date', 'day_of_week', 'hour', 'is_weekend', 'month', 'is_lunch', 'is_dinner']].head())"
   ]
  },
  {
   "cell_type": "markdown",
   "id": "1ea03725",
   "metadata": {},
   "source": [
    "### Estadísticas del Cliente"
   ]
  },
  {
   "cell_type": "code",
   "execution_count": null,
   "id": "eb965320",
   "metadata": {},
   "outputs": [],
   "source": [
    "# Features del cliente (historial)\n",
    "customer_stats = delivered_orders.groupby('customer_id').agg({\n",
    "    'final_price': ['mean', 'std', 'count'],\n",
    "    'has_extras': 'mean',\n",
    "    'has_exclusions': 'mean',\n",
    "    'pizza_id': 'nunique'\n",
    "}).reset_index()\n",
    "\n",
    "# Aplanar columnas\n",
    "customer_stats.columns = ['customer_id', 'avg_order_value', 'std_order_value', \n",
    "                         'total_orders', 'avg_has_extras', 'avg_has_exclusions', 'pizza_variety']\n",
    "\n",
    "# Combinar con datos principales\n",
    "expense_data = delivered_orders.merge(customer_stats, on='customer_id', how='left')\n",
    "\n",
    "print(\"Estadísticas del cliente calculadas:\")\n",
    "print(customer_stats.head())\n",
    "print(f\"Clientes únicos: {len(customer_stats)}\")"
   ]
  },
  {
   "cell_type": "markdown",
   "id": "3bf2c8a3",
   "metadata": {},
   "source": [
    "### Análisis Exploratorio y Gráficas"
   ]
  },
  {
   "cell_type": "code",
   "execution_count": null,
   "id": "1e972c05",
   "metadata": {},
   "outputs": [],
   "source": [
    "# Análisis exploratorio\n",
    "fig, axes = plt.subplots(2, 3, figsize=(18, 10))\n",
    "\n",
    "# Gráfica 1: Distribución de precios\n",
    "axes[0,0].hist(expense_data['final_price'], bins=30, alpha=0.7, color='skyblue')\n",
    "axes[0,0].set_title('Distribución de Precios Finales')\n",
    "axes[0,0].set_xlabel('Precio Final ($)')\n",
    "axes[0,0].set_ylabel('Frecuencia')\n",
    "\n",
    "# Gráfica 2: Precio por día de la semana\n",
    "day_names = ['Lun', 'Mar', 'Mié', 'Jue', 'Vie', 'Sáb', 'Dom']\n",
    "price_by_day = expense_data.groupby('day_of_week')['final_price'].mean()\n",
    "axes[0,1].bar(day_names, price_by_day, color='lightgreen')\n",
    "axes[0,1].set_title('Precio Promedio por Día de la Semana')\n",
    "axes[0,1].set_ylabel('Precio Promedio ($)')\n",
    "\n",
    "# Gráfica 3: Precio por hora\n",
    "price_by_hour = expense_data.groupby('hour')['final_price'].mean()\n",
    "axes[0,2].plot(price_by_hour.index, price_by_hour.values, marker='o', color='orange')\n",
    "axes[0,2].set_title('Precio Promedio por Hora del Día')\n",
    "axes[0,2].set_xlabel('Hora')\n",
    "axes[0,2].set_ylabel('Precio Promedio ($)')\n",
    "\n",
    "# Gráfica 4: Precio por tipo de pizza\n",
    "price_by_pizza = expense_data.groupby('pizza_name')['final_price'].mean().sort_values(ascending=False)\n",
    "axes[1,0].barh(price_by_pizza.index, price_by_pizza.values, color='lightcoral')\n",
    "axes[1,0].set_title('Precio Promedio por Tipo de Pizza')\n",
    "axes[1,0].set_xlabel('Precio Promedio ($)')\n",
    "\n",
    "# Gráfica 5: Efecto de extras y exclusiones\n",
    "extras_effect = expense_data.groupby('has_extras')['final_price'].mean()\n",
    "axes[1,1].bar(['Sin Extras', 'Con Extras'], extras_effect.values, color=['lightblue', 'darkblue'])\n",
    "axes[1,1].set_title('Efecto de Extras en el Precio')\n",
    "axes[1,1].set_ylabel('Precio Promedio ($)')\n",
    "\n",
    "# Gráfica 6: Scatter plot: Precio vs Total de pedidos del cliente\n",
    "axes[1,2].scatter(expense_data['total_orders'], expense_data['final_price'], alpha=0.5, color='purple')\n",
    "axes[1,2].set_title('Precio vs Total de Pedidos del Cliente')\n",
    "axes[1,2].set_xlabel('Total de Pedidos del Cliente')\n",
    "axes[1,2].set_ylabel('Precio del Pedido ($)')\n",
    "\n",
    "plt.tight_layout()\n",
    "plt.show()\n",
    "\n",
    "print(\"Análisis exploratorio completado\")"
   ]
  },
  {
   "cell_type": "markdown",
   "id": "0d3d3c4b",
   "metadata": {},
   "source": [
    "### Preparación de Features para el Modelo"
   ]
  },
  {
   "cell_type": "code",
   "execution_count": null,
   "id": "95fdf406",
   "metadata": {},
   "outputs": [],
   "source": [
    "# Features para el modelo\n",
    "X_expense = expense_data[['pizza_id', 'day_of_week', 'hour', 'is_weekend', \n",
    "                         'has_extras', 'has_exclusions', 'avg_order_value', \n",
    "                         'total_orders', 'avg_has_extras', 'pizza_variety']]\n",
    "y_expense = expense_data['final_price']\n",
    "\n",
    "print(\"Features seleccionadas para el modelo:\")\n",
    "print(X_expense.columns.tolist())\n",
    "print(f\"Shape de X: {X_expense.shape}\")\n",
    "print(f\"Shape de y: {y_expense.shape}\")\n",
    "\n",
    "# Verificar valores faltantes\n",
    "print(f\"Valores faltantes en X: {X_expense.isnull().sum().sum()}\")\n",
    "print(f\"Valores faltantes en y: {y_expense.isnull().sum()}\")\n",
    "\n",
    "# Llenar valores faltantes si los hay\n",
    "X_expense = X_expense.fillna(X_expense.mean())"
   ]
  },
  {
   "cell_type": "markdown",
   "id": "2a4e6f3a",
   "metadata": {},
   "source": [
    "### División de Datos y Escalado"
   ]
  },
  {
   "cell_type": "code",
   "execution_count": null,
   "id": "dfceed00",
   "metadata": {},
   "outputs": [],
   "source": [
    "# Dividir datos\n",
    "X_train_exp, X_test_exp, y_train_exp, y_test_exp = train_test_split(\n",
    "    X_expense, y_expense, test_size=0.2, random_state=42)\n",
    "\n",
    "print(f\"Datos de entrenamiento: {X_train_exp.shape[0]} muestras\")\n",
    "print(f\"Datos de prueba: {X_test_exp.shape[0]} muestras\")\n",
    "\n",
    "# Escalar features\n",
    "scaler_exp = StandardScaler()\n",
    "X_train_exp_scaled = scaler_exp.fit_transform(X_train_exp)\n",
    "X_test_exp_scaled = scaler_exp.transform(X_test_exp)\n",
    "\n",
    "print(\"Datos escalados exitosamente\")"
   ]
  },
  {
   "cell_type": "markdown",
   "id": "4aedb860",
   "metadata": {},
   "source": [
    "###  Entrenamiento del Modelo"
   ]
  },
  {
   "cell_type": "code",
   "execution_count": null,
   "id": "f569b229",
   "metadata": {},
   "outputs": [],
   "source": [
    "# Entrenar modelo\n",
    "lr_expense = LinearRegression()\n",
    "lr_expense.fit(X_train_exp_scaled, y_train_exp)\n",
    "\n",
    "print(\"Modelo Linear Regression entrenado exitosamente\")\n",
    "print(f\"Coeficiente de determinación (R²) en entrenamiento: {lr_expense.score(X_train_exp_scaled, y_train_exp):.3f}\")"
   ]
  },
  {
   "cell_type": "markdown",
   "id": "c1a34703",
   "metadata": {},
   "source": [
    "###  Evaluación y Predicciones"
   ]
  },
  {
   "cell_type": "code",
   "execution_count": null,
   "id": "78424e29",
   "metadata": {},
   "outputs": [],
   "source": [
    "# Predicciones\n",
    "y_pred_exp = lr_expense.predict(X_test_exp_scaled)\n",
    "mse = mean_squared_error(y_test_exp, y_pred_exp)\n",
    "r2 = r2_score(y_test_exp, y_pred_exp)\n",
    "rmse = np.sqrt(mse)\n",
    "\n",
    "print(f\"R² Score: {r2:.3f}\")\n",
    "print(f\"RMSE: ${rmse:.2f}\")\n",
    "print(f\"Precio promedio real: ${y_test_exp.mean():.2f}\")\n",
    "print(f\"Precio promedio predicho: ${y_pred_exp.mean():.2f}\")\n",
    "\n",
    "# Mostrar importancia de features\n",
    "feature_names_exp = ['pizza_id', 'day_of_week', 'hour', 'is_weekend', \n",
    "                    'has_extras', 'has_exclusions', 'avg_order_value', \n",
    "                    'total_orders', 'avg_has_extras', 'pizza_variety']\n",
    "importance = pd.DataFrame({\n",
    "    'feature': feature_names_exp,\n",
    "    'coefficient': lr_expense.coef_\n",
    "}).sort_values('coefficient', key=abs, ascending=False)\n",
    "\n",
    "print(\"\\nFeatures más importantes (por coeficiente):\")\n",
    "print(importance)"
   ]
  },
  {
   "cell_type": "markdown",
   "id": "3b04511c",
   "metadata": {},
   "source": [
    "### Gráficas de Evaluación del Modelo"
   ]
  },
  {
   "cell_type": "code",
   "execution_count": null,
   "id": "4108a275",
   "metadata": {},
   "outputs": [],
   "source": [
    "# Gráficas de evaluación\n",
    "fig, axes = plt.subplots(2, 2, figsize=(15, 10))\n",
    "\n",
    "# Gráfica 1: Predicciones vs Valores reales\n",
    "axes[0,0].scatter(y_test_exp, y_pred_exp, alpha=0.5, color='blue')\n",
    "axes[0,0].plot([y_test_exp.min(), y_test_exp.max()], [y_test_exp.min(), y_test_exp.max()], 'r--', lw=2)\n",
    "axes[0,0].set_title('Predicciones vs Valores Reales')\n",
    "axes[0,0].set_xlabel('Precio Real ($)')\n",
    "axes[0,0].set_ylabel('Precio Predicho ($)')\n",
    "\n",
    "# Gráfica 2: Residuos\n",
    "residuals = y_test_exp - y_pred_exp\n",
    "axes[0,1].scatter(y_pred_exp, residuals, alpha=0.5, color='green')\n",
    "axes[0,1].axhline(y=0, color='r', linestyle='--')\n",
    "axes[0,1].set_title('Residuos vs Predicciones')\n",
    "axes[0,1].set_xlabel('Precio Predicho ($)')\n",
    "axes[0,1].set_ylabel('Residuos ($)')\n",
    "\n",
    "# Gráfica 3: Distribución de errores\n",
    "axes[1,0].hist(residuals, bins=30, alpha=0.7, color='orange')\n",
    "axes[1,0].set_title('Distribución de Errores de Predicción')\n",
    "axes[1,0].set_xlabel('Error ($)')\n",
    "axes[1,0].set_ylabel('Frecuencia')\n",
    "\n",
    "# Gráfica 4: Importancia de features\n",
    "importance_abs = importance.copy()\n",
    "importance_abs['abs_coefficient'] = abs(importance_abs['coefficient'])\n",
    "importance_abs = importance_abs.sort_values('abs_coefficient', ascending=True)\n",
    "axes[1,1].barh(importance_abs['feature'], importance_abs['coefficient'])\n",
    "axes[1,1].set_title('Coeficientes del Modelo')\n",
    "axes[1,1].set_xlabel('Valor del Coeficiente')\n",
    "\n",
    "plt.tight_layout()\n",
    "plt.show()"
   ]
  },
  {
   "cell_type": "markdown",
   "id": "4acbe320",
   "metadata": {},
   "source": [
    "### Función de Predicción y Casos de Uso"
   ]
  },
  {
   "cell_type": "code",
   "execution_count": null,
   "id": "49483a4e",
   "metadata": {},
   "outputs": [],
   "source": [
    "# Función para predecir el precio de un pedido\n",
    "def predict_order_price(pizza_id, day_of_week, hour, has_extras=False, has_exclusions=False, \n",
    "                       customer_avg_order_value=12, customer_total_orders=5, \n",
    "                       customer_avg_has_extras=0.2, customer_pizza_variety=3):\n",
    "    \"\"\"\n",
    "    Predice el precio de un pedido basado en las características del pedido y del cliente\n",
    "    \"\"\"\n",
    "    is_weekend = 1 if day_of_week >= 5 else 0\n",
    "    \n",
    "    features = np.array([[pizza_id, day_of_week, hour, is_weekend, \n",
    "                         int(has_extras), int(has_exclusions), customer_avg_order_value, \n",
    "                         customer_total_orders, customer_avg_has_extras, customer_pizza_variety]])\n",
    "    \n",
    "    features_scaled = scaler_exp.transform(features)\n",
    "    predicted_price = lr_expense.predict(features_scaled)[0]\n",
    "    \n",
    "    return max(0, round(predicted_price, 2))\n",
    "\n",
    "# Ejemplos de predicción\n",
    "print(\"Ejemplos de predicción de precios:\")\n",
    "print(f\"Pizza Margherita, Lunes 12:00, sin extras: ${predict_order_price(1, 0, 12)}\")\n",
    "print(f\"Pizza Meat Lovers, Viernes 19:00, con extras: ${predict_order_price(3, 4, 19, True)}\")\n",
    "print(f\"Pizza Vegetarian, Sábado 20:00, con extras y exclusiones: ${predict_order_price(2, 5, 20, True, True)}\")\n",
    "\n",
    "# Análisis de casos de uso\n",
    "print(\"\\nCasos de uso del modelo:\")\n",
    "print(\"1. Estimar LTV (Lifetime Value) de clientes\")\n",
    "print(\"2. Optimizar descuentos y promociones\")\n",
    "print(\"3. Planificar inventario basado en demanda esperada\")\n",
    "print(\"4. Personalizar ofertas por cliente\")\n",
    "print(\"5. Análisis de rentabilidad por horario\")\n",
    "\n",
    "print(\"\\nModelo 2 completado exitosamente!\")"
   ]
  },
  {
   "cell_type": "markdown",
   "id": "9fe836ea",
   "metadata": {},
   "source": [
    "## Modelo 3: KNN - Recomendaciones de Pizza"
   ]
  },
  {
   "cell_type": "markdown",
   "id": "93fe5437",
   "metadata": {},
   "source": [
    "### Creación de Matriz Cliente-Pizza"
   ]
  },
  {
   "cell_type": "code",
   "execution_count": null,
   "id": "d599388e",
   "metadata": {},
   "outputs": [],
   "source": [
    "# =============================================================================\n",
    "# MODELO 3: KNN - RECOMENDACIONES DE PIZZA\n",
    "# =============================================================================\n",
    "\n",
    "print(\"MODELO 3: Sistema de Recomendaciones de Pizza\")\n",
    "\n",
    "# Crear matriz cliente-pizza (ratings implícitos basados en frecuencia)\n",
    "pizza_matrix = delivered_orders.groupby(['customer_id', 'pizza_id']).size().unstack(fill_value=0)\n",
    "\n",
    "print(f\"Matriz cliente-pizza creada: {pizza_matrix.shape}\")\n",
    "print(f\"Clientes únicos: {pizza_matrix.shape[0]}\")\n",
    "print(f\"Pizzas únicas: {pizza_matrix.shape[1]}\")\n",
    "\n",
    "# Mostrar muestra de la matriz\n",
    "print(\"\\nMuestra de la matriz cliente-pizza:\")\n",
    "print(pizza_matrix.head())"
   ]
  },
  {
   "cell_type": "markdown",
   "id": "cfe296bd",
   "metadata": {},
   "source": [
    "### Normalización y Análisis de Patrones"
   ]
  },
  {
   "cell_type": "code",
   "execution_count": null,
   "id": "7971a6d0",
   "metadata": {},
   "outputs": [],
   "source": [
    "# Normalizar por cliente (frecuencia relativa)\n",
    "pizza_matrix_norm = pizza_matrix.div(pizza_matrix.sum(axis=1), axis=0)\n",
    "\n",
    "print(\"Matriz normalizada (frecuencia relativa por cliente):\")\n",
    "print(pizza_matrix_norm.head())\n",
    "\n",
    "# Análisis de patrones de pedidos\n",
    "customer_order_patterns = pizza_matrix.sum(axis=1)\n",
    "pizza_popularity = pizza_matrix.sum(axis=0)\n",
    "\n",
    "print(f\"\\nEstadísticas de patrones:\")\n",
    "print(f\"Promedio de pedidos por cliente: {customer_order_patterns.mean():.2f}\")\n",
    "print(f\"Pizza más popular: {pizza_names[pizza_names['pizza_id'] == pizza_popularity.idxmax()]['pizza_name'].iloc[0]}\")\n",
    "print(f\"Pizza menos popular: {pizza_names[pizza_names['pizza_id'] == pizza_popularity.idxmin()]['pizza_name'].iloc[0]}\")"
   ]
  },
  {
   "cell_type": "markdown",
   "id": "ba0e578b",
   "metadata": {},
   "source": [
    "### Análisis Exploratorio y Gráficas"
   ]
  },
  {
   "cell_type": "code",
   "execution_count": null,
   "id": "ccdc1c53",
   "metadata": {},
   "outputs": [],
   "source": [
    "# Análisis exploratorio\n",
    "fig, axes = plt.subplots(2, 3, figsize=(18, 10))\n",
    "\n",
    "# Gráfica 1: Distribución de pedidos por cliente\n",
    "axes[0,0].hist(customer_order_patterns, bins=20, alpha=0.7, color='skyblue')\n",
    "axes[0,0].set_title('Distribución de Pedidos por Cliente')\n",
    "axes[0,0].set_xlabel('Total de Pedidos')\n",
    "axes[0,0].set_ylabel('Frecuencia')\n",
    "\n",
    "# Gráfica 2: Popularidad de pizzas\n",
    "pizza_names_dict = dict(zip(pizza_names['pizza_id'], pizza_names['pizza_name']))\n",
    "pizza_popularity_named = pizza_popularity.rename(pizza_names_dict)\n",
    "axes[0,1].barh(pizza_popularity_named.index, pizza_popularity_named.values, color='lightgreen')\n",
    "axes[0,1].set_title('Popularidad de Pizzas')\n",
    "axes[0,1].set_xlabel('Total de Pedidos')\n",
    "\n",
    "# Gráfica 3: Heatmap de matriz cliente-pizza (muestra)\n",
    "sample_customers = pizza_matrix_norm.head(10)\n",
    "sample_pizzas = pizza_matrix_norm.columns\n",
    "sns.heatmap(sample_customers, annot=True, fmt='.2f', cmap='YlOrRd', ax=axes[0,2])\n",
    "axes[0,2].set_title('Heatmap: Preferencias por Cliente (Muestra)')\n",
    "axes[0,2].set_xlabel('Pizza ID')\n",
    "axes[0,2].set_ylabel('Customer ID')\n",
    "\n",
    "# Gráfica 4: Distribución de frecuencia relativa\n",
    "all_ratings = pizza_matrix_norm.values.flatten()\n",
    "all_ratings = all_ratings[all_ratings > 0]  # Solo ratings positivos\n",
    "axes[1,0].hist(all_ratings, bins=20, alpha=0.7, color='orange')\n",
    "axes[1,0].set_title('Distribución de Frecuencia Relativa')\n",
    "axes[1,0].set_xlabel('Frecuencia Relativa')\n",
    "axes[1,0].set_ylabel('Frecuencia')\n",
    "\n",
    "# Gráfica 5: Clientes con más variedad\n",
    "customer_variety = (pizza_matrix > 0).sum(axis=1)\n",
    "axes[1,1].hist(customer_variety, bins=range(1, 8), alpha=0.7, color='purple')\n",
    "axes[1,1].set_title('Distribución de Variedad de Pizzas por Cliente')\n",
    "axes[1,1].set_xlabel('Número de Pizzas Diferentes Pedidas')\n",
    "axes[1,1].set_ylabel('Frecuencia')\n",
    "\n",
    "# Gráfica 6: Correlación entre pizzas\n",
    "pizza_corr = pizza_matrix.corr()\n",
    "sns.heatmap(pizza_corr, annot=True, fmt='.2f', cmap='coolwarm', ax=axes[1,2])\n",
    "axes[1,2].set_title('Correlación entre Pizzas')\n",
    "\n",
    "plt.tight_layout()\n",
    "plt.show()\n",
    "\n",
    "print(\"Análisis exploratorio completado\")"
   ]
  },
  {
   "cell_type": "markdown",
   "id": "99436d50",
   "metadata": {},
   "source": [
    "### Preparación de Datos para KNN"
   ]
  },
  {
   "cell_type": "code",
   "execution_count": null,
   "id": "348dffcb",
   "metadata": {},
   "outputs": [],
   "source": [
    "# Crear dataset para KNN\n",
    "knn_data = []\n",
    "for customer_id in pizza_matrix_norm.index:\n",
    "    for pizza_id in pizza_matrix_norm.columns:\n",
    "        rating = pizza_matrix_norm.loc[customer_id, pizza_id]\n",
    "        if rating > 0:  # Solo incluir pizzas que el cliente ha pedido\n",
    "            knn_data.append({\n",
    "                'customer_id': customer_id,\n",
    "                'pizza_id': pizza_id,\n",
    "                'rating': rating\n",
    "            })\n",
    "\n",
    "knn_df = pd.DataFrame(knn_data)\n",
    "print(f\"Dataset KNN creado: {len(knn_df)} registros\")\n",
    "print(f\"Clientes únicos en dataset: {knn_df['customer_id'].nunique()}\")\n",
    "print(f\"Pizzas únicas en dataset: {knn_df['pizza_id'].nunique()}\")\n",
    "\n",
    "# Features del cliente (patrón de pedidos)\n",
    "customer_patterns = pizza_matrix_norm.reset_index()\n",
    "customer_features_knn = customer_patterns.drop('customer_id', axis=1)\n",
    "\n",
    "print(f\"Features de cliente: {customer_features_knn.shape}\")"
   ]
  },
  {
   "cell_type": "markdown",
   "id": "752369f0",
   "metadata": {},
   "source": [
    "### División de Datos y Entrenamiento"
   ]
  },
  {
   "cell_type": "code",
   "execution_count": null,
   "id": "f9663b3c",
   "metadata": {},
   "outputs": [],
   "source": [
    "# Para KNN, usamos el patrón de pedidos como features\n",
    "# X_knn debe tener la misma cantidad de muestras que y_knn\n",
    "X_knn = []\n",
    "y_knn = []\n",
    "\n",
    "for _, row in knn_df.iterrows():\n",
    "    customer_id = row['customer_id']\n",
    "    pizza_id = row['pizza_id']\n",
    "    rating = row['rating']\n",
    "    \n",
    "    # Obtener el patrón del cliente\n",
    "    customer_pattern = pizza_matrix_norm.loc[customer_id].values\n",
    "    X_knn.append(customer_pattern)\n",
    "    y_knn.append(rating)\n",
    "\n",
    "X_knn = np.array(X_knn)\n",
    "y_knn = np.array(y_knn)\n",
    "\n",
    "print(f\"Shape de X: {X_knn.shape}\")\n",
    "print(f\"Shape de y: {y_knn.shape}\")\n",
    "\n",
    "# Dividir datos\n",
    "X_train_knn, X_test_knn, y_train_knn, y_test_knn = train_test_split(\n",
    "    X_knn, y_knn, test_size=0.2, random_state=42)\n",
    "\n",
    "print(f\"Datos de entrenamiento: {X_train_knn.shape[0]} muestras\")\n",
    "print(f\"Datos de prueba: {X_test_knn.shape[0]} muestras\")\n",
    "\n",
    "# Entrenar modelo KNN\n",
    "knn_model = KNeighborsRegressor(n_neighbors=5)\n",
    "knn_model.fit(X_train_knn, y_train_knn)\n",
    "\n",
    "print(\"Modelo KNN entrenado exitosamente\")"
   ]
  },
  {
   "cell_type": "markdown",
   "id": "66c57298",
   "metadata": {},
   "source": [
    "### Evaluación del Modelo"
   ]
  },
  {
   "cell_type": "code",
   "execution_count": null,
   "id": "adcc9bcd",
   "metadata": {},
   "outputs": [],
   "source": [
    "# Predicciones\n",
    "y_pred_knn = knn_model.predict(X_test_knn)\n",
    "mse_knn = mean_squared_error(y_test_knn, y_pred_knn)\n",
    "r2_knn = r2_score(y_test_knn, y_pred_knn)\n",
    "rmse_knn = np.sqrt(mse_knn)\n",
    "\n",
    "print(f\"R² Score: {r2_knn:.3f}\")\n",
    "print(f\"RMSE: {rmse_knn:.3f}\")\n",
    "print(f\"Rating promedio real: {y_test_knn.mean():.3f}\")\n",
    "print(f\"Rating promedio predicho: {y_pred_knn.mean():.3f}\")\n",
    "\n",
    "# Análisis de errores\n",
    "errors = y_test_knn - y_pred_knn\n",
    "print(f\"Error promedio: {errors.mean():.3f}\")\n",
    "print(f\"Error absoluto promedio: {abs(errors).mean():.3f}\")"
   ]
  },
  {
   "cell_type": "markdown",
   "id": "ef0ee0f3",
   "metadata": {},
   "source": [
    "###  Gráficas de Evaluación del Modelo"
   ]
  },
  {
   "cell_type": "code",
   "execution_count": null,
   "id": "90727bc3",
   "metadata": {},
   "outputs": [],
   "source": [
    "# Gráficas de evaluación\n",
    "fig, axes = plt.subplots(2, 2, figsize=(15, 10))\n",
    "\n",
    "# Gráfica 1: Predicciones vs Valores reales\n",
    "axes[0,0].scatter(y_test_knn, y_pred_knn, alpha=0.5, color='blue')\n",
    "axes[0,0].plot([y_test_knn.min(), y_test_knn.max()], [y_test_knn.min(), y_test_knn.max()], 'r--', lw=2)\n",
    "axes[0,0].set_title('Predicciones vs Valores Reales')\n",
    "axes[0,0].set_xlabel('Rating Real')\n",
    "axes[0,0].set_ylabel('Rating Predicho')\n",
    "\n",
    "# Gráfica 2: Distribución de errores\n",
    "axes[0,1].hist(errors, bins=30, alpha=0.7, color='green')\n",
    "axes[0,1].set_title('Distribución de Errores de Predicción')\n",
    "axes[0,1].set_xlabel('Error')\n",
    "axes[0,1].set_ylabel('Frecuencia')\n",
    "\n",
    "# Gráfica 3: Residuos vs Predicciones\n",
    "axes[1,0].scatter(y_pred_knn, errors, alpha=0.5, color='orange')\n",
    "axes[1,0].axhline(y=0, color='r', linestyle='--')\n",
    "axes[1,0].set_title('Residuos vs Predicciones')\n",
    "axes[1,0].set_xlabel('Rating Predicho')\n",
    "axes[1,0].set_ylabel('Residuos')\n",
    "\n",
    "# Gráfica 4: Comparación de distribuciones\n",
    "axes[1,1].hist(y_test_knn, bins=20, alpha=0.5, label='Real', color='blue')\n",
    "axes[1,1].hist(y_pred_knn, bins=20, alpha=0.5, label='Predicho', color='red')\n",
    "axes[1,1].set_title('Distribución de Ratings: Real vs Predicho')\n",
    "axes[1,1].set_xlabel('Rating')\n",
    "axes[1,1].set_ylabel('Frecuencia')\n",
    "axes[1,1].legend()\n",
    "\n",
    "plt.tight_layout()\n",
    "plt.show()"
   ]
  },
  {
   "cell_type": "markdown",
   "id": "eb76d1ae",
   "metadata": {},
   "source": [
    "### Función de Recomendación"
   ]
  },
  {
   "cell_type": "code",
   "execution_count": null,
   "id": "bcf1cfc4",
   "metadata": {},
   "outputs": [],
   "source": [
    "# Función para recomendar pizzas a un cliente\n",
    "def recommend_pizzas(customer_id, top_n=3):\n",
    "    \"\"\"\n",
    "    Recomienda pizzas a un cliente basado en clientes similares\n",
    "    \"\"\"\n",
    "    if customer_id not in pizza_matrix_norm.index:\n",
    "        return \"Cliente no encontrado\"\n",
    "    \n",
    "    # Obtener el patrón del cliente\n",
    "    customer_pattern = pizza_matrix_norm.loc[customer_id].values\n",
    "    \n",
    "    # Obtener índices de pizzas no pedidas por el cliente\n",
    "    customer_orders = pizza_matrix.loc[customer_id]\n",
    "    unrated_pizzas = customer_orders[customer_orders == 0].index\n",
    "    \n",
    "    if len(unrated_pizzas) == 0:\n",
    "        return \"Cliente ha pedido todas las pizzas\"\n",
    "    \n",
    "    # Para cada pizza no pedida, predecir el rating\n",
    "    recommendations = []\n",
    "    for pizza_id in unrated_pizzas:\n",
    "        # Crear un patrón modificado donde esta pizza tiene un rating alto\n",
    "        test_pattern = customer_pattern.copy()\n",
    "        pizza_idx = pizza_matrix.columns.get_loc(pizza_id)\n",
    "        test_pattern[pizza_idx] = 0.5  # Asumir un rating medio para esta pizza\n",
    "        \n",
    "        # Predecir el rating\n",
    "        predicted_rating = knn_model.predict([test_pattern])[0]\n",
    "        \n",
    "        pizza_name = pizza_names[pizza_names['pizza_id'] == pizza_id]['pizza_name'].iloc[0]\n",
    "        recommendations.append((pizza_name, predicted_rating))\n",
    "    \n",
    "    # Ordenar por rating predicho\n",
    "    recommendations.sort(key=lambda x: x[1], reverse=True)\n",
    "    return recommendations[:top_n]\n",
    "\n",
    "# Función alternativa más simple\n",
    "def recommend_pizzas_simple(customer_id, top_n=3):\n",
    "    \"\"\"\n",
    "    Versión simplificada: recomendar basado en popularidad de pizzas no pedidas\n",
    "    \"\"\"\n",
    "    if customer_id not in pizza_matrix_norm.index:\n",
    "        return \"Cliente no encontrado\"\n",
    "    \n",
    "    # Obtener pizzas no pedidas por el cliente\n",
    "    customer_orders = pizza_matrix.loc[customer_id]\n",
    "    unrated_pizzas = customer_orders[customer_orders == 0].index\n",
    "    \n",
    "    if len(unrated_pizzas) == 0:\n",
    "        return \"Cliente ha pedido todas las pizzas\"\n",
    "    \n",
    "    # Recomendar basado en popularidad general\n",
    "    recommendations = []\n",
    "    for pizza_id in unrated_pizzas:\n",
    "        popularity = pizza_matrix[pizza_id].sum()  # Total de pedidos de esta pizza\n",
    "        pizza_name = pizza_names[pizza_names['pizza_id'] == pizza_id]['pizza_name'].iloc[0]\n",
    "        recommendations.append((pizza_name, popularity))\n",
    "    \n",
    "    # Ordenar por popularidad\n",
    "    recommendations.sort(key=lambda x: x[1], reverse=True)\n",
    "    return recommendations[:top_n]\n",
    "\n",
    "# Función para encontrar clientes similares\n",
    "def find_similar_customers(customer_id, top_n=5):\n",
    "    \"\"\"\n",
    "    Encuentra clientes con patrones de pedidos similares\n",
    "    \"\"\"\n",
    "    if customer_id not in pizza_matrix_norm.index:\n",
    "        return \"Cliente no encontrado\"\n",
    "    \n",
    "    customer_pattern = pizza_matrix_norm.loc[customer_id].values.reshape(1, -1)\n",
    "    distances, indices = knn_model.kneighbors(customer_pattern, n_neighbors=top_n+1)\n",
    "    \n",
    "    similar_customers = []\n",
    "    for i in range(1, len(indices[0])):  # Excluir el cliente mismo\n",
    "        similar_customer_id = pizza_matrix_norm.index[indices[0][i]]\n",
    "        distance = distances[0][i]\n",
    "        similar_customers.append((similar_customer_id, distance))\n",
    "    \n",
    "    return similar_customers\n",
    "\n",
    "print(\"Funciones de recomendación creadas\")"
   ]
  },
  {
   "cell_type": "markdown",
   "id": "fb9d098b",
   "metadata": {},
   "source": [
    "### Ejemplos de Recomendaciones"
   ]
  },
  {
   "cell_type": "code",
   "execution_count": null,
   "id": "d6beb14d",
   "metadata": {},
   "outputs": [],
   "source": [
    "# Ejemplos de recomendaciones\n",
    "print(\"Ejemplos de recomendaciones:\")\n",
    "\n",
    "# Cliente 1\n",
    "sample_customer_1 = pizza_matrix_norm.index[0]\n",
    "recommendations_1 = recommend_pizzas_simple(sample_customer_1)\n",
    "print(f\"\\nRecomendaciones para cliente {sample_customer_1}:\")\n",
    "if isinstance(recommendations_1, list):\n",
    "    for pizza, rating in recommendations_1:\n",
    "        print(f\"  - {pizza}: {rating:.0f} pedidos totales\")\n",
    "else:\n",
    "    print(f\"  {recommendations_1}\")\n",
    "\n",
    "# Cliente 2\n",
    "sample_customer_2 = pizza_matrix_norm.index[5]\n",
    "recommendations_2 = recommend_pizzas_simple(sample_customer_2)\n",
    "print(f\"\\nRecomendaciones para cliente {sample_customer_2}:\")\n",
    "if isinstance(recommendations_2, list):\n",
    "    for pizza, rating in recommendations_2:\n",
    "        print(f\"  - {pizza}: {rating:.0f} pedidos totales\")\n",
    "else:\n",
    "    print(f\"  {recommendations_2}\")\n",
    "\n",
    "# Clientes similares\n",
    "similar_customers = find_similar_customers(sample_customer_1)\n",
    "print(f\"\\nClientes similares al cliente {sample_customer_1}:\")\n",
    "for customer_id, distance in similar_customers:\n",
    "    print(f\"  - Cliente {customer_id}: distancia {distance:.3f}\")"
   ]
  },
  {
   "cell_type": "markdown",
   "id": "0a17f9d8",
   "metadata": {},
   "source": [
    "### Corregido: Análisis de Casos de Uso"
   ]
  },
  {
   "cell_type": "code",
   "execution_count": null,
   "id": "9eb965cb",
   "metadata": {},
   "outputs": [],
   "source": [
    "# Análisis de casos de uso\n",
    "print(\"\\nCasos de uso del sistema de recomendaciones:\")\n",
    "print(\"1. Cross-selling: Recomendar pizzas complementarias\")\n",
    "print(\"2. Personalización: Ofertas específicas por cliente\")\n",
    "print(\"3. Retención: Sugerir nuevas opciones a clientes regulares\")\n",
    "print(\"4. Adquisición: Identificar pizzas 'puente' para nuevos clientes\")\n",
    "print(\"5. Análisis de mercado: Entender patrones de preferencias\")\n",
    "\n",
    "# Estadísticas del sistema\n",
    "total_recommendations = 0\n",
    "customers_with_recommendations = 0\n",
    "\n",
    "for customer_id in pizza_matrix_norm.index[:10]:  # Muestra de 10 clientes\n",
    "    recommendations = recommend_pizzas_simple(customer_id)\n",
    "    if isinstance(recommendations, list):\n",
    "        total_recommendations += len(recommendations)\n",
    "        customers_with_recommendations += 1\n",
    "\n",
    "print(f\"\\nEstadísticas del sistema (muestra de 10 clientes):\")\n",
    "print(f\"Clientes con recomendaciones: {customers_with_recommendations}/10\")\n",
    "print(f\"Total de recomendaciones generadas: {total_recommendations}\")\n",
    "\n",
    "# Análisis de popularidad de pizzas\n",
    "print(f\"\\nAnálisis de popularidad de pizzas:\")\n",
    "pizza_popularity = pizza_matrix.sum(axis=0).sort_values(ascending=False)\n",
    "for pizza_id, popularity in pizza_popularity.items():\n",
    "    pizza_name = pizza_names[pizza_names['pizza_id'] == pizza_id]['pizza_name'].iloc[0]\n",
    "    print(f\"  - {pizza_name}: {popularity} pedidos\")\n",
    "\n",
    "print(\"\\nModelo 3 completado exitosamente!\")"
   ]
  },
  {
   "cell_type": "code",
   "execution_count": null,
   "id": "bc92c173",
   "metadata": {},
   "outputs": [],
   "source": [
    "import matplotlib.pyplot as plt\n",
    "from sklearn.cluster import KMeans\n",
    "from sklearn.preprocessing import StandardScaler\n",
    "\n",
    "# ===============================\n",
    "# K-MEDIAS en Danny's Pizza (versión sin precios)\n",
    "# ===============================\n",
    "\n",
    "# === 1. Clientes: segmentación por frecuencia y variedad de pizzas ===\n",
    "query_customers = \"\"\"\n",
    "SELECT c.customer_id,\n",
    "       COUNT(DISTINCT c.order_id) AS total_orders,\n",
    "       COUNT(DISTINCT c.pizza_id) AS unique_pizzas\n",
    "FROM customer_orders c\n",
    "GROUP BY c.customer_id\n",
    "\"\"\"\n",
    "customers = pd.read_sql_query(query_customers, conn)\n",
    "\n",
    "X_cust = customers[['total_orders', 'unique_pizzas']]\n",
    "scaler = StandardScaler()\n",
    "X_cust_scaled = scaler.fit_transform(X_cust)\n",
    "\n",
    "kmeans_cust = KMeans(n_clusters=3, random_state=42, n_init=10)\n",
    "customers['cluster'] = kmeans_cust.fit_predict(X_cust_scaled)\n",
    "\n",
    "plt.scatter(X_cust_scaled[:, 0], X_cust_scaled[:, 1], \n",
    "            c=customers['cluster'], cmap='viridis', s=100)\n",
    "plt.xlabel(\"Órdenes (escaladas)\")\n",
    "plt.ylabel(\"Variedad de pizzas (escalada)\")\n",
    "plt.title(\"Clusters de Clientes\")\n",
    "plt.show()\n",
    "\n",
    "print(\"Resumen de clientes por cluster:\")\n",
    "print(customers.groupby('cluster')[['total_orders', 'unique_pizzas']].mean())\n",
    "\n",
    "\n",
    "# === 2. Tipos de pizzas: segmentación por popularidad ===\n",
    "query_pizzas = \"\"\"\n",
    "SELECT p.pizza_name,\n",
    "       COUNT(c.order_id) AS times_ordered\n",
    "FROM customer_orders c\n",
    "JOIN pizza_names p ON c.pizza_id = p.pizza_id\n",
    "GROUP BY p.pizza_name\n",
    "\"\"\"\n",
    "pizza_stats = pd.read_sql_query(query_pizzas, conn)\n",
    "\n",
    "X_pizza = pizza_stats[['times_ordered']]\n",
    "X_pizza_scaled = scaler.fit_transform(X_pizza)\n",
    "\n",
    "kmeans_pizza = KMeans(n_clusters=3, random_state=42, n_init=10)\n",
    "pizza_stats['cluster'] = kmeans_pizza.fit_predict(X_pizza_scaled)\n",
    "\n",
    "plt.scatter(X_pizza_scaled[:, 0], [0]*len(X_pizza_scaled), \n",
    "            c=pizza_stats['cluster'], cmap='plasma', s=120)\n",
    "plt.xlabel(\"Popularidad (escalada)\")\n",
    "plt.title(\"Clusters de Pizzas\")\n",
    "plt.show()\n",
    "\n",
    "print(\"Resumen de pizzas por cluster:\")\n",
    "print(pizza_stats.groupby('cluster')['times_ordered'].mean())\n",
    "\n",
    "\n",
    "# === 3. Pedidos: segmentación por tamaño de la orden ===\n",
    "query_orders = \"\"\"\n",
    "SELECT c.order_id,\n",
    "       COUNT(c.pizza_id) AS items_count\n",
    "FROM customer_orders c\n",
    "GROUP BY c.order_id\n",
    "\"\"\"\n",
    "orders_stats = pd.read_sql_query(query_orders, conn)\n",
    "\n",
    "X_orders = orders_stats[['items_count']]\n",
    "X_orders_scaled = scaler.fit_transform(X_orders)\n",
    "\n",
    "kmeans_orders = KMeans(n_clusters=3, random_state=42, n_init=10)\n",
    "orders_stats['cluster'] = kmeans_orders.fit_predict(X_orders_scaled)\n",
    "\n",
    "plt.scatter(X_orders_scaled[:, 0], [0]*len(X_orders_scaled), \n",
    "            c=orders_stats['cluster'], cmap='cool', s=120)\n",
    "plt.xlabel(\"Cantidad de pizzas por pedido (escalado)\")\n",
    "plt.title(\"Clusters de Pedidos\")\n",
    "plt.show()\n",
    "\n",
    "print(\"Resumen de pedidos por cluster:\")\n",
    "print(orders_stats.groupby('cluster')['items_count'].mean())"
   ]
  },
  {
   "cell_type": "markdown",
   "id": "9c9b3f1c",
   "metadata": {},
   "source": [
    "## Modelo 4: Random Forest - Predicción de Demanda"
   ]
  },
  {
   "cell_type": "markdown",
   "id": "fcd43bf8",
   "metadata": {},
   "source": [
    "### Creación de Dataset de Demanda por Hora"
   ]
  },
  {
   "cell_type": "code",
   "execution_count": null,
   "id": "cc1433f3",
   "metadata": {},
   "outputs": [],
   "source": [
    "# =============================================================================\n",
    "# MODELO 4: RANDOM FOREST - PREDICCIÓN DE DEMANDA\n",
    "# =============================================================================\n",
    "\n",
    "print(\"MODELO 4: Predicción de Demanda por Horario\")\n",
    "\n",
    "# Crear dataset de demanda por hora - versión alternativa\n",
    "demand_data = delivered_orders.copy()\n",
    "demand_data['date'] = demand_data['order_date'].dt.date\n",
    "demand_data['hour'] = demand_data['order_date'].dt.hour\n",
    "\n",
    "# Agrupar por fecha y hora\n",
    "demand_data = demand_data.groupby(['date', 'hour']).size().reset_index()\n",
    "demand_data.columns = ['date', 'hour', 'order_count']\n",
    "\n",
    "print(f\"Dataset de demanda creado: {len(demand_data)} registros\")\n",
    "print(f\"Rango de fechas: {demand_data['date'].min()} a {demand_data['date'].max()}\")\n",
    "print(f\"Horas únicas: {demand_data['hour'].nunique()}\")\n",
    "print(demand_data.head())"
   ]
  },
  {
   "cell_type": "markdown",
   "id": "14f2bc33",
   "metadata": {},
   "source": [
    "### Creación de Features Temporales"
   ]
  },
  {
   "cell_type": "code",
   "execution_count": null,
   "id": "0d504f75",
   "metadata": {},
   "outputs": [],
   "source": [
    "# Features temporales\n",
    "demand_data['day_of_week'] = pd.to_datetime(demand_data['date']).dt.dayofweek\n",
    "demand_data['is_weekend'] = (demand_data['day_of_week'] >= 5).astype(int)\n",
    "demand_data['month'] = pd.to_datetime(demand_data['date']).dt.month\n",
    "demand_data['is_lunch'] = ((demand_data['hour'] >= 11) & (demand_data['hour'] <= 14)).astype(int)\n",
    "demand_data['is_dinner'] = ((demand_data['hour'] >= 18) & (demand_data['hour'] <= 21)).astype(int)\n",
    "demand_data['is_breakfast'] = ((demand_data['hour'] >= 7) & (demand_data['hour'] <= 10)).astype(int)\n",
    "demand_data['is_late_night'] = ((demand_data['hour'] >= 22) | (demand_data['hour'] <= 2)).astype(int)\n",
    "\n",
    "# Features adicionales\n",
    "demand_data['hour_squared'] = demand_data['hour'] ** 2  # Para capturar no-linealidad\n",
    "demand_data['weekend_hour'] = demand_data['is_weekend'] * demand_data['hour']  # Interacción\n",
    "\n",
    "print(\"Features temporales creadas:\")\n",
    "print(demand_data[['date', 'hour', 'day_of_week', 'is_weekend', 'month', \n",
    "                  'is_lunch', 'is_dinner', 'is_breakfast', 'is_late_night']].head())"
   ]
  },
  {
   "cell_type": "markdown",
   "id": "1f387464",
   "metadata": {},
   "source": [
    "### Análisis Exploratorio y Gráficas"
   ]
  },
  {
   "cell_type": "code",
   "execution_count": null,
   "id": "4919aeb5",
   "metadata": {},
   "outputs": [],
   "source": [
    "# Análisis exploratorio\n",
    "fig, axes = plt.subplots(2, 3, figsize=(18, 10))\n",
    "\n",
    "# Gráfica 1: Distribución de demanda\n",
    "axes[0,0].hist(demand_data['order_count'], bins=30, alpha=0.7, color='skyblue')\n",
    "axes[0,0].set_title('Distribución de Demanda por Hora')\n",
    "axes[0,0].set_xlabel('Número de Pedidos')\n",
    "axes[0,0].set_ylabel('Frecuencia')\n",
    "\n",
    "# Gráfica 2: Demanda por día de la semana\n",
    "day_names = ['Lun', 'Mar', 'Mié', 'Jue', 'Vie', 'Sáb', 'Dom']\n",
    "demand_by_day = demand_data.groupby('day_of_week')['order_count'].mean()\n",
    "axes[0,1].bar(day_names, demand_by_day, color='lightgreen')\n",
    "axes[0,1].set_title('Demanda Promedio por Día de la Semana')\n",
    "axes[0,1].set_ylabel('Pedidos Promedio')\n",
    "\n",
    "# Gráfica 3: Demanda por hora del día\n",
    "demand_by_hour = demand_data.groupby('hour')['order_count'].mean()\n",
    "axes[0,2].plot(demand_by_hour.index, demand_by_hour.values, marker='o', color='orange')\n",
    "axes[0,2].set_title('Demanda Promedio por Hora del Día')\n",
    "axes[0,2].set_xlabel('Hora')\n",
    "axes[0,2].set_ylabel('Pedidos Promedio')\n",
    "\n",
    "# Gráfica 4: Demanda por mes\n",
    "demand_by_month = demand_data.groupby('month')['order_count'].mean()\n",
    "month_names = ['Ene', 'Feb', 'Mar', 'Abr', 'May', 'Jun', 'Jul', 'Ago', 'Sep', 'Oct', 'Nov', 'Dic']\n",
    "axes[1,0].bar(range(1, 13), [demand_by_month.get(i, 0) for i in range(1, 13)], color='lightcoral')\n",
    "axes[1,0].set_title('Demanda Promedio por Mes')\n",
    "axes[1,0].set_xlabel('Mes')\n",
    "axes[1,0].set_ylabel('Pedidos Promedio')\n",
    "\n",
    "# Gráfica 5: Comparación fin de semana vs día de semana\n",
    "weekend_comparison = demand_data.groupby('is_weekend')['order_count'].mean()\n",
    "axes[1,1].bar(['Día de Semana', 'Fin de Semana'], weekend_comparison.values, color=['lightblue', 'darkblue'])\n",
    "axes[1,1].set_title('Demanda: Día de Semana vs Fin de Semana')\n",
    "axes[1,1].set_ylabel('Pedidos Promedio')\n",
    "\n",
    "# Gráfica 6: Heatmap de demanda por día y hora\n",
    "pivot_demand = demand_data.groupby(['day_of_week', 'hour'])['order_count'].mean().unstack()\n",
    "sns.heatmap(pivot_demand, annot=True, fmt='.1f', cmap='YlOrRd', ax=axes[1,2])\n",
    "axes[1,2].set_title('Heatmap: Demanda por Día y Hora')\n",
    "axes[1,2].set_xlabel('Hora')\n",
    "axes[1,2].set_ylabel('Día de la Semana')\n",
    "\n",
    "plt.tight_layout()\n",
    "plt.show()\n",
    "\n",
    "print(\"Análisis exploratorio completado\")"
   ]
  },
  {
   "cell_type": "markdown",
   "id": "c7111d4b",
   "metadata": {},
   "source": [
    "### Preparación de Features para el Modelo"
   ]
  },
  {
   "cell_type": "code",
   "execution_count": null,
   "id": "ead3d5ed",
   "metadata": {},
   "outputs": [],
   "source": [
    "# Features para el modelo\n",
    "X_demand = demand_data[['hour', 'day_of_week', 'is_weekend', 'month', \n",
    "                       'is_lunch', 'is_dinner', 'is_breakfast', 'is_late_night',\n",
    "                       'hour_squared', 'weekend_hour']]\n",
    "y_demand = demand_data['order_count']\n",
    "\n",
    "print(\"Features seleccionadas para el modelo:\")\n",
    "print(X_demand.columns.tolist())\n",
    "print(f\"Shape de X: {X_demand.shape}\")\n",
    "print(f\"Shape de y: {y_demand.shape}\")\n",
    "\n",
    "# Verificar valores faltantes\n",
    "print(f\"Valores faltantes en X: {X_demand.isnull().sum().sum()}\")\n",
    "print(f\"Valores faltantes en y: {y_demand.isnull().sum()}\")\n",
    "\n",
    "# Estadísticas básicas\n",
    "print(f\"\\nEstadísticas de demanda:\")\n",
    "print(f\"Demanda promedio: {y_demand.mean():.2f}\")\n",
    "print(f\"Demanda máxima: {y_demand.max()}\")\n",
    "print(f\"Demanda mínima: {y_demand.min()}\")\n",
    "print(f\"Desviación estándar: {y_demand.std():.2f}\")"
   ]
  },
  {
   "cell_type": "markdown",
   "id": "7f51abea",
   "metadata": {},
   "source": [
    "###  División de Datos y Entrenamiento"
   ]
  },
  {
   "cell_type": "code",
   "execution_count": null,
   "id": "a3c06043",
   "metadata": {},
   "outputs": [],
   "source": []
  },
  {
   "cell_type": "code",
   "execution_count": null,
   "id": "767a425b",
   "metadata": {},
   "outputs": [],
   "source": [
    "# Dividir datos\n",
    "scaler = StandardScaler()\n",
    "X_demand = scaler.fit_transform(X_demand)\n",
    "\n",
    "y_demand = scaler.fit_transform(y_demand.values.reshape(-1, 1)).ravel()\n",
    "X_train_demand, X_test_demand, y_train_demand, y_test_demand = train_test_split(\n",
    "    X_demand, y_demand, test_size=0.2, random_state=42)\n",
    "\n",
    "\n",
    "print(f\"Datos de entrenamiento: {X_train_demand.shape[0]} muestras\")\n",
    "print(f\"Datos de prueba: {X_test_demand.shape[0]} muestras\")\n",
    "\n",
    "# Entrenar modelo Random Forest\n",
    "rf_model = RandomForestRegressor(n_estimators=100, random_state=42, max_depth=10)\n",
    "rf_model.fit(X_train_demand, y_train_demand)\n",
    "\n",
    "print(\"Modelo Random Forest entrenado exitosamente\")\n",
    "print(f\"R² Score en entrenamiento: {rf_model.score(X_train_demand, y_train_demand):.3f}\")"
   ]
  },
  {
   "cell_type": "markdown",
   "id": "4960881f",
   "metadata": {},
   "source": [
    "### Evaluación del Modelo"
   ]
  },
  {
   "cell_type": "code",
   "execution_count": null,
   "id": "842284b4",
   "metadata": {},
   "outputs": [],
   "source": [
    "# Predicciones\n",
    "y_pred_demand = rf_model.predict(X_test_demand)\n",
    "mse_demand = mean_squared_error(y_test_demand, y_pred_demand)\n",
    "r2_demand = r2_score(y_test_demand, y_pred_demand)\n",
    "rmse_demand = np.sqrt(mse_demand)\n",
    "\n",
    "print(f\"R² Score: {r2_demand:.3f}\")\n",
    "print(f\"RMSE: {rmse_demand:.2f} pedidos\")\n",
    "print(f\"Demanda promedio real: {y_test_demand.mean():.2f}\")\n",
    "print(f\"Demanda promedio predicha: {y_pred_demand.mean():.2f}\")\n",
    "\n",
    "# Análisis de errores\n",
    "errors = y_test_demand - y_pred_demand\n",
    "print(f\"Error promedio: {errors.mean():.2f}\")\n",
    "print(f\"Error absoluto promedio: {abs(errors).mean():.2f}\")\n",
    "\n",
    "# Mostrar importancia de features\n",
    "feature_names_demand = ['hour', 'day_of_week', 'is_weekend', 'month', \n",
    "                       'is_lunch', 'is_dinner', 'is_breakfast', 'is_late_night',\n",
    "                       'hour_squared', 'weekend_hour']\n",
    "importance_demand = pd.DataFrame({\n",
    "    'feature': feature_names_demand,\n",
    "    'importance': rf_model.feature_importances_\n",
    "}).sort_values('importance', ascending=False)\n",
    "\n",
    "print(\"\\nFeatures más importantes:\")\n",
    "print(importance_demand)"
   ]
  },
  {
   "cell_type": "markdown",
   "id": "02230afe",
   "metadata": {},
   "source": [
    "### Gráficas de Evaluación del Modelo"
   ]
  },
  {
   "cell_type": "code",
   "execution_count": null,
   "id": "956c5925",
   "metadata": {},
   "outputs": [],
   "source": [
    "# Gráficas de evaluación\n",
    "fig, axes = plt.subplots(2, 2, figsize=(15, 10))\n",
    "\n",
    "# Gráfica 1: Predicciones vs Valores reales\n",
    "axes[0,0].scatter(y_test_demand, y_pred_demand, alpha=0.5, color='blue')\n",
    "axes[0,0].plot([y_test_demand.min(), y_test_demand.max()], [y_test_demand.min(), y_test_demand.max()], 'r--', lw=2)\n",
    "axes[0,0].set_title('Predicciones vs Valores Reales')\n",
    "axes[0,0].set_xlabel('Demanda Real')\n",
    "axes[0,0].set_ylabel('Demanda Predicha')\n",
    "\n",
    "# Gráfica 2: Distribución de errores\n",
    "axes[0,1].hist(errors, bins=30, alpha=0.7, color='green')\n",
    "axes[0,1].set_title('Distribución de Errores de Predicción')\n",
    "axes[0,1].set_xlabel('Error')\n",
    "axes[0,1].set_ylabel('Frecuencia')\n",
    "\n",
    "# Gráfica 3: Residuos vs Predicciones\n",
    "axes[1,0].scatter(y_pred_demand, errors, alpha=0.5, color='orange')\n",
    "axes[1,0].axhline(y=0, color='r', linestyle='--')\n",
    "axes[1,0].set_title('Residuos vs Predicciones')\n",
    "axes[1,0].set_xlabel('Demanda Predicha')\n",
    "axes[1,0].set_ylabel('Residuos')\n",
    "\n",
    "# Gráfica 4: Importancia de features\n",
    "importance_abs = importance_demand.copy()\n",
    "importance_abs = importance_abs.sort_values('importance', ascending=True)\n",
    "axes[1,1].barh(importance_abs['feature'], importance_abs['importance'])\n",
    "axes[1,1].set_title('Importancia de Features')\n",
    "axes[1,1].set_xlabel('Importancia')\n",
    "\n",
    "plt.tight_layout()\n",
    "plt.show()"
   ]
  },
  {
   "cell_type": "markdown",
   "id": "9562f3ad",
   "metadata": {},
   "source": [
    "### Función de Predicción y Casos de Uso"
   ]
  },
  {
   "cell_type": "code",
   "execution_count": null,
   "id": "ca278edd",
   "metadata": {},
   "outputs": [],
   "source": [
    "# Función para predecir demanda en un horario específico\n",
    "def predict_demand(hour, day_of_week, is_weekend=None, month=6):\n",
    "    \"\"\"\n",
    "    Predice la demanda de pedidos para un horario específico\n",
    "    \"\"\"\n",
    "    if is_weekend is None:\n",
    "        is_weekend = 1 if day_of_week >= 5 else 0\n",
    "    \n",
    "    is_lunch = 1 if 11 <= hour <= 14 else 0\n",
    "    is_dinner = 1 if 18 <= hour <= 21 else 0\n",
    "    is_breakfast = 1 if 7 <= hour <= 10 else 0\n",
    "    is_late_night = 1 if hour >= 22 or hour <= 2 else 0\n",
    "    hour_squared = hour ** 2\n",
    "    weekend_hour = is_weekend * hour\n",
    "    \n",
    "    features = np.array([[hour, day_of_week, is_weekend, month, \n",
    "                         is_lunch, is_dinner, is_breakfast, is_late_night,\n",
    "                         hour_squared, weekend_hour]])\n",
    "    \n",
    "    prediction = rf_model.predict(features)[0]\n",
    "    return max(0, round(prediction))\n",
    "\n",
    "# Ejemplos de predicción\n",
    "print(\"Ejemplos de predicción de demanda:\")\n",
    "print(f\"Viernes 19:00: {predict_demand(19, 4, 0, 6)} pedidos\")\n",
    "print(f\"Sábado 12:00: {predict_demand(12, 5, 1, 6)} pedidos\")\n",
    "print(f\"Lunes 09:00: {predict_demand(9, 0, 0, 6)} pedidos\")\n",
    "print(f\"Domingo 20:00: {predict_demand(20, 6, 1, 6)} pedidos\")\n",
    "\n",
    "# Análisis de casos de uso\n",
    "print(\"\\nCasos de uso del modelo de predicción de demanda:\")\n",
    "print(\"1. Programación de personal: Optimizar staffing por horarios\")\n",
    "print(\"2. Gestión de inventario: Predecir demanda de ingredientes\")\n",
    "print(\"3. Marketing: Campañas en horarios de baja demanda\")\n",
    "print(\"4. Operaciones: Planificación de cocina y delivery\")\n",
    "print(\"5. Análisis de rentabilidad: Identificar horarios más rentables\")"
   ]
  },
  {
   "cell_type": "markdown",
   "id": "2e9ecc95",
   "metadata": {},
   "source": [
    "### Análisis de Patrones Temporales"
   ]
  },
  {
   "cell_type": "code",
   "execution_count": null,
   "id": "47f8c066",
   "metadata": {},
   "outputs": [],
   "source": [
    "# Análisis de patrones temporales\n",
    "print(\"\\nAnálisis de patrones temporales:\")\n",
    "\n",
    "# Horarios pico\n",
    "peak_hours = demand_data.groupby('hour')['order_count'].mean().sort_values(ascending=False)\n",
    "print(f\"Top 5 horarios pico:\")\n",
    "for hour, demand in peak_hours.head().items():\n",
    "    print(f\"  - {hour}:00 - {demand:.1f} pedidos promedio\")\n",
    "\n",
    "# Días más demandados\n",
    "peak_days = demand_data.groupby('day_of_week')['order_count'].mean().sort_values(ascending=False)\n",
    "day_names = ['Lunes', 'Martes', 'Miércoles', 'Jueves', 'Viernes', 'Sábado', 'Domingo']\n",
    "print(f\"\\nDías más demandados:\")\n",
    "for day, demand in peak_days.items():\n",
    "    print(f\"  - {day_names[day]}: {demand:.1f} pedidos promedio\")\n",
    "\n",
    "# Comparación fin de semana vs día de semana\n",
    "weekday_avg = demand_data[demand_data['is_weekend'] == 0]['order_count'].mean()\n",
    "weekend_avg = demand_data[demand_data['is_weekend'] == 1]['order_count'].mean()\n",
    "print(f\"\\nComparación:\")\n",
    "print(f\"  - Día de semana: {weekday_avg:.1f} pedidos promedio\")\n",
    "print(f\"  - Fin de semana: {weekend_avg:.1f} pedidos promedio\")\n",
    "print(f\"  - Diferencia: {((weekend_avg - weekday_avg) / weekday_avg * 100):.1f}%\")\n",
    "\n",
    "print(\"\\nModelo 4 completado exitosamente!\")"
   ]
  }
 ],
 "metadata": {
  "colab": {
   "provenance": []
  },
  "kernelspec": {
   "display_name": "Python 3",
   "language": "python",
   "name": "python3"
  },
  "language_info": {
   "codemirror_mode": {
    "name": "ipython",
    "version": 3
   },
   "file_extension": ".py",
   "mimetype": "text/x-python",
   "name": "python",
   "nbconvert_exporter": "python",
   "pygments_lexer": "ipython3",
   "version": "3.13.5"
  }
 },
 "nbformat": 4,
 "nbformat_minor": 5
}
