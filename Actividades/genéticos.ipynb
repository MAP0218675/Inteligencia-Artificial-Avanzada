{
 "cells": [
  {
   "cell_type": "code",
   "execution_count": 116,
   "metadata": {},
   "outputs": [],
   "source": [
    "import numpy as np\n",
    "import plotly.graph_objects as go\n",
    "import matplotlib.pyplot as plt\n",
    "from tabulate import tabulate\n",
    "import pandas as pd\n",
    "from great_tables import GT, loc, style"
   ]
  },
  {
   "cell_type": "code",
   "execution_count": 117,
   "metadata": {},
   "outputs": [],
   "source": [
    "file = np.load(\"mkb_data.npz\")\n",
    "m_limits = [0, 10]; k_limits = m_limits; b_limits = m_limits"
   ]
  },
  {
   "cell_type": "code",
   "execution_count": 118,
   "metadata": {},
   "outputs": [],
   "source": [
    "t_values = file[\"t\"]\n",
    "y_values = file[\"y\"]"
   ]
  },
  {
   "cell_type": "code",
   "execution_count": 119,
   "metadata": {},
   "outputs": [
    {
     "data": {
      "application/vnd.plotly.v1+json": {
       "config": {
        "plotlyServerURL": "https://plot.ly"
       },
       "data": [
        {
         "type": "scatter",
         "x": {
          "bdata": "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",
          "dtype": "f8"
         },
         "y": {
          "bdata": "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",
          "dtype": "f8"
         }
        }
       ],
       "layout": {
        "template": {
         "data": {
          "bar": [
           {
            "error_x": {
             "color": "#f2f5fa"
            },
            "error_y": {
             "color": "#f2f5fa"
            },
            "marker": {
             "line": {
              "color": "rgb(17,17,17)",
              "width": 0.5
             },
             "pattern": {
              "fillmode": "overlay",
              "size": 10,
              "solidity": 0.2
             }
            },
            "type": "bar"
           }
          ],
          "barpolar": [
           {
            "marker": {
             "line": {
              "color": "rgb(17,17,17)",
              "width": 0.5
             },
             "pattern": {
              "fillmode": "overlay",
              "size": 10,
              "solidity": 0.2
             }
            },
            "type": "barpolar"
           }
          ],
          "carpet": [
           {
            "aaxis": {
             "endlinecolor": "#A2B1C6",
             "gridcolor": "#506784",
             "linecolor": "#506784",
             "minorgridcolor": "#506784",
             "startlinecolor": "#A2B1C6"
            },
            "baxis": {
             "endlinecolor": "#A2B1C6",
             "gridcolor": "#506784",
             "linecolor": "#506784",
             "minorgridcolor": "#506784",
             "startlinecolor": "#A2B1C6"
            },
            "type": "carpet"
           }
          ],
          "choropleth": [
           {
            "colorbar": {
             "outlinewidth": 0,
             "ticks": ""
            },
            "type": "choropleth"
           }
          ],
          "contour": [
           {
            "colorbar": {
             "outlinewidth": 0,
             "ticks": ""
            },
            "colorscale": [
             [
              0,
              "#0d0887"
             ],
             [
              0.1111111111111111,
              "#46039f"
             ],
             [
              0.2222222222222222,
              "#7201a8"
             ],
             [
              0.3333333333333333,
              "#9c179e"
             ],
             [
              0.4444444444444444,
              "#bd3786"
             ],
             [
              0.5555555555555556,
              "#d8576b"
             ],
             [
              0.6666666666666666,
              "#ed7953"
             ],
             [
              0.7777777777777778,
              "#fb9f3a"
             ],
             [
              0.8888888888888888,
              "#fdca26"
             ],
             [
              1,
              "#f0f921"
             ]
            ],
            "type": "contour"
           }
          ],
          "contourcarpet": [
           {
            "colorbar": {
             "outlinewidth": 0,
             "ticks": ""
            },
            "type": "contourcarpet"
           }
          ],
          "heatmap": [
           {
            "colorbar": {
             "outlinewidth": 0,
             "ticks": ""
            },
            "colorscale": [
             [
              0,
              "#0d0887"
             ],
             [
              0.1111111111111111,
              "#46039f"
             ],
             [
              0.2222222222222222,
              "#7201a8"
             ],
             [
              0.3333333333333333,
              "#9c179e"
             ],
             [
              0.4444444444444444,
              "#bd3786"
             ],
             [
              0.5555555555555556,
              "#d8576b"
             ],
             [
              0.6666666666666666,
              "#ed7953"
             ],
             [
              0.7777777777777778,
              "#fb9f3a"
             ],
             [
              0.8888888888888888,
              "#fdca26"
             ],
             [
              1,
              "#f0f921"
             ]
            ],
            "type": "heatmap"
           }
          ],
          "histogram": [
           {
            "marker": {
             "pattern": {
              "fillmode": "overlay",
              "size": 10,
              "solidity": 0.2
             }
            },
            "type": "histogram"
           }
          ],
          "histogram2d": [
           {
            "colorbar": {
             "outlinewidth": 0,
             "ticks": ""
            },
            "colorscale": [
             [
              0,
              "#0d0887"
             ],
             [
              0.1111111111111111,
              "#46039f"
             ],
             [
              0.2222222222222222,
              "#7201a8"
             ],
             [
              0.3333333333333333,
              "#9c179e"
             ],
             [
              0.4444444444444444,
              "#bd3786"
             ],
             [
              0.5555555555555556,
              "#d8576b"
             ],
             [
              0.6666666666666666,
              "#ed7953"
             ],
             [
              0.7777777777777778,
              "#fb9f3a"
             ],
             [
              0.8888888888888888,
              "#fdca26"
             ],
             [
              1,
              "#f0f921"
             ]
            ],
            "type": "histogram2d"
           }
          ],
          "histogram2dcontour": [
           {
            "colorbar": {
             "outlinewidth": 0,
             "ticks": ""
            },
            "colorscale": [
             [
              0,
              "#0d0887"
             ],
             [
              0.1111111111111111,
              "#46039f"
             ],
             [
              0.2222222222222222,
              "#7201a8"
             ],
             [
              0.3333333333333333,
              "#9c179e"
             ],
             [
              0.4444444444444444,
              "#bd3786"
             ],
             [
              0.5555555555555556,
              "#d8576b"
             ],
             [
              0.6666666666666666,
              "#ed7953"
             ],
             [
              0.7777777777777778,
              "#fb9f3a"
             ],
             [
              0.8888888888888888,
              "#fdca26"
             ],
             [
              1,
              "#f0f921"
             ]
            ],
            "type": "histogram2dcontour"
           }
          ],
          "mesh3d": [
           {
            "colorbar": {
             "outlinewidth": 0,
             "ticks": ""
            },
            "type": "mesh3d"
           }
          ],
          "parcoords": [
           {
            "line": {
             "colorbar": {
              "outlinewidth": 0,
              "ticks": ""
             }
            },
            "type": "parcoords"
           }
          ],
          "pie": [
           {
            "automargin": true,
            "type": "pie"
           }
          ],
          "scatter": [
           {
            "marker": {
             "line": {
              "color": "#283442"
             }
            },
            "type": "scatter"
           }
          ],
          "scatter3d": [
           {
            "line": {
             "colorbar": {
              "outlinewidth": 0,
              "ticks": ""
             }
            },
            "marker": {
             "colorbar": {
              "outlinewidth": 0,
              "ticks": ""
             }
            },
            "type": "scatter3d"
           }
          ],
          "scattercarpet": [
           {
            "marker": {
             "colorbar": {
              "outlinewidth": 0,
              "ticks": ""
             }
            },
            "type": "scattercarpet"
           }
          ],
          "scattergeo": [
           {
            "marker": {
             "colorbar": {
              "outlinewidth": 0,
              "ticks": ""
             }
            },
            "type": "scattergeo"
           }
          ],
          "scattergl": [
           {
            "marker": {
             "line": {
              "color": "#283442"
             }
            },
            "type": "scattergl"
           }
          ],
          "scattermap": [
           {
            "marker": {
             "colorbar": {
              "outlinewidth": 0,
              "ticks": ""
             }
            },
            "type": "scattermap"
           }
          ],
          "scattermapbox": [
           {
            "marker": {
             "colorbar": {
              "outlinewidth": 0,
              "ticks": ""
             }
            },
            "type": "scattermapbox"
           }
          ],
          "scatterpolar": [
           {
            "marker": {
             "colorbar": {
              "outlinewidth": 0,
              "ticks": ""
             }
            },
            "type": "scatterpolar"
           }
          ],
          "scatterpolargl": [
           {
            "marker": {
             "colorbar": {
              "outlinewidth": 0,
              "ticks": ""
             }
            },
            "type": "scatterpolargl"
           }
          ],
          "scatterternary": [
           {
            "marker": {
             "colorbar": {
              "outlinewidth": 0,
              "ticks": ""
             }
            },
            "type": "scatterternary"
           }
          ],
          "surface": [
           {
            "colorbar": {
             "outlinewidth": 0,
             "ticks": ""
            },
            "colorscale": [
             [
              0,
              "#0d0887"
             ],
             [
              0.1111111111111111,
              "#46039f"
             ],
             [
              0.2222222222222222,
              "#7201a8"
             ],
             [
              0.3333333333333333,
              "#9c179e"
             ],
             [
              0.4444444444444444,
              "#bd3786"
             ],
             [
              0.5555555555555556,
              "#d8576b"
             ],
             [
              0.6666666666666666,
              "#ed7953"
             ],
             [
              0.7777777777777778,
              "#fb9f3a"
             ],
             [
              0.8888888888888888,
              "#fdca26"
             ],
             [
              1,
              "#f0f921"
             ]
            ],
            "type": "surface"
           }
          ],
          "table": [
           {
            "cells": {
             "fill": {
              "color": "#506784"
             },
             "line": {
              "color": "rgb(17,17,17)"
             }
            },
            "header": {
             "fill": {
              "color": "#2a3f5f"
             },
             "line": {
              "color": "rgb(17,17,17)"
             }
            },
            "type": "table"
           }
          ]
         },
         "layout": {
          "annotationdefaults": {
           "arrowcolor": "#f2f5fa",
           "arrowhead": 0,
           "arrowwidth": 1
          },
          "autotypenumbers": "strict",
          "coloraxis": {
           "colorbar": {
            "outlinewidth": 0,
            "ticks": ""
           }
          },
          "colorscale": {
           "diverging": [
            [
             0,
             "#8e0152"
            ],
            [
             0.1,
             "#c51b7d"
            ],
            [
             0.2,
             "#de77ae"
            ],
            [
             0.3,
             "#f1b6da"
            ],
            [
             0.4,
             "#fde0ef"
            ],
            [
             0.5,
             "#f7f7f7"
            ],
            [
             0.6,
             "#e6f5d0"
            ],
            [
             0.7,
             "#b8e186"
            ],
            [
             0.8,
             "#7fbc41"
            ],
            [
             0.9,
             "#4d9221"
            ],
            [
             1,
             "#276419"
            ]
           ],
           "sequential": [
            [
             0,
             "#0d0887"
            ],
            [
             0.1111111111111111,
             "#46039f"
            ],
            [
             0.2222222222222222,
             "#7201a8"
            ],
            [
             0.3333333333333333,
             "#9c179e"
            ],
            [
             0.4444444444444444,
             "#bd3786"
            ],
            [
             0.5555555555555556,
             "#d8576b"
            ],
            [
             0.6666666666666666,
             "#ed7953"
            ],
            [
             0.7777777777777778,
             "#fb9f3a"
            ],
            [
             0.8888888888888888,
             "#fdca26"
            ],
            [
             1,
             "#f0f921"
            ]
           ],
           "sequentialminus": [
            [
             0,
             "#0d0887"
            ],
            [
             0.1111111111111111,
             "#46039f"
            ],
            [
             0.2222222222222222,
             "#7201a8"
            ],
            [
             0.3333333333333333,
             "#9c179e"
            ],
            [
             0.4444444444444444,
             "#bd3786"
            ],
            [
             0.5555555555555556,
             "#d8576b"
            ],
            [
             0.6666666666666666,
             "#ed7953"
            ],
            [
             0.7777777777777778,
             "#fb9f3a"
            ],
            [
             0.8888888888888888,
             "#fdca26"
            ],
            [
             1,
             "#f0f921"
            ]
           ]
          },
          "colorway": [
           "#636efa",
           "#EF553B",
           "#00cc96",
           "#ab63fa",
           "#FFA15A",
           "#19d3f3",
           "#FF6692",
           "#B6E880",
           "#FF97FF",
           "#FECB52"
          ],
          "font": {
           "color": "#f2f5fa"
          },
          "geo": {
           "bgcolor": "rgb(17,17,17)",
           "lakecolor": "rgb(17,17,17)",
           "landcolor": "rgb(17,17,17)",
           "showlakes": true,
           "showland": true,
           "subunitcolor": "#506784"
          },
          "hoverlabel": {
           "align": "left"
          },
          "hovermode": "closest",
          "mapbox": {
           "style": "dark"
          },
          "paper_bgcolor": "rgb(17,17,17)",
          "plot_bgcolor": "rgb(17,17,17)",
          "polar": {
           "angularaxis": {
            "gridcolor": "#506784",
            "linecolor": "#506784",
            "ticks": ""
           },
           "bgcolor": "rgb(17,17,17)",
           "radialaxis": {
            "gridcolor": "#506784",
            "linecolor": "#506784",
            "ticks": ""
           }
          },
          "scene": {
           "xaxis": {
            "backgroundcolor": "rgb(17,17,17)",
            "gridcolor": "#506784",
            "gridwidth": 2,
            "linecolor": "#506784",
            "showbackground": true,
            "ticks": "",
            "zerolinecolor": "#C8D4E3"
           },
           "yaxis": {
            "backgroundcolor": "rgb(17,17,17)",
            "gridcolor": "#506784",
            "gridwidth": 2,
            "linecolor": "#506784",
            "showbackground": true,
            "ticks": "",
            "zerolinecolor": "#C8D4E3"
           },
           "zaxis": {
            "backgroundcolor": "rgb(17,17,17)",
            "gridcolor": "#506784",
            "gridwidth": 2,
            "linecolor": "#506784",
            "showbackground": true,
            "ticks": "",
            "zerolinecolor": "#C8D4E3"
           }
          },
          "shapedefaults": {
           "line": {
            "color": "#f2f5fa"
           }
          },
          "sliderdefaults": {
           "bgcolor": "#C8D4E3",
           "bordercolor": "rgb(17,17,17)",
           "borderwidth": 1,
           "tickwidth": 0
          },
          "ternary": {
           "aaxis": {
            "gridcolor": "#506784",
            "linecolor": "#506784",
            "ticks": ""
           },
           "baxis": {
            "gridcolor": "#506784",
            "linecolor": "#506784",
            "ticks": ""
           },
           "bgcolor": "rgb(17,17,17)",
           "caxis": {
            "gridcolor": "#506784",
            "linecolor": "#506784",
            "ticks": ""
           }
          },
          "title": {
           "x": 0.05
          },
          "updatemenudefaults": {
           "bgcolor": "#506784",
           "borderwidth": 0
          },
          "xaxis": {
           "automargin": true,
           "gridcolor": "#283442",
           "linecolor": "#506784",
           "ticks": "",
           "title": {
            "standoff": 15
           },
           "zerolinecolor": "#283442",
           "zerolinewidth": 2
          },
          "yaxis": {
           "automargin": true,
           "gridcolor": "#283442",
           "linecolor": "#506784",
           "ticks": "",
           "title": {
            "standoff": 15
           },
           "zerolinecolor": "#283442",
           "zerolinewidth": 2
          }
         }
        },
        "title": {
         "text": "Mass-Spring-Damper System Response"
        },
        "xaxis": {
         "title": {
          "text": "Time (s)"
         }
        },
        "yaxis": {
         "title": {
          "text": "Position (mts)"
         }
        }
       }
      }
     },
     "metadata": {},
     "output_type": "display_data"
    }
   ],
   "source": [
    "fig = go.Figure()\n",
    "\n",
    "fig.add_trace(\n",
    "    go.Scatter(\n",
    "        x = t_values,\n",
    "        y = y_values,\n",
    "    )\n",
    ")\n",
    "\n",
    "fig.update_layout(\n",
    "    template = \"plotly_dark\",\n",
    "    xaxis = dict(\n",
    "        title = \"Time (s)\"\n",
    "    ),\n",
    "    yaxis = dict(\n",
    "        title = \"Position (mts)\"\n",
    "    ),\n",
    "    title = \"Mass-Spring-Damper System Response\"\n",
    ")\n",
    "fig.show()"
   ]
  },
  {
   "cell_type": "markdown",
   "metadata": {},
   "source": [
    "## Mass-Spring-Damper formula"
   ]
  },
  {
   "cell_type": "markdown",
   "metadata": {},
   "source": [
    "$$m \\ddot{x} + b \\dot{x} + kx = 5$$"
   ]
  },
  {
   "cell_type": "markdown",
   "metadata": {},
   "source": [
    "Despejando para la acelaración:"
   ]
  },
  {
   "cell_type": "markdown",
   "metadata": {},
   "source": [
    "$$\\ddot{x} = - \\frac{b \\dot{x} + kx - 5}{m}$$"
   ]
  },
  {
   "cell_type": "markdown",
   "metadata": {},
   "source": [
    "Se emplea el método de Euler para el cálculo de la velocidad y la posición del resorte"
   ]
  },
  {
   "cell_type": "markdown",
   "metadata": {},
   "source": [
    "$$y(x_{i}+ h) = y(x_{i}) + y'(x_{i})h + \\underbrace{R_{1}(x)}_{\\leq \\frac{h^{2}}{2} f'' ( \\xi)}$$"
   ]
  },
  {
   "cell_type": "code",
   "execution_count": 120,
   "metadata": {},
   "outputs": [],
   "source": [
    "class GeneticAlgorithm:\n",
    "\n",
    "    def __init__(self, population_size, mutation_rate, generations):\n",
    "        self.population_size = population_size\n",
    "        self.mutation_rate = mutation_rate\n",
    "        self.generations = generations\n",
    "        self.population = self.initialize_population()\n",
    "        self.force = 5\n",
    "\n",
    "    def initialize_population(self):\n",
    "        population = []\n",
    "\n",
    "        for _ in range(self.population_size):\n",
    "            m = np.random.uniform(m_limits[0], m_limits[1])\n",
    "            k = np.random.uniform(k_limits[0], k_limits[1])\n",
    "            b = np.random.uniform(b_limits[0], b_limits[1])\n",
    "            population.append((m, k, b))\n",
    "\n",
    "        return population\n",
    "    \n",
    "    def fitness(self, individual):\n",
    "\n",
    "        m, k, b = individual\n",
    "        dt = t_values[1] - t_values[0]\n",
    "        \n",
    "        position = y_values[0]\n",
    "        velocity = (y_values[1] - y_values[0]) / dt\n",
    "\n",
    "        y_simulated = []\n",
    "\n",
    "        for _ in range(len(t_values)):\n",
    "            acceleration = -(b*velocity + k*position - self.force) / m\n",
    "            velocity += acceleration * dt\n",
    "            position += velocity * dt\n",
    "            y_simulated.append(position)\n",
    "\n",
    "        y_simulated = np.array(y_simulated)\n",
    "        error = np.mean(np.abs(y_simulated - y_values))\n",
    "\n",
    "        return -error\n",
    "\n",
    "\n",
    "    def selection(self):\n",
    "\n",
    "        fitness_scores = [self.fitness(ind) for ind in self.population]\n",
    "        sort_indices = np.argsort(fitness_scores)[::-1]\n",
    "        best_index = sort_indices[:2]\n",
    "\n",
    "        return (self.population[best_index[0]], self.population[best_index[1]])\n",
    "\n",
    "\n",
    "    def crossover(self, parent1, parent2):\n",
    "\n",
    "        crossover_point = np.random.randint(1, 3)\n",
    "\n",
    "        child1 = parent1[:crossover_point] + parent2[crossover_point:]\n",
    "        child2 = parent2[:crossover_point] + parent1[crossover_point:]\n",
    "\n",
    "        return child1, child2\n",
    "    \n",
    "    def mutate(self, individual):\n",
    "\n",
    "        if np.random.rand() < self.mutation_rate:\n",
    "\n",
    "            gene_index = np.random.randint(3)\n",
    "\n",
    "            if gene_index == 0:\n",
    "\n",
    "                individual = (\n",
    "                    np.random.uniform(m_limits[0], m_limits[1]),\n",
    "                    individual[1],\n",
    "                    individual[2]\n",
    "                )\n",
    "\n",
    "            elif gene_index == 1:\n",
    "\n",
    "                individual = (\n",
    "                    individual[0],\n",
    "                    np.random.uniform(k_limits[0], k_limits[1]),\n",
    "                    individual[2]\n",
    "                )\n",
    "\n",
    "            else:\n",
    "\n",
    "                individual = (\n",
    "                \n",
    "                    individual[0],\n",
    "                    individual[1],\n",
    "                    np.random.uniform(b_limits[0], b_limits[1])\n",
    "\n",
    "                )\n",
    "\n",
    "        return individual\n",
    "    \n",
    "    def run(self):\n",
    "\n",
    "        best_overall = []\n",
    "        best_individual = None\n",
    "        best_fitness = float('-inf')\n",
    "\n",
    "        for generation in range(self.generations):\n",
    "\n",
    "            new_population = []\n",
    "\n",
    "            for _ in range(self.population_size // 2):\n",
    "\n",
    "                parent1, parent2 = self.selection()\n",
    "                child1, child2 = self.crossover(parent1, parent2)\n",
    "\n",
    "                child1 = self.mutate(child1)\n",
    "                child2 = self.mutate(child2)\n",
    "\n",
    "                new_population.extend([child1, child2])\n",
    "\n",
    "            self.population = new_population\n",
    "\n",
    "            for individual in self.population:\n",
    "\n",
    "                fit = self.fitness(individual)\n",
    "\n",
    "                if fit > best_fitness:\n",
    "\n",
    "                    best_fitness = fit\n",
    "                    best_individual = individual\n",
    "                    best_overall.append((best_individual, best_fitness))\n",
    "\n",
    "            print(f\"Generation {generation+1}: Best Fitness = {best_fitness:.2f}, Best Individual = {best_individual}\")\n",
    "\n",
    "        return best_overall"
   ]
  },
  {
   "cell_type": "code",
   "execution_count": 121,
   "metadata": {},
   "outputs": [],
   "source": [
    "MAX_GENERATIONS = 50\n",
    "POPULATION_SIZE = 100\n",
    "MUTATION_RATE = 0.3"
   ]
  },
  {
   "cell_type": "code",
   "execution_count": 122,
   "metadata": {},
   "outputs": [
    {
     "name": "stdout",
     "output_type": "stream",
     "text": [
      "Generation 1: Best Fitness = -0.04, Best Individual = (2.5246718733006803, 8.562541711660419, 7.403189622718546)\n",
      "Generation 2: Best Fitness = -0.03, Best Individual = (2.5246718733006803, 8.562541711660419, 3.498200312948759)\n",
      "Generation 3: Best Fitness = -0.03, Best Individual = (1.566494826585163, 8.562541711660419, 3.498200312948759)\n",
      "Generation 4: Best Fitness = -0.02, Best Individual = (1.566494826585163, 8.562541711660419, 1.3978771823191893)\n",
      "Generation 5: Best Fitness = -0.01, Best Individual = (1.566494826585163, 8.562541711660419, 1.9503757039757086)\n",
      "Generation 6: Best Fitness = -0.01, Best Individual = (1.566494826585163, 8.562541711660419, 1.9503757039757086)\n",
      "Generation 7: Best Fitness = -0.01, Best Individual = (1.566494826585163, 8.562541711660419, 1.9503757039757086)\n",
      "Generation 8: Best Fitness = -0.01, Best Individual = (1.566494826585163, 8.562541711660419, 1.9503757039757086)\n",
      "Generation 9: Best Fitness = -0.01, Best Individual = (1.566494826585163, 8.562541711660419, 1.6720204521733595)\n",
      "Generation 10: Best Fitness = -0.01, Best Individual = (1.566494826585163, 8.562541711660419, 1.6720204521733595)\n",
      "Generation 11: Best Fitness = -0.01, Best Individual = (1.566494826585163, 8.562541711660419, 1.6720204521733595)\n",
      "Generation 12: Best Fitness = -0.01, Best Individual = (1.566494826585163, 8.562541711660419, 1.6720204521733595)\n",
      "Generation 13: Best Fitness = -0.01, Best Individual = (1.566494826585163, 8.562541711660419, 1.6720204521733595)\n",
      "Generation 14: Best Fitness = -0.01, Best Individual = (1.5910693645832075, 8.562541711660419, 1.6720204521733595)\n",
      "Generation 15: Best Fitness = -0.01, Best Individual = (1.5910693645832075, 8.562541711660419, 1.6720204521733595)\n",
      "Generation 16: Best Fitness = -0.01, Best Individual = (1.5910693645832075, 8.562541711660419, 1.6720204521733595)\n",
      "Generation 17: Best Fitness = -0.01, Best Individual = (1.5910693645832075, 8.562541711660419, 1.6720204521733595)\n",
      "Generation 18: Best Fitness = -0.01, Best Individual = (1.5910693645832075, 8.562541711660419, 1.6720204521733595)\n",
      "Generation 19: Best Fitness = -0.01, Best Individual = (1.5910693645832075, 8.562541711660419, 1.6720204521733595)\n",
      "Generation 20: Best Fitness = -0.01, Best Individual = (1.5910693645832075, 8.562541711660419, 1.6720204521733595)\n",
      "Generation 21: Best Fitness = -0.01, Best Individual = (1.5910693645832075, 8.562541711660419, 1.6720204521733595)\n",
      "Generation 22: Best Fitness = -0.01, Best Individual = (1.5910693645832075, 8.623511670732304, 1.6720204521733595)\n",
      "Generation 23: Best Fitness = -0.01, Best Individual = (1.5910693645832075, 8.623511670732304, 1.6720204521733595)\n",
      "Generation 24: Best Fitness = -0.01, Best Individual = (1.5910693645832075, 8.623511670732304, 1.6720204521733595)\n",
      "Generation 25: Best Fitness = -0.01, Best Individual = (1.5910693645832075, 8.623511670732304, 1.6720204521733595)\n",
      "Generation 26: Best Fitness = -0.01, Best Individual = (1.6143068453597842, 8.623511670732304, 1.6720204521733595)\n",
      "Generation 27: Best Fitness = -0.01, Best Individual = (1.6143068453597842, 8.587725300557837, 1.6720204521733595)\n",
      "Generation 28: Best Fitness = -0.01, Best Individual = (1.6143068453597842, 8.587725300557837, 1.6720204521733595)\n",
      "Generation 29: Best Fitness = -0.01, Best Individual = (1.6143068453597842, 8.587725300557837, 1.6720204521733595)\n",
      "Generation 30: Best Fitness = -0.01, Best Individual = (1.6143068453597842, 8.603622415405466, 1.6720204521733595)\n",
      "Generation 31: Best Fitness = -0.01, Best Individual = (1.6143068453597842, 8.603622415405466, 1.6720204521733595)\n",
      "Generation 32: Best Fitness = -0.01, Best Individual = (1.6143068453597842, 8.603622415405466, 1.6720204521733595)\n",
      "Generation 33: Best Fitness = -0.01, Best Individual = (1.6143068453597842, 8.603622415405466, 1.6720204521733595)\n",
      "Generation 34: Best Fitness = -0.01, Best Individual = (1.6143068453597842, 8.603622415405466, 1.8096420766521593)\n",
      "Generation 35: Best Fitness = -0.01, Best Individual = (1.6143068453597842, 8.603622415405466, 1.8096420766521593)\n",
      "Generation 36: Best Fitness = -0.01, Best Individual = (1.6143068453597842, 8.603622415405466, 1.8096420766521593)\n",
      "Generation 37: Best Fitness = -0.01, Best Individual = (1.6143068453597842, 8.603622415405466, 1.8096420766521593)\n",
      "Generation 38: Best Fitness = -0.01, Best Individual = (1.6143068453597842, 8.603622415405466, 1.8096420766521593)\n",
      "Generation 39: Best Fitness = -0.00, Best Individual = (1.6143068453597842, 8.603622415405466, 1.7110482282326678)\n",
      "Generation 40: Best Fitness = -0.00, Best Individual = (1.6143068453597842, 8.603622415405466, 1.7110482282326678)\n",
      "Generation 41: Best Fitness = -0.00, Best Individual = (1.6143068453597842, 8.603622415405466, 1.7110482282326678)\n",
      "Generation 42: Best Fitness = -0.00, Best Individual = (1.6143068453597842, 8.603622415405466, 1.7110482282326678)\n",
      "Generation 43: Best Fitness = -0.00, Best Individual = (1.6143068453597842, 8.603622415405466, 1.7110482282326678)\n",
      "Generation 44: Best Fitness = -0.00, Best Individual = (1.6143068453597842, 8.603622415405466, 1.7110482282326678)\n",
      "Generation 45: Best Fitness = -0.00, Best Individual = (1.6143068453597842, 8.603622415405466, 1.7110482282326678)\n",
      "Generation 46: Best Fitness = -0.00, Best Individual = (1.6143068453597842, 8.603622415405466, 1.7110482282326678)\n",
      "Generation 47: Best Fitness = -0.00, Best Individual = (1.6143068453597842, 8.603622415405466, 1.7110482282326678)\n",
      "Generation 48: Best Fitness = -0.00, Best Individual = (1.6143068453597842, 8.603622415405466, 1.7110482282326678)\n",
      "Generation 49: Best Fitness = -0.00, Best Individual = (1.6143068453597842, 8.603622415405466, 1.7110482282326678)\n",
      "Generation 50: Best Fitness = -0.00, Best Individual = (1.6143068453597842, 8.603622415405466, 1.7110482282326678)\n"
     ]
    }
   ],
   "source": [
    "ga = GeneticAlgorithm(POPULATION_SIZE, MUTATION_RATE, MAX_GENERATIONS)\n",
    "best_overall = ga.run()"
   ]
  },
  {
   "cell_type": "markdown",
   "metadata": {},
   "source": [
    "## Error table of the last 10 points"
   ]
  },
  {
   "cell_type": "code",
   "execution_count": 123,
   "metadata": {},
   "outputs": [],
   "source": [
    "best_df = pd.DataFrame(\n",
    "    [(m,k,b,fitness) for (m,k,b), fitness in best_overall],\n",
    "    columns = [\"m\", \"k\", \"b\", \"fitness_value\"]\n",
    ")"
   ]
  },
  {
   "cell_type": "code",
   "execution_count": 124,
   "metadata": {},
   "outputs": [],
   "source": [
    "last_10 = best_df.tail(10)"
   ]
  },
  {
   "cell_type": "code",
   "execution_count": 132,
   "metadata": {},
   "outputs": [
    {
     "data": {
      "text/html": [
       "<div id=\"iaorhzlgty\" style=\"padding-left:0px;padding-right:0px;padding-top:10px;padding-bottom:10px;overflow-x:auto;overflow-y:auto;width:auto;height:auto;\">\n",
       "<style>\n",
       "#iaorhzlgty table {\n",
       "          font-family: -apple-system, BlinkMacSystemFont, 'Segoe UI', Roboto, Oxygen, Ubuntu, Cantarell, 'Helvetica Neue', 'Fira Sans', 'Droid Sans', Arial, sans-serif;\n",
       "          -webkit-font-smoothing: antialiased;\n",
       "          -moz-osx-font-smoothing: grayscale;\n",
       "        }\n",
       "\n",
       "#iaorhzlgty thead, tbody, tfoot, tr, td, th { border-style: none !important; }\n",
       " tr { background-color: transparent !important; }\n",
       "#iaorhzlgty p { margin: 0 !important; padding: 0 !important; }\n",
       " #iaorhzlgty .gt_table { display: table !important; border-collapse: collapse !important; line-height: normal !important; margin-left: auto !important; margin-right: auto !important; color: #333333 !important; font-size: 16px !important; font-weight: normal !important; font-style: normal !important; background-color: #FFFFFF !important; width: auto !important; border-top-style: solid !important; border-top-width: 2px !important; border-top-color: #A8A8A8 !important; border-right-style: none !important; border-right-width: 2px !important; border-right-color: #D3D3D3 !important; border-bottom-style: solid !important; border-bottom-width: 2px !important; border-bottom-color: #A8A8A8 !important; border-left-style: none !important; border-left-width: 2px !important; border-left-color: #D3D3D3 !important; }\n",
       " #iaorhzlgty .gt_caption { padding-top: 4px !important; padding-bottom: 4px !important; }\n",
       " #iaorhzlgty .gt_title { color: #333333 !important; font-size: 125% !important; font-weight: initial !important; padding-top: 4px !important; padding-bottom: 4px !important; padding-left: 5px !important; padding-right: 5px !important; border-bottom-color: #FFFFFF !important; border-bottom-width: 0 !important; }\n",
       " #iaorhzlgty .gt_subtitle { color: #333333 !important; font-size: 85% !important; font-weight: initial !important; padding-top: 3px !important; padding-bottom: 5px !important; padding-left: 5px !important; padding-right: 5px !important; border-top-color: #FFFFFF !important; border-top-width: 0 !important; }\n",
       " #iaorhzlgty .gt_heading { background-color: #FFFFFF !important; text-align: center !important; border-bottom-color: #FFFFFF !important; border-left-style: none !important; border-left-width: 1px !important; border-left-color: #D3D3D3 !important; border-right-style: none !important; border-right-width: 1px !important; border-right-color: #D3D3D3 !important; }\n",
       " #iaorhzlgty .gt_bottom_border { border-bottom-style: solid !important; border-bottom-width: 2px !important; border-bottom-color: #D3D3D3 !important; }\n",
       " #iaorhzlgty .gt_col_headings { border-top-style: solid !important; border-top-width: 2px !important; border-top-color: #D3D3D3 !important; border-bottom-style: solid !important; border-bottom-width: 2px !important; border-bottom-color: #D3D3D3 !important; border-left-style: none !important; border-left-width: 1px !important; border-left-color: #D3D3D3 !important; border-right-style: none !important; border-right-width: 1px !important; border-right-color: #D3D3D3 !important; }\n",
       " #iaorhzlgty .gt_col_heading { color: #333333 !important; background-color: #FFFFFF !important; font-size: 100% !important; font-weight: normal !important; text-transform: inherit !important; border-left-style: none !important; border-left-width: 1px !important; border-left-color: #D3D3D3 !important; border-right-style: none !important; border-right-width: 1px !important; border-right-color: #D3D3D3 !important; vertical-align: bottom !important; padding-top: 5px !important; padding-bottom: 5px !important; padding-left: 5px !important; padding-right: 5px !important; overflow-x: hidden !important; }\n",
       " #iaorhzlgty .gt_column_spanner_outer { color: #333333 !important; background-color: #FFFFFF !important; font-size: 100% !important; font-weight: normal !important; text-transform: inherit !important; padding-top: 0 !important; padding-bottom: 0 !important; padding-left: 4px !important; padding-right: 4px !important; }\n",
       " #iaorhzlgty .gt_column_spanner_outer:first-child { padding-left: 0 !important; }\n",
       " #iaorhzlgty .gt_column_spanner_outer:last-child { padding-right: 0 !important; }\n",
       " #iaorhzlgty .gt_column_spanner { border-bottom-style: solid !important; border-bottom-width: 2px !important; border-bottom-color: #D3D3D3 !important; vertical-align: bottom !important; padding-top: 5px !important; padding-bottom: 5px !important; overflow-x: hidden !important; display: inline-block !important; width: 100% !important; }\n",
       " #iaorhzlgty .gt_spanner_row { border-bottom-style: hidden !important; }\n",
       " #iaorhzlgty .gt_group_heading { padding-top: 8px !important; padding-bottom: 8px !important; padding-left: 5px !important; padding-right: 5px !important; color: #333333 !important; background-color: #FFFFFF !important; font-size: 100% !important; font-weight: initial !important; text-transform: inherit !important; border-top-style: solid !important; border-top-width: 2px !important; border-top-color: #D3D3D3 !important; border-bottom-style: solid !important; border-bottom-width: 2px !important; border-bottom-color: #D3D3D3 !important; border-left-style: none !important; border-left-width: 1px !important; border-left-color: #D3D3D3 !important; border-right-style: none !important; border-right-width: 1px !important; border-right-color: #D3D3D3 !important; vertical-align: middle !important; text-align: left !important; }\n",
       " #iaorhzlgty .gt_empty_group_heading { padding: 0.5px !important; color: #333333 !important; background-color: #FFFFFF !important; font-size: 100% !important; font-weight: initial !important; border-top-style: solid !important; border-top-width: 2px !important; border-top-color: #D3D3D3 !important; border-bottom-style: solid !important; border-bottom-width: 2px !important; border-bottom-color: #D3D3D3 !important; vertical-align: middle !important; }\n",
       " #iaorhzlgty .gt_from_md> :first-child { margin-top: 0 !important; }\n",
       " #iaorhzlgty .gt_from_md> :last-child { margin-bottom: 0 !important; }\n",
       " #iaorhzlgty .gt_row { padding-top: 8px !important; padding-bottom: 8px !important; padding-left: 5px !important; padding-right: 5px !important; margin: 10px !important; border-top-style: solid !important; border-top-width: 1px !important; border-top-color: #D3D3D3 !important; border-left-style: none !important; border-left-width: 1px !important; border-left-color: #D3D3D3 !important; border-right-style: none !important; border-right-width: 1px !important; border-right-color: #D3D3D3 !important; vertical-align: middle !important; overflow-x: hidden !important; }\n",
       " #iaorhzlgty .gt_stub { color: #333333 !important; background-color: #FFFFFF !important; font-size: 100% !important; font-weight: initial !important; text-transform: inherit !important; border-right-style: solid !important; border-right-width: 2px !important; border-right-color: #D3D3D3 !important; padding-left: 5px !important; padding-right: 5px !important; }\n",
       " #iaorhzlgty .gt_stub_row_group { color: #333333 !important; background-color: #FFFFFF !important; font-size: 100% !important; font-weight: initial !important; text-transform: inherit !important; border-right-style: solid !important; border-right-width: 2px !important; border-right-color: #D3D3D3 !important; padding-left: 5px !important; padding-right: 5px !important; vertical-align: top !important; }\n",
       " #iaorhzlgty .gt_row_group_first td { border-top-width: 2px !important; }\n",
       " #iaorhzlgty .gt_row_group_first th { border-top-width: 2px !important; }\n",
       " #iaorhzlgty .gt_striped { background-color: rgba(128,128,128,0.05) !important; }\n",
       " #iaorhzlgty .gt_table_body { border-top-style: solid !important; border-top-width: 2px !important; border-top-color: #D3D3D3 !important; border-bottom-style: solid !important; border-bottom-width: 2px !important; border-bottom-color: #D3D3D3 !important; }\n",
       " #iaorhzlgty .gt_sourcenotes { color: #333333 !important; background-color: #FFFFFF !important; border-bottom-style: none !important; border-bottom-width: 2px !important; border-bottom-color: #D3D3D3 !important; border-left-style: none !important; border-left-width: 2px !important; border-left-color: #D3D3D3 !important; border-right-style: none !important; border-right-width: 2px !important; border-right-color: #D3D3D3 !important; }\n",
       " #iaorhzlgty .gt_sourcenote { font-size: 90% !important; padding-top: 4px !important; padding-bottom: 4px !important; padding-left: 5px !important; padding-right: 5px !important; text-align: left !important; }\n",
       " #iaorhzlgty .gt_left { text-align: left !important; }\n",
       " #iaorhzlgty .gt_center { text-align: center !important; }\n",
       " #iaorhzlgty .gt_right { text-align: right !important; font-variant-numeric: tabular-nums !important; }\n",
       " #iaorhzlgty .gt_font_normal { font-weight: normal !important; }\n",
       " #iaorhzlgty .gt_font_bold { font-weight: bold !important; }\n",
       " #iaorhzlgty .gt_font_italic { font-style: italic !important; }\n",
       " #iaorhzlgty .gt_super { font-size: 65% !important; }\n",
       " #iaorhzlgty .gt_footnote_marks { font-size: 75% !important; vertical-align: 0.4em !important; position: initial !important; }\n",
       " #iaorhzlgty .gt_asterisk { font-size: 100% !important; vertical-align: 0 !important; }\n",
       " \n",
       "</style>\n",
       "<table class=\"gt_table\" data-quarto-disable-processing=\"false\" data-quarto-bootstrap=\"false\">\n",
       "<thead>\n",
       "\n",
       "  <tr class=\"gt_heading\">\n",
       "    <td colspan=\"4\" class=\"gt_heading gt_title gt_font_normal\">Diez últimos puntos del GA</td>\n",
       "  </tr>\n",
       "<tr class=\"gt_col_headings\">\n",
       "  <th class=\"gt_col_heading gt_columns_bottom_border gt_right\" rowspan=\"1\" colspan=\"1\" scope=\"col\" id=\"m\">m</th>\n",
       "  <th class=\"gt_col_heading gt_columns_bottom_border gt_right\" rowspan=\"1\" colspan=\"1\" scope=\"col\" id=\"k\">k</th>\n",
       "  <th class=\"gt_col_heading gt_columns_bottom_border gt_right\" rowspan=\"1\" colspan=\"1\" scope=\"col\" id=\"b\">b</th>\n",
       "  <th class=\"gt_col_heading gt_columns_bottom_border gt_right\" rowspan=\"1\" colspan=\"1\" scope=\"col\" id=\"fitness_value\">Fitness</th>\n",
       "</tr>\n",
       "</thead>\n",
       "<tbody class=\"gt_table_body\">\n",
       "  <tr>\n",
       "    <td style=\"background-color: aliceblue;\" class=\"gt_row gt_right\">1.5665</td>\n",
       "    <td style=\"background-color: aliceblue;\" class=\"gt_row gt_right\">8.5625</td>\n",
       "    <td style=\"background-color: aliceblue;\" class=\"gt_row gt_right\">1.6720</td>\n",
       "    <td style=\"background-color: papayawhip;\" class=\"gt_row gt_right\">−0.0082</td>\n",
       "  </tr>\n",
       "  <tr>\n",
       "    <td style=\"background-color: aliceblue;\" class=\"gt_row gt_right\">1.5911</td>\n",
       "    <td style=\"background-color: aliceblue;\" class=\"gt_row gt_right\">8.5625</td>\n",
       "    <td style=\"background-color: aliceblue;\" class=\"gt_row gt_right\">1.6720</td>\n",
       "    <td style=\"background-color: papayawhip;\" class=\"gt_row gt_right\">−0.0071</td>\n",
       "  </tr>\n",
       "  <tr>\n",
       "    <td style=\"background-color: aliceblue;\" class=\"gt_row gt_right\">1.5911</td>\n",
       "    <td style=\"background-color: aliceblue;\" class=\"gt_row gt_right\">8.6235</td>\n",
       "    <td style=\"background-color: aliceblue;\" class=\"gt_row gt_right\">1.6720</td>\n",
       "    <td style=\"background-color: papayawhip;\" class=\"gt_row gt_right\">−0.0070</td>\n",
       "  </tr>\n",
       "  <tr>\n",
       "    <td style=\"background-color: aliceblue;\" class=\"gt_row gt_right\">1.5911</td>\n",
       "    <td style=\"background-color: aliceblue;\" class=\"gt_row gt_right\">8.5682</td>\n",
       "    <td style=\"background-color: aliceblue;\" class=\"gt_row gt_right\">1.6720</td>\n",
       "    <td style=\"background-color: papayawhip;\" class=\"gt_row gt_right\">−0.0069</td>\n",
       "  </tr>\n",
       "  <tr>\n",
       "    <td style=\"background-color: aliceblue;\" class=\"gt_row gt_right\">1.5911</td>\n",
       "    <td style=\"background-color: aliceblue;\" class=\"gt_row gt_right\">8.5877</td>\n",
       "    <td style=\"background-color: aliceblue;\" class=\"gt_row gt_right\">1.6720</td>\n",
       "    <td style=\"background-color: papayawhip;\" class=\"gt_row gt_right\">−0.0062</td>\n",
       "  </tr>\n",
       "  <tr>\n",
       "    <td style=\"background-color: aliceblue;\" class=\"gt_row gt_right\">1.6143</td>\n",
       "    <td style=\"background-color: aliceblue;\" class=\"gt_row gt_right\">8.6235</td>\n",
       "    <td style=\"background-color: aliceblue;\" class=\"gt_row gt_right\">1.6720</td>\n",
       "    <td style=\"background-color: papayawhip;\" class=\"gt_row gt_right\">−0.0061</td>\n",
       "  </tr>\n",
       "  <tr>\n",
       "    <td style=\"background-color: aliceblue;\" class=\"gt_row gt_right\">1.6143</td>\n",
       "    <td style=\"background-color: aliceblue;\" class=\"gt_row gt_right\">8.5877</td>\n",
       "    <td style=\"background-color: aliceblue;\" class=\"gt_row gt_right\">1.6720</td>\n",
       "    <td style=\"background-color: papayawhip;\" class=\"gt_row gt_right\">−0.0055</td>\n",
       "  </tr>\n",
       "  <tr>\n",
       "    <td style=\"background-color: aliceblue;\" class=\"gt_row gt_right\">1.6143</td>\n",
       "    <td style=\"background-color: aliceblue;\" class=\"gt_row gt_right\">8.6036</td>\n",
       "    <td style=\"background-color: aliceblue;\" class=\"gt_row gt_right\">1.6720</td>\n",
       "    <td style=\"background-color: papayawhip;\" class=\"gt_row gt_right\">−0.0053</td>\n",
       "  </tr>\n",
       "  <tr>\n",
       "    <td style=\"background-color: aliceblue;\" class=\"gt_row gt_right\">1.6143</td>\n",
       "    <td style=\"background-color: aliceblue;\" class=\"gt_row gt_right\">8.6036</td>\n",
       "    <td style=\"background-color: aliceblue;\" class=\"gt_row gt_right\">1.8096</td>\n",
       "    <td style=\"background-color: papayawhip;\" class=\"gt_row gt_right\">−0.0051</td>\n",
       "  </tr>\n",
       "  <tr>\n",
       "    <td style=\"background-color: aliceblue;\" class=\"gt_row gt_right\">1.6143</td>\n",
       "    <td style=\"background-color: aliceblue;\" class=\"gt_row gt_right\">8.6036</td>\n",
       "    <td style=\"background-color: aliceblue;\" class=\"gt_row gt_right\">1.7110</td>\n",
       "    <td style=\"background-color: papayawhip;\" class=\"gt_row gt_right\">−0.0046</td>\n",
       "  </tr>\n",
       "</tbody>\n",
       "\n",
       "\n",
       "</table>\n",
       "\n",
       "</div>\n",
       "        "
      ],
      "text/plain": [
       "GT(_tbl_data=           m         k         b  fitness_value\n",
       "11  1.566495  8.562542  1.672020      -0.008185\n",
       "12  1.591069  8.562542  1.672020      -0.007112\n",
       "13  1.591069  8.623512  1.672020      -0.007001\n",
       "14  1.591069  8.568165  1.672020      -0.006898\n",
       "15  1.591069  8.587725  1.672020      -0.006235\n",
       "16  1.614307  8.623512  1.672020      -0.006127\n",
       "17  1.614307  8.587725  1.672020      -0.005484\n",
       "18  1.614307  8.603622  1.672020      -0.005321\n",
       "19  1.614307  8.603622  1.809642      -0.005113\n",
       "20  1.614307  8.603622  1.711048      -0.004561, _body=<great_tables._gt_data.Body object at 0x12e693ac0>, _boxhead=Boxhead([ColInfo(var='m', type=<ColInfoTypeEnum.default: 1>, column_label='m', column_align='right', column_width=None), ColInfo(var='k', type=<ColInfoTypeEnum.default: 1>, column_label='k', column_align='right', column_width=None), ColInfo(var='b', type=<ColInfoTypeEnum.default: 1>, column_label='b', column_align='right', column_width=None), ColInfo(var='fitness_value', type=<ColInfoTypeEnum.default: 1>, column_label='Fitness', column_align='right', column_width=None)]), _stub=<great_tables._gt_data.Stub object at 0x12e5b1550>, _spanners=Spanners([]), _heading=Heading(title='Diez últimos puntos del GA', subtitle=None, preheader=None), _stubhead=None, _source_notes=[], _footnotes=[], _styles=[StyleInfo(locname=LocBody(columns=['m', 'k', 'b'], rows=None, mask=None), grpname=None, colname='m', rownum=0, colnum=None, styles=[CellStyleFill(color='aliceblue')]), StyleInfo(locname=LocBody(columns=['m', 'k', 'b'], rows=None, mask=None), grpname=None, colname='m', rownum=1, colnum=None, styles=[CellStyleFill(color='aliceblue')]), StyleInfo(locname=LocBody(columns=['m', 'k', 'b'], rows=None, mask=None), grpname=None, colname='m', rownum=2, colnum=None, styles=[CellStyleFill(color='aliceblue')]), StyleInfo(locname=LocBody(columns=['m', 'k', 'b'], rows=None, mask=None), grpname=None, colname='m', rownum=3, colnum=None, styles=[CellStyleFill(color='aliceblue')]), StyleInfo(locname=LocBody(columns=['m', 'k', 'b'], rows=None, mask=None), grpname=None, colname='m', rownum=4, colnum=None, styles=[CellStyleFill(color='aliceblue')]), StyleInfo(locname=LocBody(columns=['m', 'k', 'b'], rows=None, mask=None), grpname=None, colname='m', rownum=5, colnum=None, styles=[CellStyleFill(color='aliceblue')]), StyleInfo(locname=LocBody(columns=['m', 'k', 'b'], rows=None, mask=None), grpname=None, colname='m', rownum=6, colnum=None, styles=[CellStyleFill(color='aliceblue')]), StyleInfo(locname=LocBody(columns=['m', 'k', 'b'], rows=None, mask=None), grpname=None, colname='m', rownum=7, colnum=None, styles=[CellStyleFill(color='aliceblue')]), StyleInfo(locname=LocBody(columns=['m', 'k', 'b'], rows=None, mask=None), grpname=None, colname='m', rownum=8, colnum=None, styles=[CellStyleFill(color='aliceblue')]), StyleInfo(locname=LocBody(columns=['m', 'k', 'b'], rows=None, mask=None), grpname=None, colname='m', rownum=9, colnum=None, styles=[CellStyleFill(color='aliceblue')]), StyleInfo(locname=LocBody(columns=['m', 'k', 'b'], rows=None, mask=None), grpname=None, colname='k', rownum=0, colnum=None, styles=[CellStyleFill(color='aliceblue')]), StyleInfo(locname=LocBody(columns=['m', 'k', 'b'], rows=None, mask=None), grpname=None, colname='k', rownum=1, colnum=None, styles=[CellStyleFill(color='aliceblue')]), StyleInfo(locname=LocBody(columns=['m', 'k', 'b'], rows=None, mask=None), grpname=None, colname='k', rownum=2, colnum=None, styles=[CellStyleFill(color='aliceblue')]), StyleInfo(locname=LocBody(columns=['m', 'k', 'b'], rows=None, mask=None), grpname=None, colname='k', rownum=3, colnum=None, styles=[CellStyleFill(color='aliceblue')]), StyleInfo(locname=LocBody(columns=['m', 'k', 'b'], rows=None, mask=None), grpname=None, colname='k', rownum=4, colnum=None, styles=[CellStyleFill(color='aliceblue')]), StyleInfo(locname=LocBody(columns=['m', 'k', 'b'], rows=None, mask=None), grpname=None, colname='k', rownum=5, colnum=None, styles=[CellStyleFill(color='aliceblue')]), StyleInfo(locname=LocBody(columns=['m', 'k', 'b'], rows=None, mask=None), grpname=None, colname='k', rownum=6, colnum=None, styles=[CellStyleFill(color='aliceblue')]), StyleInfo(locname=LocBody(columns=['m', 'k', 'b'], rows=None, mask=None), grpname=None, colname='k', rownum=7, colnum=None, styles=[CellStyleFill(color='aliceblue')]), StyleInfo(locname=LocBody(columns=['m', 'k', 'b'], rows=None, mask=None), grpname=None, colname='k', rownum=8, colnum=None, styles=[CellStyleFill(color='aliceblue')]), StyleInfo(locname=LocBody(columns=['m', 'k', 'b'], rows=None, mask=None), grpname=None, colname='k', rownum=9, colnum=None, styles=[CellStyleFill(color='aliceblue')]), StyleInfo(locname=LocBody(columns=['m', 'k', 'b'], rows=None, mask=None), grpname=None, colname='b', rownum=0, colnum=None, styles=[CellStyleFill(color='aliceblue')]), StyleInfo(locname=LocBody(columns=['m', 'k', 'b'], rows=None, mask=None), grpname=None, colname='b', rownum=1, colnum=None, styles=[CellStyleFill(color='aliceblue')]), StyleInfo(locname=LocBody(columns=['m', 'k', 'b'], rows=None, mask=None), grpname=None, colname='b', rownum=2, colnum=None, styles=[CellStyleFill(color='aliceblue')]), StyleInfo(locname=LocBody(columns=['m', 'k', 'b'], rows=None, mask=None), grpname=None, colname='b', rownum=3, colnum=None, styles=[CellStyleFill(color='aliceblue')]), StyleInfo(locname=LocBody(columns=['m', 'k', 'b'], rows=None, mask=None), grpname=None, colname='b', rownum=4, colnum=None, styles=[CellStyleFill(color='aliceblue')]), StyleInfo(locname=LocBody(columns=['m', 'k', 'b'], rows=None, mask=None), grpname=None, colname='b', rownum=5, colnum=None, styles=[CellStyleFill(color='aliceblue')]), StyleInfo(locname=LocBody(columns=['m', 'k', 'b'], rows=None, mask=None), grpname=None, colname='b', rownum=6, colnum=None, styles=[CellStyleFill(color='aliceblue')]), StyleInfo(locname=LocBody(columns=['m', 'k', 'b'], rows=None, mask=None), grpname=None, colname='b', rownum=7, colnum=None, styles=[CellStyleFill(color='aliceblue')]), StyleInfo(locname=LocBody(columns=['m', 'k', 'b'], rows=None, mask=None), grpname=None, colname='b', rownum=8, colnum=None, styles=[CellStyleFill(color='aliceblue')]), StyleInfo(locname=LocBody(columns=['m', 'k', 'b'], rows=None, mask=None), grpname=None, colname='b', rownum=9, colnum=None, styles=[CellStyleFill(color='aliceblue')]), StyleInfo(locname=LocBody(columns='fitness_value', rows=None, mask=None), grpname=None, colname='fitness_value', rownum=0, colnum=None, styles=[CellStyleFill(color='papayawhip')]), StyleInfo(locname=LocBody(columns='fitness_value', rows=None, mask=None), grpname=None, colname='fitness_value', rownum=1, colnum=None, styles=[CellStyleFill(color='papayawhip')]), StyleInfo(locname=LocBody(columns='fitness_value', rows=None, mask=None), grpname=None, colname='fitness_value', rownum=2, colnum=None, styles=[CellStyleFill(color='papayawhip')]), StyleInfo(locname=LocBody(columns='fitness_value', rows=None, mask=None), grpname=None, colname='fitness_value', rownum=3, colnum=None, styles=[CellStyleFill(color='papayawhip')]), StyleInfo(locname=LocBody(columns='fitness_value', rows=None, mask=None), grpname=None, colname='fitness_value', rownum=4, colnum=None, styles=[CellStyleFill(color='papayawhip')]), StyleInfo(locname=LocBody(columns='fitness_value', rows=None, mask=None), grpname=None, colname='fitness_value', rownum=5, colnum=None, styles=[CellStyleFill(color='papayawhip')]), StyleInfo(locname=LocBody(columns='fitness_value', rows=None, mask=None), grpname=None, colname='fitness_value', rownum=6, colnum=None, styles=[CellStyleFill(color='papayawhip')]), StyleInfo(locname=LocBody(columns='fitness_value', rows=None, mask=None), grpname=None, colname='fitness_value', rownum=7, colnum=None, styles=[CellStyleFill(color='papayawhip')]), StyleInfo(locname=LocBody(columns='fitness_value', rows=None, mask=None), grpname=None, colname='fitness_value', rownum=8, colnum=None, styles=[CellStyleFill(color='papayawhip')]), StyleInfo(locname=LocBody(columns='fitness_value', rows=None, mask=None), grpname=None, colname='fitness_value', rownum=9, colnum=None, styles=[CellStyleFill(color='papayawhip')])], _locale=<great_tables._gt_data.Locale object at 0x12ec098b0>, _formats=[<great_tables._gt_data.FormatInfo object at 0x1285972f0>], _substitutions=[], _options=Options(table_id=OptionsInfo(scss=False, category='table', type='value', value=None), table_caption=OptionsInfo(scss=False, category='table', type='value', value=None), table_width=OptionsInfo(scss=True, category='table', type='px', value='auto'), table_layout=OptionsInfo(scss=True, category='table', type='value', value='fixed'), table_margin_left=OptionsInfo(scss=True, category='table', type='px', value='auto'), table_margin_right=OptionsInfo(scss=True, category='table', type='px', value='auto'), table_background_color=OptionsInfo(scss=True, category='table', type='value', value='#FFFFFF'), table_additional_css=OptionsInfo(scss=False, category='table', type='values', value=[]), table_font_names=OptionsInfo(scss=False, category='table', type='values', value=['-apple-system', 'BlinkMacSystemFont', 'Segoe UI', 'Roboto', 'Oxygen', 'Ubuntu', 'Cantarell', 'Helvetica Neue', 'Fira Sans', 'Droid Sans', 'Arial', 'sans-serif']), table_font_size=OptionsInfo(scss=True, category='table', type='px', value='16px'), table_font_weight=OptionsInfo(scss=True, category='table', type='value', value='normal'), table_font_style=OptionsInfo(scss=True, category='table', type='value', value='normal'), table_font_color=OptionsInfo(scss=True, category='table', type='value', value='#333333'), table_font_color_light=OptionsInfo(scss=True, category='table', type='value', value='#FFFFFF'), table_border_top_include=OptionsInfo(scss=False, category='table', type='boolean', value=True), table_border_top_style=OptionsInfo(scss=True, category='table', type='value', value='solid'), table_border_top_width=OptionsInfo(scss=True, category='table', type='px', value='2px'), table_border_top_color=OptionsInfo(scss=True, category='table', type='value', value='#A8A8A8'), table_border_right_style=OptionsInfo(scss=True, category='table', type='value', value='none'), table_border_right_width=OptionsInfo(scss=True, category='table', type='px', value='2px'), table_border_right_color=OptionsInfo(scss=True, category='table', type='value', value='#D3D3D3'), table_border_bottom_include=OptionsInfo(scss=False, category='table', type='boolean', value=True), table_border_bottom_style=OptionsInfo(scss=True, category='table', type='value', value='solid'), table_border_bottom_width=OptionsInfo(scss=True, category='table', type='px', value='2px'), table_border_bottom_color=OptionsInfo(scss=True, category='table', type='value', value='#A8A8A8'), table_border_left_style=OptionsInfo(scss=True, category='table', type='value', value='none'), table_border_left_width=OptionsInfo(scss=True, category='table', type='px', value='2px'), table_border_left_color=OptionsInfo(scss=True, category='table', type='value', value='#D3D3D3'), heading_background_color=OptionsInfo(scss=True, category='heading', type='value', value=None), heading_align=OptionsInfo(scss=True, category='heading', type='value', value='center'), heading_title_font_size=OptionsInfo(scss=True, category='heading', type='px', value='125%'), heading_title_font_weight=OptionsInfo(scss=True, category='heading', type='value', value='initial'), heading_subtitle_font_size=OptionsInfo(scss=True, category='heading', type='px', value='85%'), heading_subtitle_font_weight=OptionsInfo(scss=True, category='heading', type='value', value='initial'), heading_padding=OptionsInfo(scss=True, category='heading', type='px', value='4px'), heading_padding_horizontal=OptionsInfo(scss=True, category='heading', type='px', value='5px'), heading_border_bottom_style=OptionsInfo(scss=True, category='heading', type='value', value='solid'), heading_border_bottom_width=OptionsInfo(scss=True, category='heading', type='px', value='2px'), heading_border_bottom_color=OptionsInfo(scss=True, category='heading', type='value', value='#D3D3D3'), heading_border_lr_style=OptionsInfo(scss=True, category='heading', type='value', value='none'), heading_border_lr_width=OptionsInfo(scss=True, category='heading', type='px', value='1px'), heading_border_lr_color=OptionsInfo(scss=True, category='heading', type='value', value='#D3D3D3'), column_labels_background_color=OptionsInfo(scss=True, category='column_labels', type='value', value=None), column_labels_font_size=OptionsInfo(scss=True, category='column_labels', type='px', value='100%'), column_labels_font_weight=OptionsInfo(scss=True, category='column_labels', type='value', value='normal'), column_labels_text_transform=OptionsInfo(scss=True, category='column_labels', type='value', value='inherit'), column_labels_padding=OptionsInfo(scss=True, category='column_labels', type='px', value='5px'), column_labels_padding_horizontal=OptionsInfo(scss=True, category='column_labels', type='px', value='5px'), column_labels_vlines_style=OptionsInfo(scss=True, category='table_body', type='value', value='none'), column_labels_vlines_width=OptionsInfo(scss=True, category='table_body', type='px', value='1px'), column_labels_vlines_color=OptionsInfo(scss=True, category='table_body', type='value', value='#D3D3D3'), column_labels_border_top_style=OptionsInfo(scss=True, category='column_labels', type='value', value='solid'), column_labels_border_top_width=OptionsInfo(scss=True, category='column_labels', type='px', value='2px'), column_labels_border_top_color=OptionsInfo(scss=True, category='column_labels', type='value', value='#D3D3D3'), column_labels_border_bottom_style=OptionsInfo(scss=True, category='column_labels', type='value', value='solid'), column_labels_border_bottom_width=OptionsInfo(scss=True, category='column_labels', type='px', value='2px'), column_labels_border_bottom_color=OptionsInfo(scss=True, category='column_labels', type='value', value='#D3D3D3'), column_labels_border_lr_style=OptionsInfo(scss=True, category='column_labels', type='value', value='none'), column_labels_border_lr_width=OptionsInfo(scss=True, category='column_labels', type='px', value='1px'), column_labels_border_lr_color=OptionsInfo(scss=True, category='column_labels', type='value', value='#D3D3D3'), column_labels_hidden=OptionsInfo(scss=False, category='column_labels', type='boolean', value=False), row_group_background_color=OptionsInfo(scss=True, category='row_group', type='value', value=None), row_group_font_size=OptionsInfo(scss=True, category='row_group', type='px', value='100%'), row_group_font_weight=OptionsInfo(scss=True, category='row_group', type='value', value='initial'), row_group_text_transform=OptionsInfo(scss=True, category='row_group', type='value', value='inherit'), row_group_padding=OptionsInfo(scss=True, category='row_group', type='px', value='8px'), row_group_padding_horizontal=OptionsInfo(scss=True, category='row_group', type='px', value='5px'), row_group_border_top_style=OptionsInfo(scss=True, category='row_group', type='value', value='solid'), row_group_border_top_width=OptionsInfo(scss=True, category='row_group', type='px', value='2px'), row_group_border_top_color=OptionsInfo(scss=True, category='row_group', type='value', value='#D3D3D3'), row_group_border_right_style=OptionsInfo(scss=True, category='row_group', type='value', value='none'), row_group_border_right_width=OptionsInfo(scss=True, category='row_group', type='px', value='1px'), row_group_border_right_color=OptionsInfo(scss=True, category='row_group', type='value', value='#D3D3D3'), row_group_border_bottom_style=OptionsInfo(scss=True, category='row_group', type='value', value='solid'), row_group_border_bottom_width=OptionsInfo(scss=True, category='row_group', type='px', value='2px'), row_group_border_bottom_color=OptionsInfo(scss=True, category='row_group', type='value', value='#D3D3D3'), row_group_border_left_style=OptionsInfo(scss=True, category='row_group', type='value', value='none'), row_group_border_left_width=OptionsInfo(scss=True, category='row_group', type='px', value='1px'), row_group_border_left_color=OptionsInfo(scss=True, category='row_group', type='value', value='#D3D3D3'), row_group_as_column=OptionsInfo(scss=False, category='row_group', type='boolean', value=False), table_body_hlines_style=OptionsInfo(scss=True, category='table_body', type='value', value='solid'), table_body_hlines_width=OptionsInfo(scss=True, category='table_body', type='px', value='1px'), table_body_hlines_color=OptionsInfo(scss=True, category='table_body', type='value', value='#D3D3D3'), table_body_vlines_style=OptionsInfo(scss=True, category='table_body', type='value', value='none'), table_body_vlines_width=OptionsInfo(scss=True, category='table_body', type='px', value='1px'), table_body_vlines_color=OptionsInfo(scss=True, category='table_body', type='value', value='#D3D3D3'), table_body_border_top_style=OptionsInfo(scss=True, category='table_body', type='value', value='solid'), table_body_border_top_width=OptionsInfo(scss=True, category='table_body', type='px', value='2px'), table_body_border_top_color=OptionsInfo(scss=True, category='table_body', type='value', value='#D3D3D3'), table_body_border_bottom_style=OptionsInfo(scss=True, category='table_body', type='value', value='solid'), table_body_border_bottom_width=OptionsInfo(scss=True, category='table_body', type='px', value='2px'), table_body_border_bottom_color=OptionsInfo(scss=True, category='table_body', type='value', value='#D3D3D3'), data_row_padding=OptionsInfo(scss=True, category='data_row', type='px', value='8px'), data_row_padding_horizontal=OptionsInfo(scss=True, category='data_row', type='px', value='5px'), stub_background_color=OptionsInfo(scss=True, category='stub', type='value', value=None), stub_font_size=OptionsInfo(scss=True, category='stub', type='px', value='100%'), stub_font_weight=OptionsInfo(scss=True, category='stub', type='value', value='initial'), stub_text_transform=OptionsInfo(scss=True, category='stub', type='value', value='inherit'), stub_border_style=OptionsInfo(scss=True, category='stub', type='value', value='solid'), stub_border_width=OptionsInfo(scss=True, category='stub', type='px', value='2px'), stub_border_color=OptionsInfo(scss=True, category='stub', type='value', value='#D3D3D3'), stub_row_group_background_color=OptionsInfo(scss=True, category='stub', type='value', value=None), stub_row_group_font_size=OptionsInfo(scss=True, category='stub', type='px', value='100%'), stub_row_group_font_weight=OptionsInfo(scss=True, category='stub', type='value', value='initial'), stub_row_group_text_transform=OptionsInfo(scss=True, category='stub', type='value', value='inherit'), stub_row_group_border_style=OptionsInfo(scss=True, category='stub', type='value', value='solid'), stub_row_group_border_width=OptionsInfo(scss=True, category='stub', type='px', value='2px'), stub_row_group_border_color=OptionsInfo(scss=True, category='stub', type='value', value='#D3D3D3'), source_notes_padding=OptionsInfo(scss=True, category='source_notes', type='px', value='4px'), source_notes_padding_horizontal=OptionsInfo(scss=True, category='source_notes', type='px', value='5px'), source_notes_background_color=OptionsInfo(scss=True, category='source_notes', type='value', value=None), source_notes_font_size=OptionsInfo(scss=True, category='source_notes', type='px', value='90%'), source_notes_border_bottom_style=OptionsInfo(scss=True, category='source_notes', type='value', value='none'), source_notes_border_bottom_width=OptionsInfo(scss=True, category='source_notes', type='px', value='2px'), source_notes_border_bottom_color=OptionsInfo(scss=True, category='source_notes', type='value', value='#D3D3D3'), source_notes_border_lr_style=OptionsInfo(scss=True, category='source_notes', type='value', value='none'), source_notes_border_lr_width=OptionsInfo(scss=True, category='source_notes', type='px', value='2px'), source_notes_border_lr_color=OptionsInfo(scss=True, category='source_notes', type='value', value='#D3D3D3'), source_notes_multiline=OptionsInfo(scss=False, category='source_notes', type='boolean', value=True), source_notes_sep=OptionsInfo(scss=False, category='source_notes', type='value', value=' '), row_striping_background_color=OptionsInfo(scss=True, category='row', type='value', value='rgba(128,128,128,0.05)'), row_striping_include_stub=OptionsInfo(scss=False, category='row', type='boolean', value=False), row_striping_include_table_body=OptionsInfo(scss=False, category='row', type='boolean', value=False), container_width=OptionsInfo(scss=False, category='container', type='px', value='auto'), container_height=OptionsInfo(scss=False, category='container', type='px', value='auto'), container_padding_x=OptionsInfo(scss=False, category='container', type='px', value='0px'), container_padding_y=OptionsInfo(scss=False, category='container', type='px', value='10px'), container_overflow_x=OptionsInfo(scss=False, category='container', type='overflow', value='auto'), container_overflow_y=OptionsInfo(scss=False, category='container', type='overflow', value='auto'), quarto_disable_processing=OptionsInfo(scss=False, category='quarto', type='logical', value=False), quarto_use_bootstrap=OptionsInfo(scss=False, category='quarto', type='logical', value=False)), _has_built=False)"
      ]
     },
     "execution_count": 132,
     "metadata": {},
     "output_type": "execute_result"
    }
   ],
   "source": [
    "tabla = (\n",
    "    GT(last_10)\n",
    "    .tab_header(\n",
    "        title = \"Diez últimos puntos del GA\",\n",
    "    )\n",
    "    .cols_label(k = \"k\", b = \"b\", fitness_value = \"Fitness\")\n",
    "    .fmt_number(columns = list(last_10.columns), decimals = 4)\n",
    "\n",
    "    .tab_style(style = style.fill(color = \"aliceblue\"),  locations = loc.body(columns = [\"m\", \"k\", \"b\"]))\n",
    "    .tab_style(style = style.fill(color = \"papayawhip\"), locations=loc.body(columns = \"fitness_value\"))\n",
    "\n",
    ")\n",
    "\n",
    "tabla\n"
   ]
  },
  {
   "cell_type": "code",
   "execution_count": 126,
   "metadata": {},
   "outputs": [],
   "source": [
    "best_overall.sort(key = lambda value: value[1], reverse = True)\n",
    "best_m, best_k, best_b = best_overall[0][0]"
   ]
  },
  {
   "cell_type": "code",
   "execution_count": 127,
   "metadata": {},
   "outputs": [
    {
     "name": "stdout",
     "output_type": "stream",
     "text": [
      "Best values of m = 1.6143, k = 8.6036, b = 1.7110\n"
     ]
    }
   ],
   "source": [
    "print(f\"Best values of m = {best_m:.4f}, k = {best_k:.4f}, b = {best_b:.4f}\")"
   ]
  },
  {
   "cell_type": "markdown",
   "metadata": {},
   "source": [
    "## Graphs of the points and the final identified system"
   ]
  },
  {
   "cell_type": "code",
   "execution_count": 128,
   "metadata": {},
   "outputs": [],
   "source": [
    "dt = t_values[1] - t_values[0]\n",
    "\n",
    "position = y_values[0]\n",
    "velocity = (y_values[1] - y_values[0]) / dt\n",
    "\n",
    "y_simulated = []\n",
    "force = 5\n",
    "\n",
    "for _ in range(len(t_values)):\n",
    "    acceleration = -(best_b*velocity + best_k*position - force) / best_m\n",
    "    velocity += acceleration * dt\n",
    "    position += velocity * dt\n",
    "    y_simulated.append(position)\n",
    "\n",
    "y_simulated = np.array(y_simulated)\n",
    "error = np.mean(np.abs(y_simulated - y_values))"
   ]
  },
  {
   "cell_type": "code",
   "execution_count": 129,
   "metadata": {},
   "outputs": [
    {
     "data": {
      "application/vnd.plotly.v1+json": {
       "config": {
        "plotlyServerURL": "https://plot.ly"
       },
       "data": [
        {
         "mode": "lines",
         "name": "approximation",
         "type": "scatter",
         "x": {
          "bdata": "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",
          "dtype": "f8"
         },
         "y": {
          "bdata": "uprE54MtcT9mP6TFOZiGPwwzKyJ645Q/xLYSZkR4oD9szCCkLqinPyIQyMUl768/s28spgidtD+LLYP+mbq5P6p6RLskRr8/OGUE36iawj/EUPS00b7FPyuLPOZBCsk/dYqkOKl3zD9kQmN03ADQP5idpRSV0dE/P22rMWKr0z/gEDmZsYvVP6YAXwv+b9c/tZFi7NFV2T9EyWLNyTrbP40i6smWHN0/FQjiuAD53j9aLdAX9GbgP7wzBSukTOE/WGmFRZws4j/xe2zs9gXjP8HiZxze1+M/3PZn04uh5D9EkjKCSmLlP/bqD2Z1GeY/EwfmynjG5j+ChTE20mjnPyl1Y3sQAOg/PoBDutOL6D9YuAtIzQvpP7rDB4S/f+k/qwCUmH3n6T+AXmop60LqP48lOvD7keo/oaqVSLPU6j8o9EysIwvrPz+nViFuNes/NClxmsFT6z/iw6xLWmbrP6DMFPSAbes/llaxHYpp6z/c4hxV1VrrP+3V6VnMQes/CkcSSeIe6z8xEarCkvLqP6D1Bgxhveo/CC6NL9d/6j97EkgbhTrqP0KHbr//7ek/F9XpLeCa6T/2buu7wkHpP+gQkyZG4+g/jaiauwqA6D+asPCGsRjoP18qHIbbrec/GUI34ihA5z/lAj8xONDmPwtkZ7+lXuY/SYET4Qrs5T/1EAJO/XjlP6g6LoYOBuU/G+XUQMuT5D+Kfv7luiLkP0883RJfs+M/5uc/KTNG4z+/m0nqq9viP9Rijxw3dOI/4ZOtPTsQ4j8wDFg/F7DhP/ss2k8iVOE/mr/trav84D98tMKH+qngP1MbBeVNXOA/McKim9wT4D+wTg2eqqHfP3O86/K8Jt8//XVf/iy33j+IHdSVJ1PePxX9c+bJ+t0/vBbl0CGu3T9AfPZULm3dP3EsNwzgN90/mLFlshkO3T/LWp+6sO/cP6AnL/Bt3Nw/blXXIQ7U3D9a6GzWQtbcP3eAmgmz4tw/JUKf7/v43D/1hN++sRjdP91QH35gQd0/rF9C1oxy3T9wUXLmtKvdP6z0kRlR7N0/sd3r+9Qz3j84+BIQsIHeP54w9aFO1d4/tLIqlxou3z+8dpc7fIvfPx/VgAnb7N8/scQiNs8o4D/063k+l1zgP06tA1x6keA/thzTVS7H4D/KF+JOav3gP29Q0BTnM+E/+goSal9q4T8TVFhLkKDhPx8QBDA51uE/7N58RRwL4j9tWUyl/j7iP7Cj5YWoceI/X6IIZuWi4j8XUbcyhNLiP+61umdXAOM/sbe7KjUs4z/WqPpg91XjP/qitr97feM/D9Bb16Oi4z9RcpUZVcXjP/HdZdp45eM/NKNrTPwC5D8D2n940B3kP6/V3TDqNeQ/j34IAEJL5D9TJaUT1F3kP+TXhiOgbeQ/5BAoVal65D/VCNMb9oTkP7f6uhWQjOQ/flZK5oOR5D/QIusN4ZPkP8u2j7+5k+Q/Fn5CtCKR5D9RpwP9MozkPyJyO9MDheQ/UlEHaLB75D8+QqeyVXDkP+WYTz4SY+Q/9hKi9wVU5D+YUA/6UUPkP5fbX10YMeQ/trGhA3wd5D/K2bRnoAjkP8nprmyp8uM/+pJKLrvb4z8jTpXS+cPjP6AgCl2Jq+M/FzJFg42S4z/mjXiDKXnjP3T4xvx/X+M/QTymybJF4z/LwWbc4ivjP+qs+h0wEuM/th4TT7n44j85oabrm9/iPwgu8BD0xuI/E7fyZdyu4j9MnYkGbpfiPxIXC3HAgOI/VDR+dulq4j9+82It/VXiP4O7B+cNQuI//49kJywv4j/DdnGfZh3iPwPN6inKDOI/q7dzymH94T9PcASvNu/hPyLwjzNQ4uE/J2bK57PW4T8w/veWZczhP3bEqVFnw+E/JuZMebm74T+SMm/NWrXhPyeTmnpIsOE/hTGoKn6s4T8kM2sW9qnhPx1QkhipqOE/bhafwY6o4T9OY9FsnanhPxWA5VXKq+E/V16Drwmv4T/SpT26TrPhPy6l/9uLuOE/bLrJt7K+4T+Ub5xFtMXhP7VRc+qAzeE/jHExkAjW4T8PhGK9Ot/hP227tKwG6eE/kKwQZFvz4T925zXLJ/7hP45PxMFaCeI/F7qbNOMU4j8Z4XwysCDiP35P2P+wLOI/lYu5KdU44j+7br6XDEXiP4VIDJ1HUeI/fR82CHdd4j/FFgkyjGniPw+1NQt5deI/wHvOKDCB4j8P65XPpIziP3S3F/7Kl+I/AJSKdZei4j9winnB/6ziP1pjNT76tuI/Vx0QHn7A4j/M32Vtg8niP/QzeBUD0uI/vZsh3vbZ4j/E2GhuWeHiP4Nd/Esm6OI/mnaf2Vnu4j9uuZNU8fPiP20vCtHq+OI/7YmoNUX94j8jaS82AAHjPy5pT00cBOM/dTq7tZoG4z9zhoVifQjjP/XH2fbGCeM/po0fvXoK4z8M2JednArjPzxphBQxCuM/1uzoJz0J4z8p2/VcxgfjPyHjLK3SBeM/rnxOe2gD4z9wCSCIjgDjP32cGedL/eI/+iQK86f54j/pSsBCqvXiPwzTxZ1a8eI/H9c68cDs4j/Wi91E5efiP3CvSrDP4uI/CROCUIjd4j+H/7k9F9jiPw1+i4GE0uI/gcyADdjM4j/ggQ6yGcfiPy0d/xVRweI/sO1XroW74j/9dL22vrXiPzmUXCoDsOI/2AZdvVmq4j8f3+DWyKTiP5Xsk4tWn+I/cyvNmAia4j+/lkNg5JTiPx32VuTuj+I/9YTsxCyL4j9rm948oobiP0vT/R9TguI/Cnyh2UJ+4j8kksRrdHriP5jXq27qduI/2R0REadz4j98Tc8YrHDiP2U9CuT6beI/5frMapRr4j/0vRhBeWniP9FoXpmpZ+I/BSFcRyVm4j/ZSFjD62TiPxbksi38Y+I/F0HGUlVj4j/Ilw+v9WLiPx8zmHPbYuI/fKaXigRj4j83h0ecbmPiP/wi4RMXZOI/PrW9JPtk4j+VsJHPF2biPwbMu+dpZ+I/b6egGO5o4j9iBQzroGriP+TKkMp+bOI/ty7hCoRu4j8PwRjtrHDiP+E58qT1cuI/SUbjXVp14j/S3BhA13fiP8vzTnVoeuI/4st+LQp94j+XW1+juH/iP+DEsyBwguI/TB1kAi2F4j99MV2864fiP01ONN2oiuI/GXyMEWGN4j+5+jonEZDiP4AuKRC2kuI/VI/y5EyV4j+Mij3n0pfiP/qlzoNFmuI/MY5VVKKc4j84E/Qg557iPy5tf+ERoeI/aXV8viCj4j9P0NcREqXiP/lPW2fkpuI/nB/ifJao4j9Pi01CJ6riPxF3PNmVq+I/mNKHlOGs4j91jYb3Ca7iPy/AG7UOr+I/S+uRru+v4j9wVEbyrLDiPy+sJ7pGseI/P0QLar2x4j9TNtyNEbLiPxXvp9dDsuI/TJ+LHVWy4j8GH4ZXRrLiP4XTMZ0YsuI/VilqI82x4j/rL+A5ZbHiP/bboUjisOI/e2mXzUWw4j9tRvpZka/iP8vayI/GruI/7Gs6H+et4j8UPjbE9KziP9j50EPxq+I/bjrTad6q4j8yB0wGvqniP2PVMeuRqOI/6IcU6lun4j/tueLRHabiP5Z2xGzZpOI/MFQNfpCj4j+AvEfARKLiPyH+WuP3oOI/xZTNiquf4j+45yRMYZ7iP4uPY60aneI/bwWnI9mb4j/acOURnpriP7wazMdqmeI/7+C+gECY4j8B2fhiIJfiPxInzn4LluI/W+QOzgKV4j9qyYozB5TiPxoqtXoZk+I/HK1oVzqS4j+QBsplapHiP9LcSCqqkOI/UuC9EfqP4j81A6VxWo/iP5ejcojLjuI/m2MCfk2O4j8yVR5k4I3iP4MMHTeEjeI/TxuV3jiN4j9baSQu/oziPyTSSebTjOI/hGZPtbmM4j/FqUM4r4ziP50cAPyzjOI/7mU7fseM4j99aKUu6YziP3SWC3AYjeI/ENeDmVSN4j9fWJz3nI3iP1iujs3wjeI/u6l0Vk+O4j/1W33Gt47iP5fJIEwpj+I/1dpQEaOP4j+IKKY8JJDiP6pUh/KrkOI/nq5JVjmR4j8n9kmLy5HiPx4j/LVhkuI/Jyzx/PqS4j8429GJlpPiP/7TTYozlOI/wAX+MNGU4j8n2Dm2bpXiP1143lgLluI/9MEHX6aW4j/9VLoWP5fiP4qAftbUl+I/Vr7r/WaY4j+DkST29JjiPwavQjJ+meI/nmqzLwKa4j+sdoR2gJriPysYoZn4muI/JwIAN2qb4j9PHcL31JviP66QQpA4nOI/CHAYwJSc4j/kggpS6ZziP7Ok9Rs2neI//Uqm/nqd4j/cyaXlt53iP0P5+8bsneI/w+blohme4j96R4KDPp7iP85kdHxbnuI/WkR+qnCe4j8f0BIzfp7iP6rH4EOEnuI/UUVXEoOe4j8vpCTbep7iP9eTsOFrnuI/NyaSb1ae4j+NogLUOp7iP83lTWMZnuI/hxVBdvKd4j8ZZphpxp3iPwWwbJ2VneI/e4qhdGCd4j+zmlRUJ53iP6XATqPqnOI/BsJ3yaqc4j8qDE0vaJziP9UcXD0jnOI/4BjBW9yb4j8tDqrxk5viP5dU32RKm+I/mXdRGQCb4j8wCK1wtZriPyas9MlqmuI/j7UhgSCa4j/Tgsvu1pniPy7d1WeOmeI/SoEmPUeZ4j9B82G7AZniP2q1ryq+mOI/Vu+FznyY4j/oiHzlPZjiPxS0J6kBmOI/zNb5TciX4j8XviwDkpfiP/f6sfJel+I/+kEqQS+X4j/unuMNA5fiPztH3nLaluI/7c7XhLWW4j+PflxTlJbiP3yC3uh2luI/UafSSl2W4j/VUtJ5R5biP71kwnE1luI/Uqf+KSeW4j9FdYmVHJbiP443P6MVluI/jlwNPhKW4j9UaCxNEpbiPy69XLQVluI/YrslVByW4j8o1xYKJpbiP6lECrEyluI/2NpoIUKW4j+Xz24xVJbiP3TxcLVoluI/rAUigH+W4j/B89dimJbiP/xq0C2zluI/gLF0sM+W4j8gUJy57ZbiPxlSzhcNl+I/0NOAmS2X4j8LoFYNT5fiP3+fWkJxl+I/PeM4CJSX4j8nF3Uvt5fiP4Iunonal+I/hCF/6f2X4j+2l0wjIZjiP/pfzwxEmOI/35uLfWaY4j/uiOROiJjiP2LXPFypmOI/koITg8mY4j/xIx2j6JjiPzC+WZ4GmeI/ZwInWSOZ4j9/FU+6PpniPzPgE6tYmeI/5vc2F3GZ4j9XMv7sh5niP7f5NB2dmeI//nkqm7CZ4j91w6xcwpniP0QBAVrSmeI/buXYjeCZ4j8TbkX17JniPw==",
          "dtype": "f8"
         }
        },
        {
         "mode": "lines",
         "name": "real values",
         "type": "scatter",
         "x": {
          "bdata": "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",
          "dtype": "f8"
         },
         "y": {
          "bdata": "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",
          "dtype": "f8"
         }
        }
       ],
       "layout": {
        "template": {
         "data": {
          "bar": [
           {
            "error_x": {
             "color": "#f2f5fa"
            },
            "error_y": {
             "color": "#f2f5fa"
            },
            "marker": {
             "line": {
              "color": "rgb(17,17,17)",
              "width": 0.5
             },
             "pattern": {
              "fillmode": "overlay",
              "size": 10,
              "solidity": 0.2
             }
            },
            "type": "bar"
           }
          ],
          "barpolar": [
           {
            "marker": {
             "line": {
              "color": "rgb(17,17,17)",
              "width": 0.5
             },
             "pattern": {
              "fillmode": "overlay",
              "size": 10,
              "solidity": 0.2
             }
            },
            "type": "barpolar"
           }
          ],
          "carpet": [
           {
            "aaxis": {
             "endlinecolor": "#A2B1C6",
             "gridcolor": "#506784",
             "linecolor": "#506784",
             "minorgridcolor": "#506784",
             "startlinecolor": "#A2B1C6"
            },
            "baxis": {
             "endlinecolor": "#A2B1C6",
             "gridcolor": "#506784",
             "linecolor": "#506784",
             "minorgridcolor": "#506784",
             "startlinecolor": "#A2B1C6"
            },
            "type": "carpet"
           }
          ],
          "choropleth": [
           {
            "colorbar": {
             "outlinewidth": 0,
             "ticks": ""
            },
            "type": "choropleth"
           }
          ],
          "contour": [
           {
            "colorbar": {
             "outlinewidth": 0,
             "ticks": ""
            },
            "colorscale": [
             [
              0,
              "#0d0887"
             ],
             [
              0.1111111111111111,
              "#46039f"
             ],
             [
              0.2222222222222222,
              "#7201a8"
             ],
             [
              0.3333333333333333,
              "#9c179e"
             ],
             [
              0.4444444444444444,
              "#bd3786"
             ],
             [
              0.5555555555555556,
              "#d8576b"
             ],
             [
              0.6666666666666666,
              "#ed7953"
             ],
             [
              0.7777777777777778,
              "#fb9f3a"
             ],
             [
              0.8888888888888888,
              "#fdca26"
             ],
             [
              1,
              "#f0f921"
             ]
            ],
            "type": "contour"
           }
          ],
          "contourcarpet": [
           {
            "colorbar": {
             "outlinewidth": 0,
             "ticks": ""
            },
            "type": "contourcarpet"
           }
          ],
          "heatmap": [
           {
            "colorbar": {
             "outlinewidth": 0,
             "ticks": ""
            },
            "colorscale": [
             [
              0,
              "#0d0887"
             ],
             [
              0.1111111111111111,
              "#46039f"
             ],
             [
              0.2222222222222222,
              "#7201a8"
             ],
             [
              0.3333333333333333,
              "#9c179e"
             ],
             [
              0.4444444444444444,
              "#bd3786"
             ],
             [
              0.5555555555555556,
              "#d8576b"
             ],
             [
              0.6666666666666666,
              "#ed7953"
             ],
             [
              0.7777777777777778,
              "#fb9f3a"
             ],
             [
              0.8888888888888888,
              "#fdca26"
             ],
             [
              1,
              "#f0f921"
             ]
            ],
            "type": "heatmap"
           }
          ],
          "histogram": [
           {
            "marker": {
             "pattern": {
              "fillmode": "overlay",
              "size": 10,
              "solidity": 0.2
             }
            },
            "type": "histogram"
           }
          ],
          "histogram2d": [
           {
            "colorbar": {
             "outlinewidth": 0,
             "ticks": ""
            },
            "colorscale": [
             [
              0,
              "#0d0887"
             ],
             [
              0.1111111111111111,
              "#46039f"
             ],
             [
              0.2222222222222222,
              "#7201a8"
             ],
             [
              0.3333333333333333,
              "#9c179e"
             ],
             [
              0.4444444444444444,
              "#bd3786"
             ],
             [
              0.5555555555555556,
              "#d8576b"
             ],
             [
              0.6666666666666666,
              "#ed7953"
             ],
             [
              0.7777777777777778,
              "#fb9f3a"
             ],
             [
              0.8888888888888888,
              "#fdca26"
             ],
             [
              1,
              "#f0f921"
             ]
            ],
            "type": "histogram2d"
           }
          ],
          "histogram2dcontour": [
           {
            "colorbar": {
             "outlinewidth": 0,
             "ticks": ""
            },
            "colorscale": [
             [
              0,
              "#0d0887"
             ],
             [
              0.1111111111111111,
              "#46039f"
             ],
             [
              0.2222222222222222,
              "#7201a8"
             ],
             [
              0.3333333333333333,
              "#9c179e"
             ],
             [
              0.4444444444444444,
              "#bd3786"
             ],
             [
              0.5555555555555556,
              "#d8576b"
             ],
             [
              0.6666666666666666,
              "#ed7953"
             ],
             [
              0.7777777777777778,
              "#fb9f3a"
             ],
             [
              0.8888888888888888,
              "#fdca26"
             ],
             [
              1,
              "#f0f921"
             ]
            ],
            "type": "histogram2dcontour"
           }
          ],
          "mesh3d": [
           {
            "colorbar": {
             "outlinewidth": 0,
             "ticks": ""
            },
            "type": "mesh3d"
           }
          ],
          "parcoords": [
           {
            "line": {
             "colorbar": {
              "outlinewidth": 0,
              "ticks": ""
             }
            },
            "type": "parcoords"
           }
          ],
          "pie": [
           {
            "automargin": true,
            "type": "pie"
           }
          ],
          "scatter": [
           {
            "marker": {
             "line": {
              "color": "#283442"
             }
            },
            "type": "scatter"
           }
          ],
          "scatter3d": [
           {
            "line": {
             "colorbar": {
              "outlinewidth": 0,
              "ticks": ""
             }
            },
            "marker": {
             "colorbar": {
              "outlinewidth": 0,
              "ticks": ""
             }
            },
            "type": "scatter3d"
           }
          ],
          "scattercarpet": [
           {
            "marker": {
             "colorbar": {
              "outlinewidth": 0,
              "ticks": ""
             }
            },
            "type": "scattercarpet"
           }
          ],
          "scattergeo": [
           {
            "marker": {
             "colorbar": {
              "outlinewidth": 0,
              "ticks": ""
             }
            },
            "type": "scattergeo"
           }
          ],
          "scattergl": [
           {
            "marker": {
             "line": {
              "color": "#283442"
             }
            },
            "type": "scattergl"
           }
          ],
          "scattermap": [
           {
            "marker": {
             "colorbar": {
              "outlinewidth": 0,
              "ticks": ""
             }
            },
            "type": "scattermap"
           }
          ],
          "scattermapbox": [
           {
            "marker": {
             "colorbar": {
              "outlinewidth": 0,
              "ticks": ""
             }
            },
            "type": "scattermapbox"
           }
          ],
          "scatterpolar": [
           {
            "marker": {
             "colorbar": {
              "outlinewidth": 0,
              "ticks": ""
             }
            },
            "type": "scatterpolar"
           }
          ],
          "scatterpolargl": [
           {
            "marker": {
             "colorbar": {
              "outlinewidth": 0,
              "ticks": ""
             }
            },
            "type": "scatterpolargl"
           }
          ],
          "scatterternary": [
           {
            "marker": {
             "colorbar": {
              "outlinewidth": 0,
              "ticks": ""
             }
            },
            "type": "scatterternary"
           }
          ],
          "surface": [
           {
            "colorbar": {
             "outlinewidth": 0,
             "ticks": ""
            },
            "colorscale": [
             [
              0,
              "#0d0887"
             ],
             [
              0.1111111111111111,
              "#46039f"
             ],
             [
              0.2222222222222222,
              "#7201a8"
             ],
             [
              0.3333333333333333,
              "#9c179e"
             ],
             [
              0.4444444444444444,
              "#bd3786"
             ],
             [
              0.5555555555555556,
              "#d8576b"
             ],
             [
              0.6666666666666666,
              "#ed7953"
             ],
             [
              0.7777777777777778,
              "#fb9f3a"
             ],
             [
              0.8888888888888888,
              "#fdca26"
             ],
             [
              1,
              "#f0f921"
             ]
            ],
            "type": "surface"
           }
          ],
          "table": [
           {
            "cells": {
             "fill": {
              "color": "#506784"
             },
             "line": {
              "color": "rgb(17,17,17)"
             }
            },
            "header": {
             "fill": {
              "color": "#2a3f5f"
             },
             "line": {
              "color": "rgb(17,17,17)"
             }
            },
            "type": "table"
           }
          ]
         },
         "layout": {
          "annotationdefaults": {
           "arrowcolor": "#f2f5fa",
           "arrowhead": 0,
           "arrowwidth": 1
          },
          "autotypenumbers": "strict",
          "coloraxis": {
           "colorbar": {
            "outlinewidth": 0,
            "ticks": ""
           }
          },
          "colorscale": {
           "diverging": [
            [
             0,
             "#8e0152"
            ],
            [
             0.1,
             "#c51b7d"
            ],
            [
             0.2,
             "#de77ae"
            ],
            [
             0.3,
             "#f1b6da"
            ],
            [
             0.4,
             "#fde0ef"
            ],
            [
             0.5,
             "#f7f7f7"
            ],
            [
             0.6,
             "#e6f5d0"
            ],
            [
             0.7,
             "#b8e186"
            ],
            [
             0.8,
             "#7fbc41"
            ],
            [
             0.9,
             "#4d9221"
            ],
            [
             1,
             "#276419"
            ]
           ],
           "sequential": [
            [
             0,
             "#0d0887"
            ],
            [
             0.1111111111111111,
             "#46039f"
            ],
            [
             0.2222222222222222,
             "#7201a8"
            ],
            [
             0.3333333333333333,
             "#9c179e"
            ],
            [
             0.4444444444444444,
             "#bd3786"
            ],
            [
             0.5555555555555556,
             "#d8576b"
            ],
            [
             0.6666666666666666,
             "#ed7953"
            ],
            [
             0.7777777777777778,
             "#fb9f3a"
            ],
            [
             0.8888888888888888,
             "#fdca26"
            ],
            [
             1,
             "#f0f921"
            ]
           ],
           "sequentialminus": [
            [
             0,
             "#0d0887"
            ],
            [
             0.1111111111111111,
             "#46039f"
            ],
            [
             0.2222222222222222,
             "#7201a8"
            ],
            [
             0.3333333333333333,
             "#9c179e"
            ],
            [
             0.4444444444444444,
             "#bd3786"
            ],
            [
             0.5555555555555556,
             "#d8576b"
            ],
            [
             0.6666666666666666,
             "#ed7953"
            ],
            [
             0.7777777777777778,
             "#fb9f3a"
            ],
            [
             0.8888888888888888,
             "#fdca26"
            ],
            [
             1,
             "#f0f921"
            ]
           ]
          },
          "colorway": [
           "#636efa",
           "#EF553B",
           "#00cc96",
           "#ab63fa",
           "#FFA15A",
           "#19d3f3",
           "#FF6692",
           "#B6E880",
           "#FF97FF",
           "#FECB52"
          ],
          "font": {
           "color": "#f2f5fa"
          },
          "geo": {
           "bgcolor": "rgb(17,17,17)",
           "lakecolor": "rgb(17,17,17)",
           "landcolor": "rgb(17,17,17)",
           "showlakes": true,
           "showland": true,
           "subunitcolor": "#506784"
          },
          "hoverlabel": {
           "align": "left"
          },
          "hovermode": "closest",
          "mapbox": {
           "style": "dark"
          },
          "paper_bgcolor": "rgb(17,17,17)",
          "plot_bgcolor": "rgb(17,17,17)",
          "polar": {
           "angularaxis": {
            "gridcolor": "#506784",
            "linecolor": "#506784",
            "ticks": ""
           },
           "bgcolor": "rgb(17,17,17)",
           "radialaxis": {
            "gridcolor": "#506784",
            "linecolor": "#506784",
            "ticks": ""
           }
          },
          "scene": {
           "xaxis": {
            "backgroundcolor": "rgb(17,17,17)",
            "gridcolor": "#506784",
            "gridwidth": 2,
            "linecolor": "#506784",
            "showbackground": true,
            "ticks": "",
            "zerolinecolor": "#C8D4E3"
           },
           "yaxis": {
            "backgroundcolor": "rgb(17,17,17)",
            "gridcolor": "#506784",
            "gridwidth": 2,
            "linecolor": "#506784",
            "showbackground": true,
            "ticks": "",
            "zerolinecolor": "#C8D4E3"
           },
           "zaxis": {
            "backgroundcolor": "rgb(17,17,17)",
            "gridcolor": "#506784",
            "gridwidth": 2,
            "linecolor": "#506784",
            "showbackground": true,
            "ticks": "",
            "zerolinecolor": "#C8D4E3"
           }
          },
          "shapedefaults": {
           "line": {
            "color": "#f2f5fa"
           }
          },
          "sliderdefaults": {
           "bgcolor": "#C8D4E3",
           "bordercolor": "rgb(17,17,17)",
           "borderwidth": 1,
           "tickwidth": 0
          },
          "ternary": {
           "aaxis": {
            "gridcolor": "#506784",
            "linecolor": "#506784",
            "ticks": ""
           },
           "baxis": {
            "gridcolor": "#506784",
            "linecolor": "#506784",
            "ticks": ""
           },
           "bgcolor": "rgb(17,17,17)",
           "caxis": {
            "gridcolor": "#506784",
            "linecolor": "#506784",
            "ticks": ""
           }
          },
          "title": {
           "x": 0.05
          },
          "updatemenudefaults": {
           "bgcolor": "#506784",
           "borderwidth": 0
          },
          "xaxis": {
           "automargin": true,
           "gridcolor": "#283442",
           "linecolor": "#506784",
           "ticks": "",
           "title": {
            "standoff": 15
           },
           "zerolinecolor": "#283442",
           "zerolinewidth": 2
          },
          "yaxis": {
           "automargin": true,
           "gridcolor": "#283442",
           "linecolor": "#506784",
           "ticks": "",
           "title": {
            "standoff": 15
           },
           "zerolinecolor": "#283442",
           "zerolinewidth": 2
          }
         }
        },
        "title": {
         "text": "Simulation vs Real Values"
        },
        "xaxis": {
         "title": {
          "text": "Time (s)"
         }
        },
        "yaxis": {
         "title": {
          "text": "Position (mts)"
         }
        }
       }
      }
     },
     "metadata": {},
     "output_type": "display_data"
    }
   ],
   "source": [
    "fig = go.Figure()\n",
    "\n",
    "fig.add_trace(\n",
    "    go.Scatter(\n",
    "        x = t_values,\n",
    "        y = y_simulated,\n",
    "        mode = \"lines\",\n",
    "        name = \"approximation\"\n",
    "    )\n",
    ")\n",
    "\n",
    "fig.add_trace(\n",
    "    go.Scatter(\n",
    "        x = t_values,\n",
    "        y = y_values,\n",
    "        mode = \"lines\",\n",
    "        name = \"real values\"\n",
    "    )\n",
    ")\n",
    "\n",
    "fig.update_layout(\n",
    "    template = \"plotly_dark\",\n",
    "    xaxis = dict(\n",
    "        title = \"Time (s)\"\n",
    "    ),\n",
    "    yaxis = dict(\n",
    "        title = \"Position (mts)\"\n",
    "    ),\n",
    "    title = \"Simulation vs Real Values\"\n",
    ")\n",
    "\n",
    "\n",
    "fig.show()"
   ]
  }
 ],
 "metadata": {
  "kernelspec": {
   "display_name": "Python 3",
   "language": "python",
   "name": "python3"
  },
  "language_info": {
   "codemirror_mode": {
    "name": "ipython",
    "version": 3
   },
   "file_extension": ".py",
   "mimetype": "text/x-python",
   "name": "python",
   "nbconvert_exporter": "python",
   "pygments_lexer": "ipython3",
   "version": "3.13.5"
  }
 },
 "nbformat": 4,
 "nbformat_minor": 2
}
